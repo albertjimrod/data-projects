{
 "cells": [
  {
   "cell_type": "markdown",
   "metadata": {},
   "source": [
    "# Finding the Best Markets to Advertise In\n",
    "\n",
    "\n",
    "![best markets](finding.jpeg)\n",
    "\n",
    "\n",
    "We're working for an an e-learning company that offers courses on programming. Most of our courses are on web and mobile development, but we also cover many other domains, like data science, game development, etc. We want to promote our product and we'd like to invest some money in advertisement. \n",
    "\n",
    "**Our goal in this project is to find out the two best markets to advertise our product in**.\n",
    "\n",
    "To reach our goal, we could organize surveys for a couple of different markets to find out which would the best choices for advertising. This is very costly, however, and it's a good call to explore cheaper options first.\n",
    "\n",
    "We can try to search existing data that might be relevant for our purpose. One good candidate is the data from freeCodeCamp's 2017 New Coder Survey. Because they run a popular Medium publication (over 400,000 followers), their survey attracted new coders with varying interests (not only web development), which is ideal for the purpose of our analysis.\n",
    "\n",
    "The survey data is publicly available in [this GitHub repository](https://github.com/freeCodeCamp/2018-new-coder-survey).\n",
    "\n"
   ]
  },
  {
   "cell_type": "code",
   "execution_count": 1,
   "metadata": {},
   "outputs": [
    {
     "name": "stdout",
     "output_type": "stream",
     "text": [
      "/home/ion/Documentos/albertjimrod/data-projects/06_Probability_and_Statistics/intermediate statistics in python/Project_Finding_the_best_markets_to_advertise_in\n"
     ]
    }
   ],
   "source": [
    "! pwd"
   ]
  },
  {
   "cell_type": "code",
   "execution_count": 2,
   "metadata": {},
   "outputs": [],
   "source": [
    "# load libraries\n",
    "import pandas as pd\n",
    "import numpy as np\n",
    "import chardet\n",
    "import re"
   ]
  },
  {
   "cell_type": "code",
   "execution_count": 3,
   "metadata": {},
   "outputs": [],
   "source": [
    "#%%time\n",
    "# checking dataset with the Universal Character Encoding Detector\n",
    "#with open(\"2018-new-coder-survey.csv\", \"rb\") as file:\n",
    "#    print(chardet.detect(file.read()))"
   ]
  },
  {
   "cell_type": "code",
   "execution_count": 4,
   "metadata": {},
   "outputs": [],
   "source": [
    "coder_survey = pd.read_csv(\"csv/2017-fCC-New-Coders-Survey-Data.csv\",low_memory=False, encoding = 'utf-8' )"
   ]
  },
  {
   "cell_type": "markdown",
   "metadata": {},
   "source": [
    "## Demostracion que el recuento no es lo que parece"
   ]
  },
  {
   "cell_type": "code",
   "execution_count": 5,
   "metadata": {},
   "outputs": [
    {
     "name": "stdout",
     "output_type": "stream",
     "text": [
      "True     86.312929\n",
      "False    13.687071\n",
      "Name: JobRoleInterest, dtype: float64\n"
     ]
    }
   ],
   "source": [
    "maskofficial = coder_survey['JobRoleInterest'].str.contains('[W-w]eb|[M-m]obile') # returns an array of booleans\n",
    "freq_table2 = maskofficial.value_counts(normalize = True) * 100\n",
    "print(freq_table2)"
   ]
  },
  {
   "cell_type": "code",
   "execution_count": 6,
   "metadata": {},
   "outputs": [],
   "source": [
    "#coder_survey.loc[maskofficial,\"JobRoleInterest\"].value_counts().sum()"
   ]
  },
  {
   "cell_type": "code",
   "execution_count": 7,
   "metadata": {},
   "outputs": [
    {
     "name": "stdout",
     "output_type": "stream",
     "text": [
      "<class 'pandas.core.frame.DataFrame'>\n",
      "RangeIndex: 18175 entries, 0 to 18174\n",
      "Columns: 136 entries, Age to YouTubeTheNewBoston\n",
      "dtypes: float64(105), object(31)\n",
      "memory usage: 18.9+ MB\n"
     ]
    }
   ],
   "source": [
    "coder_survey.info()"
   ]
  },
  {
   "cell_type": "code",
   "execution_count": 8,
   "metadata": {},
   "outputs": [
    {
     "data": {
      "text/plain": [
       "float64    105\n",
       "object      31\n",
       "dtype: int64"
      ]
     },
     "execution_count": 8,
     "metadata": {},
     "output_type": "execute_result"
    }
   ],
   "source": [
    "datatype = coder_survey.dtypes\n",
    "datatype_counter = datatype.value_counts()\n",
    "datatype_counter"
   ]
  },
  {
   "cell_type": "markdown",
   "metadata": {},
   "source": [
    " ### Optimizing memory\n",
    " \n",
    " Let's see if we can reduce the memory space of the dataset we are working with."
   ]
  },
  {
   "cell_type": "code",
   "execution_count": 9,
   "metadata": {},
   "outputs": [],
   "source": [
    "for column in coder_survey.columns:\n",
    "    if coder_survey[column].dtype == 'float64': \n",
    "        coder_survey[column] = coder_survey[column].astype('float32')\n",
    "    if coder_survey[column].dtype == 'int64':\n",
    "        coder_survey[column] = coder_survey[column].astype('int32')"
   ]
  },
  {
   "cell_type": "code",
   "execution_count": 10,
   "metadata": {},
   "outputs": [
    {
     "name": "stdout",
     "output_type": "stream",
     "text": [
      "<class 'pandas.core.frame.DataFrame'>\n",
      "RangeIndex: 18175 entries, 0 to 18174\n",
      "Columns: 136 entries, Age to YouTubeTheNewBoston\n",
      "dtypes: float32(105), object(31)\n",
      "memory usage: 11.6+ MB\n"
     ]
    }
   ],
   "source": [
    "coder_survey.info()"
   ]
  },
  {
   "cell_type": "markdown",
   "metadata": {},
   "source": [
    " ❗ The reduction of memory has been almost 39%"
   ]
  },
  {
   "cell_type": "code",
   "execution_count": 11,
   "metadata": {},
   "outputs": [],
   "source": [
    "pd.set_option(\"display.max_columns\", None)"
   ]
  },
  {
   "cell_type": "code",
   "execution_count": 12,
   "metadata": {},
   "outputs": [
    {
     "data": {
      "text/html": [
       "<div>\n",
       "<style scoped>\n",
       "    .dataframe tbody tr th:only-of-type {\n",
       "        vertical-align: middle;\n",
       "    }\n",
       "\n",
       "    .dataframe tbody tr th {\n",
       "        vertical-align: top;\n",
       "    }\n",
       "\n",
       "    .dataframe thead th {\n",
       "        text-align: right;\n",
       "    }\n",
       "</style>\n",
       "<table border=\"1\" class=\"dataframe\">\n",
       "  <thead>\n",
       "    <tr style=\"text-align: right;\">\n",
       "      <th></th>\n",
       "      <th>Age</th>\n",
       "      <th>AttendedBootcamp</th>\n",
       "      <th>BootcampFinish</th>\n",
       "      <th>BootcampLoanYesNo</th>\n",
       "      <th>BootcampName</th>\n",
       "      <th>BootcampRecommend</th>\n",
       "      <th>ChildrenNumber</th>\n",
       "      <th>CityPopulation</th>\n",
       "      <th>CodeEventConferences</th>\n",
       "      <th>CodeEventDjangoGirls</th>\n",
       "      <th>CodeEventFCC</th>\n",
       "      <th>CodeEventGameJam</th>\n",
       "      <th>CodeEventGirlDev</th>\n",
       "      <th>CodeEventHackathons</th>\n",
       "      <th>CodeEventMeetup</th>\n",
       "      <th>CodeEventNodeSchool</th>\n",
       "      <th>CodeEventNone</th>\n",
       "      <th>CodeEventOther</th>\n",
       "      <th>CodeEventRailsBridge</th>\n",
       "      <th>CodeEventRailsGirls</th>\n",
       "      <th>CodeEventStartUpWknd</th>\n",
       "      <th>CodeEventWkdBootcamps</th>\n",
       "      <th>CodeEventWomenCode</th>\n",
       "      <th>CodeEventWorkshops</th>\n",
       "      <th>CommuteTime</th>\n",
       "      <th>CountryCitizen</th>\n",
       "      <th>CountryLive</th>\n",
       "      <th>EmploymentField</th>\n",
       "      <th>EmploymentFieldOther</th>\n",
       "      <th>EmploymentStatus</th>\n",
       "      <th>EmploymentStatusOther</th>\n",
       "      <th>ExpectedEarning</th>\n",
       "      <th>FinanciallySupporting</th>\n",
       "      <th>FirstDevJob</th>\n",
       "      <th>Gender</th>\n",
       "      <th>GenderOther</th>\n",
       "      <th>HasChildren</th>\n",
       "      <th>HasDebt</th>\n",
       "      <th>HasFinancialDependents</th>\n",
       "      <th>HasHighSpdInternet</th>\n",
       "      <th>HasHomeMortgage</th>\n",
       "      <th>HasServedInMilitary</th>\n",
       "      <th>HasStudentDebt</th>\n",
       "      <th>HomeMortgageOwe</th>\n",
       "      <th>HoursLearning</th>\n",
       "      <th>ID.x</th>\n",
       "      <th>ID.y</th>\n",
       "      <th>Income</th>\n",
       "      <th>IsEthnicMinority</th>\n",
       "      <th>IsReceiveDisabilitiesBenefits</th>\n",
       "      <th>IsSoftwareDev</th>\n",
       "      <th>IsUnderEmployed</th>\n",
       "      <th>JobApplyWhen</th>\n",
       "      <th>JobInterestBackEnd</th>\n",
       "      <th>JobInterestDataEngr</th>\n",
       "      <th>JobInterestDataSci</th>\n",
       "      <th>JobInterestDevOps</th>\n",
       "      <th>JobInterestFrontEnd</th>\n",
       "      <th>JobInterestFullStack</th>\n",
       "      <th>JobInterestGameDev</th>\n",
       "      <th>JobInterestInfoSec</th>\n",
       "      <th>JobInterestMobile</th>\n",
       "      <th>JobInterestOther</th>\n",
       "      <th>JobInterestProjMngr</th>\n",
       "      <th>JobInterestQAEngr</th>\n",
       "      <th>JobInterestUX</th>\n",
       "      <th>JobPref</th>\n",
       "      <th>JobRelocateYesNo</th>\n",
       "      <th>JobRoleInterest</th>\n",
       "      <th>JobWherePref</th>\n",
       "      <th>LanguageAtHome</th>\n",
       "      <th>MaritalStatus</th>\n",
       "      <th>MoneyForLearning</th>\n",
       "      <th>MonthsProgramming</th>\n",
       "      <th>NetworkID</th>\n",
       "      <th>Part1EndTime</th>\n",
       "      <th>Part1StartTime</th>\n",
       "      <th>Part2EndTime</th>\n",
       "      <th>Part2StartTime</th>\n",
       "      <th>PodcastChangeLog</th>\n",
       "      <th>PodcastCodeNewbie</th>\n",
       "      <th>PodcastCodePen</th>\n",
       "      <th>PodcastDevTea</th>\n",
       "      <th>PodcastDotNET</th>\n",
       "      <th>PodcastGiantRobots</th>\n",
       "      <th>PodcastJSAir</th>\n",
       "      <th>PodcastJSJabber</th>\n",
       "      <th>PodcastNone</th>\n",
       "      <th>PodcastOther</th>\n",
       "      <th>PodcastProgThrowdown</th>\n",
       "      <th>PodcastRubyRogues</th>\n",
       "      <th>PodcastSEDaily</th>\n",
       "      <th>PodcastSERadio</th>\n",
       "      <th>PodcastShopTalk</th>\n",
       "      <th>PodcastTalkPython</th>\n",
       "      <th>PodcastTheWebAhead</th>\n",
       "      <th>ResourceCodecademy</th>\n",
       "      <th>ResourceCodeWars</th>\n",
       "      <th>ResourceCoursera</th>\n",
       "      <th>ResourceCSS</th>\n",
       "      <th>ResourceEdX</th>\n",
       "      <th>ResourceEgghead</th>\n",
       "      <th>ResourceFCC</th>\n",
       "      <th>ResourceHackerRank</th>\n",
       "      <th>ResourceKA</th>\n",
       "      <th>ResourceLynda</th>\n",
       "      <th>ResourceMDN</th>\n",
       "      <th>ResourceOdinProj</th>\n",
       "      <th>ResourceOther</th>\n",
       "      <th>ResourcePluralSight</th>\n",
       "      <th>ResourceSkillcrush</th>\n",
       "      <th>ResourceSO</th>\n",
       "      <th>ResourceTreehouse</th>\n",
       "      <th>ResourceUdacity</th>\n",
       "      <th>ResourceUdemy</th>\n",
       "      <th>ResourceW3S</th>\n",
       "      <th>SchoolDegree</th>\n",
       "      <th>SchoolMajor</th>\n",
       "      <th>StudentDebtOwe</th>\n",
       "      <th>YouTubeCodeCourse</th>\n",
       "      <th>YouTubeCodingTrain</th>\n",
       "      <th>YouTubeCodingTut360</th>\n",
       "      <th>YouTubeComputerphile</th>\n",
       "      <th>YouTubeDerekBanas</th>\n",
       "      <th>YouTubeDevTips</th>\n",
       "      <th>YouTubeEngineeredTruth</th>\n",
       "      <th>YouTubeFCC</th>\n",
       "      <th>YouTubeFunFunFunction</th>\n",
       "      <th>YouTubeGoogleDev</th>\n",
       "      <th>YouTubeLearnCode</th>\n",
       "      <th>YouTubeLevelUpTuts</th>\n",
       "      <th>YouTubeMIT</th>\n",
       "      <th>YouTubeMozillaHacks</th>\n",
       "      <th>YouTubeOther</th>\n",
       "      <th>YouTubeSimplilearn</th>\n",
       "      <th>YouTubeTheNewBoston</th>\n",
       "    </tr>\n",
       "  </thead>\n",
       "  <tbody>\n",
       "    <tr>\n",
       "      <th>0</th>\n",
       "      <td>27.0</td>\n",
       "      <td>0.0</td>\n",
       "      <td>NaN</td>\n",
       "      <td>NaN</td>\n",
       "      <td>NaN</td>\n",
       "      <td>NaN</td>\n",
       "      <td>NaN</td>\n",
       "      <td>more than 1 million</td>\n",
       "      <td>NaN</td>\n",
       "      <td>NaN</td>\n",
       "      <td>NaN</td>\n",
       "      <td>NaN</td>\n",
       "      <td>NaN</td>\n",
       "      <td>NaN</td>\n",
       "      <td>NaN</td>\n",
       "      <td>NaN</td>\n",
       "      <td>NaN</td>\n",
       "      <td>NaN</td>\n",
       "      <td>NaN</td>\n",
       "      <td>NaN</td>\n",
       "      <td>NaN</td>\n",
       "      <td>NaN</td>\n",
       "      <td>NaN</td>\n",
       "      <td>NaN</td>\n",
       "      <td>15 to 29 minutes</td>\n",
       "      <td>Canada</td>\n",
       "      <td>Canada</td>\n",
       "      <td>software development and IT</td>\n",
       "      <td>NaN</td>\n",
       "      <td>Employed for wages</td>\n",
       "      <td>NaN</td>\n",
       "      <td>NaN</td>\n",
       "      <td>NaN</td>\n",
       "      <td>NaN</td>\n",
       "      <td>female</td>\n",
       "      <td>NaN</td>\n",
       "      <td>NaN</td>\n",
       "      <td>1.0</td>\n",
       "      <td>0.0</td>\n",
       "      <td>1.0</td>\n",
       "      <td>0.0</td>\n",
       "      <td>0.0</td>\n",
       "      <td>0.0</td>\n",
       "      <td>NaN</td>\n",
       "      <td>15.0</td>\n",
       "      <td>02d9465b21e8bd09374b0066fb2d5614</td>\n",
       "      <td>eb78c1c3ac6cd9052aec557065070fbf</td>\n",
       "      <td>NaN</td>\n",
       "      <td>NaN</td>\n",
       "      <td>0.0</td>\n",
       "      <td>0.0</td>\n",
       "      <td>0.0</td>\n",
       "      <td>NaN</td>\n",
       "      <td>NaN</td>\n",
       "      <td>NaN</td>\n",
       "      <td>NaN</td>\n",
       "      <td>NaN</td>\n",
       "      <td>NaN</td>\n",
       "      <td>NaN</td>\n",
       "      <td>NaN</td>\n",
       "      <td>NaN</td>\n",
       "      <td>NaN</td>\n",
       "      <td>NaN</td>\n",
       "      <td>NaN</td>\n",
       "      <td>NaN</td>\n",
       "      <td>NaN</td>\n",
       "      <td>start your own business</td>\n",
       "      <td>NaN</td>\n",
       "      <td>NaN</td>\n",
       "      <td>NaN</td>\n",
       "      <td>English</td>\n",
       "      <td>married or domestic partnership</td>\n",
       "      <td>150.0</td>\n",
       "      <td>6.0</td>\n",
       "      <td>6f1fbc6b2b</td>\n",
       "      <td>2017-03-09 00:36:22</td>\n",
       "      <td>2017-03-09 00:32:59</td>\n",
       "      <td>2017-03-09 00:59:46</td>\n",
       "      <td>2017-03-09 00:36:26</td>\n",
       "      <td>NaN</td>\n",
       "      <td>NaN</td>\n",
       "      <td>NaN</td>\n",
       "      <td>1.0</td>\n",
       "      <td>NaN</td>\n",
       "      <td>NaN</td>\n",
       "      <td>NaN</td>\n",
       "      <td>NaN</td>\n",
       "      <td>NaN</td>\n",
       "      <td>NaN</td>\n",
       "      <td>NaN</td>\n",
       "      <td>NaN</td>\n",
       "      <td>NaN</td>\n",
       "      <td>NaN</td>\n",
       "      <td>NaN</td>\n",
       "      <td>NaN</td>\n",
       "      <td>NaN</td>\n",
       "      <td>1.0</td>\n",
       "      <td>NaN</td>\n",
       "      <td>NaN</td>\n",
       "      <td>NaN</td>\n",
       "      <td>NaN</td>\n",
       "      <td>NaN</td>\n",
       "      <td>1.0</td>\n",
       "      <td>NaN</td>\n",
       "      <td>NaN</td>\n",
       "      <td>NaN</td>\n",
       "      <td>1.0</td>\n",
       "      <td>NaN</td>\n",
       "      <td>NaN</td>\n",
       "      <td>NaN</td>\n",
       "      <td>NaN</td>\n",
       "      <td>NaN</td>\n",
       "      <td>NaN</td>\n",
       "      <td>NaN</td>\n",
       "      <td>1.0</td>\n",
       "      <td>1.0</td>\n",
       "      <td>some college credit, no degree</td>\n",
       "      <td>NaN</td>\n",
       "      <td>NaN</td>\n",
       "      <td>NaN</td>\n",
       "      <td>NaN</td>\n",
       "      <td>NaN</td>\n",
       "      <td>NaN</td>\n",
       "      <td>NaN</td>\n",
       "      <td>NaN</td>\n",
       "      <td>NaN</td>\n",
       "      <td>NaN</td>\n",
       "      <td>NaN</td>\n",
       "      <td>NaN</td>\n",
       "      <td>NaN</td>\n",
       "      <td>NaN</td>\n",
       "      <td>NaN</td>\n",
       "      <td>NaN</td>\n",
       "      <td>NaN</td>\n",
       "      <td>NaN</td>\n",
       "      <td>NaN</td>\n",
       "    </tr>\n",
       "    <tr>\n",
       "      <th>1</th>\n",
       "      <td>34.0</td>\n",
       "      <td>0.0</td>\n",
       "      <td>NaN</td>\n",
       "      <td>NaN</td>\n",
       "      <td>NaN</td>\n",
       "      <td>NaN</td>\n",
       "      <td>NaN</td>\n",
       "      <td>less than 100,000</td>\n",
       "      <td>NaN</td>\n",
       "      <td>NaN</td>\n",
       "      <td>NaN</td>\n",
       "      <td>NaN</td>\n",
       "      <td>NaN</td>\n",
       "      <td>NaN</td>\n",
       "      <td>NaN</td>\n",
       "      <td>NaN</td>\n",
       "      <td>NaN</td>\n",
       "      <td>NaN</td>\n",
       "      <td>NaN</td>\n",
       "      <td>NaN</td>\n",
       "      <td>NaN</td>\n",
       "      <td>NaN</td>\n",
       "      <td>NaN</td>\n",
       "      <td>NaN</td>\n",
       "      <td>NaN</td>\n",
       "      <td>United States of America</td>\n",
       "      <td>United States of America</td>\n",
       "      <td>NaN</td>\n",
       "      <td>NaN</td>\n",
       "      <td>Not working but looking for work</td>\n",
       "      <td>NaN</td>\n",
       "      <td>35000.0</td>\n",
       "      <td>NaN</td>\n",
       "      <td>NaN</td>\n",
       "      <td>male</td>\n",
       "      <td>NaN</td>\n",
       "      <td>NaN</td>\n",
       "      <td>1.0</td>\n",
       "      <td>0.0</td>\n",
       "      <td>1.0</td>\n",
       "      <td>0.0</td>\n",
       "      <td>0.0</td>\n",
       "      <td>1.0</td>\n",
       "      <td>NaN</td>\n",
       "      <td>10.0</td>\n",
       "      <td>5bfef9ecb211ec4f518cfc1d2a6f3e0c</td>\n",
       "      <td>21db37adb60cdcafadfa7dca1b13b6b1</td>\n",
       "      <td>NaN</td>\n",
       "      <td>0.0</td>\n",
       "      <td>0.0</td>\n",
       "      <td>0.0</td>\n",
       "      <td>NaN</td>\n",
       "      <td>Within 7 to 12 months</td>\n",
       "      <td>NaN</td>\n",
       "      <td>NaN</td>\n",
       "      <td>NaN</td>\n",
       "      <td>NaN</td>\n",
       "      <td>NaN</td>\n",
       "      <td>1.0</td>\n",
       "      <td>NaN</td>\n",
       "      <td>NaN</td>\n",
       "      <td>NaN</td>\n",
       "      <td>NaN</td>\n",
       "      <td>NaN</td>\n",
       "      <td>NaN</td>\n",
       "      <td>NaN</td>\n",
       "      <td>work for a nonprofit</td>\n",
       "      <td>1.0</td>\n",
       "      <td>Full-Stack Web Developer</td>\n",
       "      <td>in an office with other developers</td>\n",
       "      <td>English</td>\n",
       "      <td>single, never married</td>\n",
       "      <td>80.0</td>\n",
       "      <td>6.0</td>\n",
       "      <td>f8f8be6910</td>\n",
       "      <td>2017-03-09 00:37:07</td>\n",
       "      <td>2017-03-09 00:33:26</td>\n",
       "      <td>2017-03-09 00:38:59</td>\n",
       "      <td>2017-03-09 00:37:10</td>\n",
       "      <td>NaN</td>\n",
       "      <td>1.0</td>\n",
       "      <td>NaN</td>\n",
       "      <td>NaN</td>\n",
       "      <td>NaN</td>\n",
       "      <td>NaN</td>\n",
       "      <td>NaN</td>\n",
       "      <td>NaN</td>\n",
       "      <td>NaN</td>\n",
       "      <td>NaN</td>\n",
       "      <td>NaN</td>\n",
       "      <td>NaN</td>\n",
       "      <td>NaN</td>\n",
       "      <td>NaN</td>\n",
       "      <td>NaN</td>\n",
       "      <td>NaN</td>\n",
       "      <td>NaN</td>\n",
       "      <td>1.0</td>\n",
       "      <td>NaN</td>\n",
       "      <td>NaN</td>\n",
       "      <td>1.0</td>\n",
       "      <td>NaN</td>\n",
       "      <td>NaN</td>\n",
       "      <td>1.0</td>\n",
       "      <td>NaN</td>\n",
       "      <td>NaN</td>\n",
       "      <td>NaN</td>\n",
       "      <td>NaN</td>\n",
       "      <td>NaN</td>\n",
       "      <td>NaN</td>\n",
       "      <td>NaN</td>\n",
       "      <td>NaN</td>\n",
       "      <td>1.0</td>\n",
       "      <td>NaN</td>\n",
       "      <td>NaN</td>\n",
       "      <td>1.0</td>\n",
       "      <td>1.0</td>\n",
       "      <td>some college credit, no degree</td>\n",
       "      <td>NaN</td>\n",
       "      <td>NaN</td>\n",
       "      <td>NaN</td>\n",
       "      <td>NaN</td>\n",
       "      <td>NaN</td>\n",
       "      <td>NaN</td>\n",
       "      <td>NaN</td>\n",
       "      <td>NaN</td>\n",
       "      <td>NaN</td>\n",
       "      <td>1.0</td>\n",
       "      <td>NaN</td>\n",
       "      <td>NaN</td>\n",
       "      <td>NaN</td>\n",
       "      <td>NaN</td>\n",
       "      <td>NaN</td>\n",
       "      <td>NaN</td>\n",
       "      <td>NaN</td>\n",
       "      <td>NaN</td>\n",
       "      <td>NaN</td>\n",
       "    </tr>\n",
       "    <tr>\n",
       "      <th>2</th>\n",
       "      <td>21.0</td>\n",
       "      <td>0.0</td>\n",
       "      <td>NaN</td>\n",
       "      <td>NaN</td>\n",
       "      <td>NaN</td>\n",
       "      <td>NaN</td>\n",
       "      <td>NaN</td>\n",
       "      <td>more than 1 million</td>\n",
       "      <td>NaN</td>\n",
       "      <td>NaN</td>\n",
       "      <td>NaN</td>\n",
       "      <td>NaN</td>\n",
       "      <td>NaN</td>\n",
       "      <td>1.0</td>\n",
       "      <td>NaN</td>\n",
       "      <td>1.0</td>\n",
       "      <td>NaN</td>\n",
       "      <td>NaN</td>\n",
       "      <td>NaN</td>\n",
       "      <td>NaN</td>\n",
       "      <td>NaN</td>\n",
       "      <td>NaN</td>\n",
       "      <td>NaN</td>\n",
       "      <td>NaN</td>\n",
       "      <td>15 to 29 minutes</td>\n",
       "      <td>United States of America</td>\n",
       "      <td>United States of America</td>\n",
       "      <td>software development and IT</td>\n",
       "      <td>NaN</td>\n",
       "      <td>Employed for wages</td>\n",
       "      <td>NaN</td>\n",
       "      <td>70000.0</td>\n",
       "      <td>NaN</td>\n",
       "      <td>NaN</td>\n",
       "      <td>male</td>\n",
       "      <td>NaN</td>\n",
       "      <td>NaN</td>\n",
       "      <td>0.0</td>\n",
       "      <td>0.0</td>\n",
       "      <td>1.0</td>\n",
       "      <td>NaN</td>\n",
       "      <td>0.0</td>\n",
       "      <td>NaN</td>\n",
       "      <td>NaN</td>\n",
       "      <td>25.0</td>\n",
       "      <td>14f1863afa9c7de488050b82eb3edd96</td>\n",
       "      <td>21ba173828fbe9e27ccebaf4d5166a55</td>\n",
       "      <td>13000.0</td>\n",
       "      <td>1.0</td>\n",
       "      <td>0.0</td>\n",
       "      <td>0.0</td>\n",
       "      <td>0.0</td>\n",
       "      <td>Within 7 to 12 months</td>\n",
       "      <td>1.0</td>\n",
       "      <td>NaN</td>\n",
       "      <td>NaN</td>\n",
       "      <td>1.0</td>\n",
       "      <td>1.0</td>\n",
       "      <td>1.0</td>\n",
       "      <td>NaN</td>\n",
       "      <td>NaN</td>\n",
       "      <td>1.0</td>\n",
       "      <td>NaN</td>\n",
       "      <td>NaN</td>\n",
       "      <td>NaN</td>\n",
       "      <td>NaN</td>\n",
       "      <td>work for a medium-sized company</td>\n",
       "      <td>1.0</td>\n",
       "      <td>Front-End Web Developer, Back-End Web Develo...</td>\n",
       "      <td>no preference</td>\n",
       "      <td>Spanish</td>\n",
       "      <td>single, never married</td>\n",
       "      <td>1000.0</td>\n",
       "      <td>5.0</td>\n",
       "      <td>2ed189768e</td>\n",
       "      <td>2017-03-09 00:37:58</td>\n",
       "      <td>2017-03-09 00:33:53</td>\n",
       "      <td>2017-03-09 00:40:14</td>\n",
       "      <td>2017-03-09 00:38:02</td>\n",
       "      <td>1.0</td>\n",
       "      <td>NaN</td>\n",
       "      <td>1.0</td>\n",
       "      <td>NaN</td>\n",
       "      <td>NaN</td>\n",
       "      <td>NaN</td>\n",
       "      <td>NaN</td>\n",
       "      <td>NaN</td>\n",
       "      <td>NaN</td>\n",
       "      <td>Codenewbie</td>\n",
       "      <td>NaN</td>\n",
       "      <td>NaN</td>\n",
       "      <td>NaN</td>\n",
       "      <td>NaN</td>\n",
       "      <td>1.0</td>\n",
       "      <td>NaN</td>\n",
       "      <td>NaN</td>\n",
       "      <td>1.0</td>\n",
       "      <td>NaN</td>\n",
       "      <td>NaN</td>\n",
       "      <td>1.0</td>\n",
       "      <td>NaN</td>\n",
       "      <td>NaN</td>\n",
       "      <td>1.0</td>\n",
       "      <td>NaN</td>\n",
       "      <td>NaN</td>\n",
       "      <td>NaN</td>\n",
       "      <td>1.0</td>\n",
       "      <td>NaN</td>\n",
       "      <td>NaN</td>\n",
       "      <td>NaN</td>\n",
       "      <td>NaN</td>\n",
       "      <td>NaN</td>\n",
       "      <td>NaN</td>\n",
       "      <td>1.0</td>\n",
       "      <td>1.0</td>\n",
       "      <td>NaN</td>\n",
       "      <td>high school diploma or equivalent (GED)</td>\n",
       "      <td>NaN</td>\n",
       "      <td>NaN</td>\n",
       "      <td>NaN</td>\n",
       "      <td>NaN</td>\n",
       "      <td>1.0</td>\n",
       "      <td>NaN</td>\n",
       "      <td>1.0</td>\n",
       "      <td>1.0</td>\n",
       "      <td>NaN</td>\n",
       "      <td>NaN</td>\n",
       "      <td>NaN</td>\n",
       "      <td>NaN</td>\n",
       "      <td>1.0</td>\n",
       "      <td>1.0</td>\n",
       "      <td>NaN</td>\n",
       "      <td>NaN</td>\n",
       "      <td>NaN</td>\n",
       "      <td>NaN</td>\n",
       "      <td>NaN</td>\n",
       "    </tr>\n",
       "    <tr>\n",
       "      <th>3</th>\n",
       "      <td>26.0</td>\n",
       "      <td>0.0</td>\n",
       "      <td>NaN</td>\n",
       "      <td>NaN</td>\n",
       "      <td>NaN</td>\n",
       "      <td>NaN</td>\n",
       "      <td>NaN</td>\n",
       "      <td>between 100,000 and 1 million</td>\n",
       "      <td>NaN</td>\n",
       "      <td>NaN</td>\n",
       "      <td>NaN</td>\n",
       "      <td>NaN</td>\n",
       "      <td>NaN</td>\n",
       "      <td>NaN</td>\n",
       "      <td>NaN</td>\n",
       "      <td>NaN</td>\n",
       "      <td>NaN</td>\n",
       "      <td>NaN</td>\n",
       "      <td>NaN</td>\n",
       "      <td>NaN</td>\n",
       "      <td>NaN</td>\n",
       "      <td>NaN</td>\n",
       "      <td>NaN</td>\n",
       "      <td>NaN</td>\n",
       "      <td>I work from home</td>\n",
       "      <td>Brazil</td>\n",
       "      <td>Brazil</td>\n",
       "      <td>software development and IT</td>\n",
       "      <td>NaN</td>\n",
       "      <td>Employed for wages</td>\n",
       "      <td>NaN</td>\n",
       "      <td>40000.0</td>\n",
       "      <td>0.0</td>\n",
       "      <td>NaN</td>\n",
       "      <td>male</td>\n",
       "      <td>NaN</td>\n",
       "      <td>0.0</td>\n",
       "      <td>1.0</td>\n",
       "      <td>1.0</td>\n",
       "      <td>1.0</td>\n",
       "      <td>1.0</td>\n",
       "      <td>0.0</td>\n",
       "      <td>0.0</td>\n",
       "      <td>40000.0</td>\n",
       "      <td>14.0</td>\n",
       "      <td>91756eb4dc280062a541c25a3d44cfb0</td>\n",
       "      <td>3be37b558f02daae93a6da10f83f0c77</td>\n",
       "      <td>24000.0</td>\n",
       "      <td>0.0</td>\n",
       "      <td>0.0</td>\n",
       "      <td>0.0</td>\n",
       "      <td>1.0</td>\n",
       "      <td>Within the next 6 months</td>\n",
       "      <td>1.0</td>\n",
       "      <td>NaN</td>\n",
       "      <td>NaN</td>\n",
       "      <td>NaN</td>\n",
       "      <td>1.0</td>\n",
       "      <td>1.0</td>\n",
       "      <td>NaN</td>\n",
       "      <td>NaN</td>\n",
       "      <td>NaN</td>\n",
       "      <td>NaN</td>\n",
       "      <td>NaN</td>\n",
       "      <td>NaN</td>\n",
       "      <td>NaN</td>\n",
       "      <td>work for a medium-sized company</td>\n",
       "      <td>NaN</td>\n",
       "      <td>Front-End Web Developer, Full-Stack Web Deve...</td>\n",
       "      <td>from home</td>\n",
       "      <td>Portuguese</td>\n",
       "      <td>married or domestic partnership</td>\n",
       "      <td>0.0</td>\n",
       "      <td>5.0</td>\n",
       "      <td>dbdc0664d1</td>\n",
       "      <td>2017-03-09 00:40:13</td>\n",
       "      <td>2017-03-09 00:37:45</td>\n",
       "      <td>2017-03-09 00:42:26</td>\n",
       "      <td>2017-03-09 00:40:18</td>\n",
       "      <td>NaN</td>\n",
       "      <td>NaN</td>\n",
       "      <td>NaN</td>\n",
       "      <td>NaN</td>\n",
       "      <td>NaN</td>\n",
       "      <td>NaN</td>\n",
       "      <td>NaN</td>\n",
       "      <td>NaN</td>\n",
       "      <td>NaN</td>\n",
       "      <td>NaN</td>\n",
       "      <td>NaN</td>\n",
       "      <td>NaN</td>\n",
       "      <td>NaN</td>\n",
       "      <td>NaN</td>\n",
       "      <td>NaN</td>\n",
       "      <td>NaN</td>\n",
       "      <td>NaN</td>\n",
       "      <td>NaN</td>\n",
       "      <td>NaN</td>\n",
       "      <td>NaN</td>\n",
       "      <td>NaN</td>\n",
       "      <td>NaN</td>\n",
       "      <td>1.0</td>\n",
       "      <td>1.0</td>\n",
       "      <td>NaN</td>\n",
       "      <td>NaN</td>\n",
       "      <td>NaN</td>\n",
       "      <td>1.0</td>\n",
       "      <td>NaN</td>\n",
       "      <td>NaN</td>\n",
       "      <td>NaN</td>\n",
       "      <td>NaN</td>\n",
       "      <td>1.0</td>\n",
       "      <td>NaN</td>\n",
       "      <td>NaN</td>\n",
       "      <td>NaN</td>\n",
       "      <td>NaN</td>\n",
       "      <td>some college credit, no degree</td>\n",
       "      <td>NaN</td>\n",
       "      <td>NaN</td>\n",
       "      <td>NaN</td>\n",
       "      <td>NaN</td>\n",
       "      <td>NaN</td>\n",
       "      <td>NaN</td>\n",
       "      <td>NaN</td>\n",
       "      <td>1.0</td>\n",
       "      <td>NaN</td>\n",
       "      <td>1.0</td>\n",
       "      <td>1.0</td>\n",
       "      <td>NaN</td>\n",
       "      <td>NaN</td>\n",
       "      <td>1.0</td>\n",
       "      <td>NaN</td>\n",
       "      <td>NaN</td>\n",
       "      <td>NaN</td>\n",
       "      <td>NaN</td>\n",
       "      <td>NaN</td>\n",
       "    </tr>\n",
       "    <tr>\n",
       "      <th>4</th>\n",
       "      <td>20.0</td>\n",
       "      <td>0.0</td>\n",
       "      <td>NaN</td>\n",
       "      <td>NaN</td>\n",
       "      <td>NaN</td>\n",
       "      <td>NaN</td>\n",
       "      <td>NaN</td>\n",
       "      <td>between 100,000 and 1 million</td>\n",
       "      <td>NaN</td>\n",
       "      <td>NaN</td>\n",
       "      <td>NaN</td>\n",
       "      <td>NaN</td>\n",
       "      <td>NaN</td>\n",
       "      <td>NaN</td>\n",
       "      <td>NaN</td>\n",
       "      <td>NaN</td>\n",
       "      <td>NaN</td>\n",
       "      <td>NaN</td>\n",
       "      <td>NaN</td>\n",
       "      <td>NaN</td>\n",
       "      <td>NaN</td>\n",
       "      <td>NaN</td>\n",
       "      <td>NaN</td>\n",
       "      <td>NaN</td>\n",
       "      <td>NaN</td>\n",
       "      <td>Portugal</td>\n",
       "      <td>Portugal</td>\n",
       "      <td>NaN</td>\n",
       "      <td>NaN</td>\n",
       "      <td>Not working but looking for work</td>\n",
       "      <td>NaN</td>\n",
       "      <td>140000.0</td>\n",
       "      <td>NaN</td>\n",
       "      <td>NaN</td>\n",
       "      <td>female</td>\n",
       "      <td>NaN</td>\n",
       "      <td>NaN</td>\n",
       "      <td>0.0</td>\n",
       "      <td>0.0</td>\n",
       "      <td>1.0</td>\n",
       "      <td>NaN</td>\n",
       "      <td>0.0</td>\n",
       "      <td>NaN</td>\n",
       "      <td>NaN</td>\n",
       "      <td>10.0</td>\n",
       "      <td>aa3f061a1949a90b27bef7411ecd193f</td>\n",
       "      <td>d7c56bbf2c7b62096be9db010e86d96d</td>\n",
       "      <td>NaN</td>\n",
       "      <td>0.0</td>\n",
       "      <td>0.0</td>\n",
       "      <td>0.0</td>\n",
       "      <td>NaN</td>\n",
       "      <td>Within 7 to 12 months</td>\n",
       "      <td>1.0</td>\n",
       "      <td>NaN</td>\n",
       "      <td>NaN</td>\n",
       "      <td>NaN</td>\n",
       "      <td>1.0</td>\n",
       "      <td>1.0</td>\n",
       "      <td>NaN</td>\n",
       "      <td>1.0</td>\n",
       "      <td>1.0</td>\n",
       "      <td>NaN</td>\n",
       "      <td>NaN</td>\n",
       "      <td>NaN</td>\n",
       "      <td>NaN</td>\n",
       "      <td>work for a multinational corporation</td>\n",
       "      <td>1.0</td>\n",
       "      <td>Full-Stack Web Developer, Information Security...</td>\n",
       "      <td>in an office with other developers</td>\n",
       "      <td>Portuguese</td>\n",
       "      <td>single, never married</td>\n",
       "      <td>0.0</td>\n",
       "      <td>24.0</td>\n",
       "      <td>11b0f2d8a9</td>\n",
       "      <td>2017-03-09 00:42:45</td>\n",
       "      <td>2017-03-09 00:39:44</td>\n",
       "      <td>2017-03-09 00:45:42</td>\n",
       "      <td>2017-03-09 00:42:50</td>\n",
       "      <td>NaN</td>\n",
       "      <td>NaN</td>\n",
       "      <td>NaN</td>\n",
       "      <td>NaN</td>\n",
       "      <td>NaN</td>\n",
       "      <td>NaN</td>\n",
       "      <td>NaN</td>\n",
       "      <td>NaN</td>\n",
       "      <td>NaN</td>\n",
       "      <td>NaN</td>\n",
       "      <td>NaN</td>\n",
       "      <td>NaN</td>\n",
       "      <td>NaN</td>\n",
       "      <td>NaN</td>\n",
       "      <td>NaN</td>\n",
       "      <td>NaN</td>\n",
       "      <td>NaN</td>\n",
       "      <td>NaN</td>\n",
       "      <td>NaN</td>\n",
       "      <td>NaN</td>\n",
       "      <td>NaN</td>\n",
       "      <td>NaN</td>\n",
       "      <td>NaN</td>\n",
       "      <td>NaN</td>\n",
       "      <td>NaN</td>\n",
       "      <td>NaN</td>\n",
       "      <td>NaN</td>\n",
       "      <td>NaN</td>\n",
       "      <td>NaN</td>\n",
       "      <td>NaN</td>\n",
       "      <td>NaN</td>\n",
       "      <td>NaN</td>\n",
       "      <td>1.0</td>\n",
       "      <td>NaN</td>\n",
       "      <td>NaN</td>\n",
       "      <td>NaN</td>\n",
       "      <td>NaN</td>\n",
       "      <td>bachelor's degree</td>\n",
       "      <td>Information Technology</td>\n",
       "      <td>NaN</td>\n",
       "      <td>NaN</td>\n",
       "      <td>NaN</td>\n",
       "      <td>NaN</td>\n",
       "      <td>NaN</td>\n",
       "      <td>NaN</td>\n",
       "      <td>NaN</td>\n",
       "      <td>NaN</td>\n",
       "      <td>NaN</td>\n",
       "      <td>NaN</td>\n",
       "      <td>NaN</td>\n",
       "      <td>NaN</td>\n",
       "      <td>NaN</td>\n",
       "      <td>NaN</td>\n",
       "      <td>NaN</td>\n",
       "      <td>NaN</td>\n",
       "      <td>NaN</td>\n",
       "      <td>NaN</td>\n",
       "    </tr>\n",
       "  </tbody>\n",
       "</table>\n",
       "</div>"
      ],
      "text/plain": [
       "    Age  AttendedBootcamp  BootcampFinish  BootcampLoanYesNo BootcampName  \\\n",
       "0  27.0               0.0             NaN                NaN          NaN   \n",
       "1  34.0               0.0             NaN                NaN          NaN   \n",
       "2  21.0               0.0             NaN                NaN          NaN   \n",
       "3  26.0               0.0             NaN                NaN          NaN   \n",
       "4  20.0               0.0             NaN                NaN          NaN   \n",
       "\n",
       "   BootcampRecommend  ChildrenNumber                 CityPopulation  \\\n",
       "0                NaN             NaN            more than 1 million   \n",
       "1                NaN             NaN              less than 100,000   \n",
       "2                NaN             NaN            more than 1 million   \n",
       "3                NaN             NaN  between 100,000 and 1 million   \n",
       "4                NaN             NaN  between 100,000 and 1 million   \n",
       "\n",
       "   CodeEventConferences  CodeEventDjangoGirls  CodeEventFCC  CodeEventGameJam  \\\n",
       "0                   NaN                   NaN           NaN               NaN   \n",
       "1                   NaN                   NaN           NaN               NaN   \n",
       "2                   NaN                   NaN           NaN               NaN   \n",
       "3                   NaN                   NaN           NaN               NaN   \n",
       "4                   NaN                   NaN           NaN               NaN   \n",
       "\n",
       "   CodeEventGirlDev  CodeEventHackathons  CodeEventMeetup  \\\n",
       "0               NaN                  NaN              NaN   \n",
       "1               NaN                  NaN              NaN   \n",
       "2               NaN                  1.0              NaN   \n",
       "3               NaN                  NaN              NaN   \n",
       "4               NaN                  NaN              NaN   \n",
       "\n",
       "   CodeEventNodeSchool  CodeEventNone CodeEventOther  CodeEventRailsBridge  \\\n",
       "0                  NaN            NaN            NaN                   NaN   \n",
       "1                  NaN            NaN            NaN                   NaN   \n",
       "2                  1.0            NaN            NaN                   NaN   \n",
       "3                  NaN            NaN            NaN                   NaN   \n",
       "4                  NaN            NaN            NaN                   NaN   \n",
       "\n",
       "   CodeEventRailsGirls  CodeEventStartUpWknd  CodeEventWkdBootcamps  \\\n",
       "0                  NaN                   NaN                    NaN   \n",
       "1                  NaN                   NaN                    NaN   \n",
       "2                  NaN                   NaN                    NaN   \n",
       "3                  NaN                   NaN                    NaN   \n",
       "4                  NaN                   NaN                    NaN   \n",
       "\n",
       "   CodeEventWomenCode  CodeEventWorkshops       CommuteTime  \\\n",
       "0                 NaN                 NaN  15 to 29 minutes   \n",
       "1                 NaN                 NaN               NaN   \n",
       "2                 NaN                 NaN  15 to 29 minutes   \n",
       "3                 NaN                 NaN  I work from home   \n",
       "4                 NaN                 NaN               NaN   \n",
       "\n",
       "             CountryCitizen               CountryLive  \\\n",
       "0                    Canada                    Canada   \n",
       "1  United States of America  United States of America   \n",
       "2  United States of America  United States of America   \n",
       "3                    Brazil                    Brazil   \n",
       "4                  Portugal                  Portugal   \n",
       "\n",
       "               EmploymentField EmploymentFieldOther  \\\n",
       "0  software development and IT                  NaN   \n",
       "1                          NaN                  NaN   \n",
       "2  software development and IT                  NaN   \n",
       "3  software development and IT                  NaN   \n",
       "4                          NaN                  NaN   \n",
       "\n",
       "                   EmploymentStatus EmploymentStatusOther  ExpectedEarning  \\\n",
       "0                Employed for wages                   NaN              NaN   \n",
       "1  Not working but looking for work                   NaN          35000.0   \n",
       "2                Employed for wages                   NaN          70000.0   \n",
       "3                Employed for wages                   NaN          40000.0   \n",
       "4  Not working but looking for work                   NaN         140000.0   \n",
       "\n",
       "   FinanciallySupporting  FirstDevJob  Gender GenderOther  HasChildren  \\\n",
       "0                    NaN          NaN  female         NaN          NaN   \n",
       "1                    NaN          NaN    male         NaN          NaN   \n",
       "2                    NaN          NaN    male         NaN          NaN   \n",
       "3                    0.0          NaN    male         NaN          0.0   \n",
       "4                    NaN          NaN  female         NaN          NaN   \n",
       "\n",
       "   HasDebt  HasFinancialDependents  HasHighSpdInternet  HasHomeMortgage  \\\n",
       "0      1.0                     0.0                 1.0              0.0   \n",
       "1      1.0                     0.0                 1.0              0.0   \n",
       "2      0.0                     0.0                 1.0              NaN   \n",
       "3      1.0                     1.0                 1.0              1.0   \n",
       "4      0.0                     0.0                 1.0              NaN   \n",
       "\n",
       "   HasServedInMilitary  HasStudentDebt  HomeMortgageOwe  HoursLearning  \\\n",
       "0                  0.0             0.0              NaN           15.0   \n",
       "1                  0.0             1.0              NaN           10.0   \n",
       "2                  0.0             NaN              NaN           25.0   \n",
       "3                  0.0             0.0          40000.0           14.0   \n",
       "4                  0.0             NaN              NaN           10.0   \n",
       "\n",
       "                               ID.x                              ID.y  \\\n",
       "0  02d9465b21e8bd09374b0066fb2d5614  eb78c1c3ac6cd9052aec557065070fbf   \n",
       "1  5bfef9ecb211ec4f518cfc1d2a6f3e0c  21db37adb60cdcafadfa7dca1b13b6b1   \n",
       "2  14f1863afa9c7de488050b82eb3edd96  21ba173828fbe9e27ccebaf4d5166a55   \n",
       "3  91756eb4dc280062a541c25a3d44cfb0  3be37b558f02daae93a6da10f83f0c77   \n",
       "4  aa3f061a1949a90b27bef7411ecd193f  d7c56bbf2c7b62096be9db010e86d96d   \n",
       "\n",
       "    Income  IsEthnicMinority  IsReceiveDisabilitiesBenefits  IsSoftwareDev  \\\n",
       "0      NaN               NaN                            0.0            0.0   \n",
       "1      NaN               0.0                            0.0            0.0   \n",
       "2  13000.0               1.0                            0.0            0.0   \n",
       "3  24000.0               0.0                            0.0            0.0   \n",
       "4      NaN               0.0                            0.0            0.0   \n",
       "\n",
       "   IsUnderEmployed              JobApplyWhen  JobInterestBackEnd  \\\n",
       "0              0.0                       NaN                 NaN   \n",
       "1              NaN     Within 7 to 12 months                 NaN   \n",
       "2              0.0     Within 7 to 12 months                 1.0   \n",
       "3              1.0  Within the next 6 months                 1.0   \n",
       "4              NaN     Within 7 to 12 months                 1.0   \n",
       "\n",
       "   JobInterestDataEngr  JobInterestDataSci  JobInterestDevOps  \\\n",
       "0                  NaN                 NaN                NaN   \n",
       "1                  NaN                 NaN                NaN   \n",
       "2                  NaN                 NaN                1.0   \n",
       "3                  NaN                 NaN                NaN   \n",
       "4                  NaN                 NaN                NaN   \n",
       "\n",
       "   JobInterestFrontEnd  JobInterestFullStack  JobInterestGameDev  \\\n",
       "0                  NaN                   NaN                 NaN   \n",
       "1                  NaN                   1.0                 NaN   \n",
       "2                  1.0                   1.0                 NaN   \n",
       "3                  1.0                   1.0                 NaN   \n",
       "4                  1.0                   1.0                 NaN   \n",
       "\n",
       "   JobInterestInfoSec  JobInterestMobile JobInterestOther  \\\n",
       "0                 NaN                NaN              NaN   \n",
       "1                 NaN                NaN              NaN   \n",
       "2                 NaN                1.0              NaN   \n",
       "3                 NaN                NaN              NaN   \n",
       "4                 1.0                1.0              NaN   \n",
       "\n",
       "   JobInterestProjMngr  JobInterestQAEngr  JobInterestUX  \\\n",
       "0                  NaN                NaN            NaN   \n",
       "1                  NaN                NaN            NaN   \n",
       "2                  NaN                NaN            NaN   \n",
       "3                  NaN                NaN            NaN   \n",
       "4                  NaN                NaN            NaN   \n",
       "\n",
       "                                JobPref  JobRelocateYesNo  \\\n",
       "0               start your own business               NaN   \n",
       "1                  work for a nonprofit               1.0   \n",
       "2       work for a medium-sized company               1.0   \n",
       "3       work for a medium-sized company               NaN   \n",
       "4  work for a multinational corporation               1.0   \n",
       "\n",
       "                                     JobRoleInterest  \\\n",
       "0                                                NaN   \n",
       "1                           Full-Stack Web Developer   \n",
       "2    Front-End Web Developer, Back-End Web Develo...   \n",
       "3    Front-End Web Developer, Full-Stack Web Deve...   \n",
       "4  Full-Stack Web Developer, Information Security...   \n",
       "\n",
       "                         JobWherePref LanguageAtHome  \\\n",
       "0                                 NaN        English   \n",
       "1  in an office with other developers        English   \n",
       "2                       no preference        Spanish   \n",
       "3                           from home     Portuguese   \n",
       "4  in an office with other developers     Portuguese   \n",
       "\n",
       "                     MaritalStatus  MoneyForLearning  MonthsProgramming  \\\n",
       "0  married or domestic partnership             150.0                6.0   \n",
       "1            single, never married              80.0                6.0   \n",
       "2            single, never married            1000.0                5.0   \n",
       "3  married or domestic partnership               0.0                5.0   \n",
       "4            single, never married               0.0               24.0   \n",
       "\n",
       "    NetworkID         Part1EndTime       Part1StartTime         Part2EndTime  \\\n",
       "0  6f1fbc6b2b  2017-03-09 00:36:22  2017-03-09 00:32:59  2017-03-09 00:59:46   \n",
       "1  f8f8be6910  2017-03-09 00:37:07  2017-03-09 00:33:26  2017-03-09 00:38:59   \n",
       "2  2ed189768e  2017-03-09 00:37:58  2017-03-09 00:33:53  2017-03-09 00:40:14   \n",
       "3  dbdc0664d1  2017-03-09 00:40:13  2017-03-09 00:37:45  2017-03-09 00:42:26   \n",
       "4  11b0f2d8a9  2017-03-09 00:42:45  2017-03-09 00:39:44  2017-03-09 00:45:42   \n",
       "\n",
       "        Part2StartTime  PodcastChangeLog  PodcastCodeNewbie  PodcastCodePen  \\\n",
       "0  2017-03-09 00:36:26               NaN                NaN             NaN   \n",
       "1  2017-03-09 00:37:10               NaN                1.0             NaN   \n",
       "2  2017-03-09 00:38:02               1.0                NaN             1.0   \n",
       "3  2017-03-09 00:40:18               NaN                NaN             NaN   \n",
       "4  2017-03-09 00:42:50               NaN                NaN             NaN   \n",
       "\n",
       "   PodcastDevTea  PodcastDotNET  PodcastGiantRobots  PodcastJSAir  \\\n",
       "0            1.0            NaN                 NaN           NaN   \n",
       "1            NaN            NaN                 NaN           NaN   \n",
       "2            NaN            NaN                 NaN           NaN   \n",
       "3            NaN            NaN                 NaN           NaN   \n",
       "4            NaN            NaN                 NaN           NaN   \n",
       "\n",
       "   PodcastJSJabber  PodcastNone PodcastOther  PodcastProgThrowdown  \\\n",
       "0              NaN          NaN          NaN                   NaN   \n",
       "1              NaN          NaN          NaN                   NaN   \n",
       "2              NaN          NaN   Codenewbie                   NaN   \n",
       "3              NaN          NaN          NaN                   NaN   \n",
       "4              NaN          NaN          NaN                   NaN   \n",
       "\n",
       "   PodcastRubyRogues  PodcastSEDaily  PodcastSERadio  PodcastShopTalk  \\\n",
       "0                NaN             NaN             NaN              NaN   \n",
       "1                NaN             NaN             NaN              NaN   \n",
       "2                NaN             NaN             NaN              1.0   \n",
       "3                NaN             NaN             NaN              NaN   \n",
       "4                NaN             NaN             NaN              NaN   \n",
       "\n",
       "   PodcastTalkPython  PodcastTheWebAhead  ResourceCodecademy  \\\n",
       "0                NaN                 NaN                 1.0   \n",
       "1                NaN                 NaN                 1.0   \n",
       "2                NaN                 NaN                 1.0   \n",
       "3                NaN                 NaN                 NaN   \n",
       "4                NaN                 NaN                 NaN   \n",
       "\n",
       "   ResourceCodeWars  ResourceCoursera  ResourceCSS  ResourceEdX  \\\n",
       "0               NaN               NaN          NaN          NaN   \n",
       "1               NaN               NaN          1.0          NaN   \n",
       "2               NaN               NaN          1.0          NaN   \n",
       "3               NaN               NaN          NaN          NaN   \n",
       "4               NaN               NaN          NaN          NaN   \n",
       "\n",
       "   ResourceEgghead  ResourceFCC  ResourceHackerRank  ResourceKA  \\\n",
       "0              NaN          1.0                 NaN         NaN   \n",
       "1              NaN          1.0                 NaN         NaN   \n",
       "2              NaN          1.0                 NaN         NaN   \n",
       "3              1.0          1.0                 NaN         NaN   \n",
       "4              NaN          NaN                 NaN         NaN   \n",
       "\n",
       "   ResourceLynda  ResourceMDN  ResourceOdinProj ResourceOther  \\\n",
       "0            NaN          1.0               NaN           NaN   \n",
       "1            NaN          NaN               NaN           NaN   \n",
       "2            NaN          1.0               NaN           NaN   \n",
       "3            NaN          1.0               NaN           NaN   \n",
       "4            NaN          NaN               NaN           NaN   \n",
       "\n",
       "   ResourcePluralSight  ResourceSkillcrush  ResourceSO  ResourceTreehouse  \\\n",
       "0                  NaN                 NaN         NaN                NaN   \n",
       "1                  NaN                 NaN         1.0                NaN   \n",
       "2                  NaN                 NaN         NaN                NaN   \n",
       "3                  NaN                 NaN         1.0                NaN   \n",
       "4                  NaN                 NaN         1.0                NaN   \n",
       "\n",
       "   ResourceUdacity  ResourceUdemy  ResourceW3S  \\\n",
       "0              NaN            1.0          1.0   \n",
       "1              NaN            1.0          1.0   \n",
       "2              1.0            1.0          NaN   \n",
       "3              NaN            NaN          NaN   \n",
       "4              NaN            NaN          NaN   \n",
       "\n",
       "                              SchoolDegree             SchoolMajor  \\\n",
       "0           some college credit, no degree                     NaN   \n",
       "1           some college credit, no degree                     NaN   \n",
       "2  high school diploma or equivalent (GED)                     NaN   \n",
       "3           some college credit, no degree                     NaN   \n",
       "4                        bachelor's degree  Information Technology   \n",
       "\n",
       "   StudentDebtOwe  YouTubeCodeCourse  YouTubeCodingTrain  YouTubeCodingTut360  \\\n",
       "0             NaN                NaN                 NaN                  NaN   \n",
       "1             NaN                NaN                 NaN                  NaN   \n",
       "2             NaN                NaN                 NaN                  1.0   \n",
       "3             NaN                NaN                 NaN                  NaN   \n",
       "4             NaN                NaN                 NaN                  NaN   \n",
       "\n",
       "   YouTubeComputerphile  YouTubeDerekBanas  YouTubeDevTips  \\\n",
       "0                   NaN                NaN             NaN   \n",
       "1                   NaN                NaN             NaN   \n",
       "2                   NaN                1.0             1.0   \n",
       "3                   NaN                NaN             1.0   \n",
       "4                   NaN                NaN             NaN   \n",
       "\n",
       "   YouTubeEngineeredTruth  YouTubeFCC  YouTubeFunFunFunction  \\\n",
       "0                     NaN         NaN                    NaN   \n",
       "1                     NaN         1.0                    NaN   \n",
       "2                     NaN         NaN                    NaN   \n",
       "3                     NaN         1.0                    1.0   \n",
       "4                     NaN         NaN                    NaN   \n",
       "\n",
       "   YouTubeGoogleDev  YouTubeLearnCode  YouTubeLevelUpTuts  YouTubeMIT  \\\n",
       "0               NaN               NaN                 NaN         NaN   \n",
       "1               NaN               NaN                 NaN         NaN   \n",
       "2               NaN               1.0                 1.0         NaN   \n",
       "3               NaN               NaN                 1.0         NaN   \n",
       "4               NaN               NaN                 NaN         NaN   \n",
       "\n",
       "   YouTubeMozillaHacks YouTubeOther  YouTubeSimplilearn  YouTubeTheNewBoston  \n",
       "0                  NaN          NaN                 NaN                  NaN  \n",
       "1                  NaN          NaN                 NaN                  NaN  \n",
       "2                  NaN          NaN                 NaN                  NaN  \n",
       "3                  NaN          NaN                 NaN                  NaN  \n",
       "4                  NaN          NaN                 NaN                  NaN  "
      ]
     },
     "execution_count": 12,
     "metadata": {},
     "output_type": "execute_result"
    }
   ],
   "source": [
    "coder_survey.head(5)"
   ]
  },
  {
   "cell_type": "markdown",
   "metadata": {},
   "source": [
    "## Data Exploration\n",
    "\n",
    "### Understanding the Data:\n",
    "\n",
    "- Why I'm using a ready-made data set instead of organizing a survey?.\n",
    "\n",
    "    - I wanted to get a large sample size quickly and efficiently, so I decided to use pre-existing data instead of conducting my own survey.\" althought it may not be the best option for every situation.\n",
    "\n",
    "\n",
    "- What's this data set about.\n",
    "\n",
    "    - An anonymous survey of thousands of people who started coding less than 5 years ago.\n",
    "    \n",
    "- Where can this data set be downloaded.\n",
    "    - [Download 2017-fCC-New-Coders-Survey-Data.csv](https://github.com/freeCodeCamp/2017-new-coder-survey/blob/master/clean-data/2017-fCC-New-Coders-Survey-Data.csv)"
   ]
  },
  {
   "cell_type": "code",
   "execution_count": 13,
   "metadata": {},
   "outputs": [
    {
     "data": {
      "text/plain": [
       "array([27., 34., 21., 26., 20., 28., 29., 23., 24., 22., 18., 44., 32.,\n",
       "       46., 31., 30., 19., 54., 37., 36., 16., 17., 25., nan, 45., 48.,\n",
       "       33., 43., 35., 42., 53., 15., 41., 60., 39., 38., 56., 52., 13.,\n",
       "       14., 69., 40., 50., 47., 57., 59., 12., 58., 70., 68., 51., 11.,\n",
       "       49., 73., 55., 71., 67., 72.,  1., 10., 61., 62., 63.,  0., 76.,\n",
       "        8., 90., 66.,  2.,  5., 65.,  3., 64., 75.], dtype=float32)"
      ]
     },
     "execution_count": 13,
     "metadata": {},
     "output_type": "execute_result"
    }
   ],
   "source": [
    "coder_survey['Age'].unique()"
   ]
  },
  {
   "cell_type": "code",
   "execution_count": 14,
   "metadata": {},
   "outputs": [
    {
     "data": {
      "text/plain": [
       "more than 1 million              6534\n",
       "between 100,000 and 1 million    5276\n",
       "less than 100,000                3544\n",
       "Name: CityPopulation, dtype: int64"
      ]
     },
     "execution_count": 14,
     "metadata": {},
     "output_type": "execute_result"
    }
   ],
   "source": [
    "coder_survey['CityPopulation'].value_counts()"
   ]
  },
  {
   "cell_type": "code",
   "execution_count": 15,
   "metadata": {},
   "outputs": [
    {
     "data": {
      "text/plain": [
       "United States of America    5480\n",
       "India                       1594\n",
       "United Kingdom               640\n",
       "Canada                       564\n",
       "Brazil                       399\n",
       "Poland                       297\n",
       "Russia                       294\n",
       "Germany                      251\n",
       "Ukraine                      246\n",
       "France                       245\n",
       "Name: CountryCitizen, dtype: int64"
      ]
     },
     "execution_count": 15,
     "metadata": {},
     "output_type": "execute_result"
    }
   ],
   "source": [
    "coder_survey['CountryCitizen'].value_counts().head(10)"
   ]
  },
  {
   "cell_type": "code",
   "execution_count": 16,
   "metadata": {},
   "outputs": [
    {
     "data": {
      "text/plain": [
       "array([  6.,   5.,  24.,  12.,   4.,  29.,  18.,   1.,   3.,  nan,   9.,\n",
       "        40.,  14.,  28.,  20.,   2.,   0.,  25.,   8.,  32.,  15.,  16.,\n",
       "        48.,  10.,  26.,  60., 200.,  36.,  30.,  52.,  58.,  19.,  45.,\n",
       "        50.,  54., 100.,  80., 120.,  22.,  72.,   7.,  43.,  13.,  17.,\n",
       "        84.,  21.,  66.,  11.,  96.,  49., 744.,  55.,  35., 250., 240.,\n",
       "        90., 572.,  42.,  51., 192.,  39.,  70., 202.,  86.,  38.,  27.,\n",
       "        33.,  34.,  59., 180.,  23., 108.,  46.,  68.,  65.,  44.,  41.,\n",
       "       105., 168., 110., 190., 150.,  31., 204., 480., 300.,  56., 600.,\n",
       "       140., 160., 228.,  57.,  75.,  87., 400.,  85., 156., 130., 135.,\n",
       "       360., 132.,  82., 743.,  95., 113., 124.,  76.,  64., 370., 144.,\n",
       "       264.,  62.,  73.,  83., 123.,  63., 336., 114.,  78., 111.,  47.,\n",
       "       432., 216., 244.,  37.,  92., 720., 230.,  94., 103.,  69.,  53.,\n",
       "       500., 115., 136., 312., 276., 171., 198.,  67.,  97.,  99.,  61.,\n",
       "       450., 220.,  98., 205., 127., 420., 107., 340., 195., 408., 447.,\n",
       "        89.], dtype=float32)"
      ]
     },
     "execution_count": 16,
     "metadata": {},
     "output_type": "execute_result"
    }
   ],
   "source": [
    "coder_survey['MonthsProgramming'].unique()"
   ]
  },
  {
   "cell_type": "code",
   "execution_count": 17,
   "metadata": {},
   "outputs": [
    {
     "data": {
      "text/plain": [
       "0.0       7985\n",
       "100.0     1166\n",
       "200.0      789\n",
       "500.0      631\n",
       "50.0       577\n",
       "1000.0     521\n",
       "300.0      465\n",
       "20.0       314\n",
       "2000.0     255\n",
       "150.0      241\n",
       "Name: MoneyForLearning, dtype: int64"
      ]
     },
     "execution_count": 17,
     "metadata": {},
     "output_type": "execute_result"
    }
   ],
   "source": [
    "coder_survey['MoneyForLearning'].value_counts().head(10)"
   ]
  },
  {
   "cell_type": "code",
   "execution_count": 18,
   "metadata": {},
   "outputs": [
    {
     "data": {
      "text/plain": [
       "0                                                  NaN\n",
       "1                             Full-Stack Web Developer\n",
       "2      Front-End Web Developer, Back-End Web Develo...\n",
       "3      Front-End Web Developer, Full-Stack Web Deve...\n",
       "4    Full-Stack Web Developer, Information Security...\n",
       "5                                                  NaN\n",
       "6                             Full-Stack Web Developer\n",
       "7                                                  NaN\n",
       "8                                                  NaN\n",
       "9    Full-Stack Web Developer,   Quality Assurance ...\n",
       "Name: JobRoleInterest, dtype: object"
      ]
     },
     "execution_count": 18,
     "metadata": {},
     "output_type": "execute_result"
    }
   ],
   "source": [
    "coder_survey['JobRoleInterest'].head(10)"
   ]
  },
  {
   "cell_type": "markdown",
   "metadata": {},
   "source": [
    "## Representability\n",
    "\n",
    "We will focus only answering questions about the population of new programmers who are interested in our offer of courses on mobile and web development.\n",
    "\n",
    "However, first of all it is interesting to create a frequency distribution table, taking percentages. From this table the following questions must be answered: \n",
    "\n",
    " - Are people interested only in one topic or on the contrary are interested in more than one topic. \n",
    "\n",
    " - If most people are interested in more than one topic the sample is still representative. \n",
    " \n",
    " - How many people are interested in web or mobile applications.\n",
    "\n"
   ]
  },
  {
   "cell_type": "code",
   "execution_count": null,
   "metadata": {},
   "outputs": [],
   "source": []
  },
  {
   "cell_type": "markdown",
   "metadata": {},
   "source": [
    "Having the configuration of lists by rows that we have in the dataframe, we can see that with the following example that every element that is contained in the list will not be taken into account by the `str.contains` method.\n",
    "\n",
    "We can see that the result returned by contains is 100% false"
   ]
  },
  {
   "cell_type": "code",
   "execution_count": null,
   "metadata": {},
   "outputs": [],
   "source": []
  },
  {
   "cell_type": "markdown",
   "metadata": {},
   "source": []
  },
  {
   "cell_type": "code",
   "execution_count": null,
   "metadata": {},
   "outputs": [],
   "source": []
  },
  {
   "cell_type": "code",
   "execution_count": null,
   "metadata": {},
   "outputs": [],
   "source": []
  },
  {
   "cell_type": "markdown",
   "metadata": {},
   "source": []
  },
  {
   "cell_type": "code",
   "execution_count": null,
   "metadata": {},
   "outputs": [],
   "source": []
  },
  {
   "cell_type": "markdown",
   "metadata": {},
   "source": [
    "........"
   ]
  },
  {
   "cell_type": "markdown",
   "metadata": {},
   "source": [
    "# Here are the steps shown in the official solution\n",
    "\n",
    "It can be seen that we have null values in the series with which we are going to work"
   ]
  },
  {
   "cell_type": "code",
   "execution_count": 19,
   "metadata": {},
   "outputs": [],
   "source": [
    "#coder_survey['JobRoleInterest'].isnull().value_counts()"
   ]
  },
  {
   "cell_type": "code",
   "execution_count": 20,
   "metadata": {},
   "outputs": [],
   "source": [
    "#antes_dropna = coder_survey['JobRoleInterest'].isnull().sum()\n",
    "#antes_dropna"
   ]
  },
  {
   "cell_type": "code",
   "execution_count": 21,
   "metadata": {},
   "outputs": [],
   "source": [
    "###  Official solution\n",
    "\n",
    "## All rows in our series that contain null values are deleted\n",
    "\n",
    "#coder_survey['JobRoleInterest'].dropna(axis = 0, inplace=True)"
   ]
  },
  {
   "cell_type": "code",
   "execution_count": 22,
   "metadata": {},
   "outputs": [],
   "source": [
    "#despues = coder_survey['JobRoleInterest'].isnull().sum()\n",
    "#despues"
   ]
  },
  {
   "cell_type": "code",
   "execution_count": 23,
   "metadata": {},
   "outputs": [],
   "source": [
    "#coder_survey['JobRoleInterest'].dtype"
   ]
  },
  {
   "cell_type": "markdown",
   "metadata": {},
   "source": [
    "When `'dtype('O')'` is displayed in pandas, it refers to the object data type, which can contain a variety of data types, including text and other non-numeric object types.\n",
    "\n",
    "<br>\n",
    "\n",
    "With this in mind we will homogenize the content of the series to be able to work with it."
   ]
  },
  {
   "cell_type": "code",
   "execution_count": 24,
   "metadata": {},
   "outputs": [],
   "source": [
    "##interests_no_nulls = coder_survey['JobRoleInterest'].dropna()\n",
    "#interests_no_nulls.isnull().sum()"
   ]
  },
  {
   "cell_type": "code",
   "execution_count": 25,
   "metadata": {},
   "outputs": [],
   "source": [
    "#coder_survey['JobRoleInterest'].isnull().sum()"
   ]
  },
  {
   "cell_type": "code",
   "execution_count": 26,
   "metadata": {},
   "outputs": [],
   "source": [
    "#coder_survey['JobRoleInterest'] = coder_survey['JobRoleInterest'].astype(str)\n",
    "#coder_survey['JobRoleInterest'].replace(['nan'], np.nan, inplace=True)\n",
    "#coder_survey.dropna(subset=['JobRoleInterest'], inplace=True)"
   ]
  },
  {
   "cell_type": "code",
   "execution_count": 27,
   "metadata": {},
   "outputs": [],
   "source": [
    "#coder_survey['JobRoleInterest'].isnull().sum()"
   ]
  },
  {
   "cell_type": "markdown",
   "metadata": {},
   "source": [
    "\n",
    "As we have elements separated by commas, what we will do is make use of `str.split` \n",
    "that Splits the string in the Series / Index from the beginning, at the specified delimiter string."
   ]
  },
  {
   "cell_type": "code",
   "execution_count": 28,
   "metadata": {},
   "outputs": [],
   "source": [
    "#interests_no_nulls = coder_survey['JobRoleInterest'].dropna()\n",
    "#splitted_interests = interests_no_nulls.str.split(',') \n",
    "#splitted_interests.head(5)"
   ]
  },
  {
   "cell_type": "code",
   "execution_count": 29,
   "metadata": {},
   "outputs": [],
   "source": [
    "###  Official solution\n",
    "\n",
    "## In the official solution they show us which are the times that 1 or more elements have been chosen per user.\n",
    "## and work continues from now on based on these data.\n",
    "\n",
    "#n_of_options = splitted_interests.apply(lambda x: len(x))\n",
    "#n_of_options.value_counts(normalize = True).sort_index() * 100"
   ]
  },
  {
   "cell_type": "code",
   "execution_count": 30,
   "metadata": {},
   "outputs": [],
   "source": [
    "#splitted_interests"
   ]
  },
  {
   "cell_type": "code",
   "execution_count": 31,
   "metadata": {},
   "outputs": [],
   "source": [
    "###  Official solution\n",
    "\n",
    "##Transform each element of a list-like to a row, replicating index values.\n",
    "\n",
    "#splitted_interests.explode('JobRoleInterest').value_counts()"
   ]
  },
  {
   "cell_type": "markdown",
   "metadata": {},
   "source": [
    "The above Value Counts output format is striking because there is scrolled text and that means that the space character has not been removed.\n",
    "\n",
    "### Alert 1\n",
    "\n",
    "## This is the process I have followed."
   ]
  },
  {
   "cell_type": "code",
   "execution_count": 32,
   "metadata": {},
   "outputs": [
    {
     "data": {
      "text/plain": [
       "True     11183\n",
       "False     6992\n",
       "Name: JobRoleInterest, dtype: int64"
      ]
     },
     "execution_count": 32,
     "metadata": {},
     "output_type": "execute_result"
    }
   ],
   "source": [
    "### Same as official solution\n",
    "\n",
    "coder_survey['JobRoleInterest'].isnull().value_counts()"
   ]
  },
  {
   "cell_type": "code",
   "execution_count": 33,
   "metadata": {},
   "outputs": [],
   "source": [
    "### Same as official solution\n",
    "\n",
    "coder_survey['JobRoleInterest'].dropna(axis = 0, inplace=True)"
   ]
  },
  {
   "cell_type": "code",
   "execution_count": 38,
   "metadata": {},
   "outputs": [
    {
     "data": {
      "text/plain": [
       "0"
      ]
     },
     "execution_count": 38,
     "metadata": {},
     "output_type": "execute_result"
    }
   ],
   "source": [
    "coder_survey['JobRoleInterest'].isnull().sum() # hago dropna de la columna pero veo que no hacer nada."
   ]
  },
  {
   "cell_type": "code",
   "execution_count": 35,
   "metadata": {},
   "outputs": [],
   "source": [
    "coder_survey['JobRoleInterest'] = coder_survey['JobRoleInterest'].astype(str)\n",
    "coder_survey['JobRoleInterest'].replace(['nan'], np.nan, inplace=True)\n",
    "coder_survey.dropna(subset=['JobRoleInterest'], inplace=True)"
   ]
  },
  {
   "cell_type": "code",
   "execution_count": 37,
   "metadata": {},
   "outputs": [
    {
     "data": {
      "text/plain": [
       "1                           [Full-Stack Web Developer]\n",
       "2    [  Front-End Web Developer,  Back-End Web Deve...\n",
       "3    [  Front-End Web Developer,  Full-Stack Web De...\n",
       "4    [Full-Stack Web Developer,  Information Securi...\n",
       "6                           [Full-Stack Web Developer]\n",
       "Name: JobRoleInterest, dtype: object"
      ]
     },
     "execution_count": 37,
     "metadata": {},
     "output_type": "execute_result"
    }
   ],
   "source": [
    "### Same as official solution\n",
    "\n",
    "splitted_interests = coder_survey['JobRoleInterest'].str.split(',') \n",
    "splitted_interests.head(5)"
   ]
  },
  {
   "cell_type": "code",
   "execution_count": 39,
   "metadata": {},
   "outputs": [
    {
     "data": {
      "text/plain": [
       "1                             Full-Stack Web Developer\n",
       "2      Front-End Web Developer, Back-End Web Develo...\n",
       "3      Front-End Web Developer, Full-Stack Web Deve...\n",
       "4    Full-Stack Web Developer, Information Security...\n",
       "6                             Full-Stack Web Developer\n",
       "Name: JobRoleInterest, dtype: object"
      ]
     },
     "execution_count": 39,
     "metadata": {},
     "output_type": "execute_result"
    }
   ],
   "source": [
    "## My solution:\n",
    "\n",
    "### Transform each element of a list-like to a row.\n",
    "\n",
    "serie_exploded = coder_survey['JobRoleInterest'].explode()\n",
    "serie_exploded.head(5)"
   ]
  },
  {
   "cell_type": "code",
   "execution_count": 40,
   "metadata": {},
   "outputs": [
    {
     "data": {
      "text/plain": [
       "0"
      ]
     },
     "execution_count": 40,
     "metadata": {},
     "output_type": "execute_result"
    }
   ],
   "source": [
    "### compruebo que no se me aparezcan missing values\n",
    "\n",
    "coder_survey['JobRoleInterest'].isnull().sum()"
   ]
  },
  {
   "cell_type": "code",
   "execution_count": 41,
   "metadata": {},
   "outputs": [
    {
     "data": {
      "text/plain": [
       "1                               [Full-Stack Web Developer]\n",
       "2        [  Front-End Web Developer,  Back-End Web Deve...\n",
       "3        [  Front-End Web Developer,  Full-Stack Web De...\n",
       "4        [Full-Stack Web Developer,  Information Securi...\n",
       "6                               [Full-Stack Web Developer]\n",
       "                               ...                        \n",
       "18161                           [Full-Stack Web Developer]\n",
       "18162    [  Data Scientist,  Game Developer,    Quality...\n",
       "18163    [Back-End Web Developer,  Data Engineer,    Da...\n",
       "18171    [  DevOps / SysAdmin,    Mobile Developer,    ...\n",
       "18174    [Back-End Web Developer,  Data Engineer,    Da...\n",
       "Name: JobRoleInterest, Length: 6992, dtype: object"
      ]
     },
     "execution_count": 41,
     "metadata": {},
     "output_type": "execute_result"
    }
   ],
   "source": [
    "## Split strings around given separator/delimiter.\n",
    "\n",
    "\n",
    "serie_splited = serie_exploded.str.split(',')\n",
    "serie_splited"
   ]
  },
  {
   "cell_type": "code",
   "execution_count": 42,
   "metadata": {},
   "outputs": [
    {
     "data": {
      "text/plain": [
       " Full-Stack Web Developer           2490\n",
       "   Front-End Web Developer          2287\n",
       " Back-End Web Developer             1997\n",
       "   Mobile Developer                 1734\n",
       "Full-Stack Web Developer            1708\n",
       "                                    ... \n",
       "Pharmacy tech                          1\n",
       "data journalist / data visualist       1\n",
       "Desings                                1\n",
       " Infrastructure Architect              1\n",
       " IT specialist                         1\n",
       "Name: JobRoleInterest, Length: 236, dtype: int64"
      ]
     },
     "execution_count": 42,
     "metadata": {},
     "output_type": "execute_result"
    }
   ],
   "source": [
    "nueva_serie = serie_splited.explode()\n",
    "nueva_serie.value_counts()"
   ]
  },
  {
   "cell_type": "code",
   "execution_count": 43,
   "metadata": {},
   "outputs": [
    {
     "data": {
      "text/plain": [
       "Full-Stack Web Developer            4198\n",
       "Front-End Web Developer             3533\n",
       "Back-End Web Developer              2772\n",
       "Mobile Developer                    2304\n",
       "Data Scientist                      1643\n",
       "                                    ... \n",
       "Pharmacy tech                          1\n",
       "data journalist / data visualist       1\n",
       "Desings                                1\n",
       "Infrastructure Architect               1\n",
       "IT specialist                          1\n",
       "Name: JobRoleInterest, Length: 208, dtype: int64"
      ]
     },
     "execution_count": 43,
     "metadata": {},
     "output_type": "execute_result"
    }
   ],
   "source": [
    "new_serie = nueva_serie.str.strip() # remove 'white spaces' porque veo que en la celda anterior el texto está desplazado\n",
    "new_serie.value_counts()"
   ]
  },
  {
   "cell_type": "markdown",
   "metadata": {},
   "source": [
    "Comparacion entre la version oficial y la mia"
   ]
  },
  {
   "cell_type": "code",
   "execution_count": null,
   "metadata": {},
   "outputs": [],
   "source": [
    "official_value_counts = serie_exploded.value_counts()\n",
    "mine_value_counts = new_serie.value_counts()"
   ]
  },
  {
   "cell_type": "code",
   "execution_count": null,
   "metadata": {},
   "outputs": [],
   "source": [
    "official = official_value_counts.reset_index()\n",
    "mine = mine_value_counts.reset_index() # my solution"
   ]
  },
  {
   "cell_type": "code",
   "execution_count": null,
   "metadata": {},
   "outputs": [],
   "source": [
    "official"
   ]
  },
  {
   "cell_type": "code",
   "execution_count": null,
   "metadata": {},
   "outputs": [],
   "source": [
    "mine"
   ]
  },
  {
   "cell_type": "code",
   "execution_count": null,
   "metadata": {},
   "outputs": [],
   "source": [
    "comparacion = official.join(mine, lsuffix='_official', rsuffix='_mine')\n",
    "\n",
    "comparacion_sin_nan = comparacion # .dropna()\n",
    "\n",
    "comparacion_sin_nan = comparacion_sin_nan.reset_index(drop=True)\n",
    "comparacion_sin_nan.head(20)"
   ]
  },
  {
   "cell_type": "markdown",
   "metadata": {},
   "source": [
    "Hasta aqui la demostración de que la version oficial y la mia son diferentes, ahora viene el como se seleccionan los cursos entre `'Web Developer|Mobile Developer'` sin tener en cuenta los posibles errores tipograficos, cosa que como se verá en adelante ocurre."
   ]
  },
  {
   "cell_type": "code",
   "execution_count": null,
   "metadata": {},
   "outputs": [],
   "source": [
    "#serie_exploded = coder_survey['JobRoleInterest'].explode()\n",
    "#serie_splited = serie_exploded.str.split(',')\n",
    "#nueva_serie = serie_splited.explode()\n",
    "#new_serie = nueva_serie.str.strip() # remove 'white spaces'\n",
    "new_serie.value_counts(normalize=True) * 100"
   ]
  },
  {
   "cell_type": "code",
   "execution_count": null,
   "metadata": {},
   "outputs": [],
   "source": [
    "serie_exploded.value_counts(normalize=True) * 100"
   ]
  },
  {
   "cell_type": "code",
   "execution_count": null,
   "metadata": {},
   "outputs": [],
   "source": [
    "mine_value_counts[mine_value_counts.index.str.contains('[M-m]obile')]"
   ]
  },
  {
   "cell_type": "code",
   "execution_count": null,
   "metadata": {},
   "outputs": [],
   "source": [
    "mine_value_counts[mine_value_counts.index.str.contains('[W-w]eb')]"
   ]
  },
  {
   "cell_type": "code",
   "execution_count": null,
   "metadata": {},
   "outputs": [],
   "source": [
    "official_value_counts[official_value_counts.index.str.contains('[M-m]obile')]"
   ]
  },
  {
   "cell_type": "markdown",
   "metadata": {},
   "source": [
    "<br>\n",
    "\n",
    "It is not a surprise to find typographical errors derived from the nature of the survey. \n",
    "\n",
    "Now we know that we must correct."
   ]
  },
  {
   "cell_type": "code",
   "execution_count": null,
   "metadata": {},
   "outputs": [],
   "source": [
    "coder_survey.shape"
   ]
  },
  {
   "cell_type": "code",
   "execution_count": null,
   "metadata": {},
   "outputs": [],
   "source": [
    "# Create a new dataframe with column 'col2' decomposed into 22600 individual elements\n",
    "coder_survey['JobRoleInterest'].str.split(',').explode().reset_index(drop=True)"
   ]
  },
  {
   "cell_type": "code",
   "execution_count": null,
   "metadata": {},
   "outputs": [],
   "source": [
    "# Crear un nuevo dataframe con todas las filas repetidas por cada valor en la columna explotada\n",
    "new_df = pd.DataFrame({\n",
    "    col: np.repeat(coder_survey[col].values, coder_survey['JobRoleInterest'].str.split(',').apply(len))\n",
    "    for col in coder_survey.columns if col != 'JobRoleInterest'\n",
    "})\n",
    "\n",
    "new_df['JobRoleInterest'] = coder_survey['JobRoleInterest'].str.split(',').explode().reset_index(drop=True)"
   ]
  },
  {
   "cell_type": "code",
   "execution_count": null,
   "metadata": {},
   "outputs": [],
   "source": [
    "new_df['JobRoleInterest'] = new_df['JobRoleInterest'].str.strip()"
   ]
  },
  {
   "cell_type": "code",
   "execution_count": null,
   "metadata": {},
   "outputs": [],
   "source": [
    "new_df['JobRoleInterest'].value_counts().head(10)"
   ]
  },
  {
   "cell_type": "code",
   "execution_count": null,
   "metadata": {},
   "outputs": [],
   "source": [
    "new_df.shape"
   ]
  },
  {
   "cell_type": "code",
   "execution_count": null,
   "metadata": {},
   "outputs": [],
   "source": [
    "# Movile Developer\n",
    "\n",
    "replacement_mobile_dict = {\"mobile\":\"Mobile\",\n",
    "                           \"developer\":\"Developer\",\n",
    "                           \"development\":\"Developer\",\n",
    "                           \"Development\":\"Developer\"}\n",
    "\n",
    "for to_replace in replacement_mobile_dict:\n",
    "    new_df['JobRoleInterest'] = new_df['JobRoleInterest'].str.replace(to_replace,replacement_mobile_dict[to_replace])"
   ]
  },
  {
   "cell_type": "code",
   "execution_count": null,
   "metadata": {},
   "outputs": [],
   "source": [
    "new_df['JobRoleInterest'].isna().sum()"
   ]
  },
  {
   "cell_type": "code",
   "execution_count": null,
   "metadata": {},
   "outputs": [],
   "source": [
    "# Full Stack Web Developer / Front End Web Developer / Back End Web Developer Web Designer\n",
    "# Front End Web Designer / Front End Web Developer / Front End Web Designer\n",
    "\n",
    "replacement_web_dict = {\"Full-Stack Web Developer\":\"Full Stack Web Developer\",\n",
    "                        \"Front-End Web Developer\":\"Front End Web Developer\",\n",
    "                        \"Back-End Web Developer\":\"Back End Web Developer\",\n",
    "                        \"Web Design\":\"Web Designer\",\n",
    "                        \"Front-End Web Designer\":\"Front End Web Designer\",\n",
    "                        \"Software Developer or Front-End Web Developer\":\"Front End Web Developer\",\n",
    "                        \"Front-End Web Designer\":\"Front End Web Designer\"}\n",
    "\n",
    "for to_replace in replacement_web_dict:\n",
    "    new_df['JobRoleInterest'] = new_df['JobRoleInterest'].str.replace(to_replace,replacement_web_dict[to_replace])"
   ]
  },
  {
   "cell_type": "code",
   "execution_count": null,
   "metadata": {},
   "outputs": [],
   "source": [
    "coder_survey['JobRoleInterest'].isna().sum()"
   ]
  },
  {
   "cell_type": "code",
   "execution_count": null,
   "metadata": {},
   "outputs": [],
   "source": [
    "new_df['JobRoleInterest'] = new_df['JobRoleInterest'].str.strip()\n",
    "new_df['JobRoleInterest'].value_counts().head(10)"
   ]
  },
  {
   "cell_type": "code",
   "execution_count": null,
   "metadata": {},
   "outputs": [],
   "source": [
    "mask_ndf = new_df['JobRoleInterest'].str.contains('[W-w]eb|[M-m]obile') # returns an array of booleans\n",
    "freq_table = mask_ndf.value_counts(normalize = True) * 100\n",
    "print(freq_table)"
   ]
  },
  {
   "cell_type": "code",
   "execution_count": null,
   "metadata": {},
   "outputs": [],
   "source": [
    "web_or_mobile = new_df['JobRoleInterest'].str.contains('Web Developer|Mobile Developer') # returns an array of booleans\n",
    "freq_table = web_or_mobile.value_counts(normalize = True) * 100\n",
    "print(freq_table)"
   ]
  },
  {
   "cell_type": "code",
   "execution_count": null,
   "metadata": {},
   "outputs": [],
   "source": [
    "new_df.loc[mask_ndf,\"JobRoleInterest\"].value_counts().sum()"
   ]
  },
  {
   "cell_type": "code",
   "execution_count": null,
   "metadata": {},
   "outputs": [],
   "source": [
    "maskofficial = coder_survey['JobRoleInterest'].str.contains('[W-w]eb|[M-m]obile') # returns an array of booleans\n",
    "freq_table = mask_ndf.value_counts(normalize = True) * 100\n",
    "print(freq_table)"
   ]
  },
  {
   "cell_type": "code",
   "execution_count": null,
   "metadata": {},
   "outputs": [],
   "source": [
    "coder_survey.shape"
   ]
  },
  {
   "cell_type": "code",
   "execution_count": null,
   "metadata": {},
   "outputs": [],
   "source": [
    "new_df.shape"
   ]
  },
  {
   "cell_type": "code",
   "execution_count": null,
   "metadata": {},
   "outputs": [],
   "source": [
    "import matplotlib.pyplot as plt\n",
    "\n",
    "# Gráfico de barras para la Tabla 1\n",
    "plt.figure(figsize=(12, 6))  # Tamaño de la figura (opcional)\n",
    "\n",
    "# Subplot 1: Tabla 2\n",
    "plt.subplot(1, 2, 1)  # 1 fila, 2 columnas, segundo subplot\n",
    "freq_table2.plot.bar(alpha=0.5, color=\"green\")\n",
    "plt.xlabel('[W-w]eb|[M-m]obile')\n",
    "plt.ylabel('')\n",
    "plt.title('Uncleaned Series Dataset 6992 rows')\n",
    "\n",
    "# Subplot 2: Tabla 1\n",
    "plt.subplot(1, 2, 2)  # 1 fila, 2 columnas, primer subplot\n",
    "freq_table.plot.bar(alpha=0.5, color=\"red\")\n",
    "plt.xlabel('[W-w]eb|[M-m]obile')\n",
    "plt.ylabel('Frecuencias')\n",
    "plt.title('Clean Series and DataSet 22600 rows')\n",
    "\n",
    "plt.tight_layout()  # Ajusta el espaciado entre subplots\n",
    "plt.show()"
   ]
  },
  {
   "cell_type": "code",
   "execution_count": null,
   "metadata": {},
   "outputs": [],
   "source": [
    "# Isolate the participants that answered what role they'd be interested in\n",
    "fcc_good = new_df[new_df['JobRoleInterest'].notnull()].copy()\n",
    "\n",
    "# Frequency tables with absolute and relative frequencies\n",
    "absolute_frequencies = fcc_good['CountryLive'].value_counts()\n",
    "relative_frequencies = fcc_good['CountryLive'].value_counts(normalize = True) * 100\n",
    "\n",
    "# Display the frequency tables in a more readable format\n",
    "pd.DataFrame(data = {'Absolute frequency': absolute_frequencies, \n",
    "                     'Percentage': relative_frequencies}\n",
    "            ).head(20)"
   ]
  },
  {
   "cell_type": "code",
   "execution_count": null,
   "metadata": {},
   "outputs": [],
   "source": [
    "pd.set_option(\"display.max_columns\", None)\n",
    "#new_df.head(20)"
   ]
  },
  {
   "cell_type": "code",
   "execution_count": null,
   "metadata": {},
   "outputs": [],
   "source": [
    "new_df['JobRoleInterest'].value_counts(normalize = True).head(10)[0:4]*100"
   ]
  },
  {
   "cell_type": "code",
   "execution_count": null,
   "metadata": {},
   "outputs": [],
   "source": [
    "seleccion_web = new_df['JobRoleInterest'].value_counts(normalize = True).head(10)[0:3].sum() * 100\n",
    "seleccion_mobile = new_df['JobRoleInterest'].value_counts(normalize = True).head(10)[3:4].sum() * 100\n",
    "seleccion_total = seleccion_web + seleccion_mobile\n",
    "\n",
    "print(f\"seleccion_web:    {seleccion_web} \\nseleccion_mobile: {seleccion_mobile} \\ntotal:            {seleccion_total}\")"
   ]
  },
  {
   "cell_type": "markdown",
   "metadata": {},
   "source": [
    "We can see that 56.68% percent of people are interested in web and mobile.\n",
    "\n",
    "\n",
    "- Where are these new coders located."
   ]
  },
  {
   "cell_type": "code",
   "execution_count": null,
   "metadata": {},
   "outputs": [],
   "source": [
    "# We select the indices of the output of value_counts that interest us\n",
    "\n",
    "top_jobs = new_df['JobRoleInterest'].value_counts().head(10)[0:4]\n",
    "top_jobs = top_jobs.index\n",
    "top_jobs"
   ]
  },
  {
   "cell_type": "markdown",
   "metadata": {},
   "source": [
    "To make we are working with a representative sample, drop all the rows where participants didn't answer what role they are interested in."
   ]
  },
  {
   "cell_type": "code",
   "execution_count": null,
   "metadata": {},
   "outputs": [],
   "source": [
    "pd.set_option(\"display.max_rows\", None)"
   ]
  },
  {
   "cell_type": "code",
   "execution_count": null,
   "metadata": {
    "tags": []
   },
   "outputs": [],
   "source": [
    "new_df['JobRoleInterest'].isnull().sum()"
   ]
  },
  {
   "cell_type": "markdown",
   "metadata": {},
   "source": [
    "The analysis focuses on the current location of `CountryLive` people and the importance of a greater number of potential customers in a market. To obtain a representative sample, it is advisable to eliminate the rows in which participants did not respond their interest in a specific role `JobRoleInterest`, since you can not know with certainty their interests."
   ]
  },
  {
   "cell_type": "markdown",
   "metadata": {},
   "source": [
    "Podemos continuar averiguando cuánto dinero están realmente dispuestos a gastar los nuevos codificadores en el aprendizaje. \n",
    "\n",
    "La publicidad dentro de los mercados donde la mayoría de las personas solo están dispuestas a aprender gratis es extremadamente improbable que sea rentable para nosotros. \n",
    "\n",
    "La columna `MoneyForLearning` describe en dólares estadounidenses la cantidad de dinero gastado por los participantes desde el momento en que comenzaron a codificar hasta el momento en que completaron la encuesta. \n",
    "\n",
    "Nuestra empresa vende suscripciones a un precio de $ 59 por mes, y por esta razón estamos interesados en saber:\n",
    "\n",
    "- Cuánto dinero gasta cada estudiante por mes. \n",
    "\n",
    "- Parece una buena idea reducir nuestro análisis a solo cuatro países: Estados Unidos, India, Reino Unido y Canadá. \n",
    "\n",
    "Dos razones para esta decisión son: \n",
    "\n",
    "- Estos son los países que tienen las frecuencias absolutas más altas en nuestra muestra, lo que significa que tenemos una cantidad decente de datos para cada uno.\n",
    "\n",
    "- Nuestros cursos están escritos en inglés, y el inglés es un idioma oficial en estos cuatro países. Cuanta más gente sepa inglés, mayores serán nuestras posibilidades de dirigirnos a las personas adecuadas con nuestros anuncios.\n",
    "\n",
    "\n",
    "\n",
    "Cree una nueva columna que describa la cantidad de dinero que un estudiante ha gastado por mes (en el momento en que completó la encuesta). Deberá dividir la columna MoneyForLearning en la columna MonthsProgramming. Algunos estudiantes respondieron que habían estado aprendiendo a codificar durante 0 meses (podría ser que acababan de comenzar cuando completaron la encuesta). Para evitar dividir por 0, reemplace todos los valores de 0 con 1."
   ]
  },
  {
   "cell_type": "code",
   "execution_count": null,
   "metadata": {},
   "outputs": [],
   "source": [
    "fcc_good['MonthsProgramming'].replace(0,1, inplace = True)"
   ]
  },
  {
   "cell_type": "code",
   "execution_count": null,
   "metadata": {},
   "outputs": [],
   "source": [
    "fcc_good['MonthsProgramming'].isnull().sum()"
   ]
  },
  {
   "cell_type": "code",
   "execution_count": null,
   "metadata": {},
   "outputs": [],
   "source": [
    "new_df['MoneyForLearning'].isnull().sum()"
   ]
  },
  {
   "cell_type": "code",
   "execution_count": null,
   "metadata": {},
   "outputs": [],
   "source": [
    "# New column for the amount of money each student spends each month\n",
    "new_df['money_per_month'] = new_df['MoneyForLearning'] / new_df['MonthsProgramming']\n",
    "new_df['money_per_month'].isnull().sum()"
   ]
  },
  {
   "cell_type": "code",
   "execution_count": null,
   "metadata": {},
   "outputs": [],
   "source": [
    "# Keep only the rows with non-nulls in the `money_per_month` column \n",
    "new_df = new_df[new_df['money_per_month'].notnull()]"
   ]
  },
  {
   "cell_type": "markdown",
   "metadata": {},
   "source": [
    "We want to group the data by country, and then measure the average amount of money that students spend per month in each country. First, let's remove the rows having null values for the CountryLive column, and check out if we still have enough data for the four countries that interest us."
   ]
  },
  {
   "cell_type": "code",
   "execution_count": null,
   "metadata": {},
   "outputs": [],
   "source": [
    "# Remove the rows with null values in 'CountryLive'\n",
    "new_df = new_df[new_df['CountryLive'].notnull()]\n",
    "\n",
    "# Frequency table to check if we still have enough data\n",
    "new_df['CountryLive'].value_counts().head()"
   ]
  },
  {
   "cell_type": "code",
   "execution_count": null,
   "metadata": {},
   "outputs": [],
   "source": [
    "#new_df = df_not_nan.copy()\n",
    "#new_df.loc[:,'money_spent_monthly'] = new_df['MoneyForLearning'].div(new_df['MonthsProgramming'], fill_value=1)"
   ]
  },
  {
   "cell_type": "markdown",
   "metadata": {},
   "source": [
    "The results for the United Kingdom and Canada are a bit surprising relative to the values we see for India. If we considered a few socio-economical metrics (like GDP per capita), we'd intuitively expect people in the UK and Canada to spend more on learning than people in India.\n",
    "\n",
    "It might be that we don't have have enough representative data for the United Kingdom and Canada, or we have some outliers (maybe coming from wrong survey answers) making the mean too large for India, or too low for the UK and Canada. Or it might be that the results are correct.\n",
    "\n",
    "## Dealing with Extreme Outliers\n",
    "\n",
    "Let's use box plots to visualize the distribution of the money_per_month variable for each country."
   ]
  },
  {
   "cell_type": "code",
   "execution_count": null,
   "metadata": {},
   "outputs": [],
   "source": [
    "# Isolate only the countries of interest\n",
    "only_4 = new_df[new_df['CountryLive'].str.contains(\n",
    "    'United States of America|India|United Kingdom|Canada')]\n",
    "\n",
    "# Box plots to visualize distributions\n",
    "import seaborn as sns\n",
    "sns.boxplot(y = 'money_per_month', x = 'CountryLive',\n",
    "            data = only_4)\n",
    "plt.title('Money Spent Per Month Per Country\\n(Distributions)',\n",
    "         fontsize = 16)\n",
    "plt.ylabel('Money per month (US dollars)')\n",
    "plt.xlabel('Country')\n",
    "plt.xticks(range(4), ['US', 'UK', 'India', 'Canada']) # avoids tick labels overlap\n",
    "plt.show()"
   ]
  },
  {
   "cell_type": "markdown",
   "metadata": {},
   "source": [
    "t's hard to see on the plot above if there's anything wrong with the data for the United Kingdom, India, or Canada, but we can see immediately that there's something really off for the US: two persons spend each month \n",
    "20,000 per month."
   ]
  },
  {
   "cell_type": "code",
   "execution_count": null,
   "metadata": {},
   "outputs": [],
   "source": [
    "# Isolate only those participants who spend less than 10000 per month\n",
    "new_df = new_df[new_df['money_per_month'] < 20000]"
   ]
  },
  {
   "cell_type": "markdown",
   "metadata": {},
   "source": [
    "Now let's recompute the mean values and plot the box plots again.\n",
    "\n"
   ]
  },
  {
   "cell_type": "code",
   "execution_count": null,
   "metadata": {},
   "outputs": [],
   "source": [
    "# Recompute mean sum of money spent by students each month\n",
    "countries_mean = new_df.groupby('CountryLive').mean()\n",
    "countries_mean['money_per_month'][['United States of America',\n",
    "                            'India', 'United Kingdom',\n",
    "                            'Canada']]"
   ]
  },
  {
   "cell_type": "code",
   "execution_count": null,
   "metadata": {},
   "outputs": [],
   "source": [
    "# Isolate again the countries of interest\n",
    "only_4 = new_df[new_df['CountryLive'].str.contains(\n",
    "    'United States of America|India|United Kingdom|Canada')]\n",
    "\n",
    "# Box plots to visualize distributions\n",
    "sns.boxplot(y = 'money_per_month', x = 'CountryLive',\n",
    "            data = only_4)\n",
    "plt.title('Money Spent Per Month Per Country\\n(Distributions)',\n",
    "         fontsize = 16)\n",
    "plt.ylabel('Money per month (US dollars)')\n",
    "plt.xlabel('Country')\n",
    "plt.xticks(range(4), ['US', 'UK', 'India', 'Canada']) # avoids tick labels overlap\n",
    "plt.show()"
   ]
  },
  {
   "cell_type": "markdown",
   "metadata": {},
   "source": [
    "We can see a few extreme outliers for India (values over $2500 per month), but it's unclear whether this is good data or not. Maybe these persons attended several bootcamps, which tend to be very expensive. Let's examine these two data points to see if we can find anything relevant."
   ]
  },
  {
   "cell_type": "code",
   "execution_count": null,
   "metadata": {},
   "outputs": [],
   "source": [
    "# Inspect the extreme outliers for India\n",
    "india_outliers = only_4[\n",
    "    (only_4['CountryLive'] == 'India') & \n",
    "    (only_4['money_per_month'] >= 2500)]\n",
    "india_outliers.tail(10)"
   ]
  },
  {
   "cell_type": "markdown",
   "metadata": {},
   "source": [
    "It seems that neither participant attended a bootcamp. Overall, it's really hard to figure out from the data whether these persons really spent that much money with learning. The actual question of the survey was \"Aside from university tuition, about how much money have you spent on learning to code so far (in US dollars)?\", so they might have misunderstood and thought university tuition is included. It seems safer to remove these two rows."
   ]
  },
  {
   "cell_type": "code",
   "execution_count": null,
   "metadata": {},
   "outputs": [],
   "source": [
    "# Remove the outliers for India\n",
    "only_4 = only_4.drop(india_outliers.index) # using the row labels"
   ]
  },
  {
   "cell_type": "markdown",
   "metadata": {},
   "source": [
    "Looking back at the box plot above, we can also see more extreme outliers for the US (values over $6000 per month). Let's examine these participants in more detail."
   ]
  },
  {
   "cell_type": "code",
   "execution_count": null,
   "metadata": {},
   "outputs": [],
   "source": [
    "# Examine the extreme outliers for the US\n",
    "us_outliers = only_4[\n",
    "    (only_4['CountryLive'] == 'United States of America') & \n",
    "    (only_4['money_per_month'] >= 6000)]\n",
    "\n",
    "us_outliers.tail(10)"
   ]
  },
  {
   "cell_type": "markdown",
   "metadata": {},
   "source": [
    "Out of these 11 extreme outliers, six people attended bootcamps, which justify the large sums of money spent on learning. For the other five, it's hard to figure out from the data where they could have spent that much money on learning. Consequently, we'll remove those rows where participants reported thay they spend $6000 each month, but they have never attended a bootcamp.\n",
    "\n",
    "Also, the data shows that eight respondents had been programming for no more than three months when they completed the survey. They most likely paid a large sum of money for a bootcamp that was going to last for several months, so the amount of money spent per month is unrealistic and should be significantly lower (because they probably didn't spend anything for the next couple of months after the survey). As a consequence, we'll remove every these eight outliers.\n",
    "\n",
    "In the next code block, we'll remove respondents that:\n",
    "\n",
    "Didn't attend bootcamps.\n",
    "Had been programming for three months or less when at the time they completed the survey."
   ]
  },
  {
   "cell_type": "code",
   "execution_count": null,
   "metadata": {},
   "outputs": [],
   "source": [
    "# Remove the respondents who didn't attendent a bootcamp\n",
    "no_bootcamp = only_4[\n",
    "    (only_4['CountryLive'] == 'United States of America') & \n",
    "    (only_4['money_per_month'] >= 6000) &\n",
    "    (only_4['AttendedBootcamp'] == 0)\n",
    "]\n",
    "\n",
    "only_4 = only_4.drop(no_bootcamp.index)\n",
    "\n",
    "\n",
    "# Remove the respondents that had been programming for less than 3 months\n",
    "less_than_3_months = only_4[\n",
    "    (only_4['CountryLive'] == 'United States of America') & \n",
    "    (only_4['money_per_month'] >= 6000) &\n",
    "    (only_4['MonthsProgramming'] <= 3)\n",
    "]\n",
    "\n",
    "only_4 = only_4.drop(less_than_3_months.index)"
   ]
  },
  {
   "cell_type": "markdown",
   "metadata": {},
   "source": [
    "Looking again at the last box plot above, we can also see an extreme outlier for Canada — a person who spends roughly $5000 per month. Let's examine this person in more depth."
   ]
  },
  {
   "cell_type": "code",
   "execution_count": null,
   "metadata": {},
   "outputs": [],
   "source": [
    "# Examine the extreme outliers for Canada\n",
    "canada_outliers = only_4[\n",
    "    (only_4['CountryLive'] == 'Canada') & \n",
    "    (only_4['money_per_month'] > 4500)]\n",
    "\n",
    "canada_outliers.tail()"
   ]
  },
  {
   "cell_type": "markdown",
   "metadata": {},
   "source": [
    "Here, the situation is similar to some of the US respondents — this participant had been programming for no more than two months when he completed the survey. He seems to have paid a large sum of money in the beginning to enroll in a bootcamp, and then he probably didn't spend anything for the next couple of months after the survey. We'll take the same approach here as for the US and remove this outlier."
   ]
  },
  {
   "cell_type": "code",
   "execution_count": null,
   "metadata": {},
   "outputs": [],
   "source": [
    "# Remove the extreme outliers for Canada\n",
    "only_4 = only_4.drop(canada_outliers.index)"
   ]
  },
  {
   "cell_type": "markdown",
   "metadata": {},
   "source": [
    "Let's recompute the mean values and generate the final box plots."
   ]
  },
  {
   "cell_type": "code",
   "execution_count": null,
   "metadata": {},
   "outputs": [],
   "source": [
    "# Recompute mean sum of money spent by students each month\n",
    "only_4.groupby('CountryLive').mean()['money_per_month']"
   ]
  },
  {
   "cell_type": "code",
   "execution_count": null,
   "metadata": {},
   "outputs": [],
   "source": [
    "# Visualize the distributions again\n",
    "sns.boxplot(y = 'money_per_month', x = 'CountryLive',\n",
    "            data = only_4)\n",
    "plt.title('Money Spent Per Month Per Country\\n(Distributions)',\n",
    "          fontsize = 16)\n",
    "plt.ylabel('Money per month (US dollars)')\n",
    "plt.xlabel('Country')\n",
    "plt.xticks(range(4), ['US', 'UK', 'India', 'Canada']) # avoids tick labels overlap\n",
    "plt.show()"
   ]
  },
  {
   "cell_type": "markdown",
   "metadata": {},
   "source": [
    "## Choosing the Two Best Markets\n",
    "\n",
    "Obviously, one country we should advertise in is the US. Lots of new coders live there and they are willing to pay a good amount of money each month (roughly $143).\n",
    "\n",
    "We sell subscriptions at a price of \n",
    "93 per month, compared to India (\n",
    "45).\n",
    "\n",
    "The data suggests strongly that we shouldn't advertise in the UK, but let's take a second look at India before deciding to choose Canada as our second best choice:\n",
    "\n",
    "66 each month.\n",
    "We have almost twice as more potential customers in India than we have in Canada:"
   ]
  },
  {
   "cell_type": "code",
   "execution_count": null,
   "metadata": {},
   "outputs": [],
   "source": [
    "# Frequency table for the 'CountryLive' column\n",
    "only_4['CountryLive'].value_counts(normalize = True) * 100"
   ]
  },
  {
   "cell_type": "markdown",
   "metadata": {},
   "source": [
    "So it's not crystal clear what to choose between Canada and India. Although it seems more tempting to choose Canada, there are good chances that India might actually be a better choice because of the large number of potential customers.\n",
    "\n",
    "At this point, it seems that we have several options:\n",
    "\n",
    "Advertise in the US, India, and Canada by splitting the advertisement budget in various combinations:\n",
    "\n",
    "60% for the US, 25% for India, 15% for Canada.\n",
    "50% for the US, 30% for India, 20% for Canada; etc.\n",
    "Advertise only in the US and India, or the US and Canada. Again, it makes sense to split the advertisement budget unequally. For instance:\n",
    "\n",
    "70% for the US, and 30% for India.\n",
    "65% for the US, and 35% for Canada; etc.\n",
    "Advertise only in the US.\n",
    "\n",
    "At this point, it's probably best to send our analysis to the marketing team and let them use their domain knowledge to decide. They might want to do some extra surveys in India and Canada and then get back to us for analyzing the new survey data."
   ]
  },
  {
   "cell_type": "markdown",
   "metadata": {},
   "source": [
    "## Conclusion\n",
    "In this project, we analyzed survey data from new coders to find the best two markets to advertise in. The only solid conclusion we reached is that the US would be a good market to advertise in.\n",
    "\n",
    "For the second best market, it wasn't clear-cut what to choose between India and Canada. We decided to send the results to the marketing team so they can use their domain knowledge to take the best decision."
   ]
  }
 ],
 "metadata": {
  "kernelspec": {
   "display_name": "Python 3",
   "language": "python",
   "name": "python3"
  },
  "language_info": {
   "codemirror_mode": {
    "name": "ipython",
    "version": 3
   },
   "file_extension": ".py",
   "mimetype": "text/x-python",
   "name": "python",
   "nbconvert_exporter": "python",
   "pygments_lexer": "ipython3",
   "version": "3.8.2"
  }
 },
 "nbformat": 4,
 "nbformat_minor": 4
}
