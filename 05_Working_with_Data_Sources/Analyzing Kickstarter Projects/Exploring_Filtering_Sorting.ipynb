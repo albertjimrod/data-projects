{
 "cells": [
  {
   "cell_type": "markdown",
   "id": "4f5daf84-8e16-4c07-9686-22a1ac62b535",
   "metadata": {},
   "source": [
    "\n",
    "\n",
    "<img src=\"png/sqlite_jupyter_python.png\" alt=\"drawing\" width=\"700\"/>\n",
    "\n",
    "<br>\n",
    "\n",
    "<br>\n",
    "\n",
    "\n",
    "### The aim of the project\n",
    "\n",
    "The project primarily centers on four key aspects. :\n",
    "\n",
    "\n",
    "- **Configuring Interconnection with Local Database in JupyterLab**:\n",
    "  - Establishing the connection between JupyterLab and the local SQLITE database.\n",
    "  - Setting up the necessary configurations within JupyterLab to access and query the local database seamlessly.\n",
    "\n",
    "- **Utilization of Local SQLITE Database**:\n",
    "  - Involves using the local SQLITE database system.\n",
    "  - Offers efficient data storage and retrieval capabilities.\n",
    "\n",
    "- **Query Execution in JupyterLab**:\n",
    "  - Running queries within the JupyterLab environment.\n",
    "  - JupyterLab serves as an interactive platform for code execution and data analysis.\n",
    "\n",
    "- **Presentation of Query Results**:\n",
    "  - Displaying query results with detailed explanations.\n",
    "  - Aiming to ensure a clear understanding of the data obtained.\n",
    "\n",
    "- **Data Visualization Using Python Libraries**:\n",
    "  - Leveraging Python's available function libraries for potential data visualization needs.\n",
    "  - Creating graphical representations, if required, to enhance data comprehension and presentation.\n",
    "   \n",
    "<br>"
   ]
  },
  {
   "cell_type": "markdown",
   "id": "0c8e880a-1eb6-4331-9c77-b48710f00d16",
   "metadata": {},
   "source": [
    "`conda install anaconda::sqlite`\n",
    "\n",
    "The following packages will be downloaded:\n",
    "\n",
    "    package                    |            build\n",
    "    ---------------------------|-----------------\n",
    "    sqlite-3.39.3              |       h5082296_0         1.5 MB  anaconda\n",
    "    ------------------------------------------------------------\n",
    "                                           Total:         1.5 MB\n",
    "Proceed ([y]/n)? y\n",
    "\n",
    "Downloading and Extracting Packages:\n",
    "\n",
    "Preparing transaction: done\n",
    "Verifying transaction: done\n",
    "Executing transaction: done"
   ]
  },
  {
   "cell_type": "code",
   "execution_count": 1,
   "id": "6e492b76-38b0-419b-887b-d5453052c004",
   "metadata": {},
   "outputs": [],
   "source": [
    "import sqlite3\n",
    "import pandas as pd\n",
    "\n",
    "# Conectar a la base de datos SQLite\n",
    "conn = sqlite3.connect('ksprojects.db')  # Reemplaza 'ruta_de_tu_base_de_datos.db' con la ruta hacia tu base de datos"
   ]
  },
  {
   "cell_type": "code",
   "execution_count": 2,
   "id": "e2d246f1-20d3-493b-9978-e2bdc332ac88",
   "metadata": {},
   "outputs": [
    {
     "data": {
      "text/html": [
       "<style>\n",
       "table {float:left}\n",
       "</style>\n"
      ],
      "text/plain": [
       "<IPython.core.display.HTML object>"
      ]
     },
     "metadata": {},
     "output_type": "display_data"
    }
   ],
   "source": [
    "%%html \n",
    "<style>\n",
    "table {float:left}\n",
    "</style>"
   ]
  },
  {
   "cell_type": "markdown",
   "id": "5b89ebf1-1eb5-41ff-b5b4-bb70c59b76ef",
   "metadata": {},
   "source": [
    "<img src=\"png/Kickstarter_logo.png\" alt=\"drawing\" width=\"700\"/>"
   ]
  },
  {
   "cell_type": "markdown",
   "id": "0769a1c4-c00d-4a2e-b6d1-43a835e21823",
   "metadata": {},
   "source": [
    "\n",
    "As a data analyst at a startup, the product team is considering launching a campaign on [Kickstarter](https://www.kickstarter.com/) to test the viability of some offerings. \n",
    "\n",
    "You've been asked to pull data that will help the team understand what might influence the success of a campaign. The data source is a selection of fields from Kaggle.\n",
    "\n",
    "<br>\n",
    "\n",
    "#### Specifically, we'll answer the following questions:\n",
    "\n",
    "\n",
    "- What types of projects are most likely to be successful?\n",
    "\n",
    "- Which projects fail?\n",
    "\n",
    "<br>\n",
    "\n",
    "To get you started, here are the definitions of the columns in this data:\n",
    "\n",
    "|||\n",
    "|:--|:--|\n",
    "|**ID**: |Kickstarter project ID|\n",
    "|**name**: |Name of project|\n",
    "|**category**: |Category of project|\n",
    "|**main_category**: |Main category of project|\n",
    "|**goal**: |Fundraising goal|\n",
    "|**pledged**: |Amount pledged|\n",
    "|**state**: |State of project (successful, canceled, etc.)|\n",
    "|**backers**: |Number of project backers|\n",
    "|The first step to working with a database is to know what data is actually in it.|  |\n",
    "|||"
   ]
  },
  {
   "cell_type": "markdown",
   "id": "96b56914-2feb-493c-be8c-a7faa97586c4",
   "metadata": {},
   "source": [
    "<br>\n",
    "\n",
    "This database consists of one table, `ksprojects`.\n",
    "\n",
    "List the names and data types for each table in the database.\n",
    "\n",
    "### 3. Create a cursor and run queries: \n",
    "\n",
    "\n",
    "After establishing a connection, it creates a cursor to perform operations on the database.\n"
   ]
  },
  {
   "cell_type": "code",
   "execution_count": 3,
   "id": "e2b42096-2b05-4636-9d88-a0100f009b15",
   "metadata": {},
   "outputs": [
    {
     "name": "stdout",
     "output_type": "stream",
     "text": [
      "[(1000002330, 'The Songs of Adelaide & Abullah', 'Poetry', 'Publishing', 1000.0, 0.0, 'failed', 0), (1000003930, 'Greeting From Earth: ZGAC Arts Capsule For ET', 'Narrative Film', 'Film & Video', 30000.0, 2421.0, 'failed', 15), (1000004038, 'Where is Hank?', 'Narrative Film', 'Film & Video', 45000.0, 220.0, 'failed', 3)]\n"
     ]
    }
   ],
   "source": [
    "# Crear un cursor\n",
    "cursor = conn.cursor()\n",
    "\n",
    "# Ejecutar una consulta\n",
    "cursor.execute(\"SELECT * FROM ksprojects LIMIT 3\")\n",
    "\n",
    "# Obtener los resultados de la consulta\n",
    "results = cursor.fetchall()\n",
    "\n",
    "# Mostrar los resultados\n",
    "print(results)"
   ]
  },
  {
   "cell_type": "markdown",
   "id": "c452dcee-ecc3-4323-b00d-8582678d5dee",
   "metadata": {},
   "source": [
    "Due to the nature of databases, it is not possible to display the name of the columns and the result of the request. \n",
    "\n",
    "Therefore, it is necessary to make use of some function that allows us to visualize this information in a comfortable way.\n",
    "\n",
    "The following function discriminates between a query with a * that is basically intended to show the name of all the columns of a query, let's say normal, in which all the columns may not be present"
   ]
  },
  {
   "cell_type": "code",
   "execution_count": null,
   "id": "d4aaff95-d32b-43ae-8b30-cee625d8eba9",
   "metadata": {},
   "outputs": [],
   "source": [
    "# PRAGMA\n",
    "\n",
    "txt = \"PRAGMA table_info(ksprojects)\"\n",
    "lista = list()\n",
    "\n",
    "cursor = conn.cursor()\n",
    "cursor.execute(txt)\n",
    "results = cursor.fetchall()\n",
    "\n",
    "for i in results:\n",
    "    lista.append(i)\n",
    "\n",
    "t_1 = lista[0]\n",
    "\n",
    "for names in range(0,len(lista)):\n",
    "    print(lista[names][1])"
   ]
  },
  {
   "cell_type": "code",
   "execution_count": null,
   "id": "dc48676c-085f-4e06-8484-72778447b33e",
   "metadata": {},
   "outputs": [],
   "source": [
    "# SELECT\n",
    "\n",
    "txt = \"PRAGMA table_info(ksprojects)\"\n",
    "\n",
    "lista = list()\n",
    "\n",
    "cursor = conn.cursor()\n",
    "cursor.execute(txt)\n",
    "results = cursor.fetchall()\n",
    "\n",
    "for i in results:\n",
    "    lista.append(i)\n",
    "\n",
    "t_1 = lista[0]\n",
    "\n",
    "offset_SELECT = 6\n",
    "start = txt.find('SELECT')\n",
    "end = txt.find(\"FROM\")\n",
    "columns_names = txt[start + offset_SELECT:end]\n",
    "columns_names = columns_names.replace(\",\", \" \")\n",
    "print(columns_names)\n",
    "    \n",
    "for names in range(0,len(lista)):\n",
    "    print(lista[names])"
   ]
  },
  {
   "cell_type": "code",
   "execution_count": 4,
   "id": "cf45dd7b-eeee-486b-9149-dd1c03cfbffa",
   "metadata": {},
   "outputs": [],
   "source": [
    "#txt = \"PRAGMA table_info(ksprojects)\"\n",
    "#txt = \"SELECT * FROM ksprojects LIMIT 3\"\n",
    "#txt = \"SELECT main_category, goal, backers, pledged FROM  ksprojects \\LIMIT 10 \"\n",
    "\n",
    "def query(txt):\n",
    "    lista = list()\n",
    "\n",
    "    if 'PRAGMA' in txt:\n",
    "        cursor = conn.cursor()\n",
    "        cursor.execute(txt)\n",
    "        results = cursor.fetchall()\n",
    "\n",
    "        for i in results:\n",
    "            lista.append(i)\n",
    "\n",
    "        t_1 = lista[0]\n",
    "\n",
    "        for names in range(0,len(lista)):\n",
    "            print(lista[names][1])\n",
    "\n",
    "    elif 'SELECT' in txt and '*' not in txt:\n",
    "        cursor = conn.cursor()\n",
    "        cursor.execute(txt)\n",
    "        results = cursor.fetchall()\n",
    "\n",
    "        for i in results:\n",
    "            lista.append(i)\n",
    "\n",
    "        t_1 = lista[0]\n",
    "\n",
    "        offset_SELECT = 6\n",
    "        start = txt.find('SELECT')\n",
    "        end = txt.find(\"FROM\")\n",
    "        columns_names = txt[start + offset_SELECT:end]\n",
    "        columns_names = columns_names.replace(\",\", \" \")\n",
    "\n",
    "        print(columns_names)\n",
    "\n",
    "        for names in range(0,len(lista)):\n",
    "            print(lista[names])\n",
    "\n",
    "    elif '*' in txt:\n",
    "        pragma = 'PRAGMA table_info(ksprojects)' # make the database name done by parameters...\n",
    "        cursor = conn.cursor()\n",
    "        cursor.execute(pragma)\n",
    "        result = cursor.fetchall()\n",
    "\n",
    "        salida = list()\n",
    "        listo = list()\n",
    "        for a in result:\n",
    "            listo.append(a)\n",
    "\n",
    "        for nam in range(0,len(listo)):\n",
    "            salida.append(listo[nam][1])\n",
    "\n",
    "        print(salida)\n",
    "\n",
    "        cursor = conn.cursor()\n",
    "        cursor.execute(txt)\n",
    "        results = cursor.fetchall()\n",
    "\n",
    "        for i in results:\n",
    "            lista.append(i)\n",
    "\n",
    "        t_1 = lista[0]\n",
    "        for names in range(0,len(lista)):\n",
    "            print(lista[names])"
   ]
  },
  {
   "cell_type": "code",
   "execution_count": null,
   "id": "e188d76c-6620-48d2-8467-208d30ddab61",
   "metadata": {},
   "outputs": [],
   "source": []
  },
  {
   "cell_type": "code",
   "execution_count": null,
   "id": "8fc2ae84-a6c6-40c3-8c77-aa1f5dcb48db",
   "metadata": {},
   "outputs": [],
   "source": []
  },
  {
   "cell_type": "code",
   "execution_count": null,
   "id": "9483ca6a-2550-4b22-ab50-9551d880c327",
   "metadata": {},
   "outputs": [],
   "source": []
  },
  {
   "cell_type": "code",
   "execution_count": null,
   "id": "87fbf86f-5f58-4dc9-b15b-db54a559f19b",
   "metadata": {},
   "outputs": [],
   "source": []
  },
  {
   "cell_type": "code",
   "execution_count": null,
   "id": "24203ad1-d00c-4552-b72f-1f349d7a8d11",
   "metadata": {},
   "outputs": [],
   "source": []
  },
  {
   "cell_type": "code",
   "execution_count": null,
   "id": "4c4a17b5-1aea-4449-88c2-8122b3badac8",
   "metadata": {},
   "outputs": [],
   "source": []
  },
  {
   "cell_type": "code",
   "execution_count": null,
   "id": "ccdf1a5c-bd71-43f5-b05a-c77ef180e565",
   "metadata": {},
   "outputs": [],
   "source": []
  },
  {
   "cell_type": "code",
   "execution_count": null,
   "id": "af801cdf-a671-4416-b729-092f63e482e5",
   "metadata": {},
   "outputs": [],
   "source": []
  },
  {
   "cell_type": "code",
   "execution_count": null,
   "id": "421f8283-4e9c-41ad-a007-e5740de97e1f",
   "metadata": {},
   "outputs": [],
   "source": []
  },
  {
   "cell_type": "code",
   "execution_count": null,
   "id": "90ed1e6a-d3bf-4e47-badd-c8d36c6fb128",
   "metadata": {},
   "outputs": [],
   "source": [
    "txt=\"SELECT * FROM  ksprojects \\\n",
    "LIMIT 5\"\n",
    "\n",
    "#txt = \"PRAGMA table_info(ksprojects)\"\n",
    "#txt = \"SELECT main_category, goal, backers, pledged FROM  ksprojects \\ LIMIT 10 \"\n",
    "\n",
    "lista = list()\n",
    "\n",
    "if 'PRAGMA' in txt: # significa que quiero mostrar las columnas de la base de datos\n",
    "    lista = list()\n",
    "\n",
    "    cursor = conn.cursor()\n",
    "    cursor.execute(txt)\n",
    "    results = cursor.fetchall()\n",
    "\n",
    "    for i in results:\n",
    "        lista.append(i)\n",
    "\n",
    "    t_1 = lista[0]\n",
    "\n",
    "    for names in range(0,len(lista)):\n",
    "        print(lista[names][1])\n",
    "        \n",
    "elif '*' in txt: # significa que quiero mostrar las columnas de la base de datos\n",
    "    pass\n",
    "\n",
    "\n",
    "elif 'SELECT' in txt:\n",
    "    cursor = conn.cursor()\n",
    "    cursor.execute(txt)\n",
    "    results = cursor.fetchall()\n",
    "\n",
    "    for i in results:\n",
    "        lista.append(i)\n",
    "\n",
    "    t_1 = lista[0]\n",
    "\n",
    "    offset_SELECT = 6\n",
    "    start = txt.find('SELECT')\n",
    "    end = txt.find(\"FROM\")\n",
    "    columns_names = txt[start + offset_SELECT:end]\n",
    "    columns_names = columns_names.replace(\",\", \" \")\n",
    "    print(columns_names)\n",
    "\n",
    "    for names in range(0,len(lista)):\n",
    "        print(lista[names])"
   ]
  },
  {
   "cell_type": "code",
   "execution_count": null,
   "id": "2cb85381-8c4c-4e4c-98fd-0290a51710cb",
   "metadata": {},
   "outputs": [],
   "source": []
  },
  {
   "cell_type": "code",
   "execution_count": null,
   "id": "f7d94692-0f90-4dbe-ac7d-01a518b2fb12",
   "metadata": {},
   "outputs": [],
   "source": [
    "#txt=\"SELECT * FROM  ksprojects \\ LIMIT 10\"\n",
    "txt = \"PRAGMA table_info(ksprojects)\"\n",
    "#txt = \"SELECT main_category, goal, backers, pledged FROM  ksprojects \\ LIMIT 10 \"\n",
    "\n",
    "lista = list()\n",
    "listo = list()\n",
    "\n",
    "if 'PRAGMA' or '*' in txt: # significa que quiero mostrar las columnas de la base de datos\n",
    "    cursor = conn.cursor()\n",
    "    cursor.execute(txt)\n",
    "    results = cursor.fetchall()\n",
    "\n",
    "    for i in results:\n",
    "        lista.append(i)\n",
    "\n",
    "    t_1 = lista[0]\n",
    "\n",
    "    for names in range(0,len(lista)):\n",
    "        print(lista[names][1])\n",
    "        \n",
    "elif '*' in txt: # significa que quiero mostrar las columnas de la base de datos\n",
    "    offset_SELECT = 6\n",
    "    start = txt.find('SELECT')\n",
    "    end = txt.find(\"FROM\")\n",
    "    columns_names = txt[start + offset_SELECT:end]\n",
    "    columns_names = columns_names.replace(\",\", \" \")\n",
    "    print(columns_names)"
   ]
  },
  {
   "cell_type": "markdown",
   "id": "a344189c-522d-413e-b6e7-ecf2b9788038",
   "metadata": {},
   "source": [
    "### What does our database look like?"
   ]
  },
  {
   "cell_type": "code",
   "execution_count": 5,
   "id": "f1832934-4a27-4011-abbe-84780ea02baa",
   "metadata": {},
   "outputs": [
    {
     "name": "stdout",
     "output_type": "stream",
     "text": [
      "ID\n",
      "name\n",
      "category\n",
      "main_category\n",
      "goal\n",
      "pledged\n",
      "state\n",
      "backers\n"
     ]
    }
   ],
   "source": [
    "query(\"PRAGMA table_info(ksprojects)\")"
   ]
  },
  {
   "cell_type": "markdown",
   "id": "1a94158d-b6a9-4cb0-9a94-177c7c750725",
   "metadata": {},
   "source": [
    "### What the first 10 lines look like, just to get an idea of the content."
   ]
  },
  {
   "cell_type": "code",
   "execution_count": 6,
   "id": "6ff592fc-2719-4482-8554-1b31cce513dc",
   "metadata": {},
   "outputs": [
    {
     "name": "stdout",
     "output_type": "stream",
     "text": [
      "['ID', 'name', 'category', 'main_category', 'goal', 'pledged', 'state', 'backers']\n",
      "(1000002330, 'The Songs of Adelaide & Abullah', 'Poetry', 'Publishing', 1000.0, 0.0, 'failed', 0)\n",
      "(1000003930, 'Greeting From Earth: ZGAC Arts Capsule For ET', 'Narrative Film', 'Film & Video', 30000.0, 2421.0, 'failed', 15)\n",
      "(1000004038, 'Where is Hank?', 'Narrative Film', 'Film & Video', 45000.0, 220.0, 'failed', 3)\n",
      "(1000007540, 'ToshiCapital Rekordz Needs Help to Complete Album', 'Music', 'Music', 5000.0, 1.0, 'failed', 1)\n",
      "(1000011046, 'Community Film Project: The Art of Neighborhood Filmmaking', 'Film & Video', 'Film & Video', 19500.0, 1283.0, 'canceled', 14)\n",
      "(1000014025, 'Monarch Espresso Bar', 'Restaurants', 'Food', 50000.0, 52375.0, 'successful', 224)\n",
      "(1000023410, 'Support Solar Roasted Coffee & Green Energy!  SolarCoffee.co', 'Food', 'Food', 1000.0, 1205.0, 'successful', 16)\n",
      "(1000030581, 'Chaser Strips. Our Strips make Shots their B*tch!', 'Drinks', 'Food', 25000.0, 453.0, 'failed', 40)\n",
      "(1000034518, 'SPIN - Premium Retractable In-Ear Headphones with Mic', 'Product Design', 'Design', 125000.0, 8233.0, 'canceled', 58)\n",
      "(100004195, 'STUDIO IN THE SKY - A Documentary Feature Film (Canceled)', 'Documentary', 'Film & Video', 65000.0, 6240.57, 'canceled', 43)\n"
     ]
    }
   ],
   "source": [
    "query(\"SELECT * \\\n",
    "         FROM ksprojects \\\n",
    "        LIMIT 10\")"
   ]
  },
  {
   "cell_type": "markdown",
   "id": "6e3dccd9-f9ef-436c-b74d-7217e95e67f9",
   "metadata": {},
   "source": [
    "### Columns and row selection:\n",
    "\n",
    "<br>\n",
    "\n",
    "To start, even a database with one table likely contains data that's not necessary to our analysis. In this step, we'll specify which columns to read from the table.\n",
    "\n",
    "- Pull the relevant columns from the `ksprojects` table that will allow us to assess a project's result based on its `main category`, amount of money set as a `goal`, number of `backers`, and amount of money `pledged`. \n",
    "\n",
    "- Return just the first 10 rows."
   ]
  },
  {
   "cell_type": "code",
   "execution_count": 7,
   "id": "317adb52-2eb2-41a5-9eb6-4d67b24cb653",
   "metadata": {},
   "outputs": [
    {
     "name": "stdout",
     "output_type": "stream",
     "text": [
      " main_category  goal  backers  pledged         \n",
      "('Publishing', 1000.0, 0, 0.0)\n",
      "('Film & Video', 30000.0, 15, 2421.0)\n",
      "('Film & Video', 45000.0, 3, 220.0)\n",
      "('Music', 5000.0, 1, 1.0)\n",
      "('Film & Video', 19500.0, 14, 1283.0)\n",
      "('Food', 50000.0, 224, 52375.0)\n",
      "('Food', 1000.0, 16, 1205.0)\n",
      "('Food', 25000.0, 40, 453.0)\n",
      "('Design', 125000.0, 58, 8233.0)\n",
      "('Film & Video', 65000.0, 43, 6240.57)\n"
     ]
    }
   ],
   "source": [
    "query(\"SELECT main_category, goal, backers, pledged \\\n",
    "        FROM  ksprojects \\\n",
    "        LIMIT 10\")"
   ]
  },
  {
   "cell_type": "markdown",
   "id": "0731d085-f8a1-4f3a-b24d-64805071014c",
   "metadata": {},
   "source": [
    "### Filtering by Category:\n",
    "\n",
    "<br>\n",
    "\n",
    "Now that you've selected the relevant columns, we'll filter the data to include only those in certain categories.\n",
    "\n",
    "- Repeat your query from the previous screen, but this time only keep the records where the project state is either `'failed'`, `'canceled'`, or `'suspended'`.\n",
    "\n",
    "- Return just the first 10 rows."
   ]
  },
  {
   "cell_type": "code",
   "execution_count": 8,
   "id": "a87bdf10-9f14-40f3-b96f-048d601b1582",
   "metadata": {},
   "outputs": [
    {
     "name": "stdout",
     "output_type": "stream",
     "text": [
      " main_category  goal  backers  pledged         \n",
      "('Publishing', 1000.0, 0, 0.0)\n",
      "('Film & Video', 30000.0, 15, 2421.0)\n",
      "('Film & Video', 45000.0, 3, 220.0)\n",
      "('Music', 5000.0, 1, 1.0)\n",
      "('Film & Video', 19500.0, 14, 1283.0)\n",
      "('Food', 25000.0, 40, 453.0)\n",
      "('Design', 125000.0, 58, 8233.0)\n",
      "('Film & Video', 65000.0, 43, 6240.57)\n",
      "('Publishing', 2500.0, 0, 0.0)\n",
      "('Crafts', 5000.0, 0, 0.0)\n"
     ]
    }
   ],
   "source": [
    "query(\"SELECT main_category, goal, backers, pledged \\\n",
    "        FROM  ksprojects \\\n",
    "        WHERE state = 'failed' OR state = 'canceled' OR state = 'suspended' \\\n",
    "        LIMIT 10;\")"
   ]
  },
  {
   "cell_type": "markdown",
   "id": "a087af3a-dca1-4eba-84a2-4a0a787afa7c",
   "metadata": {},
   "source": [
    "### Filtering by Quantity\n",
    "\n",
    "We'll only want to look at projects of a certain size. \n",
    "\n",
    "This is because there are a lot of small projects in the database that aren't relevant to our analysis. Now that we've filtered our records to meet certain categories, let's also filter them to meet given quantities, too.\n",
    "\n",
    "- Pull the relevant columns from the `ksprojects` table that will allow us to assess a project's result based on its `main category`, amount of money set as a `goal`, number of `backers`, and amount of money `pledged`. \n",
    "\n",
    "- Return just the first 10 rows."
   ]
  },
  {
   "cell_type": "code",
   "execution_count": 9,
   "id": "38635a55-f160-484f-925d-d0021d2c83ca",
   "metadata": {},
   "outputs": [
    {
     "name": "stdout",
     "output_type": "stream",
     "text": [
      " main_category  backers  pledged  goal          \n",
      "('Technology', 120, 90771.0, 250000.0)\n",
      "('Design', 647, 39693.0, 25000.0)\n",
      "('Technology', 103, 61416.0, 5000.0)\n",
      "('Art', 257, 50230.0, 100000.0)\n",
      "('Film & Video', 135, 23098.0, 150000.0)\n",
      "('Film & Video', 189, 20677.0, 50000.0)\n",
      "('Film & Video', 118, 25877.0, 100000.0)\n",
      "('Technology', 108, 45687.01, 60000.0)\n",
      "('Technology', 209, 33916.0, 50000.0)\n",
      "('Technology', 310, 85017.0, 96485.0)\n"
     ]
    }
   ],
   "source": [
    "query(\"SELECT main_category, backers, pledged, goal \\\n",
    "         FROM ksprojects \\\n",
    "        WHERE state IN ('failed', 'canceled', 'suspended') AND backers >=100 AND pledged > 20000 \\\n",
    "        LIMIT 10;\")"
   ]
  },
  {
   "cell_type": "markdown",
   "id": "5bebb32c-843d-49ac-a7aa-00df7f61f0ec",
   "metadata": {},
   "source": [
    "### Ordering Results\n",
    "\n",
    "<br>\n",
    "\n",
    "In addition to selecting the relevant columns and filtering the relevant rows, sorting your results can be quite valuable in making sense of the data. In this case, the product team would like to view projects by categories, along with the percentage of the goal that was funded.\n",
    "\n",
    "\n",
    "- Main category sorted in ascending order.\n",
    "\n",
    "- A **calculated field** `called pct_pledged`, which divides `pledged` by `goal`. Sort this field in **descending order**.\n",
    "\n",
    "- Now, modify your query so that only projects in a failed state are returned."
   ]
  },
  {
   "cell_type": "code",
   "execution_count": 10,
   "id": "028fed6d-38c8-45e3-8dc9-4e93c47d1a04",
   "metadata": {},
   "outputs": [
    {
     "name": "stdout",
     "output_type": "stream",
     "text": [
      " main_category  backers  pledged  goal  pledged/goal AS pct_pledged         \n",
      "('Art', 315, 49191.0, 50000.0, 0.98382)\n",
      "('Art', 294, 52565.25, 60000.0, 0.8760875)\n",
      "('Art', 172, 21310.0, 25000.0, 0.8524)\n",
      "('Art', 185, 27630.24, 35000.0, 0.7894354285714286)\n",
      "('Art', 552, 37621.97, 50000.0, 0.7524394)\n",
      "('Art', 159, 31657.0, 45000.0, 0.7034888888888889)\n",
      "('Art', 336, 33485.0, 52000.0, 0.6439423076923076)\n",
      "('Art', 130, 20374.99, 35000.0, 0.5821425714285715)\n",
      "('Art', 133, 54387.0, 100000.0, 0.54387)\n",
      "('Art', 136, 39206.49, 77777.0, 0.5040884837419802)\n"
     ]
    }
   ],
   "source": [
    "query(\"SELECT main_category, backers, pledged, goal, pledged/goal AS pct_pledged \\\n",
    "        FROM  ksprojects \\\n",
    "        WHERE state IN ('failed') AND backers >= 100 AND pledged >= 20000 \\\n",
    "        ORDER BY main_category ASC, pct_pledged  DESC \\\n",
    "        LIMIT 10;\")"
   ]
  },
  {
   "cell_type": "markdown",
   "id": "3feb0462-d95a-416d-bcc4-5750792070a0",
   "metadata": {},
   "source": [
    "### Applying Conditional Logic\n",
    "\n",
    "<br>\n",
    "\n",
    "It can often be helpful to make sense of a set of records by grouping them into categories based on some condition, which in SQL can be done with CASE statements.\n",
    "\n",
    "While it's interesting to view the results of failed projects by metrics like the number of backers, what really makes or breaks a Kickstarter project is whether it meets its pledge goal.\n",
    "\n",
    "\n",
    "Create a field `funding_status` that applies the following logic based on the percentage of amount pledged to campaign goal:\n",
    "\n",
    "- If the percentage pledged is greater than or equal to 1, then the project is \"Fully funded.\"\n",
    "- If the percentage pledged is between 75% and 100%, then the project is \"Nearly funded.\"\n",
    "- If the percentage pledged is less than 75%, then the project is \"Not nearly funded.\"\n"
   ]
  },
  {
   "cell_type": "code",
   "execution_count": 11,
   "id": "6030483b-c78f-447c-b7ad-d64a85048d43",
   "metadata": {},
   "outputs": [
    {
     "name": "stdout",
     "output_type": "stream",
     "text": [
      " main_category  backers  pledged  goal  pledged / goal AS pct_pledged          \n",
      "('Art', 315, 49191.0, 50000.0, 0.98382)\n",
      "('Art', 294, 52565.25, 60000.0, 0.8760875)\n",
      "('Art', 172, 21310.0, 25000.0, 0.8524)\n",
      "('Art', 185, 27630.24, 35000.0, 0.7894354285714286)\n",
      "('Art', 552, 37621.97, 50000.0, 0.7524394)\n",
      "('Art', 159, 31657.0, 45000.0, 0.7034888888888889)\n",
      "('Art', 336, 33485.0, 52000.0, 0.6439423076923076)\n",
      "('Art', 130, 20374.99, 35000.0, 0.5821425714285715)\n",
      "('Art', 133, 54387.0, 100000.0, 0.54387)\n",
      "('Art', 136, 39206.49, 77777.0, 0.5040884837419802)\n"
     ]
    }
   ],
   "source": [
    "query(\"SELECT main_category, backers, pledged, goal, pledged / goal AS pct_pledged \\\n",
    "         FROM ksprojects \\\n",
    "        WHERE state IN ('failed') AND backers >= 100 AND pledged >= 20000 \\\n",
    "        ORDER BY main_category, pct_pledged DESC \\\n",
    "        LIMIT 10;\")"
   ]
  },
  {
   "cell_type": "code",
   "execution_count": null,
   "id": "0e51fb41-3bc2-460c-b07b-aeab7ddcd889",
   "metadata": {},
   "outputs": [],
   "source": []
  },
  {
   "cell_type": "code",
   "execution_count": null,
   "id": "b72a61a5-e320-489d-a535-e4671833dc9c",
   "metadata": {},
   "outputs": [],
   "source": []
  }
 ],
 "metadata": {
  "kernelspec": {
   "display_name": "Python 3 (ipykernel)",
   "language": "python",
   "name": "python3"
  },
  "language_info": {
   "codemirror_mode": {
    "name": "ipython",
    "version": 3
   },
   "file_extension": ".py",
   "mimetype": "text/x-python",
   "name": "python",
   "nbconvert_exporter": "python",
   "pygments_lexer": "ipython3",
   "version": "3.8.13"
  }
 },
 "nbformat": 4,
 "nbformat_minor": 5
}
