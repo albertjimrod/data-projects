{
 "cells": [
  {
   "cell_type": "markdown",
   "metadata": {},
   "source": [
    "# CIA World Factbook database.\n",
    "\n",
    "What is intended with the following analysis is to work with Jupyter the MySQL database and the possibility of graphing data together.\n",
    "\n",
    "<br>\n",
    "\n",
    "The [CIA World Factbook database](https://www.cia.gov/the-world-factbook/) is a compendium of statistics about all of the countries on Earth. The Factbook contains demographic information, as we will always create our data dictionary, in this way it will be much easier to know how to interpret in case of doubt the information with which we are working.\n",
    "\n",
    "<br>\n",
    "\n",
    "- `name` — the name of the country.\n",
    "- `area`— the country's total area (both land and water).\n",
    "- `area_land` — the country's land area in square kilometers.\n",
    "- `area_water` — the country's waterarea in square kilometers.\n",
    "- `population` — the country's population.\n",
    "- `population_growth`— the country's population growth as a percentage.\n",
    "- `birth_rate` — the country's birth rate, or the number of births per year per 1,000 people.\n",
    "- `death_rate` — the country's death rate, or the number of death per year per 1,000 people.\n",
    "\n",
    "<br>\n",
    "\n",
    "Through the following mind map we can have a clearer idea of what will be the steps we are going to do in our brief analysis.\n",
    "\n",
    "\n",
    "\n",
    "![CIA_Factbook_Data](CIA_Factbook_Data.png)"
   ]
  },
  {
   "cell_type": "code",
   "execution_count": 2,
   "metadata": {},
   "outputs": [
    {
     "name": "stdout",
     "output_type": "stream",
     "text": [
      "/home/ion/Formacion/Dataquest/Data Scientist in Python/Step-5/5-1-SQL Fundamentals/04_Guided Project: Analyzing CIA Factbook Data Using SQL\r\n"
     ]
    }
   ],
   "source": [
    "!pwd"
   ]
  },
  {
   "cell_type": "markdown",
   "metadata": {},
   "source": [
    "### Loading libraries"
   ]
  },
  {
   "cell_type": "code",
   "execution_count": 1,
   "metadata": {},
   "outputs": [],
   "source": [
    "import seaborn as sns\n",
    "import matplotlib.pyplot as plt"
   ]
  },
  {
   "cell_type": "markdown",
   "metadata": {},
   "source": [
    "To connect two independent systems like **Jupyter / SQL**, it is necessary to make use of two [magic cells](https://ipython.readthedocs.io/en/stable/interactive/magics.html#cellmagic-capture) provided by Jupyter:\n",
    "\n",
    "- `%%capture`\n",
    "- `%load_ext sql`"
   ]
  },
  {
   "cell_type": "code",
   "execution_count": 3,
   "metadata": {},
   "outputs": [
    {
     "name": "stdout",
     "output_type": "stream",
     "text": [
      "  mysql.service                                                                                                           loaded active     running   MySQL Community Server                                                       \r\n"
     ]
    }
   ],
   "source": [
    "!systemctl | grep mysql.service"
   ]
  },
  {
   "cell_type": "markdown",
   "metadata": {},
   "source": [
    "We see that the `MySQL Community Server` database is up and running.\n",
    "\n",
    "-----\n",
    "\n",
    " `%%capture`\n",
    "    \n",
    "  `%capture [--no-stderr] [--no-stdout] [--no-display] [output]`\n",
    "    \n",
    "  *run the cell, capturing stdout, stderr, and IPython’s rich display() calls.*\n",
    "\n",
    "  **positional arguments:**\n",
    "  \n",
    "   *output The name of the variable in which to store output. This is a\n",
    "    utils.io.CapturedIO object with stdout/err attributes for the text of the captured output. \n",
    "    CapturedOutput also has a show() method for displaying the output, and __call__ as well, so you can use that to quickly display the output. If unspecified, captured output is discarded.*\n",
    "\n",
    "  `options:`\n",
    "  **--no-stderr**\n",
    "    Don’t capture stderr.\n",
    "\n",
    "  **--no-stdout**\n",
    "    Don’t capture stdout.\n",
    "\n",
    "   **--no-display**\n",
    "    Don’t capture IPython’s rich display.\n",
    "\n",
    "-----\n",
    "\n",
    "- `%load_ext sql`\n",
    "   \n",
    " **Load an IPython extension** by its module name."
   ]
  },
  {
   "cell_type": "code",
   "execution_count": null,
   "metadata": {},
   "outputs": [],
   "source": [
    "%%capture\n",
    "%load_ext sql"
   ]
  },
  {
   "cell_type": "markdown",
   "metadata": {},
   "source": [
    "#### We call an iPython extension using magic cells called sql that allows us to connect our database"
   ]
  },
  {
   "cell_type": "code",
   "execution_count": null,
   "metadata": {},
   "outputs": [],
   "source": [
    "%sql sqlite:///factbook.db "
   ]
  },
  {
   "cell_type": "markdown",
   "metadata": {},
   "source": [
    "### Overview of the Data\n",
    "\n",
    "Information about the database we are going to work on."
   ]
  },
  {
   "cell_type": "code",
   "execution_count": null,
   "metadata": {},
   "outputs": [],
   "source": [
    "%%sql\n",
    "SELECT *\n",
    "  FROM sqlite_master \n",
    "WHERE type='table';"
   ]
  },
  {
   "cell_type": "markdown",
   "metadata": {},
   "source": [
    "### Column names:"
   ]
  },
  {
   "cell_type": "code",
   "execution_count": null,
   "metadata": {},
   "outputs": [],
   "source": [
    "%%sql\n",
    "\n",
    "SELECT * FROM facts\n",
    "LIMIT 0;"
   ]
  },
  {
   "cell_type": "markdown",
   "metadata": {},
   "source": [
    "#### Missing values:"
   ]
  },
  {
   "cell_type": "code",
   "execution_count": null,
   "metadata": {},
   "outputs": [],
   "source": [
    "%%sql\n",
    "\n",
    "SELECT COUNT(*) AS 'TOTAL ROWS',\n",
    "        COUNT(*) - COUNT(code) AS \"NULL's in CODE\",\n",
    "        COUNT(*) - COUNT(name) AS \"NULL's in NAME\",\n",
    "        COUNT(*) - COUNT(area) AS \"NULL's in AREA\",\n",
    "        COUNT(*) - COUNT(area_land) AS \"NULL's in AREA LAND\",\n",
    "        COUNT(*) - COUNT(area_water) AS \"NULL's in AREA H2O\",\n",
    "        COUNT(*) - COUNT(population) AS \"NULL's in POP\",\n",
    "        COUNT(*) - COUNT(population_growth) AS \"NULL's in POP_GRW\",\n",
    "        COUNT(*) - COUNT(birth_rate) AS \"NULL's in BIRTH RATE\",\n",
    "        COUNT(*) - COUNT(death_rate) AS \"NULL's in DEATH RATE\",\n",
    "        COUNT(*) - COUNT(migration_rate) AS \"NULL's in MIGRATION RATE\"\n",
    "    FROM facts;"
   ]
  },
  {
   "cell_type": "markdown",
   "metadata": {},
   "source": [
    "This is what the first five rows of the `facts` table in the database."
   ]
  },
  {
   "cell_type": "code",
   "execution_count": null,
   "metadata": {},
   "outputs": [],
   "source": [
    "%%sql\n",
    "\n",
    "SELECT *\n",
    "    FROM facts\n",
    "LIMIT 5;"
   ]
  },
  {
   "cell_type": "markdown",
   "metadata": {},
   "source": [
    "### Summary Statistics.\n",
    "\n",
    "Single query with `Minimum / Maximum population` and `Minimum / Maximum growth`."
   ]
  },
  {
   "cell_type": "code",
   "execution_count": null,
   "metadata": {},
   "outputs": [],
   "source": [
    "%%sql\n",
    "\n",
    "SELECT MIN(population) AS `Minimum population on a Country`,\n",
    "    MAX(population) AS `Maximum number of population`, \n",
    "    MIN(population_growth) AS `Minimum Growth population`,  \n",
    "    MAX(population_growth) AS `Maximum growth population`\n",
    "FROM facts;"
   ]
  },
  {
   "cell_type": "markdown",
   "metadata": {},
   "source": [
    "Then we will make a series of requests to the database to obtain the information we need.\n",
    "\n",
    "### Exploring Outliers:\n",
    "\n",
    "#### Which is the country with `0` population?"
   ]
  },
  {
   "cell_type": "code",
   "execution_count": null,
   "metadata": {},
   "outputs": [],
   "source": [
    "%%sql\n",
    "\n",
    "SELECT name AS 'Country', population AS Population\n",
    "    FROM facts\n",
    "    WHERE population = (SELECT MIN(population)\n",
    "                       FROM facts)\n",
    "    ORDER BY population DESC;"
   ]
  },
  {
   "cell_type": "markdown",
   "metadata": {},
   "source": [
    "# 🐧\n",
    "\n",
    "#### Which are the ten countries with the smallest population?"
   ]
  },
  {
   "cell_type": "code",
   "execution_count": null,
   "metadata": {},
   "outputs": [],
   "source": [
    "%%sql\n",
    "\n",
    "SELECT name AS 'Country', population AS 'Population'\n",
    "    FROM facts\n",
    "    WHERE population > (SELECT MIN(population)\n",
    "                       FROM facts)\n",
    "    ORDER BY population ASC\n",
    "    LIMIT 10;"
   ]
  },
  {
   "cell_type": "code",
   "execution_count": null,
   "metadata": {},
   "outputs": [],
   "source": [
    "import matplotlib.pyplot as plt\n",
    "\n",
    "smallest_pop = _ \n",
    "df_smallest_pop = smallest_pop.DataFrame()\n",
    "\n",
    "countries = df_smallest_pop['Country']\n",
    "population = df_smallest_pop['Population']\n",
    "\n",
    "plt.title(\"Countries vs Population\")\n",
    "plt.barh(countries, population)\n",
    "\n",
    "plt.show()"
   ]
  },
  {
   "cell_type": "markdown",
   "metadata": {},
   "source": [
    "#### The amount of Population in the World."
   ]
  },
  {
   "cell_type": "code",
   "execution_count": null,
   "metadata": {},
   "outputs": [],
   "source": [
    "%%sql \n",
    "\n",
    "SELECT name AS 'Country', population AS 'Population'\n",
    "    FROM facts\n",
    "    WHERE population = (SELECT MAX(population)\n",
    "                       FROM facts)\n",
    "    ORDER BY population DESC;"
   ]
  },
  {
   "cell_type": "markdown",
   "metadata": {},
   "source": [
    "# 🌐\n",
    "\n",
    "#### Which are the ten countries with the largest population?"
   ]
  },
  {
   "cell_type": "code",
   "execution_count": null,
   "metadata": {},
   "outputs": [],
   "source": [
    "%%sql\n",
    "\n",
    "SELECT name AS 'Country', population AS 'Population'\n",
    "    FROM facts\n",
    "    WHERE population < (SELECT MAX(population)\n",
    "                        FROM facts)\n",
    "    ORDER BY population DESC\n",
    "    LIMIT 10;"
   ]
  },
  {
   "cell_type": "markdown",
   "metadata": {},
   "source": [
    "#### Is there a country where children are not born?"
   ]
  },
  {
   "cell_type": "code",
   "execution_count": null,
   "metadata": {},
   "outputs": [],
   "source": [
    "%%sql\n",
    "\n",
    "SELECT name AS 'Country', population_growth AS 'Number of births'\n",
    "    FROM facts\n",
    "    WHERE population_growth = (SELECT MIN(population_growth)\n",
    "                       FROM facts)\n",
    "    ORDER BY population DESC;"
   ]
  },
  {
   "cell_type": "markdown",
   "metadata": {},
   "source": [
    "- [Geendland](https://visitgreenland.com/)\n",
    "\n",
    "- [Holy See (Vatican City)](https://www.vatican.va/content/vatican/en.html)\n",
    "\n",
    "- [Cocos (Keeling) Islands](https://www.cocoskeelingislands.com.au/)\n",
    "\n",
    "- [Pitcairn Islands](https://www.government.pn/)\n",
    "\n",
    "#### Which are the ten countries with the highest birth rate on the planet?"
   ]
  },
  {
   "cell_type": "code",
   "execution_count": null,
   "metadata": {},
   "outputs": [],
   "source": [
    "%%sql\n",
    "\n",
    "SELECT name, population_growth AS 'Births'\n",
    "    FROM facts\n",
    "    WHERE population_growth <= (SELECT MAX(population_growth)\n",
    "                              FROM facts)\n",
    "    ORDER BY population_growth DESC\n",
    "    LIMIT 10;"
   ]
  },
  {
   "cell_type": "markdown",
   "metadata": {},
   "source": [
    "# 🐣\n",
    "\n",
    "#### Exploring Average Population and Area"
   ]
  },
  {
   "cell_type": "code",
   "execution_count": null,
   "metadata": {},
   "outputs": [],
   "source": [
    "%%sql\n",
    "\n",
    "SELECT  MIN(population) AS 'Minim population',\n",
    "        MAX(population) AS 'Max population', \n",
    "        MIN(population_growth) AS 'Minim growth', \n",
    "        MAX(population_growth) AS 'Max growth'\n",
    "    FROM facts\n",
    "    WHERE (population < (SELECT MAX(population)\n",
    "                       FROM facts)\n",
    "          )\n",
    "    AND (population_growth = (SELECT MAX(population_growth)\n",
    "                       FROM facts)\n",
    "        );"
   ]
  },
  {
   "cell_type": "code",
   "execution_count": null,
   "metadata": {},
   "outputs": [],
   "source": [
    "%%sql\n",
    "\n",
    "SELECT  ROUND(AVG(population)) AS 'Avg # population',\n",
    "        ROUND(AVG(area)) AS 'Avg area Km^2'\n",
    "    FROM facts;"
   ]
  },
  {
   "cell_type": "markdown",
   "metadata": {},
   "source": [
    "#### The most Densely Populated Countries:"
   ]
  },
  {
   "cell_type": "code",
   "execution_count": null,
   "metadata": {},
   "outputs": [],
   "source": [
    "%%sql\n",
    "\n",
    "SELECT name, population\n",
    "    FROM facts\n",
    "        WHERE population > (SELECT AVG(population) FROM facts) \n",
    "        AND area < (SELECT AVG(area) FROM facts)               \n",
    "        ORDER BY population DESC;"
   ]
  },
  {
   "cell_type": "markdown",
   "metadata": {},
   "source": [
    "#### Ten countries with the lowest population density:"
   ]
  },
  {
   "cell_type": "code",
   "execution_count": null,
   "metadata": {},
   "outputs": [],
   "source": [
    "%%sql\n",
    "\n",
    "SELECT name, population\n",
    "    FROM facts\n",
    "        WHERE population < (SELECT AVG(population) FROM facts) \n",
    "        AND area > (SELECT AVG(area) FROM facts)               \n",
    "        ORDER BY population DESC\n",
    "        LIMIT 10;"
   ]
  },
  {
   "cell_type": "markdown",
   "metadata": {},
   "source": [
    "#### The country with the largest number of people?"
   ]
  },
  {
   "cell_type": "code",
   "execution_count": null,
   "metadata": {},
   "outputs": [],
   "source": [
    "%%sql\n",
    "\n",
    "SELECT name, MAX(population)\n",
    "FROM facts\n",
    "WHERE population < (SELECT MAX(population) FROM facts);"
   ]
  },
  {
   "cell_type": "markdown",
   "metadata": {},
   "source": [
    "#### Which country has the highest growth rate?"
   ]
  },
  {
   "cell_type": "code",
   "execution_count": null,
   "metadata": {},
   "outputs": [],
   "source": [
    "%%sql\n",
    "\n",
    "SELECT name, population_growth\n",
    "FROM facts\n",
    "WHERE population_growth = (SELECT MAX(population_growth) FROM facts);"
   ]
  },
  {
   "cell_type": "markdown",
   "metadata": {},
   "source": [
    "#### Countries with more water than land:"
   ]
  },
  {
   "cell_type": "code",
   "execution_count": null,
   "metadata": {},
   "outputs": [],
   "source": [
    "%%sql\n",
    "\n",
    "SELECT name, area_water, area_land,\n",
    "    CAST(area_water AS FLOAT) / area_land AS 'ratio: H2O/Km²'\n",
    "    FROM facts\n",
    "    WHERE area_water <= (SELECT MAX(area_water) FROM facts)\n",
    "    AND area_land < (SELECT area_water facts)               \n",
    "    ORDER BY  CAST(area_water AS FLOAT) / area_land DESC\n",
    "LIMIT 10;"
   ]
  },
  {
   "cell_type": "markdown",
   "metadata": {},
   "source": [
    "- [British Indian Ocean Territory\t](https://www.biot.gov.io/)\n",
    "\n",
    "- [https://www.bvitourism.com/](https://www.bvitourism.com/)"
   ]
  },
  {
   "cell_type": "markdown",
   "metadata": {},
   "source": [
    "#### Ten countries have the highest ratios of water to land? "
   ]
  },
  {
   "cell_type": "code",
   "execution_count": null,
   "metadata": {},
   "outputs": [],
   "source": [
    "%%sql\n",
    "\n",
    "SELECT name, area_water, area_land,\n",
    "    CAST(area_water AS FLOAT) / area_land AS 'H2O/Km²'\n",
    "    FROM facts\n",
    "    WHERE area_water <= (SELECT MAX(area_water) FROM facts)\n",
    "    ORDER BY  area_water DESC\n",
    "LIMIT 10;"
   ]
  },
  {
   "cell_type": "code",
   "execution_count": null,
   "metadata": {},
   "outputs": [],
   "source": [
    "data = _\n",
    "info = data.DataFrame()\n",
    "\n",
    "sns.relplot(data=info, y='area_water', x='area_land',\n",
    "            hue = 'name', palette='RdYlGn',\n",
    "           size = 'H2O/Km²', sizes = (1,1000))\n",
    "plt.show()"
   ]
  },
  {
   "cell_type": "markdown",
   "metadata": {},
   "source": [
    "#### Ten countries will add the most people to their populations next year:"
   ]
  },
  {
   "cell_type": "code",
   "execution_count": null,
   "metadata": {},
   "outputs": [],
   "source": [
    "%%sql\n",
    "\n",
    "SELECT name,birth_rate,death_rate, CAST (birth_rate AS FLOAT) / CAST(death_rate AS FLOAT) AS 'ratio birth'\n",
    "    FROM facts\n",
    "    WHERE birth_rate > (SELECT MAX(death_rate) FROM facts )\n",
    "    ORDER BY (CAST (birth_rate AS FLOAT) / CAST(death_rate AS FLOAT)) DESC\n",
    "LIMIT 10;"
   ]
  },
  {
   "cell_type": "code",
   "execution_count": null,
   "metadata": {},
   "outputs": [],
   "source": [
    "data = _\n",
    "info = data.DataFrame()\n",
    "\n",
    "sns.relplot(data=info, x='birth_rate', y='death_rate',\n",
    "            hue = 'name', palette='RdYlGn',\n",
    "           size = 'ratio birth', sizes = (1,1000))\n",
    "plt.show()"
   ]
  },
  {
   "cell_type": "markdown",
   "metadata": {},
   "source": [
    "#### Ten countries with a higher death rate than birth rate? "
   ]
  },
  {
   "cell_type": "code",
   "execution_count": null,
   "metadata": {},
   "outputs": [],
   "source": [
    "%%sql\n",
    "\n",
    "SELECT name,birth_rate,death_rate, CAST (death_rate AS FLOAT) / CAST (birth_rate AS FLOAT) AS 'ratio death'\n",
    "    FROM facts\n",
    "    WHERE birth_rate <= (SELECT MAX(death_rate) FROM facts )\n",
    "    ORDER BY (CAST (death_rate AS FLOAT) / CAST (birth_rate AS FLOAT)) DESC\n",
    "    LIMIT 10;"
   ]
  },
  {
   "cell_type": "code",
   "execution_count": null,
   "metadata": {},
   "outputs": [],
   "source": [
    "data = _\n",
    "info = data.DataFrame()\n",
    "\n",
    "sns.relplot(data=info, x='birth_rate', y='death_rate',\n",
    "            hue = 'name', palette='RdYlGn',\n",
    "           size = 'ratio death', sizes = (1,1000))\n",
    "plt.show()"
   ]
  },
  {
   "cell_type": "markdown",
   "metadata": {},
   "source": [
    "####  Ten countries with the highest population/area ratio:"
   ]
  },
  {
   "cell_type": "code",
   "execution_count": null,
   "metadata": {},
   "outputs": [],
   "source": [
    "%%sql\n",
    "\n",
    "SELECT name, population, area, CAST (population AS FLOAT) / CAST (area AS FLOAT) AS 'population/area ratio'\n",
    "    FROM facts\n",
    "    WHERE population < (SELECT MAX(population) FROM facts)\n",
    "    ORDER BY (CAST(population AS FLOAT) / CAST(area AS FLOAT)) DESC\n",
    "LIMIT 10;"
   ]
  },
  {
   "cell_type": "code",
   "execution_count": null,
   "metadata": {},
   "outputs": [],
   "source": [
    "data = _\n",
    "info = data.DataFrame()\n",
    "\n",
    "sns.relplot(data=info, x='population', y='area',\n",
    "            hue = 'name', palette='RdYlGn',\n",
    "           size = 'population/area ratio', sizes = (1,1000))\n",
    "plt.show()"
   ]
  }
 ],
 "metadata": {
  "kernelspec": {
   "display_name": "Python 3 (ipykernel)",
   "language": "python",
   "name": "python3"
  },
  "language_info": {
   "codemirror_mode": {
    "name": "ipython",
    "version": 3
   },
   "file_extension": ".py",
   "mimetype": "text/x-python",
   "name": "python",
   "nbconvert_exporter": "python",
   "pygments_lexer": "ipython3",
   "version": "3.8.2"
  }
 },
 "nbformat": 4,
 "nbformat_minor": 2
}
