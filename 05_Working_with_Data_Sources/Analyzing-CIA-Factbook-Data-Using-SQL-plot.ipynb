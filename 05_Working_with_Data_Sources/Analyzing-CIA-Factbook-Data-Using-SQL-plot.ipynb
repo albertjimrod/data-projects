{
 "cells": [
  {
   "cell_type": "markdown",
   "metadata": {},
   "source": [
    "# CIA World Factbook database.\n",
    "\n",
    "<br>\n",
    "\n",
    "<br>\n",
    "\n",
    "![CIA World Factbook](http://www.export-u.com/CIA-700%20x%202500%208-8-19.jpg)\n",
    "\n",
    "<br>\n",
    "\n",
    "\n",
    "\n",
    "<br>\n",
    "\n",
    "<br>\n",
    "\n",
    "What is intended with the following analysis is to work with Jupyter the MySQL database and the possibility of graphing data together.\n",
    "\n",
    "<br>\n",
    "\n",
    "The [CIA World Factbook database](https://www.cia.gov/the-world-factbook/) is a compendium of statistics about all of the countries on Earth. The Factbook contains demographic information, as we will always create our data dictionary, in this way it will be much easier to know how to interpret in case of doubt the information with which we are working.\n",
    "\n",
    "<br>\n",
    "\n",
    "- `name` — the name of the country.\n",
    "- `area`— the country's total area (both land and water).\n",
    "- `area_land` — the country's land area in square kilometers.\n",
    "- `area_water` — the country's waterarea in square kilometers.\n",
    "- `population` — the country's population.\n",
    "- `population_growth`— the country's population growth as a percentage.\n",
    "- `birth_rate` — the country's birth rate, or the number of births per year per 1,000 people.\n",
    "- `death_rate` — the country's death rate, or the number of death per year per 1,000 people.\n",
    "\n",
    "<br>\n",
    "\n",
    "Through the following mind map we can have a clearer idea of what will be the steps we are going to do in our brief analysis.\n",
    "\n",
    "\n",
    "\n",
    "![CIA_Factbook_Data](CIA_Factbook_Data.png)\n",
    "\n",
    "\n",
    "Through the following mind map we can have a clearer idea of what will be the steps we are going to do in our brief analysis.\n",
    "\n",
    "<br>\n",
    "\n",
    "\n",
    "#### NOTE: \n",
    "##### What is intended with the following analysis is to work with Jupyter the MySQL database and the possibility of graphing data together.\n"
   ]
  },
  {
   "cell_type": "code",
   "execution_count": 1,
   "metadata": {},
   "outputs": [
    {
     "name": "stdout",
     "output_type": "stream",
     "text": [
      "/home/ion/Documentos/albertjimrod/data-projects/05_Working_with_Data_Sources\r\n"
     ]
    }
   ],
   "source": [
    "!pwd"
   ]
  },
  {
   "cell_type": "markdown",
   "metadata": {},
   "source": [
    "### Loading libraries"
   ]
  },
  {
   "cell_type": "code",
   "execution_count": 2,
   "metadata": {},
   "outputs": [],
   "source": [
    "import seaborn as sns\n",
    "import matplotlib.pyplot as plt"
   ]
  },
  {
   "cell_type": "markdown",
   "metadata": {},
   "source": [
    "We check if the `MySQL Community Server` database is up and running."
   ]
  },
  {
   "cell_type": "code",
   "execution_count": 3,
   "metadata": {},
   "outputs": [
    {
     "name": "stdout",
     "output_type": "stream",
     "text": [
      "  mysql.service                                                                                                           loaded active     running   MySQL Community Server                                                       \r\n"
     ]
    }
   ],
   "source": [
    "!systemctl | grep mysql.service"
   ]
  },
  {
   "cell_type": "markdown",
   "metadata": {},
   "source": [
    "To connect two independent systems like **Jupyter / SQL**, it is necessary to make use of two [magic cells](https://ipython.readthedocs.io/en/stable/interactive/magics.html#cellmagic-capture) **Magic functions** are pre-defined functions(“magics”) in **Jupyter kernel** that executes supplied commands. \n",
    "\n",
    "There are **two kinds of magics line-oriented** and cell-oriented prefaced with `%` and `%%` respectively. provided by Jupyter:\n",
    "\n",
    "- `%%capture`\n",
    "- `%load_ext sql`"
   ]
  },
  {
   "cell_type": "markdown",
   "metadata": {},
   "source": [
    "\n",
    " `%%capture`\n",
    "    \n",
    "  `%capture [--no-stderr] [--no-stdout] [--no-display] [output]`\n",
    "    \n",
    "  *run the cell, capturing stdout, stderr, and IPython’s rich display() calls.*\n",
    "\n",
    "  **positional arguments:**\n",
    "  \n",
    "   *output The name of the variable in which to store output. This is a\n",
    "    utils.io.CapturedIO object with stdout/err attributes for the text of the captured output. \n",
    "    CapturedOutput also has a show() method for displaying the output, and __call__ as well, so you can use that to quickly display the output. If unspecified, captured output is discarded.*\n",
    "\n",
    "  `options:`\n",
    "  **--no-stderr**\n",
    "    Don’t capture stderr.\n",
    "\n",
    "  **--no-stdout**\n",
    "    Don’t capture stdout.\n",
    "\n",
    "   **--no-display**\n",
    "    Don’t capture IPython’s rich display.\n",
    "\n",
    "-----\n",
    "\n",
    "- `%load_ext sql`\n",
    "   \n",
    " **Load an IPython extension** by its module name."
   ]
  },
  {
   "cell_type": "code",
   "execution_count": 4,
   "metadata": {},
   "outputs": [],
   "source": [
    "%%capture\n",
    "%load_ext sql"
   ]
  },
  {
   "cell_type": "markdown",
   "metadata": {},
   "source": [
    "#### We call an iPython extension using magic cells called sql that allows us to connect our database"
   ]
  },
  {
   "cell_type": "code",
   "execution_count": 5,
   "metadata": {},
   "outputs": [
    {
     "data": {
      "text/plain": [
       "'Connected: @factbook.db'"
      ]
     },
     "execution_count": 5,
     "metadata": {},
     "output_type": "execute_result"
    }
   ],
   "source": [
    "%sql sqlite:///factbook.db "
   ]
  },
  {
   "cell_type": "markdown",
   "metadata": {},
   "source": [
    "### Overview of the Data\n",
    "\n",
    "Information about the database we are going to work on."
   ]
  },
  {
   "cell_type": "code",
   "execution_count": 6,
   "metadata": {},
   "outputs": [
    {
     "name": "stdout",
     "output_type": "stream",
     "text": [
      " * sqlite:///factbook.db\n",
      "Done.\n"
     ]
    },
    {
     "data": {
      "text/html": [
       "<table>\n",
       "    <thead>\n",
       "        <tr>\n",
       "            <th>type</th>\n",
       "            <th>name</th>\n",
       "            <th>tbl_name</th>\n",
       "            <th>rootpage</th>\n",
       "            <th>sql</th>\n",
       "        </tr>\n",
       "    </thead>\n",
       "    <tbody>\n",
       "        <tr>\n",
       "            <td>table</td>\n",
       "            <td>sqlite_sequence</td>\n",
       "            <td>sqlite_sequence</td>\n",
       "            <td>3</td>\n",
       "            <td>CREATE TABLE sqlite_sequence(name,seq)</td>\n",
       "        </tr>\n",
       "        <tr>\n",
       "            <td>table</td>\n",
       "            <td>facts</td>\n",
       "            <td>facts</td>\n",
       "            <td>47</td>\n",
       "            <td>CREATE TABLE &quot;facts&quot; (&quot;id&quot; INTEGER PRIMARY KEY AUTOINCREMENT NOT NULL, &quot;code&quot; varchar(255) NOT NULL, &quot;name&quot; varchar(255) NOT NULL, &quot;area&quot; integer, &quot;area_land&quot; integer, &quot;area_water&quot; integer, &quot;population&quot; integer, &quot;population_growth&quot; float, &quot;birth_rate&quot; float, &quot;death_rate&quot; float, &quot;migration_rate&quot; float)</td>\n",
       "        </tr>\n",
       "    </tbody>\n",
       "</table>"
      ],
      "text/plain": [
       "[('table', 'sqlite_sequence', 'sqlite_sequence', 3, 'CREATE TABLE sqlite_sequence(name,seq)'),\n",
       " ('table', 'facts', 'facts', 47, 'CREATE TABLE \"facts\" (\"id\" INTEGER PRIMARY KEY AUTOINCREMENT NOT NULL, \"code\" varchar(255) NOT NULL, \"name\" varchar(255) NOT NULL, \"area\" integer, \"a ... (4 characters truncated) ... land\" integer, \"area_water\" integer, \"population\" integer, \"population_growth\" float, \"birth_rate\" float, \"death_rate\" float, \"migration_rate\" float)')]"
      ]
     },
     "execution_count": 6,
     "metadata": {},
     "output_type": "execute_result"
    }
   ],
   "source": [
    "%%sql\n",
    "SELECT *\n",
    "  FROM sqlite_master \n",
    "WHERE type='table';"
   ]
  },
  {
   "cell_type": "markdown",
   "metadata": {},
   "source": [
    "### Column names:"
   ]
  },
  {
   "cell_type": "code",
   "execution_count": 7,
   "metadata": {},
   "outputs": [
    {
     "name": "stdout",
     "output_type": "stream",
     "text": [
      " * sqlite:///factbook.db\n",
      "Done.\n"
     ]
    },
    {
     "data": {
      "text/html": [
       "<table>\n",
       "    <thead>\n",
       "        <tr>\n",
       "            <th>id</th>\n",
       "            <th>code</th>\n",
       "            <th>name</th>\n",
       "            <th>area</th>\n",
       "            <th>area_land</th>\n",
       "            <th>area_water</th>\n",
       "            <th>population</th>\n",
       "            <th>population_growth</th>\n",
       "            <th>birth_rate</th>\n",
       "            <th>death_rate</th>\n",
       "            <th>migration_rate</th>\n",
       "        </tr>\n",
       "    </thead>\n",
       "    <tbody>\n",
       "    </tbody>\n",
       "</table>"
      ],
      "text/plain": [
       "[]"
      ]
     },
     "execution_count": 7,
     "metadata": {},
     "output_type": "execute_result"
    }
   ],
   "source": [
    "%%sql\n",
    "\n",
    "SELECT * FROM facts\n",
    "LIMIT 0;"
   ]
  },
  {
   "cell_type": "markdown",
   "metadata": {},
   "source": [
    "#### Missing values:"
   ]
  },
  {
   "cell_type": "code",
   "execution_count": 8,
   "metadata": {},
   "outputs": [
    {
     "name": "stdout",
     "output_type": "stream",
     "text": [
      " * sqlite:///factbook.db\n",
      "Done.\n"
     ]
    },
    {
     "data": {
      "text/html": [
       "<table>\n",
       "    <thead>\n",
       "        <tr>\n",
       "            <th>TOTAL ROWS</th>\n",
       "            <th>NULL&#x27;s in CODE</th>\n",
       "            <th>NULL&#x27;s in NAME</th>\n",
       "            <th>NULL&#x27;s in AREA</th>\n",
       "            <th>NULL&#x27;s in AREA LAND</th>\n",
       "            <th>NULL&#x27;s in AREA H2O</th>\n",
       "            <th>NULL&#x27;s in POP</th>\n",
       "            <th>NULL&#x27;s in POP_GRW</th>\n",
       "            <th>NULL&#x27;s in BIRTH RATE</th>\n",
       "            <th>NULL&#x27;s in DEATH RATE</th>\n",
       "            <th>NULL&#x27;s in MIGRATION RATE</th>\n",
       "        </tr>\n",
       "    </thead>\n",
       "    <tbody>\n",
       "        <tr>\n",
       "            <td>261</td>\n",
       "            <td>0</td>\n",
       "            <td>0</td>\n",
       "            <td>12</td>\n",
       "            <td>15</td>\n",
       "            <td>18</td>\n",
       "            <td>19</td>\n",
       "            <td>25</td>\n",
       "            <td>33</td>\n",
       "            <td>33</td>\n",
       "            <td>38</td>\n",
       "        </tr>\n",
       "    </tbody>\n",
       "</table>"
      ],
      "text/plain": [
       "[(261, 0, 0, 12, 15, 18, 19, 25, 33, 33, 38)]"
      ]
     },
     "execution_count": 8,
     "metadata": {},
     "output_type": "execute_result"
    }
   ],
   "source": [
    "%%sql\n",
    "\n",
    "SELECT COUNT(*) AS 'TOTAL ROWS',\n",
    "        COUNT(*) - COUNT(code) AS \"NULL's in CODE\",\n",
    "        COUNT(*) - COUNT(name) AS \"NULL's in NAME\",\n",
    "        COUNT(*) - COUNT(area) AS \"NULL's in AREA\",\n",
    "        COUNT(*) - COUNT(area_land) AS \"NULL's in AREA LAND\",\n",
    "        COUNT(*) - COUNT(area_water) AS \"NULL's in AREA H2O\",\n",
    "        COUNT(*) - COUNT(population) AS \"NULL's in POP\",\n",
    "        COUNT(*) - COUNT(population_growth) AS \"NULL's in POP_GRW\",\n",
    "        COUNT(*) - COUNT(birth_rate) AS \"NULL's in BIRTH RATE\",\n",
    "        COUNT(*) - COUNT(death_rate) AS \"NULL's in DEATH RATE\",\n",
    "        COUNT(*) - COUNT(migration_rate) AS \"NULL's in MIGRATION RATE\"\n",
    "    FROM facts;"
   ]
  },
  {
   "cell_type": "markdown",
   "metadata": {},
   "source": [
    "This is what the first five rows of the `facts` table in the database."
   ]
  },
  {
   "cell_type": "code",
   "execution_count": 9,
   "metadata": {},
   "outputs": [
    {
     "name": "stdout",
     "output_type": "stream",
     "text": [
      " * sqlite:///factbook.db\n",
      "Done.\n"
     ]
    },
    {
     "data": {
      "text/html": [
       "<table>\n",
       "    <thead>\n",
       "        <tr>\n",
       "            <th>id</th>\n",
       "            <th>code</th>\n",
       "            <th>name</th>\n",
       "            <th>area</th>\n",
       "            <th>area_land</th>\n",
       "            <th>area_water</th>\n",
       "            <th>population</th>\n",
       "            <th>population_growth</th>\n",
       "            <th>birth_rate</th>\n",
       "            <th>death_rate</th>\n",
       "            <th>migration_rate</th>\n",
       "        </tr>\n",
       "    </thead>\n",
       "    <tbody>\n",
       "        <tr>\n",
       "            <td>1</td>\n",
       "            <td>af</td>\n",
       "            <td>Afghanistan</td>\n",
       "            <td>652230</td>\n",
       "            <td>652230</td>\n",
       "            <td>0</td>\n",
       "            <td>32564342</td>\n",
       "            <td>2.32</td>\n",
       "            <td>38.57</td>\n",
       "            <td>13.89</td>\n",
       "            <td>1.51</td>\n",
       "        </tr>\n",
       "        <tr>\n",
       "            <td>2</td>\n",
       "            <td>al</td>\n",
       "            <td>Albania</td>\n",
       "            <td>28748</td>\n",
       "            <td>27398</td>\n",
       "            <td>1350</td>\n",
       "            <td>3029278</td>\n",
       "            <td>0.3</td>\n",
       "            <td>12.92</td>\n",
       "            <td>6.58</td>\n",
       "            <td>3.3</td>\n",
       "        </tr>\n",
       "        <tr>\n",
       "            <td>3</td>\n",
       "            <td>ag</td>\n",
       "            <td>Algeria</td>\n",
       "            <td>2381741</td>\n",
       "            <td>2381741</td>\n",
       "            <td>0</td>\n",
       "            <td>39542166</td>\n",
       "            <td>1.84</td>\n",
       "            <td>23.67</td>\n",
       "            <td>4.31</td>\n",
       "            <td>0.92</td>\n",
       "        </tr>\n",
       "        <tr>\n",
       "            <td>4</td>\n",
       "            <td>an</td>\n",
       "            <td>Andorra</td>\n",
       "            <td>468</td>\n",
       "            <td>468</td>\n",
       "            <td>0</td>\n",
       "            <td>85580</td>\n",
       "            <td>0.12</td>\n",
       "            <td>8.13</td>\n",
       "            <td>6.96</td>\n",
       "            <td>0.0</td>\n",
       "        </tr>\n",
       "        <tr>\n",
       "            <td>5</td>\n",
       "            <td>ao</td>\n",
       "            <td>Angola</td>\n",
       "            <td>1246700</td>\n",
       "            <td>1246700</td>\n",
       "            <td>0</td>\n",
       "            <td>19625353</td>\n",
       "            <td>2.78</td>\n",
       "            <td>38.78</td>\n",
       "            <td>11.49</td>\n",
       "            <td>0.46</td>\n",
       "        </tr>\n",
       "    </tbody>\n",
       "</table>"
      ],
      "text/plain": [
       "[(1, 'af', 'Afghanistan', 652230, 652230, 0, 32564342, 2.32, 38.57, 13.89, 1.51),\n",
       " (2, 'al', 'Albania', 28748, 27398, 1350, 3029278, 0.3, 12.92, 6.58, 3.3),\n",
       " (3, 'ag', 'Algeria', 2381741, 2381741, 0, 39542166, 1.84, 23.67, 4.31, 0.92),\n",
       " (4, 'an', 'Andorra', 468, 468, 0, 85580, 0.12, 8.13, 6.96, 0.0),\n",
       " (5, 'ao', 'Angola', 1246700, 1246700, 0, 19625353, 2.78, 38.78, 11.49, 0.46)]"
      ]
     },
     "execution_count": 9,
     "metadata": {},
     "output_type": "execute_result"
    }
   ],
   "source": [
    "%%sql\n",
    "\n",
    "SELECT *\n",
    "    FROM facts\n",
    "LIMIT 5;"
   ]
  },
  {
   "cell_type": "markdown",
   "metadata": {},
   "source": [
    "### Summary Statistics.\n",
    "\n",
    "Single query with `Minimum / Maximum population` and `Minimum / Maximum growth`."
   ]
  },
  {
   "cell_type": "code",
   "execution_count": 10,
   "metadata": {},
   "outputs": [
    {
     "name": "stdout",
     "output_type": "stream",
     "text": [
      " * sqlite:///factbook.db\n",
      "Done.\n"
     ]
    },
    {
     "data": {
      "text/html": [
       "<table>\n",
       "    <thead>\n",
       "        <tr>\n",
       "            <th>Minimum population on a Country</th>\n",
       "            <th>Maximum number of population</th>\n",
       "            <th>Minimum Growth population</th>\n",
       "            <th>Maximum growth population</th>\n",
       "        </tr>\n",
       "    </thead>\n",
       "    <tbody>\n",
       "        <tr>\n",
       "            <td>0</td>\n",
       "            <td>7256490011</td>\n",
       "            <td>0.0</td>\n",
       "            <td>4.02</td>\n",
       "        </tr>\n",
       "    </tbody>\n",
       "</table>"
      ],
      "text/plain": [
       "[(0, 7256490011, 0.0, 4.02)]"
      ]
     },
     "execution_count": 10,
     "metadata": {},
     "output_type": "execute_result"
    }
   ],
   "source": [
    "%%sql\n",
    "\n",
    "SELECT MIN(population) AS `Minimum population on a Country`,\n",
    "    MAX(population) AS `Maximum number of population`, \n",
    "    MIN(population_growth) AS `Minimum Growth population`,  \n",
    "    MAX(population_growth) AS `Maximum growth population`\n",
    "FROM facts;"
   ]
  },
  {
   "cell_type": "markdown",
   "metadata": {},
   "source": [
    "Then we will make a series of requests to the database to obtain the information we need.\n",
    "\n",
    "### Exploring Outliers:\n",
    "\n",
    "#### Which is the country with `0` population?"
   ]
  },
  {
   "cell_type": "code",
   "execution_count": 11,
   "metadata": {},
   "outputs": [
    {
     "name": "stdout",
     "output_type": "stream",
     "text": [
      " * sqlite:///factbook.db\n",
      "Done.\n"
     ]
    },
    {
     "data": {
      "text/html": [
       "<table>\n",
       "    <thead>\n",
       "        <tr>\n",
       "            <th>Country</th>\n",
       "            <th>Population</th>\n",
       "        </tr>\n",
       "    </thead>\n",
       "    <tbody>\n",
       "        <tr>\n",
       "            <td>Antarctica</td>\n",
       "            <td>0</td>\n",
       "        </tr>\n",
       "    </tbody>\n",
       "</table>"
      ],
      "text/plain": [
       "[('Antarctica', 0)]"
      ]
     },
     "execution_count": 11,
     "metadata": {},
     "output_type": "execute_result"
    }
   ],
   "source": [
    "%%sql\n",
    "\n",
    "SELECT name AS 'Country', population AS Population\n",
    "    FROM facts\n",
    "    WHERE population = (SELECT MIN(population)\n",
    "                       FROM facts)\n",
    "    ORDER BY population DESC;"
   ]
  },
  {
   "cell_type": "markdown",
   "metadata": {},
   "source": [
    "# 🐧\n",
    "\n",
    "#### Which are the ten countries with the smallest population?"
   ]
  },
  {
   "cell_type": "code",
   "execution_count": 12,
   "metadata": {},
   "outputs": [
    {
     "name": "stdout",
     "output_type": "stream",
     "text": [
      " * sqlite:///factbook.db\n",
      "Done.\n"
     ]
    },
    {
     "data": {
      "text/html": [
       "<table>\n",
       "    <thead>\n",
       "        <tr>\n",
       "            <th>Country</th>\n",
       "            <th>Population</th>\n",
       "        </tr>\n",
       "    </thead>\n",
       "    <tbody>\n",
       "        <tr>\n",
       "            <td>Pitcairn Islands</td>\n",
       "            <td>48</td>\n",
       "        </tr>\n",
       "        <tr>\n",
       "            <td>Cocos (Keeling) Islands</td>\n",
       "            <td>596</td>\n",
       "        </tr>\n",
       "        <tr>\n",
       "            <td>Holy See (Vatican City)</td>\n",
       "            <td>842</td>\n",
       "        </tr>\n",
       "        <tr>\n",
       "            <td>Niue</td>\n",
       "            <td>1190</td>\n",
       "        </tr>\n",
       "        <tr>\n",
       "            <td>Tokelau</td>\n",
       "            <td>1337</td>\n",
       "        </tr>\n",
       "        <tr>\n",
       "            <td>Christmas Island</td>\n",
       "            <td>1530</td>\n",
       "        </tr>\n",
       "        <tr>\n",
       "            <td>Svalbard</td>\n",
       "            <td>1872</td>\n",
       "        </tr>\n",
       "        <tr>\n",
       "            <td>Norfolk Island</td>\n",
       "            <td>2210</td>\n",
       "        </tr>\n",
       "        <tr>\n",
       "            <td>Falkland Islands (Islas Malvinas)</td>\n",
       "            <td>3361</td>\n",
       "        </tr>\n",
       "        <tr>\n",
       "            <td>Montserrat</td>\n",
       "            <td>5241</td>\n",
       "        </tr>\n",
       "    </tbody>\n",
       "</table>"
      ],
      "text/plain": [
       "[('Pitcairn Islands', 48),\n",
       " ('Cocos (Keeling) Islands', 596),\n",
       " ('Holy See (Vatican City)', 842),\n",
       " ('Niue', 1190),\n",
       " ('Tokelau', 1337),\n",
       " ('Christmas Island', 1530),\n",
       " ('Svalbard', 1872),\n",
       " ('Norfolk Island', 2210),\n",
       " ('Falkland Islands (Islas Malvinas)', 3361),\n",
       " ('Montserrat', 5241)]"
      ]
     },
     "execution_count": 12,
     "metadata": {},
     "output_type": "execute_result"
    }
   ],
   "source": [
    "%%sql\n",
    "\n",
    "SELECT name AS 'Country', population AS 'Population'\n",
    "    FROM facts\n",
    "    WHERE population > (SELECT MIN(population)\n",
    "                       FROM facts)\n",
    "    ORDER BY population ASC\n",
    "    LIMIT 10;"
   ]
  },
  {
   "cell_type": "code",
   "execution_count": 13,
   "metadata": {},
   "outputs": [
    {
     "data": {
      "image/png": "[encoded data removed]",
      "text/plain": [
       "<Figure size 640x480 with 1 Axes>"
      ]
     },
     "metadata": {},
     "output_type": "display_data"
    }
   ],
   "source": [
    "import matplotlib.pyplot as plt\n",
    "\n",
    "smallest_pop = _ \n",
    "df_smallest_pop = smallest_pop.DataFrame()\n",
    "\n",
    "countries = df_smallest_pop['Country']\n",
    "population = df_smallest_pop['Population']\n",
    "\n",
    "plt.title(\"Countries vs Population\")\n",
    "plt.barh(countries, population)\n",
    "\n",
    "plt.show()"
   ]
  },
  {
   "cell_type": "markdown",
   "metadata": {},
   "source": [
    "#### The amount of Population in the World."
   ]
  },
  {
   "cell_type": "code",
   "execution_count": 14,
   "metadata": {},
   "outputs": [
    {
     "name": "stdout",
     "output_type": "stream",
     "text": [
      " * sqlite:///factbook.db\n",
      "Done.\n"
     ]
    },
    {
     "data": {
      "text/html": [
       "<table>\n",
       "    <thead>\n",
       "        <tr>\n",
       "            <th>Country</th>\n",
       "            <th>Population</th>\n",
       "        </tr>\n",
       "    </thead>\n",
       "    <tbody>\n",
       "        <tr>\n",
       "            <td>World</td>\n",
       "            <td>7256490011</td>\n",
       "        </tr>\n",
       "    </tbody>\n",
       "</table>"
      ],
      "text/plain": [
       "[('World', 7256490011)]"
      ]
     },
     "execution_count": 14,
     "metadata": {},
     "output_type": "execute_result"
    }
   ],
   "source": [
    "%%sql \n",
    "\n",
    "SELECT name AS 'Country', population AS 'Population'\n",
    "    FROM facts\n",
    "    WHERE population = (SELECT MAX(population)\n",
    "                       FROM facts)\n",
    "    ORDER BY population DESC;"
   ]
  },
  {
   "cell_type": "markdown",
   "metadata": {},
   "source": [
    "# 🌐\n",
    "\n",
    "#### Which are the ten countries with the largest population?"
   ]
  },
  {
   "cell_type": "code",
   "execution_count": 15,
   "metadata": {},
   "outputs": [
    {
     "name": "stdout",
     "output_type": "stream",
     "text": [
      " * sqlite:///factbook.db\n",
      "Done.\n"
     ]
    },
    {
     "data": {
      "text/html": [
       "<table>\n",
       "    <thead>\n",
       "        <tr>\n",
       "            <th>Country</th>\n",
       "            <th>Population</th>\n",
       "        </tr>\n",
       "    </thead>\n",
       "    <tbody>\n",
       "        <tr>\n",
       "            <td>China</td>\n",
       "            <td>1367485388</td>\n",
       "        </tr>\n",
       "        <tr>\n",
       "            <td>India</td>\n",
       "            <td>1251695584</td>\n",
       "        </tr>\n",
       "        <tr>\n",
       "            <td>European Union</td>\n",
       "            <td>513949445</td>\n",
       "        </tr>\n",
       "        <tr>\n",
       "            <td>United States</td>\n",
       "            <td>321368864</td>\n",
       "        </tr>\n",
       "        <tr>\n",
       "            <td>Indonesia</td>\n",
       "            <td>255993674</td>\n",
       "        </tr>\n",
       "        <tr>\n",
       "            <td>Brazil</td>\n",
       "            <td>204259812</td>\n",
       "        </tr>\n",
       "        <tr>\n",
       "            <td>Pakistan</td>\n",
       "            <td>199085847</td>\n",
       "        </tr>\n",
       "        <tr>\n",
       "            <td>Nigeria</td>\n",
       "            <td>181562056</td>\n",
       "        </tr>\n",
       "        <tr>\n",
       "            <td>Bangladesh</td>\n",
       "            <td>168957745</td>\n",
       "        </tr>\n",
       "        <tr>\n",
       "            <td>Russia</td>\n",
       "            <td>142423773</td>\n",
       "        </tr>\n",
       "    </tbody>\n",
       "</table>"
      ],
      "text/plain": [
       "[('China', 1367485388),\n",
       " ('India', 1251695584),\n",
       " ('European Union', 513949445),\n",
       " ('United States', 321368864),\n",
       " ('Indonesia', 255993674),\n",
       " ('Brazil', 204259812),\n",
       " ('Pakistan', 199085847),\n",
       " ('Nigeria', 181562056),\n",
       " ('Bangladesh', 168957745),\n",
       " ('Russia', 142423773)]"
      ]
     },
     "execution_count": 15,
     "metadata": {},
     "output_type": "execute_result"
    }
   ],
   "source": [
    "%%sql\n",
    "\n",
    "SELECT name AS 'Country', population AS 'Population'\n",
    "    FROM facts\n",
    "    WHERE population < (SELECT MAX(population)\n",
    "                        FROM facts)\n",
    "    ORDER BY population DESC\n",
    "    LIMIT 10;"
   ]
  },
  {
   "cell_type": "markdown",
   "metadata": {},
   "source": [
    "#### Is there a country where children are not born?"
   ]
  },
  {
   "cell_type": "code",
   "execution_count": 16,
   "metadata": {},
   "outputs": [
    {
     "name": "stdout",
     "output_type": "stream",
     "text": [
      " * sqlite:///factbook.db\n",
      "Done.\n"
     ]
    },
    {
     "data": {
      "text/html": [
       "<table>\n",
       "    <thead>\n",
       "        <tr>\n",
       "            <th>Country</th>\n",
       "            <th>Number of births</th>\n",
       "        </tr>\n",
       "    </thead>\n",
       "    <tbody>\n",
       "        <tr>\n",
       "            <td>Greenland</td>\n",
       "            <td>0.0</td>\n",
       "        </tr>\n",
       "        <tr>\n",
       "            <td>Holy See (Vatican City)</td>\n",
       "            <td>0.0</td>\n",
       "        </tr>\n",
       "        <tr>\n",
       "            <td>Cocos (Keeling) Islands</td>\n",
       "            <td>0.0</td>\n",
       "        </tr>\n",
       "        <tr>\n",
       "            <td>Pitcairn Islands</td>\n",
       "            <td>0.0</td>\n",
       "        </tr>\n",
       "    </tbody>\n",
       "</table>"
      ],
      "text/plain": [
       "[('Greenland', 0.0),\n",
       " ('Holy See (Vatican City)', 0.0),\n",
       " ('Cocos (Keeling) Islands', 0.0),\n",
       " ('Pitcairn Islands', 0.0)]"
      ]
     },
     "execution_count": 16,
     "metadata": {},
     "output_type": "execute_result"
    }
   ],
   "source": [
    "%%sql\n",
    "\n",
    "SELECT name AS 'Country', population_growth AS 'Number of births'\n",
    "    FROM facts\n",
    "    WHERE population_growth = (SELECT MIN(population_growth)\n",
    "                       FROM facts)\n",
    "    ORDER BY population DESC;"
   ]
  },
  {
   "cell_type": "markdown",
   "metadata": {},
   "source": [
    "- [Geendland](https://visitgreenland.com/)\n",
    "\n",
    "- [Holy See (Vatican City)](https://www.vatican.va/content/vatican/en.html)\n",
    "\n",
    "- [Cocos (Keeling) Islands](https://www.cocoskeelingislands.com.au/)\n",
    "\n",
    "- [Pitcairn Islands](https://www.government.pn/)\n",
    "\n",
    "#### Which are the ten countries with the highest birth rate on the planet?"
   ]
  },
  {
   "cell_type": "code",
   "execution_count": 17,
   "metadata": {},
   "outputs": [
    {
     "name": "stdout",
     "output_type": "stream",
     "text": [
      " * sqlite:///factbook.db\n",
      "Done.\n"
     ]
    },
    {
     "data": {
      "text/html": [
       "<table>\n",
       "    <thead>\n",
       "        <tr>\n",
       "            <th>name</th>\n",
       "            <th>Births</th>\n",
       "        </tr>\n",
       "    </thead>\n",
       "    <tbody>\n",
       "        <tr>\n",
       "            <td>South Sudan</td>\n",
       "            <td>4.02</td>\n",
       "        </tr>\n",
       "        <tr>\n",
       "            <td>Malawi</td>\n",
       "            <td>3.32</td>\n",
       "        </tr>\n",
       "        <tr>\n",
       "            <td>Burundi</td>\n",
       "            <td>3.28</td>\n",
       "        </tr>\n",
       "        <tr>\n",
       "            <td>Niger</td>\n",
       "            <td>3.25</td>\n",
       "        </tr>\n",
       "        <tr>\n",
       "            <td>Uganda</td>\n",
       "            <td>3.24</td>\n",
       "        </tr>\n",
       "        <tr>\n",
       "            <td>Qatar</td>\n",
       "            <td>3.07</td>\n",
       "        </tr>\n",
       "        <tr>\n",
       "            <td>Burkina Faso</td>\n",
       "            <td>3.03</td>\n",
       "        </tr>\n",
       "        <tr>\n",
       "            <td>Mali</td>\n",
       "            <td>2.98</td>\n",
       "        </tr>\n",
       "        <tr>\n",
       "            <td>Cook Islands</td>\n",
       "            <td>2.95</td>\n",
       "        </tr>\n",
       "        <tr>\n",
       "            <td>Iraq</td>\n",
       "            <td>2.93</td>\n",
       "        </tr>\n",
       "    </tbody>\n",
       "</table>"
      ],
      "text/plain": [
       "[('South Sudan', 4.02),\n",
       " ('Malawi', 3.32),\n",
       " ('Burundi', 3.28),\n",
       " ('Niger', 3.25),\n",
       " ('Uganda', 3.24),\n",
       " ('Qatar', 3.07),\n",
       " ('Burkina Faso', 3.03),\n",
       " ('Mali', 2.98),\n",
       " ('Cook Islands', 2.95),\n",
       " ('Iraq', 2.93)]"
      ]
     },
     "execution_count": 17,
     "metadata": {},
     "output_type": "execute_result"
    }
   ],
   "source": [
    "%%sql\n",
    "\n",
    "SELECT name, population_growth AS 'Births'\n",
    "    FROM facts\n",
    "    WHERE population_growth <= (SELECT MAX(population_growth)\n",
    "                              FROM facts)\n",
    "    ORDER BY population_growth DESC\n",
    "    LIMIT 10;"
   ]
  },
  {
   "cell_type": "markdown",
   "metadata": {},
   "source": [
    "# 🐣\n",
    "\n",
    "#### Exploring Average Population and Area"
   ]
  },
  {
   "cell_type": "code",
   "execution_count": 18,
   "metadata": {},
   "outputs": [
    {
     "name": "stdout",
     "output_type": "stream",
     "text": [
      " * sqlite:///factbook.db\n",
      "Done.\n"
     ]
    },
    {
     "data": {
      "text/html": [
       "<table>\n",
       "    <thead>\n",
       "        <tr>\n",
       "            <th>Minim population</th>\n",
       "            <th>Max population</th>\n",
       "            <th>Minim growth</th>\n",
       "            <th>Max growth</th>\n",
       "        </tr>\n",
       "    </thead>\n",
       "    <tbody>\n",
       "        <tr>\n",
       "            <td>12042910</td>\n",
       "            <td>12042910</td>\n",
       "            <td>4.02</td>\n",
       "            <td>4.02</td>\n",
       "        </tr>\n",
       "    </tbody>\n",
       "</table>"
      ],
      "text/plain": [
       "[(12042910, 12042910, 4.02, 4.02)]"
      ]
     },
     "execution_count": 18,
     "metadata": {},
     "output_type": "execute_result"
    }
   ],
   "source": [
    "%%sql\n",
    "\n",
    "SELECT  MIN(population) AS 'Minim population',\n",
    "        MAX(population) AS 'Max population', \n",
    "        MIN(population_growth) AS 'Minim growth', \n",
    "        MAX(population_growth) AS 'Max growth'\n",
    "    FROM facts\n",
    "    WHERE (population < (SELECT MAX(population)\n",
    "                       FROM facts)\n",
    "          )\n",
    "    AND (population_growth = (SELECT MAX(population_growth)\n",
    "                       FROM facts)\n",
    "        );"
   ]
  },
  {
   "cell_type": "code",
   "execution_count": 19,
   "metadata": {},
   "outputs": [
    {
     "name": "stdout",
     "output_type": "stream",
     "text": [
      " * sqlite:///factbook.db\n",
      "Done.\n"
     ]
    },
    {
     "data": {
      "text/html": [
       "<table>\n",
       "    <thead>\n",
       "        <tr>\n",
       "            <th>Avg # population</th>\n",
       "            <th>Avg area Km^2</th>\n",
       "        </tr>\n",
       "    </thead>\n",
       "    <tbody>\n",
       "        <tr>\n",
       "            <td>62094928.0</td>\n",
       "            <td>555094.0</td>\n",
       "        </tr>\n",
       "    </tbody>\n",
       "</table>"
      ],
      "text/plain": [
       "[(62094928.0, 555094.0)]"
      ]
     },
     "execution_count": 19,
     "metadata": {},
     "output_type": "execute_result"
    }
   ],
   "source": [
    "%%sql\n",
    "\n",
    "SELECT  ROUND(AVG(population)) AS 'Avg # population',\n",
    "        ROUND(AVG(area)) AS 'Avg area Km^2'\n",
    "    FROM facts;"
   ]
  },
  {
   "cell_type": "markdown",
   "metadata": {},
   "source": [
    "#### The most Densely Populated Countries:"
   ]
  },
  {
   "cell_type": "code",
   "execution_count": 20,
   "metadata": {},
   "outputs": [
    {
     "name": "stdout",
     "output_type": "stream",
     "text": [
      " * sqlite:///factbook.db\n",
      "Done.\n"
     ]
    },
    {
     "data": {
      "text/html": [
       "<table>\n",
       "    <thead>\n",
       "        <tr>\n",
       "            <th>name</th>\n",
       "            <th>population</th>\n",
       "        </tr>\n",
       "    </thead>\n",
       "    <tbody>\n",
       "        <tr>\n",
       "            <td>Bangladesh</td>\n",
       "            <td>168957745</td>\n",
       "        </tr>\n",
       "        <tr>\n",
       "            <td>Japan</td>\n",
       "            <td>126919659</td>\n",
       "        </tr>\n",
       "        <tr>\n",
       "            <td>Philippines</td>\n",
       "            <td>100998376</td>\n",
       "        </tr>\n",
       "        <tr>\n",
       "            <td>Vietnam</td>\n",
       "            <td>94348835</td>\n",
       "        </tr>\n",
       "        <tr>\n",
       "            <td>Germany</td>\n",
       "            <td>80854408</td>\n",
       "        </tr>\n",
       "        <tr>\n",
       "            <td>Thailand</td>\n",
       "            <td>67976405</td>\n",
       "        </tr>\n",
       "        <tr>\n",
       "            <td>United Kingdom</td>\n",
       "            <td>64088222</td>\n",
       "        </tr>\n",
       "    </tbody>\n",
       "</table>"
      ],
      "text/plain": [
       "[('Bangladesh', 168957745),\n",
       " ('Japan', 126919659),\n",
       " ('Philippines', 100998376),\n",
       " ('Vietnam', 94348835),\n",
       " ('Germany', 80854408),\n",
       " ('Thailand', 67976405),\n",
       " ('United Kingdom', 64088222)]"
      ]
     },
     "execution_count": 20,
     "metadata": {},
     "output_type": "execute_result"
    }
   ],
   "source": [
    "%%sql\n",
    "\n",
    "SELECT name, population\n",
    "    FROM facts\n",
    "        WHERE population > (SELECT AVG(population) FROM facts) \n",
    "        AND area < (SELECT AVG(area) FROM facts)               \n",
    "        ORDER BY population DESC;"
   ]
  },
  {
   "cell_type": "markdown",
   "metadata": {},
   "source": [
    "#### Ten countries with the lowest population density:"
   ]
  },
  {
   "cell_type": "code",
   "execution_count": 21,
   "metadata": {},
   "outputs": [
    {
     "name": "stdout",
     "output_type": "stream",
     "text": [
      " * sqlite:///factbook.db\n",
      "Done.\n"
     ]
    },
    {
     "data": {
      "text/html": [
       "<table>\n",
       "    <thead>\n",
       "        <tr>\n",
       "            <th>name</th>\n",
       "            <th>population</th>\n",
       "        </tr>\n",
       "    </thead>\n",
       "    <tbody>\n",
       "        <tr>\n",
       "            <td>Burma</td>\n",
       "            <td>56320206</td>\n",
       "        </tr>\n",
       "        <tr>\n",
       "            <td>South Africa</td>\n",
       "            <td>53675563</td>\n",
       "        </tr>\n",
       "        <tr>\n",
       "            <td>Tanzania</td>\n",
       "            <td>51045882</td>\n",
       "        </tr>\n",
       "        <tr>\n",
       "            <td>Colombia</td>\n",
       "            <td>46736728</td>\n",
       "        </tr>\n",
       "        <tr>\n",
       "            <td>Kenya</td>\n",
       "            <td>45925301</td>\n",
       "        </tr>\n",
       "        <tr>\n",
       "            <td>Ukraine</td>\n",
       "            <td>44429471</td>\n",
       "        </tr>\n",
       "        <tr>\n",
       "            <td>Argentina</td>\n",
       "            <td>43431886</td>\n",
       "        </tr>\n",
       "        <tr>\n",
       "            <td>Algeria</td>\n",
       "            <td>39542166</td>\n",
       "        </tr>\n",
       "        <tr>\n",
       "            <td>Sudan</td>\n",
       "            <td>36108853</td>\n",
       "        </tr>\n",
       "        <tr>\n",
       "            <td>Canada</td>\n",
       "            <td>35099836</td>\n",
       "        </tr>\n",
       "    </tbody>\n",
       "</table>"
      ],
      "text/plain": [
       "[('Burma', 56320206),\n",
       " ('South Africa', 53675563),\n",
       " ('Tanzania', 51045882),\n",
       " ('Colombia', 46736728),\n",
       " ('Kenya', 45925301),\n",
       " ('Ukraine', 44429471),\n",
       " ('Argentina', 43431886),\n",
       " ('Algeria', 39542166),\n",
       " ('Sudan', 36108853),\n",
       " ('Canada', 35099836)]"
      ]
     },
     "execution_count": 21,
     "metadata": {},
     "output_type": "execute_result"
    }
   ],
   "source": [
    "%%sql\n",
    "\n",
    "SELECT name, population\n",
    "    FROM facts\n",
    "        WHERE population < (SELECT AVG(population) FROM facts) \n",
    "        AND area > (SELECT AVG(area) FROM facts)               \n",
    "        ORDER BY population DESC\n",
    "        LIMIT 10;"
   ]
  },
  {
   "cell_type": "markdown",
   "metadata": {},
   "source": [
    "#### The country with the largest number of people?"
   ]
  },
  {
   "cell_type": "code",
   "execution_count": 22,
   "metadata": {},
   "outputs": [
    {
     "name": "stdout",
     "output_type": "stream",
     "text": [
      " * sqlite:///factbook.db\n",
      "Done.\n"
     ]
    },
    {
     "data": {
      "text/html": [
       "<table>\n",
       "    <thead>\n",
       "        <tr>\n",
       "            <th>name</th>\n",
       "            <th>MAX(population)</th>\n",
       "        </tr>\n",
       "    </thead>\n",
       "    <tbody>\n",
       "        <tr>\n",
       "            <td>China</td>\n",
       "            <td>1367485388</td>\n",
       "        </tr>\n",
       "    </tbody>\n",
       "</table>"
      ],
      "text/plain": [
       "[('China', 1367485388)]"
      ]
     },
     "execution_count": 22,
     "metadata": {},
     "output_type": "execute_result"
    }
   ],
   "source": [
    "%%sql\n",
    "\n",
    "SELECT name, MAX(population)\n",
    "FROM facts\n",
    "WHERE population < (SELECT MAX(population) FROM facts);"
   ]
  },
  {
   "cell_type": "markdown",
   "metadata": {},
   "source": [
    "#### Which country has the highest growth rate?"
   ]
  },
  {
   "cell_type": "code",
   "execution_count": 23,
   "metadata": {},
   "outputs": [
    {
     "name": "stdout",
     "output_type": "stream",
     "text": [
      " * sqlite:///factbook.db\n",
      "Done.\n"
     ]
    },
    {
     "data": {
      "text/html": [
       "<table>\n",
       "    <thead>\n",
       "        <tr>\n",
       "            <th>name</th>\n",
       "            <th>population_growth</th>\n",
       "        </tr>\n",
       "    </thead>\n",
       "    <tbody>\n",
       "        <tr>\n",
       "            <td>South Sudan</td>\n",
       "            <td>4.02</td>\n",
       "        </tr>\n",
       "    </tbody>\n",
       "</table>"
      ],
      "text/plain": [
       "[('South Sudan', 4.02)]"
      ]
     },
     "execution_count": 23,
     "metadata": {},
     "output_type": "execute_result"
    }
   ],
   "source": [
    "%%sql\n",
    "\n",
    "SELECT name, population_growth\n",
    "FROM facts\n",
    "WHERE population_growth = (SELECT MAX(population_growth) FROM facts);"
   ]
  },
  {
   "cell_type": "markdown",
   "metadata": {},
   "source": [
    "#### Countries with more water than land:"
   ]
  },
  {
   "cell_type": "code",
   "execution_count": 24,
   "metadata": {},
   "outputs": [
    {
     "name": "stdout",
     "output_type": "stream",
     "text": [
      " * sqlite:///factbook.db\n",
      "Done.\n"
     ]
    },
    {
     "data": {
      "text/html": [
       "<table>\n",
       "    <thead>\n",
       "        <tr>\n",
       "            <th>name</th>\n",
       "            <th>area_water</th>\n",
       "            <th>area_land</th>\n",
       "            <th>ratio: H2O/Km²</th>\n",
       "        </tr>\n",
       "    </thead>\n",
       "    <tbody>\n",
       "        <tr>\n",
       "            <td>British Indian Ocean Territory</td>\n",
       "            <td>54340</td>\n",
       "            <td>60</td>\n",
       "            <td>905.6666666666666</td>\n",
       "        </tr>\n",
       "        <tr>\n",
       "            <td>Virgin Islands</td>\n",
       "            <td>1564</td>\n",
       "            <td>346</td>\n",
       "            <td>4.520231213872832</td>\n",
       "        </tr>\n",
       "    </tbody>\n",
       "</table>"
      ],
      "text/plain": [
       "[('British Indian Ocean Territory', 54340, 60, 905.6666666666666),\n",
       " ('Virgin Islands', 1564, 346, 4.520231213872832)]"
      ]
     },
     "execution_count": 24,
     "metadata": {},
     "output_type": "execute_result"
    }
   ],
   "source": [
    "%%sql\n",
    "\n",
    "SELECT name, area_water, area_land,\n",
    "    CAST(area_water AS FLOAT) / area_land AS 'ratio: H2O/Km²'\n",
    "    FROM facts\n",
    "    WHERE area_water <= (SELECT MAX(area_water) FROM facts)\n",
    "    AND area_land < (SELECT area_water facts)               \n",
    "    ORDER BY  CAST(area_water AS FLOAT) / area_land DESC\n",
    "LIMIT 10;"
   ]
  },
  {
   "cell_type": "markdown",
   "metadata": {},
   "source": [
    "- [British Indian Ocean Territory\t](https://www.biot.gov.io/)\n",
    "\n",
    "- [https://www.bvitourism.com/](https://www.bvitourism.com/)"
   ]
  },
  {
   "cell_type": "markdown",
   "metadata": {},
   "source": [
    "#### Ten countries have the highest ratios of water to land? "
   ]
  },
  {
   "cell_type": "code",
   "execution_count": 25,
   "metadata": {},
   "outputs": [
    {
     "name": "stdout",
     "output_type": "stream",
     "text": [
      " * sqlite:///factbook.db\n",
      "Done.\n"
     ]
    },
    {
     "data": {
      "text/html": [
       "<table>\n",
       "    <thead>\n",
       "        <tr>\n",
       "            <th>name</th>\n",
       "            <th>area_water</th>\n",
       "            <th>area_land</th>\n",
       "            <th>H2O/Km²</th>\n",
       "        </tr>\n",
       "    </thead>\n",
       "    <tbody>\n",
       "        <tr>\n",
       "            <td>Canada</td>\n",
       "            <td>891163</td>\n",
       "            <td>9093507</td>\n",
       "            <td>0.09799992456155804</td>\n",
       "        </tr>\n",
       "        <tr>\n",
       "            <td>Russia</td>\n",
       "            <td>720500</td>\n",
       "            <td>16377742</td>\n",
       "            <td>0.04399263341674328</td>\n",
       "        </tr>\n",
       "        <tr>\n",
       "            <td>United States</td>\n",
       "            <td>664709</td>\n",
       "            <td>9161966</td>\n",
       "            <td>0.07255091319919764</td>\n",
       "        </tr>\n",
       "        <tr>\n",
       "            <td>India</td>\n",
       "            <td>314070</td>\n",
       "            <td>2973193</td>\n",
       "            <td>0.10563390940312317</td>\n",
       "        </tr>\n",
       "        <tr>\n",
       "            <td>China</td>\n",
       "            <td>270550</td>\n",
       "            <td>9326410</td>\n",
       "            <td>0.029009018475490568</td>\n",
       "        </tr>\n",
       "        <tr>\n",
       "            <td>Brazil</td>\n",
       "            <td>157630</td>\n",
       "            <td>8358140</td>\n",
       "            <td>0.018859459161966657</td>\n",
       "        </tr>\n",
       "        <tr>\n",
       "            <td>Iran</td>\n",
       "            <td>116600</td>\n",
       "            <td>1531595</td>\n",
       "            <td>0.07612978626856316</td>\n",
       "        </tr>\n",
       "        <tr>\n",
       "            <td>Ethiopia</td>\n",
       "            <td>104300</td>\n",
       "            <td>None</td>\n",
       "            <td>None</td>\n",
       "        </tr>\n",
       "        <tr>\n",
       "            <td>Colombia</td>\n",
       "            <td>100210</td>\n",
       "            <td>1038700</td>\n",
       "            <td>0.09647636468662751</td>\n",
       "        </tr>\n",
       "        <tr>\n",
       "            <td>Indonesia</td>\n",
       "            <td>93000</td>\n",
       "            <td>1811569</td>\n",
       "            <td>0.0513367141963679</td>\n",
       "        </tr>\n",
       "    </tbody>\n",
       "</table>"
      ],
      "text/plain": [
       "[('Canada', 891163, 9093507, 0.09799992456155804),\n",
       " ('Russia', 720500, 16377742, 0.04399263341674328),\n",
       " ('United States', 664709, 9161966, 0.07255091319919764),\n",
       " ('India', 314070, 2973193, 0.10563390940312317),\n",
       " ('China', 270550, 9326410, 0.029009018475490568),\n",
       " ('Brazil', 157630, 8358140, 0.018859459161966657),\n",
       " ('Iran', 116600, 1531595, 0.07612978626856316),\n",
       " ('Ethiopia', 104300, None, None),\n",
       " ('Colombia', 100210, 1038700, 0.09647636468662751),\n",
       " ('Indonesia', 93000, 1811569, 0.0513367141963679)]"
      ]
     },
     "execution_count": 25,
     "metadata": {},
     "output_type": "execute_result"
    }
   ],
   "source": [
    "%%sql\n",
    "\n",
    "SELECT name, area_water, area_land,\n",
    "    CAST(area_water AS FLOAT) / area_land AS 'H2O/Km²'\n",
    "    FROM facts\n",
    "    WHERE area_water <= (SELECT MAX(area_water) FROM facts)\n",
    "    ORDER BY  area_water DESC\n",
    "LIMIT 10;"
   ]
  },
  {
   "cell_type": "code",
   "execution_count": 26,
   "metadata": {},
   "outputs": [
    {
     "data": {
      "image/png": "[encoded data removed]",
      "text/plain": [
       "<Figure size 644.125x500 with 1 Axes>"
      ]
     },
     "metadata": {},
     "output_type": "display_data"
    }
   ],
   "source": [
    "data = _\n",
    "info = data.DataFrame()\n",
    "\n",
    "sns.relplot(data=info, y='area_water', x='area_land',\n",
    "            hue = 'name', palette='RdYlGn',\n",
    "           size = 'H2O/Km²', sizes = (1,1000))\n",
    "plt.show()"
   ]
  },
  {
   "cell_type": "markdown",
   "metadata": {},
   "source": [
    "#### Ten countries will add the most people to their populations next year:"
   ]
  },
  {
   "cell_type": "code",
   "execution_count": 27,
   "metadata": {},
   "outputs": [
    {
     "name": "stdout",
     "output_type": "stream",
     "text": [
      " * sqlite:///factbook.db\n",
      "Done.\n"
     ]
    },
    {
     "data": {
      "text/html": [
       "<table>\n",
       "    <thead>\n",
       "        <tr>\n",
       "            <th>name</th>\n",
       "            <th>birth_rate</th>\n",
       "            <th>death_rate</th>\n",
       "            <th>ratio birth</th>\n",
       "        </tr>\n",
       "    </thead>\n",
       "    <tbody>\n",
       "        <tr>\n",
       "            <td>Gaza Strip</td>\n",
       "            <td>31.11</td>\n",
       "            <td>3.04</td>\n",
       "            <td>10.233552631578947</td>\n",
       "        </tr>\n",
       "        <tr>\n",
       "            <td>Kuwait</td>\n",
       "            <td>19.91</td>\n",
       "            <td>2.18</td>\n",
       "            <td>9.133027522935778</td>\n",
       "        </tr>\n",
       "        <tr>\n",
       "            <td>Iraq</td>\n",
       "            <td>31.45</td>\n",
       "            <td>3.77</td>\n",
       "            <td>8.342175066312997</td>\n",
       "        </tr>\n",
       "        <tr>\n",
       "            <td>United Arab Emirates</td>\n",
       "            <td>15.43</td>\n",
       "            <td>1.97</td>\n",
       "            <td>7.83248730964467</td>\n",
       "        </tr>\n",
       "        <tr>\n",
       "            <td>Oman</td>\n",
       "            <td>24.44</td>\n",
       "            <td>3.36</td>\n",
       "            <td>7.273809523809525</td>\n",
       "        </tr>\n",
       "        <tr>\n",
       "            <td>Jordan</td>\n",
       "            <td>25.37</td>\n",
       "            <td>3.79</td>\n",
       "            <td>6.693931398416887</td>\n",
       "        </tr>\n",
       "        <tr>\n",
       "            <td>Solomon Islands</td>\n",
       "            <td>25.77</td>\n",
       "            <td>3.85</td>\n",
       "            <td>6.693506493506494</td>\n",
       "        </tr>\n",
       "        <tr>\n",
       "            <td>West Bank</td>\n",
       "            <td>22.99</td>\n",
       "            <td>3.5</td>\n",
       "            <td>6.5685714285714285</td>\n",
       "        </tr>\n",
       "        <tr>\n",
       "            <td>Vanuatu</td>\n",
       "            <td>25.04</td>\n",
       "            <td>4.09</td>\n",
       "            <td>6.1222493887530565</td>\n",
       "        </tr>\n",
       "        <tr>\n",
       "            <td>Marshall Islands</td>\n",
       "            <td>25.6</td>\n",
       "            <td>4.21</td>\n",
       "            <td>6.080760095011877</td>\n",
       "        </tr>\n",
       "    </tbody>\n",
       "</table>"
      ],
      "text/plain": [
       "[('Gaza Strip', 31.11, 3.04, 10.233552631578947),\n",
       " ('Kuwait', 19.91, 2.18, 9.133027522935778),\n",
       " ('Iraq', 31.45, 3.77, 8.342175066312997),\n",
       " ('United Arab Emirates', 15.43, 1.97, 7.83248730964467),\n",
       " ('Oman', 24.44, 3.36, 7.273809523809525),\n",
       " ('Jordan', 25.37, 3.79, 6.693931398416887),\n",
       " ('Solomon Islands', 25.77, 3.85, 6.693506493506494),\n",
       " ('West Bank', 22.99, 3.5, 6.5685714285714285),\n",
       " ('Vanuatu', 25.04, 4.09, 6.1222493887530565),\n",
       " ('Marshall Islands', 25.6, 4.21, 6.080760095011877)]"
      ]
     },
     "execution_count": 27,
     "metadata": {},
     "output_type": "execute_result"
    }
   ],
   "source": [
    "%%sql\n",
    "\n",
    "SELECT name,birth_rate,death_rate, CAST (birth_rate AS FLOAT) / CAST(death_rate AS FLOAT) AS 'ratio birth'\n",
    "    FROM facts\n",
    "    WHERE birth_rate > (SELECT MAX(death_rate) FROM facts )\n",
    "    ORDER BY (CAST (birth_rate AS FLOAT) / CAST(death_rate AS FLOAT)) DESC\n",
    "LIMIT 10;"
   ]
  },
  {
   "cell_type": "code",
   "execution_count": 28,
   "metadata": {},
   "outputs": [
    {
     "data": {
      "image/png": "[encoded data removed]",
      "text/plain": [
       "<Figure size 698.875x500 with 1 Axes>"
      ]
     },
     "metadata": {},
     "output_type": "display_data"
    }
   ],
   "source": [
    "data = _\n",
    "info = data.DataFrame()\n",
    "\n",
    "sns.relplot(data=info, x='birth_rate', y='death_rate',\n",
    "            hue = 'name', palette='RdYlGn',\n",
    "           size = 'ratio birth', sizes = (1,1000))\n",
    "plt.show()"
   ]
  },
  {
   "cell_type": "markdown",
   "metadata": {},
   "source": [
    "#### Ten countries with a higher death rate than birth rate? "
   ]
  },
  {
   "cell_type": "code",
   "execution_count": 29,
   "metadata": {},
   "outputs": [
    {
     "name": "stdout",
     "output_type": "stream",
     "text": [
      " * sqlite:///factbook.db\n",
      "Done.\n"
     ]
    },
    {
     "data": {
      "text/html": [
       "<table>\n",
       "    <thead>\n",
       "        <tr>\n",
       "            <th>name</th>\n",
       "            <th>birth_rate</th>\n",
       "            <th>death_rate</th>\n",
       "            <th>ratio death</th>\n",
       "        </tr>\n",
       "    </thead>\n",
       "    <tbody>\n",
       "        <tr>\n",
       "            <td>Bulgaria</td>\n",
       "            <td>8.92</td>\n",
       "            <td>14.44</td>\n",
       "            <td>1.6188340807174888</td>\n",
       "        </tr>\n",
       "        <tr>\n",
       "            <td>Serbia</td>\n",
       "            <td>9.08</td>\n",
       "            <td>13.66</td>\n",
       "            <td>1.5044052863436124</td>\n",
       "        </tr>\n",
       "        <tr>\n",
       "            <td>Latvia</td>\n",
       "            <td>10.0</td>\n",
       "            <td>14.31</td>\n",
       "            <td>1.431</td>\n",
       "        </tr>\n",
       "        <tr>\n",
       "            <td>Lithuania</td>\n",
       "            <td>10.1</td>\n",
       "            <td>14.27</td>\n",
       "            <td>1.4128712871287128</td>\n",
       "        </tr>\n",
       "        <tr>\n",
       "            <td>Hungary</td>\n",
       "            <td>9.16</td>\n",
       "            <td>12.73</td>\n",
       "            <td>1.3897379912663756</td>\n",
       "        </tr>\n",
       "        <tr>\n",
       "            <td>Monaco</td>\n",
       "            <td>6.65</td>\n",
       "            <td>9.24</td>\n",
       "            <td>1.3894736842105262</td>\n",
       "        </tr>\n",
       "        <tr>\n",
       "            <td>Slovenia</td>\n",
       "            <td>8.42</td>\n",
       "            <td>11.37</td>\n",
       "            <td>1.350356294536817</td>\n",
       "        </tr>\n",
       "        <tr>\n",
       "            <td>Ukraine</td>\n",
       "            <td>10.72</td>\n",
       "            <td>14.46</td>\n",
       "            <td>1.3488805970149254</td>\n",
       "        </tr>\n",
       "        <tr>\n",
       "            <td>Germany</td>\n",
       "            <td>8.47</td>\n",
       "            <td>11.42</td>\n",
       "            <td>1.3482880755608027</td>\n",
       "        </tr>\n",
       "        <tr>\n",
       "            <td>Saint Pierre and Miquelon</td>\n",
       "            <td>7.42</td>\n",
       "            <td>9.72</td>\n",
       "            <td>1.3099730458221026</td>\n",
       "        </tr>\n",
       "    </tbody>\n",
       "</table>"
      ],
      "text/plain": [
       "[('Bulgaria', 8.92, 14.44, 1.6188340807174888),\n",
       " ('Serbia', 9.08, 13.66, 1.5044052863436124),\n",
       " ('Latvia', 10.0, 14.31, 1.431),\n",
       " ('Lithuania', 10.1, 14.27, 1.4128712871287128),\n",
       " ('Hungary', 9.16, 12.73, 1.3897379912663756),\n",
       " ('Monaco', 6.65, 9.24, 1.3894736842105262),\n",
       " ('Slovenia', 8.42, 11.37, 1.350356294536817),\n",
       " ('Ukraine', 10.72, 14.46, 1.3488805970149254),\n",
       " ('Germany', 8.47, 11.42, 1.3482880755608027),\n",
       " ('Saint Pierre and Miquelon', 7.42, 9.72, 1.3099730458221026)]"
      ]
     },
     "execution_count": 29,
     "metadata": {},
     "output_type": "execute_result"
    }
   ],
   "source": [
    "%%sql\n",
    "\n",
    "SELECT name,birth_rate,death_rate, CAST (death_rate AS FLOAT) / CAST (birth_rate AS FLOAT) AS 'ratio death'\n",
    "    FROM facts\n",
    "    WHERE birth_rate <= (SELECT MAX(death_rate) FROM facts )\n",
    "    ORDER BY (CAST (death_rate AS FLOAT) / CAST (birth_rate AS FLOAT)) DESC\n",
    "    LIMIT 10;"
   ]
  },
  {
   "cell_type": "code",
   "execution_count": 30,
   "metadata": {},
   "outputs": [
    {
     "data": {
      "image/png": "[encoded data removed]",
      "text/plain": [
       "<Figure size 728.125x500 with 1 Axes>"
      ]
     },
     "metadata": {},
     "output_type": "display_data"
    }
   ],
   "source": [
    "data = _\n",
    "info = data.DataFrame()\n",
    "\n",
    "sns.relplot(data=info, x='birth_rate', y='death_rate',\n",
    "            hue = 'name', palette='RdYlGn',\n",
    "           size = 'ratio death', sizes = (1,1000))\n",
    "plt.show()"
   ]
  },
  {
   "cell_type": "markdown",
   "metadata": {},
   "source": [
    "####  Ten countries with the highest population/area ratio:"
   ]
  },
  {
   "cell_type": "code",
   "execution_count": 31,
   "metadata": {},
   "outputs": [
    {
     "name": "stdout",
     "output_type": "stream",
     "text": [
      " * sqlite:///factbook.db\n",
      "Done.\n"
     ]
    },
    {
     "data": {
      "text/html": [
       "<table>\n",
       "    <thead>\n",
       "        <tr>\n",
       "            <th>name</th>\n",
       "            <th>population</th>\n",
       "            <th>area</th>\n",
       "            <th>population/area ratio</th>\n",
       "        </tr>\n",
       "    </thead>\n",
       "    <tbody>\n",
       "        <tr>\n",
       "            <td>Macau</td>\n",
       "            <td>592731</td>\n",
       "            <td>28</td>\n",
       "            <td>21168.964285714286</td>\n",
       "        </tr>\n",
       "        <tr>\n",
       "            <td>Monaco</td>\n",
       "            <td>30535</td>\n",
       "            <td>2</td>\n",
       "            <td>15267.5</td>\n",
       "        </tr>\n",
       "        <tr>\n",
       "            <td>Singapore</td>\n",
       "            <td>5674472</td>\n",
       "            <td>697</td>\n",
       "            <td>8141.279770444763</td>\n",
       "        </tr>\n",
       "        <tr>\n",
       "            <td>Hong Kong</td>\n",
       "            <td>7141106</td>\n",
       "            <td>1108</td>\n",
       "            <td>6445.041516245487</td>\n",
       "        </tr>\n",
       "        <tr>\n",
       "            <td>Gaza Strip</td>\n",
       "            <td>1869055</td>\n",
       "            <td>360</td>\n",
       "            <td>5191.819444444444</td>\n",
       "        </tr>\n",
       "        <tr>\n",
       "            <td>Gibraltar</td>\n",
       "            <td>29258</td>\n",
       "            <td>6</td>\n",
       "            <td>4876.333333333333</td>\n",
       "        </tr>\n",
       "        <tr>\n",
       "            <td>Bahrain</td>\n",
       "            <td>1346613</td>\n",
       "            <td>760</td>\n",
       "            <td>1771.8592105263158</td>\n",
       "        </tr>\n",
       "        <tr>\n",
       "            <td>Maldives</td>\n",
       "            <td>393253</td>\n",
       "            <td>298</td>\n",
       "            <td>1319.6409395973155</td>\n",
       "        </tr>\n",
       "        <tr>\n",
       "            <td>Malta</td>\n",
       "            <td>413965</td>\n",
       "            <td>316</td>\n",
       "            <td>1310.01582278481</td>\n",
       "        </tr>\n",
       "        <tr>\n",
       "            <td>Bermuda</td>\n",
       "            <td>70196</td>\n",
       "            <td>54</td>\n",
       "            <td>1299.9259259259259</td>\n",
       "        </tr>\n",
       "    </tbody>\n",
       "</table>"
      ],
      "text/plain": [
       "[('Macau', 592731, 28, 21168.964285714286),\n",
       " ('Monaco', 30535, 2, 15267.5),\n",
       " ('Singapore', 5674472, 697, 8141.279770444763),\n",
       " ('Hong Kong', 7141106, 1108, 6445.041516245487),\n",
       " ('Gaza Strip', 1869055, 360, 5191.819444444444),\n",
       " ('Gibraltar', 29258, 6, 4876.333333333333),\n",
       " ('Bahrain', 1346613, 760, 1771.8592105263158),\n",
       " ('Maldives', 393253, 298, 1319.6409395973155),\n",
       " ('Malta', 413965, 316, 1310.01582278481),\n",
       " ('Bermuda', 70196, 54, 1299.9259259259259)]"
      ]
     },
     "execution_count": 31,
     "metadata": {},
     "output_type": "execute_result"
    }
   ],
   "source": [
    "%%sql\n",
    "\n",
    "SELECT name, population, area, CAST (population AS FLOAT) / CAST (area AS FLOAT) AS 'population/area ratio'\n",
    "    FROM facts\n",
    "    WHERE population < (SELECT MAX(population) FROM facts)\n",
    "    ORDER BY (CAST(population AS FLOAT) / CAST(area AS FLOAT)) DESC\n",
    "LIMIT 10;"
   ]
  },
  {
   "cell_type": "code",
   "execution_count": 32,
   "metadata": {},
   "outputs": [
    {
     "data": {
      "image/png": "[encoded data removed]",
      "text/plain": [
       "<Figure size 668.847x500 with 1 Axes>"
      ]
     },
     "metadata": {},
     "output_type": "display_data"
    }
   ],
   "source": [
    "data = _\n",
    "info = data.DataFrame()\n",
    "\n",
    "sns.relplot(data=info, x='population', y='area',\n",
    "            hue = 'name', palette='RdYlGn',\n",
    "           size = 'population/area ratio', sizes = (1,1000))\n",
    "plt.show()"
   ]
  },
  {
   "cell_type": "markdown",
   "metadata": {},
   "source": [
    "### Summary:\n",
    "\n",
    "\n",
    "Among the notable advantages offered by databases is the ability to work with a large volume of data. Add to this the ease of work that Jupyter offers in cell documentation, the use of Python and its function libraries; Then we are faced with a very interesting combination of tools when it comes to graphing a large volume of data without having problems in its management by volume of data or the need to change our framework.\n",
    "\n",
    "As we have seen by using simple requests to the database that we have installed locally, we have been able to correctly graph the data of our MySQL through the library of functions that are usually used in data analysis."
   ]
  }
 ],
 "metadata": {
  "kernelspec": {
   "display_name": "Python 3 (ipykernel)",
   "language": "python",
   "name": "python3"
  },
  "language_info": {
   "codemirror_mode": {
    "name": "ipython",
    "version": 3
   },
   "file_extension": ".py",
   "mimetype": "text/x-python",
   "name": "python",
   "nbconvert_exporter": "python",
   "pygments_lexer": "ipython3",
   "version": "3.8.2"
  }
 },
 "nbformat": 4,
 "nbformat_minor": 2
}
