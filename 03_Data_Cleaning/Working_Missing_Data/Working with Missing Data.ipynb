{
 "cells": [
  {
   "cell_type": "markdown",
   "metadata": {},
   "source": [
    "# Working with Missing Data\n",
    "\n",
    "\n",
    "![accident](http://sf.streetsblog.org/wp-content/uploads/sites/3/2013/08/IIHS-crash-photo1.jpg)\n",
    "\n",
    "* * *\n",
    "<br>\n",
    "\n",
    "Data can be missing for a variety of reasons, so how to **handle missing data without having to drop rows and columns** is a must.\n",
    "\n",
    "Using data on motor vehicle collisions released by New York City and published on the [kNYC OpenData website](https://data.cityofnewyork.us/Public-Safety/Motor-Vehicle-Collisions-Crashes/h9gi-nx95)  will be what we are going to work with.\n",
    "\n",
    "We'll work with an extract of the full data: \n",
    "\n",
    " Crashes from the year 2018. \n",
    "\n",
    "[download data here](https://data.cityofnewyork.us/Public-Safety/Motor-Vehicle-Collisions-Crashes/h9gi-nx95)\n",
    "\n",
    "Our data set is in a CSV called `nypd_mvc_2018.csv`. "
   ]
  },
  {
   "cell_type": "markdown",
   "metadata": {},
   "source": [
    "### Data dictionary\n",
    "\n",
    "\n",
    "`unique_key`: A unique identifier for each collision.\n",
    "\n",
    "`date, time`: Date and time of the collision.\n",
    "\n",
    "`borough`: The borough, or area of New York City, where the collision occurred.\n",
    "\n",
    "`location`: Latitude and longitude coordinates for the collision.\n",
    "\n",
    "`on_street, cross_street, off_street`: Details of the street or intersection where the collision occurred.\n",
    "\n",
    "`pedestrians_injured`: Number of pedestrians who were injured.\n",
    "\n",
    "`cyclist_injured`: Number of people traveling on a bicycle who were injured.\n",
    "\n",
    "`motorist_injured`: Number of people traveling in a vehicle who were injured.\n",
    "\n",
    "`total_injured`: Total number of people injured.\n",
    "\n",
    "`pedestrians_killed`: Number of pedestrians who were killed.\n",
    "\n",
    "`cyclist_killed`: Number of people traveling on a bicycle who were killed.\n",
    "\n",
    "`motorist_killed`: Number of people traveling in a vehicle who were killed.\n",
    "\n",
    "`total_killed`: Total number of people killed.\n",
    "\n",
    "`vehicle_1 through vehicle_5`: Type of each vehicle involved in the accident.\n",
    "\n",
    "`cause_vehicle_1 through cause_vehicle_5`: Contributing factor for each vehicle in the accident.\n",
    "\n"
   ]
  },
  {
   "cell_type": "code",
   "execution_count": 1,
   "metadata": {
    "scrolled": true
   },
   "outputs": [
    {
     "data": {
      "text/html": [
       "<div>\n",
       "<style scoped>\n",
       "    .dataframe tbody tr th:only-of-type {\n",
       "        vertical-align: middle;\n",
       "    }\n",
       "\n",
       "    .dataframe tbody tr th {\n",
       "        vertical-align: top;\n",
       "    }\n",
       "\n",
       "    .dataframe thead th {\n",
       "        text-align: right;\n",
       "    }\n",
       "</style>\n",
       "<table border=\"1\" class=\"dataframe\">\n",
       "  <thead>\n",
       "    <tr style=\"text-align: right;\">\n",
       "      <th></th>\n",
       "      <th>unique_key</th>\n",
       "      <th>date</th>\n",
       "      <th>time</th>\n",
       "      <th>borough</th>\n",
       "      <th>location</th>\n",
       "      <th>on_street</th>\n",
       "      <th>cross_street</th>\n",
       "      <th>off_street</th>\n",
       "      <th>pedestrians_injured</th>\n",
       "      <th>cyclist_injured</th>\n",
       "      <th>motorist_injured</th>\n",
       "      <th>total_injured</th>\n",
       "      <th>pedestrians_killed</th>\n",
       "      <th>cyclist_killed</th>\n",
       "      <th>motorist_killed</th>\n",
       "      <th>total_killed</th>\n",
       "      <th>vehicle_1</th>\n",
       "      <th>vehicle_2</th>\n",
       "      <th>vehicle_3</th>\n",
       "      <th>vehicle_4</th>\n",
       "      <th>vehicle_5</th>\n",
       "      <th>cause_vehicle_1</th>\n",
       "      <th>cause_vehicle_2</th>\n",
       "      <th>cause_vehicle_3</th>\n",
       "      <th>cause_vehicle_4</th>\n",
       "      <th>cause_vehicle_5</th>\n",
       "    </tr>\n",
       "  </thead>\n",
       "  <tbody>\n",
       "    <tr>\n",
       "      <th>0</th>\n",
       "      <td>3869058</td>\n",
       "      <td>2018-03-23</td>\n",
       "      <td>21:40</td>\n",
       "      <td>MANHATTAN</td>\n",
       "      <td>(40.742832, -74.00771)</td>\n",
       "      <td>WEST 15 STREET</td>\n",
       "      <td>10 AVENUE</td>\n",
       "      <td>NaN</td>\n",
       "      <td>0</td>\n",
       "      <td>0</td>\n",
       "      <td>0</td>\n",
       "      <td>0.0</td>\n",
       "      <td>0</td>\n",
       "      <td>0</td>\n",
       "      <td>0</td>\n",
       "      <td>0.0</td>\n",
       "      <td>PASSENGER VEHICLE</td>\n",
       "      <td>NaN</td>\n",
       "      <td>NaN</td>\n",
       "      <td>NaN</td>\n",
       "      <td>NaN</td>\n",
       "      <td>Following Too Closely</td>\n",
       "      <td>Unspecified</td>\n",
       "      <td>NaN</td>\n",
       "      <td>NaN</td>\n",
       "      <td>NaN</td>\n",
       "    </tr>\n",
       "    <tr>\n",
       "      <th>1</th>\n",
       "      <td>3847947</td>\n",
       "      <td>2018-02-13</td>\n",
       "      <td>14:45</td>\n",
       "      <td>BROOKLYN</td>\n",
       "      <td>(40.623714, -73.99314)</td>\n",
       "      <td>16 AVENUE</td>\n",
       "      <td>62 STREET</td>\n",
       "      <td>NaN</td>\n",
       "      <td>0</td>\n",
       "      <td>0</td>\n",
       "      <td>0</td>\n",
       "      <td>0.0</td>\n",
       "      <td>0</td>\n",
       "      <td>0</td>\n",
       "      <td>0</td>\n",
       "      <td>0.0</td>\n",
       "      <td>SPORT UTILITY / STATION WAGON</td>\n",
       "      <td>DS</td>\n",
       "      <td>NaN</td>\n",
       "      <td>NaN</td>\n",
       "      <td>NaN</td>\n",
       "      <td>Backing Unsafely</td>\n",
       "      <td>Unspecified</td>\n",
       "      <td>NaN</td>\n",
       "      <td>NaN</td>\n",
       "      <td>NaN</td>\n",
       "    </tr>\n",
       "    <tr>\n",
       "      <th>2</th>\n",
       "      <td>3914294</td>\n",
       "      <td>2018-06-04</td>\n",
       "      <td>0:00</td>\n",
       "      <td>NaN</td>\n",
       "      <td>(40.591755, -73.9083)</td>\n",
       "      <td>BELT PARKWAY</td>\n",
       "      <td>NaN</td>\n",
       "      <td>NaN</td>\n",
       "      <td>0</td>\n",
       "      <td>0</td>\n",
       "      <td>1</td>\n",
       "      <td>1.0</td>\n",
       "      <td>0</td>\n",
       "      <td>0</td>\n",
       "      <td>0</td>\n",
       "      <td>0.0</td>\n",
       "      <td>Station Wagon/Sport Utility Vehicle</td>\n",
       "      <td>Sedan</td>\n",
       "      <td>NaN</td>\n",
       "      <td>NaN</td>\n",
       "      <td>NaN</td>\n",
       "      <td>Following Too Closely</td>\n",
       "      <td>Unspecified</td>\n",
       "      <td>NaN</td>\n",
       "      <td>NaN</td>\n",
       "      <td>NaN</td>\n",
       "    </tr>\n",
       "  </tbody>\n",
       "</table>\n",
       "</div>"
      ],
      "text/plain": [
       "   unique_key        date   time    borough                location  \\\n",
       "0     3869058  2018-03-23  21:40  MANHATTAN  (40.742832, -74.00771)   \n",
       "1     3847947  2018-02-13  14:45   BROOKLYN  (40.623714, -73.99314)   \n",
       "2     3914294  2018-06-04   0:00        NaN   (40.591755, -73.9083)   \n",
       "\n",
       "                          on_street cross_street off_street  \\\n",
       "0  WEST 15 STREET                      10 AVENUE        NaN   \n",
       "1  16 AVENUE                           62 STREET        NaN   \n",
       "2  BELT PARKWAY                              NaN        NaN   \n",
       "\n",
       "   pedestrians_injured  cyclist_injured  motorist_injured  total_injured  \\\n",
       "0                    0                0                 0            0.0   \n",
       "1                    0                0                 0            0.0   \n",
       "2                    0                0                 1            1.0   \n",
       "\n",
       "   pedestrians_killed  cyclist_killed  motorist_killed  total_killed  \\\n",
       "0                   0               0                0           0.0   \n",
       "1                   0               0                0           0.0   \n",
       "2                   0               0                0           0.0   \n",
       "\n",
       "                             vehicle_1 vehicle_2 vehicle_3 vehicle_4  \\\n",
       "0                    PASSENGER VEHICLE       NaN       NaN       NaN   \n",
       "1        SPORT UTILITY / STATION WAGON        DS       NaN       NaN   \n",
       "2  Station Wagon/Sport Utility Vehicle     Sedan       NaN       NaN   \n",
       "\n",
       "  vehicle_5        cause_vehicle_1 cause_vehicle_2 cause_vehicle_3  \\\n",
       "0       NaN  Following Too Closely     Unspecified             NaN   \n",
       "1       NaN       Backing Unsafely     Unspecified             NaN   \n",
       "2       NaN  Following Too Closely     Unspecified             NaN   \n",
       "\n",
       "  cause_vehicle_4 cause_vehicle_5  \n",
       "0             NaN             NaN  \n",
       "1             NaN             NaN  \n",
       "2             NaN             NaN  "
      ]
     },
     "execution_count": 1,
     "metadata": {},
     "output_type": "execute_result"
    }
   ],
   "source": [
    "import pandas as pd\n",
    "import numpy as np\n",
    "\n",
    "pd.set_option(\"display.max_columns\", None)\n",
    "mvc = pd.read_csv(\"csv/nypd_mvc_2018.csv\")\n",
    "\n",
    "mvc.head(3)"
   ]
  },
  {
   "cell_type": "code",
   "execution_count": 2,
   "metadata": {},
   "outputs": [
    {
     "name": "stdout",
     "output_type": "stream",
     "text": [
      "<class 'pandas.core.frame.DataFrame'>\n",
      "RangeIndex: 57864 entries, 0 to 57863\n",
      "Data columns (total 26 columns):\n",
      " #   Column               Non-Null Count  Dtype  \n",
      "---  ------               --------------  -----  \n",
      " 0   unique_key           57864 non-null  int64  \n",
      " 1   date                 57864 non-null  object \n",
      " 2   time                 57864 non-null  object \n",
      " 3   borough              37218 non-null  object \n",
      " 4   location             53979 non-null  object \n",
      " 5   on_street            43903 non-null  object \n",
      " 6   cross_street         28615 non-null  object \n",
      " 7   off_street           13771 non-null  object \n",
      " 8   pedestrians_injured  57864 non-null  int64  \n",
      " 9   cyclist_injured      57864 non-null  int64  \n",
      " 10  motorist_injured     57864 non-null  int64  \n",
      " 11  total_injured        57863 non-null  float64\n",
      " 12  pedestrians_killed   57864 non-null  int64  \n",
      " 13  cyclist_killed       57864 non-null  int64  \n",
      " 14  motorist_killed      57864 non-null  int64  \n",
      " 15  total_killed         57859 non-null  float64\n",
      " 16  vehicle_1            57509 non-null  object \n",
      " 17  vehicle_2            45602 non-null  object \n",
      " 18  vehicle_3            3512 non-null   object \n",
      " 19  vehicle_4            706 non-null    object \n",
      " 20  vehicle_5            183 non-null    object \n",
      " 21  cause_vehicle_1      57689 non-null  object \n",
      " 22  cause_vehicle_2      49172 non-null  object \n",
      " 23  cause_vehicle_3      3730 non-null   object \n",
      " 24  cause_vehicle_4      753 non-null    object \n",
      " 25  cause_vehicle_5      193 non-null    object \n",
      "dtypes: float64(2), int64(7), object(17)\n",
      "memory usage: 11.5+ MB\n"
     ]
    }
   ],
   "source": [
    "mvc.info()"
   ]
  },
  {
   "cell_type": "markdown",
   "metadata": {},
   "source": [
    "#### Verifying the percentage of null values\n",
    "\n",
    "To give us a better picture of the null values in the data, let's calculate the percentage of null values in each column. \n",
    "\n",
    "Below, we divide the number of null values in each column by the total number of values in the data set:"
   ]
  },
  {
   "cell_type": "code",
   "execution_count": 3,
   "metadata": {
    "scrolled": false
   },
   "outputs": [
    {
     "data": {
      "text/plain": [
       "unique_key                 0\n",
       "date                       0\n",
       "time                       0\n",
       "borough                20646\n",
       "location                3885\n",
       "on_street              13961\n",
       "cross_street           29249\n",
       "off_street             44093\n",
       "pedestrians_injured        0\n",
       "cyclist_injured            0\n",
       "motorist_injured           0\n",
       "total_injured              1\n",
       "pedestrians_killed         0\n",
       "cyclist_killed             0\n",
       "motorist_killed            0\n",
       "total_killed               5\n",
       "vehicle_1                355\n",
       "vehicle_2              12262\n",
       "vehicle_3              54352\n",
       "vehicle_4              57158\n",
       "vehicle_5              57681\n",
       "cause_vehicle_1          175\n",
       "cause_vehicle_2         8692\n",
       "cause_vehicle_3        54134\n",
       "cause_vehicle_4        57111\n",
       "cause_vehicle_5        57671\n",
       "dtype: int64"
      ]
     },
     "execution_count": 3,
     "metadata": {},
     "output_type": "execute_result"
    }
   ],
   "source": [
    "null_counts = mvc.isnull().sum()\n",
    "null_counts"
   ]
  },
  {
   "cell_type": "code",
   "execution_count": 4,
   "metadata": {
    "scrolled": false
   },
   "outputs": [
    {
     "data": {
      "text/plain": [
       "unique_key              0.000000\n",
       "date                    0.000000\n",
       "time                    0.000000\n",
       "borough                35.680216\n",
       "location                6.714019\n",
       "on_street              24.127264\n",
       "cross_street           50.547836\n",
       "off_street             76.201092\n",
       "pedestrians_injured     0.000000\n",
       "cyclist_injured         0.000000\n",
       "motorist_injured        0.000000\n",
       "total_injured           0.001728\n",
       "pedestrians_killed      0.000000\n",
       "cyclist_killed          0.000000\n",
       "motorist_killed         0.000000\n",
       "total_killed            0.008641\n",
       "vehicle_1               0.613508\n",
       "vehicle_2              21.191069\n",
       "vehicle_3              93.930596\n",
       "vehicle_4              98.779898\n",
       "vehicle_5              99.683741\n",
       "cause_vehicle_1         0.302433\n",
       "cause_vehicle_2        15.021430\n",
       "cause_vehicle_3        93.553850\n",
       "cause_vehicle_4        98.698673\n",
       "cause_vehicle_5        99.666459\n",
       "dtype: float64"
      ]
     },
     "execution_count": 4,
     "metadata": {},
     "output_type": "execute_result"
    }
   ],
   "source": [
    "# percentage of Nulls values\n",
    "null_counts_pct = null_counts / mvc.shape[0] * 100\n",
    "null_counts_pct"
   ]
  },
  {
   "cell_type": "markdown",
   "metadata": {},
   "source": [
    "#### interpreting data.\n",
    "\n",
    "It is very important to know how to interpret the information we have about our data, it depends on whether we take the right steps or not.\n",
    "\n",
    "The sum of `total_killed` and `total_injured` has an amount that should not be because the sums are 0!\n",
    "\n",
    "    ...\n",
    "    pedestrians_killed      0.000000    .\n",
    "    cyclist_killed          0.000000    +\n",
    "    motorist_killed         0.000000    +\n",
    "    total_killed            0.008641 <- ¿!?\n",
    "    pedestrians_injured     0.000000    .\n",
    "    cyclist_injured         0.000000    +\n",
    "    motorist_injured        0.000000    +\n",
    "    total_injured           0.001728 <- ¿!?\n",
    "    ...\n",
    "\n",
    "We'll then add both, the counts and percentages to a dataframe to make them easier to compare and Transpose the output:"
   ]
  },
  {
   "cell_type": "code",
   "execution_count": 5,
   "metadata": {},
   "outputs": [
    {
     "data": {
      "text/html": [
       "<div>\n",
       "<style scoped>\n",
       "    .dataframe tbody tr th:only-of-type {\n",
       "        vertical-align: middle;\n",
       "    }\n",
       "\n",
       "    .dataframe tbody tr th {\n",
       "        vertical-align: top;\n",
       "    }\n",
       "\n",
       "    .dataframe thead th {\n",
       "        text-align: right;\n",
       "    }\n",
       "</style>\n",
       "<table border=\"1\" class=\"dataframe\">\n",
       "  <thead>\n",
       "    <tr style=\"text-align: right;\">\n",
       "      <th></th>\n",
       "      <th>unique_key</th>\n",
       "      <th>date</th>\n",
       "      <th>time</th>\n",
       "      <th>borough</th>\n",
       "      <th>location</th>\n",
       "      <th>on_street</th>\n",
       "      <th>cross_street</th>\n",
       "      <th>off_street</th>\n",
       "      <th>pedestrians_injured</th>\n",
       "      <th>cyclist_injured</th>\n",
       "      <th>motorist_injured</th>\n",
       "      <th>total_injured</th>\n",
       "      <th>pedestrians_killed</th>\n",
       "      <th>cyclist_killed</th>\n",
       "      <th>motorist_killed</th>\n",
       "      <th>total_killed</th>\n",
       "      <th>vehicle_1</th>\n",
       "      <th>vehicle_2</th>\n",
       "      <th>vehicle_3</th>\n",
       "      <th>vehicle_4</th>\n",
       "      <th>vehicle_5</th>\n",
       "      <th>cause_vehicle_1</th>\n",
       "      <th>cause_vehicle_2</th>\n",
       "      <th>cause_vehicle_3</th>\n",
       "      <th>cause_vehicle_4</th>\n",
       "      <th>cause_vehicle_5</th>\n",
       "    </tr>\n",
       "  </thead>\n",
       "  <tbody>\n",
       "    <tr>\n",
       "      <th>null_counts</th>\n",
       "      <td>0</td>\n",
       "      <td>0</td>\n",
       "      <td>0</td>\n",
       "      <td>20646</td>\n",
       "      <td>3885</td>\n",
       "      <td>13961</td>\n",
       "      <td>29249</td>\n",
       "      <td>44093</td>\n",
       "      <td>0</td>\n",
       "      <td>0</td>\n",
       "      <td>0</td>\n",
       "      <td>1</td>\n",
       "      <td>0</td>\n",
       "      <td>0</td>\n",
       "      <td>0</td>\n",
       "      <td>5</td>\n",
       "      <td>355</td>\n",
       "      <td>12262</td>\n",
       "      <td>54352</td>\n",
       "      <td>57158</td>\n",
       "      <td>57681</td>\n",
       "      <td>175</td>\n",
       "      <td>8692</td>\n",
       "      <td>54134</td>\n",
       "      <td>57111</td>\n",
       "      <td>57671</td>\n",
       "    </tr>\n",
       "    <tr>\n",
       "      <th>null_pct %</th>\n",
       "      <td>0</td>\n",
       "      <td>0</td>\n",
       "      <td>0</td>\n",
       "      <td>35</td>\n",
       "      <td>6</td>\n",
       "      <td>24</td>\n",
       "      <td>50</td>\n",
       "      <td>76</td>\n",
       "      <td>0</td>\n",
       "      <td>0</td>\n",
       "      <td>0</td>\n",
       "      <td>0</td>\n",
       "      <td>0</td>\n",
       "      <td>0</td>\n",
       "      <td>0</td>\n",
       "      <td>0</td>\n",
       "      <td>0</td>\n",
       "      <td>21</td>\n",
       "      <td>93</td>\n",
       "      <td>98</td>\n",
       "      <td>99</td>\n",
       "      <td>0</td>\n",
       "      <td>15</td>\n",
       "      <td>93</td>\n",
       "      <td>98</td>\n",
       "      <td>99</td>\n",
       "    </tr>\n",
       "  </tbody>\n",
       "</table>\n",
       "</div>"
      ],
      "text/plain": [
       "             unique_key  date  time  borough  location  on_street  \\\n",
       "null_counts           0     0     0    20646      3885      13961   \n",
       "null_pct %            0     0     0       35         6         24   \n",
       "\n",
       "             cross_street  off_street  pedestrians_injured  cyclist_injured  \\\n",
       "null_counts         29249       44093                    0                0   \n",
       "null_pct %             50          76                    0                0   \n",
       "\n",
       "             motorist_injured  total_injured  pedestrians_killed  \\\n",
       "null_counts                 0              1                   0   \n",
       "null_pct %                  0              0                   0   \n",
       "\n",
       "             cyclist_killed  motorist_killed  total_killed  vehicle_1  \\\n",
       "null_counts               0                0             5        355   \n",
       "null_pct %                0                0             0          0   \n",
       "\n",
       "             vehicle_2  vehicle_3  vehicle_4  vehicle_5  cause_vehicle_1  \\\n",
       "null_counts      12262      54352      57158      57681              175   \n",
       "null_pct %          21         93         98         99                0   \n",
       "\n",
       "             cause_vehicle_2  cause_vehicle_3  cause_vehicle_4  \\\n",
       "null_counts             8692            54134            57111   \n",
       "null_pct %                15               93               98   \n",
       "\n",
       "             cause_vehicle_5  \n",
       "null_counts            57671  \n",
       "null_pct %                99  "
      ]
     },
     "execution_count": 5,
     "metadata": {},
     "output_type": "execute_result"
    }
   ],
   "source": [
    "# null_counts     | data values\n",
    "# null_counts_pct | data percentages\n",
    "\n",
    "null_df = pd.DataFrame({'null_counts': null_counts, 'null_pct %': null_counts_pct})\n",
    "# Rotate the dataframe so that rows become columns and vice-versa\n",
    "\n",
    "null_df = null_df.T.astype(int)\n",
    "null_df"
   ]
  },
  {
   "cell_type": "code",
   "execution_count": 6,
   "metadata": {},
   "outputs": [
    {
     "data": {
      "text/plain": [
       "unique_key             0\n",
       "date                   0\n",
       "time                   0\n",
       "pedestrians_injured    0\n",
       "cyclist_injured        0\n",
       "motorist_injured       0\n",
       "pedestrians_killed     0\n",
       "cyclist_killed         0\n",
       "motorist_killed        0\n",
       "dtype: int64"
      ]
     },
     "execution_count": 6,
     "metadata": {},
     "output_type": "execute_result"
    }
   ],
   "source": [
    "null_df.sum().loc[lambda x : x==0]"
   ]
  },
  {
   "cell_type": "code",
   "execution_count": 7,
   "metadata": {},
   "outputs": [],
   "source": [
    "len_zeronull_df = len(null_df.sum().loc[lambda x : x==0]) # amount of columns without null values.\n",
    "len_null_df = len(null_df) # numbers of total columns on dataframe"
   ]
  },
  {
   "cell_type": "code",
   "execution_count": 8,
   "metadata": {},
   "outputs": [
    {
     "data": {
      "text/plain": [
       "22.22222222222222"
      ]
     },
     "execution_count": 8,
     "metadata": {},
     "output_type": "execute_result"
    }
   ],
   "source": [
    "(len_null_df / len_zeronull_df)*100"
   ]
  },
  {
   "cell_type": "markdown",
   "metadata": {},
   "source": [
    "About a 22% of the columns have no null values, ranging from less than 1% to 99%!\n",
    "\n",
    "### Looking at the group of columns that relate to people killed in collisions."
   ]
  },
  {
   "cell_type": "code",
   "execution_count": 9,
   "metadata": {},
   "outputs": [
    {
     "data": {
      "text/plain": [
       "['pedestrians_killed', 'cyclist_killed', 'motorist_killed', 'total_killed']"
      ]
     },
     "execution_count": 9,
     "metadata": {},
     "output_type": "execute_result"
    }
   ],
   "source": [
    "killed_cols = [col for col in mvc.columns if 'killed' in col]\n",
    "killed_cols"
   ]
  },
  {
   "cell_type": "code",
   "execution_count": 10,
   "metadata": {},
   "outputs": [
    {
     "data": {
      "text/html": [
       "<div>\n",
       "<style scoped>\n",
       "    .dataframe tbody tr th:only-of-type {\n",
       "        vertical-align: middle;\n",
       "    }\n",
       "\n",
       "    .dataframe tbody tr th {\n",
       "        vertical-align: top;\n",
       "    }\n",
       "\n",
       "    .dataframe thead th {\n",
       "        text-align: right;\n",
       "    }\n",
       "</style>\n",
       "<table border=\"1\" class=\"dataframe\">\n",
       "  <thead>\n",
       "    <tr style=\"text-align: right;\">\n",
       "      <th></th>\n",
       "      <th>pedestrians_killed</th>\n",
       "      <th>cyclist_killed</th>\n",
       "      <th>motorist_killed</th>\n",
       "      <th>total_killed</th>\n",
       "    </tr>\n",
       "  </thead>\n",
       "  <tbody>\n",
       "    <tr>\n",
       "      <th>null_counts</th>\n",
       "      <td>0</td>\n",
       "      <td>0</td>\n",
       "      <td>0</td>\n",
       "      <td>5</td>\n",
       "    </tr>\n",
       "    <tr>\n",
       "      <th>null_pct %</th>\n",
       "      <td>0</td>\n",
       "      <td>0</td>\n",
       "      <td>0</td>\n",
       "      <td>0</td>\n",
       "    </tr>\n",
       "  </tbody>\n",
       "</table>\n",
       "</div>"
      ],
      "text/plain": [
       "             pedestrians_killed  cyclist_killed  motorist_killed  total_killed\n",
       "null_counts                   0               0                0             5\n",
       "null_pct %                    0               0                0             0"
      ]
     },
     "execution_count": 10,
     "metadata": {},
     "output_type": "execute_result"
    }
   ],
   "source": [
    "null_df[killed_cols]"
   ]
  },
  {
   "cell_type": "markdown",
   "metadata": {},
   "source": [
    "**The total number of people killed should be the sum of each of the individual categories**. \n",
    "\n",
    "But each of the individual categories have no missing values, the `total_killed` column **has five missing values** ¿!!!?.\n",
    "\n",
    "We might be able to **imputate** the missing values with the sums of the individual columns for that row. \n",
    "\n",
    "### How to do it?\n",
    "\n",
    "Selecting the first three columns `pedestrians_killed`, `cyclist_killed`, `motorist_killed`, and sum each row in a variable called `killed_manual_sum`.\n",
    "\n",
    "Once is done compare the manual sum ie. `killed_manual_sum` to the original column `total_killed` and with this comparation create a boolean mask where equivalent values are not equal.\n",
    "\n",
    "Lastly, using the boolean mask to filter the original dataframe **to include only rows** where the manual sum and original **aren't equal**.\n",
    "\n",
    "* * *"
   ]
  },
  {
   "cell_type": "markdown",
   "metadata": {},
   "source": [
    "- Selecting the columns with `killed` inside of it."
   ]
  },
  {
   "cell_type": "code",
   "execution_count": 11,
   "metadata": {},
   "outputs": [
    {
     "data": {
      "text/plain": [
       "['pedestrians_killed', 'cyclist_killed', 'motorist_killed', 'total_killed']"
      ]
     },
     "execution_count": 11,
     "metadata": {},
     "output_type": "execute_result"
    }
   ],
   "source": [
    "killed_cols"
   ]
  },
  {
   "cell_type": "markdown",
   "metadata": {},
   "source": [
    "- Create a copy for work on it"
   ]
  },
  {
   "cell_type": "code",
   "execution_count": 12,
   "metadata": {},
   "outputs": [
    {
     "data": {
      "text/html": [
       "<div>\n",
       "<style scoped>\n",
       "    .dataframe tbody tr th:only-of-type {\n",
       "        vertical-align: middle;\n",
       "    }\n",
       "\n",
       "    .dataframe tbody tr th {\n",
       "        vertical-align: top;\n",
       "    }\n",
       "\n",
       "    .dataframe thead th {\n",
       "        text-align: right;\n",
       "    }\n",
       "</style>\n",
       "<table border=\"1\" class=\"dataframe\">\n",
       "  <thead>\n",
       "    <tr style=\"text-align: right;\">\n",
       "      <th></th>\n",
       "      <th>pedestrians_killed</th>\n",
       "      <th>cyclist_killed</th>\n",
       "      <th>motorist_killed</th>\n",
       "      <th>total_killed</th>\n",
       "    </tr>\n",
       "  </thead>\n",
       "  <tbody>\n",
       "    <tr>\n",
       "      <th>0</th>\n",
       "      <td>0</td>\n",
       "      <td>0</td>\n",
       "      <td>0</td>\n",
       "      <td>0.0</td>\n",
       "    </tr>\n",
       "    <tr>\n",
       "      <th>1</th>\n",
       "      <td>0</td>\n",
       "      <td>0</td>\n",
       "      <td>0</td>\n",
       "      <td>0.0</td>\n",
       "    </tr>\n",
       "    <tr>\n",
       "      <th>2</th>\n",
       "      <td>0</td>\n",
       "      <td>0</td>\n",
       "      <td>0</td>\n",
       "      <td>0.0</td>\n",
       "    </tr>\n",
       "    <tr>\n",
       "      <th>3</th>\n",
       "      <td>0</td>\n",
       "      <td>0</td>\n",
       "      <td>0</td>\n",
       "      <td>0.0</td>\n",
       "    </tr>\n",
       "    <tr>\n",
       "      <th>4</th>\n",
       "      <td>0</td>\n",
       "      <td>0</td>\n",
       "      <td>0</td>\n",
       "      <td>0.0</td>\n",
       "    </tr>\n",
       "  </tbody>\n",
       "</table>\n",
       "</div>"
      ],
      "text/plain": [
       "   pedestrians_killed  cyclist_killed  motorist_killed  total_killed\n",
       "0                   0               0                0           0.0\n",
       "1                   0               0                0           0.0\n",
       "2                   0               0                0           0.0\n",
       "3                   0               0                0           0.0\n",
       "4                   0               0                0           0.0"
      ]
     },
     "execution_count": 12,
     "metadata": {},
     "output_type": "execute_result"
    }
   ],
   "source": [
    "killed = mvc[killed_cols].copy()\n",
    "killed.head() # a sample of content"
   ]
  },
  {
   "cell_type": "markdown",
   "metadata": {},
   "source": [
    "- Select the columns from `killed`"
   ]
  },
  {
   "cell_type": "code",
   "execution_count": 13,
   "metadata": {},
   "outputs": [
    {
     "data": {
      "text/html": [
       "<div>\n",
       "<style scoped>\n",
       "    .dataframe tbody tr th:only-of-type {\n",
       "        vertical-align: middle;\n",
       "    }\n",
       "\n",
       "    .dataframe tbody tr th {\n",
       "        vertical-align: top;\n",
       "    }\n",
       "\n",
       "    .dataframe thead th {\n",
       "        text-align: right;\n",
       "    }\n",
       "</style>\n",
       "<table border=\"1\" class=\"dataframe\">\n",
       "  <thead>\n",
       "    <tr style=\"text-align: right;\">\n",
       "      <th></th>\n",
       "      <th>pedestrians_killed</th>\n",
       "      <th>cyclist_killed</th>\n",
       "      <th>motorist_killed</th>\n",
       "    </tr>\n",
       "  </thead>\n",
       "  <tbody>\n",
       "    <tr>\n",
       "      <th>0</th>\n",
       "      <td>0</td>\n",
       "      <td>0</td>\n",
       "      <td>0</td>\n",
       "    </tr>\n",
       "    <tr>\n",
       "      <th>1</th>\n",
       "      <td>0</td>\n",
       "      <td>0</td>\n",
       "      <td>0</td>\n",
       "    </tr>\n",
       "    <tr>\n",
       "      <th>2</th>\n",
       "      <td>0</td>\n",
       "      <td>0</td>\n",
       "      <td>0</td>\n",
       "    </tr>\n",
       "    <tr>\n",
       "      <th>3</th>\n",
       "      <td>0</td>\n",
       "      <td>0</td>\n",
       "      <td>0</td>\n",
       "    </tr>\n",
       "    <tr>\n",
       "      <th>4</th>\n",
       "      <td>0</td>\n",
       "      <td>0</td>\n",
       "      <td>0</td>\n",
       "    </tr>\n",
       "  </tbody>\n",
       "</table>\n",
       "</div>"
      ],
      "text/plain": [
       "   pedestrians_killed  cyclist_killed  motorist_killed\n",
       "0                   0               0                0\n",
       "1                   0               0                0\n",
       "2                   0               0                0\n",
       "3                   0               0                0\n",
       "4                   0               0                0"
      ]
     },
     "execution_count": 13,
     "metadata": {},
     "output_type": "execute_result"
    }
   ],
   "source": [
    "killed.iloc[:,:3].head() # a sample of content too"
   ]
  },
  {
   "cell_type": "markdown",
   "metadata": {},
   "source": [
    "- sum each row creating `killed_manual_sum`"
   ]
  },
  {
   "cell_type": "code",
   "execution_count": 14,
   "metadata": {},
   "outputs": [
    {
     "data": {
      "text/plain": [
       "0    0\n",
       "1    0\n",
       "2    0\n",
       "3    0\n",
       "4    0\n",
       "dtype: int64"
      ]
     },
     "execution_count": 14,
     "metadata": {},
     "output_type": "execute_result"
    }
   ],
   "source": [
    "killed_manual_sum = killed.iloc[:,:3].sum(axis = 1)\n",
    "killed_manual_sum.head()"
   ]
  },
  {
   "cell_type": "code",
   "execution_count": 15,
   "metadata": {},
   "outputs": [
    {
     "data": {
      "text/plain": [
       "0    57814\n",
       "1       50\n",
       "dtype: int64"
      ]
     },
     "execution_count": 15,
     "metadata": {},
     "output_type": "execute_result"
    }
   ],
   "source": [
    "killed_manual_sum.value_counts()"
   ]
  },
  {
   "cell_type": "markdown",
   "metadata": {},
   "source": [
    "### Comparison between `killed_manual_sum` and the `total_killed` in the dataframe.\n",
    "\n",
    "Before doing anything I would like to know what is the sum total of the column `total_killed`"
   ]
  },
  {
   "cell_type": "code",
   "execution_count": 16,
   "metadata": {},
   "outputs": [
    {
     "data": {
      "text/plain": [
       "0.0    57815\n",
       "1.0       49\n",
       "dtype: int64"
      ]
     },
     "execution_count": 16,
     "metadata": {},
     "output_type": "execute_result"
    }
   ],
   "source": [
    "tk = killed.iloc[:,3:].sum(axis = 1)\n",
    "tk.value_counts()"
   ]
  },
  {
   "cell_type": "markdown",
   "metadata": {},
   "source": [
    "### Creating a boolean mask \n",
    "\n",
    "Checks whether each value in `killed_manual_sum` **is not equal** to the values in the `total_killed` column."
   ]
  },
  {
   "cell_type": "code",
   "execution_count": 17,
   "metadata": {},
   "outputs": [
    {
     "data": {
      "text/plain": [
       "0    False\n",
       "1    False\n",
       "2    False\n",
       "3    False\n",
       "4    False\n",
       "dtype: bool"
      ]
     },
     "execution_count": 17,
     "metadata": {},
     "output_type": "execute_result"
    }
   ],
   "source": [
    "killed_mask = killed_manual_sum != killed['total_killed']\n",
    "killed_mask.head() # boolean mask resulting of difference results."
   ]
  },
  {
   "cell_type": "markdown",
   "metadata": {},
   "source": [
    "Using `killed_mask` to filter the rows in `killed`."
   ]
  },
  {
   "cell_type": "code",
   "execution_count": 18,
   "metadata": {},
   "outputs": [
    {
     "data": {
      "text/html": [
       "<div>\n",
       "<style scoped>\n",
       "    .dataframe tbody tr th:only-of-type {\n",
       "        vertical-align: middle;\n",
       "    }\n",
       "\n",
       "    .dataframe tbody tr th {\n",
       "        vertical-align: top;\n",
       "    }\n",
       "\n",
       "    .dataframe thead th {\n",
       "        text-align: right;\n",
       "    }\n",
       "</style>\n",
       "<table border=\"1\" class=\"dataframe\">\n",
       "  <thead>\n",
       "    <tr style=\"text-align: right;\">\n",
       "      <th></th>\n",
       "      <th>pedestrians_killed</th>\n",
       "      <th>cyclist_killed</th>\n",
       "      <th>motorist_killed</th>\n",
       "      <th>total_killed</th>\n",
       "    </tr>\n",
       "  </thead>\n",
       "  <tbody>\n",
       "    <tr>\n",
       "      <th>3508</th>\n",
       "      <td>0</td>\n",
       "      <td>0</td>\n",
       "      <td>0</td>\n",
       "      <td>NaN</td>\n",
       "    </tr>\n",
       "    <tr>\n",
       "      <th>20163</th>\n",
       "      <td>0</td>\n",
       "      <td>0</td>\n",
       "      <td>0</td>\n",
       "      <td>NaN</td>\n",
       "    </tr>\n",
       "    <tr>\n",
       "      <th>22046</th>\n",
       "      <td>0</td>\n",
       "      <td>0</td>\n",
       "      <td>1</td>\n",
       "      <td>0.0</td>\n",
       "    </tr>\n",
       "    <tr>\n",
       "      <th>48719</th>\n",
       "      <td>0</td>\n",
       "      <td>0</td>\n",
       "      <td>0</td>\n",
       "      <td>NaN</td>\n",
       "    </tr>\n",
       "    <tr>\n",
       "      <th>55148</th>\n",
       "      <td>0</td>\n",
       "      <td>0</td>\n",
       "      <td>0</td>\n",
       "      <td>NaN</td>\n",
       "    </tr>\n",
       "    <tr>\n",
       "      <th>55699</th>\n",
       "      <td>0</td>\n",
       "      <td>0</td>\n",
       "      <td>0</td>\n",
       "      <td>NaN</td>\n",
       "    </tr>\n",
       "  </tbody>\n",
       "</table>\n",
       "</div>"
      ],
      "text/plain": [
       "       pedestrians_killed  cyclist_killed  motorist_killed  total_killed\n",
       "3508                    0               0                0           NaN\n",
       "20163                   0               0                0           NaN\n",
       "22046                   0               0                1           0.0\n",
       "48719                   0               0                0           NaN\n",
       "55148                   0               0                0           NaN\n",
       "55699                   0               0                0           NaN"
      ]
     },
     "execution_count": 18,
     "metadata": {},
     "output_type": "execute_result"
    }
   ],
   "source": [
    "killed_non_eq = killed[killed_mask]\n",
    "killed_non_eq"
   ]
  },
  {
   "cell_type": "markdown",
   "metadata": {},
   "source": [
    "### Sumarizing strategy: Filling and verifying the `Killed` data.\n",
    "\n",
    "<br>\n",
    "\n",
    "We can categorize these results into two categories:\n",
    "\n",
    "- 1. **Five rows** where the `total_killed` **is not equal to the sum of the other columns** because the total value is missing `NaN`.\n",
    "\n",
    "\n",
    "- 2. **One row** where the `total_killed` **is less than the sum of the other columns**.\n",
    "\n",
    "\n",
    "<br>\n",
    "\n",
    "- As a conclusion, refill **null values** with the sum of the columns is a fairly good choice for **imputation**.\n",
    "\n",
    "\n",
    "- A suspicious row data one that doesn't sum correctly, we'll mark this suspect row by setting its value to `NaN`.\n",
    "\n",
    "\n",
    "<br>\n",
    "\n",
    "\n",
    "`Series.mask()` replace the values where the condition is `True. technique to update the values in the `total_killed` column.\n",
    "\n",
    "        Series.mask(bool_mask, val_to_replace)"
   ]
  },
  {
   "cell_type": "code",
   "execution_count": 19,
   "metadata": {},
   "outputs": [
    {
     "data": {
      "text/plain": [
       "0    False\n",
       "1    False\n",
       "2    False\n",
       "3    False\n",
       "4    False\n",
       "Name: total_killed, dtype: bool"
      ]
     },
     "execution_count": 19,
     "metadata": {},
     "output_type": "execute_result"
    }
   ],
   "source": [
    "killed_null = killed['total_killed'].isnull()\n",
    "killed_null.head()"
   ]
  },
  {
   "cell_type": "code",
   "execution_count": 20,
   "metadata": {},
   "outputs": [
    {
     "data": {
      "text/plain": [
       "array([0., 1.])"
      ]
     },
     "execution_count": 20,
     "metadata": {},
     "output_type": "execute_result"
    }
   ],
   "source": [
    "# killed_null       -> content: boolean values\n",
    "# killed_manual_sum -> the three columns that we had chosen for the sum, the content: is int (0,1)\n",
    "\n",
    "killed['total_killed'] = killed['total_killed'].mask(killed_null, killed_manual_sum)\n",
    "killed['total_killed'].unique() # output 0 and 1"
   ]
  },
  {
   "cell_type": "markdown",
   "metadata": {},
   "source": [
    "Replacing values where the manual sum `killed_manual_sum` and the `total_killed `column aren't equal with `np.nan`.\n",
    "\n",
    "We can define the boolean series directly into `Series.mask()`:"
   ]
  },
  {
   "cell_type": "code",
   "execution_count": 21,
   "metadata": {},
   "outputs": [
    {
     "data": {
      "text/plain": [
       "0    0.0\n",
       "1    0.0\n",
       "2    0.0\n",
       "3    0.0\n",
       "4    0.0\n",
       "Name: total_killed, dtype: float64"
      ]
     },
     "execution_count": 21,
     "metadata": {},
     "output_type": "execute_result"
    }
   ],
   "source": [
    "# fix the killed values\n",
    "\n",
    "killed['total_killed'] = killed['total_killed'].mask(killed['total_killed'] != killed_manual_sum, np.nan)\n",
    "killed['total_killed'].head()"
   ]
  },
  {
   "cell_type": "code",
   "execution_count": 22,
   "metadata": {},
   "outputs": [
    {
     "data": {
      "text/html": [
       "<div>\n",
       "<style scoped>\n",
       "    .dataframe tbody tr th:only-of-type {\n",
       "        vertical-align: middle;\n",
       "    }\n",
       "\n",
       "    .dataframe tbody tr th {\n",
       "        vertical-align: top;\n",
       "    }\n",
       "\n",
       "    .dataframe thead th {\n",
       "        text-align: right;\n",
       "    }\n",
       "</style>\n",
       "<table border=\"1\" class=\"dataframe\">\n",
       "  <thead>\n",
       "    <tr style=\"text-align: right;\">\n",
       "      <th></th>\n",
       "      <th>pedestrians_killed</th>\n",
       "      <th>cyclist_killed</th>\n",
       "      <th>motorist_killed</th>\n",
       "      <th>total_killed</th>\n",
       "    </tr>\n",
       "  </thead>\n",
       "  <tbody>\n",
       "    <tr>\n",
       "      <th>3508</th>\n",
       "      <td>0</td>\n",
       "      <td>0</td>\n",
       "      <td>0</td>\n",
       "      <td>0.0</td>\n",
       "    </tr>\n",
       "    <tr>\n",
       "      <th>20163</th>\n",
       "      <td>0</td>\n",
       "      <td>0</td>\n",
       "      <td>0</td>\n",
       "      <td>0.0</td>\n",
       "    </tr>\n",
       "    <tr>\n",
       "      <th>22046</th>\n",
       "      <td>0</td>\n",
       "      <td>0</td>\n",
       "      <td>1</td>\n",
       "      <td>NaN</td>\n",
       "    </tr>\n",
       "    <tr>\n",
       "      <th>48719</th>\n",
       "      <td>0</td>\n",
       "      <td>0</td>\n",
       "      <td>0</td>\n",
       "      <td>0.0</td>\n",
       "    </tr>\n",
       "    <tr>\n",
       "      <th>55148</th>\n",
       "      <td>0</td>\n",
       "      <td>0</td>\n",
       "      <td>0</td>\n",
       "      <td>0.0</td>\n",
       "    </tr>\n",
       "    <tr>\n",
       "      <th>55699</th>\n",
       "      <td>0</td>\n",
       "      <td>0</td>\n",
       "      <td>0</td>\n",
       "      <td>0.0</td>\n",
       "    </tr>\n",
       "  </tbody>\n",
       "</table>\n",
       "</div>"
      ],
      "text/plain": [
       "       pedestrians_killed  cyclist_killed  motorist_killed  total_killed\n",
       "3508                    0               0                0           0.0\n",
       "20163                   0               0                0           0.0\n",
       "22046                   0               0                1           NaN\n",
       "48719                   0               0                0           0.0\n",
       "55148                   0               0                0           0.0\n",
       "55699                   0               0                0           0.0"
      ]
     },
     "execution_count": 22,
     "metadata": {},
     "output_type": "execute_result"
    }
   ],
   "source": [
    "killed[killed_mask]"
   ]
  },
  {
   "cell_type": "markdown",
   "metadata": {},
   "source": [
    "### Let's do the same for the `injured` data.\n",
    "\n",
    "\n",
    "We included the code to clean the `killed` columns. In addition, we've created an `injured` dataframe with just the injured columns and `injured_manual_sum`, a series manually summing the three individual injured columns.\n",
    "\n",
    "- 1. Use `Series.mask()` to replace any null values from the `total_injured` column with their equivalents from the `injured_manual_sum` series.\n",
    "\n",
    "\n",
    "- 2. Use `Series.mask()` to replace any numbers from `total_injured` that aren't equal to their equivalents in `injured_manual_sum` with `np.nan`."
   ]
  },
  {
   "cell_type": "code",
   "execution_count": 23,
   "metadata": {},
   "outputs": [
    {
     "data": {
      "text/html": [
       "<div>\n",
       "<style scoped>\n",
       "    .dataframe tbody tr th:only-of-type {\n",
       "        vertical-align: middle;\n",
       "    }\n",
       "\n",
       "    .dataframe tbody tr th {\n",
       "        vertical-align: top;\n",
       "    }\n",
       "\n",
       "    .dataframe thead th {\n",
       "        text-align: right;\n",
       "    }\n",
       "</style>\n",
       "<table border=\"1\" class=\"dataframe\">\n",
       "  <thead>\n",
       "    <tr style=\"text-align: right;\">\n",
       "      <th></th>\n",
       "      <th>pedestrians_injured</th>\n",
       "      <th>cyclist_injured</th>\n",
       "      <th>motorist_injured</th>\n",
       "      <th>total_injured</th>\n",
       "    </tr>\n",
       "  </thead>\n",
       "  <tbody>\n",
       "    <tr>\n",
       "      <th>0</th>\n",
       "      <td>0</td>\n",
       "      <td>0</td>\n",
       "      <td>0</td>\n",
       "      <td>0.0</td>\n",
       "    </tr>\n",
       "    <tr>\n",
       "      <th>1</th>\n",
       "      <td>0</td>\n",
       "      <td>0</td>\n",
       "      <td>0</td>\n",
       "      <td>0.0</td>\n",
       "    </tr>\n",
       "    <tr>\n",
       "      <th>2</th>\n",
       "      <td>0</td>\n",
       "      <td>0</td>\n",
       "      <td>1</td>\n",
       "      <td>1.0</td>\n",
       "    </tr>\n",
       "    <tr>\n",
       "      <th>3</th>\n",
       "      <td>0</td>\n",
       "      <td>0</td>\n",
       "      <td>0</td>\n",
       "      <td>0.0</td>\n",
       "    </tr>\n",
       "    <tr>\n",
       "      <th>4</th>\n",
       "      <td>0</td>\n",
       "      <td>0</td>\n",
       "      <td>0</td>\n",
       "      <td>0.0</td>\n",
       "    </tr>\n",
       "  </tbody>\n",
       "</table>\n",
       "</div>"
      ],
      "text/plain": [
       "   pedestrians_injured  cyclist_injured  motorist_injured  total_injured\n",
       "0                    0                0                 0            0.0\n",
       "1                    0                0                 0            0.0\n",
       "2                    0                0                 1            1.0\n",
       "3                    0                0                 0            0.0\n",
       "4                    0                0                 0            0.0"
      ]
     },
     "execution_count": 23,
     "metadata": {},
     "output_type": "execute_result"
    }
   ],
   "source": [
    "# Create an injured dataframe and manually sum values\n",
    "\n",
    "injured = mvc[[col for col in mvc.columns if 'injured' in col]].copy()\n",
    "injured.head()"
   ]
  },
  {
   "cell_type": "code",
   "execution_count": 24,
   "metadata": {},
   "outputs": [
    {
     "data": {
      "text/html": [
       "<style>\n",
       "table {float:left}\n",
       "</style>\n"
      ],
      "text/plain": [
       "<IPython.core.display.HTML object>"
      ]
     },
     "metadata": {},
     "output_type": "display_data"
    }
   ],
   "source": [
    "%%html\n",
    "<style>\n",
    "table {float:left}\n",
    "</style>"
   ]
  },
  {
   "cell_type": "markdown",
   "metadata": {},
   "source": [
    "\n",
    "\n",
    "\n",
    "we will the add the contents of the three rows in a single column called `injured_manual_sum`\n",
    "\n",
    "***\n",
    "\n",
    "the example of operation is as follows:\n",
    "\n",
    "`df = pd.DataFrame({'A':[1,2,3],'B':[3,2,1],'C':[5,5,5]})`\n",
    "\n",
    "`df`\n",
    "\n",
    "|||||\n",
    "|:-|:-|:-|:-|\n",
    "|  |A | B | C|\n",
    "|0 | 1|  3| 5|\n",
    "|1 | 2|  2 | 5|\n",
    "|2 | 3|  1 | 5 |\n"
   ]
  },
  {
   "cell_type": "markdown",
   "metadata": {},
   "source": [
    "`df.iloc[:,:2]`\n",
    "\n",
    "||||\n",
    "|:-|:-|:-|\n",
    "|  |A | B |\n",
    "|0 | 1|  3|\n",
    "|1 | 2|  2 |\n",
    "|2 | 3|  1 |\n",
    "\n"
   ]
  },
  {
   "cell_type": "markdown",
   "metadata": {},
   "source": [
    "\n",
    "`result = df.iloc[:,:2].sum(axis=1)`\n",
    "\n",
    "|||\n",
    "|:-|:-|\n",
    "| | A | \n",
    "|0  |  4|\n",
    "|1  |  4|\n",
    "|2   | 4|"
   ]
  },
  {
   "cell_type": "markdown",
   "metadata": {},
   "source": [
    "- This is the end result\n",
    "\n",
    "***\n",
    "\n",
    "#### Come back to the problem."
   ]
  },
  {
   "cell_type": "code",
   "execution_count": 25,
   "metadata": {},
   "outputs": [
    {
     "data": {
      "text/plain": [
       "0    0\n",
       "1    0\n",
       "2    1\n",
       "3    0\n",
       "4    0\n",
       "dtype: int64"
      ]
     },
     "execution_count": 25,
     "metadata": {},
     "output_type": "execute_result"
    }
   ],
   "source": [
    "injured_manual_sum = injured.iloc[:,:3].sum(axis=1)\n",
    "injured_manual_sum.head() "
   ]
  },
  {
   "cell_type": "markdown",
   "metadata": {},
   "source": [
    "The next step is how to identify the **null values** for manage them. \n",
    "\n",
    "The procedure will be done using the `isnull()` method in this way it will return a `True` when it detects a null **null values** .\n",
    "\n",
    "- If there are we will have a `True`"
   ]
  },
  {
   "cell_type": "code",
   "execution_count": 26,
   "metadata": {},
   "outputs": [
    {
     "data": {
      "text/plain": [
       "0    False\n",
       "1    False\n",
       "2    False\n",
       "3    False\n",
       "4    False\n",
       "Name: total_injured, dtype: bool"
      ]
     },
     "execution_count": 26,
     "metadata": {},
     "output_type": "execute_result"
    }
   ],
   "source": [
    "injured_null = injured['total_injured'].isnull()\n",
    "injured_null.head()"
   ]
  },
  {
   "cell_type": "markdown",
   "metadata": {},
   "source": [
    "- values that are `NaN` are replaced by the result of the manual addition of the start."
   ]
  },
  {
   "cell_type": "code",
   "execution_count": 27,
   "metadata": {},
   "outputs": [
    {
     "data": {
      "text/plain": [
       "0    0.0\n",
       "1    0.0\n",
       "2    1.0\n",
       "3    0.0\n",
       "4    0.0\n",
       "Name: total_injured, dtype: float64"
      ]
     },
     "execution_count": 27,
     "metadata": {},
     "output_type": "execute_result"
    }
   ],
   "source": [
    "injured['total_injured'] = injured['total_injured'].mask(injured_null,injured_manual_sum)\n",
    "injured['total_injured'].head()"
   ]
  },
  {
   "cell_type": "markdown",
   "metadata": {},
   "source": [
    "- if the result we get is different from the one we had with the manual sum then fill in the values that give True with NaN"
   ]
  },
  {
   "cell_type": "code",
   "execution_count": 28,
   "metadata": {},
   "outputs": [],
   "source": [
    "injured['total_injured'] = injured['total_injured'].mask(injured['total_injured'] != injured_manual_sum, np.nan)"
   ]
  },
  {
   "cell_type": "code",
   "execution_count": 29,
   "metadata": {},
   "outputs": [
    {
     "data": {
      "text/html": [
       "<div>\n",
       "<style scoped>\n",
       "    .dataframe tbody tr th:only-of-type {\n",
       "        vertical-align: middle;\n",
       "    }\n",
       "\n",
       "    .dataframe tbody tr th {\n",
       "        vertical-align: top;\n",
       "    }\n",
       "\n",
       "    .dataframe thead th {\n",
       "        text-align: right;\n",
       "    }\n",
       "</style>\n",
       "<table border=\"1\" class=\"dataframe\">\n",
       "  <thead>\n",
       "    <tr style=\"text-align: right;\">\n",
       "      <th></th>\n",
       "      <th>pedestrians_injured</th>\n",
       "      <th>cyclist_injured</th>\n",
       "      <th>motorist_injured</th>\n",
       "      <th>total_injured</th>\n",
       "    </tr>\n",
       "  </thead>\n",
       "  <tbody>\n",
       "    <tr>\n",
       "      <th>0</th>\n",
       "      <td>0</td>\n",
       "      <td>0</td>\n",
       "      <td>0</td>\n",
       "      <td>0.0</td>\n",
       "    </tr>\n",
       "    <tr>\n",
       "      <th>1</th>\n",
       "      <td>0</td>\n",
       "      <td>0</td>\n",
       "      <td>0</td>\n",
       "      <td>0.0</td>\n",
       "    </tr>\n",
       "    <tr>\n",
       "      <th>2</th>\n",
       "      <td>0</td>\n",
       "      <td>0</td>\n",
       "      <td>1</td>\n",
       "      <td>1.0</td>\n",
       "    </tr>\n",
       "    <tr>\n",
       "      <th>3</th>\n",
       "      <td>0</td>\n",
       "      <td>0</td>\n",
       "      <td>0</td>\n",
       "      <td>0.0</td>\n",
       "    </tr>\n",
       "    <tr>\n",
       "      <th>4</th>\n",
       "      <td>0</td>\n",
       "      <td>0</td>\n",
       "      <td>0</td>\n",
       "      <td>0.0</td>\n",
       "    </tr>\n",
       "    <tr>\n",
       "      <th>5</th>\n",
       "      <td>0</td>\n",
       "      <td>0</td>\n",
       "      <td>0</td>\n",
       "      <td>0.0</td>\n",
       "    </tr>\n",
       "    <tr>\n",
       "      <th>6</th>\n",
       "      <td>0</td>\n",
       "      <td>0</td>\n",
       "      <td>0</td>\n",
       "      <td>0.0</td>\n",
       "    </tr>\n",
       "    <tr>\n",
       "      <th>7</th>\n",
       "      <td>0</td>\n",
       "      <td>0</td>\n",
       "      <td>0</td>\n",
       "      <td>0.0</td>\n",
       "    </tr>\n",
       "    <tr>\n",
       "      <th>8</th>\n",
       "      <td>0</td>\n",
       "      <td>0</td>\n",
       "      <td>3</td>\n",
       "      <td>3.0</td>\n",
       "    </tr>\n",
       "    <tr>\n",
       "      <th>9</th>\n",
       "      <td>0</td>\n",
       "      <td>0</td>\n",
       "      <td>0</td>\n",
       "      <td>0.0</td>\n",
       "    </tr>\n",
       "  </tbody>\n",
       "</table>\n",
       "</div>"
      ],
      "text/plain": [
       "   pedestrians_injured  cyclist_injured  motorist_injured  total_injured\n",
       "0                    0                0                 0            0.0\n",
       "1                    0                0                 0            0.0\n",
       "2                    0                0                 1            1.0\n",
       "3                    0                0                 0            0.0\n",
       "4                    0                0                 0            0.0\n",
       "5                    0                0                 0            0.0\n",
       "6                    0                0                 0            0.0\n",
       "7                    0                0                 0            0.0\n",
       "8                    0                0                 3            3.0\n",
       "9                    0                0                 0            0.0"
      ]
     },
     "execution_count": 29,
     "metadata": {},
     "output_type": "execute_result"
    }
   ],
   "source": [
    "injured.head(10)"
   ]
  },
  {
   "cell_type": "markdown",
   "metadata": {},
   "source": [
    "### Back to the main Dataframe"
   ]
  },
  {
   "cell_type": "code",
   "execution_count": 30,
   "metadata": {},
   "outputs": [
    {
     "name": "stdout",
     "output_type": "stream",
     "text": [
      "        injured  killed\n",
      "before        1       5\n",
      "after        21       1\n"
     ]
    }
   ],
   "source": [
    "summary = {\n",
    "    'injured': [\n",
    "        mvc['total_injured'].isnull().sum(),\n",
    "        injured['total_injured'].isnull().sum()\n",
    "    ],\n",
    "    'killed': [\n",
    "        mvc['total_killed'].isnull().sum(),\n",
    "        killed['total_killed'].isnull().sum()\n",
    "    ]\n",
    "}\n",
    "print(pd.DataFrame(summary, index=['before','after']))"
   ]
  },
  {
   "cell_type": "markdown",
   "metadata": {},
   "source": [
    "- For the `total_killed` column, the number of values has gone down from 5 to 1. \n",
    "\n",
    "\n",
    "- For the `total_injured` column, the number of values has actually gone up — from 1 to 21. \n",
    "\n",
    "<br>\n",
    "\n",
    "\n",
    "What we've actually done is fill all the **null** values and identify values that have suspect data. \n",
    "\n",
    "\n",
    "This will make any analysis we do on this data more accurate in the long run.\n",
    "\n",
    "* * *\n",
    "\n",
    "Assigning the `total_killed` and `total_injured` column from the `injured` and `killed` dataframe to the same column in the `mvc` dataframe."
   ]
  },
  {
   "cell_type": "code",
   "execution_count": 31,
   "metadata": {},
   "outputs": [],
   "source": [
    "mvc['total_killed'] = killed['total_killed']\n",
    "#mvc['total_injured']"
   ]
  },
  {
   "cell_type": "markdown",
   "metadata": {},
   "source": [
    "Assigning the `total_killed` column from the `killed` dataframe to the same column in the `mvc` dataframe."
   ]
  },
  {
   "cell_type": "code",
   "execution_count": 32,
   "metadata": {},
   "outputs": [],
   "source": [
    "mvc['total_injured'] = injured['total_injured']\n",
    "#mvc['total_killed']"
   ]
  },
  {
   "cell_type": "code",
   "execution_count": 33,
   "metadata": {},
   "outputs": [],
   "source": [
    "import matplotlib.pyplot as plt\n",
    "import seaborn as sns"
   ]
  },
  {
   "cell_type": "markdown",
   "metadata": {},
   "source": [
    "### Visualizing Missing Data with Plots\n",
    "\n",
    "We used a table of numbers to understand the number of missing values in our dataframe. A different approach we can take is to use a plot to visualize the missing values. The function below uses `seaborn.heatmap()` to represent null values as light squares and non-null values as dark squares:"
   ]
  },
  {
   "cell_type": "code",
   "execution_count": 34,
   "metadata": {},
   "outputs": [],
   "source": [
    "def plot_null_matrix(df, figsize=(18,15)):\n",
    "    # initiate the figure\n",
    "    plt.figure(figsize=figsize)\n",
    "    # create a boolean dataframe based on whether values are null\n",
    "    df_null = df.isnull()\n",
    "    # create a heatmap of the boolean dataframe\n",
    "    sns.heatmap(~df_null, cbar=False, yticklabels=False) # \n",
    "    plt.xticks(rotation=90, size='x-large')\n",
    "    plt.show()"
   ]
  },
  {
   "cell_type": "markdown",
   "metadata": {},
   "source": [
    "Let's look at how the function works by using it to plot just the first row of our `mvc` dataframe. We'll display the first row as a table immediately below so it's easy to compare:"
   ]
  },
  {
   "cell_type": "code",
   "execution_count": 35,
   "metadata": {},
   "outputs": [
    {
     "data": {
      "image/png": "[encoded data removed]",
      "text/plain": [
       "<Figure size 1296x72 with 1 Axes>"
      ]
     },
     "metadata": {
      "needs_background": "light"
     },
     "output_type": "display_data"
    }
   ],
   "source": [
    "plot_null_matrix(mvc.head(1), figsize=(18,1))"
   ]
  },
  {
   "cell_type": "code",
   "execution_count": 36,
   "metadata": {},
   "outputs": [
    {
     "data": {
      "text/html": [
       "<div>\n",
       "<style scoped>\n",
       "    .dataframe tbody tr th:only-of-type {\n",
       "        vertical-align: middle;\n",
       "    }\n",
       "\n",
       "    .dataframe tbody tr th {\n",
       "        vertical-align: top;\n",
       "    }\n",
       "\n",
       "    .dataframe thead th {\n",
       "        text-align: right;\n",
       "    }\n",
       "</style>\n",
       "<table border=\"1\" class=\"dataframe\">\n",
       "  <thead>\n",
       "    <tr style=\"text-align: right;\">\n",
       "      <th></th>\n",
       "      <th>unique_key</th>\n",
       "      <th>date</th>\n",
       "      <th>time</th>\n",
       "      <th>borough</th>\n",
       "      <th>location</th>\n",
       "      <th>on_street</th>\n",
       "      <th>cross_street</th>\n",
       "      <th>off_street</th>\n",
       "      <th>pedestrians_injured</th>\n",
       "      <th>cyclist_injured</th>\n",
       "      <th>motorist_injured</th>\n",
       "      <th>total_injured</th>\n",
       "      <th>pedestrians_killed</th>\n",
       "      <th>cyclist_killed</th>\n",
       "      <th>motorist_killed</th>\n",
       "      <th>total_killed</th>\n",
       "      <th>vehicle_1</th>\n",
       "      <th>vehicle_2</th>\n",
       "      <th>vehicle_3</th>\n",
       "      <th>vehicle_4</th>\n",
       "      <th>vehicle_5</th>\n",
       "      <th>cause_vehicle_1</th>\n",
       "      <th>cause_vehicle_2</th>\n",
       "      <th>cause_vehicle_3</th>\n",
       "      <th>cause_vehicle_4</th>\n",
       "      <th>cause_vehicle_5</th>\n",
       "    </tr>\n",
       "  </thead>\n",
       "  <tbody>\n",
       "    <tr>\n",
       "      <th>0</th>\n",
       "      <td>3869058</td>\n",
       "      <td>2018-03-23</td>\n",
       "      <td>21:40</td>\n",
       "      <td>MANHATTAN</td>\n",
       "      <td>(40.742832, -74.00771)</td>\n",
       "      <td>WEST 15 STREET</td>\n",
       "      <td>10 AVENUE</td>\n",
       "      <td>NaN</td>\n",
       "      <td>0</td>\n",
       "      <td>0</td>\n",
       "      <td>0</td>\n",
       "      <td>0.0</td>\n",
       "      <td>0</td>\n",
       "      <td>0</td>\n",
       "      <td>0</td>\n",
       "      <td>0.0</td>\n",
       "      <td>PASSENGER VEHICLE</td>\n",
       "      <td>NaN</td>\n",
       "      <td>NaN</td>\n",
       "      <td>NaN</td>\n",
       "      <td>NaN</td>\n",
       "      <td>Following Too Closely</td>\n",
       "      <td>Unspecified</td>\n",
       "      <td>NaN</td>\n",
       "      <td>NaN</td>\n",
       "      <td>NaN</td>\n",
       "    </tr>\n",
       "  </tbody>\n",
       "</table>\n",
       "</div>"
      ],
      "text/plain": [
       "   unique_key        date   time    borough                location  \\\n",
       "0     3869058  2018-03-23  21:40  MANHATTAN  (40.742832, -74.00771)   \n",
       "\n",
       "                          on_street cross_street off_street  \\\n",
       "0  WEST 15 STREET                      10 AVENUE        NaN   \n",
       "\n",
       "   pedestrians_injured  cyclist_injured  motorist_injured  total_injured  \\\n",
       "0                    0                0                 0            0.0   \n",
       "\n",
       "   pedestrians_killed  cyclist_killed  motorist_killed  total_killed  \\\n",
       "0                   0               0                0           0.0   \n",
       "\n",
       "           vehicle_1 vehicle_2 vehicle_3 vehicle_4 vehicle_5  \\\n",
       "0  PASSENGER VEHICLE       NaN       NaN       NaN       NaN   \n",
       "\n",
       "         cause_vehicle_1 cause_vehicle_2 cause_vehicle_3 cause_vehicle_4  \\\n",
       "0  Following Too Closely     Unspecified             NaN             NaN   \n",
       "\n",
       "  cause_vehicle_5  \n",
       "0             NaN  "
      ]
     },
     "execution_count": 36,
     "metadata": {},
     "output_type": "execute_result"
    }
   ],
   "source": [
    "mvc.head(1)"
   ]
  },
  {
   "cell_type": "markdown",
   "metadata": {},
   "source": [
    "Each value is represented by a dark square, and each missing value is represented by a light square.\n",
    "\n",
    "Let's look at what a plot matrix looks like for the whole dataframe:"
   ]
  },
  {
   "cell_type": "code",
   "execution_count": 37,
   "metadata": {},
   "outputs": [
    {
     "data": {
      "image/png": "[encoded data removed]",
      "text/plain": [
       "<Figure size 1296x1080 with 1 Axes>"
      ]
     },
     "metadata": {
      "needs_background": "light"
     },
     "output_type": "display_data"
    }
   ],
   "source": [
    "plot_null_matrix(mvc)"
   ]
  },
  {
   "cell_type": "markdown",
   "metadata": {},
   "source": [
    "We can make some immediate interpretations about our dataframe:\n",
    "\n",
    "- The first three columns have few to no missing values.\n",
    "\n",
    "- The next five columns have missing values scattered throughout, with each column seeming to have its own density of missing values.\n",
    "\n",
    "- The next eight columns are the `injury` and `killed` columns we just cleaned, and only have a few missing values.\n",
    "\n",
    "- The last 10 columns seem to break into two groups of five, with each group of five having similar patterns of null/non-null values.\n",
    "\n",
    "Let's examine the pattern in the last 10 columns a little more closely calculating the **correlation** between two columns. \n",
    "\n",
    "`dataframe.corr()`\n",
    "\n",
    "- I create a Boolean filter.\n",
    "\n",
    "- with the condition that if the sum of null values is greater than 0.\n",
    "\n",
    "- apply that filter to `mvc` and get the correlation between null values."
   ]
  },
  {
   "cell_type": "code",
   "execution_count": 38,
   "metadata": {
    "scrolled": false
   },
   "outputs": [
    {
     "data": {
      "text/html": [
       "<div>\n",
       "<style scoped>\n",
       "    .dataframe tbody tr th:only-of-type {\n",
       "        vertical-align: middle;\n",
       "    }\n",
       "\n",
       "    .dataframe tbody tr th {\n",
       "        vertical-align: top;\n",
       "    }\n",
       "\n",
       "    .dataframe thead th {\n",
       "        text-align: right;\n",
       "    }\n",
       "</style>\n",
       "<table border=\"1\" class=\"dataframe\">\n",
       "  <thead>\n",
       "    <tr style=\"text-align: right;\">\n",
       "      <th></th>\n",
       "      <th>borough</th>\n",
       "      <th>location</th>\n",
       "      <th>on_street</th>\n",
       "      <th>cross_street</th>\n",
       "      <th>off_street</th>\n",
       "      <th>total_injured</th>\n",
       "      <th>total_killed</th>\n",
       "      <th>vehicle_1</th>\n",
       "      <th>vehicle_2</th>\n",
       "      <th>vehicle_3</th>\n",
       "      <th>vehicle_4</th>\n",
       "      <th>vehicle_5</th>\n",
       "      <th>cause_vehicle_1</th>\n",
       "      <th>cause_vehicle_2</th>\n",
       "      <th>cause_vehicle_3</th>\n",
       "      <th>cause_vehicle_4</th>\n",
       "      <th>cause_vehicle_5</th>\n",
       "    </tr>\n",
       "  </thead>\n",
       "  <tbody>\n",
       "    <tr>\n",
       "      <th>borough</th>\n",
       "      <td>1.000000</td>\n",
       "      <td>0.190105</td>\n",
       "      <td>-0.350190</td>\n",
       "      <td>0.409107</td>\n",
       "      <td>0.362189</td>\n",
       "      <td>-0.002827</td>\n",
       "      <td>0.005582</td>\n",
       "      <td>-0.018325</td>\n",
       "      <td>-0.077516</td>\n",
       "      <td>-0.061932</td>\n",
       "      <td>-0.020406</td>\n",
       "      <td>-0.010733</td>\n",
       "      <td>-0.012115</td>\n",
       "      <td>-0.058596</td>\n",
       "      <td>-0.060542</td>\n",
       "      <td>-0.020158</td>\n",
       "      <td>-0.011348</td>\n",
       "    </tr>\n",
       "    <tr>\n",
       "      <th>location</th>\n",
       "      <td>0.190105</td>\n",
       "      <td>1.000000</td>\n",
       "      <td>-0.073975</td>\n",
       "      <td>-0.069719</td>\n",
       "      <td>0.084579</td>\n",
       "      <td>-0.001486</td>\n",
       "      <td>0.015496</td>\n",
       "      <td>-0.010466</td>\n",
       "      <td>-0.033842</td>\n",
       "      <td>-0.000927</td>\n",
       "      <td>0.004655</td>\n",
       "      <td>-0.005797</td>\n",
       "      <td>-0.003458</td>\n",
       "      <td>-0.021373</td>\n",
       "      <td>0.000684</td>\n",
       "      <td>0.004604</td>\n",
       "      <td>-0.004841</td>\n",
       "    </tr>\n",
       "    <tr>\n",
       "      <th>on_street</th>\n",
       "      <td>-0.350190</td>\n",
       "      <td>-0.073975</td>\n",
       "      <td>1.000000</td>\n",
       "      <td>0.557767</td>\n",
       "      <td>-0.991030</td>\n",
       "      <td>0.006220</td>\n",
       "      <td>-0.002344</td>\n",
       "      <td>-0.001889</td>\n",
       "      <td>0.119647</td>\n",
       "      <td>0.020867</td>\n",
       "      <td>0.004172</td>\n",
       "      <td>-0.002768</td>\n",
       "      <td>0.001307</td>\n",
       "      <td>0.087374</td>\n",
       "      <td>0.017426</td>\n",
       "      <td>0.002737</td>\n",
       "      <td>-0.003107</td>\n",
       "    </tr>\n",
       "    <tr>\n",
       "      <th>cross_street</th>\n",
       "      <td>0.409107</td>\n",
       "      <td>-0.069719</td>\n",
       "      <td>0.557767</td>\n",
       "      <td>1.000000</td>\n",
       "      <td>-0.552763</td>\n",
       "      <td>0.002513</td>\n",
       "      <td>0.004112</td>\n",
       "      <td>-0.017018</td>\n",
       "      <td>0.043799</td>\n",
       "      <td>-0.049910</td>\n",
       "      <td>-0.021137</td>\n",
       "      <td>-0.012003</td>\n",
       "      <td>-0.009102</td>\n",
       "      <td>0.031189</td>\n",
       "      <td>-0.052159</td>\n",
       "      <td>-0.022074</td>\n",
       "      <td>-0.013455</td>\n",
       "    </tr>\n",
       "    <tr>\n",
       "      <th>off_street</th>\n",
       "      <td>0.362189</td>\n",
       "      <td>0.084579</td>\n",
       "      <td>-0.991030</td>\n",
       "      <td>-0.552763</td>\n",
       "      <td>1.000000</td>\n",
       "      <td>-0.004266</td>\n",
       "      <td>0.002323</td>\n",
       "      <td>0.001812</td>\n",
       "      <td>-0.121129</td>\n",
       "      <td>-0.022404</td>\n",
       "      <td>-0.004074</td>\n",
       "      <td>0.002492</td>\n",
       "      <td>-0.001738</td>\n",
       "      <td>-0.088187</td>\n",
       "      <td>-0.019120</td>\n",
       "      <td>-0.002580</td>\n",
       "      <td>0.002863</td>\n",
       "    </tr>\n",
       "    <tr>\n",
       "      <th>total_injured</th>\n",
       "      <td>-0.002827</td>\n",
       "      <td>-0.001486</td>\n",
       "      <td>0.006220</td>\n",
       "      <td>0.002513</td>\n",
       "      <td>-0.004266</td>\n",
       "      <td>1.000000</td>\n",
       "      <td>-0.000079</td>\n",
       "      <td>0.079840</td>\n",
       "      <td>0.025644</td>\n",
       "      <td>-0.002757</td>\n",
       "      <td>0.002118</td>\n",
       "      <td>0.001073</td>\n",
       "      <td>0.131140</td>\n",
       "      <td>0.030082</td>\n",
       "      <td>-0.002388</td>\n",
       "      <td>0.002188</td>\n",
       "      <td>0.001102</td>\n",
       "    </tr>\n",
       "    <tr>\n",
       "      <th>total_killed</th>\n",
       "      <td>0.005582</td>\n",
       "      <td>0.015496</td>\n",
       "      <td>-0.002344</td>\n",
       "      <td>0.004112</td>\n",
       "      <td>0.002323</td>\n",
       "      <td>-0.000079</td>\n",
       "      <td>1.000000</td>\n",
       "      <td>-0.000327</td>\n",
       "      <td>0.008017</td>\n",
       "      <td>0.001057</td>\n",
       "      <td>0.000462</td>\n",
       "      <td>0.000234</td>\n",
       "      <td>-0.000229</td>\n",
       "      <td>0.009888</td>\n",
       "      <td>0.001091</td>\n",
       "      <td>0.000477</td>\n",
       "      <td>0.000240</td>\n",
       "    </tr>\n",
       "    <tr>\n",
       "      <th>vehicle_1</th>\n",
       "      <td>-0.018325</td>\n",
       "      <td>-0.010466</td>\n",
       "      <td>-0.001889</td>\n",
       "      <td>-0.017018</td>\n",
       "      <td>0.001812</td>\n",
       "      <td>0.079840</td>\n",
       "      <td>-0.000327</td>\n",
       "      <td>1.000000</td>\n",
       "      <td>0.151516</td>\n",
       "      <td>0.019972</td>\n",
       "      <td>0.008732</td>\n",
       "      <td>0.004425</td>\n",
       "      <td>0.604281</td>\n",
       "      <td>0.180678</td>\n",
       "      <td>0.020624</td>\n",
       "      <td>0.009022</td>\n",
       "      <td>0.004545</td>\n",
       "    </tr>\n",
       "    <tr>\n",
       "      <th>vehicle_2</th>\n",
       "      <td>-0.077516</td>\n",
       "      <td>-0.033842</td>\n",
       "      <td>0.119647</td>\n",
       "      <td>0.043799</td>\n",
       "      <td>-0.121129</td>\n",
       "      <td>0.025644</td>\n",
       "      <td>0.008017</td>\n",
       "      <td>0.151516</td>\n",
       "      <td>1.000000</td>\n",
       "      <td>0.131813</td>\n",
       "      <td>0.057631</td>\n",
       "      <td>0.029208</td>\n",
       "      <td>0.106214</td>\n",
       "      <td>0.784402</td>\n",
       "      <td>0.132499</td>\n",
       "      <td>0.058050</td>\n",
       "      <td>0.029264</td>\n",
       "    </tr>\n",
       "    <tr>\n",
       "      <th>vehicle_3</th>\n",
       "      <td>-0.061932</td>\n",
       "      <td>-0.000927</td>\n",
       "      <td>0.020867</td>\n",
       "      <td>-0.049910</td>\n",
       "      <td>-0.022404</td>\n",
       "      <td>-0.002757</td>\n",
       "      <td>0.001057</td>\n",
       "      <td>0.019972</td>\n",
       "      <td>0.131813</td>\n",
       "      <td>1.000000</td>\n",
       "      <td>0.437214</td>\n",
       "      <td>0.221585</td>\n",
       "      <td>0.014000</td>\n",
       "      <td>0.106874</td>\n",
       "      <td>0.961316</td>\n",
       "      <td>0.448525</td>\n",
       "      <td>0.225067</td>\n",
       "    </tr>\n",
       "    <tr>\n",
       "      <th>vehicle_4</th>\n",
       "      <td>-0.020406</td>\n",
       "      <td>0.004655</td>\n",
       "      <td>0.004172</td>\n",
       "      <td>-0.021137</td>\n",
       "      <td>-0.004074</td>\n",
       "      <td>0.002118</td>\n",
       "      <td>0.000462</td>\n",
       "      <td>0.008732</td>\n",
       "      <td>0.057631</td>\n",
       "      <td>0.437214</td>\n",
       "      <td>1.000000</td>\n",
       "      <td>0.506810</td>\n",
       "      <td>0.006121</td>\n",
       "      <td>0.046727</td>\n",
       "      <td>0.423394</td>\n",
       "      <td>0.963723</td>\n",
       "      <td>0.515058</td>\n",
       "    </tr>\n",
       "    <tr>\n",
       "      <th>vehicle_5</th>\n",
       "      <td>-0.010733</td>\n",
       "      <td>-0.005797</td>\n",
       "      <td>-0.002768</td>\n",
       "      <td>-0.012003</td>\n",
       "      <td>0.002492</td>\n",
       "      <td>0.001073</td>\n",
       "      <td>0.000234</td>\n",
       "      <td>0.004425</td>\n",
       "      <td>0.029208</td>\n",
       "      <td>0.221585</td>\n",
       "      <td>0.506810</td>\n",
       "      <td>1.000000</td>\n",
       "      <td>0.003102</td>\n",
       "      <td>0.023682</td>\n",
       "      <td>0.214580</td>\n",
       "      <td>0.490537</td>\n",
       "      <td>0.973664</td>\n",
       "    </tr>\n",
       "    <tr>\n",
       "      <th>cause_vehicle_1</th>\n",
       "      <td>-0.012115</td>\n",
       "      <td>-0.003458</td>\n",
       "      <td>0.001307</td>\n",
       "      <td>-0.009102</td>\n",
       "      <td>-0.001738</td>\n",
       "      <td>0.131140</td>\n",
       "      <td>-0.000229</td>\n",
       "      <td>0.604281</td>\n",
       "      <td>0.106214</td>\n",
       "      <td>0.014000</td>\n",
       "      <td>0.006121</td>\n",
       "      <td>0.003102</td>\n",
       "      <td>1.000000</td>\n",
       "      <td>0.131000</td>\n",
       "      <td>0.014457</td>\n",
       "      <td>0.006324</td>\n",
       "      <td>0.003186</td>\n",
       "    </tr>\n",
       "    <tr>\n",
       "      <th>cause_vehicle_2</th>\n",
       "      <td>-0.058596</td>\n",
       "      <td>-0.021373</td>\n",
       "      <td>0.087374</td>\n",
       "      <td>0.031189</td>\n",
       "      <td>-0.088187</td>\n",
       "      <td>0.030082</td>\n",
       "      <td>0.009888</td>\n",
       "      <td>0.180678</td>\n",
       "      <td>0.784402</td>\n",
       "      <td>0.106874</td>\n",
       "      <td>0.046727</td>\n",
       "      <td>0.023682</td>\n",
       "      <td>0.131000</td>\n",
       "      <td>1.000000</td>\n",
       "      <td>0.110362</td>\n",
       "      <td>0.048277</td>\n",
       "      <td>0.024322</td>\n",
       "    </tr>\n",
       "    <tr>\n",
       "      <th>cause_vehicle_3</th>\n",
       "      <td>-0.060542</td>\n",
       "      <td>0.000684</td>\n",
       "      <td>0.017426</td>\n",
       "      <td>-0.052159</td>\n",
       "      <td>-0.019120</td>\n",
       "      <td>-0.002388</td>\n",
       "      <td>0.001091</td>\n",
       "      <td>0.020624</td>\n",
       "      <td>0.132499</td>\n",
       "      <td>0.961316</td>\n",
       "      <td>0.423394</td>\n",
       "      <td>0.214580</td>\n",
       "      <td>0.014457</td>\n",
       "      <td>0.110362</td>\n",
       "      <td>1.000000</td>\n",
       "      <td>0.437440</td>\n",
       "      <td>0.220384</td>\n",
       "    </tr>\n",
       "    <tr>\n",
       "      <th>cause_vehicle_4</th>\n",
       "      <td>-0.020158</td>\n",
       "      <td>0.004604</td>\n",
       "      <td>0.002737</td>\n",
       "      <td>-0.022074</td>\n",
       "      <td>-0.002580</td>\n",
       "      <td>0.002188</td>\n",
       "      <td>0.000477</td>\n",
       "      <td>0.009022</td>\n",
       "      <td>0.058050</td>\n",
       "      <td>0.448525</td>\n",
       "      <td>0.963723</td>\n",
       "      <td>0.490537</td>\n",
       "      <td>0.006324</td>\n",
       "      <td>0.048277</td>\n",
       "      <td>0.437440</td>\n",
       "      <td>1.000000</td>\n",
       "      <td>0.503805</td>\n",
       "    </tr>\n",
       "    <tr>\n",
       "      <th>cause_vehicle_5</th>\n",
       "      <td>-0.011348</td>\n",
       "      <td>-0.004841</td>\n",
       "      <td>-0.003107</td>\n",
       "      <td>-0.013455</td>\n",
       "      <td>0.002863</td>\n",
       "      <td>0.001102</td>\n",
       "      <td>0.000240</td>\n",
       "      <td>0.004545</td>\n",
       "      <td>0.029264</td>\n",
       "      <td>0.225067</td>\n",
       "      <td>0.515058</td>\n",
       "      <td>0.973664</td>\n",
       "      <td>0.003186</td>\n",
       "      <td>0.024322</td>\n",
       "      <td>0.220384</td>\n",
       "      <td>0.503805</td>\n",
       "      <td>1.000000</td>\n",
       "    </tr>\n",
       "  </tbody>\n",
       "</table>\n",
       "</div>"
      ],
      "text/plain": [
       "                  borough  location  on_street  cross_street  off_street  \\\n",
       "borough          1.000000  0.190105  -0.350190      0.409107    0.362189   \n",
       "location         0.190105  1.000000  -0.073975     -0.069719    0.084579   \n",
       "on_street       -0.350190 -0.073975   1.000000      0.557767   -0.991030   \n",
       "cross_street     0.409107 -0.069719   0.557767      1.000000   -0.552763   \n",
       "off_street       0.362189  0.084579  -0.991030     -0.552763    1.000000   \n",
       "total_injured   -0.002827 -0.001486   0.006220      0.002513   -0.004266   \n",
       "total_killed     0.005582  0.015496  -0.002344      0.004112    0.002323   \n",
       "vehicle_1       -0.018325 -0.010466  -0.001889     -0.017018    0.001812   \n",
       "vehicle_2       -0.077516 -0.033842   0.119647      0.043799   -0.121129   \n",
       "vehicle_3       -0.061932 -0.000927   0.020867     -0.049910   -0.022404   \n",
       "vehicle_4       -0.020406  0.004655   0.004172     -0.021137   -0.004074   \n",
       "vehicle_5       -0.010733 -0.005797  -0.002768     -0.012003    0.002492   \n",
       "cause_vehicle_1 -0.012115 -0.003458   0.001307     -0.009102   -0.001738   \n",
       "cause_vehicle_2 -0.058596 -0.021373   0.087374      0.031189   -0.088187   \n",
       "cause_vehicle_3 -0.060542  0.000684   0.017426     -0.052159   -0.019120   \n",
       "cause_vehicle_4 -0.020158  0.004604   0.002737     -0.022074   -0.002580   \n",
       "cause_vehicle_5 -0.011348 -0.004841  -0.003107     -0.013455    0.002863   \n",
       "\n",
       "                 total_injured  total_killed  vehicle_1  vehicle_2  vehicle_3  \\\n",
       "borough              -0.002827      0.005582  -0.018325  -0.077516  -0.061932   \n",
       "location             -0.001486      0.015496  -0.010466  -0.033842  -0.000927   \n",
       "on_street             0.006220     -0.002344  -0.001889   0.119647   0.020867   \n",
       "cross_street          0.002513      0.004112  -0.017018   0.043799  -0.049910   \n",
       "off_street           -0.004266      0.002323   0.001812  -0.121129  -0.022404   \n",
       "total_injured         1.000000     -0.000079   0.079840   0.025644  -0.002757   \n",
       "total_killed         -0.000079      1.000000  -0.000327   0.008017   0.001057   \n",
       "vehicle_1             0.079840     -0.000327   1.000000   0.151516   0.019972   \n",
       "vehicle_2             0.025644      0.008017   0.151516   1.000000   0.131813   \n",
       "vehicle_3            -0.002757      0.001057   0.019972   0.131813   1.000000   \n",
       "vehicle_4             0.002118      0.000462   0.008732   0.057631   0.437214   \n",
       "vehicle_5             0.001073      0.000234   0.004425   0.029208   0.221585   \n",
       "cause_vehicle_1       0.131140     -0.000229   0.604281   0.106214   0.014000   \n",
       "cause_vehicle_2       0.030082      0.009888   0.180678   0.784402   0.106874   \n",
       "cause_vehicle_3      -0.002388      0.001091   0.020624   0.132499   0.961316   \n",
       "cause_vehicle_4       0.002188      0.000477   0.009022   0.058050   0.448525   \n",
       "cause_vehicle_5       0.001102      0.000240   0.004545   0.029264   0.225067   \n",
       "\n",
       "                 vehicle_4  vehicle_5  cause_vehicle_1  cause_vehicle_2  \\\n",
       "borough          -0.020406  -0.010733        -0.012115        -0.058596   \n",
       "location          0.004655  -0.005797        -0.003458        -0.021373   \n",
       "on_street         0.004172  -0.002768         0.001307         0.087374   \n",
       "cross_street     -0.021137  -0.012003        -0.009102         0.031189   \n",
       "off_street       -0.004074   0.002492        -0.001738        -0.088187   \n",
       "total_injured     0.002118   0.001073         0.131140         0.030082   \n",
       "total_killed      0.000462   0.000234        -0.000229         0.009888   \n",
       "vehicle_1         0.008732   0.004425         0.604281         0.180678   \n",
       "vehicle_2         0.057631   0.029208         0.106214         0.784402   \n",
       "vehicle_3         0.437214   0.221585         0.014000         0.106874   \n",
       "vehicle_4         1.000000   0.506810         0.006121         0.046727   \n",
       "vehicle_5         0.506810   1.000000         0.003102         0.023682   \n",
       "cause_vehicle_1   0.006121   0.003102         1.000000         0.131000   \n",
       "cause_vehicle_2   0.046727   0.023682         0.131000         1.000000   \n",
       "cause_vehicle_3   0.423394   0.214580         0.014457         0.110362   \n",
       "cause_vehicle_4   0.963723   0.490537         0.006324         0.048277   \n",
       "cause_vehicle_5   0.515058   0.973664         0.003186         0.024322   \n",
       "\n",
       "                 cause_vehicle_3  cause_vehicle_4  cause_vehicle_5  \n",
       "borough                -0.060542        -0.020158        -0.011348  \n",
       "location                0.000684         0.004604        -0.004841  \n",
       "on_street               0.017426         0.002737        -0.003107  \n",
       "cross_street           -0.052159        -0.022074        -0.013455  \n",
       "off_street             -0.019120        -0.002580         0.002863  \n",
       "total_injured          -0.002388         0.002188         0.001102  \n",
       "total_killed            0.001091         0.000477         0.000240  \n",
       "vehicle_1               0.020624         0.009022         0.004545  \n",
       "vehicle_2               0.132499         0.058050         0.029264  \n",
       "vehicle_3               0.961316         0.448525         0.225067  \n",
       "vehicle_4               0.423394         0.963723         0.515058  \n",
       "vehicle_5               0.214580         0.490537         0.973664  \n",
       "cause_vehicle_1         0.014457         0.006324         0.003186  \n",
       "cause_vehicle_2         0.110362         0.048277         0.024322  \n",
       "cause_vehicle_3         1.000000         0.437440         0.220384  \n",
       "cause_vehicle_4         0.437440         1.000000         0.503805  \n",
       "cause_vehicle_5         0.220384         0.503805         1.000000  "
      ]
     },
     "execution_count": 38,
     "metadata": {},
     "output_type": "execute_result"
    }
   ],
   "source": [
    "cols_with_missing_vals = mvc.columns[mvc.isnull().sum() > 0] # boolean filter; columns with number>0 of NaN`s\n",
    "missing_corr = mvc[cols_with_missing_vals].isnull().corr() # relation between columns bolean filtered\n",
    "missing_corr"
   ]
  },
  {
   "cell_type": "markdown",
   "metadata": {},
   "source": [
    "Each value is between  −1 and  1 , and represents the relationship between two columns. \n",
    "\n",
    "A number close to −1 or 1 represents a strong relationship, where a number in the middle (close to 0 ) represents a weak relationship.\n",
    "\n",
    "### Our correlation plot:\n",
    "\n",
    "- The \"line of 1s\" and the repeated values are removed so that it's not visually overwhelming.\n",
    "\n",
    "- Values very close to 0, where there is little to no relationship, aren't labeled.\n",
    "\n",
    "- Values close to 1 are dark blue and values close to −1  are dark red — the depth of color represents the strength of the relationship.\n",
    "\n",
    "Let's create a correlation plot of just those last 10 columns to see if we can more closely identify the pattern we saw earlier in the matrix plot."
   ]
  },
  {
   "cell_type": "code",
   "execution_count": 39,
   "metadata": {},
   "outputs": [
    {
     "data": {
      "image/png": "[encoded data removed]",
      "text/plain": [
       "<Figure size 1440x1008 with 1 Axes>"
      ]
     },
     "metadata": {
      "needs_background": "light"
     },
     "output_type": "display_data"
    }
   ],
   "source": [
    "import matplotlib.pyplot as plt\n",
    "import seaborn as sns\n",
    "\n",
    "def plot_null_correlations(df):\n",
    "    # create a correlation matrix only for columns with at least\n",
    "    # one missing value\n",
    "    cols_with_missing_vals = df.columns[df.isnull().sum() > 0]\n",
    "    missing_corr = df[cols_with_missing_vals].isnull().corr()\n",
    "    \n",
    "    # create a mask to avoid repeated values and make\n",
    "    # the plot easier to read\n",
    "    missing_corr = missing_corr.iloc[1:, :-1]\n",
    "    mask = np.triu(np.ones_like(missing_corr), k=1) # np.triu: Upper triangle of an array.\n",
    "    \n",
    "    # plot a heatmap of the values\n",
    "    plt.figure(figsize=(20,14))\n",
    "    ax = sns.heatmap(missing_corr, vmin=-1, vmax=1, cbar=False,\n",
    "                     cmap='RdBu', mask=mask, annot=True)\n",
    "    \n",
    "    # format the text in the plot to make it easier to read\n",
    "    for text in ax.texts:\n",
    "        t = float(text.get_text())\n",
    "        if -0.05 < t < 0.01:\n",
    "            text.set_text('')\n",
    "        else:\n",
    "            text.set_text(round(t, 2))\n",
    "        text.set_fontsize('x-large')\n",
    "    plt.xticks(rotation=90, size='x-large')\n",
    "    plt.yticks(rotation=0, size='x-large')\n",
    "\n",
    "    plt.show()\n",
    "\n",
    "vehicles_cols = [col for col in mvc.columns if 'vehicle' in col]\n",
    "\n",
    "vehicles = mvc[vehicles_cols]\n",
    "\n",
    "plot_null_correlations(vehicles)"
   ]
  },
  {
   "cell_type": "markdown",
   "metadata": {},
   "source": [
    "### Analyzing Correlations in Missing Data.\n",
    "\n",
    "Let's explore the variations in missing values from these five pairs of columns. We'll create a dataframe that counts, for each pair:\n",
    "\n",
    "- The number of values where the vehicle is missing when the cause is not missing.\n",
    "\n",
    "\n",
    "- The number of values where the cause is missing when the vehicle is not missing.\n"
   ]
  },
  {
   "cell_type": "code",
   "execution_count": 40,
   "metadata": {},
   "outputs": [
    {
     "data": {
      "text/html": [
       "<div>\n",
       "<style scoped>\n",
       "    .dataframe tbody tr th:only-of-type {\n",
       "        vertical-align: middle;\n",
       "    }\n",
       "\n",
       "    .dataframe tbody tr th {\n",
       "        vertical-align: top;\n",
       "    }\n",
       "\n",
       "    .dataframe thead th {\n",
       "        text-align: right;\n",
       "    }\n",
       "</style>\n",
       "<table border=\"1\" class=\"dataframe\">\n",
       "  <thead>\n",
       "    <tr style=\"text-align: right;\">\n",
       "      <th></th>\n",
       "      <th>v_number</th>\n",
       "      <th>vehicle_missing</th>\n",
       "      <th>cause_missing</th>\n",
       "    </tr>\n",
       "  </thead>\n",
       "  <tbody>\n",
       "    <tr>\n",
       "      <th>0</th>\n",
       "      <td>1</td>\n",
       "      <td>204</td>\n",
       "      <td>24</td>\n",
       "    </tr>\n",
       "    <tr>\n",
       "      <th>1</th>\n",
       "      <td>2</td>\n",
       "      <td>3793</td>\n",
       "      <td>223</td>\n",
       "    </tr>\n",
       "    <tr>\n",
       "      <th>2</th>\n",
       "      <td>3</td>\n",
       "      <td>242</td>\n",
       "      <td>24</td>\n",
       "    </tr>\n",
       "    <tr>\n",
       "      <th>3</th>\n",
       "      <td>4</td>\n",
       "      <td>50</td>\n",
       "      <td>3</td>\n",
       "    </tr>\n",
       "    <tr>\n",
       "      <th>4</th>\n",
       "      <td>5</td>\n",
       "      <td>10</td>\n",
       "      <td>0</td>\n",
       "    </tr>\n",
       "  </tbody>\n",
       "</table>\n",
       "</div>"
      ],
      "text/plain": [
       "   v_number  vehicle_missing  cause_missing\n",
       "0         1              204             24\n",
       "1         2             3793            223\n",
       "2         3              242             24\n",
       "3         4               50              3\n",
       "4         5               10              0"
      ]
     },
     "execution_count": 40,
     "metadata": {},
     "output_type": "execute_result"
    }
   ],
   "source": [
    "col_labels = ['v_number', 'vehicle_missing', 'cause_missing']\n",
    "\n",
    "vc_null_data = []\n",
    "\n",
    "for v in range(1,6):\n",
    "    v_col = 'vehicle_{}'.format(v)\n",
    "    c_col = 'cause_vehicle_{}'.format(v)\n",
    "    \n",
    "    v_null = (mvc[v_col].isnull() & mvc[c_col].notnull()).sum()\n",
    "    c_null = (mvc[c_col].isnull() & mvc[v_col].notnull()).sum()\n",
    "    \n",
    "    vc_null_data.append([v, v_null, c_null])\n",
    "\n",
    "    \n",
    "# vc_null_data\n",
    "# [[1, 204, 24], [2, 3793, 223], [3, 242, 24], [4, 50, 3], [5, 10, 0]]\n",
    "\n",
    "vc_null_df = pd.DataFrame(vc_null_data, columns=col_labels)\n",
    "vc_null_df"
   ]
  },
  {
   "cell_type": "markdown",
   "metadata": {},
   "source": [
    "### Finding the Most Common Values Across Multiple Columns (columns `category or str`)\n",
    "\n",
    "The analysis we did on the previous screen indicates that there are roughly 4,500 missing values across the 10 columns. The easiest option for handling these would be to drop the rows with missing values. This would mean losing almost 10% of the total data, which is something we ideally want to avoid.\n",
    "\n",
    "**A better option is to impute the data, like we did earlier. Because the data in these columns is text data, we can't perform a numeric calculation to impute missing data like we did with the injuries and killed columns.**\n",
    "\n",
    "**One common option when imputing is to use the most common value to fill in data**. Let's look at the common values across these columns and see if we can use that to make a decision.\n",
    "\n",
    "We've previously used the `Series.value_counts()` method to find the most common values in a single column. In this case, we want to find the most common values across multiple columns. In order to do this, we first need to convert our dataframe of multiple columns into one single column, and then we can use Series.value_counts() to count the items.\n",
    "\n",
    "### To convert a dataframe to a single column of values, we use the `DataFrame.stack()` method\n",
    "\n",
    "Which stacks a dataframe object into a Series object. \n",
    "\n",
    "We'll start with a simple dataframe with three columns containing words:"
   ]
  },
  {
   "cell_type": "code",
   "execution_count": 41,
   "metadata": {},
   "outputs": [
    {
     "data": {
      "text/html": [
       "<div>\n",
       "<style scoped>\n",
       "    .dataframe tbody tr th:only-of-type {\n",
       "        vertical-align: middle;\n",
       "    }\n",
       "\n",
       "    .dataframe tbody tr th {\n",
       "        vertical-align: top;\n",
       "    }\n",
       "\n",
       "    .dataframe thead th {\n",
       "        text-align: right;\n",
       "    }\n",
       "</style>\n",
       "<table border=\"1\" class=\"dataframe\">\n",
       "  <thead>\n",
       "    <tr style=\"text-align: right;\">\n",
       "      <th></th>\n",
       "      <th>cause_vehicle_1</th>\n",
       "      <th>cause_vehicle_2</th>\n",
       "      <th>cause_vehicle_3</th>\n",
       "      <th>cause_vehicle_4</th>\n",
       "      <th>cause_vehicle_5</th>\n",
       "    </tr>\n",
       "  </thead>\n",
       "  <tbody>\n",
       "    <tr>\n",
       "      <th>0</th>\n",
       "      <td>Following Too Closely</td>\n",
       "      <td>Unspecified</td>\n",
       "      <td>NaN</td>\n",
       "      <td>NaN</td>\n",
       "      <td>NaN</td>\n",
       "    </tr>\n",
       "    <tr>\n",
       "      <th>1</th>\n",
       "      <td>Backing Unsafely</td>\n",
       "      <td>Unspecified</td>\n",
       "      <td>NaN</td>\n",
       "      <td>NaN</td>\n",
       "      <td>NaN</td>\n",
       "    </tr>\n",
       "    <tr>\n",
       "      <th>2</th>\n",
       "      <td>Following Too Closely</td>\n",
       "      <td>Unspecified</td>\n",
       "      <td>NaN</td>\n",
       "      <td>NaN</td>\n",
       "      <td>NaN</td>\n",
       "    </tr>\n",
       "    <tr>\n",
       "      <th>3</th>\n",
       "      <td>Glare</td>\n",
       "      <td>Passing Too Closely</td>\n",
       "      <td>NaN</td>\n",
       "      <td>NaN</td>\n",
       "      <td>NaN</td>\n",
       "    </tr>\n",
       "    <tr>\n",
       "      <th>4</th>\n",
       "      <td>Turning Improperly</td>\n",
       "      <td>Unspecified</td>\n",
       "      <td>NaN</td>\n",
       "      <td>NaN</td>\n",
       "      <td>NaN</td>\n",
       "    </tr>\n",
       "  </tbody>\n",
       "</table>\n",
       "</div>"
      ],
      "text/plain": [
       "         cause_vehicle_1      cause_vehicle_2 cause_vehicle_3 cause_vehicle_4  \\\n",
       "0  Following Too Closely          Unspecified             NaN             NaN   \n",
       "1       Backing Unsafely          Unspecified             NaN             NaN   \n",
       "2  Following Too Closely          Unspecified             NaN             NaN   \n",
       "3                  Glare  Passing Too Closely             NaN             NaN   \n",
       "4     Turning Improperly          Unspecified             NaN             NaN   \n",
       "\n",
       "  cause_vehicle_5  \n",
       "0             NaN  \n",
       "1             NaN  \n",
       "2             NaN  \n",
       "3             NaN  \n",
       "4             NaN  "
      ]
     },
     "execution_count": 41,
     "metadata": {},
     "output_type": "execute_result"
    }
   ],
   "source": [
    "cause_cols = [c for c in mvc.columns if \"cause_\" in c]\n",
    "cause = mvc[cause_cols]\n",
    "cause.head()"
   ]
  },
  {
   "cell_type": "markdown",
   "metadata": {},
   "source": [
    "Next, we'll stack the values into a single series object:"
   ]
  },
  {
   "cell_type": "code",
   "execution_count": 42,
   "metadata": {},
   "outputs": [
    {
     "data": {
      "text/plain": [
       "0  cause_vehicle_1    Following Too Closely\n",
       "   cause_vehicle_2              Unspecified\n",
       "1  cause_vehicle_1         Backing Unsafely\n",
       "   cause_vehicle_2              Unspecified\n",
       "2  cause_vehicle_1    Following Too Closely\n",
       "dtype: object"
      ]
     },
     "execution_count": 42,
     "metadata": {},
     "output_type": "execute_result"
    }
   ],
   "source": [
    "cause_1d = cause.stack()\n",
    "cause_1d.head()"
   ]
  },
  {
   "cell_type": "markdown",
   "metadata": {},
   "source": [
    "You may notice that **the stacked version omits null values** - this is fine, as we're just interested in the most common non-null values.\n",
    "\n",
    "Finally, we count the values in the series:"
   ]
  },
  {
   "cell_type": "code",
   "execution_count": 43,
   "metadata": {},
   "outputs": [
    {
     "data": {
      "text/plain": [
       "Unspecified                       57481\n",
       "Driver Inattention/Distraction    17650\n",
       "Following Too Closely              6567\n",
       "Failure to Yield Right-of-Way      4566\n",
       "Passing or Lane Usage Improper     3260\n",
       "Passing Too Closely                3045\n",
       "Backing Unsafely                   3001\n",
       "Other Vehicular                    2523\n",
       "Unsafe Lane Changing               2372\n",
       "Turning Improperly                 1590\n",
       "dtype: int64"
      ]
     },
     "execution_count": 43,
     "metadata": {},
     "output_type": "execute_result"
    }
   ],
   "source": [
    "cause_counts = cause_1d.value_counts()\n",
    "top10_causes = cause_counts.head(10)\n",
    "top10_causes"
   ]
  },
  {
   "cell_type": "markdown",
   "metadata": {},
   "source": [
    "**The most common non-null value** for the cause columns is Unspecified, which presumably indicates that the officer reporting the collision was unable to determine the cause for that vehicle.\n",
    "\n",
    "### Same technique to **identify the most common non-null value for the `vehicle` columns**."
   ]
  },
  {
   "cell_type": "code",
   "execution_count": 44,
   "metadata": {},
   "outputs": [
    {
     "data": {
      "text/plain": [
       "Sedan                                  33133\n",
       "Station Wagon/Sport Utility Vehicle    26124\n",
       "PASSENGER VEHICLE                      16026\n",
       "SPORT UTILITY / STATION WAGON          12356\n",
       "Taxi                                    3482\n",
       "Pick-up Truck                           2373\n",
       "TAXI                                    1892\n",
       "Box Truck                               1659\n",
       "Bike                                    1190\n",
       "Bus                                     1162\n",
       "dtype: int64"
      ]
     },
     "execution_count": 44,
     "metadata": {},
     "output_type": "execute_result"
    }
   ],
   "source": [
    "v_cols = [c for c in mvc.columns if c.startswith(\"vehicle\")]\n",
    "\n",
    "vehicles = mvc[v_cols]\n",
    "vehicles_1d = vehicles.stack()\n",
    "vehicles_counts = vehicles_1d.value_counts()\n",
    "top10_vehicles = vehicles_counts.head(10)\n",
    "top10_vehicles"
   ]
  },
  {
   "cell_type": "markdown",
   "metadata": {},
   "source": [
    "### Filling Unknown Values with a Placeholder\n",
    "\n",
    "<!-- Let's look at the values analysis we completed on the previous screen: -->"
   ]
  },
  {
   "cell_type": "code",
   "execution_count": 45,
   "metadata": {},
   "outputs": [
    {
     "name": "stdout",
     "output_type": "stream",
     "text": [
      "Sedan                                  33133\n",
      "Station Wagon/Sport Utility Vehicle    26124\n",
      "PASSENGER VEHICLE                      16026\n",
      "SPORT UTILITY / STATION WAGON          12356\n",
      "Taxi                                    3482\n",
      "Pick-up Truck                           2373\n",
      "TAXI                                    1892\n",
      "Box Truck                               1659\n",
      "Bike                                    1190\n",
      "Bus                                     1162\n",
      "dtype: int64\n"
     ]
    }
   ],
   "source": [
    "print(top10_vehicles)"
   ]
  },
  {
   "cell_type": "code",
   "execution_count": 46,
   "metadata": {},
   "outputs": [
    {
     "name": "stdout",
     "output_type": "stream",
     "text": [
      "Unspecified                       57481\n",
      "Driver Inattention/Distraction    17650\n",
      "Following Too Closely              6567\n",
      "Failure to Yield Right-of-Way      4566\n",
      "Passing or Lane Usage Improper     3260\n",
      "Passing Too Closely                3045\n",
      "Backing Unsafely                   3001\n",
      "Other Vehicular                    2523\n",
      "Unsafe Lane Changing               2372\n",
      "Turning Improperly                 1590\n",
      "dtype: int64\n"
     ]
    }
   ],
   "source": [
    "print(top10_causes)"
   ]
  },
  {
   "cell_type": "markdown",
   "metadata": {},
   "source": [
    "The top \"cause\" is an \"Unspecified\" marker. \n",
    "\n",
    "- This is useful instead of a null value as it makes the distinction between a value that is missing because there were only a certain number of vehicles in the collision versus one that the contributing cause for a particular vehicle is unknown.\n",
    "\n",
    "The vehicles columns don't have an equivalent, but we can still use the same technique. Here's the logic we'll need to do for each pair of vehicle/cause columns:\n",
    "\n",
    "1. For values where the vehicle is null and the cause is non-null, set the vehicle to Unspecified.\n",
    "\n",
    "2. For values where the cause is null and the vehicle is not-null, set the cause to Unspecified.\n",
    "\n",
    "We can use `Series.mask()` to replace the values, just like we did earlier in the lesson. Let's look at code to perform this for the vehicle_1 and vehicle_cause_1 columns:"
   ]
  },
  {
   "cell_type": "markdown",
   "metadata": {},
   "source": [
    "    # create a mask for each column\n",
    "    v_missing_mask = mvc['vehicle_1'].isnull() & mvc['cause_vehicle_1'].notnull()\n",
    "    c_missing_mask = mvc['cause_vehicle_1'].isnull() & mvc['vehicle_1'].notnull()\n",
    "\n",
    "    # replace the values matching the mask for each column\n",
    "    mvc['vehicle_1'] =  mvc['vehicle_1'].mask(v_missing_mask, \"Unspecified\")\n",
    "    mvc['cause_vehicle_1'] =  mvc['cause_vehicle_1'].mask(c_missing_mask, \"Unspecified\")"
   ]
  },
  {
   "cell_type": "markdown",
   "metadata": {},
   "source": [
    "Now let's use a loop to fill in these values across all columns. We've created a helper function summarize_missing() which contains the logic we used earlier to count missing values across the pairs of columns. Below is a quick demonstration on how it works:"
   ]
  },
  {
   "cell_type": "code",
   "execution_count": 47,
   "metadata": {},
   "outputs": [],
   "source": [
    "def summarize_missing():\n",
    "    v_missing_data = []\n",
    "\n",
    "    for v in range(1,6):\n",
    "        v_col = 'vehicle_{}'.format(v)\n",
    "        c_col = 'cause_vehicle_{}'.format(v)\n",
    "\n",
    "        v_missing = (mvc[v_col].isnull() & mvc[c_col].notnull()).sum()\n",
    "        c_missing = (mvc[c_col].isnull() & mvc[v_col].notnull()).sum()\n",
    "\n",
    "        v_missing_data.append([v, v_missing, c_missing])\n",
    "\n",
    "    col_labels = columns=[\"vehicle_number\", \"vehicle_missing\", \"cause_missing\"]\n",
    "    return pd.DataFrame(v_missing_data, columns=col_labels)"
   ]
  },
  {
   "cell_type": "code",
   "execution_count": 48,
   "metadata": {},
   "outputs": [
    {
     "data": {
      "text/html": [
       "<div>\n",
       "<style scoped>\n",
       "    .dataframe tbody tr th:only-of-type {\n",
       "        vertical-align: middle;\n",
       "    }\n",
       "\n",
       "    .dataframe tbody tr th {\n",
       "        vertical-align: top;\n",
       "    }\n",
       "\n",
       "    .dataframe thead th {\n",
       "        text-align: right;\n",
       "    }\n",
       "</style>\n",
       "<table border=\"1\" class=\"dataframe\">\n",
       "  <thead>\n",
       "    <tr style=\"text-align: right;\">\n",
       "      <th></th>\n",
       "      <th>vehicle_number</th>\n",
       "      <th>vehicle_missing</th>\n",
       "      <th>cause_missing</th>\n",
       "    </tr>\n",
       "  </thead>\n",
       "  <tbody>\n",
       "    <tr>\n",
       "      <th>0</th>\n",
       "      <td>1</td>\n",
       "      <td>204</td>\n",
       "      <td>24</td>\n",
       "    </tr>\n",
       "    <tr>\n",
       "      <th>1</th>\n",
       "      <td>2</td>\n",
       "      <td>3793</td>\n",
       "      <td>223</td>\n",
       "    </tr>\n",
       "    <tr>\n",
       "      <th>2</th>\n",
       "      <td>3</td>\n",
       "      <td>242</td>\n",
       "      <td>24</td>\n",
       "    </tr>\n",
       "    <tr>\n",
       "      <th>3</th>\n",
       "      <td>4</td>\n",
       "      <td>50</td>\n",
       "      <td>3</td>\n",
       "    </tr>\n",
       "    <tr>\n",
       "      <th>4</th>\n",
       "      <td>5</td>\n",
       "      <td>10</td>\n",
       "      <td>0</td>\n",
       "    </tr>\n",
       "  </tbody>\n",
       "</table>\n",
       "</div>"
      ],
      "text/plain": [
       "   vehicle_number  vehicle_missing  cause_missing\n",
       "0               1              204             24\n",
       "1               2             3793            223\n",
       "2               3              242             24\n",
       "3               4               50              3\n",
       "4               5               10              0"
      ]
     },
     "execution_count": 48,
     "metadata": {},
     "output_type": "execute_result"
    }
   ],
   "source": [
    "summarize_missing()"
   ]
  },
  {
   "cell_type": "code",
   "execution_count": 49,
   "metadata": {},
   "outputs": [
    {
     "data": {
      "text/html": [
       "<div>\n",
       "<style scoped>\n",
       "    .dataframe tbody tr th:only-of-type {\n",
       "        vertical-align: middle;\n",
       "    }\n",
       "\n",
       "    .dataframe tbody tr th {\n",
       "        vertical-align: top;\n",
       "    }\n",
       "\n",
       "    .dataframe thead th {\n",
       "        text-align: right;\n",
       "    }\n",
       "</style>\n",
       "<table border=\"1\" class=\"dataframe\">\n",
       "  <thead>\n",
       "    <tr style=\"text-align: right;\">\n",
       "      <th></th>\n",
       "      <th>vehicle_number</th>\n",
       "      <th>vehicle_missing</th>\n",
       "      <th>cause_missing</th>\n",
       "    </tr>\n",
       "  </thead>\n",
       "  <tbody>\n",
       "    <tr>\n",
       "      <th>0</th>\n",
       "      <td>1</td>\n",
       "      <td>0</td>\n",
       "      <td>0</td>\n",
       "    </tr>\n",
       "    <tr>\n",
       "      <th>1</th>\n",
       "      <td>2</td>\n",
       "      <td>0</td>\n",
       "      <td>0</td>\n",
       "    </tr>\n",
       "    <tr>\n",
       "      <th>2</th>\n",
       "      <td>3</td>\n",
       "      <td>0</td>\n",
       "      <td>0</td>\n",
       "    </tr>\n",
       "    <tr>\n",
       "      <th>3</th>\n",
       "      <td>4</td>\n",
       "      <td>0</td>\n",
       "      <td>0</td>\n",
       "    </tr>\n",
       "    <tr>\n",
       "      <th>4</th>\n",
       "      <td>5</td>\n",
       "      <td>0</td>\n",
       "      <td>0</td>\n",
       "    </tr>\n",
       "  </tbody>\n",
       "</table>\n",
       "</div>"
      ],
      "text/plain": [
       "   vehicle_number  vehicle_missing  cause_missing\n",
       "0               1                0              0\n",
       "1               2                0              0\n",
       "2               3                0              0\n",
       "3               4                0              0\n",
       "4               5                0              0"
      ]
     },
     "execution_count": 49,
     "metadata": {},
     "output_type": "execute_result"
    }
   ],
   "source": [
    "def summarize_missing():\n",
    "    v_missing_data = []\n",
    "\n",
    "    for v in range(1,6):\n",
    "        v_col = 'vehicle_{}'.format(v)\n",
    "        c_col = 'cause_vehicle_{}'.format(v)\n",
    "        \n",
    "        # boolean mask for values where the vehicle column is null and the cause column is non-null.\n",
    "        v_missing = (mvc[v_col].isnull() & mvc[c_col].notnull()).sum()\n",
    "        \n",
    "        # boolean mask for values where the cause column is null and the vehicle column is non-null.\n",
    "        c_missing = (mvc[c_col].isnull() & mvc[v_col].notnull()).sum()\n",
    "\n",
    "        v_missing_data.append([v, v_missing, c_missing])\n",
    "\n",
    "    col_labels = columns=[\"vehicle_number\", \"vehicle_missing\", \"cause_missing\"]\n",
    "    return pd.DataFrame(v_missing_data, columns=col_labels)\n",
    "\n",
    "summary_before = summarize_missing()\n",
    "\n",
    "for v in range(1,6):\n",
    "    v_col = 'vehicle_{}'.format(v)\n",
    "    c_col = 'cause_vehicle_{}'.format(v)\n",
    "    \n",
    "    v_missing_mask = mvc[v_col].isnull() & mvc[c_col].notnull()\n",
    "    c_missing_mask = mvc[c_col].isnull() & mvc[v_col].notnull()\n",
    "    \n",
    "    # first boolean mask to fill matching values from the vehicle column with the string `Unspecified`.\n",
    "    mvc[v_col] = mvc[v_col].mask(v_missing_mask, \"Unspecified\")\n",
    "    \n",
    "    # second boolean mask to fill matching values from the cause column with the string `Unspecified`.\n",
    "    mvc[c_col] = mvc[c_col].mask(c_missing_mask, \"Unspecified\")\n",
    "\n",
    "#`summarize_missing()` for check if removed all matching values.\n",
    "summary_after = summarize_missing()\n",
    "summary_after"
   ]
  },
  {
   "cell_type": "markdown",
   "metadata": {},
   "source": [
    "### Missing Data in the `location` columns.\n",
    "\n",
    "- Null correlation plot for the last 10 columns."
   ]
  },
  {
   "cell_type": "code",
   "execution_count": 50,
   "metadata": {},
   "outputs": [
    {
     "data": {
      "image/png": "[encoded data removed]",
      "text/plain": [
       "<Figure size 1440x1008 with 1 Axes>"
      ]
     },
     "metadata": {
      "needs_background": "light"
     },
     "output_type": "display_data"
    }
   ],
   "source": [
    "veh_cols = [c for c in mvc.columns if 'vehicle' in c]\n",
    "plot_null_correlations(mvc[veh_cols])"
   ]
  },
  {
   "cell_type": "markdown",
   "metadata": {},
   "source": [
    "The perfect correlation between each pair of vehicle/cause columns represented by \n",
    "1.0 in each square means that there is a perfect relationship between the five pairs of vehicle/cause columns.\n",
    "\n",
    "Let's now turn our focus to the final set of columns that contain missing values — the columns that relate to the location of the accident. \n",
    "\n",
    "We'll start by looking at the first few rows to refamiliarize ourselves with the data:"
   ]
  },
  {
   "cell_type": "code",
   "execution_count": 51,
   "metadata": {},
   "outputs": [
    {
     "data": {
      "text/html": [
       "<div>\n",
       "<style scoped>\n",
       "    .dataframe tbody tr th:only-of-type {\n",
       "        vertical-align: middle;\n",
       "    }\n",
       "\n",
       "    .dataframe tbody tr th {\n",
       "        vertical-align: top;\n",
       "    }\n",
       "\n",
       "    .dataframe thead th {\n",
       "        text-align: right;\n",
       "    }\n",
       "</style>\n",
       "<table border=\"1\" class=\"dataframe\">\n",
       "  <thead>\n",
       "    <tr style=\"text-align: right;\">\n",
       "      <th></th>\n",
       "      <th>borough</th>\n",
       "      <th>location</th>\n",
       "      <th>on_street</th>\n",
       "      <th>off_street</th>\n",
       "      <th>cross_street</th>\n",
       "    </tr>\n",
       "  </thead>\n",
       "  <tbody>\n",
       "    <tr>\n",
       "      <th>0</th>\n",
       "      <td>MANHATTAN</td>\n",
       "      <td>(40.742832, -74.00771)</td>\n",
       "      <td>WEST 15 STREET</td>\n",
       "      <td>NaN</td>\n",
       "      <td>10 AVENUE</td>\n",
       "    </tr>\n",
       "    <tr>\n",
       "      <th>1</th>\n",
       "      <td>BROOKLYN</td>\n",
       "      <td>(40.623714, -73.99314)</td>\n",
       "      <td>16 AVENUE</td>\n",
       "      <td>NaN</td>\n",
       "      <td>62 STREET</td>\n",
       "    </tr>\n",
       "    <tr>\n",
       "      <th>2</th>\n",
       "      <td>NaN</td>\n",
       "      <td>(40.591755, -73.9083)</td>\n",
       "      <td>BELT PARKWAY</td>\n",
       "      <td>NaN</td>\n",
       "      <td>NaN</td>\n",
       "    </tr>\n",
       "    <tr>\n",
       "      <th>3</th>\n",
       "      <td>QUEENS</td>\n",
       "      <td>(40.73602, -73.87954)</td>\n",
       "      <td>GRAND AVENUE</td>\n",
       "      <td>NaN</td>\n",
       "      <td>VANLOON STREET</td>\n",
       "    </tr>\n",
       "    <tr>\n",
       "      <th>4</th>\n",
       "      <td>BRONX</td>\n",
       "      <td>(40.884727, -73.89945)</td>\n",
       "      <td>NaN</td>\n",
       "      <td>208       WEST 238 STREET</td>\n",
       "      <td>NaN</td>\n",
       "    </tr>\n",
       "  </tbody>\n",
       "</table>\n",
       "</div>"
      ],
      "text/plain": [
       "     borough                location                         on_street  \\\n",
       "0  MANHATTAN  (40.742832, -74.00771)  WEST 15 STREET                     \n",
       "1   BROOKLYN  (40.623714, -73.99314)  16 AVENUE                          \n",
       "2        NaN   (40.591755, -73.9083)  BELT PARKWAY                       \n",
       "3     QUEENS   (40.73602, -73.87954)  GRAND AVENUE                       \n",
       "4      BRONX  (40.884727, -73.89945)                               NaN   \n",
       "\n",
       "                                 off_street    cross_street  \n",
       "0                                       NaN       10 AVENUE  \n",
       "1                                       NaN       62 STREET  \n",
       "2                                       NaN             NaN  \n",
       "3                                       NaN  VANLOON STREET  \n",
       "4  208       WEST 238 STREET                            NaN  "
      ]
     },
     "execution_count": 51,
     "metadata": {},
     "output_type": "execute_result"
    }
   ],
   "source": [
    "loc_cols = ['borough', 'location', 'on_street', 'off_street', 'cross_street']\n",
    "location_data = mvc[loc_cols]\n",
    "location_data.head()"
   ]
  },
  {
   "cell_type": "markdown",
   "metadata": {},
   "source": [
    "Next, let's look the null values in each column:"
   ]
  },
  {
   "cell_type": "code",
   "execution_count": 52,
   "metadata": {},
   "outputs": [
    {
     "data": {
      "text/plain": [
       "borough         20646\n",
       "location         3885\n",
       "on_street       13961\n",
       "off_street      44093\n",
       "cross_street    29249\n",
       "dtype: int64"
      ]
     },
     "execution_count": 52,
     "metadata": {},
     "output_type": "execute_result"
    }
   ],
   "source": [
    "location_data.isnull().sum()"
   ]
  },
  {
   "cell_type": "markdown",
   "metadata": {},
   "source": [
    "These columns have a lot of missing values! \n",
    "\n",
    "All of these five columns represent the same thing — the location of the collision so we can potentially use the non-null values to impute some of the null values.\n",
    "\n",
    "To see where we might be able to do this, let's look for correlations between the missing values:"
   ]
  },
  {
   "cell_type": "code",
   "execution_count": 53,
   "metadata": {},
   "outputs": [
    {
     "data": {
      "image/png": "[encoded data removed]",
      "text/plain": [
       "<Figure size 1440x1008 with 1 Axes>"
      ]
     },
     "metadata": {
      "needs_background": "light"
     },
     "output_type": "display_data"
    }
   ],
   "source": [
    "plot_null_correlations(location_data)"
   ]
  },
  {
   "cell_type": "markdown",
   "metadata": {},
   "source": [
    "None of these columns have strong correlations except for `off_street` and `on_street` which have a near perfect negative correlation. That means for almost every row that has a null value in one column, the other has a non-null value and vice-versa.\n",
    "\n",
    "The final way we'll look at the null values in these columns is to plot a null matrix, but we'll sort the data first. This will gather some of the null and non-null values together and make patterns more obvious:"
   ]
  },
  {
   "cell_type": "code",
   "execution_count": 54,
   "metadata": {},
   "outputs": [
    {
     "data": {
      "image/png": "[encoded data removed]",
      "text/plain": [
       "<Figure size 1296x1080 with 1 Axes>"
      ]
     },
     "metadata": {
      "needs_background": "light"
     },
     "output_type": "display_data"
    }
   ],
   "source": [
    "# remember: loc_cols = ['borough', 'location', 'on_street', 'off_street', 'cross_street']\n",
    "sorted_location_data = location_data.sort_values(loc_cols)\n",
    "plot_null_matrix(sorted_location_data)"
   ]
  },
  {
   "cell_type": "markdown",
   "metadata": {},
   "source": [
    "Let's make some observations about the missing values across these columns:\n",
    "\n",
    "\n",
    "- 1. About two-thirds of rows have non-null values for `borough`, but of those values that are missing, most have non-null values for `location` and one or more of the street name columns.\n",
    "\n",
    "\n",
    "- 2. Less than one-tenth of rows have missing values in the `location` column, but most of these have non-null values in one or more of the street name columns.\n",
    "\n",
    "\n",
    "- 3. Most rows have a non-null value for either `on_street` or `off_street`, and some also have a value for `cross_street`.\n",
    "\n",
    "\n",
    "**Combined, this means that we will be able to impute a lot of the missing values by using the other columns in each row. To do this, we can use geolocation APIs that take either an address or location coordinates, and return information about that location.**\n"
   ]
  },
  {
   "cell_type": "markdown",
   "metadata": {},
   "source": [
    "### Imputing Location Data\n",
    "\n",
    "We prepared the supplemental data using the [GeoPy](https://geopy.readthedocs.io/en/latest/) package, which makes working with Geocoding APIs like the Google Maps API easier. Here's the strategy we used to prepare the supplemental data:\n",
    "\n",
    "- For rows with `location` values but missing values in either `borough` or the street name columns, we used geocoding APIs to look up the location coordinates to find the missing data.\n",
    "\n",
    "- For rows with values in the street name columns missing `borough` and/or `location` data, we used geocoding APIs to look up the address to find the missing data.\n",
    "\n",
    "\n",
    "The supplemental data is in a CSV called `supplemental_data.csv`, let's read this into a pandas dataframe and familiarize ourself with the data:"
   ]
  },
  {
   "cell_type": "code",
   "execution_count": 55,
   "metadata": {},
   "outputs": [
    {
     "data": {
      "text/html": [
       "<div>\n",
       "<style scoped>\n",
       "    .dataframe tbody tr th:only-of-type {\n",
       "        vertical-align: middle;\n",
       "    }\n",
       "\n",
       "    .dataframe tbody tr th {\n",
       "        vertical-align: top;\n",
       "    }\n",
       "\n",
       "    .dataframe thead th {\n",
       "        text-align: right;\n",
       "    }\n",
       "</style>\n",
       "<table border=\"1\" class=\"dataframe\">\n",
       "  <thead>\n",
       "    <tr style=\"text-align: right;\">\n",
       "      <th></th>\n",
       "      <th>unique_key</th>\n",
       "      <th>location</th>\n",
       "      <th>on_street</th>\n",
       "      <th>off_street</th>\n",
       "      <th>borough</th>\n",
       "    </tr>\n",
       "  </thead>\n",
       "  <tbody>\n",
       "    <tr>\n",
       "      <th>0</th>\n",
       "      <td>3869058</td>\n",
       "      <td>NaN</td>\n",
       "      <td>NaN</td>\n",
       "      <td>NaN</td>\n",
       "      <td>NaN</td>\n",
       "    </tr>\n",
       "    <tr>\n",
       "      <th>1</th>\n",
       "      <td>3847947</td>\n",
       "      <td>NaN</td>\n",
       "      <td>NaN</td>\n",
       "      <td>NaN</td>\n",
       "      <td>NaN</td>\n",
       "    </tr>\n",
       "    <tr>\n",
       "      <th>2</th>\n",
       "      <td>3914294</td>\n",
       "      <td>NaN</td>\n",
       "      <td>BELT PARKWAY</td>\n",
       "      <td>NaN</td>\n",
       "      <td>BROOKLYN</td>\n",
       "    </tr>\n",
       "    <tr>\n",
       "      <th>3</th>\n",
       "      <td>3915069</td>\n",
       "      <td>NaN</td>\n",
       "      <td>NaN</td>\n",
       "      <td>NaN</td>\n",
       "      <td>NaN</td>\n",
       "    </tr>\n",
       "    <tr>\n",
       "      <th>4</th>\n",
       "      <td>3923123</td>\n",
       "      <td>NaN</td>\n",
       "      <td>NaN</td>\n",
       "      <td>NaN</td>\n",
       "      <td>NaN</td>\n",
       "    </tr>\n",
       "  </tbody>\n",
       "</table>\n",
       "</div>"
      ],
      "text/plain": [
       "   unique_key location     on_street off_street   borough\n",
       "0     3869058      NaN           NaN        NaN       NaN\n",
       "1     3847947      NaN           NaN        NaN       NaN\n",
       "2     3914294      NaN  BELT PARKWAY        NaN  BROOKLYN\n",
       "3     3915069      NaN           NaN        NaN       NaN\n",
       "4     3923123      NaN           NaN        NaN       NaN"
      ]
     },
     "execution_count": 55,
     "metadata": {},
     "output_type": "execute_result"
    }
   ],
   "source": [
    "sup_data = pd.read_csv('csv/supplemental_data.csv')\n",
    "sup_data.head()"
   ]
  },
  {
   "cell_type": "markdown",
   "metadata": {},
   "source": [
    "The supplemental data has five columns from our original data set — the `unique_key` that identifies each collision, and four of the five location columns. The `cross_street` column is not included because the geocoding APIs we used don't include data on the nearest cross street to any single location.\n",
    "\n",
    "Let's take a look at a null matrix for the supplemental data:"
   ]
  },
  {
   "cell_type": "code",
   "execution_count": 56,
   "metadata": {},
   "outputs": [
    {
     "data": {
      "image/png": "[encoded data removed]",
      "text/plain": [
       "<Figure size 1296x1080 with 1 Axes>"
      ]
     },
     "metadata": {
      "needs_background": "light"
     },
     "output_type": "display_data"
    }
   ],
   "source": [
    "plot_null_matrix(sup_data)"
   ]
  },
  {
   "cell_type": "markdown",
   "metadata": {},
   "source": [
    "Apart from the `unique_key` column, you'll notice that there are a lot more missing values than our main data set. \n",
    "\n",
    "This makes sense, as we didn't prepare supplemental data where the original data set had non-null values.\n",
    "\n",
    "If the `unique_key` column in both the original and supplemental data has the same values in the same order, we'll be able to use `Series.mask()` to add our supplemental data to our original data. \n",
    "\n",
    "We can check this using the `Series.equals()` method testing if whether two objects contain the same elements:"
   ]
  },
  {
   "cell_type": "code",
   "execution_count": 57,
   "metadata": {},
   "outputs": [
    {
     "name": "stdout",
     "output_type": "stream",
     "text": [
      "True\n"
     ]
    }
   ],
   "source": [
    "mvc_keys = mvc['unique_key']\n",
    "sup_keys = sup_data['unique_key']\n",
    "\n",
    "is_equal = mvc_keys.equals(sup_keys)\n",
    "print(is_equal)"
   ]
  },
  {
   "cell_type": "markdown",
   "metadata": {},
   "source": [
    "We've verified the data, **to impute missing values**."
   ]
  },
  {
   "cell_type": "code",
   "execution_count": 59,
   "metadata": {},
   "outputs": [
    {
     "data": {
      "text/plain": [
       "location         77\n",
       "on_street     13734\n",
       "off_street    36131\n",
       "borough         232\n",
       "dtype: int64"
      ]
     },
     "execution_count": 59,
     "metadata": {},
     "output_type": "execute_result"
    }
   ],
   "source": [
    "sup_data = pd.read_csv('csv/supplemental_data.csv')\n",
    "\n",
    "location_cols = ['location', 'on_street', 'off_street', 'borough']\n",
    "\n",
    "null_before = mvc[location_cols].isnull().sum()\n",
    "\n",
    "for col in location_cols:\n",
    "    mvc[col] = mvc[col].mask(mvc[col].isnull(), sup_data[col])\n",
    "\n",
    "null_after = mvc[location_cols].isnull().sum()\n",
    "null_after"
   ]
  },
  {
   "cell_type": "markdown",
   "metadata": {},
   "source": [
    "We've imputed thousands of values to reduce the number of missing values across our data set. Let's look at a summary of the null values before and after our data cleaning:\n"
   ]
  },
  {
   "cell_type": "code",
   "execution_count": 60,
   "metadata": {},
   "outputs": [
    {
     "data": {
      "text/plain": [
       "unique_key                 0\n",
       "date                       0\n",
       "time                       0\n",
       "borough                  232\n",
       "location                  77\n",
       "on_street              13734\n",
       "cross_street           29249\n",
       "off_street             36131\n",
       "pedestrians_injured        0\n",
       "cyclist_injured            0\n",
       "motorist_injured           0\n",
       "total_injured             21\n",
       "pedestrians_killed         0\n",
       "cyclist_killed             0\n",
       "motorist_killed            0\n",
       "total_killed               1\n",
       "vehicle_1                151\n",
       "vehicle_2               8469\n",
       "vehicle_3              54110\n",
       "vehicle_4              57108\n",
       "vehicle_5              57671\n",
       "cause_vehicle_1          151\n",
       "cause_vehicle_2         8469\n",
       "cause_vehicle_3        54110\n",
       "cause_vehicle_4        57108\n",
       "cause_vehicle_5        57671\n",
       "dtype: int64"
      ]
     },
     "execution_count": 60,
     "metadata": {},
     "output_type": "execute_result"
    }
   ],
   "source": [
    "last_mvc = mvc.isnull().sum()\n",
    "last_mvc"
   ]
  },
  {
   "cell_type": "code",
   "execution_count": 61,
   "metadata": {},
   "outputs": [
    {
     "data": {
      "text/plain": [
       "unique_key              0.000000\n",
       "date                    0.000000\n",
       "time                    0.000000\n",
       "borough                 0.400940\n",
       "location                0.133071\n",
       "on_street              23.734965\n",
       "cross_street           50.547836\n",
       "off_street             62.441242\n",
       "pedestrians_injured     0.000000\n",
       "cyclist_injured         0.000000\n",
       "motorist_injured        0.000000\n",
       "total_injured           0.036292\n",
       "pedestrians_killed      0.000000\n",
       "cyclist_killed          0.000000\n",
       "motorist_killed         0.000000\n",
       "total_killed            0.001728\n",
       "vehicle_1               0.260957\n",
       "vehicle_2              14.636043\n",
       "vehicle_3              93.512374\n",
       "vehicle_4              98.693488\n",
       "vehicle_5              99.666459\n",
       "cause_vehicle_1         0.260957\n",
       "cause_vehicle_2        14.636043\n",
       "cause_vehicle_3        93.512374\n",
       "cause_vehicle_4        98.693488\n",
       "cause_vehicle_5        99.666459\n",
       "dtype: float64"
      ]
     },
     "execution_count": 61,
     "metadata": {},
     "output_type": "execute_result"
    }
   ],
   "source": [
    "last_mvc_pct = last_mvc / mvc.shape[0] * 100\n",
    "last_mvc_pct"
   ]
  },
  {
   "cell_type": "code",
   "execution_count": 62,
   "metadata": {},
   "outputs": [],
   "source": [
    "null_df = pd.DataFrame({'null_counts': null_counts, 'null_pct %': null_counts_pct})"
   ]
  },
  {
   "cell_type": "code",
   "execution_count": 63,
   "metadata": {},
   "outputs": [
    {
     "data": {
      "text/html": [
       "<div>\n",
       "<style scoped>\n",
       "    .dataframe tbody tr th:only-of-type {\n",
       "        vertical-align: middle;\n",
       "    }\n",
       "\n",
       "    .dataframe tbody tr th {\n",
       "        vertical-align: top;\n",
       "    }\n",
       "\n",
       "    .dataframe thead th {\n",
       "        text-align: right;\n",
       "    }\n",
       "</style>\n",
       "<table border=\"1\" class=\"dataframe\">\n",
       "  <thead>\n",
       "    <tr style=\"text-align: right;\">\n",
       "      <th></th>\n",
       "      <th>start NaN%</th>\n",
       "      <th>last  NaN%</th>\n",
       "      <th>improvement</th>\n",
       "    </tr>\n",
       "  </thead>\n",
       "  <tbody>\n",
       "    <tr>\n",
       "      <th>unique_key</th>\n",
       "      <td>0.000000</td>\n",
       "      <td>0.000000</td>\n",
       "      <td>0.00</td>\n",
       "    </tr>\n",
       "    <tr>\n",
       "      <th>date</th>\n",
       "      <td>0.000000</td>\n",
       "      <td>0.000000</td>\n",
       "      <td>0.00</td>\n",
       "    </tr>\n",
       "    <tr>\n",
       "      <th>time</th>\n",
       "      <td>0.000000</td>\n",
       "      <td>0.000000</td>\n",
       "      <td>0.00</td>\n",
       "    </tr>\n",
       "    <tr>\n",
       "      <th>borough</th>\n",
       "      <td>35.680216</td>\n",
       "      <td>0.400940</td>\n",
       "      <td>35.28</td>\n",
       "    </tr>\n",
       "    <tr>\n",
       "      <th>location</th>\n",
       "      <td>6.714019</td>\n",
       "      <td>0.133071</td>\n",
       "      <td>6.58</td>\n",
       "    </tr>\n",
       "    <tr>\n",
       "      <th>on_street</th>\n",
       "      <td>24.127264</td>\n",
       "      <td>23.734965</td>\n",
       "      <td>0.39</td>\n",
       "    </tr>\n",
       "    <tr>\n",
       "      <th>cross_street</th>\n",
       "      <td>50.547836</td>\n",
       "      <td>50.547836</td>\n",
       "      <td>0.00</td>\n",
       "    </tr>\n",
       "    <tr>\n",
       "      <th>off_street</th>\n",
       "      <td>76.201092</td>\n",
       "      <td>62.441242</td>\n",
       "      <td>13.76</td>\n",
       "    </tr>\n",
       "    <tr>\n",
       "      <th>pedestrians_injured</th>\n",
       "      <td>0.000000</td>\n",
       "      <td>0.000000</td>\n",
       "      <td>0.00</td>\n",
       "    </tr>\n",
       "    <tr>\n",
       "      <th>cyclist_injured</th>\n",
       "      <td>0.000000</td>\n",
       "      <td>0.000000</td>\n",
       "      <td>0.00</td>\n",
       "    </tr>\n",
       "    <tr>\n",
       "      <th>motorist_injured</th>\n",
       "      <td>0.000000</td>\n",
       "      <td>0.000000</td>\n",
       "      <td>0.00</td>\n",
       "    </tr>\n",
       "    <tr>\n",
       "      <th>total_injured</th>\n",
       "      <td>0.001728</td>\n",
       "      <td>0.036292</td>\n",
       "      <td>-0.03</td>\n",
       "    </tr>\n",
       "    <tr>\n",
       "      <th>pedestrians_killed</th>\n",
       "      <td>0.000000</td>\n",
       "      <td>0.000000</td>\n",
       "      <td>0.00</td>\n",
       "    </tr>\n",
       "    <tr>\n",
       "      <th>cyclist_killed</th>\n",
       "      <td>0.000000</td>\n",
       "      <td>0.000000</td>\n",
       "      <td>0.00</td>\n",
       "    </tr>\n",
       "    <tr>\n",
       "      <th>motorist_killed</th>\n",
       "      <td>0.000000</td>\n",
       "      <td>0.000000</td>\n",
       "      <td>0.00</td>\n",
       "    </tr>\n",
       "    <tr>\n",
       "      <th>total_killed</th>\n",
       "      <td>0.008641</td>\n",
       "      <td>0.001728</td>\n",
       "      <td>0.01</td>\n",
       "    </tr>\n",
       "    <tr>\n",
       "      <th>vehicle_1</th>\n",
       "      <td>0.613508</td>\n",
       "      <td>0.260957</td>\n",
       "      <td>0.35</td>\n",
       "    </tr>\n",
       "    <tr>\n",
       "      <th>vehicle_2</th>\n",
       "      <td>21.191069</td>\n",
       "      <td>14.636043</td>\n",
       "      <td>6.56</td>\n",
       "    </tr>\n",
       "    <tr>\n",
       "      <th>vehicle_3</th>\n",
       "      <td>93.930596</td>\n",
       "      <td>93.512374</td>\n",
       "      <td>0.42</td>\n",
       "    </tr>\n",
       "    <tr>\n",
       "      <th>vehicle_4</th>\n",
       "      <td>98.779898</td>\n",
       "      <td>98.693488</td>\n",
       "      <td>0.09</td>\n",
       "    </tr>\n",
       "    <tr>\n",
       "      <th>vehicle_5</th>\n",
       "      <td>99.683741</td>\n",
       "      <td>99.666459</td>\n",
       "      <td>0.02</td>\n",
       "    </tr>\n",
       "    <tr>\n",
       "      <th>cause_vehicle_1</th>\n",
       "      <td>0.302433</td>\n",
       "      <td>0.260957</td>\n",
       "      <td>0.04</td>\n",
       "    </tr>\n",
       "    <tr>\n",
       "      <th>cause_vehicle_2</th>\n",
       "      <td>15.021430</td>\n",
       "      <td>14.636043</td>\n",
       "      <td>0.39</td>\n",
       "    </tr>\n",
       "    <tr>\n",
       "      <th>cause_vehicle_3</th>\n",
       "      <td>93.553850</td>\n",
       "      <td>93.512374</td>\n",
       "      <td>0.04</td>\n",
       "    </tr>\n",
       "    <tr>\n",
       "      <th>cause_vehicle_4</th>\n",
       "      <td>98.698673</td>\n",
       "      <td>98.693488</td>\n",
       "      <td>0.01</td>\n",
       "    </tr>\n",
       "    <tr>\n",
       "      <th>cause_vehicle_5</th>\n",
       "      <td>99.666459</td>\n",
       "      <td>99.666459</td>\n",
       "      <td>0.00</td>\n",
       "    </tr>\n",
       "  </tbody>\n",
       "</table>\n",
       "</div>"
      ],
      "text/plain": [
       "                     start NaN%  last  NaN%  improvement\n",
       "unique_key             0.000000    0.000000         0.00\n",
       "date                   0.000000    0.000000         0.00\n",
       "time                   0.000000    0.000000         0.00\n",
       "borough               35.680216    0.400940        35.28\n",
       "location               6.714019    0.133071         6.58\n",
       "on_street             24.127264   23.734965         0.39\n",
       "cross_street          50.547836   50.547836         0.00\n",
       "off_street            76.201092   62.441242        13.76\n",
       "pedestrians_injured    0.000000    0.000000         0.00\n",
       "cyclist_injured        0.000000    0.000000         0.00\n",
       "motorist_injured       0.000000    0.000000         0.00\n",
       "total_injured          0.001728    0.036292        -0.03\n",
       "pedestrians_killed     0.000000    0.000000         0.00\n",
       "cyclist_killed         0.000000    0.000000         0.00\n",
       "motorist_killed        0.000000    0.000000         0.00\n",
       "total_killed           0.008641    0.001728         0.01\n",
       "vehicle_1              0.613508    0.260957         0.35\n",
       "vehicle_2             21.191069   14.636043         6.56\n",
       "vehicle_3             93.930596   93.512374         0.42\n",
       "vehicle_4             98.779898   98.693488         0.09\n",
       "vehicle_5             99.683741   99.666459         0.02\n",
       "cause_vehicle_1        0.302433    0.260957         0.04\n",
       "cause_vehicle_2       15.021430   14.636043         0.39\n",
       "cause_vehicle_3       93.553850   93.512374         0.04\n",
       "cause_vehicle_4       98.698673   98.693488         0.01\n",
       "cause_vehicle_5       99.666459   99.666459         0.00"
      ]
     },
     "execution_count": 63,
     "metadata": {},
     "output_type": "execute_result"
    }
   ],
   "source": [
    "new_null_df = pd.DataFrame({'start NaN%': null_counts_pct,\n",
    "                            'last  NaN%': last_mvc_pct,\n",
    "                           'improvement':(null_counts_pct - last_mvc_pct).round(2) })\n",
    "new_null_df"
   ]
  },
  {
   "cell_type": "code",
   "execution_count": null,
   "metadata": {},
   "outputs": [],
   "source": []
  }
 ],
 "metadata": {
  "kernelspec": {
   "display_name": "Python 3",
   "language": "python",
   "name": "python3"
  },
  "language_info": {
   "codemirror_mode": {
    "name": "ipython",
    "version": 3
   },
   "file_extension": ".py",
   "mimetype": "text/x-python",
   "name": "python",
   "nbconvert_exporter": "python",
   "pygments_lexer": "ipython3",
   "version": "3.8.2"
  }
 },
 "nbformat": 4,
 "nbformat_minor": 5
}
