{
 "cells": [
  {
   "cell_type": "markdown",
   "metadata": {},
   "source": [
    "![Imgur](https://image.freepik.com/free-vector/automobiles-models-icon-collection_74855-5435.jpg)\n",
    "\n",
    "<a href='https://www.freepik.com/'>models icon @freepik.com </a>\n",
    "\n",
    "\n",
    "# Exploring Ebay Car Sales Data \n",
    "\n",
    "## Introduction\n",
    "\n",
    "In this guided project, we'll work with a dataset of used cars from eBay Kleinanzeigen, a classifieds section of the German eBay website.\n",
    "\n",
    "The dataset was originally scraped and uploaded to Kaggle by user orgesleka, the original dataset isn't available on Kaggle anymore, but you can find it [here](https://data.world/data-society/used-cars-data).\n",
    "\n",
    "This is the sort version, 50000 rows.  \n",
    "\n",
    "The aim of this project is **to clean the data** and analyze the included used car listings \n",
    "\n",
    "\n",
    "### Data dictionary:\n",
    "\n",
    "- `dateCrawled` - When this ad was first crawled. All field-values are taken from this date.\n",
    "\n",
    "\n",
    "- `name` - Name of the car.\n",
    "\n",
    "\n",
    "- `seller` - Whether the seller is private or a dealer.\n",
    "\n",
    "\n",
    "- `offerType` - The type of listing\n",
    "\n",
    "\n",
    "- `price` - The price on the ad to sell the car.\n",
    "\n",
    "\n",
    "- `abtest` - Whether the listing is included in an A/B test.\n",
    "\n",
    "\n",
    "- `vehicleType` - The vehicle Type.\n",
    "\n",
    "\n",
    "- `yearOfRegistration` - The year in which the car was first registered.\n",
    "\n",
    "\n",
    "- `gearbox` - The transmission type.\n",
    "\n",
    "\n",
    "- `powerPS` - The power of the car in PS.\n",
    "\n",
    "\n",
    "- `model` - The car model name.\n",
    "\n",
    "\n",
    "- `kilometer` - How many kilometers the car has driven.\n",
    "\n",
    "\n",
    "- `monthOfRegistration` - The month in which the car was first registered.\n",
    "\n",
    "\n",
    "- `fuelType` - What type of fuel the car uses.\n",
    "\n",
    "\n",
    "- `brand` - The brand of the car.\n",
    "\n",
    "\n",
    "- `notRepairedDamage`- If the car has a damage which is not yet repaired.\n",
    "\n",
    "\n",
    "- `dateCreated` - The date on which the eBay listing was created.\n",
    "\n",
    "\n",
    "- `nrOfPictures` - The number of pictures in the ad.\n",
    "\n",
    "\n",
    "- `postalCode` - The postal code for the location of the vehicle.\n",
    "\n",
    "\n",
    "- `lastSeenOnline` - When the crawler saw this ad last online.\n",
    "\n",
    "\n",
    "\n",
    "\n",
    "\n",
    "### 1. Loading Data\n",
    "\n",
    "- #### 1.1 Checking file\n",
    "\n",
    "- #### 1.2. Basic Exploration Data\n",
    "\n",
    "- #### 1.3 Cleaning column names\n",
    "\n",
    "- #### 1.3. Initial Exploration Data and cleaning\n",
    "\n",
    "- #### 1.4. Columns to be droped\n",
    "\n",
    "### 2. Numeric data stored as text that needs to be cleaned\n",
    "\n",
    "- #### 2.1 Character deletion and integer conversion\n",
    "\n",
    "### 3 . What does our dataset look like?\n",
    "\n",
    "- #### 3.1 Exploring the odometer_km\n",
    "\n",
    "- #### 3.2 Exploring the price_in_dollar\n",
    "\n",
    " - #### 3.2.1 Upper limit `price_in_dollars` detecting outlyers\n",
    " \n",
    " - ##### 3.2.2 Exploring price outliers on the top of the list:\n",
    " \n",
    " - #### 3.2.3 Exploring price outliers on the botton of the list\n",
    " \n",
    " - #### 3.3 The importance of a specific strip on our data set.\n",
    "\n",
    "### 4. The date columns \n",
    "\n",
    "- #### 4.1 Text to datetime format \n",
    "\n",
    " - #### 4.1.1 Distribution of values in series\n",
    "\n",
    " - #### 4.1.2 Upper and lower limit registration_year\n",
    " \n",
    "### 5. Price by Brand\n",
    "\n",
    "- #### 5.1 Average price per vehicle brand\n",
    "\n",
    "- #### 5.2 Average number of kilometers per vehicle brand\n",
    "\n",
    "- #### 5.3 List of car brands by average price and average mileage\n",
    "\n",
    "### 6. Storing Aggregate Data in a DataFrame\n",
    "\n",
    "- #### 6.1 Identify categorical data\n",
    "\n",
    "- #### 6.2 Finding the most common brand/model combi\n",
    "\n",
    "- #### 6.2.1 Dividing the odometer in groups\n",
    " \n",
    "### 7. How much cheaper are damaged cars than their undamaged counterparts?\n",
    "\n",
    "### 8. Conclusions\n",
    "\n",
    "* * *"
   ]
  },
  {
   "cell_type": "markdown",
   "metadata": {},
   "source": [
    "## 1. Loading Data"
   ]
  },
  {
   "cell_type": "code",
   "execution_count": 1,
   "metadata": {},
   "outputs": [],
   "source": [
    "import numpy as np\n",
    "import pandas as pd\n",
    "import chardet # Character encoding auto-detection in Python\n",
    "import matplotlib.pyplot as plt\n",
    "%matplotlib inline"
   ]
  },
  {
   "cell_type": "markdown",
   "metadata": {},
   "source": [
    "### 1.1 Checking file"
   ]
  },
  {
   "cell_type": "code",
   "execution_count": 2,
   "metadata": {},
   "outputs": [
    {
     "name": "stdout",
     "output_type": "stream",
     "text": [
      "csv/autos.csv: CSV text\\012- , Non-ISO extended-ASCII text\r\n"
     ]
    }
   ],
   "source": [
    "! file -k csv/autos.csv"
   ]
  },
  {
   "cell_type": "code",
   "execution_count": 3,
   "metadata": {},
   "outputs": [
    {
     "name": "stdout",
     "output_type": "stream",
     "text": [
      "csv/autos.csv: application/csv; charset=unknown-8bit\r\n"
     ]
    }
   ],
   "source": [
    "! file -i csv/autos.csv"
   ]
  },
  {
   "cell_type": "code",
   "execution_count": 4,
   "metadata": {},
   "outputs": [
    {
     "name": "stdout",
     "output_type": "stream",
     "text": [
      "{'encoding': 'Windows-1252', 'confidence': 0.73, 'language': ''}\n"
     ]
    }
   ],
   "source": [
    "with open(\"csv/autos.csv\", 'rb') as file:\n",
    "    print(chardet.detect(file.read()))"
   ]
  },
  {
   "cell_type": "code",
   "execution_count": 5,
   "metadata": {},
   "outputs": [],
   "source": [
    "autos = pd.read_csv(\"csv/autos.csv\",encoding='Windows-1252') # Windows-1252 == ISO-8859-1"
   ]
  },
  {
   "cell_type": "markdown",
   "metadata": {},
   "source": [
    " https://stackoverflow.com/questions/7048745/what-is-the-difference-between-utf-8-and-iso-8859-1\n",
    " \n",
    " \n",
    "- ASCII: 7 bits. 128 code points.\n",
    "\n",
    "- ISO-8859-1: 8 bits. 256 code points.\n",
    "\n",
    "- UTF-8: 8-32 bits (1-4 bytes). 1,112,064 code points.\n",
    "\n",
    "Both ISO-8859-1 and UTF-8 are backwards compatible with ASCII, but UTF-8 is not backwards compatible with ISO-8859-1:"
   ]
  },
  {
   "cell_type": "markdown",
   "metadata": {},
   "source": [
    "\n",
    "### 1.2 Basic Exploration Data"
   ]
  },
  {
   "cell_type": "code",
   "execution_count": 6,
   "metadata": {},
   "outputs": [
    {
     "data": {
      "text/html": [
       "<div>\n",
       "<style scoped>\n",
       "    .dataframe tbody tr th:only-of-type {\n",
       "        vertical-align: middle;\n",
       "    }\n",
       "\n",
       "    .dataframe tbody tr th {\n",
       "        vertical-align: top;\n",
       "    }\n",
       "\n",
       "    .dataframe thead th {\n",
       "        text-align: right;\n",
       "    }\n",
       "</style>\n",
       "<table border=\"1\" class=\"dataframe\">\n",
       "  <thead>\n",
       "    <tr style=\"text-align: right;\">\n",
       "      <th></th>\n",
       "      <th>dateCrawled</th>\n",
       "      <th>name</th>\n",
       "      <th>seller</th>\n",
       "      <th>offerType</th>\n",
       "      <th>price</th>\n",
       "      <th>abtest</th>\n",
       "      <th>vehicleType</th>\n",
       "      <th>yearOfRegistration</th>\n",
       "      <th>gearbox</th>\n",
       "      <th>powerPS</th>\n",
       "      <th>model</th>\n",
       "      <th>odometer</th>\n",
       "      <th>monthOfRegistration</th>\n",
       "      <th>fuelType</th>\n",
       "      <th>brand</th>\n",
       "      <th>notRepairedDamage</th>\n",
       "      <th>dateCreated</th>\n",
       "      <th>nrOfPictures</th>\n",
       "      <th>postalCode</th>\n",
       "      <th>lastSeen</th>\n",
       "    </tr>\n",
       "  </thead>\n",
       "  <tbody>\n",
       "    <tr>\n",
       "      <th>0</th>\n",
       "      <td>2016-03-26 17:47:46</td>\n",
       "      <td>Peugeot_807_160_NAVTECH_ON_BOARD</td>\n",
       "      <td>privat</td>\n",
       "      <td>Angebot</td>\n",
       "      <td>$5,000</td>\n",
       "      <td>control</td>\n",
       "      <td>bus</td>\n",
       "      <td>2004</td>\n",
       "      <td>manuell</td>\n",
       "      <td>158</td>\n",
       "      <td>andere</td>\n",
       "      <td>150,000km</td>\n",
       "      <td>3</td>\n",
       "      <td>lpg</td>\n",
       "      <td>peugeot</td>\n",
       "      <td>nein</td>\n",
       "      <td>2016-03-26 00:00:00</td>\n",
       "      <td>0</td>\n",
       "      <td>79588</td>\n",
       "      <td>2016-04-06 06:45:54</td>\n",
       "    </tr>\n",
       "    <tr>\n",
       "      <th>1</th>\n",
       "      <td>2016-04-04 13:38:56</td>\n",
       "      <td>BMW_740i_4_4_Liter_HAMANN_UMBAU_Mega_Optik</td>\n",
       "      <td>privat</td>\n",
       "      <td>Angebot</td>\n",
       "      <td>$8,500</td>\n",
       "      <td>control</td>\n",
       "      <td>limousine</td>\n",
       "      <td>1997</td>\n",
       "      <td>automatik</td>\n",
       "      <td>286</td>\n",
       "      <td>7er</td>\n",
       "      <td>150,000km</td>\n",
       "      <td>6</td>\n",
       "      <td>benzin</td>\n",
       "      <td>bmw</td>\n",
       "      <td>nein</td>\n",
       "      <td>2016-04-04 00:00:00</td>\n",
       "      <td>0</td>\n",
       "      <td>71034</td>\n",
       "      <td>2016-04-06 14:45:08</td>\n",
       "    </tr>\n",
       "    <tr>\n",
       "      <th>2</th>\n",
       "      <td>2016-03-26 18:57:24</td>\n",
       "      <td>Volkswagen_Golf_1.6_United</td>\n",
       "      <td>privat</td>\n",
       "      <td>Angebot</td>\n",
       "      <td>$8,990</td>\n",
       "      <td>test</td>\n",
       "      <td>limousine</td>\n",
       "      <td>2009</td>\n",
       "      <td>manuell</td>\n",
       "      <td>102</td>\n",
       "      <td>golf</td>\n",
       "      <td>70,000km</td>\n",
       "      <td>7</td>\n",
       "      <td>benzin</td>\n",
       "      <td>volkswagen</td>\n",
       "      <td>nein</td>\n",
       "      <td>2016-03-26 00:00:00</td>\n",
       "      <td>0</td>\n",
       "      <td>35394</td>\n",
       "      <td>2016-04-06 20:15:37</td>\n",
       "    </tr>\n",
       "  </tbody>\n",
       "</table>\n",
       "</div>"
      ],
      "text/plain": [
       "           dateCrawled                                        name  seller  \\\n",
       "0  2016-03-26 17:47:46            Peugeot_807_160_NAVTECH_ON_BOARD  privat   \n",
       "1  2016-04-04 13:38:56  BMW_740i_4_4_Liter_HAMANN_UMBAU_Mega_Optik  privat   \n",
       "2  2016-03-26 18:57:24                  Volkswagen_Golf_1.6_United  privat   \n",
       "\n",
       "  offerType   price   abtest vehicleType  yearOfRegistration    gearbox  \\\n",
       "0   Angebot  $5,000  control         bus                2004    manuell   \n",
       "1   Angebot  $8,500  control   limousine                1997  automatik   \n",
       "2   Angebot  $8,990     test   limousine                2009    manuell   \n",
       "\n",
       "   powerPS   model   odometer  monthOfRegistration fuelType       brand  \\\n",
       "0      158  andere  150,000km                    3      lpg     peugeot   \n",
       "1      286     7er  150,000km                    6   benzin         bmw   \n",
       "2      102    golf   70,000km                    7   benzin  volkswagen   \n",
       "\n",
       "  notRepairedDamage          dateCreated  nrOfPictures  postalCode  \\\n",
       "0              nein  2016-03-26 00:00:00             0       79588   \n",
       "1              nein  2016-04-04 00:00:00             0       71034   \n",
       "2              nein  2016-03-26 00:00:00             0       35394   \n",
       "\n",
       "              lastSeen  \n",
       "0  2016-04-06 06:45:54  \n",
       "1  2016-04-06 14:45:08  \n",
       "2  2016-04-06 20:15:37  "
      ]
     },
     "execution_count": 6,
     "metadata": {},
     "output_type": "execute_result"
    }
   ],
   "source": [
    "autos.head(3)"
   ]
  },
  {
   "cell_type": "code",
   "execution_count": 7,
   "metadata": {},
   "outputs": [
    {
     "name": "stdout",
     "output_type": "stream",
     "text": [
      "<class 'pandas.core.frame.DataFrame'>\n",
      "RangeIndex: 50000 entries, 0 to 49999\n",
      "Data columns (total 20 columns):\n",
      " #   Column               Non-Null Count  Dtype \n",
      "---  ------               --------------  ----- \n",
      " 0   dateCrawled          50000 non-null  object\n",
      " 1   name                 50000 non-null  object\n",
      " 2   seller               50000 non-null  object\n",
      " 3   offerType            50000 non-null  object\n",
      " 4   price                50000 non-null  object\n",
      " 5   abtest               50000 non-null  object\n",
      " 6   vehicleType          44905 non-null  object\n",
      " 7   yearOfRegistration   50000 non-null  int64 \n",
      " 8   gearbox              47320 non-null  object\n",
      " 9   powerPS              50000 non-null  int64 \n",
      " 10  model                47242 non-null  object\n",
      " 11  odometer             50000 non-null  object\n",
      " 12  monthOfRegistration  50000 non-null  int64 \n",
      " 13  fuelType             45518 non-null  object\n",
      " 14  brand                50000 non-null  object\n",
      " 15  notRepairedDamage    40171 non-null  object\n",
      " 16  dateCreated          50000 non-null  object\n",
      " 17  nrOfPictures         50000 non-null  int64 \n",
      " 18  postalCode           50000 non-null  int64 \n",
      " 19  lastSeen             50000 non-null  object\n",
      "dtypes: int64(5), object(15)\n",
      "memory usage: 7.6+ MB\n"
     ]
    }
   ],
   "source": [
    "autos.info()"
   ]
  },
  {
   "cell_type": "markdown",
   "metadata": {},
   "source": [
    "### Observations\n",
    "\n",
    "- There's a max numbers of 50000 rows with 20 columns, there are rows that are complete and others that are not, some columns are missing data.\n",
    "\n",
    "\n",
    "- Column's name is not properly writed, so we need to [lowerCamelCase](https://en.wikipedia.org/wiki/Camel_case) it.\n",
    "\n",
    "\n",
    "- Some columns do not have the appropriate data type.\n",
    "\n",
    "\n",
    "- Some columns have null values, but none have more than ~20% null values."
   ]
  },
  {
   "cell_type": "markdown",
   "metadata": {},
   "source": [
    "### 1.3 Cleaning column names\n",
    "\n",
    "The column names use [camelcase](https://en.wikipedia.org/wiki/Camel_case) instead of Python's preferred [snakecase](https://en.wikipedia.org/wiki/Snake_case), which means we can't just replace spaces with underscores.\n",
    "\n",
    "Working on fixing the column names:\n",
    "\n",
    "   - `yearOfRegistration`  to `registration_year`\n",
    "   - `monthOfRegistration` to `registration_month`\n",
    "   - `notRepairedDamage`   to `unrepaired_damagè`\n",
    "   - `dateCreated`         to `ad_created`"
   ]
  },
  {
   "cell_type": "code",
   "execution_count": 8,
   "metadata": {},
   "outputs": [
    {
     "data": {
      "text/plain": [
       "Index(['dateCrawled', 'name', 'seller', 'offerType', 'price', 'abtest',\n",
       "       'vehicleType', 'yearOfRegistration', 'gearbox', 'powerPS', 'model',\n",
       "       'odometer', 'monthOfRegistration', 'fuelType', 'brand',\n",
       "       'notRepairedDamage', 'dateCreated', 'nrOfPictures', 'postalCode',\n",
       "       'lastSeen'],\n",
       "      dtype='object')"
      ]
     },
     "execution_count": 8,
     "metadata": {},
     "output_type": "execute_result"
    }
   ],
   "source": [
    "column_name = autos.columns\n",
    "column_name"
   ]
  },
  {
   "cell_type": "code",
   "execution_count": 9,
   "metadata": {},
   "outputs": [],
   "source": [
    "autos.rename({'yearOfRegistration':'registration_year',\n",
    "              'monthOfRegistration':'registration_month',\n",
    "             'notRepairedDamage':'unrepaired_damage',\n",
    "              'dateCreated':'ad_created',\n",
    "              'nrOfPictures':'nr_pictures',\n",
    "              'dateCrawled':'date_crawled',\n",
    "              'price':'price_in_dollars',\n",
    "              'offerType':'offer_type',\n",
    "              'vehicleType':'vehicle_type',\n",
    "              'powerPS':'CV',\n",
    "              'fuelType':'fuel_type'\n",
    "              ,'postalCode':'postal_code',\n",
    "              'lastSeen':'last_seen',},\n",
    "             axis = 1, inplace = True)"
   ]
  },
  {
   "cell_type": "markdown",
   "metadata": {},
   "source": [
    "Renaming names on snake format, and **powerPS** are converted to **CV** (Cavalli Vapore) means 'Horse Power' in metric system, system used in Europe where the dataframe comes (Germany)\n",
    "\n",
    "based on this [link](https://www.autoweek.com/news/technology/a1820831/what-ps-metric-horsepower-autoweek-explains/)"
   ]
  },
  {
   "cell_type": "markdown",
   "metadata": {},
   "source": [
    "### 1.4 Initial Exploration Data and cleaning\n",
    "\n",
    "Cleaning tasks need to be done: \n",
    "\n",
    "\n",
    "- 1. Text columns where all or almost all values are the same. These can often **be dropped as they don't have useful** information for analysis.\n",
    "\n",
    "\n",
    "- 2. Examples of numeric **data stored as text which can be cleaned and converted**."
   ]
  },
  {
   "cell_type": "code",
   "execution_count": 10,
   "metadata": {},
   "outputs": [
    {
     "data": {
      "text/plain": [
       "Index(['dateCrawled', 'name', 'seller', 'offerType', 'price', 'abtest',\n",
       "       'vehicleType', 'yearOfRegistration', 'gearbox', 'powerPS', 'model',\n",
       "       'odometer', 'monthOfRegistration', 'fuelType', 'brand',\n",
       "       'notRepairedDamage', 'dateCreated', 'nrOfPictures', 'postalCode',\n",
       "       'lastSeen'],\n",
       "      dtype='object')"
      ]
     },
     "execution_count": 10,
     "metadata": {},
     "output_type": "execute_result"
    }
   ],
   "source": [
    "column_name"
   ]
  },
  {
   "cell_type": "markdown",
   "metadata": {},
   "source": [
    "### 1.4 Columns to be droped:\n",
    "\n",
    "As we can see by the low relevance of the content it is appropriate to delete the following columns:\n",
    "\n",
    "- `seller`\n",
    "- `offer_type`\n",
    "- `abtest`\n",
    "- `nr_pictures`\n",
    "- `postal_code`\n",
    "\n",
    "<br>\n",
    "\n",
    "**Check:**"
   ]
  },
  {
   "cell_type": "code",
   "execution_count": 11,
   "metadata": {},
   "outputs": [
    {
     "data": {
      "text/plain": [
       "array(['privat', 'gewerblich'], dtype=object)"
      ]
     },
     "execution_count": 11,
     "metadata": {},
     "output_type": "execute_result"
    }
   ],
   "source": [
    "autos['seller'].unique()"
   ]
  },
  {
   "cell_type": "code",
   "execution_count": 12,
   "metadata": {},
   "outputs": [
    {
     "data": {
      "text/plain": [
       "array(['Angebot', 'Gesuch'], dtype=object)"
      ]
     },
     "execution_count": 12,
     "metadata": {},
     "output_type": "execute_result"
    }
   ],
   "source": [
    "autos['offer_type'].unique() # Angebot = Offer / Gesuch = Request"
   ]
  },
  {
   "cell_type": "code",
   "execution_count": 13,
   "metadata": {},
   "outputs": [
    {
     "data": {
      "text/plain": [
       "test       25756\n",
       "control    24244\n",
       "Name: abtest, dtype: int64"
      ]
     },
     "execution_count": 13,
     "metadata": {},
     "output_type": "execute_result"
    }
   ],
   "source": [
    "autos['abtest'].value_counts()"
   ]
  },
  {
   "cell_type": "code",
   "execution_count": 14,
   "metadata": {},
   "outputs": [
    {
     "data": {
      "text/plain": [
       "0    50000\n",
       "Name: nr_pictures, dtype: int64"
      ]
     },
     "execution_count": 14,
     "metadata": {},
     "output_type": "execute_result"
    }
   ],
   "source": [
    "autos['nr_pictures'].value_counts()"
   ]
  },
  {
   "cell_type": "code",
   "execution_count": 15,
   "metadata": {},
   "outputs": [
    {
     "data": {
      "text/plain": [
       "array([79588, 71034, 35394, 33729, 39218, 22962, 31535, 53474,  7426,\n",
       "       15749])"
      ]
     },
     "execution_count": 15,
     "metadata": {},
     "output_type": "execute_result"
    }
   ],
   "source": [
    "autos['postal_code'].unique()[:10]"
   ]
  },
  {
   "cell_type": "markdown",
   "metadata": {},
   "source": [
    "- indeed, we can do without these columns."
   ]
  },
  {
   "cell_type": "code",
   "execution_count": 16,
   "metadata": {},
   "outputs": [],
   "source": [
    "columns_todrop = ['seller','offer_type','abtest','nr_pictures','postal_code']\n",
    "\n",
    "for i in columns_todrop:\n",
    "    autos.drop([i], axis=1, inplace=True)"
   ]
  },
  {
   "cell_type": "code",
   "execution_count": 17,
   "metadata": {},
   "outputs": [
    {
     "data": {
      "text/plain": [
       "15"
      ]
     },
     "execution_count": 17,
     "metadata": {},
     "output_type": "execute_result"
    }
   ],
   "source": [
    "len(autos.columns) # number columns after"
   ]
  },
  {
   "cell_type": "code",
   "execution_count": 18,
   "metadata": {},
   "outputs": [
    {
     "data": {
      "text/html": [
       "<div>\n",
       "<style scoped>\n",
       "    .dataframe tbody tr th:only-of-type {\n",
       "        vertical-align: middle;\n",
       "    }\n",
       "\n",
       "    .dataframe tbody tr th {\n",
       "        vertical-align: top;\n",
       "    }\n",
       "\n",
       "    .dataframe thead th {\n",
       "        text-align: right;\n",
       "    }\n",
       "</style>\n",
       "<table border=\"1\" class=\"dataframe\">\n",
       "  <thead>\n",
       "    <tr style=\"text-align: right;\">\n",
       "      <th></th>\n",
       "      <th>date_crawled</th>\n",
       "      <th>name</th>\n",
       "      <th>price_in_dollars</th>\n",
       "      <th>vehicle_type</th>\n",
       "      <th>registration_year</th>\n",
       "      <th>gearbox</th>\n",
       "      <th>CV</th>\n",
       "      <th>model</th>\n",
       "      <th>odometer</th>\n",
       "      <th>registration_month</th>\n",
       "      <th>fuel_type</th>\n",
       "      <th>brand</th>\n",
       "      <th>unrepaired_damage</th>\n",
       "      <th>ad_created</th>\n",
       "      <th>last_seen</th>\n",
       "    </tr>\n",
       "  </thead>\n",
       "  <tbody>\n",
       "  </tbody>\n",
       "</table>\n",
       "</div>"
      ],
      "text/plain": [
       "Empty DataFrame\n",
       "Columns: [date_crawled, name, price_in_dollars, vehicle_type, registration_year, gearbox, CV, model, odometer, registration_month, fuel_type, brand, unrepaired_damage, ad_created, last_seen]\n",
       "Index: []"
      ]
     },
     "execution_count": 18,
     "metadata": {},
     "output_type": "execute_result"
    }
   ],
   "source": [
    "autos.head(0)"
   ]
  },
  {
   "cell_type": "markdown",
   "metadata": {},
   "source": [
    "## 2. Cleaning Data \n",
    "\n",
    "Numeric data stored as text that needs to be cleaned and converted\n",
    "\n",
    "A quick look at **all the text-type** columns to determine which ones should be cleaned and changed the data type."
   ]
  },
  {
   "cell_type": "code",
   "execution_count": 19,
   "metadata": {
    "scrolled": true
   },
   "outputs": [
    {
     "name": "stdout",
     "output_type": "stream",
     "text": [
      "\n",
      "\n",
      "0    2016-03-26 17:47:46\n",
      "1    2016-04-04 13:38:56\n",
      "Name: date_crawled, dtype: object\n",
      "\n",
      "\n",
      "0              Peugeot_807_160_NAVTECH_ON_BOARD\n",
      "1    BMW_740i_4_4_Liter_HAMANN_UMBAU_Mega_Optik\n",
      "Name: name, dtype: object\n",
      "\n",
      "\n",
      "0    $5,000\n",
      "1    $8,500\n",
      "Name: price_in_dollars, dtype: object\n",
      "\n",
      "\n",
      "0          bus\n",
      "1    limousine\n",
      "Name: vehicle_type, dtype: object\n",
      "\n",
      "\n",
      "0      manuell\n",
      "1    automatik\n",
      "Name: gearbox, dtype: object\n",
      "\n",
      "\n",
      "0    andere\n",
      "1       7er\n",
      "Name: model, dtype: object\n",
      "\n",
      "\n",
      "0    150,000km\n",
      "1    150,000km\n",
      "Name: odometer, dtype: object\n",
      "\n",
      "\n",
      "0       lpg\n",
      "1    benzin\n",
      "Name: fuel_type, dtype: object\n",
      "\n",
      "\n",
      "0    peugeot\n",
      "1        bmw\n",
      "Name: brand, dtype: object\n",
      "\n",
      "\n",
      "0    nein\n",
      "1    nein\n",
      "Name: unrepaired_damage, dtype: object\n",
      "\n",
      "\n",
      "0    2016-03-26 00:00:00\n",
      "1    2016-04-04 00:00:00\n",
      "Name: ad_created, dtype: object\n",
      "\n",
      "\n",
      "0    2016-04-06 06:45:54\n",
      "1    2016-04-06 14:45:08\n",
      "Name: last_seen, dtype: object\n"
     ]
    }
   ],
   "source": [
    "for index in autos.columns:\n",
    "    condition = autos[index].dtype\n",
    "    if  condition == 'object':\n",
    "        print(\"\\n\" )\n",
    "        print(autos[index][0:2])"
   ]
  },
  {
   "cell_type": "code",
   "execution_count": 20,
   "metadata": {},
   "outputs": [
    {
     "data": {
      "text/html": [
       "<style>\n",
       "table {float:left}\n",
       "</style>\n"
      ],
      "text/plain": [
       "<IPython.core.display.HTML object>"
      ]
     },
     "metadata": {},
     "output_type": "display_data"
    }
   ],
   "source": [
    "%%html\n",
    "<style>\n",
    "table {float:left}\n",
    "</style>"
   ]
  },
  {
   "cell_type": "markdown",
   "metadata": {},
   "source": [
    "|text column names|to clean|\n",
    "|:---|:---|\n",
    "|date_crawled|datetime|\n",
    "|name|**ok**|\n",
    "|price_in_dollars|clean $ sign, to number|\n",
    "|vehicle_type|**ok**|\n",
    "|gearbox|**ok**|\n",
    "|mmodel|**ok**|\n",
    "|odometer|clean km, to number and rename column to odometer_km|\n",
    "|fuel_type|**ok**|\n",
    "|brand|**ok**|\n",
    "|unrepaired_damage|**ok**|\n",
    "|ad_created|**ok**|"
   ]
  },
  {
   "cell_type": "markdown",
   "metadata": {},
   "source": [
    "### 2.1 Character deletion and integer conversion\n",
    "\n",
    "Let's only modify the columns price in dollars and odometer"
   ]
  },
  {
   "cell_type": "code",
   "execution_count": 21,
   "metadata": {},
   "outputs": [
    {
     "name": "stderr",
     "output_type": "stream",
     "text": [
      "<ipython-input-21-3355a58c55f7>:1: FutureWarning: The default value of regex will change from True to False in a future version. In addition, single character regular expressions will *not* be treated as literal strings when regex=True.\n",
      "  autos['price_in_dollars'] = autos['price_in_dollars'].str.replace('$', '')\n"
     ]
    },
    {
     "data": {
      "text/plain": [
       "0         5000\n",
       "1         8500\n",
       "2         8990\n",
       "3         4350\n",
       "4         1350\n",
       "         ...  \n",
       "49995    24900\n",
       "49996     1980\n",
       "49997    13200\n",
       "49998    22900\n",
       "49999     1250\n",
       "Name: price_in_dollars, Length: 50000, dtype: int64"
      ]
     },
     "execution_count": 21,
     "metadata": {},
     "output_type": "execute_result"
    }
   ],
   "source": [
    "autos['price_in_dollars'] = autos['price_in_dollars'].str.replace('$', '')\n",
    "autos['price_in_dollars'] = autos['price_in_dollars'].str.replace(',', '')\n",
    "autos['price_in_dollars'] = autos['price_in_dollars'].astype(int)\n",
    "autos['price_in_dollars']"
   ]
  },
  {
   "cell_type": "code",
   "execution_count": 22,
   "metadata": {},
   "outputs": [
    {
     "data": {
      "text/plain": [
       "0        150000\n",
       "1        150000\n",
       "2         70000\n",
       "3         70000\n",
       "4        150000\n",
       "          ...  \n",
       "49995    100000\n",
       "49996    150000\n",
       "49997      5000\n",
       "49998     40000\n",
       "49999    150000\n",
       "Name: odometer_km, Length: 50000, dtype: int64"
      ]
     },
     "execution_count": 22,
     "metadata": {},
     "output_type": "execute_result"
    }
   ],
   "source": [
    "autos.rename({'odometer':'odometer_km'}, axis = 1, inplace = True)\n",
    "autos['odometer_km'] = autos['odometer_km'].str.replace(',','')\n",
    "autos['odometer_km'] = autos['odometer_km'].str.replace('km','')\n",
    "autos['odometer_km'] = autos['odometer_km'].astype(int)\n",
    "autos['odometer_km']"
   ]
  },
  {
   "cell_type": "markdown",
   "metadata": {},
   "source": [
    "## 3. What does our dataset look like?"
   ]
  },
  {
   "cell_type": "code",
   "execution_count": 23,
   "metadata": {},
   "outputs": [
    {
     "name": "stdout",
     "output_type": "stream",
     "text": [
      "<class 'pandas.core.frame.DataFrame'>\n",
      "RangeIndex: 50000 entries, 0 to 49999\n",
      "Data columns (total 15 columns):\n",
      " #   Column              Non-Null Count  Dtype \n",
      "---  ------              --------------  ----- \n",
      " 0   date_crawled        50000 non-null  object\n",
      " 1   name                50000 non-null  object\n",
      " 2   price_in_dollars    50000 non-null  int64 \n",
      " 3   vehicle_type        44905 non-null  object\n",
      " 4   registration_year   50000 non-null  int64 \n",
      " 5   gearbox             47320 non-null  object\n",
      " 6   CV                  50000 non-null  int64 \n",
      " 7   model               47242 non-null  object\n",
      " 8   odometer_km         50000 non-null  int64 \n",
      " 9   registration_month  50000 non-null  int64 \n",
      " 10  fuel_type           45518 non-null  object\n",
      " 11  brand               50000 non-null  object\n",
      " 12  unrepaired_damage   40171 non-null  object\n",
      " 13  ad_created          50000 non-null  object\n",
      " 14  last_seen           50000 non-null  object\n",
      "dtypes: int64(5), object(10)\n",
      "memory usage: 5.7+ MB\n"
     ]
    }
   ],
   "source": [
    "autos.info()"
   ]
  },
  {
   "cell_type": "markdown",
   "metadata": {},
   "source": [
    "The data is cleaned, the next step is to understand the data, for this we will start with the mileage of the vehicles in the data set.\n",
    "\n",
    "\n",
    "### 3.1 Exploring the `odometer_km`"
   ]
  },
  {
   "cell_type": "code",
   "execution_count": 24,
   "metadata": {},
   "outputs": [
    {
     "data": {
      "text/plain": [
       "array([150000,  70000,  50000,  80000,  10000,  30000, 125000,  90000,\n",
       "        20000,  60000,   5000, 100000,  40000])"
      ]
     },
     "execution_count": 24,
     "metadata": {},
     "output_type": "execute_result"
    }
   ],
   "source": [
    "autos['odometer_km'].unique()"
   ]
  },
  {
   "cell_type": "code",
   "execution_count": 25,
   "metadata": {},
   "outputs": [
    {
     "data": {
      "text/plain": [
       "(13,)"
      ]
     },
     "execution_count": 25,
     "metadata": {},
     "output_type": "execute_result"
    }
   ],
   "source": [
    "autos['odometer_km'].unique().shape"
   ]
  },
  {
   "cell_type": "code",
   "execution_count": 26,
   "metadata": {},
   "outputs": [
    {
     "data": {
      "text/plain": [
       "150000    32424\n",
       "125000     5170\n",
       "100000     2169\n",
       "90000      1757\n",
       "80000      1436\n",
       "70000      1230\n",
       "60000      1164\n",
       "50000      1027\n",
       "40000       819\n",
       "30000       789\n",
       "20000       784\n",
       "10000       264\n",
       "5000        967\n",
       "Name: odometer_km, dtype: int64"
      ]
     },
     "execution_count": 26,
     "metadata": {},
     "output_type": "execute_result"
    }
   ],
   "source": [
    "autos['odometer_km'].value_counts().sort_index(ascending = False)"
   ]
  },
  {
   "cell_type": "markdown",
   "metadata": {},
   "source": [
    "#### Upper limit `odometer_km`"
   ]
  },
  {
   "cell_type": "code",
   "execution_count": 27,
   "metadata": {},
   "outputs": [
    {
     "data": {
      "text/plain": [
       "150000    32424\n",
       "125000     5170\n",
       "100000     2169\n",
       "90000      1757\n",
       "80000      1436\n",
       "Name: odometer_km, dtype: int64"
      ]
     },
     "execution_count": 27,
     "metadata": {},
     "output_type": "execute_result"
    }
   ],
   "source": [
    "autos['odometer_km'].value_counts().sort_index(ascending = False).head(5)"
   ]
  },
  {
   "cell_type": "markdown",
   "metadata": {},
   "source": [
    "#### Lower limit `odometer_km`"
   ]
  },
  {
   "cell_type": "code",
   "execution_count": 28,
   "metadata": {},
   "outputs": [
    {
     "data": {
      "text/plain": [
       "5000     967\n",
       "10000    264\n",
       "20000    784\n",
       "30000    789\n",
       "40000    819\n",
       "Name: odometer_km, dtype: int64"
      ]
     },
     "execution_count": 28,
     "metadata": {},
     "output_type": "execute_result"
    }
   ],
   "source": [
    "autos['odometer_km'].value_counts().sort_index(ascending = True).head(5)"
   ]
  },
  {
   "cell_type": "code",
   "execution_count": 29,
   "metadata": {},
   "outputs": [
    {
     "data": {
      "text/plain": [
       "count     50000.0\n",
       "mean     125733.0\n",
       "std       40042.0\n",
       "min        5000.0\n",
       "25%      125000.0\n",
       "50%      150000.0\n",
       "75%      150000.0\n",
       "max      150000.0\n",
       "Name: odometer_km, dtype: float64"
      ]
     },
     "execution_count": 29,
     "metadata": {},
     "output_type": "execute_result"
    }
   ],
   "source": [
    "autos[\"odometer_km\"].describe().round()"
   ]
  },
  {
   "cell_type": "markdown",
   "metadata": {},
   "source": [
    "There do not appear to be outliers in this column `odometer_km`"
   ]
  },
  {
   "cell_type": "markdown",
   "metadata": {},
   "source": [
    "### 3.2 Exploring the `price_in_dollar`"
   ]
  },
  {
   "cell_type": "code",
   "execution_count": 30,
   "metadata": {},
   "outputs": [
    {
     "data": {
      "text/plain": [
       "(2357,)"
      ]
     },
     "execution_count": 30,
     "metadata": {},
     "output_type": "execute_result"
    }
   ],
   "source": [
    "autos['price_in_dollars'].unique().shape"
   ]
  },
  {
   "cell_type": "markdown",
   "metadata": {},
   "source": [
    "###  3.2.1 Upper limit `price_in_dollars` detecting outlyers"
   ]
  },
  {
   "cell_type": "code",
   "execution_count": 31,
   "metadata": {},
   "outputs": [
    {
     "data": {
      "text/plain": [
       "99999999    1\n",
       "27322222    1\n",
       "12345678    3\n",
       "11111111    2\n",
       "10000000    1\n",
       "3890000     1\n",
       "1300000     1\n",
       "1234566     1\n",
       "999999      2\n",
       "999990      1\n",
       "350000      1\n",
       "345000      1\n",
       "299000      1\n",
       "295000      1\n",
       "265000      1\n",
       "Name: price_in_dollars, dtype: int64"
      ]
     },
     "execution_count": 31,
     "metadata": {},
     "output_type": "execute_result"
    }
   ],
   "source": [
    "autos['price_in_dollars'].value_counts().sort_index(ascending = False).head(15)"
   ]
  },
  {
   "cell_type": "markdown",
   "metadata": {},
   "source": [
    "Let's see to which vehicle if the lowest value value of **265000** $ is a certain value. \n",
    "\n",
    "In the event that this price is consistent with the vehicle, we can take it as a reference."
   ]
  },
  {
   "cell_type": "code",
   "execution_count": 32,
   "metadata": {},
   "outputs": [
    {
     "data": {
      "text/html": [
       "<div>\n",
       "<style scoped>\n",
       "    .dataframe tbody tr th:only-of-type {\n",
       "        vertical-align: middle;\n",
       "    }\n",
       "\n",
       "    .dataframe tbody tr th {\n",
       "        vertical-align: top;\n",
       "    }\n",
       "\n",
       "    .dataframe thead th {\n",
       "        text-align: right;\n",
       "    }\n",
       "</style>\n",
       "<table border=\"1\" class=\"dataframe\">\n",
       "  <thead>\n",
       "    <tr style=\"text-align: right;\">\n",
       "      <th></th>\n",
       "      <th>date_crawled</th>\n",
       "      <th>name</th>\n",
       "      <th>price_in_dollars</th>\n",
       "      <th>vehicle_type</th>\n",
       "      <th>registration_year</th>\n",
       "      <th>gearbox</th>\n",
       "      <th>CV</th>\n",
       "      <th>model</th>\n",
       "      <th>odometer_km</th>\n",
       "      <th>registration_month</th>\n",
       "      <th>fuel_type</th>\n",
       "      <th>brand</th>\n",
       "      <th>unrepaired_damage</th>\n",
       "      <th>ad_created</th>\n",
       "      <th>last_seen</th>\n",
       "    </tr>\n",
       "  </thead>\n",
       "  <tbody>\n",
       "    <tr>\n",
       "      <th>12682</th>\n",
       "      <td>2016-03-28 22:48:01</td>\n",
       "      <td>Porsche_GT3_RS__PCCB__Lift___grosser_Exklusiv_...</td>\n",
       "      <td>265000</td>\n",
       "      <td>coupe</td>\n",
       "      <td>2016</td>\n",
       "      <td>automatik</td>\n",
       "      <td>500</td>\n",
       "      <td>911</td>\n",
       "      <td>5000</td>\n",
       "      <td>3</td>\n",
       "      <td>benzin</td>\n",
       "      <td>porsche</td>\n",
       "      <td>nein</td>\n",
       "      <td>2016-03-28 00:00:00</td>\n",
       "      <td>2016-04-05 03:44:51</td>\n",
       "    </tr>\n",
       "  </tbody>\n",
       "</table>\n",
       "</div>"
      ],
      "text/plain": [
       "              date_crawled                                               name  \\\n",
       "12682  2016-03-28 22:48:01  Porsche_GT3_RS__PCCB__Lift___grosser_Exklusiv_...   \n",
       "\n",
       "       price_in_dollars vehicle_type  registration_year    gearbox   CV model  \\\n",
       "12682            265000        coupe               2016  automatik  500   911   \n",
       "\n",
       "       odometer_km  registration_month fuel_type    brand unrepaired_damage  \\\n",
       "12682         5000                   3    benzin  porsche              nein   \n",
       "\n",
       "                ad_created            last_seen  \n",
       "12682  2016-03-28 00:00:00  2016-04-05 03:44:51  "
      ]
     },
     "execution_count": 32,
     "metadata": {},
     "output_type": "execute_result"
    }
   ],
   "source": [
    "autos[autos[\"price_in_dollars\"] == 265000]"
   ]
  },
  {
   "cell_type": "markdown",
   "metadata": {},
   "source": [
    "It makes sense, so we will use our comparison from this value upwards and see what we find.\n",
    "\n",
    "https://www.carindigo.com/used-cars/porsche-911-gt3-rs\n",
    "\n",
    "<br>\n",
    "\n",
    "As there are not too many values to check, it seems sensible to start from this model and see what we can eliminate and what we cannot.\n",
    "\n",
    "Let's see which vehicles are above this one, **creating a new dataset variable** `top_list` to work with."
   ]
  },
  {
   "cell_type": "code",
   "execution_count": 33,
   "metadata": {
    "scrolled": true
   },
   "outputs": [],
   "source": [
    "top_list = autos[(autos[\"price_in_dollars\"] >= 265000)].sort_index(ascending = False)"
   ]
  },
  {
   "cell_type": "code",
   "execution_count": 34,
   "metadata": {},
   "outputs": [
    {
     "data": {
      "text/html": [
       "<div>\n",
       "<style scoped>\n",
       "    .dataframe tbody tr th:only-of-type {\n",
       "        vertical-align: middle;\n",
       "    }\n",
       "\n",
       "    .dataframe tbody tr th {\n",
       "        vertical-align: top;\n",
       "    }\n",
       "\n",
       "    .dataframe thead th {\n",
       "        text-align: right;\n",
       "    }\n",
       "</style>\n",
       "<table border=\"1\" class=\"dataframe\">\n",
       "  <thead>\n",
       "    <tr style=\"text-align: right;\">\n",
       "      <th></th>\n",
       "      <th>price_in_dollars</th>\n",
       "      <th>brand</th>\n",
       "      <th>model</th>\n",
       "      <th>vehicle_type</th>\n",
       "    </tr>\n",
       "  </thead>\n",
       "  <tbody>\n",
       "    <tr>\n",
       "      <th>47634</th>\n",
       "      <td>3890000</td>\n",
       "      <td>sonstige_autos</td>\n",
       "      <td>NaN</td>\n",
       "      <td>coupe</td>\n",
       "    </tr>\n",
       "    <tr>\n",
       "      <th>47598</th>\n",
       "      <td>12345678</td>\n",
       "      <td>opel</td>\n",
       "      <td>vectra</td>\n",
       "      <td>limousine</td>\n",
       "    </tr>\n",
       "    <tr>\n",
       "      <th>43049</th>\n",
       "      <td>999999</td>\n",
       "      <td>volkswagen</td>\n",
       "      <td>transporter</td>\n",
       "      <td>bus</td>\n",
       "    </tr>\n",
       "    <tr>\n",
       "      <th>42221</th>\n",
       "      <td>27322222</td>\n",
       "      <td>citroen</td>\n",
       "      <td>c4</td>\n",
       "      <td>limousine</td>\n",
       "    </tr>\n",
       "    <tr>\n",
       "      <th>39705</th>\n",
       "      <td>99999999</td>\n",
       "      <td>mercedes_benz</td>\n",
       "      <td>s_klasse</td>\n",
       "      <td>limousine</td>\n",
       "    </tr>\n",
       "    <tr>\n",
       "      <th>39377</th>\n",
       "      <td>12345678</td>\n",
       "      <td>volvo</td>\n",
       "      <td>v40</td>\n",
       "      <td>NaN</td>\n",
       "    </tr>\n",
       "    <tr>\n",
       "      <th>37585</th>\n",
       "      <td>999990</td>\n",
       "      <td>volkswagen</td>\n",
       "      <td>jetta</td>\n",
       "      <td>limousine</td>\n",
       "    </tr>\n",
       "    <tr>\n",
       "      <th>36818</th>\n",
       "      <td>350000</td>\n",
       "      <td>porsche</td>\n",
       "      <td>911</td>\n",
       "      <td>coupe</td>\n",
       "    </tr>\n",
       "    <tr>\n",
       "      <th>35923</th>\n",
       "      <td>295000</td>\n",
       "      <td>porsche</td>\n",
       "      <td>911</td>\n",
       "      <td>cabrio</td>\n",
       "    </tr>\n",
       "    <tr>\n",
       "      <th>34723</th>\n",
       "      <td>299000</td>\n",
       "      <td>porsche</td>\n",
       "      <td>911</td>\n",
       "      <td>coupe</td>\n",
       "    </tr>\n",
       "    <tr>\n",
       "      <th>27371</th>\n",
       "      <td>12345678</td>\n",
       "      <td>fiat</td>\n",
       "      <td>punto</td>\n",
       "      <td>NaN</td>\n",
       "    </tr>\n",
       "    <tr>\n",
       "      <th>24384</th>\n",
       "      <td>11111111</td>\n",
       "      <td>volkswagen</td>\n",
       "      <td>NaN</td>\n",
       "      <td>NaN</td>\n",
       "    </tr>\n",
       "    <tr>\n",
       "      <th>22947</th>\n",
       "      <td>1234566</td>\n",
       "      <td>bmw</td>\n",
       "      <td>NaN</td>\n",
       "      <td>kombi</td>\n",
       "    </tr>\n",
       "    <tr>\n",
       "      <th>14715</th>\n",
       "      <td>345000</td>\n",
       "      <td>sonstige_autos</td>\n",
       "      <td>NaN</td>\n",
       "      <td>cabrio</td>\n",
       "    </tr>\n",
       "    <tr>\n",
       "      <th>12682</th>\n",
       "      <td>265000</td>\n",
       "      <td>porsche</td>\n",
       "      <td>911</td>\n",
       "      <td>coupe</td>\n",
       "    </tr>\n",
       "    <tr>\n",
       "      <th>11137</th>\n",
       "      <td>10000000</td>\n",
       "      <td>sonstige_autos</td>\n",
       "      <td>NaN</td>\n",
       "      <td>coupe</td>\n",
       "    </tr>\n",
       "    <tr>\n",
       "      <th>7814</th>\n",
       "      <td>1300000</td>\n",
       "      <td>sonstige_autos</td>\n",
       "      <td>NaN</td>\n",
       "      <td>coupe</td>\n",
       "    </tr>\n",
       "    <tr>\n",
       "      <th>2897</th>\n",
       "      <td>11111111</td>\n",
       "      <td>ford</td>\n",
       "      <td>escort</td>\n",
       "      <td>limousine</td>\n",
       "    </tr>\n",
       "    <tr>\n",
       "      <th>514</th>\n",
       "      <td>999999</td>\n",
       "      <td>ford</td>\n",
       "      <td>focus</td>\n",
       "      <td>kombi</td>\n",
       "    </tr>\n",
       "  </tbody>\n",
       "</table>\n",
       "</div>"
      ],
      "text/plain": [
       "       price_in_dollars           brand        model vehicle_type\n",
       "47634           3890000  sonstige_autos          NaN        coupe\n",
       "47598          12345678            opel       vectra    limousine\n",
       "43049            999999      volkswagen  transporter          bus\n",
       "42221          27322222         citroen           c4    limousine\n",
       "39705          99999999   mercedes_benz     s_klasse    limousine\n",
       "39377          12345678           volvo          v40          NaN\n",
       "37585            999990      volkswagen        jetta    limousine\n",
       "36818            350000         porsche          911        coupe\n",
       "35923            295000         porsche          911       cabrio\n",
       "34723            299000         porsche          911        coupe\n",
       "27371          12345678            fiat        punto          NaN\n",
       "24384          11111111      volkswagen          NaN          NaN\n",
       "22947           1234566             bmw          NaN        kombi\n",
       "14715            345000  sonstige_autos          NaN       cabrio\n",
       "12682            265000         porsche          911        coupe\n",
       "11137          10000000  sonstige_autos          NaN        coupe\n",
       "7814            1300000  sonstige_autos          NaN        coupe\n",
       "2897           11111111            ford       escort    limousine\n",
       "514              999999            ford        focus        kombi"
      ]
     },
     "execution_count": 34,
     "metadata": {},
     "output_type": "execute_result"
    }
   ],
   "source": [
    "top_list[[\"price_in_dollars\",\"brand\",\"model\",\"vehicle_type\"]].sort_index(ascending = False)"
   ]
  },
  {
   "cell_type": "markdown",
   "metadata": {},
   "source": [
    "### 3.2.1.1 Exploring price outliers on the top of the list:\n",
    "\n",
    "<br>\n",
    "\n",
    "There are vehicles that make sense to be on this list and that others clearly do not, for example: \n",
    "\n",
    "Strange values of 1234566, corresponding to a **BMW** or 11111111 to a **Volkswagen** even a ç**Citroen C4** that is worth 27322222. \n",
    "\n",
    "Clearly, these cases could be eliminated as error.\n",
    "\n",
    "However, there are some kind of vehicles called **'sonstige autos'** (mean **other cars in German**) that we are not aware of and because they have an important weight in the list it is important to clarify whether or not we should eliminate them.  "
   ]
  },
  {
   "cell_type": "code",
   "execution_count": 35,
   "metadata": {},
   "outputs": [
    {
     "data": {
      "text/html": [
       "<div>\n",
       "<style scoped>\n",
       "    .dataframe tbody tr th:only-of-type {\n",
       "        vertical-align: middle;\n",
       "    }\n",
       "\n",
       "    .dataframe tbody tr th {\n",
       "        vertical-align: top;\n",
       "    }\n",
       "\n",
       "    .dataframe thead th {\n",
       "        text-align: right;\n",
       "    }\n",
       "</style>\n",
       "<table border=\"1\" class=\"dataframe\">\n",
       "  <thead>\n",
       "    <tr style=\"text-align: right;\">\n",
       "      <th></th>\n",
       "      <th>date_crawled</th>\n",
       "      <th>name</th>\n",
       "      <th>price_in_dollars</th>\n",
       "      <th>vehicle_type</th>\n",
       "      <th>registration_year</th>\n",
       "      <th>gearbox</th>\n",
       "      <th>CV</th>\n",
       "      <th>model</th>\n",
       "      <th>odometer_km</th>\n",
       "      <th>registration_month</th>\n",
       "      <th>fuel_type</th>\n",
       "      <th>brand</th>\n",
       "      <th>unrepaired_damage</th>\n",
       "      <th>ad_created</th>\n",
       "      <th>last_seen</th>\n",
       "    </tr>\n",
       "  </thead>\n",
       "  <tbody>\n",
       "    <tr>\n",
       "      <th>47634</th>\n",
       "      <td>2016-04-04 21:25:21</td>\n",
       "      <td>Ferrari_FXX</td>\n",
       "      <td>3890000</td>\n",
       "      <td>coupe</td>\n",
       "      <td>2006</td>\n",
       "      <td>NaN</td>\n",
       "      <td>799</td>\n",
       "      <td>NaN</td>\n",
       "      <td>5000</td>\n",
       "      <td>7</td>\n",
       "      <td>NaN</td>\n",
       "      <td>sonstige_autos</td>\n",
       "      <td>nein</td>\n",
       "      <td>2016-04-04 00:00:00</td>\n",
       "      <td>2016-04-05 12:07:37</td>\n",
       "    </tr>\n",
       "    <tr>\n",
       "      <th>14715</th>\n",
       "      <td>2016-03-30 08:37:24</td>\n",
       "      <td>Rolls_Royce_Phantom_Drophead_Coupe</td>\n",
       "      <td>345000</td>\n",
       "      <td>cabrio</td>\n",
       "      <td>2012</td>\n",
       "      <td>automatik</td>\n",
       "      <td>460</td>\n",
       "      <td>NaN</td>\n",
       "      <td>20000</td>\n",
       "      <td>8</td>\n",
       "      <td>benzin</td>\n",
       "      <td>sonstige_autos</td>\n",
       "      <td>nein</td>\n",
       "      <td>2016-03-30 00:00:00</td>\n",
       "      <td>2016-04-07 00:16:26</td>\n",
       "    </tr>\n",
       "    <tr>\n",
       "      <th>11137</th>\n",
       "      <td>2016-03-29 23:52:57</td>\n",
       "      <td>suche_maserati_3200_gt_Zustand_unwichtig_laufe...</td>\n",
       "      <td>10000000</td>\n",
       "      <td>coupe</td>\n",
       "      <td>1960</td>\n",
       "      <td>manuell</td>\n",
       "      <td>368</td>\n",
       "      <td>NaN</td>\n",
       "      <td>100000</td>\n",
       "      <td>1</td>\n",
       "      <td>benzin</td>\n",
       "      <td>sonstige_autos</td>\n",
       "      <td>nein</td>\n",
       "      <td>2016-03-29 00:00:00</td>\n",
       "      <td>2016-04-06 21:18:11</td>\n",
       "    </tr>\n",
       "    <tr>\n",
       "      <th>7814</th>\n",
       "      <td>2016-04-04 11:53:31</td>\n",
       "      <td>Ferrari_F40</td>\n",
       "      <td>1300000</td>\n",
       "      <td>coupe</td>\n",
       "      <td>1992</td>\n",
       "      <td>NaN</td>\n",
       "      <td>0</td>\n",
       "      <td>NaN</td>\n",
       "      <td>50000</td>\n",
       "      <td>12</td>\n",
       "      <td>NaN</td>\n",
       "      <td>sonstige_autos</td>\n",
       "      <td>nein</td>\n",
       "      <td>2016-04-04 00:00:00</td>\n",
       "      <td>2016-04-05 11:34:11</td>\n",
       "    </tr>\n",
       "  </tbody>\n",
       "</table>\n",
       "</div>"
      ],
      "text/plain": [
       "              date_crawled                                               name  \\\n",
       "47634  2016-04-04 21:25:21                                        Ferrari_FXX   \n",
       "14715  2016-03-30 08:37:24                 Rolls_Royce_Phantom_Drophead_Coupe   \n",
       "11137  2016-03-29 23:52:57  suche_maserati_3200_gt_Zustand_unwichtig_laufe...   \n",
       "7814   2016-04-04 11:53:31                                        Ferrari_F40   \n",
       "\n",
       "       price_in_dollars vehicle_type  registration_year    gearbox   CV model  \\\n",
       "47634           3890000        coupe               2006        NaN  799   NaN   \n",
       "14715            345000       cabrio               2012  automatik  460   NaN   \n",
       "11137          10000000        coupe               1960    manuell  368   NaN   \n",
       "7814            1300000        coupe               1992        NaN    0   NaN   \n",
       "\n",
       "       odometer_km  registration_month fuel_type           brand  \\\n",
       "47634         5000                   7       NaN  sonstige_autos   \n",
       "14715        20000                   8    benzin  sonstige_autos   \n",
       "11137       100000                   1    benzin  sonstige_autos   \n",
       "7814         50000                  12       NaN  sonstige_autos   \n",
       "\n",
       "      unrepaired_damage           ad_created            last_seen  \n",
       "47634              nein  2016-04-04 00:00:00  2016-04-05 12:07:37  \n",
       "14715              nein  2016-03-30 00:00:00  2016-04-07 00:16:26  \n",
       "11137              nein  2016-03-29 00:00:00  2016-04-06 21:18:11  \n",
       "7814               nein  2016-04-04 00:00:00  2016-04-05 11:34:11  "
      ]
     },
     "execution_count": 35,
     "metadata": {},
     "output_type": "execute_result"
    }
   ],
   "source": [
    "top_list[top_list[\"brand\"] == \"sonstige_autos\"]"
   ]
  },
  {
   "cell_type": "markdown",
   "metadata": {},
   "source": [
    "### let's check if these prices correspond to reality"
   ]
  },
  {
   "cell_type": "markdown",
   "metadata": {},
   "source": [
    "| name | price in Dollars |registration_year | source |\n",
    "| :--- | :----------- |:------ | :--- |\n",
    "| Ferrari_FXX | 4,000,000| 2006 |https://www.autoblog.com/2006/06/14/for-sale-2006-ferrari-fxx-slightly-used/?guccounter=1 |\n",
    "| Rolls_Royce_Phantom_Drophead_Coupe | From 450,000 | 2012 | https://www.cars.com/shopping/rolls_royce-phantom_drophead_coupe-2012/ |\n",
    "|Ferrari_F40| 1,959,900 |1992 | https://www.dupontregistry.com/autos/listing/1992/ferrari/f40/2418434 |\n",
    "|Maserati 3200 GT|  | |  **Note** | "
   ]
  },
  {
   "cell_type": "markdown",
   "metadata": {},
   "source": [
    "**Note**: In relation to the Maserati, there are several things to consider.\n",
    "\n",
    "\n",
    "- The [3200 Gt](https://es.wikipedia.org/wiki/Maserati_3200_GT) model was in production during the period 1998 to 2001 so the registration date we have from 1960 does not match, however, during the period 1957 - 1964 only one model of this brand was produced, the  [3500 Gt](https://en.wikipedia.org/wiki/Maserati_3500_GT#:~:text=The%20Maserati%203500%20GT%20(Tipo,Maserati%20between%201957%20and%201964.), only 2,222 units were produced between the Coupe and the Spider version.\n",
    "\n",
    "- If we also take into account the description referred to in the cell of the name:\n",
    "\n",
    "     ***\" Zustand_unwichtig_laufe... // Condition_unimportant_running...\"***\n",
    "\n",
    "\n",
    "- The person who placed the advert was looking for a masserati in any condition (just running or not...), this gives us a clue that the model we are talking about is not the newest one, so probably refers to the 60's model.\n",
    "\n",
    "- As if this were not enough the price we have is 10 000 000 dollars and surely this is wrong because doing a search of what is the value of the car [I have found that this ranges between 863.170,50 USD / 151.290,57 USD](https://www.el-parking.es/coches-usados/maserati-3500-gt.html#!/coches-usados/maserati-3500-gt.html%3Ftri%3Dprix_decroissant)\n",
    "\n",
    "Therefore, the best thing I can think of is assign the <strong>'average between prices'</strong> to our vehicle.\n"
   ]
  },
  {
   "cell_type": "code",
   "execution_count": 36,
   "metadata": {},
   "outputs": [
    {
     "data": {
      "text/plain": [
       "date_crawled                                        2016-03-29 23:52:57\n",
       "name                  suche_maserati_3200_gt_Zustand_unwichtig_laufe...\n",
       "price_in_dollars                                               10000000\n",
       "vehicle_type                                                      coupe\n",
       "registration_year                                                  1960\n",
       "gearbox                                                         manuell\n",
       "CV                                                                  368\n",
       "model                                                               NaN\n",
       "odometer_km                                                      100000\n",
       "registration_month                                                    1\n",
       "fuel_type                                                        benzin\n",
       "brand                                                    sonstige_autos\n",
       "unrepaired_damage                                                  nein\n",
       "ad_created                                          2016-03-29 00:00:00\n",
       "last_seen                                           2016-04-06 21:18:11\n",
       "Name: 11137, dtype: object"
      ]
     },
     "execution_count": 36,
     "metadata": {},
     "output_type": "execute_result"
    }
   ],
   "source": [
    "autos.iloc[11137,:]"
   ]
  },
  {
   "cell_type": "markdown",
   "metadata": {},
   "source": [
    "Change the **'average between prices'** price of the Masserati = 507230$"
   ]
  },
  {
   "cell_type": "code",
   "execution_count": 37,
   "metadata": {},
   "outputs": [],
   "source": [
    "autos.iloc[11137,4] = 507230"
   ]
  },
  {
   "cell_type": "markdown",
   "metadata": {},
   "source": [
    "### removing rows from top list\n",
    "\n",
    "#### So... what do we have to remove from this top list?\n",
    "\n",
    "Everything other than \n",
    "\n",
    "If **'Sonstige_autos'** and **'Porsche'** remain, we will eliminate the others that are the ones that do not interest us"
   ]
  },
  {
   "cell_type": "code",
   "execution_count": 38,
   "metadata": {},
   "outputs": [],
   "source": [
    "removed_bad_price_bool = ((top_list[\"brand\"] != 'sonstige_autos') & (top_list[\"brand\"] != 'porsche'))"
   ]
  },
  {
   "cell_type": "markdown",
   "metadata": {},
   "source": [
    "These are the rows that we must eliminate"
   ]
  },
  {
   "cell_type": "code",
   "execution_count": 39,
   "metadata": {
    "scrolled": true
   },
   "outputs": [
    {
     "data": {
      "text/html": [
       "<div>\n",
       "<style scoped>\n",
       "    .dataframe tbody tr th:only-of-type {\n",
       "        vertical-align: middle;\n",
       "    }\n",
       "\n",
       "    .dataframe tbody tr th {\n",
       "        vertical-align: top;\n",
       "    }\n",
       "\n",
       "    .dataframe thead th {\n",
       "        text-align: right;\n",
       "    }\n",
       "</style>\n",
       "<table border=\"1\" class=\"dataframe\">\n",
       "  <thead>\n",
       "    <tr style=\"text-align: right;\">\n",
       "      <th></th>\n",
       "      <th>date_crawled</th>\n",
       "      <th>name</th>\n",
       "      <th>price_in_dollars</th>\n",
       "      <th>vehicle_type</th>\n",
       "      <th>registration_year</th>\n",
       "      <th>gearbox</th>\n",
       "      <th>CV</th>\n",
       "      <th>model</th>\n",
       "      <th>odometer_km</th>\n",
       "      <th>registration_month</th>\n",
       "      <th>fuel_type</th>\n",
       "      <th>brand</th>\n",
       "      <th>unrepaired_damage</th>\n",
       "      <th>ad_created</th>\n",
       "      <th>last_seen</th>\n",
       "    </tr>\n",
       "  </thead>\n",
       "  <tbody>\n",
       "    <tr>\n",
       "      <th>47598</th>\n",
       "      <td>2016-03-31 18:56:54</td>\n",
       "      <td>Opel_Vectra_B_1_6i_16V_Facelift_Tuning_Showcar...</td>\n",
       "      <td>12345678</td>\n",
       "      <td>limousine</td>\n",
       "      <td>2001</td>\n",
       "      <td>manuell</td>\n",
       "      <td>101</td>\n",
       "      <td>vectra</td>\n",
       "      <td>150000</td>\n",
       "      <td>3</td>\n",
       "      <td>benzin</td>\n",
       "      <td>opel</td>\n",
       "      <td>nein</td>\n",
       "      <td>2016-03-31 00:00:00</td>\n",
       "      <td>2016-03-31 18:56:54</td>\n",
       "    </tr>\n",
       "    <tr>\n",
       "      <th>43049</th>\n",
       "      <td>2016-03-21 19:53:52</td>\n",
       "      <td>2_VW_Busse_T3</td>\n",
       "      <td>999999</td>\n",
       "      <td>bus</td>\n",
       "      <td>1981</td>\n",
       "      <td>manuell</td>\n",
       "      <td>70</td>\n",
       "      <td>transporter</td>\n",
       "      <td>150000</td>\n",
       "      <td>1</td>\n",
       "      <td>benzin</td>\n",
       "      <td>volkswagen</td>\n",
       "      <td>NaN</td>\n",
       "      <td>2016-03-21 00:00:00</td>\n",
       "      <td>2016-03-28 17:18:28</td>\n",
       "    </tr>\n",
       "    <tr>\n",
       "      <th>42221</th>\n",
       "      <td>2016-03-08 20:39:05</td>\n",
       "      <td>Leasinguebernahme</td>\n",
       "      <td>27322222</td>\n",
       "      <td>limousine</td>\n",
       "      <td>2014</td>\n",
       "      <td>manuell</td>\n",
       "      <td>163</td>\n",
       "      <td>c4</td>\n",
       "      <td>40000</td>\n",
       "      <td>2</td>\n",
       "      <td>diesel</td>\n",
       "      <td>citroen</td>\n",
       "      <td>NaN</td>\n",
       "      <td>2016-03-08 00:00:00</td>\n",
       "      <td>2016-03-08 20:39:05</td>\n",
       "    </tr>\n",
       "    <tr>\n",
       "      <th>39705</th>\n",
       "      <td>2016-03-22 14:58:27</td>\n",
       "      <td>Tausch_gegen_gleichwertiges</td>\n",
       "      <td>99999999</td>\n",
       "      <td>limousine</td>\n",
       "      <td>1999</td>\n",
       "      <td>automatik</td>\n",
       "      <td>224</td>\n",
       "      <td>s_klasse</td>\n",
       "      <td>150000</td>\n",
       "      <td>9</td>\n",
       "      <td>benzin</td>\n",
       "      <td>mercedes_benz</td>\n",
       "      <td>NaN</td>\n",
       "      <td>2016-03-22 00:00:00</td>\n",
       "      <td>2016-04-06 05:15:30</td>\n",
       "    </tr>\n",
       "    <tr>\n",
       "      <th>39377</th>\n",
       "      <td>2016-03-08 23:53:51</td>\n",
       "      <td>Tausche_volvo_v40_gegen_van</td>\n",
       "      <td>12345678</td>\n",
       "      <td>NaN</td>\n",
       "      <td>2018</td>\n",
       "      <td>manuell</td>\n",
       "      <td>95</td>\n",
       "      <td>v40</td>\n",
       "      <td>150000</td>\n",
       "      <td>6</td>\n",
       "      <td>NaN</td>\n",
       "      <td>volvo</td>\n",
       "      <td>nein</td>\n",
       "      <td>2016-03-08 00:00:00</td>\n",
       "      <td>2016-04-06 23:17:31</td>\n",
       "    </tr>\n",
       "    <tr>\n",
       "      <th>37585</th>\n",
       "      <td>2016-03-29 11:38:54</td>\n",
       "      <td>Volkswagen_Jetta_GT</td>\n",
       "      <td>999990</td>\n",
       "      <td>limousine</td>\n",
       "      <td>1985</td>\n",
       "      <td>manuell</td>\n",
       "      <td>111</td>\n",
       "      <td>jetta</td>\n",
       "      <td>150000</td>\n",
       "      <td>12</td>\n",
       "      <td>benzin</td>\n",
       "      <td>volkswagen</td>\n",
       "      <td>ja</td>\n",
       "      <td>2016-03-29 00:00:00</td>\n",
       "      <td>2016-03-29 11:38:54</td>\n",
       "    </tr>\n",
       "    <tr>\n",
       "      <th>27371</th>\n",
       "      <td>2016-03-09 15:45:47</td>\n",
       "      <td>Fiat_Punto</td>\n",
       "      <td>12345678</td>\n",
       "      <td>NaN</td>\n",
       "      <td>2017</td>\n",
       "      <td>NaN</td>\n",
       "      <td>95</td>\n",
       "      <td>punto</td>\n",
       "      <td>150000</td>\n",
       "      <td>0</td>\n",
       "      <td>NaN</td>\n",
       "      <td>fiat</td>\n",
       "      <td>NaN</td>\n",
       "      <td>2016-03-09 00:00:00</td>\n",
       "      <td>2016-03-09 15:45:47</td>\n",
       "    </tr>\n",
       "    <tr>\n",
       "      <th>24384</th>\n",
       "      <td>2016-03-21 13:57:51</td>\n",
       "      <td>Schlachte_Golf_3_gt_tdi</td>\n",
       "      <td>11111111</td>\n",
       "      <td>NaN</td>\n",
       "      <td>1995</td>\n",
       "      <td>NaN</td>\n",
       "      <td>0</td>\n",
       "      <td>NaN</td>\n",
       "      <td>150000</td>\n",
       "      <td>0</td>\n",
       "      <td>NaN</td>\n",
       "      <td>volkswagen</td>\n",
       "      <td>NaN</td>\n",
       "      <td>2016-03-21 00:00:00</td>\n",
       "      <td>2016-03-21 14:40:18</td>\n",
       "    </tr>\n",
       "    <tr>\n",
       "      <th>22947</th>\n",
       "      <td>2016-03-22 12:54:19</td>\n",
       "      <td>Bmw_530d_zum_ausschlachten</td>\n",
       "      <td>1234566</td>\n",
       "      <td>kombi</td>\n",
       "      <td>1999</td>\n",
       "      <td>automatik</td>\n",
       "      <td>190</td>\n",
       "      <td>NaN</td>\n",
       "      <td>150000</td>\n",
       "      <td>2</td>\n",
       "      <td>diesel</td>\n",
       "      <td>bmw</td>\n",
       "      <td>NaN</td>\n",
       "      <td>2016-03-22 00:00:00</td>\n",
       "      <td>2016-04-02 03:17:32</td>\n",
       "    </tr>\n",
       "    <tr>\n",
       "      <th>2897</th>\n",
       "      <td>2016-03-12 21:50:57</td>\n",
       "      <td>Escort_MK_1_Hundeknochen_zum_umbauen_auf_RS_2000</td>\n",
       "      <td>11111111</td>\n",
       "      <td>limousine</td>\n",
       "      <td>1973</td>\n",
       "      <td>manuell</td>\n",
       "      <td>48</td>\n",
       "      <td>escort</td>\n",
       "      <td>50000</td>\n",
       "      <td>3</td>\n",
       "      <td>benzin</td>\n",
       "      <td>ford</td>\n",
       "      <td>nein</td>\n",
       "      <td>2016-03-12 00:00:00</td>\n",
       "      <td>2016-03-12 22:45:27</td>\n",
       "    </tr>\n",
       "    <tr>\n",
       "      <th>514</th>\n",
       "      <td>2016-03-17 09:53:08</td>\n",
       "      <td>Ford_Focus_Turnier_1.6_16V_Style</td>\n",
       "      <td>999999</td>\n",
       "      <td>kombi</td>\n",
       "      <td>2009</td>\n",
       "      <td>manuell</td>\n",
       "      <td>101</td>\n",
       "      <td>focus</td>\n",
       "      <td>125000</td>\n",
       "      <td>4</td>\n",
       "      <td>benzin</td>\n",
       "      <td>ford</td>\n",
       "      <td>nein</td>\n",
       "      <td>2016-03-17 00:00:00</td>\n",
       "      <td>2016-04-06 07:17:35</td>\n",
       "    </tr>\n",
       "  </tbody>\n",
       "</table>\n",
       "</div>"
      ],
      "text/plain": [
       "              date_crawled                                               name  \\\n",
       "47598  2016-03-31 18:56:54  Opel_Vectra_B_1_6i_16V_Facelift_Tuning_Showcar...   \n",
       "43049  2016-03-21 19:53:52                                      2_VW_Busse_T3   \n",
       "42221  2016-03-08 20:39:05                                  Leasinguebernahme   \n",
       "39705  2016-03-22 14:58:27                        Tausch_gegen_gleichwertiges   \n",
       "39377  2016-03-08 23:53:51                        Tausche_volvo_v40_gegen_van   \n",
       "37585  2016-03-29 11:38:54                                Volkswagen_Jetta_GT   \n",
       "27371  2016-03-09 15:45:47                                         Fiat_Punto   \n",
       "24384  2016-03-21 13:57:51                            Schlachte_Golf_3_gt_tdi   \n",
       "22947  2016-03-22 12:54:19                         Bmw_530d_zum_ausschlachten   \n",
       "2897   2016-03-12 21:50:57   Escort_MK_1_Hundeknochen_zum_umbauen_auf_RS_2000   \n",
       "514    2016-03-17 09:53:08                   Ford_Focus_Turnier_1.6_16V_Style   \n",
       "\n",
       "       price_in_dollars vehicle_type  registration_year    gearbox   CV  \\\n",
       "47598          12345678    limousine               2001    manuell  101   \n",
       "43049            999999          bus               1981    manuell   70   \n",
       "42221          27322222    limousine               2014    manuell  163   \n",
       "39705          99999999    limousine               1999  automatik  224   \n",
       "39377          12345678          NaN               2018    manuell   95   \n",
       "37585            999990    limousine               1985    manuell  111   \n",
       "27371          12345678          NaN               2017        NaN   95   \n",
       "24384          11111111          NaN               1995        NaN    0   \n",
       "22947           1234566        kombi               1999  automatik  190   \n",
       "2897           11111111    limousine               1973    manuell   48   \n",
       "514              999999        kombi               2009    manuell  101   \n",
       "\n",
       "             model  odometer_km  registration_month fuel_type          brand  \\\n",
       "47598       vectra       150000                   3    benzin           opel   \n",
       "43049  transporter       150000                   1    benzin     volkswagen   \n",
       "42221           c4        40000                   2    diesel        citroen   \n",
       "39705     s_klasse       150000                   9    benzin  mercedes_benz   \n",
       "39377          v40       150000                   6       NaN          volvo   \n",
       "37585        jetta       150000                  12    benzin     volkswagen   \n",
       "27371        punto       150000                   0       NaN           fiat   \n",
       "24384          NaN       150000                   0       NaN     volkswagen   \n",
       "22947          NaN       150000                   2    diesel            bmw   \n",
       "2897        escort        50000                   3    benzin           ford   \n",
       "514          focus       125000                   4    benzin           ford   \n",
       "\n",
       "      unrepaired_damage           ad_created            last_seen  \n",
       "47598              nein  2016-03-31 00:00:00  2016-03-31 18:56:54  \n",
       "43049               NaN  2016-03-21 00:00:00  2016-03-28 17:18:28  \n",
       "42221               NaN  2016-03-08 00:00:00  2016-03-08 20:39:05  \n",
       "39705               NaN  2016-03-22 00:00:00  2016-04-06 05:15:30  \n",
       "39377              nein  2016-03-08 00:00:00  2016-04-06 23:17:31  \n",
       "37585                ja  2016-03-29 00:00:00  2016-03-29 11:38:54  \n",
       "27371               NaN  2016-03-09 00:00:00  2016-03-09 15:45:47  \n",
       "24384               NaN  2016-03-21 00:00:00  2016-03-21 14:40:18  \n",
       "22947               NaN  2016-03-22 00:00:00  2016-04-02 03:17:32  \n",
       "2897               nein  2016-03-12 00:00:00  2016-03-12 22:45:27  \n",
       "514                nein  2016-03-17 00:00:00  2016-04-06 07:17:35  "
      ]
     },
     "execution_count": 39,
     "metadata": {},
     "output_type": "execute_result"
    }
   ],
   "source": [
    "bad_cars = top_list[removed_bad_price_bool]\n",
    "bad_cars"
   ]
  },
  {
   "cell_type": "markdown",
   "metadata": {},
   "source": [
    "#### Running the index of each row we eliminate the vehicles from the main dataset `autos`"
   ]
  },
  {
   "cell_type": "code",
   "execution_count": 40,
   "metadata": {},
   "outputs": [],
   "source": [
    "for bad in bad_cars.index:\n",
    "    autos.drop([bad], inplace = True)"
   ]
  },
  {
   "cell_type": "markdown",
   "metadata": {},
   "source": [
    "###  3.2.3 Exploring price outliers on the botton of the list:"
   ]
  },
  {
   "cell_type": "code",
   "execution_count": 41,
   "metadata": {},
   "outputs": [
    {
     "data": {
      "text/plain": [
       "count       49989.0\n",
       "mean         6025.0\n",
       "std         49134.0\n",
       "min             0.0\n",
       "25%          1100.0\n",
       "50%          2950.0\n",
       "75%          7200.0\n",
       "max      10000000.0\n",
       "Name: price_in_dollars, dtype: float64"
      ]
     },
     "execution_count": 41,
     "metadata": {},
     "output_type": "execute_result"
    }
   ],
   "source": [
    "autos[\"price_in_dollars\"].describe().round()"
   ]
  },
  {
   "cell_type": "markdown",
   "metadata": {},
   "source": [
    "### 3.3 The importance of a specific strip on our data set.\n",
    "\n",
    "#### The minimum value is 0 and we do not reach 25% of the total dataset the price does not reach 1100€.\n",
    "\n",
    "Let's see if prices vary a lot or if they are very spread out within this range (25%). "
   ]
  },
  {
   "cell_type": "code",
   "execution_count": 42,
   "metadata": {},
   "outputs": [
    {
     "data": {
      "text/html": [
       "<div>\n",
       "<style scoped>\n",
       "    .dataframe tbody tr th:only-of-type {\n",
       "        vertical-align: middle;\n",
       "    }\n",
       "\n",
       "    .dataframe tbody tr th {\n",
       "        vertical-align: top;\n",
       "    }\n",
       "\n",
       "    .dataframe thead th {\n",
       "        text-align: right;\n",
       "    }\n",
       "</style>\n",
       "<table border=\"1\" class=\"dataframe\">\n",
       "  <thead>\n",
       "    <tr style=\"text-align: right;\">\n",
       "      <th></th>\n",
       "      <th>price_in_dollars</th>\n",
       "      <th>registration_year</th>\n",
       "      <th>CV</th>\n",
       "      <th>odometer_km</th>\n",
       "      <th>registration_month</th>\n",
       "    </tr>\n",
       "  </thead>\n",
       "  <tbody>\n",
       "    <tr>\n",
       "      <th>count</th>\n",
       "      <td>12538.000000</td>\n",
       "      <td>12538.000000</td>\n",
       "      <td>12538.000000</td>\n",
       "      <td>12538.000000</td>\n",
       "      <td>12538.000000</td>\n",
       "    </tr>\n",
       "    <tr>\n",
       "      <th>mean</th>\n",
       "      <td>556.422396</td>\n",
       "      <td>2002.788563</td>\n",
       "      <td>74.677461</td>\n",
       "      <td>136162.466103</td>\n",
       "      <td>4.831552</td>\n",
       "    </tr>\n",
       "    <tr>\n",
       "      <th>std</th>\n",
       "      <td>339.147087</td>\n",
       "      <td>146.343951</td>\n",
       "      <td>174.629327</td>\n",
       "      <td>34988.383373</td>\n",
       "      <td>3.947714</td>\n",
       "    </tr>\n",
       "    <tr>\n",
       "      <th>min</th>\n",
       "      <td>0.000000</td>\n",
       "      <td>1111.000000</td>\n",
       "      <td>0.000000</td>\n",
       "      <td>5000.000000</td>\n",
       "      <td>0.000000</td>\n",
       "    </tr>\n",
       "    <tr>\n",
       "      <th>25%</th>\n",
       "      <td>300.000000</td>\n",
       "      <td>1996.000000</td>\n",
       "      <td>45.000000</td>\n",
       "      <td>150000.000000</td>\n",
       "      <td>1.000000</td>\n",
       "    </tr>\n",
       "    <tr>\n",
       "      <th>50%</th>\n",
       "      <td>599.000000</td>\n",
       "      <td>1999.000000</td>\n",
       "      <td>71.000000</td>\n",
       "      <td>150000.000000</td>\n",
       "      <td>4.000000</td>\n",
       "    </tr>\n",
       "    <tr>\n",
       "      <th>75%</th>\n",
       "      <td>850.000000</td>\n",
       "      <td>2001.000000</td>\n",
       "      <td>101.000000</td>\n",
       "      <td>150000.000000</td>\n",
       "      <td>8.000000</td>\n",
       "    </tr>\n",
       "    <tr>\n",
       "      <th>max</th>\n",
       "      <td>1100.000000</td>\n",
       "      <td>9999.000000</td>\n",
       "      <td>15016.000000</td>\n",
       "      <td>150000.000000</td>\n",
       "      <td>12.000000</td>\n",
       "    </tr>\n",
       "  </tbody>\n",
       "</table>\n",
       "</div>"
      ],
      "text/plain": [
       "       price_in_dollars  registration_year            CV    odometer_km  \\\n",
       "count      12538.000000       12538.000000  12538.000000   12538.000000   \n",
       "mean         556.422396        2002.788563     74.677461  136162.466103   \n",
       "std          339.147087         146.343951    174.629327   34988.383373   \n",
       "min            0.000000        1111.000000      0.000000    5000.000000   \n",
       "25%          300.000000        1996.000000     45.000000  150000.000000   \n",
       "50%          599.000000        1999.000000     71.000000  150000.000000   \n",
       "75%          850.000000        2001.000000    101.000000  150000.000000   \n",
       "max         1100.000000        9999.000000  15016.000000  150000.000000   \n",
       "\n",
       "       registration_month  \n",
       "count        12538.000000  \n",
       "mean             4.831552  \n",
       "std              3.947714  \n",
       "min              0.000000  \n",
       "25%              1.000000  \n",
       "50%              4.000000  \n",
       "75%              8.000000  \n",
       "max             12.000000  "
      ]
     },
     "execution_count": 42,
     "metadata": {},
     "output_type": "execute_result"
    }
   ],
   "source": [
    "autos[autos['price_in_dollars'].between(0,1100)].describe()"
   ]
  },
  {
   "cell_type": "markdown",
   "metadata": {},
   "source": [
    "if i want to the total sum of the price of these vehicles **in different price ranges**\n",
    "\n",
    "i.e. how much 75 of the 25 of the total."
   ]
  },
  {
   "cell_type": "code",
   "execution_count": 43,
   "metadata": {},
   "outputs": [
    {
     "data": {
      "text/plain": [
       "3227534"
      ]
     },
     "execution_count": 43,
     "metadata": {},
     "output_type": "execute_result"
    }
   ],
   "source": [
    "seventy_five = autos[autos['price_in_dollars'].between(850,1100)] #75% of the total 25%\n",
    "seventy_five.loc[:,'price_in_dollars'].sum()"
   ]
  },
  {
   "cell_type": "code",
   "execution_count": 44,
   "metadata": {},
   "outputs": [
    {
     "data": {
      "text/plain": [
       "2462601"
      ]
     },
     "execution_count": 44,
     "metadata": {},
     "output_type": "execute_result"
    }
   ],
   "source": [
    "fifty_percent = autos[autos['price_in_dollars'].between(599,850)] #50% of the total 25%\n",
    "fifty_percent.loc[:,'price_in_dollars'].sum()"
   ]
  },
  {
   "cell_type": "code",
   "execution_count": 45,
   "metadata": {},
   "outputs": [
    {
     "data": {
      "text/plain": [
       "1431649"
      ]
     },
     "execution_count": 45,
     "metadata": {},
     "output_type": "execute_result"
    }
   ],
   "source": [
    "cuart = autos[autos['price_in_dollars'].between(300,599)] #25% of the total 25%\n",
    "cuart.loc[:,'price_in_dollars'].sum()"
   ]
  },
  {
   "cell_type": "markdown",
   "metadata": {},
   "source": [
    "In this way the importance in the overall data set can be compared.\n",
    "\n",
    "\n",
    "| price ranges | price in Dollars | percentage over total |\n",
    "| :---          | :-----  | :-----      | \n",
    "| [850 ~  1100] | 3227534 | 1,095478069 % |\n",
    "| [599 ~ 850]   | 2462601 | 0,835847241 % |\n",
    "| [300 ~ 599]   | 1431649 | 0,485925193 % |"
   ]
  },
  {
   "cell_type": "markdown",
   "metadata": {},
   "source": [
    "It seems that it is not too relevant, so in order to take advantage of the maximum amount of information I will take into account a range that goes from the maximum that we have already defined before to **850 €.**\n",
    "\n",
    "Once we have the properlly data at the top and at the bottom, we make a clean copy of our dataframe and call it:\n",
    "\n",
    "- `auto_clean`"
   ]
  },
  {
   "cell_type": "code",
   "execution_count": 46,
   "metadata": {},
   "outputs": [],
   "source": [
    "auto_clean = autos[autos['price_in_dollars'].between(850,10000000)].copy()"
   ]
  },
  {
   "cell_type": "code",
   "execution_count": 47,
   "metadata": {},
   "outputs": [
    {
     "data": {
      "text/plain": [
       "count       40786.0\n",
       "mean         7293.0\n",
       "std         54315.0\n",
       "min           850.0\n",
       "25%          1950.0\n",
       "50%          3999.0\n",
       "75%          8500.0\n",
       "max      10000000.0\n",
       "Name: price_in_dollars, dtype: float64"
      ]
     },
     "execution_count": 47,
     "metadata": {},
     "output_type": "execute_result"
    }
   ],
   "source": [
    "auto_clean['price_in_dollars'].describe().round()"
   ]
  },
  {
   "cell_type": "markdown",
   "metadata": {},
   "source": [
    "## 4. Date columns\n",
    "\n",
    "These are the four columns that represent dates:\n",
    "\n",
    "- `date_crawled`\n",
    "\n",
    "- `ad_created`\n",
    "\n",
    "- `last_seen`\n",
    "\n",
    "- `registration_year`"
   ]
  },
  {
   "cell_type": "code",
   "execution_count": 48,
   "metadata": {},
   "outputs": [
    {
     "data": {
      "text/plain": [
       "dtype('int64')"
      ]
     },
     "execution_count": 48,
     "metadata": {},
     "output_type": "execute_result"
    }
   ],
   "source": [
    "auto_clean['registration_year'].dtype"
   ]
  },
  {
   "cell_type": "code",
   "execution_count": 49,
   "metadata": {},
   "outputs": [
    {
     "data": {
      "text/plain": [
       "dtype('O')"
      ]
     },
     "execution_count": 49,
     "metadata": {},
     "output_type": "execute_result"
    }
   ],
   "source": [
    "auto_clean['date_crawled'].dtype"
   ]
  },
  {
   "cell_type": "markdown",
   "metadata": {},
   "source": [
    "Columns with with two different types of data, numerical and type = ('O')\n",
    "\n",
    "The first character specifies the kind of data and the remaining characters specify the number of bytes per item, except for Unicode, where it is interpreted as the number of characters. \n",
    "\n",
    "The item size must correspond to an existing type, or an error will be raised. The supported kinds are to an existing type, or an error will be raised. The supported kinds are:\n",
    "\n",
    "|dtype|type|\n",
    "|:--|:--|\n",
    "|'b'       |boolean|\n",
    "|'i'       |(signed) integer|\n",
    "|'u'       |unsigned integer|\n",
    "|'f'       |floating-point|\n",
    "|'c'       |complex-floating point|\n",
    "|**'O'**       |**(Python) objects**|\n",
    "|'S', 'a'  |(byte-)string|\n",
    "|'U'       |Unicode|\n",
    "|'V'       |raw data (void)|"
   ]
  },
  {
   "cell_type": "markdown",
   "metadata": {},
   "source": [
    "Objects of this type are usually of type text strings.\n",
    "\n",
    "https://docs.scipy.org/doc/numpy-1.10.1/reference/arrays.dtypes.html"
   ]
  },
  {
   "cell_type": "code",
   "execution_count": 50,
   "metadata": {},
   "outputs": [
    {
     "data": {
      "text/html": [
       "<div>\n",
       "<style scoped>\n",
       "    .dataframe tbody tr th:only-of-type {\n",
       "        vertical-align: middle;\n",
       "    }\n",
       "\n",
       "    .dataframe tbody tr th {\n",
       "        vertical-align: top;\n",
       "    }\n",
       "\n",
       "    .dataframe thead th {\n",
       "        text-align: right;\n",
       "    }\n",
       "</style>\n",
       "<table border=\"1\" class=\"dataframe\">\n",
       "  <thead>\n",
       "    <tr style=\"text-align: right;\">\n",
       "      <th></th>\n",
       "      <th>date_crawled</th>\n",
       "      <th>ad_created</th>\n",
       "      <th>last_seen</th>\n",
       "    </tr>\n",
       "  </thead>\n",
       "  <tbody>\n",
       "    <tr>\n",
       "      <th>count</th>\n",
       "      <td>40786</td>\n",
       "      <td>40786</td>\n",
       "      <td>40786</td>\n",
       "    </tr>\n",
       "    <tr>\n",
       "      <th>unique</th>\n",
       "      <td>39611</td>\n",
       "      <td>76</td>\n",
       "      <td>32824</td>\n",
       "    </tr>\n",
       "    <tr>\n",
       "      <th>top</th>\n",
       "      <td>2016-03-08 10:40:35</td>\n",
       "      <td>2016-04-03 00:00:00</td>\n",
       "      <td>2016-04-07 06:17:27</td>\n",
       "    </tr>\n",
       "    <tr>\n",
       "      <th>freq</th>\n",
       "      <td>3</td>\n",
       "      <td>1608</td>\n",
       "      <td>7</td>\n",
       "    </tr>\n",
       "  </tbody>\n",
       "</table>\n",
       "</div>"
      ],
      "text/plain": [
       "               date_crawled           ad_created            last_seen\n",
       "count                 40786                40786                40786\n",
       "unique                39611                   76                32824\n",
       "top     2016-03-08 10:40:35  2016-04-03 00:00:00  2016-04-07 06:17:27\n",
       "freq                      3                 1608                    7"
      ]
     },
     "execution_count": 50,
     "metadata": {},
     "output_type": "execute_result"
    }
   ],
   "source": [
    "auto_clean[['date_crawled','ad_created','last_seen']].describe() # type text"
   ]
  },
  {
   "cell_type": "markdown",
   "metadata": {},
   "source": [
    "### 4.1 Text to datetime format\n",
    "\n",
    "We need to convert the data text into a in a time format so we can understand it quantitatively, and understand the distribution."
   ]
  },
  {
   "cell_type": "code",
   "execution_count": 51,
   "metadata": {},
   "outputs": [
    {
     "data": {
      "text/html": [
       "<div>\n",
       "<style scoped>\n",
       "    .dataframe tbody tr th:only-of-type {\n",
       "        vertical-align: middle;\n",
       "    }\n",
       "\n",
       "    .dataframe tbody tr th {\n",
       "        vertical-align: top;\n",
       "    }\n",
       "\n",
       "    .dataframe thead th {\n",
       "        text-align: right;\n",
       "    }\n",
       "</style>\n",
       "<table border=\"1\" class=\"dataframe\">\n",
       "  <thead>\n",
       "    <tr style=\"text-align: right;\">\n",
       "      <th></th>\n",
       "      <th>date_crawled</th>\n",
       "      <th>ad_created</th>\n",
       "      <th>last_seen</th>\n",
       "      <th>registration_year</th>\n",
       "    </tr>\n",
       "  </thead>\n",
       "  <tbody>\n",
       "    <tr>\n",
       "      <th>count</th>\n",
       "      <td>4.078600e+04</td>\n",
       "      <td>4.078600e+04</td>\n",
       "      <td>4.078600e+04</td>\n",
       "      <td>40786.000000</td>\n",
       "    </tr>\n",
       "    <tr>\n",
       "      <th>mean</th>\n",
       "      <td>2.016033e+07</td>\n",
       "      <td>2.016033e+07</td>\n",
       "      <td>2.016037e+07</td>\n",
       "      <td>2017.778184</td>\n",
       "    </tr>\n",
       "    <tr>\n",
       "      <th>std</th>\n",
       "      <td>3.209942e+01</td>\n",
       "      <td>1.180212e+02</td>\n",
       "      <td>4.190067e+01</td>\n",
       "      <td>2503.086461</td>\n",
       "    </tr>\n",
       "    <tr>\n",
       "      <th>min</th>\n",
       "      <td>2.016030e+07</td>\n",
       "      <td>2.015061e+07</td>\n",
       "      <td>2.016030e+07</td>\n",
       "      <td>1000.000000</td>\n",
       "    </tr>\n",
       "    <tr>\n",
       "      <th>25%</th>\n",
       "      <td>2.016031e+07</td>\n",
       "      <td>2.016031e+07</td>\n",
       "      <td>2.016032e+07</td>\n",
       "      <td>2000.000000</td>\n",
       "    </tr>\n",
       "    <tr>\n",
       "      <th>50%</th>\n",
       "      <td>2.016032e+07</td>\n",
       "      <td>2.016032e+07</td>\n",
       "      <td>2.016040e+07</td>\n",
       "      <td>2005.000000</td>\n",
       "    </tr>\n",
       "    <tr>\n",
       "      <th>75%</th>\n",
       "      <td>2.016033e+07</td>\n",
       "      <td>2.016033e+07</td>\n",
       "      <td>2.016041e+07</td>\n",
       "      <td>2009.000000</td>\n",
       "    </tr>\n",
       "    <tr>\n",
       "      <th>max</th>\n",
       "      <td>2.016041e+07</td>\n",
       "      <td>2.016041e+07</td>\n",
       "      <td>2.016041e+07</td>\n",
       "      <td>507230.000000</td>\n",
       "    </tr>\n",
       "  </tbody>\n",
       "</table>\n",
       "</div>"
      ],
      "text/plain": [
       "       date_crawled    ad_created     last_seen  registration_year\n",
       "count  4.078600e+04  4.078600e+04  4.078600e+04       40786.000000\n",
       "mean   2.016033e+07  2.016033e+07  2.016037e+07        2017.778184\n",
       "std    3.209942e+01  1.180212e+02  4.190067e+01        2503.086461\n",
       "min    2.016030e+07  2.015061e+07  2.016030e+07        1000.000000\n",
       "25%    2.016031e+07  2.016031e+07  2.016032e+07        2000.000000\n",
       "50%    2.016032e+07  2.016032e+07  2.016040e+07        2005.000000\n",
       "75%    2.016033e+07  2.016033e+07  2.016041e+07        2009.000000\n",
       "max    2.016041e+07  2.016041e+07  2.016041e+07      507230.000000"
      ]
     },
     "execution_count": 51,
     "metadata": {},
     "output_type": "execute_result"
    }
   ],
   "source": [
    "replace_columns = ['date_crawled', 'ad_created', 'last_seen']\n",
    "\n",
    "for column in replace_columns:\n",
    "    auto_clean[column] = auto_clean[column].str[:10]\n",
    "    auto_clean[column] = auto_clean[column].str.replace('-','')\n",
    "    auto_clean[column] = auto_clean[column].astype(int)\n",
    "    #auto_clean[column] = auto_clean[column].value_counts(normalize=True, dropna=False)\n",
    "    \n",
    "auto_clean[['date_crawled','ad_created','last_seen','registration_year']].describe()"
   ]
  },
  {
   "cell_type": "markdown",
   "metadata": {},
   "source": [
    "The first three columns are the ones that we have just modified give us an unclear information, the reason is that the date format of which we are working includes the month and the day and as pandas sees it as an integer of must appear the engineering notation.\n",
    "\n",
    "On the other hand, in column registration_year, even if it is of int type, we see that both the minimum value and the maximum value do not correspond to what should be the years of the registration of the vehicles.\n",
    "\n",
    "we will work with each of the series individually.\n",
    "\n",
    "### 4.1.1 Distribution of values in the `date_crawled`, `ad_created`, and `last_seen` columns"
   ]
  },
  {
   "cell_type": "code",
   "execution_count": 52,
   "metadata": {},
   "outputs": [
    {
     "data": {
      "text/plain": [
       "20160326"
      ]
     },
     "execution_count": 52,
     "metadata": {},
     "output_type": "execute_result"
    }
   ],
   "source": [
    "auto_clean['date_crawled'][2] # content series looks like..."
   ]
  },
  {
   "cell_type": "code",
   "execution_count": 53,
   "metadata": {},
   "outputs": [],
   "source": [
    "import datetime as dt"
   ]
  },
  {
   "cell_type": "markdown",
   "metadata": {},
   "source": [
    "### date_crawled"
   ]
  },
  {
   "cell_type": "code",
   "execution_count": 54,
   "metadata": {},
   "outputs": [],
   "source": [
    "var_date_crawled = auto_clean['date_crawled']"
   ]
  },
  {
   "cell_type": "code",
   "execution_count": 55,
   "metadata": {},
   "outputs": [],
   "source": [
    "auto_clean['date_crawled'] = pd.to_datetime(var_date_crawled,format='%Y%m%d')"
   ]
  },
  {
   "cell_type": "code",
   "execution_count": 56,
   "metadata": {},
   "outputs": [
    {
     "name": "stderr",
     "output_type": "stream",
     "text": [
      "<ipython-input-56-2b991325700b>:1: FutureWarning: Treating datetime data as categorical rather than numeric in `.describe` is deprecated and will be removed in a future version of pandas. Specify `datetime_is_numeric=True` to silence this warning and adopt the future behavior now.\n",
      "  auto_clean['date_crawled'].describe()\n"
     ]
    },
    {
     "data": {
      "text/plain": [
       "count                   40786\n",
       "unique                     34\n",
       "top       2016-04-03 00:00:00\n",
       "freq                     1597\n",
       "first     2016-03-05 00:00:00\n",
       "last      2016-04-07 00:00:00\n",
       "Name: date_crawled, dtype: object"
      ]
     },
     "execution_count": 56,
     "metadata": {},
     "output_type": "execute_result"
    }
   ],
   "source": [
    "auto_clean['date_crawled'].describe()"
   ]
  },
  {
   "cell_type": "code",
   "execution_count": 57,
   "metadata": {
    "scrolled": true
   },
   "outputs": [
    {
     "data": {
      "text/plain": [
       "2016-04-03    3.915559\n",
       "2016-03-20    3.802775\n",
       "2016-03-21    3.743932\n",
       "2016-03-12    3.741480\n",
       "2016-04-04    3.680184\n",
       "2016-03-14    3.643407\n",
       "2016-04-02    3.623792\n",
       "2016-03-07    3.560045\n",
       "2016-03-28    3.520816\n",
       "2016-03-19    3.511009\n",
       "2016-04-01    3.442358\n",
       "2016-03-29    3.371255\n",
       "2016-03-15    3.363899\n",
       "2016-03-30    3.309959\n",
       "2016-03-10    3.307507\n",
       "2016-03-26    3.287893\n",
       "2016-03-22    3.280537\n",
       "2016-03-08    3.268278\n",
       "2016-03-11    3.265827\n",
       "2016-03-09    3.246212\n",
       "2016-03-23    3.231501\n",
       "2016-03-27    3.130976\n",
       "2016-03-31    3.126073\n",
       "2016-03-17    3.077036\n",
       "2016-03-25    3.072133\n",
       "2016-03-16    2.917668\n",
       "2016-03-24    2.895601\n",
       "2016-03-05    2.557250\n",
       "2016-03-13    1.603491\n",
       "2016-03-06    1.414701\n",
       "2016-04-05    1.326436\n",
       "2016-03-18    1.292110\n",
       "2016-04-06    0.321189\n",
       "2016-04-07    0.147109\n",
       "Name: date_crawled, dtype: float64"
      ]
     },
     "execution_count": 57,
     "metadata": {},
     "output_type": "execute_result"
    }
   ],
   "source": [
    "auto_clean['date_crawled'].value_counts(normalize=True, dropna=False)*100"
   ]
  },
  {
   "cell_type": "markdown",
   "metadata": {},
   "source": [
    "### ad_created"
   ]
  },
  {
   "cell_type": "code",
   "execution_count": 58,
   "metadata": {},
   "outputs": [],
   "source": [
    "var_date_crawled = auto_clean['ad_created']"
   ]
  },
  {
   "cell_type": "code",
   "execution_count": 59,
   "metadata": {},
   "outputs": [],
   "source": [
    "auto_clean['ad_created'] = pd.to_datetime(var_date_crawled,format='%Y%m%d')"
   ]
  },
  {
   "cell_type": "code",
   "execution_count": 60,
   "metadata": {},
   "outputs": [
    {
     "name": "stderr",
     "output_type": "stream",
     "text": [
      "<ipython-input-60-5c928425734b>:1: FutureWarning: Treating datetime data as categorical rather than numeric in `.describe` is deprecated and will be removed in a future version of pandas. Specify `datetime_is_numeric=True` to silence this warning and adopt the future behavior now.\n",
      "  auto_clean['ad_created'].describe()\n"
     ]
    },
    {
     "data": {
      "text/plain": [
       "count                   40786\n",
       "unique                     76\n",
       "top       2016-04-03 00:00:00\n",
       "freq                     1608\n",
       "first     2015-06-11 00:00:00\n",
       "last      2016-04-07 00:00:00\n",
       "Name: ad_created, dtype: object"
      ]
     },
     "execution_count": 60,
     "metadata": {},
     "output_type": "execute_result"
    }
   ],
   "source": [
    "auto_clean['ad_created'].describe()"
   ]
  },
  {
   "cell_type": "code",
   "execution_count": 61,
   "metadata": {},
   "outputs": [
    {
     "data": {
      "text/plain": [
       "2016-04-03    3.942529\n",
       "2016-03-20    3.815035\n",
       "2016-03-21    3.768450\n",
       "2016-03-12    3.726769\n",
       "2016-04-04    3.719414\n",
       "                ...   \n",
       "2016-02-01    0.002452\n",
       "2016-01-22    0.002452\n",
       "2016-01-29    0.002452\n",
       "2015-11-10    0.002452\n",
       "2016-02-16    0.002452\n",
       "Name: ad_created, Length: 76, dtype: float64"
      ]
     },
     "execution_count": 61,
     "metadata": {},
     "output_type": "execute_result"
    }
   ],
   "source": [
    "auto_clean['ad_created'].value_counts(normalize=True, dropna=False)*100"
   ]
  },
  {
   "cell_type": "markdown",
   "metadata": {},
   "source": [
    "### last_seen"
   ]
  },
  {
   "cell_type": "code",
   "execution_count": 62,
   "metadata": {},
   "outputs": [],
   "source": [
    "var_date_crawled = auto_clean['last_seen']"
   ]
  },
  {
   "cell_type": "code",
   "execution_count": 63,
   "metadata": {},
   "outputs": [],
   "source": [
    "auto_clean['last_seen'] = pd.to_datetime(var_date_crawled,format='%Y%m%d')"
   ]
  },
  {
   "cell_type": "code",
   "execution_count": 64,
   "metadata": {},
   "outputs": [
    {
     "name": "stderr",
     "output_type": "stream",
     "text": [
      "<ipython-input-64-7ab2b317ab32>:1: FutureWarning: Treating datetime data as categorical rather than numeric in `.describe` is deprecated and will be removed in a future version of pandas. Specify `datetime_is_numeric=True` to silence this warning and adopt the future behavior now.\n",
      "  auto_clean['last_seen'].describe()\n"
     ]
    },
    {
     "data": {
      "text/plain": [
       "count                   40786\n",
       "unique                     34\n",
       "top       2016-04-06 00:00:00\n",
       "freq                     9444\n",
       "first     2016-03-05 00:00:00\n",
       "last      2016-04-07 00:00:00\n",
       "Name: last_seen, dtype: object"
      ]
     },
     "execution_count": 64,
     "metadata": {},
     "output_type": "execute_result"
    }
   ],
   "source": [
    "auto_clean['last_seen'].describe()"
   ]
  },
  {
   "cell_type": "code",
   "execution_count": 65,
   "metadata": {
    "scrolled": true
   },
   "outputs": [
    {
     "data": {
      "text/plain": [
       "2016-04-06    23.155004\n",
       "2016-04-07    13.742461\n",
       "2016-04-05    12.955426\n",
       "2016-03-17     2.670034\n",
       "2016-04-02     2.542539\n",
       "2016-04-03     2.456725\n",
       "2016-04-04     2.353749\n",
       "2016-03-30     2.353749\n",
       "2016-03-31     2.299809\n",
       "2016-04-01     2.299809\n",
       "2016-03-12     2.275291\n",
       "2016-03-29     2.106115\n",
       "2016-03-22     2.098759\n",
       "2016-03-21     2.030108\n",
       "2016-03-20     1.981072\n",
       "2016-03-28     1.978620\n",
       "2016-03-24     1.892806\n",
       "2016-03-23     1.826607\n",
       "2016-03-25     1.814348\n",
       "2016-03-26     1.596136\n",
       "2016-03-16     1.561810\n",
       "2016-03-15     1.510322\n",
       "2016-03-19     1.493159\n",
       "2016-03-27     1.485804\n",
       "2016-03-14     1.203844\n",
       "2016-03-11     1.162163\n",
       "2016-03-10     1.012602\n",
       "2016-03-09     0.912078\n",
       "2016-03-13     0.858138\n",
       "2016-03-18     0.747806\n",
       "2016-03-08     0.652185\n",
       "2016-03-07     0.478105\n",
       "2016-03-06     0.380032\n",
       "2016-03-05     0.112784\n",
       "Name: last_seen, dtype: float64"
      ]
     },
     "execution_count": 65,
     "metadata": {},
     "output_type": "execute_result"
    }
   ],
   "source": [
    "auto_clean['last_seen'].value_counts(normalize=True, dropna=False)*100"
   ]
  },
  {
   "cell_type": "markdown",
   "metadata": {},
   "source": [
    "### 4.1.2 Selecting the upper and lower limit `registration_year`\n",
    "\n",
    "In the column of when the cars were registered it is convenient to look at the upper and lower limits to determine the time interval in which we are working."
   ]
  },
  {
   "cell_type": "code",
   "execution_count": 66,
   "metadata": {},
   "outputs": [
    {
     "data": {
      "text/plain": [
       "507230       1\n",
       "9999         2\n",
       "9000         1\n",
       "8888         1\n",
       "6200         1\n",
       "5911         1\n",
       "5000         2\n",
       "4500         1\n",
       "4100         1\n",
       "2800         1\n",
       "2019         1\n",
       "2018       435\n",
       "2017      1113\n",
       "2016       733\n",
       "2015       362\n",
       "2014       649\n",
       "2013       795\n",
       "2012      1306\n",
       "2011      1617\n",
       "2010      1585\n",
       "Name: registration_year, dtype: int64"
      ]
     },
     "execution_count": 66,
     "metadata": {},
     "output_type": "execute_result"
    }
   ],
   "source": [
    "auto_clean['registration_year'].value_counts().sort_index(ascending = False).head(20)"
   ]
  },
  {
   "cell_type": "code",
   "execution_count": 67,
   "metadata": {
    "scrolled": true
   },
   "outputs": [
    {
     "data": {
      "text/plain": [
       "1967    25\n",
       "1966    21\n",
       "1965    17\n",
       "1964     9\n",
       "1963     8\n",
       "1962     4\n",
       "1961     6\n",
       "1960    18\n",
       "1959     6\n",
       "1958     4\n",
       "1957     2\n",
       "1956     4\n",
       "1955     2\n",
       "1954     2\n",
       "1953     1\n",
       "1952     1\n",
       "1951     2\n",
       "1950     1\n",
       "1948     1\n",
       "1943     1\n",
       "1941     2\n",
       "1939     1\n",
       "1938     1\n",
       "1937     4\n",
       "1934     2\n",
       "1931     1\n",
       "1929     1\n",
       "1927     1\n",
       "1001     1\n",
       "1000     1\n",
       "Name: registration_year, dtype: int64"
      ]
     },
     "execution_count": 67,
     "metadata": {},
     "output_type": "execute_result"
    }
   ],
   "source": [
    "auto_clean['registration_year'].value_counts().sort_index(ascending = False).tail(30)"
   ]
  },
  {
   "cell_type": "markdown",
   "metadata": {},
   "source": [
    "The maximum and minimum dates are wrong.\n",
    "\n",
    "\n",
    "\n",
    "\n",
    "\n",
    "\n",
    "although in this column we see that there are values until 2018, We see that beyond 2016 the values of the dates do not make sense, however we must remember that the data capture was done in 2016  thats the reason  those dates do not exist we should limit the highest year to 2016.\n",
    "\n",
    "Any vehicle with a registration year above 2016 is inaccurate. \n",
    "\n",
    "Determining the earliest valid year is more difficult. Realistically, it could be somewhere in the first few decades of the 1900s, let's set a time slot between 1959,2016.\n",
    "\n",
    "Let's count the number of listings with cars that fall outside the 1900 - 2016 interval and see if it's safe to remove those rows entirely, or if we need more custom logic."
   ]
  },
  {
   "cell_type": "code",
   "execution_count": 68,
   "metadata": {},
   "outputs": [],
   "source": [
    "years = auto_clean['registration_year'].between(1959,2016)"
   ]
  },
  {
   "cell_type": "code",
   "execution_count": 69,
   "metadata": {},
   "outputs": [],
   "source": [
    "auto_clean['registration_year'] = auto_clean[years]['registration_year']"
   ]
  },
  {
   "cell_type": "code",
   "execution_count": 70,
   "metadata": {
    "scrolled": true
   },
   "outputs": [
    {
     "data": {
      "text/plain": [
       "2005.0    6.904330\n",
       "2006.0    6.521846\n",
       "2004.0    6.485068\n",
       "2003.0    6.239886\n",
       "2000.0    5.572991\n",
       "2001.0    5.558280\n",
       "2007.0    5.543569\n",
       "2002.0    5.536213\n",
       "2008.0    5.406267\n",
       "2009.0    5.089982\n",
       "1999.0    4.925710\n",
       "2011.0    3.964596\n",
       "NaN       3.915559\n",
       "2010.0    3.886137\n",
       "1998.0    3.758643\n",
       "2012.0    3.202079\n",
       "1997.0    2.454274\n",
       "2013.0    1.949198\n",
       "2016.0    1.797185\n",
       "1996.0    1.659883\n",
       "2014.0    1.591232\n",
       "1995.0    1.333791\n",
       "2015.0    0.887559\n",
       "1994.0    0.806649\n",
       "1993.0    0.610504\n",
       "1992.0    0.603148\n",
       "1991.0    0.559015\n",
       "1990.0    0.522238\n",
       "1989.0    0.326092\n",
       "1988.0    0.284411\n",
       "1985.0    0.203501\n",
       "1980.0    0.174079\n",
       "1986.0    0.139754\n",
       "1987.0    0.139754\n",
       "1983.0    0.122591\n",
       "1984.0    0.117687\n",
       "1978.0    0.102977\n",
       "1982.0    0.095621\n",
       "1970.0    0.080910\n",
       "1979.0    0.076006\n",
       "1972.0    0.076006\n",
       "1981.0    0.066199\n",
       "1968.0    0.063747\n",
       "1967.0    0.061296\n",
       "1974.0    0.058844\n",
       "1971.0    0.058844\n",
       "1973.0    0.056392\n",
       "1966.0    0.051488\n",
       "1976.0    0.051488\n",
       "1977.0    0.051488\n",
       "1975.0    0.044133\n",
       "1969.0    0.044133\n",
       "1960.0    0.044133\n",
       "1965.0    0.041681\n",
       "1964.0    0.022066\n",
       "1963.0    0.019615\n",
       "1961.0    0.014711\n",
       "1959.0    0.014711\n",
       "1962.0    0.009807\n",
       "Name: registration_year, dtype: float64"
      ]
     },
     "execution_count": 70,
     "metadata": {},
     "output_type": "execute_result"
    }
   ],
   "source": [
    "auto_clean['registration_year'].value_counts(normalize=True, dropna=False)*100 # % of frecuency"
   ]
  },
  {
   "cell_type": "markdown",
   "metadata": {},
   "source": [
    "### Summary"
   ]
  },
  {
   "cell_type": "code",
   "execution_count": 71,
   "metadata": {},
   "outputs": [
    {
     "name": "stderr",
     "output_type": "stream",
     "text": [
      "<ipython-input-71-cda3796587cf>:1: FutureWarning: Treating datetime data as categorical rather than numeric in `.describe` is deprecated and will be removed in a future version of pandas. Specify `datetime_is_numeric=True` to silence this warning and adopt the future behavior now.\n",
      "  auto_clean[['date_crawled','ad_created','last_seen']].describe()\n"
     ]
    },
    {
     "data": {
      "text/html": [
       "<div>\n",
       "<style scoped>\n",
       "    .dataframe tbody tr th:only-of-type {\n",
       "        vertical-align: middle;\n",
       "    }\n",
       "\n",
       "    .dataframe tbody tr th {\n",
       "        vertical-align: top;\n",
       "    }\n",
       "\n",
       "    .dataframe thead th {\n",
       "        text-align: right;\n",
       "    }\n",
       "</style>\n",
       "<table border=\"1\" class=\"dataframe\">\n",
       "  <thead>\n",
       "    <tr style=\"text-align: right;\">\n",
       "      <th></th>\n",
       "      <th>date_crawled</th>\n",
       "      <th>ad_created</th>\n",
       "      <th>last_seen</th>\n",
       "    </tr>\n",
       "  </thead>\n",
       "  <tbody>\n",
       "    <tr>\n",
       "      <th>count</th>\n",
       "      <td>40786</td>\n",
       "      <td>40786</td>\n",
       "      <td>40786</td>\n",
       "    </tr>\n",
       "    <tr>\n",
       "      <th>unique</th>\n",
       "      <td>34</td>\n",
       "      <td>76</td>\n",
       "      <td>34</td>\n",
       "    </tr>\n",
       "    <tr>\n",
       "      <th>top</th>\n",
       "      <td>2016-04-03 00:00:00</td>\n",
       "      <td>2016-04-03 00:00:00</td>\n",
       "      <td>2016-04-06 00:00:00</td>\n",
       "    </tr>\n",
       "    <tr>\n",
       "      <th>freq</th>\n",
       "      <td>1597</td>\n",
       "      <td>1608</td>\n",
       "      <td>9444</td>\n",
       "    </tr>\n",
       "    <tr>\n",
       "      <th>first</th>\n",
       "      <td>2016-03-05 00:00:00</td>\n",
       "      <td>2015-06-11 00:00:00</td>\n",
       "      <td>2016-03-05 00:00:00</td>\n",
       "    </tr>\n",
       "    <tr>\n",
       "      <th>last</th>\n",
       "      <td>2016-04-07 00:00:00</td>\n",
       "      <td>2016-04-07 00:00:00</td>\n",
       "      <td>2016-04-07 00:00:00</td>\n",
       "    </tr>\n",
       "  </tbody>\n",
       "</table>\n",
       "</div>"
      ],
      "text/plain": [
       "               date_crawled           ad_created            last_seen\n",
       "count                 40786                40786                40786\n",
       "unique                   34                   76                   34\n",
       "top     2016-04-03 00:00:00  2016-04-03 00:00:00  2016-04-06 00:00:00\n",
       "freq                   1597                 1608                 9444\n",
       "first   2016-03-05 00:00:00  2015-06-11 00:00:00  2016-03-05 00:00:00\n",
       "last    2016-04-07 00:00:00  2016-04-07 00:00:00  2016-04-07 00:00:00"
      ]
     },
     "execution_count": 71,
     "metadata": {},
     "output_type": "execute_result"
    }
   ],
   "source": [
    "auto_clean[['date_crawled','ad_created','last_seen']].describe()"
   ]
  },
  {
   "cell_type": "markdown",
   "metadata": {},
   "source": [
    "Between March and April 2016 there was the highest activity on the site."
   ]
  },
  {
   "cell_type": "code",
   "execution_count": 72,
   "metadata": {},
   "outputs": [
    {
     "data": {
      "text/plain": [
       "count    39189.000000\n",
       "mean      2003.763939\n",
       "std          6.814238\n",
       "min       1959.000000\n",
       "25%       2000.000000\n",
       "50%       2004.000000\n",
       "75%       2008.000000\n",
       "max       2016.000000\n",
       "Name: registration_year, dtype: float64"
      ]
     },
     "execution_count": 72,
     "metadata": {},
     "output_type": "execute_result"
    }
   ],
   "source": [
    "auto_clean['registration_year'].describe()"
   ]
  },
  {
   "cell_type": "markdown",
   "metadata": {},
   "source": [
    "75% of the vehicles were registered in 2008."
   ]
  },
  {
   "cell_type": "code",
   "execution_count": 73,
   "metadata": {},
   "outputs": [
    {
     "data": {
      "text/plain": [
       "(2010.3, 2016.0]      13.4\n",
       "(2004.6, 2010.3]      33.4\n",
       "(1998.9, 2004.6]      34.3\n",
       "(1993.2, 1998.9]      10.0\n",
       "(1987.5, 1993.2]       2.9\n",
       "(1981.8, 1987.5]       0.8\n",
       "(1976.1, 1981.8]       0.5\n",
       "(1970.4, 1976.1]       0.3\n",
       "(1964.7, 1970.4]       0.3\n",
       "(1958.942, 1964.7]     0.1\n",
       "Name: registration_year, dtype: float64"
      ]
     },
     "execution_count": 73,
     "metadata": {},
     "output_type": "execute_result"
    }
   ],
   "source": [
    "auto_clean['registration_year'].value_counts(normalize=True,\n",
    "                                             dropna=False, \n",
    "                                             bins = 10).sort_index(ascending = False).round(3)*100"
   ]
  },
  {
   "cell_type": "markdown",
   "metadata": {},
   "source": [
    "This is the distribution of the dates of registration by groups of 10, in which we can see how the period between 2002 and 2007 is the one with the highest number of registrations. \n",
    "\n",
    "## 5. Price by Brand\n",
    "\n",
    "Brands with the highest number of vehicles on the sales list"
   ]
  },
  {
   "cell_type": "code",
   "execution_count": 74,
   "metadata": {},
   "outputs": [
    {
     "data": {
      "text/plain": [
       "volkswagen        8658\n",
       "bmw               4881\n",
       "mercedes_benz     4390\n",
       "opel              3846\n",
       "audi              3838\n",
       "ford              2488\n",
       "renault           1651\n",
       "peugeot           1135\n",
       "fiat               920\n",
       "seat               758\n",
       "skoda              734\n",
       "smart              667\n",
       "mazda              586\n",
       "citroen            582\n",
       "nissan             576\n",
       "toyota             575\n",
       "hyundai            427\n",
       "mini               415\n",
       "sonstige_autos     408\n",
       "volvo              366\n",
       "honda              311\n",
       "kia                309\n",
       "mitsubishi         292\n",
       "porsche            279\n",
       "alfa_romeo         263\n",
       "chevrolet          261\n",
       "suzuki             239\n",
       "chrysler           136\n",
       "dacia              128\n",
       "jeep               107\n",
       "land_rover          99\n",
       "daihatsu            80\n",
       "subaru              75\n",
       "jaguar              70\n",
       "saab                59\n",
       "daewoo              45\n",
       "trabant             38\n",
       "rover               35\n",
       "lancia              32\n",
       "lada                27\n",
       "Name: brand, dtype: int64"
      ]
     },
     "execution_count": 74,
     "metadata": {},
     "output_type": "execute_result"
    }
   ],
   "source": [
    "top_ten_brands=auto_clean['brand'].value_counts()\n",
    "top_ten_brands"
   ]
  },
  {
   "cell_type": "code",
   "execution_count": 75,
   "metadata": {},
   "outputs": [
    {
     "data": {
      "text/plain": [
       "Index(['volkswagen', 'bmw', 'mercedes_benz', 'opel', 'audi', 'ford', 'renault',\n",
       "       'peugeot', 'fiat', 'seat'],\n",
       "      dtype='object')"
      ]
     },
     "execution_count": 75,
     "metadata": {},
     "output_type": "execute_result"
    }
   ],
   "source": [
    "selected_brands=auto_clean['brand'].value_counts().index[:10]\n",
    "selected_brands"
   ]
  },
  {
   "cell_type": "markdown",
   "metadata": {},
   "source": [
    "I choose only the 10 first brands"
   ]
  },
  {
   "cell_type": "markdown",
   "metadata": {},
   "source": [
    "### 5.1 Average price per vehicle brand"
   ]
  },
  {
   "cell_type": "code",
   "execution_count": 76,
   "metadata": {},
   "outputs": [
    {
     "data": {
      "text/plain": [
       "[('audi', 9961.0),\n",
       " ('mercedes_benz', 9013.0),\n",
       " ('bmw', 8887.0),\n",
       " ('volkswagen', 6271.0),\n",
       " ('seat', 5137.0),\n",
       " ('ford', 4905.0),\n",
       " ('opel', 3864.0),\n",
       " ('peugeot', 3734.0),\n",
       " ('fiat', 3664.0),\n",
       " ('renault', 3227.0)]"
      ]
     },
     "execution_count": 76,
     "metadata": {},
     "output_type": "execute_result"
    }
   ],
   "source": [
    "brands_price = {}\n",
    "\n",
    "for brand in selected_brands:\n",
    "    sel_brand = auto_clean[auto_clean['brand'] == brand ]\n",
    "    brands_price[brand] = sel_brand['price_in_dollars'].mean().round()\n",
    "\n",
    "brands_price_sorted = sorted(brands_price.items(),key = lambda kv: kv[1],reverse=True)\n",
    "brands_price_sorted"
   ]
  },
  {
   "cell_type": "markdown",
   "metadata": {},
   "source": [
    "### 5.2 Average number of kilometers per vehicle brand "
   ]
  },
  {
   "cell_type": "code",
   "execution_count": 77,
   "metadata": {},
   "outputs": [
    {
     "data": {
      "text/plain": [
       "[('bmw', 132295.0),\n",
       " ('mercedes_benz', 130489.0),\n",
       " ('audi', 128415.0),\n",
       " ('volkswagen', 126803.0),\n",
       " ('opel', 125711.0),\n",
       " ('peugeot', 123621.0),\n",
       " ('renault', 123540.0),\n",
       " ('ford', 121481.0),\n",
       " ('seat', 119162.0),\n",
       " ('fiat', 111332.0)]"
      ]
     },
     "execution_count": 77,
     "metadata": {},
     "output_type": "execute_result"
    }
   ],
   "source": [
    "brands_km = {}\n",
    "\n",
    "for brand in sorted(selected_brands):\n",
    "    sel_brand = auto_clean[auto_clean['brand'] == brand ]\n",
    "    brands_km[brand] = sel_brand['odometer_km'].mean().round()\n",
    "\n",
    "brands_km_sorted = sorted(brands_km.items(),key = lambda kv: kv[1], reverse=True)\n",
    "brands_km_sorted"
   ]
  },
  {
   "cell_type": "markdown",
   "metadata": {},
   "source": [
    "### 5.3 List of car brands by average price and average mileage"
   ]
  },
  {
   "cell_type": "code",
   "execution_count": 78,
   "metadata": {},
   "outputs": [
    {
     "data": {
      "text/plain": [
       "{'volkswagen': 'Mean price 6271.00$ and 126803.00 mean Kilometers',\n",
       " 'bmw': 'Mean price 8887.00$ and 132295.00 mean Kilometers',\n",
       " 'mercedes_benz': 'Mean price 9013.00$ and 130489.00 mean Kilometers',\n",
       " 'opel': 'Mean price 3864.00$ and 125711.00 mean Kilometers',\n",
       " 'audi': 'Mean price 9961.00$ and 128415.00 mean Kilometers',\n",
       " 'ford': 'Mean price 4905.00$ and 121481.00 mean Kilometers',\n",
       " 'renault': 'Mean price 3227.00$ and 123540.00 mean Kilometers',\n",
       " 'peugeot': 'Mean price 3734.00$ and 123621.00 mean Kilometers',\n",
       " 'fiat': 'Mean price 3664.00$ and 111332.00 mean Kilometers',\n",
       " 'seat': 'Mean price 5137.00$ and 119162.00 mean Kilometers'}"
      ]
     },
     "execution_count": 78,
     "metadata": {},
     "output_type": "execute_result"
    }
   ],
   "source": [
    "listado = {}\n",
    "\n",
    "template_string = \"Mean price {money:.2f}$ and {km:.2f} mean Kilometers\"\n",
    "\n",
    "for vehiculo in brands_price:\n",
    "    mean_price = brands_price[vehiculo]\n",
    "    mean_km = brands_km[vehiculo]\n",
    "    output = template_string.format(money = mean_price, km = mean_km )\n",
    "    listado[vehiculo] = output\n",
    "    \n",
    "listado"
   ]
  },
  {
   "cell_type": "code",
   "execution_count": 79,
   "metadata": {},
   "outputs": [
    {
     "data": {
      "text/html": [
       "<div>\n",
       "<style scoped>\n",
       "    .dataframe tbody tr th:only-of-type {\n",
       "        vertical-align: middle;\n",
       "    }\n",
       "\n",
       "    .dataframe tbody tr th {\n",
       "        vertical-align: top;\n",
       "    }\n",
       "\n",
       "    .dataframe thead th {\n",
       "        text-align: right;\n",
       "    }\n",
       "</style>\n",
       "<table border=\"1\" class=\"dataframe\">\n",
       "  <thead>\n",
       "    <tr style=\"text-align: right;\">\n",
       "      <th></th>\n",
       "      <th>brands average price</th>\n",
       "      <th>brands average kilometer</th>\n",
       "    </tr>\n",
       "  </thead>\n",
       "  <tbody>\n",
       "    <tr>\n",
       "      <th>volkswagen</th>\n",
       "      <td>6271.0</td>\n",
       "      <td>126803.0</td>\n",
       "    </tr>\n",
       "    <tr>\n",
       "      <th>bmw</th>\n",
       "      <td>8887.0</td>\n",
       "      <td>132295.0</td>\n",
       "    </tr>\n",
       "    <tr>\n",
       "      <th>mercedes_benz</th>\n",
       "      <td>9013.0</td>\n",
       "      <td>130489.0</td>\n",
       "    </tr>\n",
       "    <tr>\n",
       "      <th>opel</th>\n",
       "      <td>3864.0</td>\n",
       "      <td>125711.0</td>\n",
       "    </tr>\n",
       "    <tr>\n",
       "      <th>audi</th>\n",
       "      <td>9961.0</td>\n",
       "      <td>128415.0</td>\n",
       "    </tr>\n",
       "    <tr>\n",
       "      <th>ford</th>\n",
       "      <td>4905.0</td>\n",
       "      <td>121481.0</td>\n",
       "    </tr>\n",
       "    <tr>\n",
       "      <th>renault</th>\n",
       "      <td>3227.0</td>\n",
       "      <td>123540.0</td>\n",
       "    </tr>\n",
       "    <tr>\n",
       "      <th>peugeot</th>\n",
       "      <td>3734.0</td>\n",
       "      <td>123621.0</td>\n",
       "    </tr>\n",
       "    <tr>\n",
       "      <th>fiat</th>\n",
       "      <td>3664.0</td>\n",
       "      <td>111332.0</td>\n",
       "    </tr>\n",
       "    <tr>\n",
       "      <th>seat</th>\n",
       "      <td>5137.0</td>\n",
       "      <td>119162.0</td>\n",
       "    </tr>\n",
       "  </tbody>\n",
       "</table>\n",
       "</div>"
      ],
      "text/plain": [
       "               brands average price  brands average kilometer\n",
       "volkswagen                   6271.0                  126803.0\n",
       "bmw                          8887.0                  132295.0\n",
       "mercedes_benz                9013.0                  130489.0\n",
       "opel                         3864.0                  125711.0\n",
       "audi                         9961.0                  128415.0\n",
       "ford                         4905.0                  121481.0\n",
       "renault                      3227.0                  123540.0\n",
       "peugeot                      3734.0                  123621.0\n",
       "fiat                         3664.0                  111332.0\n",
       "seat                         5137.0                  119162.0"
      ]
     },
     "execution_count": 79,
     "metadata": {},
     "output_type": "execute_result"
    }
   ],
   "source": [
    "frame = {'brands average price':brands_price,\n",
    "         'brands average kilometer':brands_km}\n",
    "\n",
    "output = pd.DataFrame(frame)\n",
    "output"
   ]
  },
  {
   "cell_type": "markdown",
   "metadata": {},
   "source": [
    "## 6. Storing Aggregate Data in a DataFrame"
   ]
  },
  {
   "cell_type": "code",
   "execution_count": 80,
   "metadata": {},
   "outputs": [],
   "source": [
    "brands_price_series = pd.Series(brands_price)"
   ]
  },
  {
   "cell_type": "code",
   "execution_count": 81,
   "metadata": {},
   "outputs": [
    {
     "data": {
      "text/plain": [
       "volkswagen       6271.0\n",
       "bmw              8887.0\n",
       "mercedes_benz    9013.0\n",
       "opel             3864.0\n",
       "audi             9961.0\n",
       "ford             4905.0\n",
       "renault          3227.0\n",
       "peugeot          3734.0\n",
       "fiat             3664.0\n",
       "seat             5137.0\n",
       "dtype: float64"
      ]
     },
     "execution_count": 81,
     "metadata": {},
     "output_type": "execute_result"
    }
   ],
   "source": [
    "brands_price_series"
   ]
  },
  {
   "cell_type": "code",
   "execution_count": 82,
   "metadata": {},
   "outputs": [],
   "source": [
    "brands_km_series = pd.Series(brands_km)"
   ]
  },
  {
   "cell_type": "code",
   "execution_count": 83,
   "metadata": {},
   "outputs": [
    {
     "data": {
      "text/plain": [
       "audi             128415.0\n",
       "bmw              132295.0\n",
       "fiat             111332.0\n",
       "ford             121481.0\n",
       "mercedes_benz    130489.0\n",
       "opel             125711.0\n",
       "peugeot          123621.0\n",
       "renault          123540.0\n",
       "seat             119162.0\n",
       "volkswagen       126803.0\n",
       "dtype: float64"
      ]
     },
     "execution_count": 83,
     "metadata": {},
     "output_type": "execute_result"
    }
   ],
   "source": [
    "brands_km_series"
   ]
  },
  {
   "cell_type": "code",
   "execution_count": 84,
   "metadata": {},
   "outputs": [
    {
     "data": {
      "text/html": [
       "<div>\n",
       "<style scoped>\n",
       "    .dataframe tbody tr th:only-of-type {\n",
       "        vertical-align: middle;\n",
       "    }\n",
       "\n",
       "    .dataframe tbody tr th {\n",
       "        vertical-align: top;\n",
       "    }\n",
       "\n",
       "    .dataframe thead th {\n",
       "        text-align: right;\n",
       "    }\n",
       "</style>\n",
       "<table border=\"1\" class=\"dataframe\">\n",
       "  <thead>\n",
       "    <tr style=\"text-align: right;\">\n",
       "      <th></th>\n",
       "      <th>mean_price</th>\n",
       "      <th>mean_kilometers</th>\n",
       "    </tr>\n",
       "  </thead>\n",
       "  <tbody>\n",
       "    <tr>\n",
       "      <th>audi</th>\n",
       "      <td>9961.0</td>\n",
       "      <td>128415.0</td>\n",
       "    </tr>\n",
       "    <tr>\n",
       "      <th>bmw</th>\n",
       "      <td>8887.0</td>\n",
       "      <td>132295.0</td>\n",
       "    </tr>\n",
       "    <tr>\n",
       "      <th>fiat</th>\n",
       "      <td>3664.0</td>\n",
       "      <td>111332.0</td>\n",
       "    </tr>\n",
       "    <tr>\n",
       "      <th>ford</th>\n",
       "      <td>4905.0</td>\n",
       "      <td>121481.0</td>\n",
       "    </tr>\n",
       "    <tr>\n",
       "      <th>mercedes_benz</th>\n",
       "      <td>9013.0</td>\n",
       "      <td>130489.0</td>\n",
       "    </tr>\n",
       "    <tr>\n",
       "      <th>opel</th>\n",
       "      <td>3864.0</td>\n",
       "      <td>125711.0</td>\n",
       "    </tr>\n",
       "    <tr>\n",
       "      <th>peugeot</th>\n",
       "      <td>3734.0</td>\n",
       "      <td>123621.0</td>\n",
       "    </tr>\n",
       "    <tr>\n",
       "      <th>renault</th>\n",
       "      <td>3227.0</td>\n",
       "      <td>123540.0</td>\n",
       "    </tr>\n",
       "    <tr>\n",
       "      <th>seat</th>\n",
       "      <td>5137.0</td>\n",
       "      <td>119162.0</td>\n",
       "    </tr>\n",
       "    <tr>\n",
       "      <th>volkswagen</th>\n",
       "      <td>6271.0</td>\n",
       "      <td>126803.0</td>\n",
       "    </tr>\n",
       "  </tbody>\n",
       "</table>\n",
       "</div>"
      ],
      "text/plain": [
       "               mean_price  mean_kilometers\n",
       "audi               9961.0         128415.0\n",
       "bmw                8887.0         132295.0\n",
       "fiat               3664.0         111332.0\n",
       "ford               4905.0         121481.0\n",
       "mercedes_benz      9013.0         130489.0\n",
       "opel               3864.0         125711.0\n",
       "peugeot            3734.0         123621.0\n",
       "renault            3227.0         123540.0\n",
       "seat               5137.0         119162.0\n",
       "volkswagen         6271.0         126803.0"
      ]
     },
     "execution_count": 84,
     "metadata": {},
     "output_type": "execute_result"
    }
   ],
   "source": [
    "auto_clean['registration_year']\n",
    "\n",
    "frame = {'mean_price':brands_price_series,\n",
    "        'mean_kilometers':brands_km_series}\n",
    "\n",
    "output = pd.DataFrame(frame)\n",
    "output"
   ]
  },
  {
   "cell_type": "markdown",
   "metadata": {},
   "source": [
    "List of car brands by highest price, their average price and average mileage.\n",
    "\n",
    "### 6.1 Identify categorical data\n",
    "\n",
    "Using German words, translate them and map the values to their equivalents, in this case to Spanish, because there are categories that are unknown here. "
   ]
  },
  {
   "cell_type": "code",
   "execution_count": 85,
   "metadata": {},
   "outputs": [
    {
     "data": {
      "text/plain": [
       "limousine     11059\n",
       "kombi          7892\n",
       "kleinwagen     7613\n",
       "bus            3797\n",
       "NaN            3042\n",
       "cabrio         2893\n",
       "coupe          2244\n",
       "suv            1937\n",
       "andere          309\n",
       "Name: vehicle_type, dtype: int64"
      ]
     },
     "execution_count": 85,
     "metadata": {},
     "output_type": "execute_result"
    }
   ],
   "source": [
    " auto_clean['vehicle_type'].value_counts(dropna = False)"
   ]
  },
  {
   "cell_type": "code",
   "execution_count": 86,
   "metadata": {},
   "outputs": [
    {
     "data": {
      "text/plain": [
       "limousine     11059\n",
       "kombi          7892\n",
       "kleinwagen     7613\n",
       "bus            3797\n",
       "cabrio         2893\n",
       "coupe          2244\n",
       "suv            1937\n",
       "andere          309\n",
       "Name: vehicle_type, dtype: int64"
      ]
     },
     "execution_count": 86,
     "metadata": {},
     "output_type": "execute_result"
    }
   ],
   "source": [
    "auto_clean['vehicle_type'].value_counts().dropna()"
   ]
  },
  {
   "cell_type": "code",
   "execution_count": 87,
   "metadata": {},
   "outputs": [],
   "source": [
    "categorical_vehicle_type = auto_clean['vehicle_type'].value_counts().dropna().index[:]"
   ]
  },
  {
   "cell_type": "code",
   "execution_count": 88,
   "metadata": {},
   "outputs": [],
   "source": [
    "category_translator = {'bus':'monovolumen','limousine':'sedan', 'kleinwagen':'compacto','kombi':'familiar',\n",
    "                       'coupe':'coupe','suv':'suv','cabrio':'cabrio','andere':'otros'}\n",
    "\n",
    "for category in categorical_vehicle_type:\n",
    "    bool_category = auto_clean['vehicle_type'] == category\n",
    "    auto_clean.loc[bool_category,'vehicle_type'] = category_translator[category]"
   ]
  },
  {
   "cell_type": "code",
   "execution_count": 89,
   "metadata": {},
   "outputs": [
    {
     "data": {
      "text/plain": [
       "sedan          11059\n",
       "familiar        7892\n",
       "compacto        7613\n",
       "monovolumen     3797\n",
       "cabrio          2893\n",
       "coupe           2244\n",
       "suv             1937\n",
       "otros            309\n",
       "Name: vehicle_type, dtype: int64"
      ]
     },
     "execution_count": 89,
     "metadata": {},
     "output_type": "execute_result"
    }
   ],
   "source": [
    "auto_clean['vehicle_type'].value_counts()"
   ]
  },
  {
   "cell_type": "code",
   "execution_count": 90,
   "metadata": {},
   "outputs": [
    {
     "data": {
      "text/plain": [
       "benzin     1\n",
       "diesel     1\n",
       "lpg        1\n",
       "cng        1\n",
       "hybrid     1\n",
       "elektro    1\n",
       "andere     1\n",
       "dtype: int64"
      ]
     },
     "execution_count": 90,
     "metadata": {},
     "output_type": "execute_result"
    }
   ],
   "source": [
    "categorical_type_fuel = auto_clean['fuel_type'].value_counts().index[:]\n",
    "categorical_type_fuel.value_counts()"
   ]
  },
  {
   "cell_type": "code",
   "execution_count": 91,
   "metadata": {},
   "outputs": [],
   "source": [
    "categorical_type_fuel_translator = {'benzin':'gasolina', 'diesel':'diesel', 'lpg':'lpg', 'cng':'cng',\n",
    "                                    'hybrid':'híbrido', 'elektro':'electrico', 'andere':'otros'}\n",
    "\n",
    "for category in categorical_type_fuel:\n",
    "    bool_fuel = auto_clean['fuel_type'] == category\n",
    "    auto_clean.loc[bool_fuel,'fuel_type'] = categorical_type_fuel_translator[category]"
   ]
  },
  {
   "cell_type": "code",
   "execution_count": 92,
   "metadata": {},
   "outputs": [
    {
     "data": {
      "text/plain": [
       "gasolina     23572\n",
       "diesel       13878\n",
       "lpg            605\n",
       "cng             64\n",
       "híbrido         37\n",
       "electrico       17\n",
       "otros           13\n",
       "Name: fuel_type, dtype: int64"
      ]
     },
     "execution_count": 92,
     "metadata": {},
     "output_type": "execute_result"
    }
   ],
   "source": [
    "auto_clean['fuel_type'].value_counts()"
   ]
  },
  {
   "cell_type": "code",
   "execution_count": 93,
   "metadata": {},
   "outputs": [
    {
     "data": {
      "text/html": [
       "<div>\n",
       "<style scoped>\n",
       "    .dataframe tbody tr th:only-of-type {\n",
       "        vertical-align: middle;\n",
       "    }\n",
       "\n",
       "    .dataframe tbody tr th {\n",
       "        vertical-align: top;\n",
       "    }\n",
       "\n",
       "    .dataframe thead th {\n",
       "        text-align: right;\n",
       "    }\n",
       "</style>\n",
       "<table border=\"1\" class=\"dataframe\">\n",
       "  <thead>\n",
       "    <tr style=\"text-align: right;\">\n",
       "      <th></th>\n",
       "      <th>date_crawled</th>\n",
       "      <th>name</th>\n",
       "      <th>price_in_dollars</th>\n",
       "      <th>vehicle_type</th>\n",
       "      <th>registration_year</th>\n",
       "      <th>gearbox</th>\n",
       "      <th>CV</th>\n",
       "      <th>model</th>\n",
       "      <th>odometer_km</th>\n",
       "      <th>registration_month</th>\n",
       "      <th>fuel_type</th>\n",
       "      <th>brand</th>\n",
       "      <th>unrepaired_damage</th>\n",
       "      <th>ad_created</th>\n",
       "      <th>last_seen</th>\n",
       "    </tr>\n",
       "  </thead>\n",
       "  <tbody>\n",
       "    <tr>\n",
       "      <th>1127</th>\n",
       "      <td>2016-03-10</td>\n",
       "      <td>Toyota_Auris_1.8_Hybrid_Executive</td>\n",
       "      <td>9850</td>\n",
       "      <td>sedan</td>\n",
       "      <td>2010.0</td>\n",
       "      <td>automatik</td>\n",
       "      <td>136</td>\n",
       "      <td>auris</td>\n",
       "      <td>100000</td>\n",
       "      <td>9</td>\n",
       "      <td>híbrido</td>\n",
       "      <td>toyota</td>\n",
       "      <td>nein</td>\n",
       "      <td>2016-03-10</td>\n",
       "      <td>2016-04-05</td>\n",
       "    </tr>\n",
       "    <tr>\n",
       "      <th>1710</th>\n",
       "      <td>2016-03-31</td>\n",
       "      <td>Toyota_Yaris_Hybrid_1.5_VVT_i_Club_Panorama__A...</td>\n",
       "      <td>14900</td>\n",
       "      <td>compacto</td>\n",
       "      <td>2014.0</td>\n",
       "      <td>automatik</td>\n",
       "      <td>75</td>\n",
       "      <td>yaris</td>\n",
       "      <td>20000</td>\n",
       "      <td>5</td>\n",
       "      <td>híbrido</td>\n",
       "      <td>toyota</td>\n",
       "      <td>nein</td>\n",
       "      <td>2016-03-31</td>\n",
       "      <td>2016-04-06</td>\n",
       "    </tr>\n",
       "    <tr>\n",
       "      <th>2062</th>\n",
       "      <td>2016-03-18</td>\n",
       "      <td>Toyota_Auris_1.8_VVT_i_Hybrid_Automatik_Tourin...</td>\n",
       "      <td>19500</td>\n",
       "      <td>familiar</td>\n",
       "      <td>2014.0</td>\n",
       "      <td>automatik</td>\n",
       "      <td>99</td>\n",
       "      <td>auris</td>\n",
       "      <td>50000</td>\n",
       "      <td>4</td>\n",
       "      <td>híbrido</td>\n",
       "      <td>toyota</td>\n",
       "      <td>nein</td>\n",
       "      <td>2016-03-18</td>\n",
       "      <td>2016-04-03</td>\n",
       "    </tr>\n",
       "  </tbody>\n",
       "</table>\n",
       "</div>"
      ],
      "text/plain": [
       "     date_crawled                                               name  \\\n",
       "1127   2016-03-10                  Toyota_Auris_1.8_Hybrid_Executive   \n",
       "1710   2016-03-31  Toyota_Yaris_Hybrid_1.5_VVT_i_Club_Panorama__A...   \n",
       "2062   2016-03-18  Toyota_Auris_1.8_VVT_i_Hybrid_Automatik_Tourin...   \n",
       "\n",
       "      price_in_dollars vehicle_type  registration_year    gearbox   CV  model  \\\n",
       "1127              9850        sedan             2010.0  automatik  136  auris   \n",
       "1710             14900     compacto             2014.0  automatik   75  yaris   \n",
       "2062             19500     familiar             2014.0  automatik   99  auris   \n",
       "\n",
       "      odometer_km  registration_month fuel_type   brand unrepaired_damage  \\\n",
       "1127       100000                   9   híbrido  toyota              nein   \n",
       "1710        20000                   5   híbrido  toyota              nein   \n",
       "2062        50000                   4   híbrido  toyota              nein   \n",
       "\n",
       "     ad_created  last_seen  \n",
       "1127 2016-03-10 2016-04-05  \n",
       "1710 2016-03-31 2016-04-06  \n",
       "2062 2016-03-18 2016-04-03  "
      ]
     },
     "execution_count": 93,
     "metadata": {},
     "output_type": "execute_result"
    }
   ],
   "source": [
    "condicion_1 = auto_clean['fuel_type'] == 'híbrido' # testing hybrid category\n",
    "auto_clean[condicion_1].head(3) # checking"
   ]
  },
  {
   "cell_type": "code",
   "execution_count": 94,
   "metadata": {},
   "outputs": [
    {
     "name": "stdout",
     "output_type": "stream",
     "text": [
      "<class 'pandas.core.frame.DataFrame'>\n",
      "Int64Index: 40786 entries, 0 to 49999\n",
      "Data columns (total 15 columns):\n",
      " #   Column              Non-Null Count  Dtype         \n",
      "---  ------              --------------  -----         \n",
      " 0   date_crawled        40786 non-null  datetime64[ns]\n",
      " 1   name                40786 non-null  object        \n",
      " 2   price_in_dollars    40786 non-null  int64         \n",
      " 3   vehicle_type        37744 non-null  object        \n",
      " 4   registration_year   39189 non-null  float64       \n",
      " 5   gearbox             39234 non-null  object        \n",
      " 6   CV                  40786 non-null  int64         \n",
      " 7   model               39044 non-null  object        \n",
      " 8   odometer_km         40786 non-null  int64         \n",
      " 9   registration_month  40786 non-null  int64         \n",
      " 10  fuel_type           38186 non-null  object        \n",
      " 11  brand               40786 non-null  object        \n",
      " 12  unrepaired_damage   34483 non-null  object        \n",
      " 13  ad_created          40786 non-null  datetime64[ns]\n",
      " 14  last_seen           40786 non-null  datetime64[ns]\n",
      "dtypes: datetime64[ns](3), float64(1), int64(4), object(7)\n",
      "memory usage: 6.0+ MB\n"
     ]
    }
   ],
   "source": [
    "auto_clean.info()"
   ]
  },
  {
   "cell_type": "code",
   "execution_count": 95,
   "metadata": {},
   "outputs": [
    {
     "data": {
      "text/plain": [
       "['alfa_romeo',\n",
       " 'audi',\n",
       " 'bmw',\n",
       " 'chevrolet',\n",
       " 'chrysler',\n",
       " 'citroen',\n",
       " 'dacia',\n",
       " 'daewoo',\n",
       " 'daihatsu',\n",
       " 'fiat',\n",
       " 'ford',\n",
       " 'honda',\n",
       " 'hyundai',\n",
       " 'jaguar',\n",
       " 'jeep',\n",
       " 'kia',\n",
       " 'lada',\n",
       " 'lancia',\n",
       " 'land_rover',\n",
       " 'mazda',\n",
       " 'mercedes_benz',\n",
       " 'mini',\n",
       " 'mitsubishi',\n",
       " 'nissan',\n",
       " 'opel',\n",
       " 'peugeot',\n",
       " 'porsche',\n",
       " 'renault',\n",
       " 'rover',\n",
       " 'saab',\n",
       " 'seat',\n",
       " 'skoda',\n",
       " 'smart',\n",
       " 'sonstige_autos',\n",
       " 'subaru',\n",
       " 'suzuki',\n",
       " 'toyota',\n",
       " 'trabant',\n",
       " 'volkswagen',\n",
       " 'volvo']"
      ]
     },
     "execution_count": 95,
     "metadata": {},
     "output_type": "execute_result"
    }
   ],
   "source": [
    "all_brands= auto_clean['brand'].unique()\n",
    "sorted(all_brands)"
   ]
  },
  {
   "cell_type": "markdown",
   "metadata": {},
   "source": [
    "### 6.2 Finding the most common brand/model combi.\n",
    "\n",
    "The top three brands on our list also have their own favourite models, as can be seen below."
   ]
  },
  {
   "cell_type": "code",
   "execution_count": 96,
   "metadata": {},
   "outputs": [],
   "source": [
    "def modelos_brand(marca):\n",
    "    bool_marca = auto_clean['brand'] == marca                              # boolean filter by brand\n",
    "    print(auto_clean.loc[bool_marca,'model'].value_counts()[:5])           # top five model brand "
   ]
  },
  {
   "cell_type": "code",
   "execution_count": 97,
   "metadata": {},
   "outputs": [
    {
     "name": "stdout",
     "output_type": "stream",
     "text": [
      "147       73\n",
      "156       62\n",
      "andere    51\n",
      "159       33\n",
      "spider    32\n",
      "Name: model, dtype: int64\n"
     ]
    }
   ],
   "source": [
    "modelos_brand('alfa_romeo')"
   ]
  },
  {
   "cell_type": "code",
   "execution_count": 98,
   "metadata": {},
   "outputs": [
    {
     "name": "stdout",
     "output_type": "stream",
     "text": [
      "c_klasse    1088\n",
      "e_klasse     929\n",
      "a_klasse     511\n",
      "andere       426\n",
      "clk          240\n",
      "Name: model, dtype: int64\n"
     ]
    }
   ],
   "source": [
    "modelos_brand('mercedes_benz')"
   ]
  },
  {
   "cell_type": "code",
   "execution_count": 99,
   "metadata": {},
   "outputs": [
    {
     "name": "stdout",
     "output_type": "stream",
     "text": [
      "3er        2408\n",
      "5er        1100\n",
      "1er         525\n",
      "x_reihe     302\n",
      "7er         127\n",
      "Name: model, dtype: int64\n"
     ]
    }
   ],
   "source": [
    "modelos_brand('bmw')"
   ]
  },
  {
   "cell_type": "code",
   "execution_count": 100,
   "metadata": {},
   "outputs": [],
   "source": [
    "def top_model(marca):\n",
    "    boolean_filter = auto_clean['brand'] == marca\n",
    "    if auto_clean.loc[boolean_filter,'model'].value_counts().index[0] == 'andere':\n",
    "        return auto_clean.loc[boolean_filter,'model'].value_counts().index[1]\n",
    "    else:\n",
    "        return auto_clean.loc[boolean_filter,'model'].value_counts().index[0]"
   ]
  },
  {
   "cell_type": "markdown",
   "metadata": {},
   "source": [
    "Model within each brand that is repeated more times within our data set, the order is given by the brand of the vehicle."
   ]
  },
  {
   "cell_type": "code",
   "execution_count": 101,
   "metadata": {},
   "outputs": [],
   "source": [
    "bool_fiat = auto_clean['brand'] == 'alfa_romeo'"
   ]
  },
  {
   "cell_type": "code",
   "execution_count": 102,
   "metadata": {},
   "outputs": [
    {
     "data": {
      "text/plain": [
       "Index(['147'], dtype='object')"
      ]
     },
     "execution_count": 102,
     "metadata": {},
     "output_type": "execute_result"
    }
   ],
   "source": [
    "x = auto_clean.loc[bool_fiat,'model']\n",
    "x.value_counts().index[0:1]"
   ]
  },
  {
   "cell_type": "code",
   "execution_count": 103,
   "metadata": {},
   "outputs": [
    {
     "data": {
      "text/plain": [
       "'3er'"
      ]
     },
     "execution_count": 103,
     "metadata": {},
     "output_type": "execute_result"
    }
   ],
   "source": [
    "top_model('bmw')"
   ]
  },
  {
   "cell_type": "code",
   "execution_count": 104,
   "metadata": {},
   "outputs": [
    {
     "name": "stdout",
     "output_type": "stream",
     "text": [
      "sonstige_autos doesnt have model\n"
     ]
    },
    {
     "data": {
      "text/plain": [
       "alfa_romeo              147\n",
       "audi                     a4\n",
       "bmw                     3er\n",
       "chevrolet             matiz\n",
       "chrysler          ptcruiser\n",
       "citroen            berlingo\n",
       "dacia               sandero\n",
       "daewoo                kalos\n",
       "daihatsu              cuore\n",
       "fiat                  punto\n",
       "ford                  focus\n",
       "honda                 civic\n",
       "hyundai             i_reihe\n",
       "jaguar               x_type\n",
       "jeep                  grand\n",
       "kia                 sorento\n",
       "lada                   niva\n",
       "lancia              ypsilon\n",
       "land_rover       freelander\n",
       "mazda               6_reihe\n",
       "mercedes_benz      c_klasse\n",
       "mini                 cooper\n",
       "mitsubishi             colt\n",
       "nissan                micra\n",
       "opel                  astra\n",
       "peugeot             2_reihe\n",
       "porsche                 911\n",
       "renault              twingo\n",
       "rover            freelander\n",
       "saab                    900\n",
       "seat                  ibiza\n",
       "skoda               octavia\n",
       "smart                fortwo\n",
       "subaru              impreza\n",
       "suzuki                swift\n",
       "toyota                yaris\n",
       "trabant                 601\n",
       "volkswagen             golf\n",
       "volvo                   v70\n",
       "dtype: object"
      ]
     },
     "execution_count": 104,
     "metadata": {},
     "output_type": "execute_result"
    }
   ],
   "source": [
    "marc_modelo = {}\n",
    "\n",
    "for brand in sorted(all_brands):\n",
    "    try:\n",
    "        marc_modelo[brand] = top_model(brand)\n",
    "    except:\n",
    "        print(brand,\"doesnt have model\")\n",
    "\n",
    "marc_modelo = pd.Series(marc_modelo)\n",
    "marc_modelo"
   ]
  },
  {
   "cell_type": "markdown",
   "metadata": {},
   "source": [
    "### 6.2.1 Odometer in groups \n",
    "\n",
    "Use aggregation to see if the prices follow any pattern in mileage."
   ]
  },
  {
   "cell_type": "code",
   "execution_count": 105,
   "metadata": {},
   "outputs": [
    {
     "data": {
      "text/plain": [
       "150000    25074\n",
       "125000     4535\n",
       "100000     1923\n",
       "90000      1609\n",
       "80000      1357\n",
       "70000      1169\n",
       "60000      1108\n",
       "50000       990\n",
       "40000       799\n",
       "30000       750\n",
       "20000       706\n",
       "5000        535\n",
       "10000       231\n",
       "Name: odometer_km, dtype: int64"
      ]
     },
     "execution_count": 105,
     "metadata": {},
     "output_type": "execute_result"
    }
   ],
   "source": [
    "km_group = auto_clean['odometer_km'].value_counts()\n",
    "km_group"
   ]
  },
  {
   "cell_type": "code",
   "execution_count": 106,
   "metadata": {},
   "outputs": [
    {
     "data": {
      "text/plain": [
       "Int64Index([150000, 125000, 100000,  90000,  80000,  70000,  60000,  50000,\n",
       "             40000,  30000,  20000,   5000,  10000],\n",
       "           dtype='int64')"
      ]
     },
     "execution_count": 106,
     "metadata": {},
     "output_type": "execute_result"
    }
   ],
   "source": [
    "km_group = auto_clean['odometer_km'].value_counts().index[:]\n",
    "km_group"
   ]
  },
  {
   "cell_type": "code",
   "execution_count": 107,
   "metadata": {},
   "outputs": [
    {
     "data": {
      "text/plain": [
       "Int64Index([ 1500,  2500,  1200,  1000,  3500,  2000,   999,   900,   850,\n",
       "             4500,\n",
       "            ...\n",
       "            79933,  5198, 18890, 15470, 16845, 83000, 39800, 33777,  4270,\n",
       "            16995],\n",
       "           dtype='int64', length=2131)"
      ]
     },
     "execution_count": 107,
     "metadata": {},
     "output_type": "execute_result"
    }
   ],
   "source": [
    "price_group = auto_clean['price_in_dollars'].value_counts().index[:]\n",
    "price_group"
   ]
  },
  {
   "cell_type": "code",
   "execution_count": 108,
   "metadata": {},
   "outputs": [],
   "source": [
    "avg_price_by_km_non_damage = {}\n",
    "\n",
    "for km in km_group:\n",
    "    selected_km = auto_clean[auto_clean['odometer_km'] == km ]\n",
    "    mean = selected_km['price_in_dollars'].mean().round()\n",
    "    combined = mean\n",
    "    avg_price_by_km_non_damage[km] = combined"
   ]
  },
  {
   "cell_type": "code",
   "execution_count": 109,
   "metadata": {},
   "outputs": [
    {
     "data": {
      "text/plain": [
       "{150000: 4546.0,\n",
       " 125000: 6789.0,\n",
       " 100000: 13970.0,\n",
       " 90000: 8981.0,\n",
       " 80000: 10005.0,\n",
       " 70000: 11296.0,\n",
       " 60000: 12744.0,\n",
       " 50000: 15321.0,\n",
       " 40000: 15782.0,\n",
       " 30000: 17175.0,\n",
       " 20000: 19455.0,\n",
       " 5000: 20426.0,\n",
       " 10000: 22149.0}"
      ]
     },
     "execution_count": 109,
     "metadata": {},
     "output_type": "execute_result"
    }
   ],
   "source": [
    "avg_price_by_km_non_damage"
   ]
  },
  {
   "cell_type": "code",
   "execution_count": 110,
   "metadata": {},
   "outputs": [
    {
     "name": "stdout",
     "output_type": "stream",
     "text": [
      "{150000: 4546.0, 125000: 6789.0, 90000: 8981.0, 80000: 10005.0, 70000: 11296.0, 60000: 12744.0, 100000: 13970.0, 50000: 15321.0, 40000: 15782.0, 30000: 17175.0, 20000: 19455.0, 5000: 20426.0, 10000: 22149.0}\n"
     ]
    }
   ],
   "source": [
    "marklist = sorted(avg_price_by_km_non_damage.items(),key=lambda x:x[1])\n",
    "sort_avg_price_by_km_non_damage = dict(marklist)\n",
    "print(sort_avg_price_by_km_non_damage)"
   ]
  },
  {
   "cell_type": "code",
   "execution_count": 111,
   "metadata": {},
   "outputs": [],
   "source": [
    "avg_price_by_km = {}\n",
    "\n",
    "for km in km_group:\n",
    "    selected_km = auto_clean[auto_clean['odometer_km'] == km ]\n",
    "    mean = selected_km['price_in_dollars'].mean().round()\n",
    "    vehiculos = selected_km['price_in_dollars'].value_counts(normalize = False, sort = True)\n",
    "    combined = (mean, vehiculos)\n",
    "    avg_price_by_km[km] = combined"
   ]
  },
  {
   "cell_type": "code",
   "execution_count": 112,
   "metadata": {},
   "outputs": [
    {
     "data": {
      "text/plain": [
       "(4546.0,\n",
       " 1500     605\n",
       " 1000     540\n",
       " 1200     536\n",
       " 2500     473\n",
       " 2000     366\n",
       "         ... \n",
       " 29699      1\n",
       " 8449       1\n",
       " 1996       1\n",
       " 7333       1\n",
       " 1870       1\n",
       " Name: price_in_dollars, Length: 1302, dtype: int64)"
      ]
     },
     "execution_count": 112,
     "metadata": {},
     "output_type": "execute_result"
    }
   ],
   "source": [
    "avg_price_by_km[150000]"
   ]
  },
  {
   "cell_type": "code",
   "execution_count": 113,
   "metadata": {},
   "outputs": [
    {
     "data": {
      "text/html": [
       "<div>\n",
       "<style scoped>\n",
       "    .dataframe tbody tr th:only-of-type {\n",
       "        vertical-align: middle;\n",
       "    }\n",
       "\n",
       "    .dataframe tbody tr th {\n",
       "        vertical-align: top;\n",
       "    }\n",
       "\n",
       "    .dataframe thead th {\n",
       "        text-align: right;\n",
       "    }\n",
       "</style>\n",
       "<table border=\"1\" class=\"dataframe\">\n",
       "  <thead>\n",
       "    <tr style=\"text-align: right;\">\n",
       "      <th></th>\n",
       "      <th>date_crawled</th>\n",
       "      <th>name</th>\n",
       "      <th>price_in_dollars</th>\n",
       "      <th>vehicle_type</th>\n",
       "      <th>registration_year</th>\n",
       "      <th>gearbox</th>\n",
       "      <th>CV</th>\n",
       "      <th>model</th>\n",
       "      <th>odometer_km</th>\n",
       "      <th>registration_month</th>\n",
       "      <th>fuel_type</th>\n",
       "      <th>brand</th>\n",
       "      <th>unrepaired_damage</th>\n",
       "      <th>ad_created</th>\n",
       "      <th>last_seen</th>\n",
       "    </tr>\n",
       "  </thead>\n",
       "  <tbody>\n",
       "    <tr>\n",
       "      <th>41891</th>\n",
       "      <td>2016-03-08</td>\n",
       "      <td>Porsche_993_Targa</td>\n",
       "      <td>69993</td>\n",
       "      <td>coupe</td>\n",
       "      <td>1996.0</td>\n",
       "      <td>automatik</td>\n",
       "      <td>286</td>\n",
       "      <td>911</td>\n",
       "      <td>150000</td>\n",
       "      <td>5</td>\n",
       "      <td>gasolina</td>\n",
       "      <td>porsche</td>\n",
       "      <td>nein</td>\n",
       "      <td>2016-03-08</td>\n",
       "      <td>2016-04-07</td>\n",
       "    </tr>\n",
       "  </tbody>\n",
       "</table>\n",
       "</div>"
      ],
      "text/plain": [
       "      date_crawled               name  price_in_dollars vehicle_type  \\\n",
       "41891   2016-03-08  Porsche_993_Targa             69993        coupe   \n",
       "\n",
       "       registration_year    gearbox   CV model  odometer_km  \\\n",
       "41891             1996.0  automatik  286   911       150000   \n",
       "\n",
       "       registration_month fuel_type    brand unrepaired_damage ad_created  \\\n",
       "41891                   5  gasolina  porsche              nein 2016-03-08   \n",
       "\n",
       "       last_seen  \n",
       "41891 2016-04-07  "
      ]
     },
     "execution_count": 113,
     "metadata": {},
     "output_type": "execute_result"
    }
   ],
   "source": [
    "auto_clean[auto_clean['price_in_dollars'] == 69993]"
   ]
  },
  {
   "cell_type": "markdown",
   "metadata": {},
   "source": [
    "## 7. How much cheaper are damaged cars than their undamaged counterparts?\n",
    "\n",
    "we retrieved the dictionary we had made called the 'avg_price_by_km_non_damage' and we create another dictionary that compiles those vehicles that are indeed damaged."
   ]
  },
  {
   "cell_type": "code",
   "execution_count": 114,
   "metadata": {},
   "outputs": [],
   "source": [
    "avg_price_by_km_damage = {}\n",
    "\n",
    "for km in km_group:\n",
    "    selected_km = auto_clean[(auto_clean['odometer_km'] == km) &\n",
    "                             (auto_clean['unrepaired_damage'] == 'ja') ]\n",
    "    mean = selected_km['price_in_dollars'].mean()\n",
    "    avg_price_by_km_damage[km] = mean.round()"
   ]
  },
  {
   "cell_type": "code",
   "execution_count": 115,
   "metadata": {},
   "outputs": [
    {
     "data": {
      "text/plain": [
       "{150000: 2929.0,\n",
       " 125000: 3805.0,\n",
       " 100000: 4718.0,\n",
       " 90000: 4408.0,\n",
       " 80000: 6057.0,\n",
       " 70000: 5648.0,\n",
       " 60000: 7861.0,\n",
       " 50000: 9357.0,\n",
       " 40000: 13433.0,\n",
       " 30000: 6899.0,\n",
       " 20000: 6724.0,\n",
       " 5000: 3186.0,\n",
       " 10000: 4566.0}"
      ]
     },
     "execution_count": 115,
     "metadata": {},
     "output_type": "execute_result"
    }
   ],
   "source": [
    "avg_price_by_km_damage"
   ]
  },
  {
   "cell_type": "code",
   "execution_count": 116,
   "metadata": {},
   "outputs": [
    {
     "name": "stdout",
     "output_type": "stream",
     "text": [
      "{150000: 2929.0, 5000: 3186.0, 125000: 3805.0, 90000: 4408.0, 10000: 4566.0, 100000: 4718.0, 70000: 5648.0, 80000: 6057.0, 20000: 6724.0, 30000: 6899.0, 60000: 7861.0, 50000: 9357.0, 40000: 13433.0}\n"
     ]
    }
   ],
   "source": [
    "marklist = sorted(avg_price_by_km_damage.items(),key=lambda x:x[1])\n",
    "sort_avg_price_by_km_damage = dict(marklist)\n",
    "print(sort_avg_price_by_km_damage)"
   ]
  },
  {
   "cell_type": "code",
   "execution_count": 117,
   "metadata": {},
   "outputs": [
    {
     "data": {
      "image/png": "[encoded data removed]",
      "text/plain": [
       "<Figure size 1080x288 with 2 Axes>"
      ]
     },
     "metadata": {
      "needs_background": "light"
     },
     "output_type": "display_data"
    }
   ],
   "source": [
    "plt.figure(figsize = (15,4))\n",
    "\n",
    "plt.subplot(1,2,1)\n",
    "\n",
    "data_nodamage_1 = range(len(sort_avg_price_by_km_non_damage))\n",
    "data_nodamage_2 = list(sort_avg_price_by_km_non_damage.values())\n",
    "\n",
    "plt.bar(data_nodamage_1,data_nodamage_2,label=\"avg price non damage cars\")\n",
    "plt.legend()\n",
    "\n",
    "plt.xticks(data_nodamage_1, data_nodamage_2,rotation=30)\n",
    "plt.xlabel(\"Km\")\n",
    "plt.ylabel(\"avg_price\")\n",
    "\n",
    "plt.subplot(1,2,2)\n",
    "\n",
    "\n",
    "data_damage_1 = range(len(sort_avg_price_by_km_damage))\n",
    "data_damage_2 = list(sort_avg_price_by_km_damage.values())\n",
    "\n",
    "plt.bar(data_damage_1,data_damage_2,label=\"avg price non damage cars\")\n",
    "plt.legend()\n",
    "\n",
    "plt.xticks(data_damage_1, data_damage_2,rotation=30)\n",
    "plt.xlabel(\"Km\")\n",
    "plt.ylabel(\"avg_price\")\n",
    "plt.show()"
   ]
  },
  {
   "cell_type": "code",
   "execution_count": 118,
   "metadata": {},
   "outputs": [
    {
     "data": {
      "image/png": "[encoded data removed]",
      "text/plain": [
       "<Figure size 1080x288 with 1 Axes>"
      ]
     },
     "metadata": {
      "needs_background": "light"
     },
     "output_type": "display_data"
    }
   ],
   "source": [
    "plt.figure(figsize = (15,4))\n",
    "\n",
    "plt.title('avg price / Km')\n",
    "\n",
    "plt.bar(data_nodamage_1,data_nodamage_2,label=\"avg price non damage cars\")\n",
    "\n",
    "plt.bar(data_damage_1,data_damage_2,label=\"avg price damage cars\")\n",
    "plt.xticks(data_nodamage_1,data_nodamage_2,rotation=30)\n",
    "plt.legend()\n",
    "plt.xlabel(\"Km\")\n",
    "plt.ylabel(\"$\")\n",
    "\n",
    "plt.show()"
   ]
  },
  {
   "cell_type": "code",
   "execution_count": 119,
   "metadata": {},
   "outputs": [
    {
     "data": {
      "text/html": [
       "<div>\n",
       "<style scoped>\n",
       "    .dataframe tbody tr th:only-of-type {\n",
       "        vertical-align: middle;\n",
       "    }\n",
       "\n",
       "    .dataframe tbody tr th {\n",
       "        vertical-align: top;\n",
       "    }\n",
       "\n",
       "    .dataframe thead th {\n",
       "        text-align: right;\n",
       "    }\n",
       "</style>\n",
       "<table border=\"1\" class=\"dataframe\">\n",
       "  <thead>\n",
       "    <tr style=\"text-align: right;\">\n",
       "      <th></th>\n",
       "      <th>price_not_damage</th>\n",
       "      <th>price_damage</th>\n",
       "      <th>price_difference</th>\n",
       "      <th>%_damage_vs_notdamage</th>\n",
       "    </tr>\n",
       "  </thead>\n",
       "  <tbody>\n",
       "    <tr>\n",
       "      <th>150000</th>\n",
       "      <td>4546.0</td>\n",
       "      <td>2929.0</td>\n",
       "      <td>1617.0</td>\n",
       "      <td>64.430268</td>\n",
       "    </tr>\n",
       "    <tr>\n",
       "      <th>125000</th>\n",
       "      <td>6789.0</td>\n",
       "      <td>3805.0</td>\n",
       "      <td>2984.0</td>\n",
       "      <td>56.046546</td>\n",
       "    </tr>\n",
       "    <tr>\n",
       "      <th>100000</th>\n",
       "      <td>13970.0</td>\n",
       "      <td>4718.0</td>\n",
       "      <td>9252.0</td>\n",
       "      <td>33.772369</td>\n",
       "    </tr>\n",
       "    <tr>\n",
       "      <th>90000</th>\n",
       "      <td>8981.0</td>\n",
       "      <td>4408.0</td>\n",
       "      <td>4573.0</td>\n",
       "      <td>49.081394</td>\n",
       "    </tr>\n",
       "    <tr>\n",
       "      <th>80000</th>\n",
       "      <td>10005.0</td>\n",
       "      <td>6057.0</td>\n",
       "      <td>3948.0</td>\n",
       "      <td>60.539730</td>\n",
       "    </tr>\n",
       "    <tr>\n",
       "      <th>70000</th>\n",
       "      <td>11296.0</td>\n",
       "      <td>5648.0</td>\n",
       "      <td>5648.0</td>\n",
       "      <td>50.000000</td>\n",
       "    </tr>\n",
       "    <tr>\n",
       "      <th>60000</th>\n",
       "      <td>12744.0</td>\n",
       "      <td>7861.0</td>\n",
       "      <td>4883.0</td>\n",
       "      <td>61.683930</td>\n",
       "    </tr>\n",
       "    <tr>\n",
       "      <th>50000</th>\n",
       "      <td>15321.0</td>\n",
       "      <td>9357.0</td>\n",
       "      <td>5964.0</td>\n",
       "      <td>61.073037</td>\n",
       "    </tr>\n",
       "    <tr>\n",
       "      <th>40000</th>\n",
       "      <td>15782.0</td>\n",
       "      <td>13433.0</td>\n",
       "      <td>2349.0</td>\n",
       "      <td>85.115955</td>\n",
       "    </tr>\n",
       "    <tr>\n",
       "      <th>30000</th>\n",
       "      <td>17175.0</td>\n",
       "      <td>6899.0</td>\n",
       "      <td>10276.0</td>\n",
       "      <td>40.168850</td>\n",
       "    </tr>\n",
       "    <tr>\n",
       "      <th>20000</th>\n",
       "      <td>19455.0</td>\n",
       "      <td>6724.0</td>\n",
       "      <td>12731.0</td>\n",
       "      <td>34.561809</td>\n",
       "    </tr>\n",
       "    <tr>\n",
       "      <th>5000</th>\n",
       "      <td>20426.0</td>\n",
       "      <td>3186.0</td>\n",
       "      <td>17240.0</td>\n",
       "      <td>15.597768</td>\n",
       "    </tr>\n",
       "    <tr>\n",
       "      <th>10000</th>\n",
       "      <td>22149.0</td>\n",
       "      <td>4566.0</td>\n",
       "      <td>17583.0</td>\n",
       "      <td>20.614926</td>\n",
       "    </tr>\n",
       "  </tbody>\n",
       "</table>\n",
       "</div>"
      ],
      "text/plain": [
       "        price_not_damage  price_damage  price_difference  \\\n",
       "150000            4546.0        2929.0            1617.0   \n",
       "125000            6789.0        3805.0            2984.0   \n",
       "100000           13970.0        4718.0            9252.0   \n",
       "90000             8981.0        4408.0            4573.0   \n",
       "80000            10005.0        6057.0            3948.0   \n",
       "70000            11296.0        5648.0            5648.0   \n",
       "60000            12744.0        7861.0            4883.0   \n",
       "50000            15321.0        9357.0            5964.0   \n",
       "40000            15782.0       13433.0            2349.0   \n",
       "30000            17175.0        6899.0           10276.0   \n",
       "20000            19455.0        6724.0           12731.0   \n",
       "5000             20426.0        3186.0           17240.0   \n",
       "10000            22149.0        4566.0           17583.0   \n",
       "\n",
       "        %_damage_vs_notdamage   \n",
       "150000               64.430268  \n",
       "125000               56.046546  \n",
       "100000               33.772369  \n",
       "90000                49.081394  \n",
       "80000                60.539730  \n",
       "70000                50.000000  \n",
       "60000                61.683930  \n",
       "50000                61.073037  \n",
       "40000                85.115955  \n",
       "30000                40.168850  \n",
       "20000                34.561809  \n",
       "5000                 15.597768  \n",
       "10000                20.614926  "
      ]
     },
     "execution_count": 119,
     "metadata": {},
     "output_type": "execute_result"
    }
   ],
   "source": [
    "series_nondamage = pd.Series(avg_price_by_km_non_damage) \n",
    "df_nondamage = pd.DataFrame(series_nondamage)\n",
    "df_nondamage = df_nondamage.rename(columns = {0:'price_not_damage'})\n",
    "\n",
    "series_damage = pd.Series(avg_price_by_km_damage)\n",
    "df_damage = pd.DataFrame(series_damage)\n",
    "df_damage = df_damage.rename(columns = {0:'price_damage'})\n",
    "\n",
    "series_diference = series_nondamage - series_damage\n",
    "df_diference = pd.DataFrame(series_diference)\n",
    "df_diference = df_diference.rename(columns = {0:'price_difference'})\n",
    "\n",
    "series_diference_percent = (series_damage * 100) / series_nondamage.round(2)\n",
    "df_diference_percent = pd.DataFrame(series_diference_percent)\n",
    "df_diference_percent = df_diference_percent.rename(columns = {0:'%_damage_vs_notdamage '})\n",
    "\n",
    "\n",
    "df = pd.concat([df_nondamage, df_damage, df_diference, df_diference_percent], axis = 1)\n",
    "df"
   ]
  },
  {
   "cell_type": "code",
   "execution_count": 120,
   "metadata": {},
   "outputs": [
    {
     "data": {
      "text/plain": [
       "Int64Index([150000, 125000, 100000,  90000,  80000,  70000,  60000,  50000,\n",
       "             40000,  30000,  20000,   5000,  10000],\n",
       "           dtype='int64')"
      ]
     },
     "execution_count": 120,
     "metadata": {},
     "output_type": "execute_result"
    }
   ],
   "source": [
    "df.index"
   ]
  },
  {
   "cell_type": "code",
   "execution_count": 121,
   "metadata": {},
   "outputs": [
    {
     "data": {
      "image/png": "[encoded data removed]",
      "text/plain": [
       "<Figure size 1080x288 with 1 Axes>"
      ]
     },
     "metadata": {
      "needs_background": "light"
     },
     "output_type": "display_data"
    }
   ],
   "source": [
    "plt.figure(figsize = (15,4))\n",
    "\n",
    "plt.plot(series_nondamage,label=\"price_not_damage\")\n",
    "plt.plot(series_damage,label=\"price_damage\")\n",
    "plt.plot(series_diference,label=\"price_difference\")\n",
    "\n",
    "plt.xlabel(\"Km\")\n",
    "plt.ylabel(\"$\")\n",
    "plt.legend()\n",
    "\n",
    "plt.show()"
   ]
  },
  {
   "cell_type": "code",
   "execution_count": 122,
   "metadata": {},
   "outputs": [
    {
     "data": {
      "image/png": "[encoded data removed]",
      "text/plain": [
       "<Figure size 1080x432 with 1 Axes>"
      ]
     },
     "metadata": {
      "needs_background": "light"
     },
     "output_type": "display_data"
    }
   ],
   "source": [
    "plt.figure(figsize = (15,6))\n",
    "plt.plot(df_diference_percent,label=\"Km vs %_damage_vs_notdamage\")\n",
    "\n",
    "plt.xlabel(\"Km\")\n",
    "plt.ylabel(\"%\")\n",
    "\n",
    "plt.legend()\n",
    "plt.show()"
   ]
  },
  {
   "cell_type": "markdown",
   "metadata": {},
   "source": [
    "## 8. Conclusions\n",
    "\n",
    "The conclusions we can draw from our study are several:\n",
    "\n",
    " 1. The 75% of the vehicles for sale have an average mileage of about 150,000 km and if we count the vehicles with a minimum selling price of 850 we have that 75% of the total have an average price of 8750.\n",
    "\n",
    " 2. Once we have corrected the values we have that our 75% of the vehicles were registered in 2008 and that most of the registrations were between the period 2002 / 2007.\n",
    "\n",
    " 3. The most offered vehicle brand is Volkswagen.\n",
    "\n",
    " 4. The highest average price belongs to Audi, then Mercedes and finally to BMW. \n",
    "\n",
    " 5. The average number of kilometers per brand is led by BMW followed by Mercedes and Audi.\n",
    "\n",
    " 6. most of the vehicles are sedan type and are gasoline cars followed by diesel and lpg cars.\n",
    "\n",
    "\n",
    "Taking into account the order of average price per vehicle brand \n",
    "we know that the most repeated per model is:\n",
    "\n",
    "   - Audi with A4 followed by the A3 and A6.\n",
    "\n",
    "   - Mercedes the  C Class followed E Class and the A Class.\n",
    "\n",
    "   - BMW with the 3 Series, the 5 Series in second place and the 1 Series in third place .\n",
    "   \n",
    "\n",
    "Finally we can see the differences between the price kilometer of the damaged and non-damaged cars and we observe that the biggest difference in price is given in vehicles with 40000 Kilometers 150000Km and 60000Km."
   ]
  }
 ],
 "metadata": {
  "kernelspec": {
   "display_name": "Python 3",
   "language": "python",
   "name": "python3"
  },
  "language_info": {
   "codemirror_mode": {
    "name": "ipython",
    "version": 3
   },
   "file_extension": ".py",
   "mimetype": "text/x-python",
   "name": "python",
   "nbconvert_exporter": "python",
   "pygments_lexer": "ipython3",
   "version": "3.8.2"
  }
 },
 "nbformat": 4,
 "nbformat_minor": 4
}
