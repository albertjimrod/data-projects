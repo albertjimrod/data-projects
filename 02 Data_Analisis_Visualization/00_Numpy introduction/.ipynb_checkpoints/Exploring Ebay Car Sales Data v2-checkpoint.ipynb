{
 "cells": [
  {
   "cell_type": "markdown",
   "metadata": {},
   "source": [
    "![Imgur](https://image.freepik.com/free-vector/automobiles-models-icon-collection_74855-5435.jpg)\n",
    "\n",
    "<a href='https://www.freepik.com/'>models icon @freepik.com </a>\n",
    "\n",
    "\n",
    "# Exploring Ebay Car Sales Data \n",
    "\n",
    "## Introduction\n",
    "\n",
    "In this guided project, we'll work with a dataset of used cars from eBay Kleinanzeigen, a classifieds section of the German eBay website.\n",
    "\n",
    "The dataset was originally scraped and uploaded to Kaggle by user orgesleka, the original dataset isn't available on Kaggle anymore, but you can find it [here](https://data.world/data-society/used-cars-data).\n",
    "\n",
    "This is the sort version, 50000 rows.  \n",
    "\n",
    "The aim of this project is **to clean the data** and analyze the included used car listings \n",
    "\n",
    "\n",
    "### Data dictionary:\n",
    "\n",
    "- `dateCrawled` - When this ad was first crawled. All field-values are taken from this date.\n",
    "\n",
    "\n",
    "- `name` - Name of the car.\n",
    "\n",
    "\n",
    "- `seller` - Whether the seller is private or a dealer.\n",
    "\n",
    "\n",
    "- `offerType` - The type of listing\n",
    "\n",
    "\n",
    "- `price` - The price on the ad to sell the car.\n",
    "\n",
    "\n",
    "- `abtest` - Whether the listing is included in an A/B test.\n",
    "\n",
    "\n",
    "- `vehicleType` - The vehicle Type.\n",
    "\n",
    "\n",
    "- `yearOfRegistration` - The year in which the car was first registered.\n",
    "\n",
    "\n",
    "- `gearbox` - The transmission type.\n",
    "\n",
    "\n",
    "- `powerPS` - The power of the car in PS.\n",
    "\n",
    "\n",
    "- `model` - The car model name.\n",
    "\n",
    "\n",
    "- `kilometer` - How many kilometers the car has driven.\n",
    "\n",
    "\n",
    "- `monthOfRegistration` - The month in which the car was first registered.\n",
    "\n",
    "\n",
    "- `fuelType` - What type of fuel the car uses.\n",
    "\n",
    "\n",
    "- `brand` - The brand of the car.\n",
    "\n",
    "\n",
    "- `notRepairedDamage`- If the car has a damage which is not yet repaired.\n",
    "\n",
    "\n",
    "- `dateCreated` - The date on which the eBay listing was created.\n",
    "\n",
    "\n",
    "- `nrOfPictures` - The number of pictures in the ad.\n",
    "\n",
    "\n",
    "- `postalCode` - The postal code for the location of the vehicle.\n",
    "\n",
    "\n",
    "- `lastSeenOnline` - When the crawler saw this ad last online.\n",
    "\n",
    "\n",
    "\n",
    "\n",
    "# <a id='0'>Index</a>\n",
    "\n",
    "\n",
    "### 1. Basic Exploration Data\n",
    "\n",
    "- #### 1.2. Cleaning column names \n",
    "\n",
    "- #### 1.3. Initial Exploration Data and cleaning\n",
    "\n",
    "- #### 1.4. Columns candidates to be droped\n",
    "\n",
    "- #### 1.5. Columns that need more investigation.\n",
    "\n",
    "### 2. Numeric data stored as text that needs to be cleaned\n",
    "\n",
    "- #### 2.1 Character deletion and integer conversion\n",
    "\n",
    "### 3 . What does our dataset look like?\n",
    "\n",
    "- #### 3.1 Exploring the odometer_km\n",
    "\n",
    " - #### 3.1.1 Upper limit odometer_km\n",
    "\n",
    " - #### 3.1.2 Lower limit odometer_km\n",
    "\n",
    "- #### 3.2 Exploring the price_in_dollar\n",
    "\n",
    " - #### 3.2.1 Upper limit price_in_dollars\n",
    " \n",
    " - ##### 3.2.1.1 Exploring price outliers on the top of the list:\n",
    " \n",
    " - #### 3.2.2 Exploring price outliers on the botton of the list\n",
    "\n",
    "### 4. The date columns \n",
    "\n",
    "- #### 4.1 Text to datetime format \n",
    "\n",
    " - #### 4.1.1 Distribution of values in series\n",
    "\n",
    " - #### 4.1.2 Upper and lower limit registration_year\n",
    " \n",
    "### 5. Price by Brand\n",
    "\n",
    "- #### 5.1 Average price per vehicle brand\n",
    "\n",
    "- #### 5.2 Average number of kilometers per vehicle brand\n",
    "\n",
    "- #### 5.3 List of car brands by average price and average mileage\n",
    "\n",
    "### 6. Storing Aggregate Data in a DataFrame\n",
    "\n",
    "- #### 6.1 Identify categorical data\n",
    "\n",
    "- #### 6.2 Finding the most common brand/model combi\n",
    "\n",
    "- #### 6.2.1 Dividing the odometer in groups\n",
    " \n",
    "### 7. How much cheaper are damaged cars than their undamaged counterparts?\n",
    "\n",
    "### 8. Conclusions\n",
    "\n",
    "* * *"
   ]
  },
  {
   "cell_type": "code",
   "execution_count": 1,
   "metadata": {},
   "outputs": [],
   "source": [
    "import numpy as np\n",
    "import pandas as pd\n",
    "import chardet # Character encoding auto-detection in Python\n",
    "import matplotlib.pyplot as plt\n",
    "%matplotlib inline"
   ]
  },
  {
   "cell_type": "markdown",
   "metadata": {},
   "source": [
    "### checking our csv file"
   ]
  },
  {
   "cell_type": "code",
   "execution_count": 2,
   "metadata": {},
   "outputs": [
    {
     "name": "stdout",
     "output_type": "stream",
     "text": [
      "csv/autos.csv: CSV text\\012- , Non-ISO extended-ASCII text\r\n"
     ]
    }
   ],
   "source": [
    "! file -k csv/autos.csv"
   ]
  },
  {
   "cell_type": "code",
   "execution_count": 3,
   "metadata": {},
   "outputs": [
    {
     "name": "stdout",
     "output_type": "stream",
     "text": [
      "csv/autos.csv: application/csv; charset=unknown-8bit\r\n"
     ]
    }
   ],
   "source": [
    "! file -i csv/autos.csv"
   ]
  },
  {
   "cell_type": "code",
   "execution_count": 4,
   "metadata": {},
   "outputs": [
    {
     "name": "stdout",
     "output_type": "stream",
     "text": [
      "{'encoding': 'Windows-1252', 'confidence': 0.73, 'language': ''}\n"
     ]
    }
   ],
   "source": [
    "with open(\"csv/autos.csv\", 'rb') as file:\n",
    "    print(chardet.detect(file.read()))"
   ]
  },
  {
   "cell_type": "code",
   "execution_count": 5,
   "metadata": {},
   "outputs": [],
   "source": [
    "autos = pd.read_csv(\"csv/autos.csv\",encoding='Windows-1252') # Windows-1252 == ISO-8859-1"
   ]
  },
  {
   "cell_type": "markdown",
   "metadata": {},
   "source": [
    " https://stackoverflow.com/questions/7048745/what-is-the-difference-between-utf-8-and-iso-8859-1\n",
    " \n",
    " \n",
    "- ASCII: 7 bits. 128 code points.\n",
    "\n",
    "- ISO-8859-1: 8 bits. 256 code points.\n",
    "\n",
    "- UTF-8: 8-32 bits (1-4 bytes). 1,112,064 code points.\n",
    "\n",
    "Both ISO-8859-1 and UTF-8 are backwards compatible with ASCII, but UTF-8 is not backwards compatible with ISO-8859-1:"
   ]
  },
  {
   "cell_type": "markdown",
   "metadata": {},
   "source": [
    "\n",
    "## 1. Basic Exploration Data"
   ]
  },
  {
   "cell_type": "code",
   "execution_count": 6,
   "metadata": {},
   "outputs": [
    {
     "data": {
      "text/html": [
       "<div>\n",
       "<style scoped>\n",
       "    .dataframe tbody tr th:only-of-type {\n",
       "        vertical-align: middle;\n",
       "    }\n",
       "\n",
       "    .dataframe tbody tr th {\n",
       "        vertical-align: top;\n",
       "    }\n",
       "\n",
       "    .dataframe thead th {\n",
       "        text-align: right;\n",
       "    }\n",
       "</style>\n",
       "<table border=\"1\" class=\"dataframe\">\n",
       "  <thead>\n",
       "    <tr style=\"text-align: right;\">\n",
       "      <th></th>\n",
       "      <th>dateCrawled</th>\n",
       "      <th>name</th>\n",
       "      <th>seller</th>\n",
       "      <th>offerType</th>\n",
       "      <th>price</th>\n",
       "      <th>abtest</th>\n",
       "      <th>vehicleType</th>\n",
       "      <th>yearOfRegistration</th>\n",
       "      <th>gearbox</th>\n",
       "      <th>powerPS</th>\n",
       "      <th>model</th>\n",
       "      <th>odometer</th>\n",
       "      <th>monthOfRegistration</th>\n",
       "      <th>fuelType</th>\n",
       "      <th>brand</th>\n",
       "      <th>notRepairedDamage</th>\n",
       "      <th>dateCreated</th>\n",
       "      <th>nrOfPictures</th>\n",
       "      <th>postalCode</th>\n",
       "      <th>lastSeen</th>\n",
       "    </tr>\n",
       "  </thead>\n",
       "  <tbody>\n",
       "    <tr>\n",
       "      <th>0</th>\n",
       "      <td>2016-03-26 17:47:46</td>\n",
       "      <td>Peugeot_807_160_NAVTECH_ON_BOARD</td>\n",
       "      <td>privat</td>\n",
       "      <td>Angebot</td>\n",
       "      <td>$5,000</td>\n",
       "      <td>control</td>\n",
       "      <td>bus</td>\n",
       "      <td>2004</td>\n",
       "      <td>manuell</td>\n",
       "      <td>158</td>\n",
       "      <td>andere</td>\n",
       "      <td>150,000km</td>\n",
       "      <td>3</td>\n",
       "      <td>lpg</td>\n",
       "      <td>peugeot</td>\n",
       "      <td>nein</td>\n",
       "      <td>2016-03-26 00:00:00</td>\n",
       "      <td>0</td>\n",
       "      <td>79588</td>\n",
       "      <td>2016-04-06 06:45:54</td>\n",
       "    </tr>\n",
       "    <tr>\n",
       "      <th>1</th>\n",
       "      <td>2016-04-04 13:38:56</td>\n",
       "      <td>BMW_740i_4_4_Liter_HAMANN_UMBAU_Mega_Optik</td>\n",
       "      <td>privat</td>\n",
       "      <td>Angebot</td>\n",
       "      <td>$8,500</td>\n",
       "      <td>control</td>\n",
       "      <td>limousine</td>\n",
       "      <td>1997</td>\n",
       "      <td>automatik</td>\n",
       "      <td>286</td>\n",
       "      <td>7er</td>\n",
       "      <td>150,000km</td>\n",
       "      <td>6</td>\n",
       "      <td>benzin</td>\n",
       "      <td>bmw</td>\n",
       "      <td>nein</td>\n",
       "      <td>2016-04-04 00:00:00</td>\n",
       "      <td>0</td>\n",
       "      <td>71034</td>\n",
       "      <td>2016-04-06 14:45:08</td>\n",
       "    </tr>\n",
       "    <tr>\n",
       "      <th>2</th>\n",
       "      <td>2016-03-26 18:57:24</td>\n",
       "      <td>Volkswagen_Golf_1.6_United</td>\n",
       "      <td>privat</td>\n",
       "      <td>Angebot</td>\n",
       "      <td>$8,990</td>\n",
       "      <td>test</td>\n",
       "      <td>limousine</td>\n",
       "      <td>2009</td>\n",
       "      <td>manuell</td>\n",
       "      <td>102</td>\n",
       "      <td>golf</td>\n",
       "      <td>70,000km</td>\n",
       "      <td>7</td>\n",
       "      <td>benzin</td>\n",
       "      <td>volkswagen</td>\n",
       "      <td>nein</td>\n",
       "      <td>2016-03-26 00:00:00</td>\n",
       "      <td>0</td>\n",
       "      <td>35394</td>\n",
       "      <td>2016-04-06 20:15:37</td>\n",
       "    </tr>\n",
       "  </tbody>\n",
       "</table>\n",
       "</div>"
      ],
      "text/plain": [
       "           dateCrawled                                        name  seller  \\\n",
       "0  2016-03-26 17:47:46            Peugeot_807_160_NAVTECH_ON_BOARD  privat   \n",
       "1  2016-04-04 13:38:56  BMW_740i_4_4_Liter_HAMANN_UMBAU_Mega_Optik  privat   \n",
       "2  2016-03-26 18:57:24                  Volkswagen_Golf_1.6_United  privat   \n",
       "\n",
       "  offerType   price   abtest vehicleType  yearOfRegistration    gearbox  \\\n",
       "0   Angebot  $5,000  control         bus                2004    manuell   \n",
       "1   Angebot  $8,500  control   limousine                1997  automatik   \n",
       "2   Angebot  $8,990     test   limousine                2009    manuell   \n",
       "\n",
       "   powerPS   model   odometer  monthOfRegistration fuelType       brand  \\\n",
       "0      158  andere  150,000km                    3      lpg     peugeot   \n",
       "1      286     7er  150,000km                    6   benzin         bmw   \n",
       "2      102    golf   70,000km                    7   benzin  volkswagen   \n",
       "\n",
       "  notRepairedDamage          dateCreated  nrOfPictures  postalCode  \\\n",
       "0              nein  2016-03-26 00:00:00             0       79588   \n",
       "1              nein  2016-04-04 00:00:00             0       71034   \n",
       "2              nein  2016-03-26 00:00:00             0       35394   \n",
       "\n",
       "              lastSeen  \n",
       "0  2016-04-06 06:45:54  \n",
       "1  2016-04-06 14:45:08  \n",
       "2  2016-04-06 20:15:37  "
      ]
     },
     "execution_count": 6,
     "metadata": {},
     "output_type": "execute_result"
    }
   ],
   "source": [
    "autos.head(3)"
   ]
  },
  {
   "cell_type": "code",
   "execution_count": 7,
   "metadata": {},
   "outputs": [
    {
     "name": "stdout",
     "output_type": "stream",
     "text": [
      "<class 'pandas.core.frame.DataFrame'>\n",
      "RangeIndex: 50000 entries, 0 to 49999\n",
      "Data columns (total 20 columns):\n",
      " #   Column               Non-Null Count  Dtype \n",
      "---  ------               --------------  ----- \n",
      " 0   dateCrawled          50000 non-null  object\n",
      " 1   name                 50000 non-null  object\n",
      " 2   seller               50000 non-null  object\n",
      " 3   offerType            50000 non-null  object\n",
      " 4   price                50000 non-null  object\n",
      " 5   abtest               50000 non-null  object\n",
      " 6   vehicleType          44905 non-null  object\n",
      " 7   yearOfRegistration   50000 non-null  int64 \n",
      " 8   gearbox              47320 non-null  object\n",
      " 9   powerPS              50000 non-null  int64 \n",
      " 10  model                47242 non-null  object\n",
      " 11  odometer             50000 non-null  object\n",
      " 12  monthOfRegistration  50000 non-null  int64 \n",
      " 13  fuelType             45518 non-null  object\n",
      " 14  brand                50000 non-null  object\n",
      " 15  notRepairedDamage    40171 non-null  object\n",
      " 16  dateCreated          50000 non-null  object\n",
      " 17  nrOfPictures         50000 non-null  int64 \n",
      " 18  postalCode           50000 non-null  int64 \n",
      " 19  lastSeen             50000 non-null  object\n",
      "dtypes: int64(5), object(15)\n",
      "memory usage: 7.6+ MB\n"
     ]
    }
   ],
   "source": [
    "autos.info()"
   ]
  },
  {
   "cell_type": "markdown",
   "metadata": {},
   "source": [
    "### Observations\n",
    "\n",
    "- There's a max numbers of 50000 rows with 20 columns, there are rows that are complete and others that are not, some columns are missing data.\n",
    "\n",
    "\n",
    "- Column's name is not properly writed, so we need to [lowerCamelCase](https://en.wikipedia.org/wiki/Camel_case) it.\n",
    "\n",
    "\n",
    "- Some columns do not have the appropriate data type.\n",
    "\n",
    "\n",
    "- Some columns have null values, but none have more than ~20% null values."
   ]
  },
  {
   "cell_type": "markdown",
   "metadata": {},
   "source": [
    "### 1.2 Cleaning column names\n",
    "\n",
    "The column names use [camelcase](https://en.wikipedia.org/wiki/Camel_case) instead of Python's preferred [snakecase](https://en.wikipedia.org/wiki/Snake_case), which means we can't just replace spaces with underscores.\n",
    "\n",
    "Working on fixing the column names:\n",
    "\n",
    "   - `yearOfRegistration`  to `registration_year`\n",
    "   - `monthOfRegistration` to `registration_month`\n",
    "   - `notRepairedDamage`   to `unrepaired_damagè`\n",
    "   - `dateCreated`         to `ad_created`"
   ]
  },
  {
   "cell_type": "code",
   "execution_count": 8,
   "metadata": {},
   "outputs": [
    {
     "data": {
      "text/plain": [
       "Index(['dateCrawled', 'name', 'seller', 'offerType', 'price', 'abtest',\n",
       "       'vehicleType', 'yearOfRegistration', 'gearbox', 'powerPS', 'model',\n",
       "       'odometer', 'monthOfRegistration', 'fuelType', 'brand',\n",
       "       'notRepairedDamage', 'dateCreated', 'nrOfPictures', 'postalCode',\n",
       "       'lastSeen'],\n",
       "      dtype='object')"
      ]
     },
     "execution_count": 8,
     "metadata": {},
     "output_type": "execute_result"
    }
   ],
   "source": [
    "column_name = autos.columns\n",
    "column_name"
   ]
  },
  {
   "cell_type": "code",
   "execution_count": 9,
   "metadata": {},
   "outputs": [],
   "source": [
    "autos.rename({'yearOfRegistration':'registration_year','monthOfRegistration':'registration_month',\n",
    "             'notRepairedDamage':'unrepaired_damage','dateCreated':'ad_created',\n",
    "              'nrOfPictures':'nr_pictures'  \n",
    "             },axis = 1, inplace = True)"
   ]
  },
  {
   "cell_type": "markdown",
   "metadata": {},
   "source": [
    "and the rest of columns"
   ]
  },
  {
   "cell_type": "code",
   "execution_count": 10,
   "metadata": {},
   "outputs": [],
   "source": [
    "autos.rename({'dateCrawled':'date_crawled','price':'price_in_dollars',\n",
    "              'offerType':'offer_type','vehicleType':'vehicle_type',\n",
    "              'powerPS':'CV','fuelType':'fuel_type',\n",
    "              'nrOfPictures':'nr_pictures','postalCode':'postal_code',\n",
    "              'lastSeen':'last_seen',},\n",
    "             axis = 1, \n",
    "             inplace = True) "
   ]
  },
  {
   "cell_type": "code",
   "execution_count": null,
   "metadata": {},
   "outputs": [],
   "source": []
  },
  {
   "cell_type": "code",
   "execution_count": 11,
   "metadata": {},
   "outputs": [
    {
     "data": {
      "text/plain": [
       "Index(['date_crawled', 'name', 'seller', 'offer_type', 'price_in_dollars',\n",
       "       'abtest', 'vehicle_type', 'registration_year', 'gearbox', 'CV', 'model',\n",
       "       'odometer', 'registration_month', 'fuel_type', 'brand',\n",
       "       'unrepaired_damage', 'ad_created', 'nr_pictures', 'postal_code',\n",
       "       'last_seen'],\n",
       "      dtype='object')"
      ]
     },
     "execution_count": 11,
     "metadata": {},
     "output_type": "execute_result"
    }
   ],
   "source": [
    "autos.columns"
   ]
  },
  {
   "cell_type": "markdown",
   "metadata": {},
   "source": [
    "Renaming names on snake format, and **powerPS** are converted to **CV** (Cavalli Vapore) means 'Horse Power' in metric system, system used in Europe where the dataframe comes (Germany)\n",
    "\n",
    "based on this [link](https://www.autoweek.com/news/technology/a1820831/what-ps-metric-horsepower-autoweek-explains/)"
   ]
  },
  {
   "cell_type": "markdown",
   "metadata": {},
   "source": [
    "### 1.3 Initial Exploration Data and cleaning\n",
    "\n",
    "Cleaning tasks need to be done: \n",
    "\n",
    "\n",
    "- 1. Text columns where all or almost all values are the same. These can often **be dropped as they don't have useful** information for analysis.\n",
    "\n",
    "\n",
    "- 2. Examples of numeric **data stored as text which can be cleaned and converted**."
   ]
  },
  {
   "cell_type": "code",
   "execution_count": 12,
   "metadata": {},
   "outputs": [
    {
     "data": {
      "text/plain": [
       "Index(['dateCrawled', 'name', 'seller', 'offerType', 'price', 'abtest',\n",
       "       'vehicleType', 'yearOfRegistration', 'gearbox', 'powerPS', 'model',\n",
       "       'odometer', 'monthOfRegistration', 'fuelType', 'brand',\n",
       "       'notRepairedDamage', 'dateCreated', 'nrOfPictures', 'postalCode',\n",
       "       'lastSeen'],\n",
       "      dtype='object')"
      ]
     },
     "execution_count": 12,
     "metadata": {},
     "output_type": "execute_result"
    }
   ],
   "source": [
    "column_name"
   ]
  },
  {
   "cell_type": "markdown",
   "metadata": {},
   "source": [
    "### 1.4 Columns candidates to be droped:\n",
    "\n",
    "As we can see by the low relevance of the content it is appropriate to delete the following columns:\n",
    "\n",
    "- `seller`\n",
    "- `offer_type`\n",
    "- `abtest`\n",
    "- `nr_pictures`\n",
    "- `postal_code`"
   ]
  },
  {
   "cell_type": "code",
   "execution_count": 13,
   "metadata": {},
   "outputs": [
    {
     "data": {
      "text/plain": [
       "array(['privat', 'gewerblich'], dtype=object)"
      ]
     },
     "execution_count": 13,
     "metadata": {},
     "output_type": "execute_result"
    }
   ],
   "source": [
    "autos['seller'].unique()"
   ]
  },
  {
   "cell_type": "code",
   "execution_count": 14,
   "metadata": {},
   "outputs": [
    {
     "data": {
      "text/plain": [
       "array(['Angebot', 'Gesuch'], dtype=object)"
      ]
     },
     "execution_count": 14,
     "metadata": {},
     "output_type": "execute_result"
    }
   ],
   "source": [
    "autos['offer_type'].unique() # Angebot = Offer / Gesuch = Request"
   ]
  },
  {
   "cell_type": "code",
   "execution_count": 15,
   "metadata": {},
   "outputs": [
    {
     "data": {
      "text/plain": [
       "test       25756\n",
       "control    24244\n",
       "Name: abtest, dtype: int64"
      ]
     },
     "execution_count": 15,
     "metadata": {},
     "output_type": "execute_result"
    }
   ],
   "source": [
    "autos['abtest'].value_counts()"
   ]
  },
  {
   "cell_type": "code",
   "execution_count": 16,
   "metadata": {},
   "outputs": [
    {
     "data": {
      "text/plain": [
       "0    50000\n",
       "Name: nr_pictures, dtype: int64"
      ]
     },
     "execution_count": 16,
     "metadata": {},
     "output_type": "execute_result"
    }
   ],
   "source": [
    "autos['nr_pictures'].value_counts()"
   ]
  },
  {
   "cell_type": "code",
   "execution_count": 17,
   "metadata": {},
   "outputs": [
    {
     "data": {
      "text/plain": [
       "array([79588, 71034, 35394, 33729, 39218, 22962, 31535, 53474,  7426,\n",
       "       15749])"
      ]
     },
     "execution_count": 17,
     "metadata": {},
     "output_type": "execute_result"
    }
   ],
   "source": [
    "autos['postal_code'].unique()[:10]"
   ]
  },
  {
   "cell_type": "markdown",
   "metadata": {},
   "source": [
    "### Dropping columns."
   ]
  },
  {
   "cell_type": "code",
   "execution_count": 18,
   "metadata": {},
   "outputs": [],
   "source": [
    "columns_todrop = ['seller','offer_type','abtest','nr_pictures','postal_code']\n",
    "\n",
    "for i in columns_todrop:\n",
    "    autos.drop([i], axis=1, inplace=True)"
   ]
  },
  {
   "cell_type": "code",
   "execution_count": null,
   "metadata": {},
   "outputs": [],
   "source": [
    "len(autos.columns) # number columns after"
   ]
  },
  {
   "cell_type": "code",
   "execution_count": 20,
   "metadata": {},
   "outputs": [
    {
     "data": {
      "text/html": [
       "<div>\n",
       "<style scoped>\n",
       "    .dataframe tbody tr th:only-of-type {\n",
       "        vertical-align: middle;\n",
       "    }\n",
       "\n",
       "    .dataframe tbody tr th {\n",
       "        vertical-align: top;\n",
       "    }\n",
       "\n",
       "    .dataframe thead th {\n",
       "        text-align: right;\n",
       "    }\n",
       "</style>\n",
       "<table border=\"1\" class=\"dataframe\">\n",
       "  <thead>\n",
       "    <tr style=\"text-align: right;\">\n",
       "      <th></th>\n",
       "      <th>date_crawled</th>\n",
       "      <th>name</th>\n",
       "      <th>price_in_dollars</th>\n",
       "      <th>vehicle_type</th>\n",
       "      <th>registration_year</th>\n",
       "      <th>gearbox</th>\n",
       "      <th>CV</th>\n",
       "      <th>model</th>\n",
       "      <th>odometer</th>\n",
       "      <th>registration_month</th>\n",
       "      <th>fuel_type</th>\n",
       "      <th>brand</th>\n",
       "      <th>unrepaired_damage</th>\n",
       "      <th>ad_created</th>\n",
       "      <th>last_seen</th>\n",
       "    </tr>\n",
       "  </thead>\n",
       "  <tbody>\n",
       "  </tbody>\n",
       "</table>\n",
       "</div>"
      ],
      "text/plain": [
       "Empty DataFrame\n",
       "Columns: [date_crawled, name, price_in_dollars, vehicle_type, registration_year, gearbox, CV, model, odometer, registration_month, fuel_type, brand, unrepaired_damage, ad_created, last_seen]\n",
       "Index: []"
      ]
     },
     "execution_count": 20,
     "metadata": {},
     "output_type": "execute_result"
    }
   ],
   "source": [
    "autos.head(0)"
   ]
  },
  {
   "cell_type": "markdown",
   "metadata": {},
   "source": [
    "### 1.5 Columns that need more investigation.\n",
    "\n",
    "Using `describe` show us **Nan** values, so I want to assure what the reason is."
   ]
  },
  {
   "cell_type": "code",
   "execution_count": null,
   "metadata": {},
   "outputs": [],
   "source": [
    "autos['unrepaired_damage'].value_counts(dropna=False)"
   ]
  },
  {
   "cell_type": "markdown",
   "metadata": {},
   "source": [
    "## 2. Numeric data stored as text that needs to be cleaned and converted\n",
    "\n",
    "A quick look at **all the text-type** columns to determine which ones should be cleaned and changed the data type."
   ]
  },
  {
   "cell_type": "code",
   "execution_count": null,
   "metadata": {
    "scrolled": true
   },
   "outputs": [],
   "source": [
    "for index in autos.columns:\n",
    "    condition = autos[index].dtype\n",
    "    if  condition == 'object':\n",
    "        print(\"\\n\" )\n",
    "        print(autos[index][0:2])"
   ]
  },
  {
   "cell_type": "code",
   "execution_count": null,
   "metadata": {},
   "outputs": [],
   "source": [
    "%%html\n",
    "<style>\n",
    "table {float:left}\n",
    "</style>"
   ]
  },
  {
   "cell_type": "markdown",
   "metadata": {},
   "source": [
    "|text column names|to clean|\n",
    "|:---|:---|\n",
    "|date_crawled|datetime|\n",
    "|name|**ok**|\n",
    "|price_in_dollars|clean $ sign, to number|\n",
    "|vehicle_type|**ok**|\n",
    "|gearbox|**ok**|\n",
    "|mmodel|**ok**|\n",
    "|odometer|clean km, to number and rename column to odometer_km|\n",
    "|fuel_type|**ok**|\n",
    "|brand|**ok**|\n",
    "|unrepaired_damage|**ok**|\n",
    "|ad_created|**ok**|"
   ]
  },
  {
   "cell_type": "markdown",
   "metadata": {},
   "source": [
    "### 2.1 Character deletion and integer conversion\n",
    "\n",
    "Let's only modify the columns price in dollars and odometer"
   ]
  },
  {
   "cell_type": "code",
   "execution_count": null,
   "metadata": {},
   "outputs": [],
   "source": [
    "autos['price_in_dollars'] = autos['price_in_dollars'].str.replace('$', '')\n",
    "autos['price_in_dollars'] = autos['price_in_dollars'].str.replace(',', '')\n",
    "autos['price_in_dollars'] = autos['price_in_dollars'].astype(int)\n",
    "autos['price_in_dollars']"
   ]
  },
  {
   "cell_type": "code",
   "execution_count": null,
   "metadata": {},
   "outputs": [],
   "source": [
    "autos.rename({'odometer':'odometer_km'}, axis = 1, inplace = True)\n",
    "autos['odometer_km'] = autos['odometer_km'].str.replace(',','')\n",
    "autos['odometer_km'] = autos['odometer_km'].str.replace('km','')\n",
    "autos['odometer_km'] = autos['odometer_km'].astype(int)\n",
    "autos['odometer_km']"
   ]
  },
  {
   "cell_type": "markdown",
   "metadata": {},
   "source": [
    "## 3. What does our dataset look like?"
   ]
  },
  {
   "cell_type": "code",
   "execution_count": null,
   "metadata": {},
   "outputs": [],
   "source": [
    "autos.describe() # numeric columns"
   ]
  },
  {
   "cell_type": "markdown",
   "metadata": {},
   "source": [
    "### 3.1 Exploring the `odometer_km`"
   ]
  },
  {
   "cell_type": "code",
   "execution_count": null,
   "metadata": {},
   "outputs": [],
   "source": [
    "autos['odometer_km'].unique()"
   ]
  },
  {
   "cell_type": "code",
   "execution_count": null,
   "metadata": {},
   "outputs": [],
   "source": [
    "autos['odometer_km'].unique().shape"
   ]
  },
  {
   "cell_type": "code",
   "execution_count": null,
   "metadata": {},
   "outputs": [],
   "source": [
    "autos['odometer_km'].value_counts().sort_index(ascending = False)"
   ]
  },
  {
   "cell_type": "markdown",
   "metadata": {},
   "source": [
    "#### Upper limit `odometer_km`"
   ]
  },
  {
   "cell_type": "code",
   "execution_count": null,
   "metadata": {},
   "outputs": [],
   "source": [
    "autos['odometer_km'].value_counts().sort_index(ascending = False).head(5)"
   ]
  },
  {
   "cell_type": "markdown",
   "metadata": {},
   "source": [
    "#### Lower limit `odometer_km`"
   ]
  },
  {
   "cell_type": "code",
   "execution_count": null,
   "metadata": {},
   "outputs": [],
   "source": [
    "autos['odometer_km'].value_counts().sort_index(ascending = True).head(5)"
   ]
  },
  {
   "cell_type": "code",
   "execution_count": null,
   "metadata": {},
   "outputs": [],
   "source": [
    "autos[\"odometer_km\"].describe().round()"
   ]
  },
  {
   "cell_type": "markdown",
   "metadata": {},
   "source": [
    "there do not appear to be outliers in this column `odometer_km`"
   ]
  },
  {
   "cell_type": "markdown",
   "metadata": {},
   "source": [
    "### 3.2 Exploring the `price_in_dollar`"
   ]
  },
  {
   "cell_type": "code",
   "execution_count": null,
   "metadata": {},
   "outputs": [],
   "source": [
    "autos['price_in_dollars'].unique().shape"
   ]
  },
  {
   "cell_type": "markdown",
   "metadata": {},
   "source": [
    "###  3.2.1 Upper limit `price_in_dollars` detecting outlyers"
   ]
  },
  {
   "cell_type": "code",
   "execution_count": null,
   "metadata": {},
   "outputs": [],
   "source": [
    "autos['price_in_dollars'].value_counts().sort_index(ascending = False).head(15)"
   ]
  },
  {
   "cell_type": "markdown",
   "metadata": {},
   "source": [
    "Let's see to which vehicle the value of 265000$ corresponds. \n",
    "\n",
    "In the event that this price is consistent with the vehicle, we can take it as a reference."
   ]
  },
  {
   "cell_type": "code",
   "execution_count": null,
   "metadata": {},
   "outputs": [],
   "source": [
    "autos[autos[\"price_in_dollars\"] == 265000]"
   ]
  },
  {
   "cell_type": "markdown",
   "metadata": {},
   "source": [
    "It makes sense, so we will use our comparison from this value upwards and see what we find.\n",
    "\n",
    "https://www.carindigo.com/used-cars/porsche-911-gt3-rs\n",
    "\n",
    "As there are not too many values to check, it seems sensible to start from this model and see what we can eliminate and what we cannot.\n",
    "\n",
    "let's see which vehicles are above this one, creating a new dataset variable `top_list` to have a look."
   ]
  },
  {
   "cell_type": "code",
   "execution_count": null,
   "metadata": {
    "scrolled": true
   },
   "outputs": [],
   "source": [
    "top_list = autos[(autos[\"price_in_dollars\"] >= 265000)].sort_index(ascending = False)"
   ]
  },
  {
   "cell_type": "code",
   "execution_count": null,
   "metadata": {},
   "outputs": [],
   "source": [
    "top_list[[\"price_in_dollars\",\"brand\",\"model\",\"vehicle_type\"]].sort_index(ascending = False)"
   ]
  },
  {
   "cell_type": "markdown",
   "metadata": {},
   "source": [
    "### 3.2.1.1 Exploring price outliers on the top of the list:\n",
    "\n",
    "There are vehicles that make sense to be on this list and that others clearly do not, for example: \n",
    "\n",
    "Strange values of 1234566, corresponding to a BMW or 11111111 to a Volkswagen even a C4 that is worth 27322222. \n",
    "\n",
    "Clearly, these cases could be eliminated as error.\n",
    "\n",
    "However, there are some kind of vehicles called **'sonstige autos'** (mean **other cars in German**) that we are not aware of and because they have an important weight in the list it is important to clarify whether or not we should eliminate them.  "
   ]
  },
  {
   "cell_type": "code",
   "execution_count": null,
   "metadata": {},
   "outputs": [],
   "source": [
    "top_list[top_list[\"brand\"] == \"sonstige_autos\"]"
   ]
  },
  {
   "cell_type": "markdown",
   "metadata": {},
   "source": [
    "### let's check if these prices correspond to reality"
   ]
  },
  {
   "cell_type": "markdown",
   "metadata": {},
   "source": [
    "| name | price in Dollars |registration_year | source |\n",
    "| :--- | :----------- |:------ | :--- |\n",
    "| Ferrari_FXX | 4,000,000| 2006 |https://www.autoblog.com/2006/06/14/for-sale-2006-ferrari-fxx-slightly-used/?guccounter=1 |\n",
    "| Rolls_Royce_Phantom_Drophead_Coupe | From 450,000 | 2012 | https://www.cars.com/shopping/rolls_royce-phantom_drophead_coupe-2012/ |\n",
    "|Ferrari_F40| 1,959,900 |1992 | https://www.dupontregistry.com/autos/listing/1992/ferrari/f40/2418434 |\n",
    "|Maserati 3200 GT|  | |  **Note** | "
   ]
  },
  {
   "cell_type": "markdown",
   "metadata": {},
   "source": [
    "**Note**: In relation to the Maserati, there are several things to consider.\n",
    "\n",
    "\n",
    "- The [3200 Gt](https://es.wikipedia.org/wiki/Maserati_3200_GT) model was in production during the period 1998 to 2001 so the registration date we have from 1960 does not match, however, during the period 1957 - 1964 only one model of this brand was produced, the  [3500 Gt](https://en.wikipedia.org/wiki/Maserati_3500_GT#:~:text=The%20Maserati%203500%20GT%20(Tipo,Maserati%20between%201957%20and%201964.), only 2,222 units were produced between the Coupe and the Spider version.\n",
    "\n",
    "- If we also take into account the description referred to in the cell of the name:\n",
    "\n",
    "     ***\" Zustand_unwichtig_laufe... // Condition_unimportant_running...\"***\n",
    "\n",
    "\n",
    "- The person who placed the advert was looking for a masserati in any condition (just running or not...), this gives us a clue that the model we are talking about is not the newest one, so probably refers to the 60's model.\n",
    "\n",
    "- As if this were not enough the price we have is 10 000 000 dollars and surely this is wrong because doing a search of what is the value of the car [I have found that this ranges between 863.170,50 USD / 151.290,57 USD](https://www.el-parking.es/coches-usados/maserati-3500-gt.html#!/coches-usados/maserati-3500-gt.html%3Ftri%3Dprix_decroissant)\n",
    "\n",
    "Therefore, the best thing I can think of is assign the <strong>'average between prices'</strong> to our vehicle.\n"
   ]
  },
  {
   "cell_type": "code",
   "execution_count": null,
   "metadata": {},
   "outputs": [],
   "source": [
    "autos.iloc[11137,:]"
   ]
  },
  {
   "cell_type": "markdown",
   "metadata": {},
   "source": [
    "Change the **'average between prices'** price of the Masserati = 507230$"
   ]
  },
  {
   "cell_type": "code",
   "execution_count": null,
   "metadata": {},
   "outputs": [],
   "source": [
    "autos.iloc[11137,4] = 507230"
   ]
  },
  {
   "cell_type": "markdown",
   "metadata": {},
   "source": [
    "### Removing rows from top list\n",
    "\n",
    "#### So... what do we have to remove from this top list?\n",
    "\n",
    "Everything other than \n",
    "\n",
    "If **'Sonstige_autos'** and **'Porsche'** remain, we will eliminate the others that are the ones that do not interest us"
   ]
  },
  {
   "cell_type": "code",
   "execution_count": null,
   "metadata": {},
   "outputs": [],
   "source": [
    "removed_bad_price_bool = ((top_list[\"brand\"] != 'sonstige_autos') & (top_list[\"brand\"] != 'porsche'))"
   ]
  },
  {
   "cell_type": "markdown",
   "metadata": {},
   "source": [
    "These are the rows that we must eliminate"
   ]
  },
  {
   "cell_type": "code",
   "execution_count": null,
   "metadata": {
    "scrolled": true
   },
   "outputs": [],
   "source": [
    "bad_cars = top_list[removed_bad_price_bool]\n",
    "bad_cars"
   ]
  },
  {
   "cell_type": "markdown",
   "metadata": {},
   "source": [
    "#### Running the index of each row we eliminate the vehicles from the main dataset `autos`"
   ]
  },
  {
   "cell_type": "code",
   "execution_count": null,
   "metadata": {},
   "outputs": [],
   "source": [
    "for bad in bad_cars.index:\n",
    "    autos.drop([bad], inplace = True)"
   ]
  },
  {
   "cell_type": "markdown",
   "metadata": {},
   "source": [
    "###  3.2.2 Exploring price outliers on the botton of the list:"
   ]
  },
  {
   "cell_type": "code",
   "execution_count": null,
   "metadata": {},
   "outputs": [],
   "source": [
    "autos[\"price_in_dollars\"].describe().round()"
   ]
  },
  {
   "cell_type": "markdown",
   "metadata": {},
   "source": [
    "### The importance of a specific strip on our data set.\n",
    "\n",
    "#### The minimum value is 0 and we do not reach 25% of the total dataset the price does not reach 1100€.\n",
    "\n",
    "Let's see if prices vary a lot or if they are very spread out within this range (25%). "
   ]
  },
  {
   "cell_type": "code",
   "execution_count": null,
   "metadata": {},
   "outputs": [],
   "source": [
    "autos[autos['price_in_dollars'].between(0,1100)].describe()"
   ]
  },
  {
   "cell_type": "markdown",
   "metadata": {},
   "source": [
    "if i want to the total sum of the price of these vehicles **in different price ranges**\n",
    "\n",
    "i.e. how much 75 of the 25 of the total."
   ]
  },
  {
   "cell_type": "code",
   "execution_count": null,
   "metadata": {},
   "outputs": [],
   "source": [
    "seventy_five = autos[autos['price_in_dollars'].between(850,1100)] #75% of the total 25%\n",
    "seventy_five.loc[:,'price_in_dollars'].sum()"
   ]
  },
  {
   "cell_type": "code",
   "execution_count": null,
   "metadata": {},
   "outputs": [],
   "source": [
    "fifty_percent = autos[autos['price_in_dollars'].between(599,850)] #50% of the total 25%\n",
    "fifty_percent.loc[:,'price_in_dollars'].sum()"
   ]
  },
  {
   "cell_type": "code",
   "execution_count": null,
   "metadata": {},
   "outputs": [],
   "source": [
    "cuart = autos[autos['price_in_dollars'].between(300,599)] #25% of the total 25%\n",
    "cuart.loc[:,'price_in_dollars'].sum()"
   ]
  },
  {
   "cell_type": "markdown",
   "metadata": {},
   "source": [
    "In this way the importance in the overall data set can be compared.\n",
    "\n",
    "\n",
    "| price ranges | price in Dollars | percentage over total |\n",
    "| :---          | :-----  | :-----      | \n",
    "| [850 ~  1100] | 3227534 | 1,095478069 % |\n",
    "| [599 ~ 850]   | 2462601 | 0,835847241 % |\n",
    "| [300 ~ 599]   | 1431649 | 0,485925193 % |"
   ]
  },
  {
   "cell_type": "markdown",
   "metadata": {},
   "source": [
    "It seems that it is not too relevant, so in order to take advantage of the maximum amount of information I will take into account a range that goes from the maximum that we have already defined before to **850 €.**\n",
    "\n",
    "Once we have the properlly data at the top and at the bottom, we make a clean copy of our dataframe and call it:\n",
    "\n",
    "- `auto_clean`"
   ]
  },
  {
   "cell_type": "code",
   "execution_count": null,
   "metadata": {},
   "outputs": [],
   "source": [
    "auto_clean = autos[autos['price_in_dollars'].between(850,10000000)].copy()"
   ]
  },
  {
   "cell_type": "code",
   "execution_count": null,
   "metadata": {},
   "outputs": [],
   "source": [
    "auto_clean['price_in_dollars'].describe().round()"
   ]
  },
  {
   "cell_type": "markdown",
   "metadata": {},
   "source": [
    "## 4. Date columns\n",
    "\n",
    "These are the four columns that represent dates:\n",
    "\n",
    "- `date_crawled`\n",
    "\n",
    "- `ad_created`\n",
    "\n",
    "- `last_seen`\n",
    "\n",
    "- `registration_year`"
   ]
  },
  {
   "cell_type": "code",
   "execution_count": null,
   "metadata": {},
   "outputs": [],
   "source": [
    "auto_clean['registration_year'].dtype"
   ]
  },
  {
   "cell_type": "code",
   "execution_count": null,
   "metadata": {},
   "outputs": [],
   "source": [
    "auto_clean['date_crawled'].dtype"
   ]
  },
  {
   "cell_type": "markdown",
   "metadata": {},
   "source": [
    "Columns with with two different types of data, numerical and type = ('O')\n",
    "\n",
    "The first character specifies the kind of data and the remaining characters specify the number of bytes per item, except for Unicode, where it is interpreted as the number of characters. \n",
    "\n",
    "The item size must correspond to an existing type, or an error will be raised. The supported kinds are to an existing type, or an error will be raised. The supported kinds are:\n",
    "\n",
    "|dtype|type|\n",
    "|:--|:--|\n",
    "|'b'       |boolean|\n",
    "|'i'       |(signed) integer|\n",
    "|'u'       |unsigned integer|\n",
    "|'f'       |floating-point|\n",
    "|'c'       |complex-floating point|\n",
    "|**'O'**       |**(Python) objects**|\n",
    "|'S', 'a'  |(byte-)string|\n",
    "|'U'       |Unicode|\n",
    "|'V'       |raw data (void)|"
   ]
  },
  {
   "cell_type": "markdown",
   "metadata": {},
   "source": [
    "Objects of this type are usually of type text strings.\n",
    "\n",
    "https://docs.scipy.org/doc/numpy-1.10.1/reference/arrays.dtypes.html"
   ]
  },
  {
   "cell_type": "code",
   "execution_count": null,
   "metadata": {},
   "outputs": [],
   "source": [
    "auto_clean[['date_crawled','ad_created','last_seen']].describe() # type text"
   ]
  },
  {
   "cell_type": "markdown",
   "metadata": {},
   "source": [
    "### 4.1 Text to datetime format\n",
    "\n",
    "We need to convert the data text into a in a time format so we can understand it quantitatively, and understand the distribution."
   ]
  },
  {
   "cell_type": "code",
   "execution_count": null,
   "metadata": {},
   "outputs": [],
   "source": [
    "replace_columns = ['date_crawled', 'ad_created', 'last_seen']\n",
    "\n",
    "for column in replace_columns:\n",
    "    auto_clean[column] = auto_clean[column].str[:10]\n",
    "    auto_clean[column] = auto_clean[column].str.replace('-','')\n",
    "    auto_clean[column] = auto_clean[column].astype(int)\n",
    "    #auto_clean[column] = auto_clean[column].value_counts(normalize=True, dropna=False)\n",
    "    \n",
    "auto_clean[['date_crawled','ad_created','last_seen','registration_year']].describe()"
   ]
  },
  {
   "cell_type": "markdown",
   "metadata": {},
   "source": [
    "The first three columns are the ones that we have just modified give us an unclear information, the reason is that the date format of which we are working includes the month and the day and as pandas sees it as an integer of must appear the engineering notation.\n",
    "\n",
    "On the other hand, in column registration_year, even if it is of int type, we see that both the minimum value and the maximum value do not correspond to what should be the years of the registration of the vehicles.\n",
    "\n",
    "we will work with each of the series individually.\n",
    "\n",
    "### 4.1.1 Distribution of values in the `date_crawled`, `ad_created`, and `last_seen` columns"
   ]
  },
  {
   "cell_type": "code",
   "execution_count": null,
   "metadata": {},
   "outputs": [],
   "source": [
    "auto_clean['date_crawled'][2] # content series looks like..."
   ]
  },
  {
   "cell_type": "code",
   "execution_count": null,
   "metadata": {},
   "outputs": [],
   "source": [
    "import datetime as dt"
   ]
  },
  {
   "cell_type": "markdown",
   "metadata": {},
   "source": [
    "### date_crawled"
   ]
  },
  {
   "cell_type": "code",
   "execution_count": null,
   "metadata": {},
   "outputs": [],
   "source": [
    "var_date_crawled = auto_clean['date_crawled']"
   ]
  },
  {
   "cell_type": "code",
   "execution_count": null,
   "metadata": {},
   "outputs": [],
   "source": [
    "auto_clean['date_crawled'] = pd.to_datetime(var_date_crawled,format='%Y%m%d')"
   ]
  },
  {
   "cell_type": "code",
   "execution_count": null,
   "metadata": {},
   "outputs": [],
   "source": [
    "auto_clean['date_crawled'].describe()"
   ]
  },
  {
   "cell_type": "code",
   "execution_count": null,
   "metadata": {
    "scrolled": true
   },
   "outputs": [],
   "source": [
    "auto_clean['date_crawled'].value_counts(normalize=True, dropna=False)*100"
   ]
  },
  {
   "cell_type": "markdown",
   "metadata": {},
   "source": [
    "### ad_created"
   ]
  },
  {
   "cell_type": "code",
   "execution_count": null,
   "metadata": {},
   "outputs": [],
   "source": [
    "var_date_crawled = auto_clean['ad_created']"
   ]
  },
  {
   "cell_type": "code",
   "execution_count": null,
   "metadata": {},
   "outputs": [],
   "source": [
    "auto_clean['ad_created'] = pd.to_datetime(var_date_crawled,format='%Y%m%d')"
   ]
  },
  {
   "cell_type": "code",
   "execution_count": null,
   "metadata": {},
   "outputs": [],
   "source": [
    "auto_clean['ad_created'].describe()"
   ]
  },
  {
   "cell_type": "code",
   "execution_count": null,
   "metadata": {},
   "outputs": [],
   "source": [
    "auto_clean['ad_created'].value_counts(normalize=True, dropna=False)*100"
   ]
  },
  {
   "cell_type": "markdown",
   "metadata": {},
   "source": [
    "### last_seen"
   ]
  },
  {
   "cell_type": "code",
   "execution_count": null,
   "metadata": {},
   "outputs": [],
   "source": [
    "var_date_crawled = auto_clean['last_seen']"
   ]
  },
  {
   "cell_type": "code",
   "execution_count": null,
   "metadata": {},
   "outputs": [],
   "source": [
    "auto_clean['last_seen'] = pd.to_datetime(var_date_crawled,format='%Y%m%d')"
   ]
  },
  {
   "cell_type": "code",
   "execution_count": null,
   "metadata": {},
   "outputs": [],
   "source": [
    "auto_clean['last_seen'].describe()"
   ]
  },
  {
   "cell_type": "code",
   "execution_count": null,
   "metadata": {
    "scrolled": true
   },
   "outputs": [],
   "source": [
    "auto_clean['last_seen'].value_counts(normalize=True, dropna=False)*100"
   ]
  },
  {
   "cell_type": "markdown",
   "metadata": {},
   "source": [
    "### 4.1.2 Selecting the upper and lower limit `registration_year`\n",
    "\n",
    "In the column of when the cars were registered it is convenient to look at the upper and lower limits to determine the time interval in which we are working."
   ]
  },
  {
   "cell_type": "code",
   "execution_count": null,
   "metadata": {},
   "outputs": [],
   "source": [
    "auto_clean['registration_year'].value_counts().sort_index(ascending = False).head(20)"
   ]
  },
  {
   "cell_type": "code",
   "execution_count": null,
   "metadata": {
    "scrolled": true
   },
   "outputs": [],
   "source": [
    "auto_clean['registration_year'].value_counts().sort_index(ascending = False).tail(30)"
   ]
  },
  {
   "cell_type": "markdown",
   "metadata": {},
   "source": [
    "The maximum and minimum dates are wrong.\n",
    "\n",
    "\n",
    "\n",
    "\n",
    "\n",
    "\n",
    "although in this column we see that there are values until 2018, We see that beyond 2016 the values of the dates do not make sense, however we must remember that the data capture was done in 2016  thats the reason  those dates do not exist we should limit the highest year to 2016.\n",
    "\n",
    "Any vehicle with a registration year above 2016 is inaccurate. \n",
    "\n",
    "Determining the earliest valid year is more difficult. Realistically, it could be somewhere in the first few decades of the 1900s, let's set a time slot between 1959,2016.\n",
    "\n",
    "Let's count the number of listings with cars that fall outside the 1900 - 2016 interval and see if it's safe to remove those rows entirely, or if we need more custom logic."
   ]
  },
  {
   "cell_type": "code",
   "execution_count": null,
   "metadata": {},
   "outputs": [],
   "source": [
    "years = auto_clean['registration_year'].between(1959,2016)"
   ]
  },
  {
   "cell_type": "code",
   "execution_count": null,
   "metadata": {},
   "outputs": [],
   "source": [
    "auto_clean['registration_year'] = auto_clean[years]['registration_year']"
   ]
  },
  {
   "cell_type": "code",
   "execution_count": null,
   "metadata": {
    "scrolled": true
   },
   "outputs": [],
   "source": [
    "auto_clean['registration_year'].value_counts(normalize=True, dropna=False)*100 # % of frecuency"
   ]
  },
  {
   "cell_type": "markdown",
   "metadata": {},
   "source": [
    "### Summary"
   ]
  },
  {
   "cell_type": "code",
   "execution_count": null,
   "metadata": {},
   "outputs": [],
   "source": [
    "auto_clean[['date_crawled','ad_created','last_seen']].describe()"
   ]
  },
  {
   "cell_type": "markdown",
   "metadata": {},
   "source": [
    "Between March and April 2016 there was the highest activity on the site."
   ]
  },
  {
   "cell_type": "code",
   "execution_count": null,
   "metadata": {},
   "outputs": [],
   "source": [
    "auto_clean['registration_year'].describe()"
   ]
  },
  {
   "cell_type": "markdown",
   "metadata": {},
   "source": [
    "75% of the vehicles were registered in 2008."
   ]
  },
  {
   "cell_type": "code",
   "execution_count": null,
   "metadata": {},
   "outputs": [],
   "source": [
    "auto_clean['registration_year'].value_counts(normalize=True,\n",
    "                                             dropna=False, \n",
    "                                             bins = 10).sort_index(ascending = False).round(3)*100"
   ]
  },
  {
   "cell_type": "markdown",
   "metadata": {},
   "source": [
    "This is the distribution of the dates of registration by groups of 10, in which we can see how the period between 2002 and 2007 is the one with the highest number of registrations. \n",
    "\n",
    "## 5. Price by Brand\n",
    "\n",
    "Brands with the highest number of vehicles on the sales list"
   ]
  },
  {
   "cell_type": "code",
   "execution_count": null,
   "metadata": {},
   "outputs": [],
   "source": [
    "top_ten_brands=auto_clean['brand'].value_counts()\n",
    "top_ten_brands"
   ]
  },
  {
   "cell_type": "code",
   "execution_count": null,
   "metadata": {},
   "outputs": [],
   "source": [
    "selected_brands=auto_clean['brand'].value_counts().index[:10]\n",
    "selected_brands"
   ]
  },
  {
   "cell_type": "markdown",
   "metadata": {},
   "source": [
    "I choose only the 10 first brands"
   ]
  },
  {
   "cell_type": "markdown",
   "metadata": {},
   "source": [
    "### 5.1 Average price per vehicle brand"
   ]
  },
  {
   "cell_type": "code",
   "execution_count": null,
   "metadata": {},
   "outputs": [],
   "source": [
    "brands_price = {}\n",
    "\n",
    "for brand in selected_brands:\n",
    "    sel_brand = auto_clean[auto_clean['brand'] == brand ]\n",
    "    brands_price[brand] = sel_brand['price_in_dollars'].mean().round()\n",
    "\n",
    "brands_price_sorted = sorted(brands_price.items(),key = lambda kv: kv[1],reverse=True)\n",
    "brands_price_sorted"
   ]
  },
  {
   "cell_type": "markdown",
   "metadata": {},
   "source": [
    "### 5.2 Average number of kilometers per vehicle brand "
   ]
  },
  {
   "cell_type": "code",
   "execution_count": null,
   "metadata": {},
   "outputs": [],
   "source": [
    "brands_km = {}\n",
    "\n",
    "for brand in sorted(selected_brands):\n",
    "    sel_brand = auto_clean[auto_clean['brand'] == brand ]\n",
    "    brands_km[brand] = sel_brand['odometer_km'].mean().round()\n",
    "\n",
    "brands_km_sorted = sorted(brands_km.items(),key = lambda kv: kv[1], reverse=True)\n",
    "brands_km_sorted"
   ]
  },
  {
   "cell_type": "markdown",
   "metadata": {},
   "source": [
    "### 5.3 List of car brands by average price and average mileage"
   ]
  },
  {
   "cell_type": "code",
   "execution_count": null,
   "metadata": {},
   "outputs": [],
   "source": [
    "listado = {}\n",
    "\n",
    "template_string = \"Mean price {money:.2f}$ and {km:.2f} mean Kilometers\"\n",
    "\n",
    "for vehiculo in brands_price:\n",
    "    mean_price = brands_price[vehiculo]\n",
    "    mean_km = brands_km[vehiculo]\n",
    "    output = template_string.format(money = mean_price, km = mean_km )\n",
    "    listado[vehiculo] = output\n",
    "    \n",
    "listado"
   ]
  },
  {
   "cell_type": "code",
   "execution_count": null,
   "metadata": {},
   "outputs": [],
   "source": [
    "frame = {'brands average price':brands_price,\n",
    "         'brands average kilometer':brands_km}\n",
    "\n",
    "output = pd.DataFrame(frame)\n",
    "output"
   ]
  },
  {
   "cell_type": "markdown",
   "metadata": {},
   "source": [
    "## 6. Storing Aggregate Data in a DataFrame"
   ]
  },
  {
   "cell_type": "code",
   "execution_count": null,
   "metadata": {},
   "outputs": [],
   "source": [
    "brands_price_series = pd.Series(brands_price)"
   ]
  },
  {
   "cell_type": "code",
   "execution_count": null,
   "metadata": {},
   "outputs": [],
   "source": [
    "brands_price_series"
   ]
  },
  {
   "cell_type": "code",
   "execution_count": null,
   "metadata": {},
   "outputs": [],
   "source": [
    "brands_km_series = pd.Series(brands_km)"
   ]
  },
  {
   "cell_type": "code",
   "execution_count": null,
   "metadata": {},
   "outputs": [],
   "source": [
    "brands_km_series"
   ]
  },
  {
   "cell_type": "code",
   "execution_count": null,
   "metadata": {},
   "outputs": [],
   "source": [
    "auto_clean['registration_year']\n",
    "\n",
    "frame = {'mean_price':brands_price_series,\n",
    "        'mean_kilometers':brands_km_series}\n",
    "\n",
    "output = pd.DataFrame(frame)\n",
    "output"
   ]
  },
  {
   "cell_type": "markdown",
   "metadata": {},
   "source": [
    "List of car brands by highest price, their average price and average mileage.\n",
    "\n",
    "### 6.1 Identify categorical data\n",
    "\n",
    "Using German words, translate them and map the values to their equivalents, in this case to Spanish, because there are categories that are unknown here. "
   ]
  },
  {
   "cell_type": "code",
   "execution_count": null,
   "metadata": {},
   "outputs": [],
   "source": [
    " auto_clean['vehicle_type'].value_counts(dropna = False)"
   ]
  },
  {
   "cell_type": "code",
   "execution_count": null,
   "metadata": {},
   "outputs": [],
   "source": [
    "auto_clean['vehicle_type'].value_counts().dropna()"
   ]
  },
  {
   "cell_type": "code",
   "execution_count": null,
   "metadata": {},
   "outputs": [],
   "source": [
    "categorical_vehicle_type = auto_clean['vehicle_type'].value_counts().dropna().index[:]"
   ]
  },
  {
   "cell_type": "code",
   "execution_count": null,
   "metadata": {},
   "outputs": [],
   "source": [
    "category_translator = {'bus':'monovolumen','limousine':'sedan', 'kleinwagen':'compacto','kombi':'familiar',\n",
    "                       'coupe':'coupe','suv':'suv','cabrio':'cabrio','andere':'otros'}\n",
    "\n",
    "for category in categorical_vehicle_type:\n",
    "    bool_category = auto_clean['vehicle_type'] == category\n",
    "    auto_clean.loc[bool_category,'vehicle_type'] = category_translator[category]"
   ]
  },
  {
   "cell_type": "code",
   "execution_count": null,
   "metadata": {},
   "outputs": [],
   "source": [
    "auto_clean['vehicle_type'].value_counts()"
   ]
  },
  {
   "cell_type": "code",
   "execution_count": null,
   "metadata": {},
   "outputs": [],
   "source": [
    "categorical_type_fuel = auto_clean['fuel_type'].value_counts().index[:]\n",
    "categorical_type_fuel.value_counts()"
   ]
  },
  {
   "cell_type": "code",
   "execution_count": null,
   "metadata": {},
   "outputs": [],
   "source": [
    "categorical_type_fuel_translator = {'benzin':'gasolina', 'diesel':'diesel', 'lpg':'lpg', 'cng':'cng',\n",
    "                                    'hybrid':'híbrido', 'elektro':'electrico', 'andere':'otros'}\n",
    "\n",
    "for category in categorical_type_fuel:\n",
    "    bool_fuel = auto_clean['fuel_type'] == category\n",
    "    auto_clean.loc[bool_fuel,'fuel_type'] = categorical_type_fuel_translator[category]"
   ]
  },
  {
   "cell_type": "code",
   "execution_count": null,
   "metadata": {},
   "outputs": [],
   "source": [
    "auto_clean['fuel_type'].value_counts()"
   ]
  },
  {
   "cell_type": "code",
   "execution_count": null,
   "metadata": {},
   "outputs": [],
   "source": [
    "condicion_1 = auto_clean['fuel_type'] == 'híbrido' # testing hybrid category\n",
    "auto_clean[condicion_1].head(3) # checking"
   ]
  },
  {
   "cell_type": "code",
   "execution_count": null,
   "metadata": {},
   "outputs": [],
   "source": [
    "auto_clean.info()"
   ]
  },
  {
   "cell_type": "code",
   "execution_count": null,
   "metadata": {},
   "outputs": [],
   "source": [
    "all_brands= auto_clean['brand'].unique()\n",
    "sorted(all_brands)"
   ]
  },
  {
   "cell_type": "markdown",
   "metadata": {},
   "source": [
    "### 6.2 Finding the most common brand/model combi.\n",
    "\n",
    "The top three brands on our list also have their own favourite models, as can be seen below."
   ]
  },
  {
   "cell_type": "code",
   "execution_count": null,
   "metadata": {},
   "outputs": [],
   "source": [
    "def modelos_brand(marca):\n",
    "    bool_marca = auto_clean['brand'] == marca                              # boolean filter by brand\n",
    "    print(auto_clean.loc[bool_marca,'model'].value_counts()[:5])           # top five model brand "
   ]
  },
  {
   "cell_type": "code",
   "execution_count": null,
   "metadata": {},
   "outputs": [],
   "source": [
    "modelos_brand('alfa_romeo')"
   ]
  },
  {
   "cell_type": "code",
   "execution_count": null,
   "metadata": {},
   "outputs": [],
   "source": [
    "modelos_brand('mercedes_benz')"
   ]
  },
  {
   "cell_type": "code",
   "execution_count": null,
   "metadata": {},
   "outputs": [],
   "source": [
    "modelos_brand('bmw')"
   ]
  },
  {
   "cell_type": "code",
   "execution_count": null,
   "metadata": {},
   "outputs": [],
   "source": [
    "def top_model(marca):\n",
    "    boolean_filter = auto_clean['brand'] == marca\n",
    "    if auto_clean.loc[boolean_filter,'model'].value_counts().index[0] == 'andere':\n",
    "        return auto_clean.loc[boolean_filter,'model'].value_counts().index[1]\n",
    "    else:\n",
    "        return auto_clean.loc[boolean_filter,'model'].value_counts().index[0]"
   ]
  },
  {
   "cell_type": "markdown",
   "metadata": {},
   "source": [
    "Model within each brand that is repeated more times within our data set, the order is given by the brand of the vehicle."
   ]
  },
  {
   "cell_type": "code",
   "execution_count": null,
   "metadata": {},
   "outputs": [],
   "source": [
    "bool_fiat = auto_clean['brand'] == 'alfa_romeo'"
   ]
  },
  {
   "cell_type": "code",
   "execution_count": null,
   "metadata": {},
   "outputs": [],
   "source": [
    "x = auto_clean.loc[bool_fiat,'model']\n",
    "x.value_counts().index[0:1]"
   ]
  },
  {
   "cell_type": "code",
   "execution_count": null,
   "metadata": {},
   "outputs": [],
   "source": [
    "top_model('bmw')"
   ]
  },
  {
   "cell_type": "code",
   "execution_count": null,
   "metadata": {},
   "outputs": [],
   "source": [
    "marc_modelo = {}\n",
    "\n",
    "for brand in sorted(all_brands):\n",
    "    try:\n",
    "        marc_modelo[brand] = top_model(brand)\n",
    "    except:\n",
    "        print(brand,\"doesnt have model\")\n",
    "\n",
    "marc_modelo = pd.Series(marc_modelo)\n",
    "marc_modelo"
   ]
  },
  {
   "cell_type": "markdown",
   "metadata": {},
   "source": [
    "### 6.2.1 Odometer in groups \n",
    "\n",
    "Use aggregation to see if the prices follow any pattern in mileage."
   ]
  },
  {
   "cell_type": "code",
   "execution_count": null,
   "metadata": {},
   "outputs": [],
   "source": [
    "km_group = auto_clean['odometer_km'].value_counts()\n",
    "km_group"
   ]
  },
  {
   "cell_type": "code",
   "execution_count": null,
   "metadata": {},
   "outputs": [],
   "source": [
    "km_group = auto_clean['odometer_km'].value_counts().index[:]\n",
    "km_group"
   ]
  },
  {
   "cell_type": "code",
   "execution_count": null,
   "metadata": {},
   "outputs": [],
   "source": [
    "price_group = auto_clean['price_in_dollars'].value_counts().index[:]\n",
    "price_group"
   ]
  },
  {
   "cell_type": "code",
   "execution_count": null,
   "metadata": {},
   "outputs": [],
   "source": [
    "avg_price_by_km_non_damage = {}\n",
    "\n",
    "for km in km_group:\n",
    "    selected_km = auto_clean[auto_clean['odometer_km'] == km ]\n",
    "    mean = selected_km['price_in_dollars'].mean().round()\n",
    "    combined = mean\n",
    "    avg_price_by_km_non_damage[km] = combined"
   ]
  },
  {
   "cell_type": "code",
   "execution_count": null,
   "metadata": {},
   "outputs": [],
   "source": [
    "avg_price_by_km_non_damage"
   ]
  },
  {
   "cell_type": "code",
   "execution_count": null,
   "metadata": {},
   "outputs": [],
   "source": [
    "marklist = sorted(avg_price_by_km_non_damage.items(),key=lambda x:x[1])\n",
    "sort_avg_price_by_km_non_damage = dict(marklist)\n",
    "print(sort_avg_price_by_km_non_damage)"
   ]
  },
  {
   "cell_type": "code",
   "execution_count": null,
   "metadata": {},
   "outputs": [],
   "source": [
    "avg_price_by_km = {}\n",
    "\n",
    "for km in km_group:\n",
    "    selected_km = auto_clean[auto_clean['odometer_km'] == km ]\n",
    "    mean = selected_km['price_in_dollars'].mean().round()\n",
    "    vehiculos = selected_km['price_in_dollars'].value_counts(normalize = False, sort = True)\n",
    "    combined = (mean, vehiculos)\n",
    "    avg_price_by_km[km] = combined"
   ]
  },
  {
   "cell_type": "code",
   "execution_count": null,
   "metadata": {},
   "outputs": [],
   "source": [
    "avg_price_by_km[150000]"
   ]
  },
  {
   "cell_type": "code",
   "execution_count": null,
   "metadata": {},
   "outputs": [],
   "source": [
    "auto_clean[auto_clean['price_in_dollars'] == 69993]"
   ]
  },
  {
   "cell_type": "markdown",
   "metadata": {},
   "source": [
    "## 7. How much cheaper are damaged cars than their undamaged counterparts?\n",
    "\n",
    "we retrieved the dictionary we had made called the 'avg_price_by_km_non_damage' and we create another dictionary that compiles those vehicles that are indeed damaged."
   ]
  },
  {
   "cell_type": "code",
   "execution_count": null,
   "metadata": {},
   "outputs": [],
   "source": [
    "avg_price_by_km_damage = {}\n",
    "\n",
    "for km in km_group:\n",
    "    selected_km = auto_clean[(auto_clean['odometer_km'] == km) &\n",
    "                             (auto_clean['unrepaired_damage'] == 'ja') ]\n",
    "    mean = selected_km['price_in_dollars'].mean()\n",
    "    avg_price_by_km_damage[km] = mean.round()"
   ]
  },
  {
   "cell_type": "code",
   "execution_count": null,
   "metadata": {},
   "outputs": [],
   "source": [
    "avg_price_by_km_damage"
   ]
  },
  {
   "cell_type": "code",
   "execution_count": null,
   "metadata": {},
   "outputs": [],
   "source": [
    "marklist = sorted(avg_price_by_km_damage.items(),key=lambda x:x[1])\n",
    "sort_avg_price_by_km_damage = dict(marklist)\n",
    "print(sort_avg_price_by_km_damage)"
   ]
  },
  {
   "cell_type": "code",
   "execution_count": null,
   "metadata": {},
   "outputs": [],
   "source": [
    "plt.figure(figsize = (15,4))\n",
    "\n",
    "plt.subplot(1,2,1)\n",
    "\n",
    "data_nodamage_1 = range(len(sort_avg_price_by_km_non_damage))\n",
    "data_nodamage_2 = list(sort_avg_price_by_km_non_damage.values())\n",
    "\n",
    "plt.bar(data_nodamage_1,data_nodamage_2,label=\"avg price non damage cars\")\n",
    "plt.legend()\n",
    "\n",
    "plt.xticks(data_nodamage_1, data_nodamage_2,rotation=30)\n",
    "plt.xlabel(\"Km\")\n",
    "plt.ylabel(\"avg_price\")\n",
    "\n",
    "plt.subplot(1,2,2)\n",
    "\n",
    "\n",
    "data_damage_1 = range(len(sort_avg_price_by_km_damage))\n",
    "data_damage_2 = list(sort_avg_price_by_km_damage.values())\n",
    "\n",
    "plt.bar(data_damage_1,data_damage_2,label=\"avg price non damage cars\")\n",
    "plt.legend()\n",
    "\n",
    "plt.xticks(data_damage_1, data_damage_2,rotation=30)\n",
    "plt.xlabel(\"Km\")\n",
    "plt.ylabel(\"avg_price\")\n",
    "plt.show()"
   ]
  },
  {
   "cell_type": "code",
   "execution_count": null,
   "metadata": {},
   "outputs": [],
   "source": [
    "plt.figure(figsize = (15,4))\n",
    "\n",
    "plt.title('avg price / Km')\n",
    "\n",
    "plt.bar(data_nodamage_1,data_nodamage_2,label=\"avg price non damage cars\")\n",
    "\n",
    "plt.bar(data_damage_1,data_damage_2,label=\"avg price damage cars\")\n",
    "plt.xticks(data_nodamage_1,data_nodamage_2,rotation=30)\n",
    "plt.legend()\n",
    "plt.xlabel(\"Km\")\n",
    "plt.ylabel(\"$\")\n",
    "\n",
    "plt.show()"
   ]
  },
  {
   "cell_type": "code",
   "execution_count": null,
   "metadata": {},
   "outputs": [],
   "source": [
    "series_nondamage = pd.Series(avg_price_by_km_non_damage) \n",
    "df_nondamage = pd.DataFrame(series_nondamage)\n",
    "df_nondamage = df_nondamage.rename(columns = {0:'price_not_damage'})\n",
    "\n",
    "series_damage = pd.Series(avg_price_by_km_damage)\n",
    "df_damage = pd.DataFrame(series_damage)\n",
    "df_damage = df_damage.rename(columns = {0:'price_damage'})\n",
    "\n",
    "series_diference = series_nondamage - series_damage\n",
    "df_diference = pd.DataFrame(series_diference)\n",
    "df_diference = df_diference.rename(columns = {0:'price_difference'})\n",
    "\n",
    "series_diference_percent = (series_damage * 100) / series_nondamage.round(2)\n",
    "df_diference_percent = pd.DataFrame(series_diference_percent)\n",
    "df_diference_percent = df_diference_percent.rename(columns = {0:'%_damage_vs_notdamage '})\n",
    "\n",
    "\n",
    "df = pd.concat([df_nondamage, df_damage, df_diference, df_diference_percent], axis = 1)\n",
    "df"
   ]
  },
  {
   "cell_type": "code",
   "execution_count": null,
   "metadata": {},
   "outputs": [],
   "source": [
    "df.index"
   ]
  },
  {
   "cell_type": "code",
   "execution_count": null,
   "metadata": {},
   "outputs": [],
   "source": [
    "plt.figure(figsize = (15,4))\n",
    "\n",
    "plt.plot(series_nondamage,label=\"price_not_damage\")\n",
    "plt.plot(series_damage,label=\"price_damage\")\n",
    "plt.plot(series_diference,label=\"price_difference\")\n",
    "\n",
    "plt.xlabel(\"Km\")\n",
    "plt.ylabel(\"$\")\n",
    "plt.legend()\n",
    "\n",
    "plt.show()"
   ]
  },
  {
   "cell_type": "code",
   "execution_count": null,
   "metadata": {},
   "outputs": [],
   "source": [
    "plt.figure(figsize = (15,6))\n",
    "plt.plot(df_diference_percent,label=\"Km vs %_damage_vs_notdamage\")\n",
    "\n",
    "plt.xlabel(\"Km\")\n",
    "plt.ylabel(\"%\")\n",
    "\n",
    "plt.legend()\n",
    "plt.show()"
   ]
  },
  {
   "cell_type": "markdown",
   "metadata": {},
   "source": [
    "## 8. Conclusions\n",
    "\n",
    "The conclusions we can draw from our study are several:\n",
    "\n",
    " 1. The 75% of the vehicles for sale have an average mileage of about 150,000 km and if we count the vehicles with a minimum selling price of 850 we have that 75% of the total have an average price of 8750.\n",
    "\n",
    " 2. Once we have corrected the values we have that our 75% of the vehicles were registered in 2008 and that most of the registrations were between the period 2002 / 2007.\n",
    "\n",
    " 3. The most offered vehicle brand is Volkswagen.\n",
    "\n",
    " 4. The highest average price belongs to Audi, then Mercedes and finally to BMW. \n",
    "\n",
    " 5. The average number of kilometers per brand is led by BMW followed by Mercedes and Audi.\n",
    "\n",
    " 6. most of the vehicles are sedan type and are gasoline cars followed by diesel and lpg cars.\n",
    "\n",
    "\n",
    "Taking into account the order of average price per vehicle brand \n",
    "we know that the most repeated per model is:\n",
    "\n",
    "   - Audi with A4 followed by the A3 and A6.\n",
    "\n",
    "   - Mercedes the  C Class followed E Class and the A Class.\n",
    "\n",
    "   - BMW with the 3 Series, the 5 Series in second place and the 1 Series in third place .\n",
    "   \n",
    "\n",
    "Finally we can see the differences between the price kilometer of the damaged and non-damaged cars and we observe that the biggest difference in price is given in vehicles with 40000 Kilometers 150000Km and 60000Km."
   ]
  }
 ],
 "metadata": {
  "kernelspec": {
   "display_name": "Python 3",
   "language": "python",
   "name": "python3"
  },
  "language_info": {
   "codemirror_mode": {
    "name": "ipython",
    "version": 3
   },
   "file_extension": ".py",
   "mimetype": "text/x-python",
   "name": "python",
   "nbconvert_exporter": "python",
   "pygments_lexer": "ipython3",
   "version": "3.8.2"
  }
 },
 "nbformat": 4,
 "nbformat_minor": 4
}
