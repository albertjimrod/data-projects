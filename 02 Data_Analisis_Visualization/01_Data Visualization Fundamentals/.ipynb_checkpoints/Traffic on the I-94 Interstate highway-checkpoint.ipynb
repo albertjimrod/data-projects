{
 "cells": [
  {
   "cell_type": "markdown",
   "metadata": {},
   "source": [
    "# Traffic on the I-94 Interstate highway.\n",
    "\n",
    "<br>\n",
    "\n",
    "The I-94 Interstate highway is an east–west Interstate Highway connecting the Great Lakes and northern Great Plains regions of the United States between Montana and Michigan.\n",
    "\n",
    "\n",
    "A station located approximately midway between **Minneapolis and Saint Paul** recorded the traffic data. Also, the station only records westbound traffic (cars moving from east to west).This means that the results of our analysis will be about the westbound traffic in the proximity of that station. \n",
    "\n",
    "In other words, we should avoid generalizing our results for the entire I-94 highway."
   ]
  },
  {
   "cell_type": "markdown",
   "metadata": {},
   "source": [
    "![Imgur](https://upload.wikimedia.org/wikipedia/commons/thumb/9/9d/Interstate_94_map.png/1920px-Interstate_94_map.png)"
   ]
  },
  {
   "cell_type": "markdown",
   "metadata": {},
   "source": [
    "source:<a href=https://en.wikipedia.org/wiki/Interstate_94> https://en.wikipedia.org/wiki/Interstate_94 </a>"
   ]
  },
  {
   "cell_type": "markdown",
   "metadata": {},
   "source": [
    "The aim is determine few indicators related with traffic like the weather type, time of the day, time of the week, etc. For instance, we may find out that the traffic is usually heavier in the summer or when it snows. "
   ]
  },
  {
   "cell_type": "code",
   "execution_count": 1,
   "metadata": {},
   "outputs": [],
   "source": [
    "%%html\n",
    "<style>\n",
    "table {float:left}\n",
    "</style>"
   ]
  },
  {
   "cell_type": "markdown",
   "metadata": {},
   "source": [
    "### Data dicctionary\n",
    "\n",
    "| | |\n",
    "|:---|:---|\n",
    "| `holiday`| Categorical US National holidays plus regional holiday, Minnesota State Fair|\n",
    "| `temp` | Numeric Average temp in kelvin|\n",
    "|`rain_1h` | Numeric Amount in mm of rain that occurred in the hour|\n",
    "|`snow_1h` |Numeric Amount in mm of snow that occurred in the hour |\n",
    "| `clouds_all` |Numeric Percentage of cloud cover |\n",
    "| `weather_main` |Categorical Short textual description of the current weather |\n",
    "|`weather_description`| Categorical Longer textual description of the current weather|\n",
    "|`date_time`| DateTime Hour of the data collected in local CST time|\n",
    "|`traffic_volume` |Numeric Hourly I-94 ATR 301 reported westbound traffic volume|"
   ]
  },
  {
   "cell_type": "markdown",
   "metadata": {},
   "source": [
    "###  Check the dataset\n",
    "\n",
    "First of all I would like to see what kind of charset is our dataset file.\n",
    "\n",
    "parameters:\n",
    "\n",
    "\n",
    "      -i, --mime\n",
    "\n",
    "    Causes the file command to output mime type strings rather than the more traditional human readable ones.  Thus it may say ‘text/plain; charset=us-ascii’ rather than “ASCII text”."
   ]
  },
  {
   "cell_type": "code",
   "execution_count": 2,
   "metadata": {},
   "outputs": [
    {
     "name": "stdout",
     "output_type": "stream",
     "text": [
      "csv/Metro_Interstate_Traffic_Volume.csv: CSV text\\012- , ASCII text\r\n"
     ]
    }
   ],
   "source": [
    "! file -k csv/Metro_Interstate_Traffic_Volume.csv"
   ]
  },
  {
   "cell_type": "markdown",
   "metadata": {},
   "source": [
    "  -k, --keep-going\n",
    "\n",
    "Don't stop at the first match, keep going.  Subsequent matches will be have the string ‘\\012- ’ prepended.  (If you want a newline, see the -r option.)  The magic pattern with the highest strength (see the -l option)\n",
    "comes first."
   ]
  },
  {
   "cell_type": "code",
   "execution_count": 3,
   "metadata": {},
   "outputs": [
    {
     "name": "stdout",
     "output_type": "stream",
     "text": [
      "csv/Metro_Interstate_Traffic_Volume.csv: application/csv; charset=us-ascii\r\n"
     ]
    }
   ],
   "source": [
    "! file -i csv/Metro_Interstate_Traffic_Volume.csv"
   ]
  },
  {
   "cell_type": "code",
   "execution_count": 4,
   "metadata": {},
   "outputs": [
    {
     "name": "stdout",
     "output_type": "stream",
     "text": [
      "{'encoding': 'ascii', 'confidence': 1.0, 'language': ''}\n"
     ]
    }
   ],
   "source": [
    "import chardet\n",
    "with open(\"csv/Metro_Interstate_Traffic_Volume.csv\", 'rb') as file:\n",
    "    print(chardet.detect(file.read()))"
   ]
  },
  {
   "cell_type": "markdown",
   "metadata": {},
   "source": [
    "### Loading data"
   ]
  },
  {
   "cell_type": "code",
   "execution_count": 5,
   "metadata": {},
   "outputs": [],
   "source": [
    "import pandas as pd\n",
    "traffic = pd.read_csv('csv/Metro_Interstate_Traffic_Volume.csv')"
   ]
  },
  {
   "cell_type": "markdown",
   "metadata": {},
   "source": [
    "Now convert the value of the temperature that is in degrees Kelvin to degrees Celsius so that it is more comfortable to understand the temperatures during the study"
   ]
  },
  {
   "cell_type": "code",
   "execution_count": 6,
   "metadata": {},
   "outputs": [],
   "source": [
    "# conversion from Fahrenheit to Celsius.\n",
    "def K_to_C(K):\n",
    "    return (K - 273.15)"
   ]
  },
  {
   "cell_type": "code",
   "execution_count": 7,
   "metadata": {},
   "outputs": [],
   "source": [
    "traffic['temp'] = traffic['temp'].map(K_to_C).copy() "
   ]
  },
  {
   "cell_type": "code",
   "execution_count": 8,
   "metadata": {},
   "outputs": [
    {
     "data": {
      "text/html": [
       "<div>\n",
       "<style scoped>\n",
       "    .dataframe tbody tr th:only-of-type {\n",
       "        vertical-align: middle;\n",
       "    }\n",
       "\n",
       "    .dataframe tbody tr th {\n",
       "        vertical-align: top;\n",
       "    }\n",
       "\n",
       "    .dataframe thead th {\n",
       "        text-align: right;\n",
       "    }\n",
       "</style>\n",
       "<table border=\"1\" class=\"dataframe\">\n",
       "  <thead>\n",
       "    <tr style=\"text-align: right;\">\n",
       "      <th></th>\n",
       "      <th>holiday</th>\n",
       "      <th>temp</th>\n",
       "      <th>rain_1h</th>\n",
       "      <th>snow_1h</th>\n",
       "      <th>clouds_all</th>\n",
       "      <th>weather_main</th>\n",
       "      <th>weather_description</th>\n",
       "      <th>date_time</th>\n",
       "      <th>traffic_volume</th>\n",
       "    </tr>\n",
       "  </thead>\n",
       "  <tbody>\n",
       "    <tr>\n",
       "      <th>0</th>\n",
       "      <td>None</td>\n",
       "      <td>15.13</td>\n",
       "      <td>0.0</td>\n",
       "      <td>0.0</td>\n",
       "      <td>40</td>\n",
       "      <td>Clouds</td>\n",
       "      <td>scattered clouds</td>\n",
       "      <td>2012-10-02 09:00:00</td>\n",
       "      <td>5545</td>\n",
       "    </tr>\n",
       "    <tr>\n",
       "      <th>1</th>\n",
       "      <td>None</td>\n",
       "      <td>16.21</td>\n",
       "      <td>0.0</td>\n",
       "      <td>0.0</td>\n",
       "      <td>75</td>\n",
       "      <td>Clouds</td>\n",
       "      <td>broken clouds</td>\n",
       "      <td>2012-10-02 10:00:00</td>\n",
       "      <td>4516</td>\n",
       "    </tr>\n",
       "    <tr>\n",
       "      <th>2</th>\n",
       "      <td>None</td>\n",
       "      <td>16.43</td>\n",
       "      <td>0.0</td>\n",
       "      <td>0.0</td>\n",
       "      <td>90</td>\n",
       "      <td>Clouds</td>\n",
       "      <td>overcast clouds</td>\n",
       "      <td>2012-10-02 11:00:00</td>\n",
       "      <td>4767</td>\n",
       "    </tr>\n",
       "    <tr>\n",
       "      <th>3</th>\n",
       "      <td>None</td>\n",
       "      <td>16.98</td>\n",
       "      <td>0.0</td>\n",
       "      <td>0.0</td>\n",
       "      <td>90</td>\n",
       "      <td>Clouds</td>\n",
       "      <td>overcast clouds</td>\n",
       "      <td>2012-10-02 12:00:00</td>\n",
       "      <td>5026</td>\n",
       "    </tr>\n",
       "    <tr>\n",
       "      <th>4</th>\n",
       "      <td>None</td>\n",
       "      <td>17.99</td>\n",
       "      <td>0.0</td>\n",
       "      <td>0.0</td>\n",
       "      <td>75</td>\n",
       "      <td>Clouds</td>\n",
       "      <td>broken clouds</td>\n",
       "      <td>2012-10-02 13:00:00</td>\n",
       "      <td>4918</td>\n",
       "    </tr>\n",
       "  </tbody>\n",
       "</table>\n",
       "</div>"
      ],
      "text/plain": [
       "  holiday   temp  rain_1h  snow_1h  clouds_all weather_main  \\\n",
       "0    None  15.13      0.0      0.0          40       Clouds   \n",
       "1    None  16.21      0.0      0.0          75       Clouds   \n",
       "2    None  16.43      0.0      0.0          90       Clouds   \n",
       "3    None  16.98      0.0      0.0          90       Clouds   \n",
       "4    None  17.99      0.0      0.0          75       Clouds   \n",
       "\n",
       "  weather_description            date_time  traffic_volume  \n",
       "0    scattered clouds  2012-10-02 09:00:00            5545  \n",
       "1       broken clouds  2012-10-02 10:00:00            4516  \n",
       "2     overcast clouds  2012-10-02 11:00:00            4767  \n",
       "3     overcast clouds  2012-10-02 12:00:00            5026  \n",
       "4       broken clouds  2012-10-02 13:00:00            4918  "
      ]
     },
     "execution_count": 8,
     "metadata": {},
     "output_type": "execute_result"
    }
   ],
   "source": [
    "traffic.head(5) "
   ]
  },
  {
   "cell_type": "code",
   "execution_count": 9,
   "metadata": {},
   "outputs": [
    {
     "name": "stdout",
     "output_type": "stream",
     "text": [
      "<class 'pandas.core.frame.DataFrame'>\n",
      "RangeIndex: 48204 entries, 0 to 48203\n",
      "Data columns (total 9 columns):\n",
      " #   Column               Non-Null Count  Dtype  \n",
      "---  ------               --------------  -----  \n",
      " 0   holiday              48204 non-null  object \n",
      " 1   temp                 48204 non-null  float64\n",
      " 2   rain_1h              48204 non-null  float64\n",
      " 3   snow_1h              48204 non-null  float64\n",
      " 4   clouds_all           48204 non-null  int64  \n",
      " 5   weather_main         48204 non-null  object \n",
      " 6   weather_description  48204 non-null  object \n",
      " 7   date_time            48204 non-null  object \n",
      " 8   traffic_volume       48204 non-null  int64  \n",
      "dtypes: float64(3), int64(2), object(4)\n",
      "memory usage: 3.3+ MB\n"
     ]
    }
   ],
   "source": [
    "traffic.info()"
   ]
  },
  {
   "cell_type": "markdown",
   "metadata": {},
   "source": [
    "The data seems to have its own type, be in good condition and there are no null values. \n",
    "\n",
    "We can start with the analysis."
   ]
  },
  {
   "cell_type": "markdown",
   "metadata": {},
   "source": [
    "## Analyzing Traffic Volume\n",
    "\n",
    "Hourly Interstate 94 westbound traffic volume for MN DoT Station 301, approximately midway between Minneapolis and St Paul, MN. \n",
    "\n",
    "Hourly weather features and holidays are included to see the impact on traffic volume.\n",
    "\n",
    "This means that the results of our analysis will be about the westbound traffic in the proximity of that station. In other words, we should avoid generalizing our results for the entire I-94 highway."
   ]
  },
  {
   "cell_type": "code",
   "execution_count": 10,
   "metadata": {},
   "outputs": [],
   "source": [
    "import matplotlib.pyplot as plt\n",
    "%matplotlib inline"
   ]
  },
  {
   "cell_type": "markdown",
   "metadata": {},
   "source": [
    " Let's make 10 ranges with `bins = 10` of `traffic['traffic_volume']` with the data we have, the best way to visualize it is to use a histogram."
   ]
  },
  {
   "cell_type": "code",
   "execution_count": 11,
   "metadata": {},
   "outputs": [
    {
     "data": {
      "image/png": "[encoded data removed]",
      "text/plain": [
       "<Figure size 432x288 with 1 Axes>"
      ]
     },
     "metadata": {
      "needs_background": "light"
     },
     "output_type": "display_data"
    }
   ],
   "source": [
    "plt.hist(traffic['traffic_volume'], bins=10, label=\"Numeric hourly / freq\")\n",
    "plt.legend()\n",
    "plt.show()"
   ]
  },
  {
   "cell_type": "markdown",
   "metadata": {},
   "source": [
    "The station ATR 301 in I-94 reported the Numeric Hourly westbound traffic, and we can see in the histogram the evolution of traffic during the daylight hours.\n",
    "\n",
    "If we study the graph carefully we will see that:\n",
    "\n",
    "- There are two moments in the day in which the volume of traffic increases.\n",
    "\n",
    "\n",
    "- In both situations the way in which the maximum point is reached is very abrupt.\n",
    "\n",
    "\n",
    "- However the descent is not the same in the two maximum points."
   ]
  },
  {
   "cell_type": "code",
   "execution_count": 12,
   "metadata": {},
   "outputs": [
    {
     "data": {
      "text/plain": [
       "count    48204.000000\n",
       "mean      3259.818355\n",
       "std       1986.860670\n",
       "min          0.000000\n",
       "25%       1193.000000\n",
       "50%       3380.000000\n",
       "75%       4933.000000\n",
       "max       7280.000000\n",
       "Name: traffic_volume, dtype: float64"
      ]
     },
     "execution_count": 12,
     "metadata": {},
     "output_type": "execute_result"
    }
   ],
   "source": [
    "traffic['traffic_volume'].describe()"
   ]
  },
  {
   "cell_type": "markdown",
   "metadata": {},
   "source": [
    "- About 25% of the time, there were 1,193 cars or fewer passing the station each hour — **this probably occurs during the night**, or when a road is under construction.\n",
    "\n",
    "\n",
    "- About 75% of the time, the traffic volume was four times as much (4,933 cars or more).\n",
    "\n",
    "This possibility of night and day influencing traffic volume gives our analysis an interesting direction: \n",
    "\n",
    "- Comparing daytime data with nighttime data.\n",
    "\n",
    "* * *\n",
    "\n",
    "We will start by dividing the data set into two parts:\n",
    "\n",
    " - **Daytime data**: hours from 7 a.m. to 7 p.m. (12 hours).\n",
    " \n",
    " \n",
    " - **Nighttime data**: hours from 7 p.m. to 7 a.m. (12 hours).\n",
    " \n",
    "Although this is not a perfect criterion for distinguishing between night and daytime hours, it is a good starting point.\n",
    "\n",
    "For this we are going to convert the `date_time` column that is **text type** to the **datetime** data type."
   ]
  },
  {
   "cell_type": "code",
   "execution_count": 13,
   "metadata": {},
   "outputs": [
    {
     "data": {
      "text/plain": [
       "0       2012-10-02 09:00:00\n",
       "1       2012-10-02 10:00:00\n",
       "2       2012-10-02 11:00:00\n",
       "3       2012-10-02 12:00:00\n",
       "4       2012-10-02 13:00:00\n",
       "                ...        \n",
       "48199   2018-09-30 19:00:00\n",
       "48200   2018-09-30 20:00:00\n",
       "48201   2018-09-30 21:00:00\n",
       "48202   2018-09-30 22:00:00\n",
       "48203   2018-09-30 23:00:00\n",
       "Name: date_time, Length: 48204, dtype: datetime64[ns]"
      ]
     },
     "execution_count": 13,
     "metadata": {},
     "output_type": "execute_result"
    }
   ],
   "source": [
    "traffic['date_time'] = pd.to_datetime(traffic['date_time']).copy() # text to datetime\n",
    "traffic['date_time']"
   ]
  },
  {
   "cell_type": "markdown",
   "metadata": {},
   "source": [
    "Once the conversion is done to the type of data we need now we can easily extract the hours."
   ]
  },
  {
   "cell_type": "code",
   "execution_count": 14,
   "metadata": {},
   "outputs": [
    {
     "data": {
      "text/plain": [
       "array([ 9, 10, 11, 12, 13, 14, 15, 16, 17, 18, 19, 20, 21, 22, 23,  0,  1,\n",
       "        2,  3,  4,  5,  6,  8,  7])"
      ]
     },
     "execution_count": 14,
     "metadata": {},
     "output_type": "execute_result"
    }
   ],
   "source": [
    "traffic['date_time'].dt.hour.unique()"
   ]
  },
  {
   "cell_type": "markdown",
   "metadata": {},
   "source": [
    "With the `datetime.hour` method used as a Boolean filter and assigned to a variable called `alles_bool`"
   ]
  },
  {
   "cell_type": "code",
   "execution_count": 15,
   "metadata": {},
   "outputs": [
    {
     "data": {
      "text/plain": [
       "0         9\n",
       "1        10\n",
       "2        11\n",
       "3        12\n",
       "4        13\n",
       "         ..\n",
       "48199    19\n",
       "48200    20\n",
       "48201    21\n",
       "48202    22\n",
       "48203    23\n",
       "Name: date_time, Length: 48204, dtype: int64"
      ]
     },
     "execution_count": 15,
     "metadata": {},
     "output_type": "execute_result"
    }
   ],
   "source": [
    "alles_bool = traffic['date_time'].dt.hour\n",
    "alles_bool"
   ]
  },
  {
   "cell_type": "markdown",
   "metadata": {},
   "source": [
    "These are the values of the hours I will work with."
   ]
  },
  {
   "cell_type": "code",
   "execution_count": 16,
   "metadata": {},
   "outputs": [
    {
     "data": {
      "text/plain": [
       "array([18, 19, 20, 21, 22, 23,  0,  1,  2,  3,  4,  5,  6,  8,  9, 10, 11,\n",
       "       12, 13, 14, 15, 17, 16])"
      ]
     },
     "execution_count": 16,
     "metadata": {},
     "output_type": "execute_result"
    }
   ],
   "source": [
    "horas_alles = traffic.loc[alles_bool,'date_time'].dt.hour\n",
    "horas_alles.unique()"
   ]
  },
  {
   "cell_type": "code",
   "execution_count": 17,
   "metadata": {},
   "outputs": [
    {
     "data": {
      "image/png": "[encoded data removed]",
      "text/plain": [
       "<Figure size 432x288 with 1 Axes>"
      ]
     },
     "metadata": {
      "needs_background": "light"
     },
     "output_type": "display_data"
    }
   ],
   "source": [
    "plt.hist(horas_alles)\n",
    "plt.title('Raw Traffic Volume (whole data set)')\n",
    "plt.xticks(ticks=horas_alles.unique(),\n",
    "           \n",
    "           labels=horas_alles.unique(),\n",
    "           \n",
    "           rotation=45)\n",
    "plt.show()"
   ]
  },
  {
   "cell_type": "markdown",
   "metadata": {},
   "source": [
    "Histograms shows accumulation or trend, variability or dispersion and form of the distribution.\n",
    "\n",
    "Therefore we can see the distribution of traffic volume in a day, we see three time slots where the movement of vehicles is greater:\n",
    "\n",
    "- **Morning from 07:00 to 09:00 AM**\n",
    "\n",
    "- **Noon from 14:00 to 16:00 PM**\n",
    "\n",
    "- **Night from 21:00 to 02:00 AM**.\n",
    "\n",
    "We continue with the idea of separating day and night.\n",
    "\n",
    "## Day\n",
    "\n",
    "We set the interval that corresponds to the hours of the day.\n",
    "\n",
    "Establish the values that are greater than or equal to 7 and values that are less than or equal to 19. There we will have the interval that corresponds to the daytime hours."
   ]
  },
  {
   "cell_type": "code",
   "execution_count": 18,
   "metadata": {},
   "outputs": [],
   "source": [
    "day_bool = (traffic['date_time'].dt.hour >=7) & (traffic['date_time'].dt.hour <=19)"
   ]
  },
  {
   "cell_type": "code",
   "execution_count": 19,
   "metadata": {},
   "outputs": [
    {
     "data": {
      "text/plain": [
       "array([ 9, 10, 11, 12, 13, 14, 15, 16, 17, 18, 19,  8,  7])"
      ]
     },
     "execution_count": 19,
     "metadata": {},
     "output_type": "execute_result"
    }
   ],
   "source": [
    "horas_daytime = traffic.loc[day_bool,'date_time'].dt.hour\n",
    "horas_daytime.unique()"
   ]
  },
  {
   "cell_type": "code",
   "execution_count": 20,
   "metadata": {},
   "outputs": [
    {
     "data": {
      "text/plain": [
       "0         9\n",
       "1        10\n",
       "2        11\n",
       "3        12\n",
       "4        13\n",
       "         ..\n",
       "48195    15\n",
       "48196    16\n",
       "48197    17\n",
       "48198    18\n",
       "48199    19\n",
       "Name: date_time, Length: 25838, dtype: int64"
      ]
     },
     "execution_count": 20,
     "metadata": {},
     "output_type": "execute_result"
    }
   ],
   "source": [
    "horas_daytime"
   ]
  },
  {
   "cell_type": "code",
   "execution_count": 21,
   "metadata": {},
   "outputs": [
    {
     "data": {
      "text/html": [
       "<div>\n",
       "<style scoped>\n",
       "    .dataframe tbody tr th:only-of-type {\n",
       "        vertical-align: middle;\n",
       "    }\n",
       "\n",
       "    .dataframe tbody tr th {\n",
       "        vertical-align: top;\n",
       "    }\n",
       "\n",
       "    .dataframe thead th {\n",
       "        text-align: right;\n",
       "    }\n",
       "</style>\n",
       "<table border=\"1\" class=\"dataframe\">\n",
       "  <thead>\n",
       "    <tr style=\"text-align: right;\">\n",
       "      <th></th>\n",
       "      <th>holiday</th>\n",
       "      <th>temp</th>\n",
       "      <th>rain_1h</th>\n",
       "      <th>snow_1h</th>\n",
       "      <th>clouds_all</th>\n",
       "      <th>weather_main</th>\n",
       "      <th>weather_description</th>\n",
       "      <th>date_time</th>\n",
       "      <th>traffic_volume</th>\n",
       "    </tr>\n",
       "  </thead>\n",
       "  <tbody>\n",
       "    <tr>\n",
       "      <th>0</th>\n",
       "      <td>None</td>\n",
       "      <td>15.13</td>\n",
       "      <td>0.00</td>\n",
       "      <td>0.0</td>\n",
       "      <td>40</td>\n",
       "      <td>Clouds</td>\n",
       "      <td>scattered clouds</td>\n",
       "      <td>2012-10-02 09:00:00</td>\n",
       "      <td>5545</td>\n",
       "    </tr>\n",
       "    <tr>\n",
       "      <th>1</th>\n",
       "      <td>None</td>\n",
       "      <td>16.21</td>\n",
       "      <td>0.00</td>\n",
       "      <td>0.0</td>\n",
       "      <td>75</td>\n",
       "      <td>Clouds</td>\n",
       "      <td>broken clouds</td>\n",
       "      <td>2012-10-02 10:00:00</td>\n",
       "      <td>4516</td>\n",
       "    </tr>\n",
       "    <tr>\n",
       "      <th>2</th>\n",
       "      <td>None</td>\n",
       "      <td>16.43</td>\n",
       "      <td>0.00</td>\n",
       "      <td>0.0</td>\n",
       "      <td>90</td>\n",
       "      <td>Clouds</td>\n",
       "      <td>overcast clouds</td>\n",
       "      <td>2012-10-02 11:00:00</td>\n",
       "      <td>4767</td>\n",
       "    </tr>\n",
       "    <tr>\n",
       "      <th>3</th>\n",
       "      <td>None</td>\n",
       "      <td>16.98</td>\n",
       "      <td>0.00</td>\n",
       "      <td>0.0</td>\n",
       "      <td>90</td>\n",
       "      <td>Clouds</td>\n",
       "      <td>overcast clouds</td>\n",
       "      <td>2012-10-02 12:00:00</td>\n",
       "      <td>5026</td>\n",
       "    </tr>\n",
       "    <tr>\n",
       "      <th>4</th>\n",
       "      <td>None</td>\n",
       "      <td>17.99</td>\n",
       "      <td>0.00</td>\n",
       "      <td>0.0</td>\n",
       "      <td>75</td>\n",
       "      <td>Clouds</td>\n",
       "      <td>broken clouds</td>\n",
       "      <td>2012-10-02 13:00:00</td>\n",
       "      <td>4918</td>\n",
       "    </tr>\n",
       "    <tr>\n",
       "      <th>...</th>\n",
       "      <td>...</td>\n",
       "      <td>...</td>\n",
       "      <td>...</td>\n",
       "      <td>...</td>\n",
       "      <td>...</td>\n",
       "      <td>...</td>\n",
       "      <td>...</td>\n",
       "      <td>...</td>\n",
       "      <td>...</td>\n",
       "    </tr>\n",
       "    <tr>\n",
       "      <th>48195</th>\n",
       "      <td>None</td>\n",
       "      <td>10.69</td>\n",
       "      <td>0.00</td>\n",
       "      <td>0.0</td>\n",
       "      <td>75</td>\n",
       "      <td>Drizzle</td>\n",
       "      <td>light intensity drizzle</td>\n",
       "      <td>2018-09-30 15:00:00</td>\n",
       "      <td>4302</td>\n",
       "    </tr>\n",
       "    <tr>\n",
       "      <th>48196</th>\n",
       "      <td>None</td>\n",
       "      <td>11.23</td>\n",
       "      <td>0.00</td>\n",
       "      <td>0.0</td>\n",
       "      <td>75</td>\n",
       "      <td>Rain</td>\n",
       "      <td>light rain</td>\n",
       "      <td>2018-09-30 16:00:00</td>\n",
       "      <td>4283</td>\n",
       "    </tr>\n",
       "    <tr>\n",
       "      <th>48197</th>\n",
       "      <td>None</td>\n",
       "      <td>11.64</td>\n",
       "      <td>0.00</td>\n",
       "      <td>0.0</td>\n",
       "      <td>75</td>\n",
       "      <td>Clouds</td>\n",
       "      <td>broken clouds</td>\n",
       "      <td>2018-09-30 17:00:00</td>\n",
       "      <td>4132</td>\n",
       "    </tr>\n",
       "    <tr>\n",
       "      <th>48198</th>\n",
       "      <td>None</td>\n",
       "      <td>11.05</td>\n",
       "      <td>0.25</td>\n",
       "      <td>0.0</td>\n",
       "      <td>75</td>\n",
       "      <td>Rain</td>\n",
       "      <td>light rain</td>\n",
       "      <td>2018-09-30 18:00:00</td>\n",
       "      <td>3947</td>\n",
       "    </tr>\n",
       "    <tr>\n",
       "      <th>48199</th>\n",
       "      <td>None</td>\n",
       "      <td>10.30</td>\n",
       "      <td>0.00</td>\n",
       "      <td>0.0</td>\n",
       "      <td>75</td>\n",
       "      <td>Clouds</td>\n",
       "      <td>broken clouds</td>\n",
       "      <td>2018-09-30 19:00:00</td>\n",
       "      <td>3543</td>\n",
       "    </tr>\n",
       "  </tbody>\n",
       "</table>\n",
       "<p>25838 rows × 9 columns</p>\n",
       "</div>"
      ],
      "text/plain": [
       "      holiday   temp  rain_1h  snow_1h  clouds_all weather_main  \\\n",
       "0        None  15.13     0.00      0.0          40       Clouds   \n",
       "1        None  16.21     0.00      0.0          75       Clouds   \n",
       "2        None  16.43     0.00      0.0          90       Clouds   \n",
       "3        None  16.98     0.00      0.0          90       Clouds   \n",
       "4        None  17.99     0.00      0.0          75       Clouds   \n",
       "...       ...    ...      ...      ...         ...          ...   \n",
       "48195    None  10.69     0.00      0.0          75      Drizzle   \n",
       "48196    None  11.23     0.00      0.0          75         Rain   \n",
       "48197    None  11.64     0.00      0.0          75       Clouds   \n",
       "48198    None  11.05     0.25      0.0          75         Rain   \n",
       "48199    None  10.30     0.00      0.0          75       Clouds   \n",
       "\n",
       "           weather_description           date_time  traffic_volume  \n",
       "0             scattered clouds 2012-10-02 09:00:00            5545  \n",
       "1                broken clouds 2012-10-02 10:00:00            4516  \n",
       "2              overcast clouds 2012-10-02 11:00:00            4767  \n",
       "3              overcast clouds 2012-10-02 12:00:00            5026  \n",
       "4                broken clouds 2012-10-02 13:00:00            4918  \n",
       "...                        ...                 ...             ...  \n",
       "48195  light intensity drizzle 2018-09-30 15:00:00            4302  \n",
       "48196               light rain 2018-09-30 16:00:00            4283  \n",
       "48197            broken clouds 2018-09-30 17:00:00            4132  \n",
       "48198               light rain 2018-09-30 18:00:00            3947  \n",
       "48199            broken clouds 2018-09-30 19:00:00            3543  \n",
       "\n",
       "[25838 rows x 9 columns]"
      ]
     },
     "execution_count": 21,
     "metadata": {},
     "output_type": "execute_result"
    }
   ],
   "source": [
    "traffic_daytime = traffic[day_bool].copy()\n",
    "traffic_daytime"
   ]
  },
  {
   "cell_type": "markdown",
   "metadata": {},
   "source": [
    "## Night\n",
    "\n",
    "We do the same operation with the hours that correspond to those of the night."
   ]
  },
  {
   "cell_type": "code",
   "execution_count": 22,
   "metadata": {},
   "outputs": [],
   "source": [
    "night_bool = (traffic['date_time'].dt.hour >=19) | (traffic['date_time'].dt.hour <=7)"
   ]
  },
  {
   "cell_type": "code",
   "execution_count": 23,
   "metadata": {},
   "outputs": [
    {
     "data": {
      "text/plain": [
       "array([19, 20, 21, 22, 23,  0,  1,  2,  3,  4,  5,  6,  7])"
      ]
     },
     "execution_count": 23,
     "metadata": {},
     "output_type": "execute_result"
    }
   ],
   "source": [
    "horas_nighttime = traffic.loc[night_bool,'date_time'].dt.hour\n",
    "horas_nighttime.unique()"
   ]
  },
  {
   "cell_type": "code",
   "execution_count": 24,
   "metadata": {},
   "outputs": [
    {
     "data": {
      "text/html": [
       "<div>\n",
       "<style scoped>\n",
       "    .dataframe tbody tr th:only-of-type {\n",
       "        vertical-align: middle;\n",
       "    }\n",
       "\n",
       "    .dataframe tbody tr th {\n",
       "        vertical-align: top;\n",
       "    }\n",
       "\n",
       "    .dataframe thead th {\n",
       "        text-align: right;\n",
       "    }\n",
       "</style>\n",
       "<table border=\"1\" class=\"dataframe\">\n",
       "  <thead>\n",
       "    <tr style=\"text-align: right;\">\n",
       "      <th></th>\n",
       "      <th>holiday</th>\n",
       "      <th>temp</th>\n",
       "      <th>rain_1h</th>\n",
       "      <th>snow_1h</th>\n",
       "      <th>clouds_all</th>\n",
       "      <th>weather_main</th>\n",
       "      <th>weather_description</th>\n",
       "      <th>date_time</th>\n",
       "      <th>traffic_volume</th>\n",
       "    </tr>\n",
       "  </thead>\n",
       "  <tbody>\n",
       "    <tr>\n",
       "      <th>10</th>\n",
       "      <td>None</td>\n",
       "      <td>17.82</td>\n",
       "      <td>0.0</td>\n",
       "      <td>0.0</td>\n",
       "      <td>20</td>\n",
       "      <td>Clouds</td>\n",
       "      <td>few clouds</td>\n",
       "      <td>2012-10-02 19:00:00</td>\n",
       "      <td>3539</td>\n",
       "    </tr>\n",
       "    <tr>\n",
       "      <th>11</th>\n",
       "      <td>None</td>\n",
       "      <td>16.23</td>\n",
       "      <td>0.0</td>\n",
       "      <td>0.0</td>\n",
       "      <td>1</td>\n",
       "      <td>Clear</td>\n",
       "      <td>sky is clear</td>\n",
       "      <td>2012-10-02 20:00:00</td>\n",
       "      <td>2784</td>\n",
       "    </tr>\n",
       "    <tr>\n",
       "      <th>12</th>\n",
       "      <td>None</td>\n",
       "      <td>15.46</td>\n",
       "      <td>0.0</td>\n",
       "      <td>0.0</td>\n",
       "      <td>1</td>\n",
       "      <td>Clear</td>\n",
       "      <td>sky is clear</td>\n",
       "      <td>2012-10-02 21:00:00</td>\n",
       "      <td>2361</td>\n",
       "    </tr>\n",
       "    <tr>\n",
       "      <th>13</th>\n",
       "      <td>None</td>\n",
       "      <td>14.01</td>\n",
       "      <td>0.0</td>\n",
       "      <td>0.0</td>\n",
       "      <td>1</td>\n",
       "      <td>Clear</td>\n",
       "      <td>sky is clear</td>\n",
       "      <td>2012-10-02 22:00:00</td>\n",
       "      <td>1529</td>\n",
       "    </tr>\n",
       "    <tr>\n",
       "      <th>14</th>\n",
       "      <td>None</td>\n",
       "      <td>12.30</td>\n",
       "      <td>0.0</td>\n",
       "      <td>0.0</td>\n",
       "      <td>1</td>\n",
       "      <td>Clear</td>\n",
       "      <td>sky is clear</td>\n",
       "      <td>2012-10-02 23:00:00</td>\n",
       "      <td>963</td>\n",
       "    </tr>\n",
       "    <tr>\n",
       "      <th>...</th>\n",
       "      <td>...</td>\n",
       "      <td>...</td>\n",
       "      <td>...</td>\n",
       "      <td>...</td>\n",
       "      <td>...</td>\n",
       "      <td>...</td>\n",
       "      <td>...</td>\n",
       "      <td>...</td>\n",
       "      <td>...</td>\n",
       "    </tr>\n",
       "    <tr>\n",
       "      <th>48199</th>\n",
       "      <td>None</td>\n",
       "      <td>10.30</td>\n",
       "      <td>0.0</td>\n",
       "      <td>0.0</td>\n",
       "      <td>75</td>\n",
       "      <td>Clouds</td>\n",
       "      <td>broken clouds</td>\n",
       "      <td>2018-09-30 19:00:00</td>\n",
       "      <td>3543</td>\n",
       "    </tr>\n",
       "    <tr>\n",
       "      <th>48200</th>\n",
       "      <td>None</td>\n",
       "      <td>9.61</td>\n",
       "      <td>0.0</td>\n",
       "      <td>0.0</td>\n",
       "      <td>90</td>\n",
       "      <td>Clouds</td>\n",
       "      <td>overcast clouds</td>\n",
       "      <td>2018-09-30 20:00:00</td>\n",
       "      <td>2781</td>\n",
       "    </tr>\n",
       "    <tr>\n",
       "      <th>48201</th>\n",
       "      <td>None</td>\n",
       "      <td>9.58</td>\n",
       "      <td>0.0</td>\n",
       "      <td>0.0</td>\n",
       "      <td>90</td>\n",
       "      <td>Thunderstorm</td>\n",
       "      <td>proximity thunderstorm</td>\n",
       "      <td>2018-09-30 21:00:00</td>\n",
       "      <td>2159</td>\n",
       "    </tr>\n",
       "    <tr>\n",
       "      <th>48202</th>\n",
       "      <td>None</td>\n",
       "      <td>8.94</td>\n",
       "      <td>0.0</td>\n",
       "      <td>0.0</td>\n",
       "      <td>90</td>\n",
       "      <td>Clouds</td>\n",
       "      <td>overcast clouds</td>\n",
       "      <td>2018-09-30 22:00:00</td>\n",
       "      <td>1450</td>\n",
       "    </tr>\n",
       "    <tr>\n",
       "      <th>48203</th>\n",
       "      <td>None</td>\n",
       "      <td>8.97</td>\n",
       "      <td>0.0</td>\n",
       "      <td>0.0</td>\n",
       "      <td>90</td>\n",
       "      <td>Clouds</td>\n",
       "      <td>overcast clouds</td>\n",
       "      <td>2018-09-30 23:00:00</td>\n",
       "      <td>954</td>\n",
       "    </tr>\n",
       "  </tbody>\n",
       "</table>\n",
       "<p>26406 rows × 9 columns</p>\n",
       "</div>"
      ],
      "text/plain": [
       "      holiday   temp  rain_1h  snow_1h  clouds_all  weather_main  \\\n",
       "10       None  17.82      0.0      0.0          20        Clouds   \n",
       "11       None  16.23      0.0      0.0           1         Clear   \n",
       "12       None  15.46      0.0      0.0           1         Clear   \n",
       "13       None  14.01      0.0      0.0           1         Clear   \n",
       "14       None  12.30      0.0      0.0           1         Clear   \n",
       "...       ...    ...      ...      ...         ...           ...   \n",
       "48199    None  10.30      0.0      0.0          75        Clouds   \n",
       "48200    None   9.61      0.0      0.0          90        Clouds   \n",
       "48201    None   9.58      0.0      0.0          90  Thunderstorm   \n",
       "48202    None   8.94      0.0      0.0          90        Clouds   \n",
       "48203    None   8.97      0.0      0.0          90        Clouds   \n",
       "\n",
       "          weather_description           date_time  traffic_volume  \n",
       "10                 few clouds 2012-10-02 19:00:00            3539  \n",
       "11               sky is clear 2012-10-02 20:00:00            2784  \n",
       "12               sky is clear 2012-10-02 21:00:00            2361  \n",
       "13               sky is clear 2012-10-02 22:00:00            1529  \n",
       "14               sky is clear 2012-10-02 23:00:00             963  \n",
       "...                       ...                 ...             ...  \n",
       "48199           broken clouds 2018-09-30 19:00:00            3543  \n",
       "48200         overcast clouds 2018-09-30 20:00:00            2781  \n",
       "48201  proximity thunderstorm 2018-09-30 21:00:00            2159  \n",
       "48202         overcast clouds 2018-09-30 22:00:00            1450  \n",
       "48203         overcast clouds 2018-09-30 23:00:00             954  \n",
       "\n",
       "[26406 rows x 9 columns]"
      ]
     },
     "execution_count": 24,
     "metadata": {},
     "output_type": "execute_result"
    }
   ],
   "source": [
    "#traffic_night = traffic[night_bool].copy()\n",
    "traffic_night = traffic[night_bool].copy()\n",
    "traffic_night"
   ]
  },
  {
   "cell_type": "markdown",
   "metadata": {},
   "source": [
    "Now we're going to compare the distribution on traffic volume at night and during day."
   ]
  },
  {
   "cell_type": "code",
   "execution_count": 25,
   "metadata": {},
   "outputs": [
    {
     "data": {
      "image/png": "[encoded data removed]",
      "text/plain": [
       "<Figure size 1080x288 with 2 Axes>"
      ]
     },
     "metadata": {
      "needs_background": "light"
     },
     "output_type": "display_data"
    }
   ],
   "source": [
    "plt.figure(figsize = (15,4))\n",
    "\n",
    "plt.subplot(1,2,1)\n",
    "\n",
    "plt.hist(horas_daytime)\n",
    "plt.xlabel('Day hours from 7 AM to 7 PM ')\n",
    "plt.ylabel('Cars per hour')\n",
    "plt.title('Distribution Traffic Volume: Day')\n",
    "plt.xticks(ticks=horas_daytime.unique(),\n",
    "           labels= horas_daytime.unique(),\n",
    "           rotation=85)\n",
    "\n",
    "\n",
    "plt.subplot(1,2,2)\n",
    "\n",
    "# bins = 'auto', esto se me habia pasado y la grafica que me daba no tenía sentido!\n",
    "\n",
    "plt.hist( horas_nighttime)\n",
    "plt.xlabel('Night hours from 7 PM to 7 AM')\n",
    "plt.ylabel('Cars per hour')\n",
    "plt.title('Distribution Traffic Volume: Night')\n",
    "plt.xticks(ticks=horas_nighttime.unique(),\n",
    "           labels=horas_nighttime.unique(),\n",
    "           rotation=85)\n",
    "plt.show()"
   ]
  },
  {
   "cell_type": "code",
   "execution_count": 26,
   "metadata": {},
   "outputs": [
    {
     "data": {
      "text/html": [
       "<div>\n",
       "<style scoped>\n",
       "    .dataframe tbody tr th:only-of-type {\n",
       "        vertical-align: middle;\n",
       "    }\n",
       "\n",
       "    .dataframe tbody tr th {\n",
       "        vertical-align: top;\n",
       "    }\n",
       "\n",
       "    .dataframe thead th {\n",
       "        text-align: right;\n",
       "    }\n",
       "</style>\n",
       "<table border=\"1\" class=\"dataframe\">\n",
       "  <thead>\n",
       "    <tr style=\"text-align: right;\">\n",
       "      <th></th>\n",
       "      <th>temp</th>\n",
       "      <th>rain_1h</th>\n",
       "      <th>snow_1h</th>\n",
       "      <th>clouds_all</th>\n",
       "      <th>traffic_volume</th>\n",
       "    </tr>\n",
       "  </thead>\n",
       "  <tbody>\n",
       "    <tr>\n",
       "      <th>count</th>\n",
       "      <td>25838.000000</td>\n",
       "      <td>25838.000000</td>\n",
       "      <td>25838.000000</td>\n",
       "      <td>25838.000000</td>\n",
       "      <td>25838.000000</td>\n",
       "    </tr>\n",
       "    <tr>\n",
       "      <th>mean</th>\n",
       "      <td>9.197796</td>\n",
       "      <td>0.502320</td>\n",
       "      <td>0.000234</td>\n",
       "      <td>53.040135</td>\n",
       "      <td>4649.292360</td>\n",
       "    </tr>\n",
       "    <tr>\n",
       "      <th>std</th>\n",
       "      <td>13.302562</td>\n",
       "      <td>61.167614</td>\n",
       "      <td>0.008511</td>\n",
       "      <td>37.590946</td>\n",
       "      <td>1202.321987</td>\n",
       "    </tr>\n",
       "    <tr>\n",
       "      <th>min</th>\n",
       "      <td>-273.150000</td>\n",
       "      <td>0.000000</td>\n",
       "      <td>0.000000</td>\n",
       "      <td>0.000000</td>\n",
       "      <td>0.000000</td>\n",
       "    </tr>\n",
       "    <tr>\n",
       "      <th>25%</th>\n",
       "      <td>-0.430000</td>\n",
       "      <td>0.000000</td>\n",
       "      <td>0.000000</td>\n",
       "      <td>5.000000</td>\n",
       "      <td>4021.000000</td>\n",
       "    </tr>\n",
       "    <tr>\n",
       "      <th>50%</th>\n",
       "      <td>10.717000</td>\n",
       "      <td>0.000000</td>\n",
       "      <td>0.000000</td>\n",
       "      <td>75.000000</td>\n",
       "      <td>4736.000000</td>\n",
       "    </tr>\n",
       "    <tr>\n",
       "      <th>75%</th>\n",
       "      <td>20.460000</td>\n",
       "      <td>0.000000</td>\n",
       "      <td>0.000000</td>\n",
       "      <td>90.000000</td>\n",
       "      <td>5458.000000</td>\n",
       "    </tr>\n",
       "    <tr>\n",
       "      <th>max</th>\n",
       "      <td>36.920000</td>\n",
       "      <td>9831.300000</td>\n",
       "      <td>0.510000</td>\n",
       "      <td>100.000000</td>\n",
       "      <td>7280.000000</td>\n",
       "    </tr>\n",
       "  </tbody>\n",
       "</table>\n",
       "</div>"
      ],
      "text/plain": [
       "               temp       rain_1h       snow_1h    clouds_all  traffic_volume\n",
       "count  25838.000000  25838.000000  25838.000000  25838.000000    25838.000000\n",
       "mean       9.197796      0.502320      0.000234     53.040135     4649.292360\n",
       "std       13.302562     61.167614      0.008511     37.590946     1202.321987\n",
       "min     -273.150000      0.000000      0.000000      0.000000        0.000000\n",
       "25%       -0.430000      0.000000      0.000000      5.000000     4021.000000\n",
       "50%       10.717000      0.000000      0.000000     75.000000     4736.000000\n",
       "75%       20.460000      0.000000      0.000000     90.000000     5458.000000\n",
       "max       36.920000   9831.300000      0.510000    100.000000     7280.000000"
      ]
     },
     "execution_count": 26,
     "metadata": {},
     "output_type": "execute_result"
    }
   ],
   "source": [
    "traffic_daytime.describe()"
   ]
  },
  {
   "cell_type": "code",
   "execution_count": 27,
   "metadata": {},
   "outputs": [
    {
     "data": {
      "text/html": [
       "<div>\n",
       "<style scoped>\n",
       "    .dataframe tbody tr th:only-of-type {\n",
       "        vertical-align: middle;\n",
       "    }\n",
       "\n",
       "    .dataframe tbody tr th {\n",
       "        vertical-align: top;\n",
       "    }\n",
       "\n",
       "    .dataframe thead th {\n",
       "        text-align: right;\n",
       "    }\n",
       "</style>\n",
       "<table border=\"1\" class=\"dataframe\">\n",
       "  <thead>\n",
       "    <tr style=\"text-align: right;\">\n",
       "      <th></th>\n",
       "      <th>temp</th>\n",
       "      <th>rain_1h</th>\n",
       "      <th>snow_1h</th>\n",
       "      <th>clouds_all</th>\n",
       "      <th>traffic_volume</th>\n",
       "    </tr>\n",
       "  </thead>\n",
       "  <tbody>\n",
       "    <tr>\n",
       "      <th>count</th>\n",
       "      <td>26406.000000</td>\n",
       "      <td>26406.000000</td>\n",
       "      <td>26406.000000</td>\n",
       "      <td>26406.000000</td>\n",
       "      <td>26406.000000</td>\n",
       "    </tr>\n",
       "    <tr>\n",
       "      <th>mean</th>\n",
       "      <td>6.891662</td>\n",
       "      <td>0.142964</td>\n",
       "      <td>0.000181</td>\n",
       "      <td>46.043021</td>\n",
       "      <td>2018.015375</td>\n",
       "    </tr>\n",
       "    <tr>\n",
       "      <th>std</th>\n",
       "      <td>13.312483</td>\n",
       "      <td>1.131005</td>\n",
       "      <td>0.007148</td>\n",
       "      <td>39.995392</td>\n",
       "      <td>1713.201969</td>\n",
       "    </tr>\n",
       "    <tr>\n",
       "      <th>min</th>\n",
       "      <td>-273.150000</td>\n",
       "      <td>0.000000</td>\n",
       "      <td>0.000000</td>\n",
       "      <td>0.000000</td>\n",
       "      <td>0.000000</td>\n",
       "    </tr>\n",
       "    <tr>\n",
       "      <th>25%</th>\n",
       "      <td>-1.550000</td>\n",
       "      <td>0.000000</td>\n",
       "      <td>0.000000</td>\n",
       "      <td>1.000000</td>\n",
       "      <td>581.000000</td>\n",
       "    </tr>\n",
       "    <tr>\n",
       "      <th>50%</th>\n",
       "      <td>8.130000</td>\n",
       "      <td>0.000000</td>\n",
       "      <td>0.000000</td>\n",
       "      <td>40.000000</td>\n",
       "      <td>1485.000000</td>\n",
       "    </tr>\n",
       "    <tr>\n",
       "      <th>75%</th>\n",
       "      <td>17.400000</td>\n",
       "      <td>0.000000</td>\n",
       "      <td>0.000000</td>\n",
       "      <td>90.000000</td>\n",
       "      <td>2934.000000</td>\n",
       "    </tr>\n",
       "    <tr>\n",
       "      <th>max</th>\n",
       "      <td>34.530000</td>\n",
       "      <td>55.630000</td>\n",
       "      <td>0.510000</td>\n",
       "      <td>100.000000</td>\n",
       "      <td>7260.000000</td>\n",
       "    </tr>\n",
       "  </tbody>\n",
       "</table>\n",
       "</div>"
      ],
      "text/plain": [
       "               temp       rain_1h       snow_1h    clouds_all  traffic_volume\n",
       "count  26406.000000  26406.000000  26406.000000  26406.000000    26406.000000\n",
       "mean       6.891662      0.142964      0.000181     46.043021     2018.015375\n",
       "std       13.312483      1.131005      0.007148     39.995392     1713.201969\n",
       "min     -273.150000      0.000000      0.000000      0.000000        0.000000\n",
       "25%       -1.550000      0.000000      0.000000      1.000000      581.000000\n",
       "50%        8.130000      0.000000      0.000000     40.000000     1485.000000\n",
       "75%       17.400000      0.000000      0.000000     90.000000     2934.000000\n",
       "max       34.530000     55.630000      0.510000    100.000000     7260.000000"
      ]
     },
     "execution_count": 27,
     "metadata": {},
     "output_type": "execute_result"
    }
   ],
   "source": [
    "traffic_night.describe()"
   ]
  },
  {
   "cell_type": "markdown",
   "metadata": {},
   "source": [
    "## Summary from both histograms:\n",
    "\n",
    "We can observe in greater detail, the time slots mentioned above, \n",
    "\n",
    "- From 7 am traffic begins to increase until 8 am to reduce the volume in half until noon where it increases again from 13 until 14 pm to reduce the volume again and again increase traffic to coincide with the end of the working day.\n",
    "\n",
    "\n",
    "- The volume of vehicles at night is much lower than day, although there are occasional moments when the return home causes the volume to increase significantly for a short period of time.  \n",
    "\n",
    "\n",
    "\n",
    "\n",
    "\n",
    "The rest of the time the volume is much lower.\n",
    "\n",
    "* * * \n",
    "\n",
    "### Our goal is to find indicators of heavy traffic\n",
    "\n",
    "So we decided to only **focus on the daytime** data moving forward.\n",
    "\n",
    "One of the possible indicators of heavy traffic is time periods when is more people on the road, so there are certain months, days, or certain time of the day where this happens.\n",
    "\n",
    "We're going to look at a few line plots showing how the traffic volume changed according to the following parameters:\n",
    "\n",
    "#### - Month\n",
    "\n",
    "#### - Day of the week\n",
    "\n",
    "#### - Time of day\n",
    "\n",
    "The fastest way to get the average traffic volume for each month is by using the `DataFrame.groupby()` method."
   ]
  },
  {
   "cell_type": "markdown",
   "metadata": {},
   "source": [
    "## Monthly\n",
    "\n",
    "in the same way that we extracted the hours we proceed to extract the months."
   ]
  },
  {
   "cell_type": "code",
   "execution_count": 28,
   "metadata": {},
   "outputs": [
    {
     "data": {
      "text/plain": [
       "month_day\n",
       "1     4385.217310\n",
       "2     4593.187798\n",
       "3     4761.529676\n",
       "4     4771.232816\n",
       "5     4788.966639\n",
       "6     4791.087488\n",
       "7     4502.628360\n",
       "8     4818.434690\n",
       "9     4755.709916\n",
       "10    4809.481678\n",
       "11    4588.910486\n",
       "12    4276.567081\n",
       "Name: traffic_volume, dtype: float64"
      ]
     },
     "execution_count": 28,
     "metadata": {},
     "output_type": "execute_result"
    }
   ],
   "source": [
    "traffic_daytime['month_day'] = traffic_daytime['date_time'].dt.month\n",
    "by_month_day = traffic_daytime.groupby('month_day').mean()\n",
    "by_month_day['traffic_volume']"
   ]
  },
  {
   "cell_type": "markdown",
   "metadata": {},
   "source": [
    "This is the result of grouping the average traffic for each of the months.\n"
   ]
  },
  {
   "cell_type": "code",
   "execution_count": 29,
   "metadata": {},
   "outputs": [
    {
     "data": {
      "image/png": "[encoded data removed]",
      "text/plain": [
       "<Figure size 432x288 with 1 Axes>"
      ]
     },
     "metadata": {
      "needs_background": "light"
     },
     "output_type": "display_data"
    }
   ],
   "source": [
    "plt.plot(by_month_day['traffic_volume'])\n",
    "plt.xticks(ticks=[1, 2, 3, 4, 5, 6,7,8,9,10,11,12],\n",
    "           labels=['January', 'February', 'March','April',\n",
    "                   'May','June', 'July','August','September', 'October', 'November','December'],\n",
    "           rotation=30)\n",
    "\n",
    "plt.xlabel('Month')\n",
    "plt.ylabel('Cars per hour')\n",
    "plt.title('Traffic Volume / Monthly')\n",
    "\n",
    "plt.show()"
   ]
  },
  {
   "cell_type": "markdown",
   "metadata": {},
   "source": [
    "This is how these values are represented in a graph.\n",
    "\n",
    "### note:\n",
    "\n",
    "As we had previously mentioned, it seems that the volume of traffic is more focused on certain months of the year, except for the coldest months and the month of July that seems to not lead to any important summer site by the traffic volume, which seems to be the month most Americans choose as their vacation month."
   ]
  },
  {
   "cell_type": "markdown",
   "metadata": {},
   "source": [
    "## Day of the week.\n",
    "\n",
    "To get the traffic volume averages for each day of the week, we'll need to get the day as we did before on hours and month."
   ]
  },
  {
   "cell_type": "code",
   "execution_count": 30,
   "metadata": {},
   "outputs": [
    {
     "data": {
      "text/plain": [
       "dayofweek\n",
       "0    4746.208029\n",
       "1    5036.062431\n",
       "2    5141.231163\n",
       "3    5163.688063\n",
       "4    5161.533588\n",
       "5    3884.065668\n",
       "6    3410.368091\n",
       "Name: traffic_volume, dtype: float64"
      ]
     },
     "execution_count": 30,
     "metadata": {},
     "output_type": "execute_result"
    }
   ],
   "source": [
    "traffic_daytime['dayofweek'] = traffic_daytime['date_time'].dt.dayofweek\n",
    "by_dayofweek = traffic_daytime.groupby('dayofweek').mean()\n",
    "by_dayofweek['traffic_volume']  # 0 is Monday, 6 is Sunday"
   ]
  },
  {
   "cell_type": "markdown",
   "metadata": {},
   "source": [
    "This is the average traffic per day of the week."
   ]
  },
  {
   "cell_type": "code",
   "execution_count": 31,
   "metadata": {},
   "outputs": [
    {
     "data": {
      "image/png": "[encoded data removed]",
      "text/plain": [
       "<Figure size 432x288 with 1 Axes>"
      ]
     },
     "metadata": {
      "needs_background": "light"
     },
     "output_type": "display_data"
    }
   ],
   "source": [
    "plt.plot(by_dayofweek['traffic_volume'])\n",
    "plt.title('Traffic Volume / Day of week (day time) ')\n",
    "plt.xticks(ticks=[0, 1, 2, 3, 4, 5, 6], labels=[ 'Monday', 'Tuesday',\n",
    "                                                'Wednesday', 'Thursday', \n",
    "                                                'Friday', 'Saturday','Sunday'],\n",
    "           rotation=30) \n",
    "plt.show()"
   ]
  },
  {
   "cell_type": "markdown",
   "metadata": {},
   "source": [
    "### note:\n",
    "\n",
    "We found that the traffic volume is significantly heavier on business days compared to the weekends.\n",
    "\n",
    "We'll now generate a line plot for the time of day. \n",
    "\n",
    "The weekends, however, will drag down the average values, so we're going to look at the averages separately.\n",
    "\n",
    "To do that, we'll start by **splitting the data based on the day type**: \n",
    "\n",
    "**- business day or weekend.**\n",
    "\n",
    "Below, we show you how to split the dataset so you can focus on plotting the graphs. While your variable names may vary, the logic of the code should be the same."
   ]
  },
  {
   "cell_type": "code",
   "execution_count": 32,
   "metadata": {},
   "outputs": [
    {
     "name": "stdout",
     "output_type": "stream",
     "text": [
      "hour_day\n",
      "7     6030.413559\n",
      "8     5503.497970\n",
      "9     4895.269257\n",
      "10    4378.419118\n",
      "11    4633.419470\n",
      "12    4855.382143\n",
      "13    4859.180473\n",
      "14    5152.995778\n",
      "15    5592.897768\n",
      "16    6189.473647\n",
      "17    5784.827133\n",
      "18    4434.209431\n",
      "19    3298.340426\n",
      "Name: traffic_volume, dtype: float64\n",
      "hour_day\n",
      "7     1589.365894\n",
      "8     2338.578073\n",
      "9     3111.623917\n",
      "10    3686.632302\n",
      "11    4044.154955\n",
      "12    4372.482883\n",
      "13    4362.296564\n",
      "14    4358.543796\n",
      "15    4342.456881\n",
      "16    4339.693805\n",
      "17    4151.919929\n",
      "18    3811.792279\n",
      "19    3220.234120\n",
      "Name: traffic_volume, dtype: float64\n"
     ]
    }
   ],
   "source": [
    "# Splitting Data\n",
    "\n",
    "traffic_daytime['hour_day'] = traffic_daytime['date_time'].dt.hour                 # Filtering days\n",
    "\n",
    "bussiness_days = traffic_daytime.copy()[traffic_daytime['dayofweek'] <= 4]         # 4 <= Monday to Friday\n",
    "weekend = traffic_daytime.copy()[traffic_daytime['dayofweek'] >= 5]                # 5 >= Saturday Sunday\n",
    "\n",
    "by_hour_business = bussiness_days.groupby('hour_day').mean()                       \n",
    "by_hour_weekend = weekend.groupby('hour_day').mean()\n",
    "\n",
    "print(by_hour_business['traffic_volume'])\n",
    "print(by_hour_weekend['traffic_volume'])"
   ]
  },
  {
   "cell_type": "code",
   "execution_count": 33,
   "metadata": {},
   "outputs": [
    {
     "data": {
      "image/png": "[encoded data removed]",
      "text/plain": [
       "<Figure size 720x864 with 2 Axes>"
      ]
     },
     "metadata": {
      "needs_background": "light"
     },
     "output_type": "display_data"
    }
   ],
   "source": [
    "plt.figure(figsize=(10, 12))\n",
    "\n",
    "plt.ylim([0, 24])\n",
    "plt.subplot(3, 2, 1)\n",
    "plt.title('by hour business traffic_volume (day time)')\n",
    "plt.plot(by_hour_business['traffic_volume'])\n",
    "plt.xticks(ticks=[7,8,9,10,11,12,13,14,15,16,17,18,19,],\n",
    "           labels=['07:00','08:00','09:00','10:00','11:00',\n",
    "                   '12:00','13:00','14:00','15:00','16:00','17:00','18:00','19:00'],\n",
    "           rotation=85)\n",
    "\n",
    "\n",
    "plt.subplot(3, 2, 2)\n",
    "plt.title('by hour weekend traffic_volume (day time)')\n",
    "plt.plot(by_hour_weekend['traffic_volume'])\n",
    "plt.xticks(ticks=[7,8,9,10,11,12,13,14,15,16,17,18,19,],\n",
    "           labels=['07:00','08:00','09:00','10:00','11:00',\n",
    "                   '12:00','13:00','14:00','15:00','16:00','17:00','18:00','19:00'],\n",
    "           rotation=85)\n",
    "\n",
    "plt.show()"
   ]
  },
  {
   "cell_type": "markdown",
   "metadata": {},
   "source": [
    "### note:\n",
    "\n",
    "- According to what has been seen so far the Road use appears to have a direct relationship with weekday work schedules and therefore the increased frequency of vehicles per hour passing by and the volumen may cause some kind of jam.\n",
    "\n",
    "\n",
    "- Hoewer the Weekend use is much more progressive and there does not seem to be anything related to work schedules that sets the tempo of use, and the volume of vehicles is also lower compared with the weekday work."
   ]
  },
  {
   "cell_type": "code",
   "execution_count": 34,
   "metadata": {},
   "outputs": [
    {
     "data": {
      "text/plain": [
       "traffic_volume    1.000000\n",
       "temp              0.118084\n",
       "rain_1h           0.004020\n",
       "snow_1h           0.003768\n",
       "hour_day         -0.007369\n",
       "month_day        -0.017397\n",
       "clouds_all       -0.033410\n",
       "dayofweek        -0.371023\n",
       "Name: traffic_volume, dtype: float64"
      ]
     },
     "execution_count": 34,
     "metadata": {},
     "output_type": "execute_result"
    }
   ],
   "source": [
    "traffic_daytime.corr()['traffic_volume'].sort_values(ascending = False)"
   ]
  },
  {
   "cell_type": "markdown",
   "metadata": {},
   "source": [
    "There is a slight positive correlation between temperature and traffic volume \n",
    "\n",
    "also noticed that there are more significative negative correlation on traffic volume (decreases) depending on whatever the day of the week, as we had seen before.\n",
    "\n",
    "Let's visualize it."
   ]
  },
  {
   "cell_type": "code",
   "execution_count": 35,
   "metadata": {},
   "outputs": [
    {
     "data": {
      "image/png": "[encoded data removed]",
      "text/plain": [
       "<Figure size 720x1080 with 2 Axes>"
      ]
     },
     "metadata": {
      "needs_background": "light"
     },
     "output_type": "display_data"
    }
   ],
   "source": [
    "plt.figure(figsize=(10, 15))\n",
    "plt.ylim([0, 24])\n",
    "\n",
    "plt.subplot(3, 2, 1)\n",
    "\n",
    "plt.xlabel('Car volume')\n",
    "plt.ylabel('temp Celsius')\n",
    "\n",
    "plt.title('traffic_volume vs temp (day time ºC)')\n",
    "plt.scatter(traffic_daytime['traffic_volume'],traffic_daytime['temp'])\n",
    "\n",
    "\n",
    "plt.subplot(3, 2, 2)\n",
    "\n",
    "plt.xlabel('Car volume')\n",
    "plt.ylabel('dayofweek')\n",
    "plt.scatter(traffic_daytime['traffic_volume'],traffic_daytime['dayofweek'])\n",
    "\n",
    "plt.show()"
   ]
  },
  {
   "cell_type": "markdown",
   "metadata": {},
   "source": [
    "### note:\n",
    "\n",
    "There are outlayers, but in this exercise we will leave it here and in a later version we will work with them.\n",
    "\n",
    "as the correlation indicated, temperature is not an important factor in traffic.\n",
    "\n",
    "However we can see the day of the week is one of the parameters that most affects traffic, even so we see that it does not have an extreme relevance.\n",
    "\n",
    "* * *\n",
    "\n",
    "### Weather indicators: \n",
    "\n",
    "To see if we can find more useful data, we'll look next at the categorical weather-related columns: \n",
    "\n",
    "### `weather_main ` and ` weather_description`\n",
    "\n",
    "We're going to calculate the average traffic volume associated with each unique value in these two columns. \n",
    "\n",
    "This is the middle category of how the sky is in every day."
   ]
  },
  {
   "cell_type": "code",
   "execution_count": 36,
   "metadata": {},
   "outputs": [],
   "source": [
    "by_weather_main_day = traffic_daytime.groupby('weather_main').mean()  # Columna categorica: Nubado... claro \n",
    "by_weather_description_day = traffic_daytime.groupby('weather_description').mean()"
   ]
  },
  {
   "cell_type": "code",
   "execution_count": 37,
   "metadata": {},
   "outputs": [
    {
     "data": {
      "text/html": [
       "<div>\n",
       "<style scoped>\n",
       "    .dataframe tbody tr th:only-of-type {\n",
       "        vertical-align: middle;\n",
       "    }\n",
       "\n",
       "    .dataframe tbody tr th {\n",
       "        vertical-align: top;\n",
       "    }\n",
       "\n",
       "    .dataframe thead th {\n",
       "        text-align: right;\n",
       "    }\n",
       "</style>\n",
       "<table border=\"1\" class=\"dataframe\">\n",
       "  <thead>\n",
       "    <tr style=\"text-align: right;\">\n",
       "      <th></th>\n",
       "      <th>temp</th>\n",
       "      <th>rain_1h</th>\n",
       "      <th>snow_1h</th>\n",
       "      <th>clouds_all</th>\n",
       "      <th>traffic_volume</th>\n",
       "      <th>month_day</th>\n",
       "      <th>dayofweek</th>\n",
       "      <th>hour_day</th>\n",
       "    </tr>\n",
       "    <tr>\n",
       "      <th>weather_main</th>\n",
       "      <th></th>\n",
       "      <th></th>\n",
       "      <th></th>\n",
       "      <th></th>\n",
       "      <th></th>\n",
       "      <th></th>\n",
       "      <th></th>\n",
       "      <th></th>\n",
       "    </tr>\n",
       "  </thead>\n",
       "  <tbody>\n",
       "    <tr>\n",
       "      <th>Clear</th>\n",
       "      <td>10.734100</td>\n",
       "      <td>0.000000</td>\n",
       "      <td>0.000000</td>\n",
       "      <td>1.676447</td>\n",
       "      <td>4661.666879</td>\n",
       "      <td>6.492107</td>\n",
       "      <td>3.143518</td>\n",
       "      <td>12.958539</td>\n",
       "    </tr>\n",
       "    <tr>\n",
       "      <th>Clouds</th>\n",
       "      <td>9.821967</td>\n",
       "      <td>0.000000</td>\n",
       "      <td>0.000000</td>\n",
       "      <td>62.700890</td>\n",
       "      <td>4746.375927</td>\n",
       "      <td>6.391820</td>\n",
       "      <td>2.999894</td>\n",
       "      <td>13.386734</td>\n",
       "    </tr>\n",
       "    <tr>\n",
       "      <th>Drizzle</th>\n",
       "      <td>11.282372</td>\n",
       "      <td>0.168234</td>\n",
       "      <td>0.000000</td>\n",
       "      <td>84.781609</td>\n",
       "      <td>4712.699060</td>\n",
       "      <td>7.074190</td>\n",
       "      <td>2.921630</td>\n",
       "      <td>12.825496</td>\n",
       "    </tr>\n",
       "    <tr>\n",
       "      <th>Fog</th>\n",
       "      <td>4.228271</td>\n",
       "      <td>0.157739</td>\n",
       "      <td>0.001356</td>\n",
       "      <td>66.281915</td>\n",
       "      <td>4298.933511</td>\n",
       "      <td>6.625000</td>\n",
       "      <td>2.827128</td>\n",
       "      <td>10.648936</td>\n",
       "    </tr>\n",
       "    <tr>\n",
       "      <th>Haze</th>\n",
       "      <td>2.576381</td>\n",
       "      <td>0.060947</td>\n",
       "      <td>0.000000</td>\n",
       "      <td>63.916667</td>\n",
       "      <td>4545.434932</td>\n",
       "      <td>5.873288</td>\n",
       "      <td>2.748858</td>\n",
       "      <td>12.780822</td>\n",
       "    </tr>\n",
       "    <tr>\n",
       "      <th>Mist</th>\n",
       "      <td>6.192164</td>\n",
       "      <td>0.249371</td>\n",
       "      <td>0.000778</td>\n",
       "      <td>75.518370</td>\n",
       "      <td>4530.901782</td>\n",
       "      <td>6.731175</td>\n",
       "      <td>2.903601</td>\n",
       "      <td>11.527828</td>\n",
       "    </tr>\n",
       "    <tr>\n",
       "      <th>Rain</th>\n",
       "      <td>14.022515</td>\n",
       "      <td>3.690371</td>\n",
       "      <td>0.000268</td>\n",
       "      <td>75.771069</td>\n",
       "      <td>4686.953503</td>\n",
       "      <td>6.755247</td>\n",
       "      <td>2.905392</td>\n",
       "      <td>13.167904</td>\n",
       "    </tr>\n",
       "    <tr>\n",
       "      <th>Smoke</th>\n",
       "      <td>19.380000</td>\n",
       "      <td>0.810769</td>\n",
       "      <td>0.000000</td>\n",
       "      <td>49.307692</td>\n",
       "      <td>4447.307692</td>\n",
       "      <td>6.846154</td>\n",
       "      <td>2.230769</td>\n",
       "      <td>13.615385</td>\n",
       "    </tr>\n",
       "    <tr>\n",
       "      <th>Snow</th>\n",
       "      <td>-5.097312</td>\n",
       "      <td>0.013233</td>\n",
       "      <td>0.001648</td>\n",
       "      <td>80.945478</td>\n",
       "      <td>4295.594612</td>\n",
       "      <td>6.375241</td>\n",
       "      <td>2.756895</td>\n",
       "      <td>12.614496</td>\n",
       "    </tr>\n",
       "    <tr>\n",
       "      <th>Squall</th>\n",
       "      <td>23.580000</td>\n",
       "      <td>1.020000</td>\n",
       "      <td>0.000000</td>\n",
       "      <td>75.000000</td>\n",
       "      <td>4211.000000</td>\n",
       "      <td>7.000000</td>\n",
       "      <td>2.000000</td>\n",
       "      <td>14.000000</td>\n",
       "    </tr>\n",
       "    <tr>\n",
       "      <th>Thunderstorm</th>\n",
       "      <td>20.392455</td>\n",
       "      <td>1.114671</td>\n",
       "      <td>0.000000</td>\n",
       "      <td>73.742515</td>\n",
       "      <td>4512.479042</td>\n",
       "      <td>7.063872</td>\n",
       "      <td>2.932136</td>\n",
       "      <td>13.323353</td>\n",
       "    </tr>\n",
       "  </tbody>\n",
       "</table>\n",
       "</div>"
      ],
      "text/plain": [
       "                   temp   rain_1h   snow_1h  clouds_all  traffic_volume  \\\n",
       "weather_main                                                              \n",
       "Clear         10.734100  0.000000  0.000000    1.676447     4661.666879   \n",
       "Clouds         9.821967  0.000000  0.000000   62.700890     4746.375927   \n",
       "Drizzle       11.282372  0.168234  0.000000   84.781609     4712.699060   \n",
       "Fog            4.228271  0.157739  0.001356   66.281915     4298.933511   \n",
       "Haze           2.576381  0.060947  0.000000   63.916667     4545.434932   \n",
       "Mist           6.192164  0.249371  0.000778   75.518370     4530.901782   \n",
       "Rain          14.022515  3.690371  0.000268   75.771069     4686.953503   \n",
       "Smoke         19.380000  0.810769  0.000000   49.307692     4447.307692   \n",
       "Snow          -5.097312  0.013233  0.001648   80.945478     4295.594612   \n",
       "Squall        23.580000  1.020000  0.000000   75.000000     4211.000000   \n",
       "Thunderstorm  20.392455  1.114671  0.000000   73.742515     4512.479042   \n",
       "\n",
       "              month_day  dayofweek   hour_day  \n",
       "weather_main                                   \n",
       "Clear          6.492107   3.143518  12.958539  \n",
       "Clouds         6.391820   2.999894  13.386734  \n",
       "Drizzle        7.074190   2.921630  12.825496  \n",
       "Fog            6.625000   2.827128  10.648936  \n",
       "Haze           5.873288   2.748858  12.780822  \n",
       "Mist           6.731175   2.903601  11.527828  \n",
       "Rain           6.755247   2.905392  13.167904  \n",
       "Smoke          6.846154   2.230769  13.615385  \n",
       "Snow           6.375241   2.756895  12.614496  \n",
       "Squall         7.000000   2.000000  14.000000  \n",
       "Thunderstorm   7.063872   2.932136  13.323353  "
      ]
     },
     "execution_count": 37,
     "metadata": {},
     "output_type": "execute_result"
    }
   ],
   "source": [
    "by_weather_main_day"
   ]
  },
  {
   "cell_type": "code",
   "execution_count": 38,
   "metadata": {},
   "outputs": [
    {
     "data": {
      "image/png": "[encoded data removed]",
      "text/plain": [
       "<Figure size 432x288 with 1 Axes>"
      ]
     },
     "metadata": {
      "needs_background": "light"
     },
     "output_type": "display_data"
    }
   ],
   "source": [
    "by_weather_main_day['traffic_volume'].plot.barh()\n",
    "plt.title('Car volume vs different weather conditions (day)')\n",
    "plt.xlabel('car volume')\n",
    "plt.show()"
   ]
  },
  {
   "cell_type": "markdown",
   "metadata": {},
   "source": [
    "It seems that the atmospheric weather conditions are not directly responsible for a reduction in traffic"
   ]
  },
  {
   "cell_type": "code",
   "execution_count": 39,
   "metadata": {},
   "outputs": [
    {
     "data": {
      "image/png": "[encoded data removed]",
      "text/plain": [
       "<Figure size 1080x1080 with 1 Axes>"
      ]
     },
     "metadata": {
      "needs_background": "light"
     },
     "output_type": "display_data"
    }
   ],
   "source": [
    "plt.figure(figsize=(15,15))\n",
    "\n",
    "A = by_weather_description_day['traffic_volume'].sort_values(ascending = False)\n",
    "A.plot.barh()\n",
    "plt.title('Importance of weather conditions on traffic (day)')\n",
    "plt.xlabel('car volume')\n",
    "plt.show()"
   ]
  },
  {
   "cell_type": "markdown",
   "metadata": {},
   "source": [
    "The only two situations in which we can see a half reduction in traffic is when thunderstorm with drizzle appears.\n",
    "\n",
    "\n",
    "In other situations there is a reduction but it is very small.\n",
    "\n",
    "\n",
    "\n",
    "\n",
    "\n",
    "\n",
    "\n",
    "\n"
   ]
  },
  {
   "cell_type": "markdown",
   "metadata": {},
   "source": [
    "## Summary:\n",
    "\n",
    "### Time indicators for the day:"
   ]
  },
  {
   "cell_type": "markdown",
   "metadata": {},
   "source": [
    "\n",
    "| **Most Traffic** | **Frequency Month**    | **Laboral hours** | **Weekend hours** | \n",
    "| :---         |  :---              | :---           | :---          | \n",
    "| **Day time**     | Feb-May / Aug-Oct  | 07:00-09:00   | 11:00-15:00    | \n",
    "| **Night time**   | May-June / Jul-Aug | 04:00-07:00   | 05:00-07:00    | "
   ]
  },
  {
   "cell_type": "markdown",
   "metadata": {},
   "source": [
    " - On business days, the rush hours are around 7-8 AM and 18-23 PM, heavier on business days compared to the weekends.\n",
    "\n",
    "- The traffic is heavier during warm months (March–October) compared to cold months (November–February).\n",
    "\n",
    "\n",
    "- when we have studied the possible causes of correlation (negative correlation ) we have seen that the parameter that can be influential in the decrease in traffic is the arrival of the weekend."
   ]
  },
  {
   "cell_type": "markdown",
   "metadata": {},
   "source": [
    "### Weather indicators:\n",
    "\n",
    "- When shower snow, light rain and snow proximity thunderstorm with drizzle are over the highway, the volume of cars is reduced with a tendency towards 5000 vehicles per hour.\n",
    "\n",
    "\n",
    "- The most influential weather event on the freeway is a drizzle storm, which causes the freeway usage to drop to below 2500 vehicles per hour.\n",
    "\n",
    "\n",
    "- Possibly the fact that the volume of traffic does not decrease with these meteorological phenomena may be due to the fact that it is a communication route that is used by workers and somehow they are forced to take the car in quite adverse weather conditions.\n",
    "\n",
    "### Conclusions:\n",
    "\n",
    "As a final conclusion we can not forget that being a station that only records traffic in a westerly directionm, the results of our analysis are strongly biased, but we could say that it is a road strong linked to the schedules of working people, and that is precisely why the meteorological phenomena do not have a transcendence in the volume of traffic however this is clearly affected by the weekend or holiday period."
   ]
  }
 ],
 "metadata": {
  "kernelspec": {
   "display_name": "Python 3",
   "language": "python",
   "name": "python3"
  },
  "language_info": {
   "codemirror_mode": {
    "name": "ipython",
    "version": 3
   },
   "file_extension": ".py",
   "mimetype": "text/x-python",
   "name": "python",
   "nbconvert_exporter": "python",
   "pygments_lexer": "ipython3",
   "version": "3.8.2"
  }
 },
 "nbformat": 4,
 "nbformat_minor": 4
}
