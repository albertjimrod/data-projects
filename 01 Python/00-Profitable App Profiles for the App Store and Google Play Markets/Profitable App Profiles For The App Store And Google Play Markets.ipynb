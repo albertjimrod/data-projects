{
 "cells": [
  {
   "cell_type": "markdown",
   "metadata": {},
   "source": [
    "# Profitable App Profiles for the App Store and Google Play Markets\n",
    "\n",
    "<br />\n",
    "\n",
    "<br />\n",
    "\n",
    "\n",
    "![header.jpg](header.jpg)\n",
    "\n",
    "\n",
    "## Introduction\n",
    "\n",
    "\n",
    "Working for a company that **only build free apps to download and install** available on Google Play and in the App Store, our main source of revenue consists of in-app ads. \n",
    "\n",
    "This means that the number of users of our apps determines our revenue for any given app therefore the more users who see and engage with the ads, the better. \n",
    "\n",
    "\n",
    "<br />\n",
    "\n",
    "\n",
    "Our aim is collect and analyze data from each of the online stores to understand what type of apps it would be interesting to develop to attract more users.\n",
    "\n",
    "## <a id='0'>Index</a>\n",
    "\n",
    " \n",
    "### <a href='#1'>1. Exploring data </a>\n",
    " \n",
    " \n",
    "- <a href='#11'>1.1 Function to explore datasets</a>\n",
    "\n",
    "\n",
    "-  <a href='#12'>1.2 Data dictionary:</a>\n",
    "\n",
    "\n",
    "-  <a href='#13'>1.3 Knowing the size in both data sets.</a>\n",
    "\n",
    "### <a href='#2'>2. Data cleaning </a>\n",
    "\n",
    "\n",
    "-  <a href='#21'>2.1. Detect inaccurate data... remove it.</a>\n",
    "\n",
    "\n",
    "-  <a href='#22'>2.2 Detect duplicate data, and remove the duplicates.</a>\n",
    "\n",
    "\n",
    "-  <a href='#23'>2.3 What differentiates duplicate applications?</a>\n",
    "\n",
    "\n",
    "-  <a href='#24'>2.4 Removing Non-English Apps</a>\n",
    "\n",
    "\n",
    "-  <a href='#25'>2.5 Filter non-English applications from both datasets. </a>\n",
    "\n",
    "\n",
    "-  <a href='#26'>2.6 Exploring datasets and see how many rows we have left for each dataset.</a>\n",
    "\n",
    "\n",
    "\n",
    "### <a href='#3'>3. Isolating Free Apps </a>\n",
    "\n",
    "\n",
    "-  <a href='#31'>3.1 Our **ultimate goal** </a>\n",
    "\n",
    "\n",
    "-  <a href='#32'>3.2 Profiles of apps successful in both markets\tTable</a>\n",
    "\n",
    "\n",
    "\n",
    "### <a href='#4'>4. Most Popular Apps by Genre on Apple Store </a>\n",
    "\n",
    "### <a href='#5'>5. Most Popular Apps by Genre on Apple Store </a>\n",
    "\n",
    "### <a href='#6'>5. Summary. </a>\n",
    "\n",
    "* * *\n",
    "\n",
    "The datasets are in two documents of type csv's i.e. **Comma Separated Values file** for read the content, it is necessary to load a function called `reader` of the python `csv` module."
   ]
  },
  {
   "cell_type": "code",
   "execution_count": 1,
   "metadata": {},
   "outputs": [],
   "source": [
    "from csv import reader"
   ]
  },
  {
   "cell_type": "markdown",
   "metadata": {},
   "source": [
    "* * *\n",
    "<a href='#0'> back to index</a>\n",
    "\n",
    "## <a id='1'>1. Exploring datasets</a>:\n",
    "\n",
    "We are going to explore the two sets of data, but first we are going to kwon what type of [character encoding](https://en.wikipedia.org/wiki/Character_encoding) both datasets have.\n",
    "\n",
    "A command called [file](https://www.man7.org/linux/man-pages/man1/file.1.html), will help us to kwon the type of file regardless of its extension and avoid a error called `UnicodeDecodeError`."
   ]
  },
  {
   "cell_type": "code",
   "execution_count": 2,
   "metadata": {},
   "outputs": [
    {
     "name": "stdout",
     "output_type": "stream",
     "text": [
      "csv/AppleStore.csv: application/csv; charset=utf-8\r\n"
     ]
    }
   ],
   "source": [
    "! file -i csv/AppleStore.csv"
   ]
  },
  {
   "cell_type": "code",
   "execution_count": 3,
   "metadata": {},
   "outputs": [
    {
     "name": "stdout",
     "output_type": "stream",
     "text": [
      "csv/googleplaystore.csv: application/csv; charset=utf-8\r\n"
     ]
    }
   ],
   "source": [
    "! file -i csv/googleplaystore.csv"
   ]
  },
  {
   "cell_type": "markdown",
   "metadata": {},
   "source": [
    "Our files have the same type of charset https://en.wikipedia.org/wiki/UTF-8.\n",
    "\n",
    "\n",
    "Quick idea:\n",
    "\n",
    "- **charset:** is the set of characters you can use.\n",
    "- **encoding:** is the way these characters are stored into memory.\n",
    "\n",
    "[source](https://stackoverflow.com/questions/2281646/whats-the-difference-between-encoding-and-charset)"
   ]
  },
  {
   "cell_type": "code",
   "execution_count": 4,
   "metadata": {},
   "outputs": [
    {
     "data": {
      "text/plain": [
       "['id',\n",
       " 'track_name',\n",
       " 'size_bytes',\n",
       " 'currency',\n",
       " 'price',\n",
       " 'rating_count_tot',\n",
       " 'rating_count_ver',\n",
       " 'user_rating',\n",
       " 'user_rating_ver',\n",
       " 'ver',\n",
       " 'cont_rating',\n",
       " 'prime_genre',\n",
       " 'sup_devices.num',\n",
       " 'ipadSc_urls.num',\n",
       " 'lang.num',\n",
       " 'vpp_lic']"
      ]
     },
     "execution_count": 4,
     "metadata": {},
     "output_type": "execute_result"
    }
   ],
   "source": [
    "AppleStore = open('csv/AppleStore.csv', encoding='utf8')\n",
    "AppleStore = reader(AppleStore)\n",
    "AppleStore = list(AppleStore)\n",
    "header_apple = [x for x in AppleStore[0]]\n",
    "header_apple #Columns on AppleStore"
   ]
  },
  {
   "cell_type": "code",
   "execution_count": 5,
   "metadata": {},
   "outputs": [],
   "source": [
    "dataset_apple = AppleStore[1:] #whole dataset apple, no headers"
   ]
  },
  {
   "cell_type": "code",
   "execution_count": 6,
   "metadata": {},
   "outputs": [
    {
     "data": {
      "text/plain": [
       "['App',\n",
       " 'Category',\n",
       " 'Rating',\n",
       " 'Reviews',\n",
       " 'Size',\n",
       " 'Installs',\n",
       " 'Type',\n",
       " 'Price',\n",
       " 'Content Rating',\n",
       " 'Genres',\n",
       " 'Last Updated',\n",
       " 'Current Ver',\n",
       " 'Android Ver']"
      ]
     },
     "execution_count": 6,
     "metadata": {},
     "output_type": "execute_result"
    }
   ],
   "source": [
    "GooglePlay = open('csv/googleplaystore.csv', encoding='utf8')\n",
    "GooglePlay = reader(GooglePlay)\n",
    "GooglePlay = list(GooglePlay)\n",
    "header_google = [x for x in GooglePlay[0]]\n",
    "header_google "
   ]
  },
  {
   "cell_type": "code",
   "execution_count": 7,
   "metadata": {},
   "outputs": [],
   "source": [
    "dataset_google = GooglePlay[1:] #whole dataset google, no header"
   ]
  },
  {
   "cell_type": "markdown",
   "metadata": {},
   "source": [
    "* * *\n",
    "<a href='#0'> back to index</a>\n",
    "\n",
    "### <a id='11'>1.1 Function to explore datasets</a>\n",
    "\n",
    "To make easier to explore, we created a function named `explore_data()` you can repeatedly use to print rows in a readable way."
   ]
  },
  {
   "cell_type": "code",
   "execution_count": 8,
   "metadata": {},
   "outputs": [],
   "source": [
    "def explore_data(dataset, start, end, rows_and_columns=False):\n",
    "        dataset_slice = dataset[start:end]    \n",
    "        for row in dataset_slice:\n",
    "            print(row)\n",
    "            print('\\n') # adds a new (empty) line after each row\n",
    "        if rows_and_columns:\n",
    "            print('Number of rows:', len(dataset))\n",
    "            print('Number of columns:', len(dataset[0]))"
   ]
  },
  {
   "cell_type": "code",
   "execution_count": 9,
   "metadata": {},
   "outputs": [
    {
     "data": {
      "text/html": [
       "<style>\n",
       "table {float:left}\n",
       "</style>\n"
      ],
      "text/plain": [
       "<IPython.core.display.HTML object>"
      ]
     },
     "metadata": {},
     "output_type": "display_data"
    }
   ],
   "source": [
    "%%html\n",
    "<style>\n",
    "table {float:left}\n",
    "</style>"
   ]
  },
  {
   "cell_type": "markdown",
   "metadata": {},
   "source": [
    "<a href='#0'> back to index</a>\n",
    "* * *\n",
    "### <a id='12'> 1.2 Data dictionary:</a>\n",
    "\n",
    "We have the name of the columns and the data that form the set of both data sets:\n",
    "\n",
    "\n",
    "#### AppleStore.csv\n",
    "\n",
    " - `header_apple`\n",
    "\n",
    " - `dataset_apple` \n",
    "\n",
    "||Name | Description|\n",
    "|:--|:---|:--|\n",
    "|1|\"id\" : |App ID|\n",
    "|2|\"track_name\": |App Name|\n",
    "|3|\"size_bytes\": |Size (in Bytes)|\n",
    "|4|\"currency\": |Currency Type|\n",
    "|5|\"price\": |Price amount|\n",
    "|6|\"ratingcounttot\": |User Rating counts (for all version)|\n",
    "|7|\"ratingcountver\": |User Rating counts (for current version)|\n",
    "|8|\"user_rating\" : |Average User Rating value (for all version)|\n",
    "|9|\"userratingver\": |Average User Rating value (for current version)|\n",
    "|10|\"ver\" : |Latest version code|\n",
    "|11|\"cont_rating\": |Content Rating|\n",
    "|12|\"prime_genre\": |Primary Genre|\n",
    "|13|\"sup_devices.num\": |Number of supporting devices|\n",
    "|14|\"ipadSc_urls.num\": |Number of screenshots showed for display|\n",
    "|15|\"lang.num\": |Number of supported languages|\n",
    "|16|\"vpp_lic\": |Vpp Device Based Licensing Enabled|\n"
   ]
  },
  {
   "cell_type": "markdown",
   "metadata": {},
   "source": [
    "#### Googleplaystore.csv\n",
    "\n",
    " - `header_google`\n",
    "\n",
    " - `dataset_google`\n",
    "\n",
    "\n",
    "||Name | Description|\n",
    "|:--|:---|:--|\n",
    "|1 | App: |Application name|\n",
    "|2 | Category: |Category the app belongs to|\n",
    "|3 | Rating: |Overall user rating of the app (as when scraped)|\n",
    "|4 | Reviews: | Number of user reviews for the app (as when scraped)|\n",
    "|5 | Size: | Size of the app (as when scraped)|\n",
    "|6 | Installs: | Number of user downloads/installs for the app (as when scraped)|\n",
    "|7 | Type: | Paid or Free|\n",
    "|8 | Price: | Price of the app (as when scraped)|\n",
    "|9 | Content: | Rating Age group the app is targeted at - Children / Mature 21+ / Adult|\n",
    "|10 |  Genres: | An app can belong to multiple genres (apart from its main category). For eg, a musical family game will belong to Music, Game, Family genres.|"
   ]
  },
  {
   "cell_type": "markdown",
   "metadata": {},
   "source": [
    "<a href='#0'> back to index</a>\n",
    "* * *\n",
    "### <a id='13'>1.3 Knowing the size in both data sets</a>."
   ]
  },
  {
   "cell_type": "code",
   "execution_count": 10,
   "metadata": {},
   "outputs": [
    {
     "name": "stdout",
     "output_type": "stream",
     "text": [
      "['529479190', 'Clash of Clans', '116476928', 'USD', '0.0', '2130805', '579', '4.5', '4.5', '9.24.12', '9+', 'Games', '38', '5', '18', '1']\n",
      "\n",
      "\n",
      "['420009108', 'Temple Run', '65921024', 'USD', '0.0', '1724546', '3842', '4.5', '4.0', '1.6.2', '9+', 'Games', '40', '5', '1', '1']\n",
      "\n",
      "\n",
      "Number of rows: 7197\n",
      "Number of columns: 16\n"
     ]
    }
   ],
   "source": [
    "explore_data(dataset_apple, 2, 4, True)"
   ]
  },
  {
   "cell_type": "code",
   "execution_count": 11,
   "metadata": {},
   "outputs": [
    {
     "name": "stdout",
     "output_type": "stream",
     "text": [
      "['U Launcher Lite – FREE Live Cool Themes, Hide Apps', 'ART_AND_DESIGN', '4.7', '87510', '8.7M', '5,000,000+', 'Free', '0', 'Everyone', 'Art & Design', 'August 1, 2018', '1.2.4', '4.0.3 and up']\n",
      "\n",
      "\n",
      "['Sketch - Draw & Paint', 'ART_AND_DESIGN', '4.5', '215644', '25M', '50,000,000+', 'Free', '0', 'Teen', 'Art & Design', 'June 8, 2018', 'Varies with device', '4.2 and up']\n",
      "\n",
      "\n",
      "Number of rows: 10841\n",
      "Number of columns: 13\n"
     ]
    }
   ],
   "source": [
    "explore_data(dataset_google, 2, 4, True)"
   ]
  },
  {
   "cell_type": "markdown",
   "metadata": {},
   "source": [
    "### Resume\n",
    "\n",
    "|`dataset_apple`|`dataset_google`|\n",
    "|:----|:----|\n",
    "|Number of rows: 7197| Number of rows: 10841|\n",
    "|Number of columns: 16|Number of columns: 13|"
   ]
  },
  {
   "cell_type": "markdown",
   "metadata": {},
   "source": [
    "<a href='#0'> back to index</a>\n",
    "* * *\n",
    "## <a id='2'>2. Data cleaning</a>\n",
    "\n",
    "This means that we need to:\n",
    "\n",
    "- 1. **Detect inaccurate data, and correct or remove it**.\n",
    "\n",
    "- 2. **Detect duplicate data, and remove the duplicates**.\n",
    "\n",
    "\n",
    "- 3. **Remove non-English apps like 爱奇艺PPS -《欢乐颂2》电视剧热播**.\n",
    "\n",
    "- 4. **Remove apps that aren't free##**.\n",
    "\n",
    "\n",
    "The Google Play dataset has a dedicated [discussion section](https://www.kaggle.com/datasets/lava18/google-play-store-apps/discussion?sort=votes), and we can see that [one of the discussions](https://www.kaggle.com/datasets/lava18/google-play-store-apps/discussion/66015) describes an error for a certain row.\n",
    "\n",
    "<a href='#0'> back to index</a>\n",
    "* * *\n",
    "### <a id='21'>2.1. Detect inaccurate data... remove it.</a>\n",
    "\n",
    "If the number of columns in a row varies then some data is missing.\n",
    "\n",
    "This function `field_number` has a pair of parameters `dataset`, `header` in which we enter the dataset and the header.\n",
    "\n",
    "The passage of each row compare the number of fields with the number of fields in header if they do not coincide then in that line **some type of data is missing**."
   ]
  },
  {
   "cell_type": "code",
   "execution_count": 12,
   "metadata": {},
   "outputs": [],
   "source": [
    "def field_number(dataset, header):\n",
    "    index_number = 0\n",
    "    for row in range(len(dataset)):\n",
    "        if len(dataset[row]) != len(header):\n",
    "            print(dataset[row])\n",
    "            print(\"\\n\")\n",
    "            print(\"error in index number: \",index_number)\n",
    "        index_number +=1"
   ]
  },
  {
   "cell_type": "code",
   "execution_count": 13,
   "metadata": {},
   "outputs": [],
   "source": [
    "field_number(dataset_apple, header_apple)"
   ]
  },
  {
   "cell_type": "code",
   "execution_count": 14,
   "metadata": {},
   "outputs": [
    {
     "name": "stdout",
     "output_type": "stream",
     "text": [
      "['Life Made WI-Fi Touchscreen Photo Frame', '1.9', '19', '3.0M', '1,000+', 'Free', '0', 'Everyone', '', 'February 11, 2018', '1.0.19', '4.0 and up']\n",
      "\n",
      "\n",
      "error in index number:  10472\n"
     ]
    }
   ],
   "source": [
    "field_number(dataset_google, header_google)"
   ]
  },
  {
   "cell_type": "code",
   "execution_count": 15,
   "metadata": {},
   "outputs": [
    {
     "data": {
      "text/plain": [
       "12"
      ]
     },
     "execution_count": 15,
     "metadata": {},
     "output_type": "execute_result"
    }
   ],
   "source": [
    "len(dataset_google[10472]) #discussion row"
   ]
  },
  {
   "cell_type": "markdown",
   "metadata": {},
   "source": [
    "We have passed the two datasets through the function and there is a row in the `dataset_google` with a different length from the number of columns therefore we are going to remove it from our dataset."
   ]
  },
  {
   "cell_type": "code",
   "execution_count": 16,
   "metadata": {},
   "outputs": [],
   "source": [
    "del dataset_google[10472]"
   ]
  },
  {
   "cell_type": "markdown",
   "metadata": {},
   "source": [
    "Checking if row has been removed properlly."
   ]
  },
  {
   "cell_type": "code",
   "execution_count": 17,
   "metadata": {},
   "outputs": [
    {
     "data": {
      "text/plain": [
       "['osmino Wi-Fi: free WiFi',\n",
       " 'TOOLS',\n",
       " '4.2',\n",
       " '134203',\n",
       " '4.1M',\n",
       " '10,000,000+',\n",
       " 'Free',\n",
       " '0',\n",
       " 'Everyone',\n",
       " 'Tools',\n",
       " 'August 7, 2018',\n",
       " '6.06.14',\n",
       " '4.4 and up']"
      ]
     },
     "execution_count": 17,
     "metadata": {},
     "output_type": "execute_result"
    }
   ],
   "source": [
    "dataset_google[10472]"
   ]
  },
  {
   "cell_type": "markdown",
   "metadata": {},
   "source": [
    "#### yes ...It has been removed"
   ]
  },
  {
   "cell_type": "markdown",
   "metadata": {},
   "source": [
    "<a href='#0'> back to index</a>\n",
    "* * *\n",
    "### <a id='22'>2.2 Detect duplicate data, and remove the duplicates.</a>\n",
    "\n",
    "`for` is running through each row extracting the name of the application.\n",
    "\n",
    "- Checking if it already exists or not.\n",
    "\n",
    "- if not exist then the name is inserted in `unique_apps` else is inserted into `duplicate_apps`."
   ]
  },
  {
   "cell_type": "code",
   "execution_count": 18,
   "metadata": {},
   "outputs": [],
   "source": [
    "def detect_duplicated(dataset):\n",
    "    unique_apps = []\n",
    "    duplicate_apps = []\n",
    "    \n",
    "    for row in dataset:\n",
    "        name = row[0]\n",
    "        if name in unique_apps:\n",
    "            duplicate_apps.append(name)\n",
    "        else:\n",
    "            unique_apps.append(name)\n",
    "            \n",
    "    if len(duplicate_apps) == 0:\n",
    "        print(\"In this dataset there are no duplicate apps\")\n",
    "    else:\n",
    "        times=len(duplicate_apps)\n",
    "        print(\"There are {reapeated} repeated apps\".format(reapeated=times,dataset=dataset))\n",
    "        print(\"\\n\")\n",
    "        print('Examples of duplicate apps:',\"\\n\"+\"\\n\" , duplicate_apps[:5])"
   ]
  },
  {
   "cell_type": "code",
   "execution_count": 19,
   "metadata": {},
   "outputs": [
    {
     "name": "stdout",
     "output_type": "stream",
     "text": [
      "In this dataset there are no duplicate apps\n"
     ]
    }
   ],
   "source": [
    "detect_duplicated(dataset_apple)"
   ]
  },
  {
   "cell_type": "code",
   "execution_count": 20,
   "metadata": {},
   "outputs": [
    {
     "name": "stdout",
     "output_type": "stream",
     "text": [
      "There are 1181 repeated apps\n",
      "\n",
      "\n",
      "Examples of duplicate apps: \n",
      "\n",
      " ['Quick PDF Scanner + OCR FREE', 'Box', 'Google My Business', 'ZOOM Cloud Meetings', 'join.me - Simple Meetings']\n"
     ]
    }
   ],
   "source": [
    "detect_duplicated(dataset_google)"
   ]
  },
  {
   "cell_type": "markdown",
   "metadata": {},
   "source": [
    "Just only 5 samples of the repeated applications in **dataset_google**\n",
    "\n",
    "* * * \n",
    "<a href='#0'> back to index</a>\n",
    "### <a id='23'>2.3 What differentiates duplicate applications?</a>\n",
    "\n",
    "If we take as an example a repeated application, in this case `Instagram`, we see that of all the fields that make up the row **there is only one that is different**."
   ]
  },
  {
   "cell_type": "code",
   "execution_count": 21,
   "metadata": {},
   "outputs": [
    {
     "name": "stdout",
     "output_type": "stream",
     "text": [
      "['Instagram', 'SOCIAL', '4.5', '66577313', 'Varies with device', '1,000,000,000+', 'Free', '0', 'Teen', 'Social', 'July 31, 2018', 'Varies with device', 'Varies with device']\n",
      "['Instagram', 'SOCIAL', '4.5', '66577446', 'Varies with device', '1,000,000,000+', 'Free', '0', 'Teen', 'Social', 'July 31, 2018', 'Varies with device', 'Varies with device']\n",
      "['Instagram', 'SOCIAL', '4.5', '66577313', 'Varies with device', '1,000,000,000+', 'Free', '0', 'Teen', 'Social', 'July 31, 2018', 'Varies with device', 'Varies with device']\n",
      "['Instagram', 'SOCIAL', '4.5', '66509917', 'Varies with device', '1,000,000,000+', 'Free', '0', 'Teen', 'Social', 'July 31, 2018', 'Varies with device', 'Varies with device']\n"
     ]
    }
   ],
   "source": [
    "for app in dataset_google:\n",
    "    name = app[0]\n",
    "    if name == 'Instagram':\n",
    "        print(app)"
   ]
  },
  {
   "cell_type": "markdown",
   "metadata": {},
   "source": [
    "The most important data that we can consider in case we have repeated applications is in this case the number of `'Reviews'`:\n",
    "\n",
    "\n",
    "Therefore this will be the criterion we use to eliminate duplicate applications.\n",
    "\n",
    "- Creating a dictionary called `reviews_max`, with the `name` as a key and the value as `reviews` extracting the `name` of the application in one variable and the `reviews` in another.\n",
    "\n",
    " - If `name` variable exists in the dictionary and the value associated with this key is less than the `n_reviews` variable then we update the value in the dictionary.\n",
    "\n",
    " - else if the name does not exist in the dictionary then we add it along with its value which will be `n_reviews`."
   ]
  },
  {
   "cell_type": "code",
   "execution_count": 22,
   "metadata": {},
   "outputs": [
    {
     "name": "stdout",
     "output_type": "stream",
     "text": [
      "length of the dictionary: 9659\n"
     ]
    }
   ],
   "source": [
    "reviews_max = {} #key=name, value=review\n",
    "\n",
    "for row in dataset_google:\n",
    "    name = row[0]\n",
    "    n_reviews = float(row[3])\n",
    "    \n",
    "    if name in reviews_max and reviews_max[name] < n_reviews: #if name in reviews_max & value in reviews_max[name]\n",
    "        reviews_max[name] = n_reviews                         #is < than n_reviews the update\n",
    "        \n",
    "    elif name not in reviews_max:\n",
    "        reviews_max[name] = n_reviews\n",
    "        \n",
    "print('length of the dictionary:',len(reviews_max))"
   ]
  },
  {
   "cell_type": "markdown",
   "metadata": {},
   "source": [
    "This is the new length of our dataset `length of the dictionary: 9659` having deleted repeated applications.\n",
    "\n",
    "The original length of the dataset minus the number of repeated applications results in this number."
   ]
  },
  {
   "cell_type": "code",
   "execution_count": 23,
   "metadata": {},
   "outputs": [
    {
     "data": {
      "text/plain": [
       "{'Photo Editor & Candy Camera & Grid & ScrapBook': 159.0,\n",
       " 'Coloring book moana': 974.0,\n",
       " 'U Launcher Lite – FREE Live Cool Themes, Hide Apps': 87510.0,\n",
       " 'Sketch - Draw & Paint': 215644.0,\n",
       " 'Pixel Draw - Number Art Coloring Book': 967.0,\n",
       " 'Paper flowers instructions': 167.0,\n",
       " 'Smoke Effect Photo Maker - Smoke Editor': 178.0,\n",
       " 'Infinite Painter': 36815.0,\n",
       " 'Garden Coloring Book': 13791.0,\n",
       " 'Kids Paint Free - Drawing Fun': 121.0,\n",
       " 'Text on Photo - Fonteee': 13880.0,\n",
       " 'Name Art Photo Editor - Focus n Filters': 8788.0,\n",
       " 'Tattoo Name On My Photo Editor': 44829.0,\n",
       " 'Mandala Coloring Book': 4326.0,\n",
       " '3D Color Pixel by Number - Sandbox Art Coloring': 1518.0,\n",
       " 'Learn To Draw Kawaii Characters': 55.0,\n",
       " 'Photo Designer - Write your name with shapes': 3632.0,\n",
       " '350 Diy Room Decor Ideas': 27.0,\n",
       " 'FlipaClip - Cartoon animation': 194216.0,\n",
       " 'ibis Paint X': 224399.0,\n",
       " 'Logo Maker - Small Business': 450.0,\n",
       " \"Boys Photo Editor - Six Pack & Men's Suit\": 654.0,\n",
       " 'Superheroes Wallpapers | 4K Backgrounds': 7699.0,\n",
       " 'Mcqueen Coloring pages': 65.0,\n",
       " 'HD Mickey Minnie Wallpapers': 118.0,\n",
       " 'Harley Quinn wallpapers HD': 192.0,\n",
       " 'Colorfit - Drawing & Coloring': 20260.0,\n",
       " 'Animated Photo Editor': 203.0,\n",
       " 'Pencil Sketch Drawing': 136.0,\n",
       " 'Easy Realistic Drawing Tutorial': 223.0,\n",
       " 'Pink Silver Bow Keyboard Theme': 1120.0,\n",
       " 'Art Drawing Ideas': 227.0,\n",
       " 'Anime Manga Coloring Book': 5035.0,\n",
       " 'Easy Origami Ideas': 1015.0,\n",
       " 'I Creative Idea': 353.0,\n",
       " 'How to draw Ladybug and Cat Noir': 564.0,\n",
       " 'UNICORN - Color By Number & Pixel Art Coloring': 8264.0,\n",
       " 'Floor Plan Creator': 36639.0,\n",
       " 'PIP Camera - PIP Collage Maker': 158.0,\n",
       " 'How To Color Disney Princess - Coloring Pages': 591.0,\n",
       " 'Drawing Clothes Fashion Ideas': 117.0,\n",
       " 'Sad Poetry Photo Frames 2018': 176.0,\n",
       " 'Textgram - write on photos': 295237.0,\n",
       " 'Paint Splash!': 2206.0,\n",
       " 'Popsicle Sticks and Similar DIY Craft Ideas': 26.0,\n",
       " 'Canva: Poster, banner, card maker & graphic design': 174531.0,\n",
       " 'Install images with music to make video without Net - 2018': 1070.0,\n",
       " 'Little Teddy Bear Colouring Book Game': 85.0,\n",
       " 'How To Draw Food': 845.0,\n",
       " 'Monster Truck Stunt 3D 2019': 367.0,\n",
       " 'Real Tractor Farming': 1598.0,\n",
       " 'Ultimate F1 Racing Championship': 284.0,\n",
       " 'Used Cars and Trucks for Sale': 17057.0,\n",
       " 'American Muscle Car Race': 129.0,\n",
       " 'Offroad Oil Tanker Driver Transport Truck 2019': 542.0,\n",
       " 'Tickets SDA 2018 and Exam from the State Traffic Safety Inspectorate with Drom.ru': 10479.0,\n",
       " 'Gas Prices (Germany only)': 805.0,\n",
       " 'Extreme Rally Championship': 129.0,\n",
       " 'Restart Navigator': 1403.0,\n",
       " 'REG - Check the regnumber, find information about Swedish vehicles': 3971.0,\n",
       " 'CityBus Lviv': 534.0,\n",
       " 'CDL Practice Test 2018 Edition': 7774.0,\n",
       " 'ezETC (ETC balance inquiry, meter trial, real-time traffic)': 38846.0,\n",
       " 'Free VIN Report for Used Cars': 2431.0,\n",
       " 'DMV Permit Practice Test 2018 Edition': 6090.0,\n",
       " 'Check Vehicle Tax': 295.0,\n",
       " 'Used Cars Mexico': 190.0,\n",
       " 'Ulysse Speedometer': 40211.0,\n",
       " 'REPUVE': 356.0,\n",
       " 'Used cars for sale - Trovit': 52530.0,\n",
       " 'Fines of the State Traffic Safety Inspectorate are official: inspection, payment of fines': 116986.0,\n",
       " 'SK Enca Direct Malls - Used Cars Search': 1379.0,\n",
       " 'Android Auto - Maps, Media, Messaging & Voice': 271920.0,\n",
       " 'PDD-UA': 736.0,\n",
       " 'Tickets SDA 2019 + Exam RF': 7021.0,\n",
       " 'Super Cars Wallpapers And Backgrounds': 197.0,\n",
       " 'Police Lights, Sirens & Follow Me': 737.0,\n",
       " 'Police Detector (Speed Camera Radar)': 3574.0,\n",
       " 'Best Car Wallpapers': 994.0,\n",
       " 'Tickets + PDA 2018 Exam': 197136.0,\n",
       " 'Pick Your Part Garage': 142.0,\n",
       " 'PakWheels: Buy & Sell Cars': 15168.0,\n",
       " 'Supervision service': 2155.0,\n",
       " 'Speed Camera Detector - Traffic & Speed Alert': 138.0,\n",
       " 'Used car search Goo net whole car Go to net': 5414.0,\n",
       " 'CarMax – Cars for Sale: Search Used Car Inventory': 21777.0,\n",
       " 'BEST CAR SOUNDS': 348.0,\n",
       " 'RST - Sale of cars on the PCT': 250.0,\n",
       " 'AutoScout24 Switzerland – Find your new car': 13372.0,\n",
       " 'Zona Azul Digital Fácil SP CET - OFFICIAL São Paulo': 7880.0,\n",
       " 'SMS Park': 3617.0,\n",
       " 'SKencar': 4806.0,\n",
       " 'Fuelio: Gas log & costs': 65786.0,\n",
       " 'auto fines': 31433.0,\n",
       " 'Used car is the first car - used car purchase, used car quotation, dealer information to': 5097.0,\n",
       " 'All of the parking lot - National Park application (parking lot search / parking sharing / discount payment)': 1754.0,\n",
       " 'Inquiry Fines and Debits of Vehicles': 2680.0,\n",
       " 'Gas Station': 1288.0,\n",
       " 'Hush - Beauty for Everyone': 18900.0,\n",
       " 'ipsy: Makeup, Beauty, and Tips': 49790.0,\n",
       " 'Natural recipes for your beauty': 1150.0,\n",
       " 'BestCam Selfie-selfie, beauty camera, photo editor': 1739.0,\n",
       " 'Mirror - Zoom & Exposure -': 32090.0,\n",
       " 'Beauty Selfie Camera': 2225.0,\n",
       " 'Hairstyles step by step': 4369.0,\n",
       " 'Filters for Selfie': 8572.0,\n",
       " 'Tie - Always be happy': 964.0,\n",
       " 'Ulta Beauty': 42050.0,\n",
       " 'Prom MakeUp Tutorial': 104.0,\n",
       " 'Selfie Camera': 17934.0,\n",
       " 'Sweet Selfie Beauty Camera': 601.0,\n",
       " 'Colors of white in Urdu': 36.0,\n",
       " 'Selfie Camera Photo Editor & Filter & Sticker': 187.0,\n",
       " 'Wrinkles and rejuvenation': 182.0,\n",
       " 'Eyes Makeup Beauty Tips': 30.0,\n",
       " 'Photo Editor 2018': 134.0,\n",
       " 'Step By Step Eyes Makeup Tutorial': 74.0,\n",
       " 'Beauty Camera - Selfie Camera': 113715.0,\n",
       " 'Girls Hairstyles': 3595.0,\n",
       " 'Mirror Camera (Mirror + Selfie Camera)': 9315.0,\n",
       " 'Beauty Tips - Beauty Tips in Sinhala': 75.0,\n",
       " 'Haircut Tutorials/Haircut Videos': 38.0,\n",
       " 'Sephora: Skin Care, Beauty Makeup & Fragrance Shop': 26834.0,\n",
       " 'Manicure - nail design': 119.0,\n",
       " 'Sticker Camera - Selfie Filters, Beauty Camera': 2277.0,\n",
       " 'Filters for B Live': 2280.0,\n",
       " 'Skin Care and Natural Beauty': 654.0,\n",
       " 'Facial Wrinkle Reduction': 184.0,\n",
       " 'Makeup Videos': 9.0,\n",
       " 'Secrets of beauty, youth and health': 77.0,\n",
       " 'Recipes and tips for losing weight': 35.0,\n",
       " 'Discover Color': 364.0,\n",
       " 'Eyeliner step by step 2018': 18.0,\n",
       " 'Dresses Ideas & Fashions +3000': 473.0,\n",
       " 'Lady adviser (beauty, health)': 30.0,\n",
       " 'Step By Step Hairstyles For Women': 66.0,\n",
       " 'Rainbow Camera': 3871.0,\n",
       " 'Methods of teeth whitening': 257.0,\n",
       " 'Girls hairstyles 2018': 62.0,\n",
       " 'Wattpad 📖 Free Books': 2915189.0,\n",
       " 'E-Book Read - Read Book for free': 1857.0,\n",
       " 'Download free book with green book': 4478.0,\n",
       " 'Wikipedia': 577550.0,\n",
       " 'Amazon Kindle': 814151.0,\n",
       " 'Cool Reader': 246315.0,\n",
       " 'Dictionary - Merriam-Webster': 454412.0,\n",
       " 'NOOK: Read eBooks & Magazines': 155466.0,\n",
       " 'Free Panda Radio Music': 418.0,\n",
       " 'Book store': 22486.0,\n",
       " 'FBReader: Favorite Book Reader': 203130.0,\n",
       " 'English Grammar Complete Handbook': 1435.0,\n",
       " 'Free Books - Spirit Fanfiction and Stories': 116507.0,\n",
       " 'Google Play Books': 1433233.0,\n",
       " 'AlReader -any text book reader': 90468.0,\n",
       " 'Offline English Dictionary': 860.0,\n",
       " 'Oxford Dictionary of English : Free': 364452.0,\n",
       " 'Offline: English to Tagalog Dictionary': 967.0,\n",
       " 'Spanish English Translator': 87919.0,\n",
       " 'FamilySearch Tree': 17506.0,\n",
       " 'Cloud of Books': 1862.0,\n",
       " 'Recipes of Prophetic Medicine for free': 2084.0,\n",
       " 'ReadEra – free ebook reader': 47303.0,\n",
       " 'NOOK App for NOOK Devices': 19090.0,\n",
       " 'Anonymous caller detection': 161.0,\n",
       " 'Ebook Reader': 85842.0,\n",
       " 'Litnet - E-books': 7831.0,\n",
       " 'Read books online': 91615.0,\n",
       " 'English to Urdu Dictionary': 4620.0,\n",
       " 'eBoox: book reader fb2 epub zip': 21336.0,\n",
       " 'English Persian Dictionary': 26875.0,\n",
       " 'Flybook': 1778.0,\n",
       " 'All Maths Formulas': 2709.0,\n",
       " 'Ancestry': 64513.0,\n",
       " 'HTC Help': 8342.0,\n",
       " 'English translation from Bengali': 527.0,\n",
       " 'Pdf Book Download - Read Pdf Book': 1322.0,\n",
       " 'Free Book Reader': 1680.0,\n",
       " 'eBoox new: Reader for fb2 epub zip books': 2739.0,\n",
       " 'Only 30 days in English, the guideline is guaranteed': 1065.0,\n",
       " 'Moon+ Reader': 233757.0,\n",
       " \"SH-02J Owner's Manual (Android 8.0)\": 2.0,\n",
       " 'English-Myanmar Dictionary': 8788.0,\n",
       " 'Golden Dictionary (EN-AR)': 51269.0,\n",
       " 'All Language Translator Free': 30105.0,\n",
       " 'Azpen eReader': 156.0,\n",
       " 'URBANO V 02 instruction manual': 114.0,\n",
       " 'English Dictionary - Offline': 341234.0,\n",
       " 'Visual Voicemail by MetroPCS': 16129.0,\n",
       " 'Indeed Job Search': 674730.0,\n",
       " 'Uber Driver': 1254730.0,\n",
       " 'ADP Mobile Solutions': 85185.0,\n",
       " 'Snag - Jobs Hiring Now': 32584.0,\n",
       " 'Docs To Go™ Free Office Suite': 217730.0,\n",
       " 'Google My Business': 70991.0,\n",
       " 'OfficeSuite : Free Office + PDF Editor': 1002861.0,\n",
       " 'USPS MOBILE®': 16589.0,\n",
       " 'Job Search by ZipRecruiter': 148945.0,\n",
       " 'Curriculum vitae App CV Builder Free Resume Maker': 4571.0,\n",
       " 'Google Primer': 62272.0,\n",
       " 'Alba Heaven - Alvarez Job Portal Services': 8941.0,\n",
       " 'SuperLivePro': 46353.0,\n",
       " 'Facebook Pages Manager': 1279800.0,\n",
       " 'OfficeSuite Pro + PDF (Trial)': 88073.0,\n",
       " 'My Space - Employment Center': 67000.0,\n",
       " 'Box': 159872.0,\n",
       " 'Polaris Office for LG': 30847.0,\n",
       " 'Call Blocker': 188841.0,\n",
       " 'Jobs in Alabama - Jobs in Alba': 11622.0,\n",
       " 'Square Point of Sale - POS': 95912.0,\n",
       " 'Plugin:AOT v5.0': 4034.0,\n",
       " 'Kariyer.net': 45964.0,\n",
       " 'SEEK Job Search': 14955.0,\n",
       " 'Become a Job - Find a job or advertise': 6903.0,\n",
       " 'ZOOM Cloud Meetings': 31614.0,\n",
       " 'Easy Installer - Apps On SD': 23055.0,\n",
       " 'Facebook Ads Manager': 19051.0,\n",
       " 'IndiaMART: Search Products, Buy, Sell & Trade': 207372.0,\n",
       " 'ViettelPost express delivery': 1225.0,\n",
       " 'MyASUS - Service Center': 380837.0,\n",
       " 'Job Korea - Career Jobs': 10600.0,\n",
       " '104 Looking for a job - looking for a job, looking for a job, looking for a part-time job, health checkup, resume, treatment room': 74359.0,\n",
       " 'Myanmar 2D/3D': 822.0,\n",
       " 'Quick PDF Scanner + OCR FREE': 80805.0,\n",
       " 'sABN': 2287.0,\n",
       " 'ATI Cargoes and Transportation': 4162.0,\n",
       " 'Secure Folder': 14760.0,\n",
       " 'UPS Mobile': 23243.0,\n",
       " 'Y! Mobile menu': 9.0,\n",
       " 'SignEasy | Sign and Fill PDF and other Documents': 8978.0,\n",
       " 'Genius Scan - PDF Scanner': 42492.0,\n",
       " 'Tiny Scanner - PDF Scanner App': 286897.0,\n",
       " 'Fast Scanner : Free PDF Scan': 103755.0,\n",
       " 'Mobile Doc Scanner (MDScan) Lite': 46505.0,\n",
       " 'TurboScan: scan documents and receipts in PDF': 11442.0,\n",
       " 'Tiny Scanner Pro: PDF Doc Scan': 10295.0,\n",
       " 'Zenefits': 296.0,\n",
       " 'Google Ads': 29331.0,\n",
       " 'Slack': 51510.0,\n",
       " 'FreshBooks Classic': 1802.0,\n",
       " 'Insightly CRM': 1383.0,\n",
       " 'QuickBooks Accounting: Invoicing & Expenses': 23175.0,\n",
       " 'HipChat - Chat Built for Teams': 5868.0,\n",
       " 'Xero Accounting Software': 2111.0,\n",
       " 'MailChimp - Email, Marketing Automation': 5448.0,\n",
       " 'Crew - Free Messaging and Scheduling': 4159.0,\n",
       " 'Asana: organize team projects': 20815.0,\n",
       " 'Google Analytics': 78662.0,\n",
       " 'AdWords Express': 7149.0,\n",
       " 'Accounting App - Zoho Books': 3079.0,\n",
       " 'Invoice & Time Tracking - Zoho': 5800.0,\n",
       " 'join.me - Simple Meetings': 6989.0,\n",
       " 'Invoice 2go — Professional Invoices and Estimates': 16422.0,\n",
       " 'Cisco Webex Meetings': 108741.0,\n",
       " 'ScreenMeet. Easy Phone Meeting': 624.0,\n",
       " 'Cisco Webex Teams': 1661.0,\n",
       " 'Microsoft Remote Desktop': 97702.0,\n",
       " 'Start Meeting': 308.0,\n",
       " 'ClickMeeting Webinars': 5211.0,\n",
       " 'BlueJeans for Android': 1058.0,\n",
       " 'Skype for Business for Android': 78172.0,\n",
       " 'Verify - Receipts & Expenses': 413.0,\n",
       " 'LINE WEBTOON - Free Comics': 1013944.0,\n",
       " 'Manga Master - Best manga & comic reader': 24005.0,\n",
       " 'GANMA! - All original stories free of charge for all original comics': 57106.0,\n",
       " 'Röhrich Werner Soundboard': 2249.0,\n",
       " 'Unicorn Pokez - Color By Number': 516.0,\n",
       " 'MangaToon - Comics updated Daily': 834.0,\n",
       " 'Manga Net – Best Online Manga Reader': 1010.0,\n",
       " 'Manga Rock - Best Manga Reader': 238970.0,\n",
       " 'Manga - read Thai translation': 302.0,\n",
       " 'The Vietnam Story - Fun Stories': 438.0,\n",
       " 'Dragon Ball Wallpaper - Ringtones': 73.0,\n",
       " 'Funny Jokes Photos': 39.0,\n",
       " 'Truyện Vui Tý Quậy': 144.0,\n",
       " 'Comic Es - Shojo manga / love comics free of charge ♪ ♪': 2181.0,\n",
       " 'comico Popular Original Cartoon Updated Everyday Comico': 93965.0,\n",
       " 'Daily Manga - Comic & Webtoon': 1462.0,\n",
       " '漫咖 Comics - Manga,Novel and Stories': 12088.0,\n",
       " 'Emmanuella Funny Videos 2018': 314.0,\n",
       " 'DC Comics': 25673.0,\n",
       " 'Manga Zero - Japanese cartoon and comic reader': 15194.0,\n",
       " 'Marvel Unlimited': 22551.0,\n",
       " 'Tapas – Comics, Novels, and Stories': 29839.0,\n",
       " \"Children's cartoons (Mithu-Mina-Raju)\": 279.0,\n",
       " \"Narrator's Voice\": 564387.0,\n",
       " '【Ranobbe complete free】 Novelba - Free app that you can read and write novels': 1330.0,\n",
       " 'Faustop Sounds': 1677.0,\n",
       " 'Manga Mania - Best online manga reader': 757.0,\n",
       " '- Free Comics - Comic Apps': 115.0,\n",
       " 'Manga AZ - Manga Comic Reader': 126.0,\n",
       " 'Buff Thun - Daily Free Webtoon / Comics / Web Fiction / Mini Game': 9952.0,\n",
       " \"pixiv comic - everyone's manga app\": 18814.0,\n",
       " 'Funny Jokes and Stories 2018': 21.0,\n",
       " 'Hojiboy Tojiboyev Life Hacks': 15.0,\n",
       " 'Perfect Viewer': 51981.0,\n",
       " 'Best Wallpapers Backgrounds(100,000+ 4K HD)': 3596.0,\n",
       " 'think Comics': 1006.0,\n",
       " 'Memes Button': 5968.0,\n",
       " 'Laftel - Watching and Announcing Snooping, Streaming': 4895.0,\n",
       " 'Messenger – Text and Video Chat for Free': 56646578.0,\n",
       " 'WhatsApp Messenger': 69119316.0,\n",
       " 'Messenger for SMS': 125257.0,\n",
       " 'Google Chrome: Fast & Secure': 9643041.0,\n",
       " 'Messenger Lite: Free Calls & Messages': 1429038.0,\n",
       " 'Gmail': 4604483.0,\n",
       " 'Hangouts': 3419513.0,\n",
       " 'Viber Messenger': 11335481.0,\n",
       " 'My Tele2': 158679.0,\n",
       " 'Firefox Browser fast & private': 3075118.0,\n",
       " 'Yahoo Mail – Stay Organized': 4188345.0,\n",
       " 'imo beta free calls and text': 659395.0,\n",
       " 'imo free video calls and chat': 4785988.0,\n",
       " 'Contacts': 66602.0,\n",
       " 'Call Free – Free Call': 30209.0,\n",
       " 'Web Browser & Explorer': 36901.0,\n",
       " 'Opera Mini - fast web browser': 5150801.0,\n",
       " 'Browser 4G': 192948.0,\n",
       " 'MegaFon Dashboard': 99559.0,\n",
       " 'ZenUI Dialer & Contacts': 437674.0,\n",
       " 'Cricket Visual Voicemail': 13698.0,\n",
       " 'Opera Browser: Fast and Secure': 2473795.0,\n",
       " 'TracFone My Account': 20769.0,\n",
       " 'Firefox Focus: The privacy browser': 36981.0,\n",
       " 'Google Voice': 171052.0,\n",
       " 'Chrome Dev': 63576.0,\n",
       " 'Xperia Link™': 45487.0,\n",
       " 'TouchPal Keyboard - Fun Emoji & Android Keyboard': 615381.0,\n",
       " 'Who': 2451093.0,\n",
       " 'Skype Lite - Free Video Call & Chat': 33053.0,\n",
       " 'WeChat': 5387631.0,\n",
       " 'UC Browser Mini -Tiny Fast Private & Secure': 3648765.0,\n",
       " 'WhatsApp Business': 137144.0,\n",
       " 'My magenta': 42370.0,\n",
       " 'Android Messages': 781810.0,\n",
       " 'Telegram': 3128611.0,\n",
       " 'Google Duo - High Quality Video Calls': 2083237.0,\n",
       " 'Puffin Web Browser': 541661.0,\n",
       " 'Seznam.cz': 46702.0,\n",
       " 'Antillean Gold Telegram (original version)': 2939.0,\n",
       " 'AT&T Visual Voicemail': 13761.0,\n",
       " 'GMX Mail': 258556.0,\n",
       " 'Omlet Chat': 40751.0,\n",
       " 'UC Browser - Fast Download Private & Secure': 17714850.0,\n",
       " 'My Vodacom SA': 25021.0,\n",
       " 'Microsoft Edge': 27187.0,\n",
       " 'Hangouts Dialer - Call Phones': 122512.0,\n",
       " 'Talkatone: Free Texts, Calls & Phone Number': 132015.0,\n",
       " 'Calls & Text by Mo+': 83239.0,\n",
       " 'free video calls and chat': 594728.0,\n",
       " 'Skype - free IM & video calls': 10484169.0,\n",
       " 'GO SMS Pro - Messenger, Free Themes, Emoji': 2876500.0,\n",
       " 'Messaging+ SMS, MMS Free': 28238.0,\n",
       " 'chomp SMS': 335646.0,\n",
       " 'Glide - Video Chat Messenger': 350154.0,\n",
       " 'Text SMS': 349384.0,\n",
       " 'Google Allo': 347086.0,\n",
       " 'Talkray - Free Calls & Texts': 244863.0,\n",
       " 'LINE: Free Calls & Messages': 10790289.0,\n",
       " 'GroupMe': 330761.0,\n",
       " 'mysms SMS Text Messaging Sync': 37320.0,\n",
       " 'BBM - Free Calls & Messages': 12843436.0,\n",
       " 'KakaoTalk: Free Calls & Text': 2546549.0,\n",
       " '2ndLine - Second Phone Number': 15880.0,\n",
       " 'CM Browser - Ad Blocker , Fast Download , Privacy': 2265084.0,\n",
       " 'Ninesky Browser': 42925.0,\n",
       " 'Dolphin Browser - Fast, Private & Adblock🐬': 2511130.0,\n",
       " 'Ghostery Privacy Browser': 13100.0,\n",
       " 'InBrowser - Incognito Browsing': 27156.0,\n",
       " 'Web Browser for Android': 55110.0,\n",
       " 'DU Browser—Browse fast & fun': 1133539.0,\n",
       " 'Lightning Web Browser': 12578.0,\n",
       " 'Web Browser': 10965.0,\n",
       " 'Puffin Browser Pro': 18247.0,\n",
       " 'Contacts+': 190613.0,\n",
       " 'ExDialer - Dialer & Contacts': 125232.0,\n",
       " 'PHONE for Google Voice & GTalk': 72065.0,\n",
       " 'Safest Call Blocker': 27540.0,\n",
       " 'Full Screen Caller ID': 104990.0,\n",
       " 'Hiya - Caller ID & Block': 177703.0,\n",
       " 'Mr. Number-Block calls & spam': 177263.0,\n",
       " 'Should I Answer?': 237468.0,\n",
       " 'RocketDial Dialer & Contacts': 32254.0,\n",
       " 'CallApp: Caller ID, Blocker & Phone Call Recorder': 483782.0,\n",
       " 'Whoscall - Caller ID & Block': 552635.0,\n",
       " 'CIA - Caller ID & Call Blocker': 60308.0,\n",
       " 'Calls Blacklist - Call Blocker': 457283.0,\n",
       " 'Call Control - Call Blocker': 93825.0,\n",
       " 'True Contact - Real Caller ID': 32283.0,\n",
       " 'Video Caller Id': 15287.0,\n",
       " 'Sync.ME – Caller ID & Block': 205739.0,\n",
       " 'Burner - Free Phone Number': 14873.0,\n",
       " 'Truecaller: Caller ID, SMS spam blocking & Dialer': 7820775.0,\n",
       " 'Caller ID +': 9498.0,\n",
       " 'K-9 Mail': 88427.0,\n",
       " 'myMail – Email for Hotmail, Gmail and Outlook Mail': 305218.0,\n",
       " 'Email TypeApp - Mail App': 183374.0,\n",
       " 'All Email Providers': 20901.0,\n",
       " 'Newton Mail - Email App for Gmail, Outlook, IMAP': 122595.0,\n",
       " 'GO Notifier': 124346.0,\n",
       " 'Mail.Ru - Email App': 837842.0,\n",
       " 'Mail1Click - Secure Mail': 255.0,\n",
       " 'Daum Mail - Next Mail': 41420.0,\n",
       " 'mail.com mail': 44706.0,\n",
       " 'SolMail - All-in-One email app': 23707.0,\n",
       " 'Vonage Mobile® Call Video Text': 29208.0,\n",
       " 'JusTalk - Free Video Calls and Fun Video Chat': 191032.0,\n",
       " 'Moco+ - Chat, Meet People': 1546.0,\n",
       " 'Calculator': 40770.0,\n",
       " 'Truth or Dare Pro': 0.0,\n",
       " 'Private Dating, Hide App- Blue for PrivacyHider': 0.0,\n",
       " 'Ad Blocker for SayHi': 4.0,\n",
       " 'AMBW Dating App: Asian Men Black Women Interracial': 2.0,\n",
       " 'Zoosk Dating App: Meet Singles': 516917.0,\n",
       " 'OkCupid Dating': 285838.0,\n",
       " 'Match™ Dating - Meet Singles': 76646.0,\n",
       " 'Hily: Dating, Chat, Match, Meet & Hook up': 2560.0,\n",
       " 'Hinge: Dating & Relationships': 7779.0,\n",
       " 'Casual Dating & Adult Singles - Joyride': 61637.0,\n",
       " 'BBW Dating & Plus Size Chat': 12633.0,\n",
       " 'Moco - Chat, Meet People': 313769.0,\n",
       " 'CMB Free Dating App': 48845.0,\n",
       " 'Hot or Not - Find someone right now': 305737.0,\n",
       " 'eharmony - Online Dating App': 31320.0,\n",
       " 'Free Dating App & Flirt Chat - Match with Singles': 172460.0,\n",
       " 'Chispa, the Dating App for Latino, Latina Singles': 4195.0,\n",
       " 'Clover Dating App': 11633.0,\n",
       " 'Black People Meet Singles Date': 10212.0,\n",
       " 'Mingle2 - Free Online Dating & Singles Chat Rooms': 37053.0,\n",
       " 'Free Dating App & Flirt Chat - Cheers': 667.0,\n",
       " 'stranger chat - anonymous chat': 13204.0,\n",
       " 'Blendr - Chat, Flirt & Meet': 28671.0,\n",
       " 'Free Dating Hook Up Messenger': 1157.0,\n",
       " 'Find Real Love — YouLove Premium Dating': 212626.0,\n",
       " 'Once - Quality Matches Every day': 222888.0,\n",
       " 'BLK - Swipe. Match. Chat.': 2067.0,\n",
       " 'Cougar Dating Life : Date Older Women Sugar Mummy': 1645.0,\n",
       " 'Howlr': 105.0,\n",
       " 'Stranger Chat & Date': 3414.0,\n",
       " 'Free Dating & Flirt Chat - Choice of Love': 42197.0,\n",
       " 'RandoChat - Chat roulette': 11806.0,\n",
       " 'BeWild Free Dating & Chat App': 1999.0,\n",
       " 'FastMeet: Chat, Dating, Love': 22545.0,\n",
       " 'Free Dating App - YoCutie - Flirt, Chat & Meet': 97699.0,\n",
       " 'OurTime Dating for Singles 50+': 2519.0,\n",
       " 'FarmersOnly Dating': 1146.0,\n",
       " 'Dating for 50 plus Mature Singles – FINALLY': 13049.0,\n",
       " 'Sudy – Meet Elite & Rich Single': 17268.0,\n",
       " 'Christian Dating For Free App': 8723.0,\n",
       " 'Just She - Top Lesbian Dating': 954.0,\n",
       " 'Single Parent Meet #1 Dating': 2593.0,\n",
       " 'EliteSingles – Dating for Single Professionals': 5377.0,\n",
       " 'Millionaire Match: Rich Singles Dating App': 853.0,\n",
       " 'InterracialCupid - Interracial Dating App': 212.0,\n",
       " 'Sugar Mommas Dating And Single Search': 1972.0,\n",
       " 'Hide App, Private Dating, Safe Chat - PrivacyHider': 35206.0,\n",
       " 'muzmatch: Muslim & Arab Singles, Marriage & Dating': 5168.0,\n",
       " 'NoBuffDating - Free Dating App': 1939.0,\n",
       " 'Sugar Daddy Dating App': 277.0,\n",
       " 'Adult Dirty Emojis': 80.0,\n",
       " 'Free Dating App - Meet Local Singles - Flirt Chat': 825.0,\n",
       " 'Meet4U - Chat, Love, Singles!': 40039.0,\n",
       " 'SnpCupid Dating': 1093.0,\n",
       " 'Chat Rooms, Avatars, Date - Galaxy': 135420.0,\n",
       " 'Adult Dating - AdultFinder': 1601.0,\n",
       " 'Gay Sugar Daddy Dating & Hookup – Sudy Gay': 2212.0,\n",
       " 'Meet24 - Love, Chat, Singles': 57083.0,\n",
       " 'BBWCupid - BBW Dating App': 241.0,\n",
       " 'ChatVideo Meet new people': 63986.0,\n",
       " 'TryDate - Free Online Dating App, Chat Meet Adults': 7888.0,\n",
       " 'Black White Interracial Dating - Interracial Match': 537.0,\n",
       " 'USA Singles Meet, Match and Date Free - Date': 5084.0,\n",
       " 'FlirtChat - ♥Free Dating/Flirting App♥': 2433.0,\n",
       " 'The League': 837.0,\n",
       " 'Herpes Dating: 1,000K+ Singles': 738.0,\n",
       " 'Heart mill': 4631.0,\n",
       " '95Live -SG#1 Live Streaming App': 4954.0,\n",
       " 'Mutual - LDS Dating': 1439.0,\n",
       " '2RedBeans': 337.0,\n",
       " 'SweetRing - Meet, Match, Date': 51698.0,\n",
       " 'BiggerCity: Chat for gay bears, chubs & chasers': 923.0,\n",
       " 'SilverSingles: The 50+ Dating App': 149.0,\n",
       " 'Herpes Positive Singles Dating': 198.0,\n",
       " 'Glam - Premium Dating App': 23170.0,\n",
       " 'iDates - Chats, Flirts, Dating, Love & Relations': 13890.0,\n",
       " 'JustDating': 13440.0,\n",
       " 'Interracial Match Dating App': 143.0,\n",
       " 'Russian Dating & Chat for Russian speaking RusDate': 1059.0,\n",
       " 'Sky People (SPI): A secure blind date through authentication by Seoul National University': 894.0,\n",
       " 'Sweet mi - unlimited hunnam hunting blind date': 6191.0,\n",
       " 'Mingle - Online Dating App to Chat & Meet People': 15081.0,\n",
       " 'BBW Dating & Curvy Singles Chat- LargeFriends': 218.0,\n",
       " 'Hitwe - meet people and chat': 243950.0,\n",
       " 'A hundred': 236.0,\n",
       " 'JustSayHi- Dating App. Chat & Meet Singles Nearby': 5152.0,\n",
       " 'FERZU - Furries Social Network': 1576.0,\n",
       " 'WannaMeet – Dating & Chat App': 6701.0,\n",
       " 'Luxy Pro- Elite Dating Single': 742.0,\n",
       " 'Dating Network': 187.0,\n",
       " 'Chatting - Free chat, random chat, boyfriend, girlfriend': 2506.0,\n",
       " 'iPair-Meet, Chat, Dating': 182986.0,\n",
       " 'Meet, chat & date. Free dating app - Chocolate app': 8661.0,\n",
       " 'Transenger – Ts Dating and Chat for Free': 8.0,\n",
       " 'O-Star': 59.0,\n",
       " 'Free Cam Girls - Live Webcam': 35.0,\n",
       " 'Cardi B Live Stream Video Chat - Prank': 28.0,\n",
       " 'Live Girls Talk - Free Video Chat': 125.0,\n",
       " 'Live Talk - Free Text and Video Chat': 185.0,\n",
       " 'Chat Kids - Chat Room For Kids': 6.0,\n",
       " 'Girls Live Chat - Free Text & Video Chat': 110.0,\n",
       " 'Random Video Chat': 3.0,\n",
       " 'MouseMingle': 3.0,\n",
       " 'American Girls Mobile Numbers': 5.0,\n",
       " 'Random Video Chat App With Strangers': 3.0,\n",
       " 'FREE VIDEO CHAT - LIVE VIDEO AND TEXT CHAT': 84.0,\n",
       " 'Awake Dating': 2.0,\n",
       " 'Live Chat - Free Video Chat Rooms': 20.0,\n",
       " 'Meet With Strangers: Video Chat & Dating': 2.0,\n",
       " 'FREE LIVE TALK': 776.0,\n",
       " 'Random Chat App with Strangers': 2.0,\n",
       " 'Ost. Zombies Cast - New Music and Lyrics': 1.0,\n",
       " 'Dating White Girls': 0.0,\n",
       " 'Live Chat - Free Video Talk': 14.0,\n",
       " 'Geeks Dating': 0.0,\n",
       " 'Live chat - free video chat': 1.0,\n",
       " 'House party - live chat': 1.0,\n",
       " 'Fishing Brain & Boating Maps Marine': 3.0,\n",
       " 'CAM5678 Video Chat': 0.0,\n",
       " 'Video chat live advices': 0.0,\n",
       " 'chat live chat': 24.0,\n",
       " 'Pet Lovers Dating': 0.0,\n",
       " 'Friend Find: free chat + flirt dating app': 23.0,\n",
       " 'Latin Dating': 0.0,\n",
       " 'Spine- The dating app': 5.0,\n",
       " 'Online Chat Girls Meet': 18.0,\n",
       " 'Wifi Mingle': 0.0,\n",
       " 'Girls Live Talk - Free Text and Video Chat': 6.0,\n",
       " 'Soy Luna - Top Music And Lyrics': 1.0,\n",
       " 'When Will You Get Married': 2.0,\n",
       " 'HOW TO ASK A GIRL OUT': 0.0,\n",
       " 'Online Girls Chat Group': 5.0,\n",
       " 'The DJ - Match with People': 0.0,\n",
       " 'Toronto Dating': 0.0,\n",
       " 'i miss you quotes and photos': 0.0,\n",
       " 'JoJo Siwa Top Hits Music': 0.0,\n",
       " 'UK Girls Mobile Numbers': 1.0,\n",
       " 'chat saudi arabia': 11.0,\n",
       " 'Chat Click - Dating Search': 4.0,\n",
       " 'Iraq love chat': 14.0,\n",
       " 'Healthy Relationships Guide': 0.0,\n",
       " 'following': 1.0,\n",
       " 'Gods by Night': 104.0,\n",
       " 'PlusOne': 0.0,\n",
       " 'Love Calendar - Couple Sharing Calendar & CoupleDay': 14.0,\n",
       " 'Speeding Joyride & Car Meet App': 3.0,\n",
       " 'LOBSTR - go on a lunch date': 101.0,\n",
       " 'Titanic App - Feminist Dating Application': 120.0,\n",
       " 'French Chat Room': 24.0,\n",
       " 'Soul Mate': 0.0,\n",
       " 'Diamond Engagement Rings': 0.0,\n",
       " 'Dating Tips For Men': 0.0,\n",
       " 'Halalguur': 6.0,\n",
       " 'Find Lover': 21.0,\n",
       " '2Date Dating App, Love and matching': 41605.0,\n",
       " 'Teenage Chat & Dating': 5.0,\n",
       " 'Girls Online Talk - Free Text and Video Chat': 791.0,\n",
       " 'Online Girls Chat': 5323.0,\n",
       " 'LIVE VIDEO TALK': 478.0,\n",
       " 'SkyLove – Dating and chat': 69.0,\n",
       " 'Free Live Talk-Video Call': 158.0,\n",
       " 'FindLoving': 24.0,\n",
       " 'Sugar Daddies Dating App': 53.0,\n",
       " 'Chat Mexico: meet people, flirt and friendship': 8.0,\n",
       " 'Duolingo: Learn Languages Free': 6297590.0,\n",
       " 'TED': 181961.0,\n",
       " 'English Communication - Learn English for Chinese (Learn English for Chinese)': 2544.0,\n",
       " 'Khan Academy': 85375.0,\n",
       " 'Learn English with Wlingua': 314300.0,\n",
       " 'Ai La Trieu Phu - ALTP Free': 776.0,\n",
       " 'Princess Coloring Book': 9779.0,\n",
       " 'Learn Spanish - Español': 32346.0,\n",
       " 'English Grammar Test': 104676.0,\n",
       " 'Speed Reading': 10611.0,\n",
       " 'English for beginners': 9321.0,\n",
       " 'Flame - درب عقلك يوميا': 56065.0,\n",
       " 'Mermaids': 14286.0,\n",
       " 'Learn Japanese, Korean, Chinese Offline & Free': 133136.0,\n",
       " 'Kids Mode': 2469.0,\n",
       " 'PBS KIDS Video': 36214.0,\n",
       " 'Dinosaurs Coloring Pages': 390.0,\n",
       " 'Cars Coloring Pages': 1090.0,\n",
       " 'Babbel – Learn Languages': 267787.0,\n",
       " 'Math Tricks': 342918.0,\n",
       " 'Monster Truck Driver & Racing': 765.0,\n",
       " 'Learn English Words Free': 172640.0,\n",
       " 'Japanese / English one-shop search dictionary - Free Japanese - English - Japanese dictionary application': 61.0,\n",
       " 'English speaking texts': 1619.0,\n",
       " 'Thai Handwriting': 3168.0,\n",
       " 'THAI DICT 2018': 29855.0,\n",
       " 'Kanji test · Han search Kanji training (free version)': 6736.0,\n",
       " \"Game for KIDS: KIDS match'em\": 7006.0,\n",
       " 'Flippy Campus - Buy & sell on campus at a discount': 889.0,\n",
       " 'Free intellectual training game application |': 5741.0,\n",
       " 'ABC Preschool Free': 27572.0,\n",
       " 'PINKFONG Baby Shark': 10852.0,\n",
       " 'English words application mikan': 9888.0,\n",
       " 'Learn English for beginners': 1929.0,\n",
       " 'Listen and learn English in seven days': 1516.0,\n",
       " 'Lumosity: #1 Brain Games & Cognitive Training App': 215301.0,\n",
       " 'Learn English from Persian: Persian to English': 423.0,\n",
       " 'English with Lingualeo': 254519.0,\n",
       " 'Learn languages, grammar & vocabulary with Memrise': 1107948.0,\n",
       " 'Quizlet: Learn Languages & Vocab with Flashcards': 211856.0,\n",
       " 'Udemy - Online Courses': 99020.0,\n",
       " 'Coursera: Online courses': 90481.0,\n",
       " 'edX - Online Courses by Harvard, MIT & more': 32381.0,\n",
       " 'Elevate - Brain Training Games': 248912.0,\n",
       " 'NeuroNation - Focus and Brain Training': 248555.0,\n",
       " 'Peak – Brain Games & Training': 272321.0,\n",
       " 'Memorado - Brain Games': 56897.0,\n",
       " 'Lynda - Online Training Videos': 8599.0,\n",
       " 'Brilliant': 41185.0,\n",
       " 'CppDroid - C/C++ IDE': 29980.0,\n",
       " 'Quiz&Learn Python': 304.0,\n",
       " 'C++ Tutorials': 358.0,\n",
       " 'C++ Programming': 11904.0,\n",
       " 'C Programming': 22251.0,\n",
       " 'Udacity - Lifelong Learning': 22384.0,\n",
       " 'Learn C++': 73404.0,\n",
       " 'Learn programming': 12733.0,\n",
       " 'Learn JavaScript': 25183.0,\n",
       " 'Learn Java': 52743.0,\n",
       " 'Learn HTML': 61749.0,\n",
       " 'Programming Hub, Learn to code': 55704.0,\n",
       " 'Learn SQL': 19277.0,\n",
       " 'Ready4 SAT (Prep4 SAT)': 13612.0,\n",
       " 'Socratic - Math Answers & Homework Help': 37862.0,\n",
       " 'Ready4 GMAT (Prep4 GMAT)': 18372.0,\n",
       " 'Pocket GMAT Math': 656.0,\n",
       " 'GMAT Question Bank': 240.0,\n",
       " 'GRE Tutor': 275.0,\n",
       " 'GRE Flashcards': 13791.0,\n",
       " 'play2prep: ACT, SAT prep': 3692.0,\n",
       " 'SAT Test': 2363.0,\n",
       " 'GMAT Math Flashcards': 1769.0,\n",
       " 'Pocket SAT Math': 430.0,\n",
       " 'TOEFL Prep & Practice from Magoosh': 756.0,\n",
       " 'GRE Prep & Practice by Magoosh': 3963.0,\n",
       " 'GRE® Flashcards by Kaplan': 316.0,\n",
       " 'SAT Vocabulary': 642.0,\n",
       " 'Magoosh GMAT Prep & Practice': 1058.0,\n",
       " 'SAT Flashcards: Prep & Vocabulary': 2277.0,\n",
       " 'Rosetta Stone: Learn to Speak & Read New Languages': 172508.0,\n",
       " 'Google Classroom': 69498.0,\n",
       " 'LinkedIn Learning: Online Courses to Learn Skills': 7973.0,\n",
       " 'Learn English with Phrases': 5695.0,\n",
       " 'Free english course': 142632.0,\n",
       " 'Learn 50 languages': 55256.0,\n",
       " 'Babbel – Learn Spanish': 54798.0,\n",
       " 'Mango Languages: Lovable Language Courses': 4815.0,\n",
       " 'Learn English with Aco': 75112.0,\n",
       " 'Learn to Speak English': 33646.0,\n",
       " 'busuu: Learn Languages - Spanish, English & More': 207294.0,\n",
       " 'My Class Schedule: Timetable': 9348.0,\n",
       " 'Study Checker': 3816.0,\n",
       " 'My Study Life - School Planner': 47847.0,\n",
       " 'HomeWork': 16195.0,\n",
       " 'Next Gen Science Standards': 206.0,\n",
       " 'myHomework Student Planner': 28392.0,\n",
       " \"Teacher's Gradebook - Additio\": 3241.0,\n",
       " 'Common Core': 835.0,\n",
       " 'Homework Planner': 2525.0,\n",
       " 'TeachersPayTeachers': 828.0,\n",
       " 'Edmodo': 200214.0,\n",
       " 'Socrative Teacher': 1239.0,\n",
       " 'Training schedule - AllUniver': 702.0,\n",
       " 'Remind: School Communication': 108613.0,\n",
       " 'ClassDojo': 148550.0,\n",
       " 'Lerni. Learn languages.': 3847.0,\n",
       " 'HelloTalk — Chat, Speak & Learn Foreign Languages': 84311.0,\n",
       " 'Innovative: Learn 34 Languages': 14206.0,\n",
       " 'Chegg Study - Homework Help': 14700.0,\n",
       " 'Canvas Student': 42828.0,\n",
       " 'Timetable': 40209.0,\n",
       " 'EasyBib: Citation Generator': 1405.0,\n",
       " 'SoloLearn: Learn to Code for Free': 256079.0,\n",
       " 'Kids Learn Languages by Mondly': 2078.0,\n",
       " 'Blinkist - Nonfiction Books': 16103.0,\n",
       " 'Sago Mini Hat Maker': 11.0,\n",
       " 'Fuzzy Numbers: Pre-K Number Foundation': 21.0,\n",
       " 'Toca Life: City': 31100.0,\n",
       " 'Toca Life: Hospital': 3528.0,\n",
       " 'Netflix': 5456708.0,\n",
       " 'Complete Spanish Movies': 11656.0,\n",
       " 'Pluto TV - It’s Free TV': 28948.0,\n",
       " 'Tubi TV - Free Movies & TV': 296829.0,\n",
       " 'YouTube Kids': 470713.0,\n",
       " 'Mobile TV': 10939.0,\n",
       " 'TV+': 98509.0,\n",
       " 'Digital TV': 5241.0,\n",
       " 'Motorola Spotlight Player™': 22508.0,\n",
       " 'Vigo Lite': 10291.0,\n",
       " 'Google Play Games': 7168735.0,\n",
       " 'Hotstar': 4885646.0,\n",
       " 'Peers.TV: broadcast TV channels First, Match TV, TNT ...': 141980.0,\n",
       " 'The green alien dance': 6979.0,\n",
       " 'Spectrum TV': 46618.0,\n",
       " 'H TV': 103078.0,\n",
       " 'StarTimes - Live International Champions Cup': 17682.0,\n",
       " 'Cinematic Cinematic': 37000.0,\n",
       " 'MEGOGO - Cinema and TV': 175528.0,\n",
       " 'Talking Angela': 1828284.0,\n",
       " 'DStv Now': 34923.0,\n",
       " 'ivi - movies and TV shows in HD': 684116.0,\n",
       " 'Radio Javan': 46916.0,\n",
       " 'Viki: Asian TV Dramas & Movies': 407719.0,\n",
       " 'Talking Ginger 2': 702975.0,\n",
       " 'Girly Lock Screen Wallpaper with Quotes': 32458.0,\n",
       " 'No.Draw - Colors by Number 2018': 235906.0,\n",
       " '🔥 Football Wallpapers 4K | Full HD Backgrounds 😍': 11661.0,\n",
       " 'Movies by Flixster, with Rotten Tomatoes': 653008.0,\n",
       " 'Low Poly – Puzzle art game': 23063.0,\n",
       " 'BBC Media Player': 87384.0,\n",
       " 'Amazon Prime Video': 411683.0,\n",
       " 'Adult Glitter Color by Number Book - Sandbox Pages': 8918.0,\n",
       " 'IMDb Movies & TV': 501498.0,\n",
       " 'Twitch: Livestream Multiplayer Games & Esports': 2133296.0,\n",
       " 'Ziggo GO': 29690.0,\n",
       " 'YouTube Gaming': 130549.0,\n",
       " 'PlayStation App': 613059.0,\n",
       " 'Talking Ben the Dog': 1633682.0,\n",
       " 'Red Bull TV: Live Sports, Music & Entertainment': 42069.0,\n",
       " 'Trailer Addict Movie Trailers': 2646.0,\n",
       " 'Cinemark Theatres': 21867.0,\n",
       " 'Regal Cinemas': 32732.0,\n",
       " 'Fandango Movies - Times + Tickets': 243747.0,\n",
       " 'Marcus Theatres': 2639.0,\n",
       " 'Harkins Theatres': 1511.0,\n",
       " 'AMC Theatres': 44550.0,\n",
       " 'Food Network': 7823.0,\n",
       " 'Cooking Channel': 1033.0,\n",
       " 'Animal Planet GO': 2442.0,\n",
       " 'VRV: Anime, game videos & more': 15254.0,\n",
       " 'DramaFever: Stream Asian Drama Shows & Movies': 155234.0,\n",
       " 'Crunchyroll - Everything Anime': 310095.0,\n",
       " 'Investigation Discovery GO': 12216.0,\n",
       " 'Crackle - Free TV & Movies': 388089.0,\n",
       " 'CBS - Full Episodes & Live TV': 92058.0,\n",
       " 'STARZ': 88185.0,\n",
       " 'Acorn TV: World-class TV from Britain and Beyond': 493.0,\n",
       " 'HISTORY: Watch TV Show Full Episodes & Specials': 33387.0,\n",
       " 'Nick': 123322.0,\n",
       " 'VH1': 27424.0,\n",
       " 'FOX NOW - On Demand & Live TV': 60841.0,\n",
       " 'A&E - Watch Full Episodes of TV Shows': 29708.0,\n",
       " 'The CW': 288209.0,\n",
       " 'BET NOW - Watch Shows': 14807.0,\n",
       " 'Hulu: Stream TV, Movies & more': 319777.0,\n",
       " 'HBO NOW: Stream TV & Movies': 61230.0,\n",
       " 'Univision NOW - Live TV and On Demand': 22998.0,\n",
       " 'SHOWTIME': 12398.0,\n",
       " 'Lifetime - Watch Full Episodes & Original Movies': 35931.0,\n",
       " 'SeriesGuide – Show & Movie Manager': 64448.0,\n",
       " 'Comedy Central': 22378.0,\n",
       " 'CW Seed': 16391.0,\n",
       " 'The NBC App - Watch Live TV and Full Episodes': 58104.0,\n",
       " 'WWE': 736864.0,\n",
       " 'Universal Kids': 1968.0,\n",
       " 'MTV': 35279.0,\n",
       " 'LEGO® TV': 17250.0,\n",
       " 'HBO GO: Stream with TV Package': 87734.0,\n",
       " 'Showtime Anytime': 18523.0,\n",
       " 'PlayKids - Educational cartoons and games for kids': 182173.0,\n",
       " 'FOX': 197774.0,\n",
       " 'Telemundo Now': 8674.0,\n",
       " 'Vudu Movies & TV': 58082.0,\n",
       " 'Yidio: TV Show & Movie Guide': 27424.0,\n",
       " 'Redbox': 115033.0,\n",
       " 'Tribeca Shortlist - Handpicked Movies': 801.0,\n",
       " 'Nick Jr. - Shows & Games': 8968.0,\n",
       " 'Sticker Market: Emoji keyboard': 303.0,\n",
       " 'Kidjo TV Kids Have Fun & Learn': 732.0,\n",
       " 'Laugh Out Loud by Kevin Hart': 1856.0,\n",
       " 'ColorFul - Adult Coloring Book': 50725.0,\n",
       " 'Hamilton — The Official App': 1575.0,\n",
       " 'My Talking Pet': 6238.0,\n",
       " 'Funny Pics': 9941.0,\n",
       " 'Funny Quotes Free': 23666.0,\n",
       " 'LOL Pics (Funny Pictures)': 67554.0,\n",
       " 'Meme Creator': 38769.0,\n",
       " 'Imgur: Find funny GIFs, memes & watch viral videos': 160164.0,\n",
       " 'Meme Generator': 3771.0,\n",
       " 'SketchBook - draw and paint': 256664.0,\n",
       " 'Colorfy: Coloring Book for Adults - Free': 787177.0,\n",
       " 'All Events in City': 3782.0,\n",
       " 'Ticketmaster Event Tickets': 40113.0,\n",
       " 'Reminder': 7074.0,\n",
       " 'Birdays - Birthday reminder': 2153.0,\n",
       " 'StubHub - Tickets to Sports, Concerts & Events': 26089.0,\n",
       " 'Fever': 20611.0,\n",
       " 'DroidAdmin for Android - Advice': 811.0,\n",
       " 'SeatGeek – Tickets to Sports, Concerts, Broadway': 15558.0,\n",
       " 'my4D': 573.0,\n",
       " 'VAN NIAN 2018 - Vietnamese Calendar': 37.0,\n",
       " 'Vivid Seats – Event Tickets': 8232.0,\n",
       " 'Name days': 3089.0,\n",
       " 'LBB - Find New & Unique Things To Do Around You': 3874.0,\n",
       " 'Happy Birthday Songs Offline': 464.0,\n",
       " 'Series Valley of the Wolves full of part': 731.0,\n",
       " 'Mummatikabalkuragi': 69.0,\n",
       " 'Gametime - Tickets to Sports, Concerts, Theater': 8800.0,\n",
       " 'PTI Flex Maker, Photo Frame Editor & Songs 2018': 99.0,\n",
       " 'Wipe out': 30.0,\n",
       " 'Birthdays & Other Events': 456.0,\n",
       " 'Sarajevo Film Festival - Official': 6.0,\n",
       " 'Summer Madness': 4.0,\n",
       " 'Events High - Meet Your City!': 3200.0,\n",
       " 'vide-greniers.org': 5839.0,\n",
       " 'SUMMER SONIC app': 4.0,\n",
       " 'Quake & Volcanoes: 3D Globe of Volcanic Eruptions': 663.0,\n",
       " 'Prosperity': 16.0,\n",
       " \"Picktrainer: India's largest photo contest app\": 1065.0,\n",
       " 'AAS-IN-ASIA 2018': 3.0,\n",
       " 'Moot Peru 2018': 13.0,\n",
       " 'FM News': 46.0,\n",
       " 'Goldstar: Live Event Tickets': 1953.0,\n",
       " 'Emmabodafestivalen': 12.0,\n",
       " 'KudaGo - things to do in NY': 4298.0,\n",
       " 'Mindvalley U Tallinn 2018': 1.0,\n",
       " 'Rockmaraton Info': 49.0,\n",
       " 'Freitas Auctioneer Official': 100.0,\n",
       " 'mobLee Events': 11.0,\n",
       " 'Xceed - Clubs, DJs, Festivals & Tickets': 399.0,\n",
       " 'AMM Events & CPD': 5.0,\n",
       " 'Arab Halls - For Wedding & Events': 28.0,\n",
       " 'MeAuDote - An act of love that saves a life': 250.0,\n",
       " 'TCF National Conference': 1.0,\n",
       " 'Endurance Lifestyle': 7.0,\n",
       " 'K PLUS': 124424.0,\n",
       " 'ING Banking': 39041.0,\n",
       " 'Citibanamex Movil': 52306.0,\n",
       " 'The postal bank': 36718.0,\n",
       " 'KTB Netbank': 42644.0,\n",
       " 'Mobile Bancomer': 278082.0,\n",
       " 'Nedbank Money': 6076.0,\n",
       " 'SCB EASY': 112656.0,\n",
       " 'CASHIER': 335738.0,\n",
       " 'Rabo Banking': 31906.0,\n",
       " 'Capitec Remote Banking': 20672.0,\n",
       " 'Itau bank': 957973.0,\n",
       " 'Nubank': 130582.0,\n",
       " 'The Societe Generale App': 31218.0,\n",
       " 'IKO': 167168.0,\n",
       " 'Cash App': 34428.0,\n",
       " 'Standard Bank / Stanbic Bank': 15247.0,\n",
       " 'Bualuang mBanking': 48445.0,\n",
       " 'Intesa Sanpaolo Mobile': 35518.0,\n",
       " 'UBA Mobile Banking': 12185.0,\n",
       " 'BBVA Spain': 36746.0,\n",
       " 'MyMo by GSB': 21996.0,\n",
       " 'VTB-Online': 138371.0,\n",
       " 'Ecobank Mobile Banking': 12073.0,\n",
       " 'Banorte Movil': 111632.0,\n",
       " 'Wells Fargo Mobile': 250719.0,\n",
       " 'Credit Karma': 706618.0,\n",
       " 'BZWBK24 mobile': 64983.0,\n",
       " 'PayPal': 659760.0,\n",
       " 'Capital One® Mobile': 510401.0,\n",
       " 'Zenith Bank Mobile App': 7215.0,\n",
       " 'GCash - Buy Load, Pay Bills, Send Money': 25508.0,\n",
       " 'Post Bank': 60449.0,\n",
       " 'İşCep': 381788.0,\n",
       " \"People's Bank\": 10697.0,\n",
       " 'Google Pay': 348132.0,\n",
       " 'Transfer': 31804.0,\n",
       " 'T-Mobile in': 3856.0,\n",
       " 'TrueMoney Wallet': 199684.0,\n",
       " 'Alfa-Bank (Alfa-Bank)': 44545.0,\n",
       " 'Bank of Brazil': 1336246.0,\n",
       " 'WiseBanyan - Invest For Free': 257.0,\n",
       " 'Robinhood - Investing, No Fees': 57493.0,\n",
       " 'Wells Fargo Daily Change': 283.0,\n",
       " 'Even - organize your money, get paid early': 12304.0,\n",
       " 'Digit Save Money Automatically': 8188.0,\n",
       " 'Stash: Invest. Learn. Save.': 11919.0,\n",
       " 'Acorns - Invest Spare Change': 45962.0,\n",
       " 'Money Lover: Expense Tracker, Budget Planner': 126447.0,\n",
       " 'Expense IQ Money Manager': 21570.0,\n",
       " 'Money Manager Expense & Budget': 134564.0,\n",
       " 'Prism Pay Bills, Track Money, Personal Finance': 16961.0,\n",
       " 'Monefy - Money Manager': 111254.0,\n",
       " 'Simple - Better Banking': 7731.0,\n",
       " 'Chime - Mobile Banking': 5928.0,\n",
       " 'Bluebird by American Express': 15703.0,\n",
       " 'Walmart MoneyCard': 6148.0,\n",
       " 'Moven - Smart Finances': 861.0,\n",
       " 'Qapital - Save Small. Live Large': 8662.0,\n",
       " 'Experian - Free Credit Report': 23130.0,\n",
       " 'Branch': 69973.0,\n",
       " 'WalletHub - Free Credit Score, Report & Monitoring': 1311.0,\n",
       " 'CreditWise from Capital One': 26587.0,\n",
       " 'NerdWallet: Personal Finance, Credit Score & Cash': 2417.0,\n",
       " 'my face': 1054.0,\n",
       " 'Credit Sesame': 25166.0,\n",
       " 'Mint: Budget, Bills, Finance': 129305.0,\n",
       " 'Fresh EBT - Food Stamp Balance': 19870.0,\n",
       " 'Hurdlr: Track Mileage, Expenses, and Log Receipts': 3596.0,\n",
       " 'Mobills: Budget Planner': 161440.0,\n",
       " 'Everlance: Free Mileage Log': 7514.0,\n",
       " 'MileIQ - Free Mileage Tracker for Business': 46106.0,\n",
       " 'QuickBooks Self-Employed:Mileage Tracker and Taxes': 15141.0,\n",
       " 'FREE Stock Market Trading Tips': 714.0,\n",
       " 'MetaTrader 5': 42410.0,\n",
       " 'MetaTrader 4': 260547.0,\n",
       " 'Stock Quote': 4344.0,\n",
       " 'Seeking Alpha': 22808.0,\n",
       " 'Stock Trainer: Virtual Trading (Stock Markets)': 42809.0,\n",
       " 'Stocks: Realtime Quotes Charts': 16808.0,\n",
       " 'Stocks, Forex, Bitcoin, Ethereum: Portfolio & News': 157505.0,\n",
       " 'CNBC: Breaking Business News & Live Market Data': 24666.0,\n",
       " 'US Stock Market': 1922.0,\n",
       " 'Bloomberg Professional': 3334.0,\n",
       " 'E*TRADE Mobile': 10658.0,\n",
       " 'MSN Money- Stock Quotes & News': 78361.0,\n",
       " 'Fox Business': 2594.0,\n",
       " 'NSE Mobile Trading': 13868.0,\n",
       " 'Yahoo Finance': 135952.0,\n",
       " 'JStock - Stock Market, Portfolio & News': 11066.0,\n",
       " 'Webull - Stock Quotes & Free Stock Trading': 34861.0,\n",
       " 'Trading 212 - Forex, Stocks, CFDs': 37580.0,\n",
       " 'Moneycontrol – Stocks, Sensex, Mutual Funds, IPO': 281635.0,\n",
       " 'Current debit card and app made for teens': 685.0,\n",
       " 'Betterment': 3780.0,\n",
       " 'Citizens Bank Mobile Banking': 15192.0,\n",
       " 'GoBank': 5950.0,\n",
       " 'NetSpend Prepaid': 15993.0,\n",
       " 'BBVA Compass Banking': 5905.0,\n",
       " 'BankMobile Vibe App': 14627.0,\n",
       " 'Netspend Skylight ONE': 1098.0,\n",
       " 'ACE Elite': 2898.0,\n",
       " 'U.S. Bank': 70782.0,\n",
       " 'Huntington Mobile': 11264.0,\n",
       " 'USAA Mobile': 100997.0,\n",
       " 'Associated Credit Union Mobile': 3290.0,\n",
       " 'Bank of America Mobile Banking': 341090.0,\n",
       " 'USE Credit Union Mobile': 964.0,\n",
       " 'Discover Mobile': 87951.0,\n",
       " 'Amex Mobile': 24729.0,\n",
       " 'Citi Mobile®': 78306.0,\n",
       " 'Navy Federal Credit Union': 43313.0,\n",
       " 'Chase Mobile': 1374549.0,\n",
       " 'HDFC Bank MobileBanking': 208463.0,\n",
       " 'Barclays US for Android': 6998.0,\n",
       " \"McDonald's\": 145646.0,\n",
       " 'Easy and Fast Recipes': 95.0,\n",
       " 'Cookpad - FREE recipe search makes fun cooking · musical making!': 64784.0,\n",
       " 'DELISH KITCHEN - FREE recipe movies make food fun and easy!': 32997.0,\n",
       " 'Sumine side dish - dish recipe side dish': 82.0,\n",
       " 'Easy Recipes': 2707.0,\n",
       " 'Delicious Recipes': 129737.0,\n",
       " 'Tastely': 611136.0,\n",
       " 'Pastry & Cooking (Without Net)': 6118.0,\n",
       " 'Frigo Magic: Easy recipe idea and anti-waste': 2473.0,\n",
       " \"McDonald's - McDonald's Japan\": 109784.0,\n",
       " 'Debonairs Pizza': 3320.0,\n",
       " 'Popeyes® App': 61.0,\n",
       " \"Dunkin' Donuts\": 68270.0,\n",
       " 'Pyaterochka': 8412.0,\n",
       " 'Refreshing app Free application that can use deal coupons': 10741.0,\n",
       " 'Simple Recipes': 3803.0,\n",
       " 'Grubhub: Food Delivery': 155944.0,\n",
       " 'Panera Bread': 10225.0,\n",
       " 'Chick-fil-A': 28009.0,\n",
       " 'hellofood - Food Delivery': 43614.0,\n",
       " 'Starbucks': 455496.0,\n",
       " 'Easy and quick desserts': 1398.0,\n",
       " \"Domino's Pizza USA\": 1032935.0,\n",
       " 'Chef - Recipes & Cooking': 32405.0,\n",
       " 'Delivery Club-food delivery: pizza, sushi, burger, salad': 151080.0,\n",
       " 'HungerStation': 22513.0,\n",
       " 'Delivery yogi.': 90042.0,\n",
       " 'Delivery trough - delivery trough delivery trough': 58316.0,\n",
       " 'Dr. Oetker recipe ideas': 8509.0,\n",
       " 'SONIC Drive-In': 19373.0,\n",
       " 'SUBWAY®': 21381.0,\n",
       " 'GialloZafferano: Recipes': 30224.0,\n",
       " 'Dairy Queen': 742.0,\n",
       " '9th stage': 454.0,\n",
       " 'OpenRice': 14952.0,\n",
       " 'SarashpazPapion (Cooking with Chef Bowls)': 1250.0,\n",
       " 'Little Caesars': 1726.0,\n",
       " 'Recipes Pastries and homemade pies More than 500 recipes for pastries': 14065.0,\n",
       " 'Om Waleed Sweets': 556.0,\n",
       " 'Eat Fast Prepare \"Without Internet\"': 4925.0,\n",
       " 'Wendy’s – Food and Offers': 6512.0,\n",
       " 'My Recipes Cookbook : RecetteTek': 11707.0,\n",
       " 'Healthy Recipes Free': 1077.0,\n",
       " 'Cookbook Recipes': 46539.0,\n",
       " 'ChefTap Recipes & Grocery List': 9066.0,\n",
       " 'Recipe Keeper': 1962.0,\n",
       " 'My CookBook (Recipe Manager)': 22071.0,\n",
       " ...}"
      ]
     },
     "execution_count": 23,
     "metadata": {},
     "output_type": "execute_result"
    }
   ],
   "source": [
    "reviews_max"
   ]
  },
  {
   "cell_type": "code",
   "execution_count": 24,
   "metadata": {},
   "outputs": [
    {
     "name": "stdout",
     "output_type": "stream",
     "text": [
      "expected length 9659\n"
     ]
    }
   ],
   "source": [
    "print('expected length', len(dataset_google) - 1181) #1181 repeated apps"
   ]
  },
  {
   "cell_type": "markdown",
   "metadata": {},
   "source": [
    "- Filter the maximum number of apps reviews with the dictionary and that the name is not added."
   ]
  },
  {
   "cell_type": "code",
   "execution_count": 25,
   "metadata": {},
   "outputs": [],
   "source": [
    "android_clean = []\n",
    "already_added = []\n",
    "\n",
    "for row in dataset_google: #original dataset\n",
    "    name = row[0]\n",
    "    n_reviews = float(row[3])\n",
    "    \n",
    "    if n_reviews == reviews_max[name] and name not in already_added:\n",
    "        android_clean.append(row) #row list added to list\n",
    "        already_added.append(name) #new name added list"
   ]
  },
  {
   "cell_type": "markdown",
   "metadata": {},
   "source": [
    "`android_clean` is the our **new dataset**"
   ]
  },
  {
   "cell_type": "code",
   "execution_count": 26,
   "metadata": {},
   "outputs": [
    {
     "name": "stdout",
     "output_type": "stream",
     "text": [
      "['U Launcher Lite – FREE Live Cool Themes, Hide Apps', 'ART_AND_DESIGN', '4.7', '87510', '8.7M', '5,000,000+', 'Free', '0', 'Everyone', 'Art & Design', 'August 1, 2018', '1.2.4', '4.0.3 and up']\n",
      "\n",
      "\n",
      "Number of rows: 9659\n",
      "Number of columns: 13\n"
     ]
    }
   ],
   "source": [
    "explore_data(android_clean, 1, 2, True)"
   ]
  },
  {
   "cell_type": "markdown",
   "metadata": {},
   "source": [
    "<a href='#0'> back to index</a>\n",
    "* * *\n",
    "### <a id='24'>2.4 Removing Non-English Apps</a>"
   ]
  },
  {
   "cell_type": "markdown",
   "metadata": {},
   "source": [
    "It is no necessary to do the same with App Store data because there are no duplicates.\n",
    "\n",
    "We use English for the applications we develop in our company, and we would like to analyze only applications aimed at an English-speaking audience. \n",
    "\n",
    "\n",
    "However, if we explore the data enough, we will find that **both datasets** have applications with names that suggest they are not aimed at an English-speaking audience."
   ]
  },
  {
   "cell_type": "code",
   "execution_count": 27,
   "metadata": {},
   "outputs": [
    {
     "name": "stdout",
     "output_type": "stream",
     "text": [
      "BATTLE BEARS -1\n",
      "Beast Poker\n",
      "\n",
      "\n",
      "中国語 AQリスニング\n",
      "لعبة تقدر تربح DZ\n"
     ]
    }
   ],
   "source": [
    "print(AppleStore[813][1])\n",
    "print(AppleStore[6731][1])\n",
    "print('\\n')\n",
    "print(android_clean[4412][0])\n",
    "print(android_clean[7940][0])"
   ]
  },
  {
   "cell_type": "markdown",
   "metadata": {},
   "source": [
    "**One way to do this is to remove all applications whose name contains a symbol that is not commonly used in English text**. \n",
    "\n",
    "English text typically includes letters of the English alphabet, numbers composed of digits from 0 to 9, punctuation marks (., !, ?, ;) and other símbols (+, *, /).\n",
    "\n",
    "Each character we use in a string has a corresponding number associated with it. \n",
    "\n",
    "For example, the corresponding number of the character\"a\" es 97, el del carácter \"A\" es 65, y el del carácter \"爱\" es 29.233. \n",
    "\n",
    " We can get the corresponding number of each character using the built-in function **ord().**"
   ]
  },
  {
   "cell_type": "code",
   "execution_count": 29,
   "metadata": {},
   "outputs": [
    {
     "name": "stdout",
     "output_type": "stream",
     "text": [
      "97\n",
      "65\n",
      "29233\n",
      "53\n",
      "43\n"
     ]
    }
   ],
   "source": [
    "print(ord('a'))\n",
    "print(ord('A'))\n",
    "print(ord('爱'))\n",
    "print(ord('5'))\n",
    "print(ord('+'))"
   ]
  },
  {
   "cell_type": "markdown",
   "metadata": {},
   "source": [
    "The numbers corresponding to the characters that we usually use in an English text are all in the range of 0 to 127, according to the ASCII system (American Standard Code for Information Interchange). \n",
    "\n",
    "Based on this range of numbers, we can construct a function that detects whether a character belongs to the common English character set or not. \n",
    "\n",
    "- **If the number is equal to or less than 127, the character belongs to the set of common English characters. \n",
    "\n",
    "- **If an app's name contains a character greater than 127, it probably means that the app has a non-English name.** \n",
    "\n",
    "This is the basis of operation. \n",
    "\n",
    "Read each of the characters and compare their ASCII value with the one we have determined as limit (127)."
   ]
  },
  {
   "cell_type": "code",
   "execution_count": 30,
   "metadata": {},
   "outputs": [],
   "source": [
    "def english_speak(string):\n",
    "    for character in string:\n",
    "        valor_character = ord(character)\n",
    "        if valor_character > 127:\n",
    "            return False #not English \n",
    "        else:\n",
    "            return True # is English"
   ]
  },
  {
   "cell_type": "code",
   "execution_count": 31,
   "metadata": {},
   "outputs": [
    {
     "data": {
      "text/plain": [
       "True"
      ]
     },
     "execution_count": 31,
     "metadata": {},
     "output_type": "execute_result"
    }
   ],
   "source": [
    "english_speak('Instagram')"
   ]
  },
  {
   "cell_type": "code",
   "execution_count": 32,
   "metadata": {},
   "outputs": [
    {
     "data": {
      "text/plain": [
       "False"
      ]
     },
     "execution_count": 32,
     "metadata": {},
     "output_type": "execute_result"
    }
   ],
   "source": [
    "english_speak('爱奇艺PPS -《欢乐颂2》电视剧热播')"
   ]
  },
  {
   "cell_type": "code",
   "execution_count": 33,
   "metadata": {},
   "outputs": [
    {
     "data": {
      "text/plain": [
       "True"
      ]
     },
     "execution_count": 33,
     "metadata": {},
     "output_type": "execute_result"
    }
   ],
   "source": [
    "english_speak('Docs To Go™ Free Office Suite')#Is English!"
   ]
  },
  {
   "cell_type": "code",
   "execution_count": 34,
   "metadata": {},
   "outputs": [
    {
     "data": {
      "text/plain": [
       "True"
      ]
     },
     "execution_count": 34,
     "metadata": {},
     "output_type": "execute_result"
    }
   ],
   "source": [
    "english_speak('Instachat 😜') #Is English!"
   ]
  },
  {
   "cell_type": "code",
   "execution_count": 35,
   "metadata": {},
   "outputs": [
    {
     "name": "stdout",
     "output_type": "stream",
     "text": [
      "8482\n",
      "128540\n"
     ]
    }
   ],
   "source": [
    "print(ord('™'))\n",
    "print(ord('😜'))"
   ]
  },
  {
   "cell_type": "markdown",
   "metadata": {},
   "source": [
    "If we are going to use the function we have created, we will lose useful data, we saw that the function could not correctly identify certain names of English applications such as **'Docs To Go™ Free Office Suite'** and **'Instachat 😜'** since many English applications will be incorrectly labeled as non-English. \n",
    "\n",
    "\n",
    "To **minimize the impact of data loss**,it is necessary to have a basic criterion that helps in the screening so **we will only delete an application if its name is longer than three characters with the corresponding numbers outside the ASCII range**. \n",
    "\n",
    "This means that all English apps with up to three emoji or other special characters will still be labeled as English. "
   ]
  },
  {
   "cell_type": "code",
   "execution_count": 36,
   "metadata": {},
   "outputs": [],
   "source": [
    "def english_speak(text):\n",
    "    non_validchar = [] #aux list\n",
    "    for character in text:\n",
    "        valor_character = ord(character)\n",
    "        if valor_character > 127:\n",
    "            non_validchar.append(valor_character)\n",
    "    if len(non_validchar) >= 3:\n",
    "        return False\n",
    "    else:\n",
    "        return True"
   ]
  },
  {
   "cell_type": "code",
   "execution_count": 37,
   "metadata": {},
   "outputs": [
    {
     "data": {
      "text/plain": [
       "True"
      ]
     },
     "execution_count": 37,
     "metadata": {},
     "output_type": "execute_result"
    }
   ],
   "source": [
    "english_speak('Docs To Go™ Free Office Suite')"
   ]
  },
  {
   "cell_type": "code",
   "execution_count": 38,
   "metadata": {},
   "outputs": [
    {
     "data": {
      "text/plain": [
       "False"
      ]
     },
     "execution_count": 38,
     "metadata": {},
     "output_type": "execute_result"
    }
   ],
   "source": [
    "english_speak('爱奇艺PPS -《欢乐颂2》电视剧热播')"
   ]
  },
  {
   "cell_type": "code",
   "execution_count": 39,
   "metadata": {},
   "outputs": [
    {
     "data": {
      "text/plain": [
       "True"
      ]
     },
     "execution_count": 39,
     "metadata": {},
     "output_type": "execute_result"
    }
   ],
   "source": [
    "english_speak('Instachat 😜 😜')"
   ]
  },
  {
   "cell_type": "code",
   "execution_count": 40,
   "metadata": {},
   "outputs": [
    {
     "data": {
      "text/plain": [
       "False"
      ]
     },
     "execution_count": 40,
     "metadata": {},
     "output_type": "execute_result"
    }
   ],
   "source": [
    "english_speak('Instachat 😜 😜 😜')"
   ]
  },
  {
   "cell_type": "markdown",
   "metadata": {},
   "source": [
    "At this point it is important to remember what the names of the datasets are, thus avoiding failures.\n",
    "\n",
    "|Dataset names|lenght|\n",
    "|:----|:----|\n",
    "|`dataset_apple`|7197|\n",
    "|`android_clean`|9659, 8757|"
   ]
  },
  {
   "cell_type": "markdown",
   "metadata": {},
   "source": [
    "<a href='#0'> back to index</a>\n",
    "* * *\n",
    "### <a id='25'>2.5 Filter non-English applications from both datasets.</a> \n",
    "\n",
    "If an app's name is identified as English, the we add the entire row to a separate list."
   ]
  },
  {
   "cell_type": "code",
   "execution_count": 41,
   "metadata": {},
   "outputs": [],
   "source": [
    "# AppleStore\n",
    "\n",
    "list_apple_clean = []\n",
    "\n",
    "for row in dataset_apple:\n",
    "    name = row[1]\n",
    "    if english_speak(name):\n",
    "        list_apple_clean.append(row)\n",
    "    else:\n",
    "        pass"
   ]
  },
  {
   "cell_type": "code",
   "execution_count": 42,
   "metadata": {},
   "outputs": [],
   "source": [
    "## android_clean\n",
    "\n",
    "list_android_clean = []\n",
    "\n",
    "for row in android_clean:\n",
    "    nombre = row[0]\n",
    "    if english_speak(nombre):\n",
    "        list_android_clean.append(row)\n",
    "    else:\n",
    "        pass"
   ]
  },
  {
   "cell_type": "markdown",
   "metadata": {},
   "source": [
    "<a href='#0'> back to index</a>\n",
    "* * *\n",
    "### <a id='26'>2.6 Exploring datasets and see how many rows we have left for each dataset.</a>\n",
    "\n",
    "In each cleaning process we have put different names to our dataset variables so it is important to take them into account"
   ]
  },
  {
   "cell_type": "code",
   "execution_count": 43,
   "metadata": {},
   "outputs": [
    {
     "name": "stdout",
     "output_type": "stream",
     "text": [
      "['529479190', 'Clash of Clans', '116476928', 'USD', '0.0', '2130805', '579', '4.5', '4.5', '9.24.12', '9+', 'Games', '38', '5', '18', '1']\n",
      "\n",
      "\n",
      "['420009108', 'Temple Run', '65921024', 'USD', '0.0', '1724546', '3842', '4.5', '4.0', '1.6.2', '9+', 'Games', '40', '5', '1', '1']\n",
      "\n",
      "\n",
      "Number of rows: 6155\n",
      "Number of columns: 16\n"
     ]
    }
   ],
   "source": [
    "explore_data(list_apple_clean, 2, 4, True)"
   ]
  },
  {
   "cell_type": "code",
   "execution_count": 44,
   "metadata": {},
   "outputs": [
    {
     "name": "stdout",
     "output_type": "stream",
     "text": [
      "['Sketch - Draw & Paint', 'ART_AND_DESIGN', '4.5', '215644', '25M', '50,000,000+', 'Free', '0', 'Teen', 'Art & Design', 'June 8, 2018', 'Varies with device', '4.2 and up']\n",
      "\n",
      "\n",
      "['Pixel Draw - Number Art Coloring Book', 'ART_AND_DESIGN', '4.3', '967', '2.8M', '100,000+', 'Free', '0', 'Everyone', 'Art & Design;Creativity', 'June 20, 2018', '1.1', '4.4 and up']\n",
      "\n",
      "\n",
      "Number of rows: 9597\n",
      "Number of columns: 13\n"
     ]
    }
   ],
   "source": [
    "explore_data(list_android_clean, 2, 4, True)"
   ]
  },
  {
   "cell_type": "markdown",
   "metadata": {},
   "source": [
    "**Now we are working with this:**\n",
    "\n",
    "\n",
    "|Dataset names|lenght|\n",
    "|:----|:----|\n",
    "|`list_apple_clean`|6155|\n",
    "|`list_android_clean`|9597|"
   ]
  },
  {
   "cell_type": "markdown",
   "metadata": {},
   "source": [
    "<a href='#0'> back to index</a>\n",
    "* * *\n",
    "## <a id='3'>3. Isolating Free Apps</a>\n",
    "\n",
    "Our datasets contain **free and non-free applications** we need to isolate only the free applications for our analysis.\n",
    "\n",
    "Checking the length of each dataset to see how many apps have left."
   ]
  },
  {
   "cell_type": "code",
   "execution_count": 45,
   "metadata": {},
   "outputs": [
    {
     "data": {
      "text/plain": [
       "['id',\n",
       " 'track_name',\n",
       " 'size_bytes',\n",
       " 'currency',\n",
       " 'price',\n",
       " 'rating_count_tot',\n",
       " 'rating_count_ver',\n",
       " 'user_rating',\n",
       " 'user_rating_ver',\n",
       " 'ver',\n",
       " 'cont_rating',\n",
       " 'prime_genre',\n",
       " 'sup_devices.num',\n",
       " 'ipadSc_urls.num',\n",
       " 'lang.num',\n",
       " 'vpp_lic']"
      ]
     },
     "execution_count": 45,
     "metadata": {},
     "output_type": "execute_result"
    }
   ],
   "source": [
    "header_apple"
   ]
  },
  {
   "cell_type": "code",
   "execution_count": 46,
   "metadata": {},
   "outputs": [
    {
     "data": {
      "text/plain": [
       "3203"
      ]
     },
     "execution_count": 46,
     "metadata": {},
     "output_type": "execute_result"
    }
   ],
   "source": [
    "free_apple_clean = []\n",
    "\n",
    "for row in list_apple_clean:\n",
    "    prix = row[4] #'price'\n",
    " \n",
    "    if prix == '0.0' or prix == '0': #not numbers just characters! \n",
    "        free_apple_clean.append(row)\n",
    "    else:\n",
    "        pass\n",
    "    \n",
    "len(free_apple_clean)"
   ]
  },
  {
   "cell_type": "code",
   "execution_count": 47,
   "metadata": {},
   "outputs": [
    {
     "data": {
      "text/plain": [
       "['App',\n",
       " 'Category',\n",
       " 'Rating',\n",
       " 'Reviews',\n",
       " 'Size',\n",
       " 'Installs',\n",
       " 'Type',\n",
       " 'Price',\n",
       " 'Content Rating',\n",
       " 'Genres',\n",
       " 'Last Updated',\n",
       " 'Current Ver',\n",
       " 'Android Ver']"
      ]
     },
     "execution_count": 47,
     "metadata": {},
     "output_type": "execute_result"
    }
   ],
   "source": [
    "header_google"
   ]
  },
  {
   "cell_type": "code",
   "execution_count": 48,
   "metadata": {},
   "outputs": [
    {
     "data": {
      "text/plain": [
       "8848"
      ]
     },
     "execution_count": 48,
     "metadata": {},
     "output_type": "execute_result"
    }
   ],
   "source": [
    "free_android_clean = [] \n",
    "\n",
    "for row in list_android_clean:\n",
    "    prix = row[7] #'Price'\n",
    "    if prix == '0.0' or prix == '0': #not numbers just characters! \n",
    "        free_android_clean.append(row)\n",
    "    else:\n",
    "        pass\n",
    "    \n",
    "len(free_android_clean)"
   ]
  },
  {
   "cell_type": "markdown",
   "metadata": {},
   "source": [
    "**Updating names and lengths**\n",
    "\n",
    "\n",
    "|Dataset names|lenght|\n",
    "|:----|:----|\n",
    "|`free_apple_clean`|3203|\n",
    "|`free_android_clean`|8848|"
   ]
  },
  {
   "cell_type": "markdown",
   "metadata": {},
   "source": [
    "<a href='#0'> back to index</a>\n",
    "* * *\n",
    "### <a id='31'>Our **ultimate goal** is to add the app on both Google Play and the App Store, so we need to **find profiles of apps that are successful in both markets**.</a> \n",
    "\n",
    "\n",
    "Let's start the analysis by having an idea of what are the most common genres for each market. To do this, we will have to build frequency tables for some columns of our datasets.\n",
    "\n",
    "The columns that can give us the information we need are:\n",
    "\n",
    "`free_apple_clean[11]` ---> `prime_genre`\n",
    "\n",
    "`free_android_clean[]` ---> `Genres`"
   ]
  },
  {
   "cell_type": "code",
   "execution_count": 49,
   "metadata": {},
   "outputs": [
    {
     "data": {
      "text/plain": [
       "['id',\n",
       " 'track_name',\n",
       " 'size_bytes',\n",
       " 'currency',\n",
       " 'price',\n",
       " 'rating_count_tot',\n",
       " 'rating_count_ver',\n",
       " 'user_rating',\n",
       " 'user_rating_ver',\n",
       " 'ver',\n",
       " 'cont_rating',\n",
       " 'prime_genre',\n",
       " 'sup_devices.num',\n",
       " 'ipadSc_urls.num',\n",
       " 'lang.num',\n",
       " 'vpp_lic']"
      ]
     },
     "execution_count": 49,
     "metadata": {},
     "output_type": "execute_result"
    }
   ],
   "source": [
    "header_apple"
   ]
  },
  {
   "cell_type": "code",
   "execution_count": 50,
   "metadata": {},
   "outputs": [
    {
     "data": {
      "text/plain": [
       "['App',\n",
       " 'Category',\n",
       " 'Rating',\n",
       " 'Reviews',\n",
       " 'Size',\n",
       " 'Installs',\n",
       " 'Type',\n",
       " 'Price',\n",
       " 'Content Rating',\n",
       " 'Genres',\n",
       " 'Last Updated',\n",
       " 'Current Ver',\n",
       " 'Android Ver']"
      ]
     },
     "execution_count": 50,
     "metadata": {},
     "output_type": "execute_result"
    }
   ],
   "source": [
    "header_google"
   ]
  },
  {
   "cell_type": "code",
   "execution_count": 51,
   "metadata": {},
   "outputs": [],
   "source": [
    "def freq_table(dataset, column):\n",
    "    table = {}\n",
    "    total = 0\n",
    "    \n",
    "    for row in dataset:\n",
    "        total +=1 # counter give us length.\n",
    "        value = row[column]\n",
    "        if value in table:\n",
    "            table[value] +=1\n",
    "        else:\n",
    "            table[value] = 1\n",
    "        \n",
    "    table_percentages = {}\n",
    "    \n",
    "    for key in table: #table[column value]<--as key] value <--as +1 values added \n",
    "        percentage = (table[key] / total ) * 100\n",
    "        table_percentages[key]=percentage\n",
    "            \n",
    "    return table_percentages # {column:times repeated}"
   ]
  },
  {
   "cell_type": "code",
   "execution_count": 52,
   "metadata": {},
   "outputs": [
    {
     "name": "stdout",
     "output_type": "stream",
     "text": [
      "{'Social Networking': 3.3093974399000934, 'Photo & Video': 4.995316890415236, 'Games': 58.25788323446769, 'Music': 2.0605682172962845, 'Reference': 0.5307524196066188, 'Health & Fitness': 2.0293474867311896, 'Weather': 0.8741804558226661, 'Utilities': 2.466437714642523, 'Travel': 1.248829222603809, 'Shopping': 2.5913206369029034, 'News': 1.3424914142990947, 'Navigation': 0.18732438339057134, 'Lifestyle': 1.5610365282547611, 'Entertainment': 7.836403371838902, 'Food & Drink': 0.8117389946924758, 'Sports': 2.1542304089915705, 'Book': 0.3746487667811427, 'Finance': 1.0927255697783327, 'Education': 3.6840462066812365, 'Productivity': 1.7483609116453322, 'Business': 0.5307524196066188, 'Catalogs': 0.1248829222603809, 'Medical': 0.18732438339057134}\n"
     ]
    }
   ],
   "source": [
    "print(freq_table(free_apple_clean, 11))"
   ]
  },
  {
   "cell_type": "code",
   "execution_count": 53,
   "metadata": {},
   "outputs": [
    {
     "name": "stdout",
     "output_type": "stream",
     "text": [
      "{'Art & Design': 0.599005424954792, 'Art & Design;Creativity': 0.06781193490054249, 'Auto & Vehicles': 0.9267631103074141, 'Beauty': 0.599005424954792, 'Books & Reference': 2.1360759493670884, 'Business': 4.599909584086799, 'Comics': 0.599005424954792, 'Comics;Creativity': 0.011301989150090416, 'Communication': 3.2323688969258586, 'Dating': 1.8648282097649187, 'Education': 5.357142857142857, 'Education;Creativity': 0.045207956600361664, 'Education;Education': 0.33905967450271246, 'Education;Pretend Play': 0.05650994575045208, 'Education;Brain Games': 0.033905967450271246, 'Entertainment': 6.080470162748644, 'Entertainment;Brain Games': 0.07911392405063292, 'Entertainment;Creativity': 0.033905967450271246, 'Entertainment;Music & Video': 0.16952983725135623, 'Events': 0.7120253164556962, 'Finance': 3.7070524412296564, 'Food & Drink': 1.2432188065099457, 'Health & Fitness': 3.0854430379746836, 'House & Home': 0.8024412296564195, 'Libraries & Demo': 0.9380650994575045, 'Lifestyle': 3.8765822784810124, 'Lifestyle;Pretend Play': 0.011301989150090416, 'Card': 0.45207956600361665, 'Arcade': 1.842224231464738, 'Puzzle': 1.1301989150090417, 'Racing': 0.9945750452079566, 'Sports': 3.4584086799276674, 'Casual': 1.763110307414105, 'Simulation': 2.0456600361663653, 'Adventure': 0.6668173598553345, 'Trivia': 0.4181735985533454, 'Action': 3.096745027124774, 'Word': 0.25994575045207957, 'Role Playing': 0.9380650994575045, 'Strategy': 0.9154611211573236, 'Board': 0.3842676311030741, 'Music': 0.2034358047016275, 'Action;Action & Adventure': 0.10171790235081375, 'Casual;Brain Games': 0.13562386980108498, 'Educational;Creativity': 0.033905967450271246, 'Puzzle;Brain Games': 0.16952983725135623, 'Educational;Education': 0.39556962025316456, 'Casual;Pretend Play': 0.23734177215189875, 'Educational;Brain Games': 0.06781193490054249, 'Art & Design;Pretend Play': 0.011301989150090416, 'Educational;Pretend Play': 0.09041591320072333, 'Entertainment;Education': 0.011301989150090416, 'Casual;Education': 0.022603978300180832, 'Casual;Creativity': 0.06781193490054249, 'Casual;Action & Adventure': 0.13562386980108498, 'Music;Music & Video': 0.022603978300180832, 'Arcade;Pretend Play': 0.011301989150090416, 'Adventure;Action & Adventure': 0.033905967450271246, 'Role Playing;Action & Adventure': 0.033905967450271246, 'Simulation;Pretend Play': 0.022603978300180832, 'Puzzle;Creativity': 0.022603978300180832, 'Simulation;Action & Adventure': 0.07911392405063292, 'Racing;Action & Adventure': 0.16952983725135623, 'Sports;Action & Adventure': 0.022603978300180832, 'Educational;Action & Adventure': 0.033905967450271246, 'Arcade;Action & Adventure': 0.12432188065099457, 'Entertainment;Action & Adventure': 0.033905967450271246, 'Art & Design;Action & Adventure': 0.011301989150090416, 'Puzzle;Action & Adventure': 0.033905967450271246, 'Education;Action & Adventure': 0.033905967450271246, 'Strategy;Action & Adventure': 0.011301989150090416, 'Music & Audio;Music & Video': 0.011301989150090416, 'Health & Fitness;Education': 0.011301989150090416, 'Board;Action & Adventure': 0.022603978300180832, 'Board;Brain Games': 0.07911392405063292, 'Casual;Music & Video': 0.011301989150090416, 'Education;Music & Video': 0.033905967450271246, 'Role Playing;Pretend Play': 0.045207956600361664, 'Entertainment;Pretend Play': 0.022603978300180832, 'Medical': 3.5375226039783, 'Social': 2.667269439421338, 'Shopping': 2.2490958408679926, 'Photography': 2.949819168173599, 'Travel & Local': 2.328209764918626, 'Travel & Local;Action & Adventure': 0.011301989150090416, 'Tools': 8.44258589511754, 'Tools;Education': 0.011301989150090416, 'Personalization': 3.322784810126582, 'Productivity': 3.899186256781193, 'Parenting': 0.4972875226039783, 'Parenting;Music & Video': 0.06781193490054249, 'Parenting;Education': 0.07911392405063292, 'Parenting;Brain Games': 0.011301989150090416, 'Weather': 0.7911392405063291, 'Video Players & Editors': 1.7744122965641953, 'Video Players & Editors;Music & Video': 0.022603978300180832, 'Video Players & Editors;Creativity': 0.011301989150090416, 'News & Magazines': 2.802893309222423, 'Maps & Navigation': 1.3901446654611211, 'Health & Fitness;Action & Adventure': 0.011301989150090416, 'Educational': 0.3729656419529837, 'Casino': 0.4181735985533454, 'Trivia;Education': 0.011301989150090416, 'Lifestyle;Education': 0.011301989150090416, 'Card;Action & Adventure': 0.011301989150090416, 'Books & Reference;Education': 0.011301989150090416, 'Simulation;Education': 0.011301989150090416, 'Puzzle;Education': 0.011301989150090416, 'Adventure;Education': 0.011301989150090416, 'Role Playing;Brain Games': 0.011301989150090416, 'Strategy;Education': 0.011301989150090416, 'Racing;Pretend Play': 0.011301989150090416, 'Communication;Creativity': 0.011301989150090416, 'Strategy;Creativity': 0.011301989150090416}\n"
     ]
    }
   ],
   "source": [
    "print(freq_table(free_android_clean, 9))"
   ]
  },
  {
   "cell_type": "markdown",
   "metadata": {},
   "source": [
    "\n",
    "- The value of the dictionary we place in `key_val_as_tuple`, tuple along with the key of this\n"
   ]
  },
  {
   "cell_type": "code",
   "execution_count": 54,
   "metadata": {},
   "outputs": [],
   "source": [
    "def display_table(dataset, column):\n",
    "    table = freq_table(dataset, column) #return diccionary\n",
    "    table_display = []\n",
    "    for key in table:\n",
    "        key_val_as_tuple = (table[key], key)   #times repeated & key same variable\n",
    "        table_display.append(key_val_as_tuple) #append tuple into list\n",
    "\n",
    "    table_sorted = sorted(table_display, reverse = True) #sorting list\n",
    "    for entry in table_sorted: #print every cell on list\n",
    "        print(entry[1], ':', round(entry[0],2),'%')"
   ]
  },
  {
   "cell_type": "code",
   "execution_count": 55,
   "metadata": {
    "scrolled": false
   },
   "outputs": [
    {
     "name": "stdout",
     "output_type": "stream",
     "text": [
      "Games : 58.26 %\n",
      "Entertainment : 7.84 %\n",
      "Photo & Video : 5.0 %\n",
      "Education : 3.68 %\n",
      "Social Networking : 3.31 %\n",
      "Shopping : 2.59 %\n",
      "Utilities : 2.47 %\n",
      "Sports : 2.15 %\n",
      "Music : 2.06 %\n",
      "Health & Fitness : 2.03 %\n",
      "Productivity : 1.75 %\n",
      "Lifestyle : 1.56 %\n",
      "News : 1.34 %\n",
      "Travel : 1.25 %\n",
      "Finance : 1.09 %\n",
      "Weather : 0.87 %\n",
      "Food & Drink : 0.81 %\n",
      "Reference : 0.53 %\n",
      "Business : 0.53 %\n",
      "Book : 0.37 %\n",
      "Navigation : 0.19 %\n",
      "Medical : 0.19 %\n",
      "Catalogs : 0.12 %\n"
     ]
    }
   ],
   "source": [
    "output_apple = display_table(free_apple_clean,11) #apple prime_genere column"
   ]
  },
  {
   "cell_type": "code",
   "execution_count": 56,
   "metadata": {},
   "outputs": [
    {
     "name": "stdout",
     "output_type": "stream",
     "text": [
      "Tools : 8.44 %\n",
      "Entertainment : 6.08 %\n",
      "Education : 5.36 %\n",
      "Business : 4.6 %\n",
      "Productivity : 3.9 %\n",
      "Lifestyle : 3.88 %\n",
      "Finance : 3.71 %\n",
      "Medical : 3.54 %\n",
      "Sports : 3.46 %\n",
      "Personalization : 3.32 %\n",
      "Communication : 3.23 %\n",
      "Action : 3.1 %\n",
      "Health & Fitness : 3.09 %\n",
      "Photography : 2.95 %\n",
      "News & Magazines : 2.8 %\n",
      "Social : 2.67 %\n",
      "Travel & Local : 2.33 %\n",
      "Shopping : 2.25 %\n",
      "Books & Reference : 2.14 %\n",
      "Simulation : 2.05 %\n",
      "Dating : 1.86 %\n",
      "Arcade : 1.84 %\n",
      "Video Players & Editors : 1.77 %\n",
      "Casual : 1.76 %\n",
      "Maps & Navigation : 1.39 %\n",
      "Food & Drink : 1.24 %\n",
      "Puzzle : 1.13 %\n",
      "Racing : 0.99 %\n",
      "Role Playing : 0.94 %\n",
      "Libraries & Demo : 0.94 %\n",
      "Auto & Vehicles : 0.93 %\n",
      "Strategy : 0.92 %\n",
      "House & Home : 0.8 %\n",
      "Weather : 0.79 %\n",
      "Events : 0.71 %\n",
      "Adventure : 0.67 %\n",
      "Comics : 0.6 %\n",
      "Beauty : 0.6 %\n",
      "Art & Design : 0.6 %\n",
      "Parenting : 0.5 %\n",
      "Card : 0.45 %\n",
      "Trivia : 0.42 %\n",
      "Casino : 0.42 %\n",
      "Educational;Education : 0.4 %\n",
      "Board : 0.38 %\n",
      "Educational : 0.37 %\n",
      "Education;Education : 0.34 %\n",
      "Word : 0.26 %\n",
      "Casual;Pretend Play : 0.24 %\n",
      "Music : 0.2 %\n",
      "Racing;Action & Adventure : 0.17 %\n",
      "Puzzle;Brain Games : 0.17 %\n",
      "Entertainment;Music & Video : 0.17 %\n",
      "Casual;Brain Games : 0.14 %\n",
      "Casual;Action & Adventure : 0.14 %\n",
      "Arcade;Action & Adventure : 0.12 %\n",
      "Action;Action & Adventure : 0.1 %\n",
      "Educational;Pretend Play : 0.09 %\n",
      "Simulation;Action & Adventure : 0.08 %\n",
      "Parenting;Education : 0.08 %\n",
      "Entertainment;Brain Games : 0.08 %\n",
      "Board;Brain Games : 0.08 %\n",
      "Parenting;Music & Video : 0.07 %\n",
      "Educational;Brain Games : 0.07 %\n",
      "Casual;Creativity : 0.07 %\n",
      "Art & Design;Creativity : 0.07 %\n",
      "Education;Pretend Play : 0.06 %\n",
      "Role Playing;Pretend Play : 0.05 %\n",
      "Education;Creativity : 0.05 %\n",
      "Role Playing;Action & Adventure : 0.03 %\n",
      "Puzzle;Action & Adventure : 0.03 %\n",
      "Entertainment;Creativity : 0.03 %\n",
      "Entertainment;Action & Adventure : 0.03 %\n",
      "Educational;Creativity : 0.03 %\n",
      "Educational;Action & Adventure : 0.03 %\n",
      "Education;Music & Video : 0.03 %\n",
      "Education;Brain Games : 0.03 %\n",
      "Education;Action & Adventure : 0.03 %\n",
      "Adventure;Action & Adventure : 0.03 %\n",
      "Video Players & Editors;Music & Video : 0.02 %\n",
      "Sports;Action & Adventure : 0.02 %\n",
      "Simulation;Pretend Play : 0.02 %\n",
      "Puzzle;Creativity : 0.02 %\n",
      "Music;Music & Video : 0.02 %\n",
      "Entertainment;Pretend Play : 0.02 %\n",
      "Casual;Education : 0.02 %\n",
      "Board;Action & Adventure : 0.02 %\n",
      "Video Players & Editors;Creativity : 0.01 %\n",
      "Trivia;Education : 0.01 %\n",
      "Travel & Local;Action & Adventure : 0.01 %\n",
      "Tools;Education : 0.01 %\n",
      "Strategy;Education : 0.01 %\n",
      "Strategy;Creativity : 0.01 %\n",
      "Strategy;Action & Adventure : 0.01 %\n",
      "Simulation;Education : 0.01 %\n",
      "Role Playing;Brain Games : 0.01 %\n",
      "Racing;Pretend Play : 0.01 %\n",
      "Puzzle;Education : 0.01 %\n",
      "Parenting;Brain Games : 0.01 %\n",
      "Music & Audio;Music & Video : 0.01 %\n",
      "Lifestyle;Pretend Play : 0.01 %\n",
      "Lifestyle;Education : 0.01 %\n",
      "Health & Fitness;Education : 0.01 %\n",
      "Health & Fitness;Action & Adventure : 0.01 %\n",
      "Entertainment;Education : 0.01 %\n",
      "Communication;Creativity : 0.01 %\n",
      "Comics;Creativity : 0.01 %\n",
      "Casual;Music & Video : 0.01 %\n",
      "Card;Action & Adventure : 0.01 %\n",
      "Books & Reference;Education : 0.01 %\n",
      "Art & Design;Pretend Play : 0.01 %\n",
      "Art & Design;Action & Adventure : 0.01 %\n",
      "Arcade;Pretend Play : 0.01 %\n",
      "Adventure;Education : 0.01 %\n"
     ]
    }
   ],
   "source": [
    "output_gogle = display_table(free_android_clean,9)"
   ]
  },
  {
   "cell_type": "markdown",
   "metadata": {},
   "source": [
    "<a href='#0'> back to index</a>\n",
    "* * *\n",
    "### <a id='32'>3.2 Profiles of apps successful in both markets</a>\n",
    "\n",
    "|Dataset name|Genres|percentage|\n",
    "|:---|:---|:---|\n",
    "|`free_apple_clean`|||\n",
    "||Games : |58 %|\n",
    "||**Entertainment :** |7,84 %|\n",
    "||Photo & Video : |5 %|\n",
    "||Education : |4 %|\n",
    "||Social Networking : |3 %|\n",
    "|`free_android_clean`|||\n",
    "||Tools : 8 %\n",
    "||**Entertainment :**| 6.08 %|\n",
    "||Education : |5 %|\n",
    "||Business : |5 %|\n",
    "||Productivity : |4 %|"
   ]
  },
  {
   "cell_type": "markdown",
   "metadata": {},
   "source": [
    "### We would like to get an idea about the type of apps with more users.\n",
    "\n",
    "One way to find out which genres are the most popular (have the most users) is to calculate the **average number of installs for each app genre**.\n",
    "\n",
    "<br>\n",
    "\n",
    "- For the **Google Play** dataset, we can find this information in the **installs** column, \n",
    "\n",
    "\n",
    "- For the **App Store dataset** we will take the total number of user ratings as a proxy, which we can find in the `'rating_count'` column app."
   ]
  },
  {
   "cell_type": "code",
   "execution_count": 57,
   "metadata": {},
   "outputs": [
    {
     "data": {
      "text/plain": [
       "'rating_count_tot'"
      ]
     },
     "execution_count": 57,
     "metadata": {},
     "output_type": "execute_result"
    }
   ],
   "source": [
    "header_apple[5]"
   ]
  },
  {
   "cell_type": "code",
   "execution_count": 58,
   "metadata": {},
   "outputs": [
    {
     "name": "stdout",
     "output_type": "stream",
     "text": [
      "2974676\n",
      "2161558\n",
      "2130805\n",
      "1724546\n",
      "1126879\n"
     ]
    }
   ],
   "source": [
    "for idx in range(5):\n",
    "    print(free_apple_clean[idx][5])"
   ]
  },
  {
   "cell_type": "markdown",
   "metadata": {},
   "source": [
    "These are the number of installations per application\n",
    "\n",
    "***"
   ]
  },
  {
   "cell_type": "code",
   "execution_count": 59,
   "metadata": {},
   "outputs": [
    {
     "data": {
      "text/plain": [
       "'Installs'"
      ]
     },
     "execution_count": 59,
     "metadata": {},
     "output_type": "execute_result"
    }
   ],
   "source": [
    "header_google[5]"
   ]
  },
  {
   "cell_type": "code",
   "execution_count": 60,
   "metadata": {},
   "outputs": [
    {
     "name": "stdout",
     "output_type": "stream",
     "text": [
      "10,000+\n",
      "5,000,000+\n",
      "50,000,000+\n",
      "100,000+\n",
      "50,000+\n"
     ]
    }
   ],
   "source": [
    "for idx in range(5):\n",
    "    print(free_android_clean[idx][5])"
   ]
  },
  {
   "cell_type": "markdown",
   "metadata": {},
   "source": [
    "...and this is an indicative number and therefore it is very important to note that the data contained in these columns is of a different nature.\n",
    "\n",
    "Let's start with the apple set."
   ]
  },
  {
   "cell_type": "markdown",
   "metadata": {},
   "source": [
    "## Most Popular Apps by Genre on Apple Store"
   ]
  },
  {
   "cell_type": "code",
   "execution_count": 61,
   "metadata": {},
   "outputs": [
    {
     "name": "stdout",
     "output_type": "stream",
     "text": [
      "['389801252', 'Instagram', '113954816', 'USD', '0.0', '2161558', '1289', '4.5', '4.0', '10.23', '12+', 'Photo & Video', '37', '0', '29', '1']\n"
     ]
    }
   ],
   "source": [
    "print(free_apple_clean[1][:])"
   ]
  },
  {
   "cell_type": "code",
   "execution_count": 62,
   "metadata": {},
   "outputs": [
    {
     "name": "stdout",
     "output_type": "stream",
     "text": [
      "Social Networking : 71548.34905660378\n",
      "Photo & Video : 28441.54375\n",
      "Games : 22886.36709539121\n",
      "Music : 57326.530303030304\n",
      "Reference : 79350.4705882353\n",
      "Health & Fitness : 23298.015384615384\n",
      "Weather : 52279.892857142855\n",
      "Utilities : 19156.493670886077\n",
      "Travel : 28243.8\n",
      "Shopping : 27230.734939759037\n",
      "News : 21248.023255813954\n",
      "Navigation : 86090.33333333333\n",
      "Lifestyle : 16815.48\n",
      "Entertainment : 14195.358565737051\n",
      "Food & Drink : 33333.92307692308\n",
      "Sports : 23008.898550724636\n",
      "Book : 46384.916666666664\n",
      "Finance : 32367.02857142857\n",
      "Education : 7003.983050847458\n",
      "Productivity : 21028.410714285714\n",
      "Business : 7491.117647058823\n",
      "Catalogs : 4004.0\n",
      "Medical : 612.0\n"
     ]
    }
   ],
   "source": [
    "genres_ios = freq_table(free_apple_clean, -5)\n",
    "list_order = {}\n",
    "\n",
    "for genre in genres_ios:\n",
    "    total = 0\n",
    "    len_genre = 0\n",
    "    for app in free_apple_clean:\n",
    "        genre_app = app[-5]\n",
    "        if genre_app == genre:            \n",
    "            n_ratings = float(app[5])\n",
    "            total += n_ratings\n",
    "            len_genre += 1\n",
    "            \n",
    "    avg_n_ratings = total / len_genre\n",
    "    print(genre, ':', avg_n_ratings)\n",
    "    \n",
    "    list_order[genre]=avg_n_ratings"
   ]
  },
  {
   "cell_type": "markdown",
   "metadata": {},
   "source": [
    "### - sorting Genres on App Store "
   ]
  },
  {
   "cell_type": "code",
   "execution_count": 63,
   "metadata": {},
   "outputs": [
    {
     "data": {
      "text/plain": [
       "{'Navigation': 86090.33333333333,\n",
       " 'Reference': 79350.4705882353,\n",
       " 'Social Networking': 71548.34905660378,\n",
       " 'Music': 57326.530303030304,\n",
       " 'Weather': 52279.892857142855,\n",
       " 'Book': 46384.916666666664,\n",
       " 'Food & Drink': 33333.92307692308,\n",
       " 'Finance': 32367.02857142857,\n",
       " 'Photo & Video': 28441.54375,\n",
       " 'Travel': 28243.8,\n",
       " 'Shopping': 27230.734939759037,\n",
       " 'Health & Fitness': 23298.015384615384,\n",
       " 'Sports': 23008.898550724636,\n",
       " 'Games': 22886.36709539121,\n",
       " 'News': 21248.023255813954,\n",
       " 'Productivity': 21028.410714285714,\n",
       " 'Utilities': 19156.493670886077,\n",
       " 'Lifestyle': 16815.48,\n",
       " 'Entertainment': 14195.358565737051,\n",
       " 'Business': 7491.117647058823,\n",
       " 'Education': 7003.983050847458,\n",
       " 'Catalogs': 4004.0,\n",
       " 'Medical': 612.0}"
      ]
     },
     "execution_count": 63,
     "metadata": {},
     "output_type": "execute_result"
    }
   ],
   "source": [
    "marklist = sorted(list_order.items(), key=lambda x:x[1],reverse = True)\n",
    "sortdict = dict(marklist)\n",
    "sortdict"
   ]
  },
  {
   "cell_type": "markdown",
   "metadata": {},
   "source": [
    "## <a id='4'>4. Most Popular Apps by Genre on Apple Store</a>"
   ]
  },
  {
   "cell_type": "code",
   "execution_count": 64,
   "metadata": {},
   "outputs": [
    {
     "name": "stdout",
     "output_type": "stream",
     "text": [
      "Waze - GPS Navigation, Maps & Real-time Traffic : 345046\n",
      "Google Maps - Navigation & Transit : 154911\n",
      "Geocaching® : 12811\n",
      "CoPilot GPS – Car Navigation & Offline Maps : 3582\n",
      "ImmobilienScout24: Real Estate Search in Germany : 187\n",
      "Railway Route Search : 5\n"
     ]
    }
   ],
   "source": [
    "for app in free_apple_clean:\n",
    "    if app[-5] == 'Navigation':    # number one\n",
    "        print(app[1], ':', app[5]) # print name and number of ratings"
   ]
  },
  {
   "cell_type": "markdown",
   "metadata": {},
   "source": [
    "The same pattern applies to social networking apps, where the average number is heavily influenced by a few giants like Facebook, Pinterest, Skype, etc. Same applies to music apps, where a few big players like Pandora, Spotify, and Shazam heavily influence the average number.\n",
    "\n",
    "**Our aim** is to find popular genres, but navigation, social networking or music apps might seem more popular than they really are. \n",
    "\n",
    "**The average number of ratings seem to be skewed by very few apps which have hundreds of thousands of user ratings, while the other apps may struggle to get past the 10,000 threshold**. \n",
    "\n",
    "\n",
    "We could get a **better picture by removing these extremely popular apps** for each genre and then rework the averages, but we'll leave this level of detail for later.\n",
    "\n",
    "Reference apps have 74,942 user ratings on average, but it's actually the Bible and Dictionary.com which skew up the average rating:\n",
    "\n",
    "### What applications are there in the second most popular genre?"
   ]
  },
  {
   "cell_type": "code",
   "execution_count": 65,
   "metadata": {},
   "outputs": [
    {
     "name": "stdout",
     "output_type": "stream",
     "text": [
      "Bible : 985920\n",
      "Dictionary.com Dictionary & Thesaurus : 200047\n",
      "Dictionary.com Dictionary & Thesaurus for iPad : 54175\n",
      "Google Translate : 26786\n",
      "Muslim Pro: Ramadan 2017 Prayer Times, Azan, Quran : 18418\n",
      "New Furniture Mods - Pocket Wiki & Game Tools for Minecraft PC Edition : 17588\n",
      "Merriam-Webster Dictionary : 16849\n",
      "Night Sky : 12122\n",
      "City Maps for Minecraft PE - The Best Maps for Minecraft Pocket Edition (MCPE) : 8535\n",
      "LUCKY BLOCK MOD ™ for Minecraft PC Edition - The Best Pocket Wiki & Mods Installer Tools : 4693\n",
      "GUNS MODS for Minecraft PC Edition - Mods Tools : 1497\n",
      "Guides for Pokémon GO - Pokemon GO News and Cheats : 826\n",
      "WWDC : 762\n",
      "Horror Maps for Minecraft PE - Download The Scariest Maps for Minecraft Pocket Edition (MCPE) Free : 718\n",
      "VPN Express : 14\n",
      "Real Bike Traffic Rider Virtual Reality Glasses : 8\n",
      "Jishokun-Japanese English Dictionary & Translator : 0\n"
     ]
    }
   ],
   "source": [
    "for app in free_apple_clean:\n",
    "    if app[-5] == 'Reference': # number two\n",
    "        print(app[1], ':', app[5])"
   ]
  },
  {
   "cell_type": "markdown",
   "metadata": {},
   "source": [
    "This niche seems to show some potential. \n",
    "\n",
    "One thing we could do is take a popular book and turn it into an app where we could add different features besides the raw version of the book: \n",
    "\n",
    "- This might include daily quotes from the book.\n",
    "\n",
    "- an audio version of the book.\n",
    "\n",
    "- quizzes about the book, etc. \n",
    "\n",
    "- we could also embed a dictionary within the app, so users don't need to exit our app to look up words in an external app.\n",
    "\n",
    "<br>\n",
    "\n",
    "This idea seems to fit well with the fact that the **App Store is dominated by for-fun apps**. This suggests the market might be a bit saturated with for-fun apps, which means a practical app might have more of a chance to stand out among the huge number of apps on the App Store.\n",
    "\n",
    "Other genres that seem popular include weather, book, food and drink, or finance. The book genre seem to overlap a bit with the app idea we described above, but the other genres don't seem too interesting:\n",
    "\n",
    "- Weather apps — people generally don't spend too much time in-app, and the chances of making profit from in-app adds are low. Also, getting reliable live weather data may require us to connect our apps to non-free APIs.\n",
    "\n",
    "- Food and drink — examples here include Starbucks, Dunkin' Donuts, McDonald's, etc. So making a popular food and drink app requires actual cooking and a delivery service, which is outside the scope of our company.\n",
    "\n",
    "- Finance apps — these apps involve banking, paying bills, money transfer, etc. Building a finance app requires domain knowledge, and we don't want to hire a finance expert just to build an app.\n",
    "\n",
    "- Therefore our premise is to avoid the big guys.\n",
    "\n",
    "\n",
    "\n",
    "<a href='#0'> back to index</a>\n",
    "* * *\n",
    "## <a id='5'>5. Most Popular Apps by Genre on Google Play</a>\n",
    "\n",
    "For the Google Play market, we actually have data about the number of installs, so we should be able to get a clearer picture about genre popularity. However, the install numbers don't seem precise enough — we can see that most values are open-ended (100+, 1,000+, 5,000+, etc.):\n",
    "\n",
    "## Analyze the Google Play market"
   ]
  },
  {
   "cell_type": "code",
   "execution_count": 66,
   "metadata": {},
   "outputs": [
    {
     "name": "stdout",
     "output_type": "stream",
     "text": [
      "1,000,000+ : 15.75 %\n",
      "100,000+ : 11.54 %\n",
      "10,000,000+ : 10.57 %\n",
      "10,000+ : 10.19 %\n",
      "1,000+ : 8.4 %\n",
      "100+ : 6.93 %\n",
      "5,000,000+ : 6.83 %\n",
      "500,000+ : 5.56 %\n",
      "50,000+ : 4.77 %\n",
      "5,000+ : 4.49 %\n",
      "10+ : 3.54 %\n",
      "500+ : 3.24 %\n",
      "50,000,000+ : 2.28 %\n",
      "100,000,000+ : 2.14 %\n",
      "50+ : 1.92 %\n",
      "5+ : 0.79 %\n",
      "1+ : 0.51 %\n",
      "500,000,000+ : 0.27 %\n",
      "1,000,000,000+ : 0.23 %\n",
      "0+ : 0.05 %\n",
      "0 : 0.01 %\n"
     ]
    }
   ],
   "source": [
    "display_table(free_android_clean, 5) # the Installs columns"
   ]
  },
  {
   "cell_type": "markdown",
   "metadata": {},
   "source": [
    "One problem with this data is that is not precise. For instance, we don't know whether an app with 100,000+ installs has 100,000 installs, 200,000, or 350,000. However, we don't need very precise data for our purposes — we only want to get an idea which app genres attract the most users, and we don't need perfect precision with respect to the number of users.\n",
    "\n",
    "We're going to leave the numbers as they are, which means that we'll consider that an app with 100,000+ installs has 100,000 installs, and an app with 1,000,000+ installs has 1,000,000 installs, and so on.\n",
    "\n",
    "To perform computations, however, we'll need to convert each install number to float — this means that we need to remove the commas and the plus characters, otherwise the conversion will fail and raise an error. We'll do this directly in the loop below, where we also compute the average number of installs for each genre (category)."
   ]
  },
  {
   "cell_type": "code",
   "execution_count": 67,
   "metadata": {},
   "outputs": [
    {
     "name": "stdout",
     "output_type": "stream",
     "text": [
      "ART_AND_DESIGN : 1986335.0877192982\n",
      "AUTO_AND_VEHICLES : 647317.8170731707\n",
      "BEAUTY : 513151.88679245283\n",
      "BOOKS_AND_REFERENCE : 8814199.78835979\n",
      "BUSINESS : 1712290.1474201474\n",
      "COMICS : 832613.8888888889\n",
      "COMMUNICATION : 38590581.08741259\n",
      "DATING : 854028.8303030303\n",
      "EDUCATION : 1833495.145631068\n",
      "ENTERTAINMENT : 11640705.88235294\n",
      "EVENTS : 253542.22222222222\n",
      "FINANCE : 1387692.475609756\n",
      "FOOD_AND_DRINK : 1924897.7363636363\n",
      "HEALTH_AND_FITNESS : 4188821.9853479853\n",
      "HOUSE_AND_HOME : 1360598.042253521\n",
      "LIBRARIES_AND_DEMO : 638503.734939759\n",
      "LIFESTYLE : 1446158.2238372094\n",
      "GAME : 15544014.51048951\n",
      "FAMILY : 3695641.8198090694\n",
      "MEDICAL : 120550.61980830671\n",
      "SOCIAL : 23253652.127118643\n",
      "SHOPPING : 7036877.311557789\n",
      "PHOTOGRAPHY : 17840110.40229885\n",
      "SPORTS : 3650602.276666667\n",
      "TRAVEL_AND_LOCAL : 13984077.710144928\n",
      "TOOLS : 10830251.970588235\n",
      "PERSONALIZATION : 5201482.6122448975\n",
      "PRODUCTIVITY : 16787331.344927534\n",
      "PARENTING : 542603.6206896552\n",
      "WEATHER : 5145550.285714285\n",
      "VIDEO_PLAYERS : 24727872.452830188\n",
      "NEWS_AND_MAGAZINES : 9549178.467741935\n",
      "MAPS_AND_NAVIGATION : 4049274.6341463416\n"
     ]
    }
   ],
   "source": [
    "categories_android = freq_table(free_android_clean, 1)\n",
    "list_order={}\n",
    "\n",
    "for category in categories_android:\n",
    "    total = 0\n",
    "    len_category = 0\n",
    "    for app in free_android_clean:\n",
    "        category_app = app[1]\n",
    "        if category_app == category:            \n",
    "            n_installs = app[5]\n",
    "            n_installs = n_installs.replace(',', '')\n",
    "            n_installs = n_installs.replace('+', '')\n",
    "            total += float(n_installs)\n",
    "            len_category += 1\n",
    "    avg_n_installs = total / len_category\n",
    "    print(category, ':', avg_n_installs)\n",
    "    \n",
    "    list_order[category]=avg_n_installs"
   ]
  },
  {
   "cell_type": "code",
   "execution_count": 68,
   "metadata": {},
   "outputs": [
    {
     "data": {
      "text/plain": [
       "{'COMMUNICATION': 38590581.08741259,\n",
       " 'VIDEO_PLAYERS': 24727872.452830188,\n",
       " 'SOCIAL': 23253652.127118643,\n",
       " 'PHOTOGRAPHY': 17840110.40229885,\n",
       " 'PRODUCTIVITY': 16787331.344927534,\n",
       " 'GAME': 15544014.51048951,\n",
       " 'TRAVEL_AND_LOCAL': 13984077.710144928,\n",
       " 'ENTERTAINMENT': 11640705.88235294,\n",
       " 'TOOLS': 10830251.970588235,\n",
       " 'NEWS_AND_MAGAZINES': 9549178.467741935,\n",
       " 'BOOKS_AND_REFERENCE': 8814199.78835979,\n",
       " 'SHOPPING': 7036877.311557789,\n",
       " 'PERSONALIZATION': 5201482.6122448975,\n",
       " 'WEATHER': 5145550.285714285,\n",
       " 'HEALTH_AND_FITNESS': 4188821.9853479853,\n",
       " 'MAPS_AND_NAVIGATION': 4049274.6341463416,\n",
       " 'FAMILY': 3695641.8198090694,\n",
       " 'SPORTS': 3650602.276666667,\n",
       " 'ART_AND_DESIGN': 1986335.0877192982,\n",
       " 'FOOD_AND_DRINK': 1924897.7363636363,\n",
       " 'EDUCATION': 1833495.145631068,\n",
       " 'BUSINESS': 1712290.1474201474,\n",
       " 'LIFESTYLE': 1446158.2238372094,\n",
       " 'FINANCE': 1387692.475609756,\n",
       " 'HOUSE_AND_HOME': 1360598.042253521,\n",
       " 'DATING': 854028.8303030303,\n",
       " 'COMICS': 832613.8888888889,\n",
       " 'AUTO_AND_VEHICLES': 647317.8170731707,\n",
       " 'LIBRARIES_AND_DEMO': 638503.734939759,\n",
       " 'PARENTING': 542603.6206896552,\n",
       " 'BEAUTY': 513151.88679245283,\n",
       " 'EVENTS': 253542.22222222222,\n",
       " 'MEDICAL': 120550.61980830671}"
      ]
     },
     "execution_count": 68,
     "metadata": {},
     "output_type": "execute_result"
    }
   ],
   "source": [
    "marklist = sorted(list_order.items(), key=lambda x:x[1],reverse = True)\n",
    "sortdict = dict(marklist)\n",
    "sortdict"
   ]
  },
  {
   "cell_type": "markdown",
   "metadata": {},
   "source": [
    "On average, communication apps have the most installs: 38590581.08741259. \n",
    "\n",
    "**This number is heavily skewed up by a few apps that have over one billion installs (WhatsApp, Facebook Messenger, Skype, Google Chrome, Gmail, and Hangouts)**, and a few others with over 100 and 500 million installs:"
   ]
  },
  {
   "cell_type": "code",
   "execution_count": 69,
   "metadata": {},
   "outputs": [
    {
     "name": "stdout",
     "output_type": "stream",
     "text": [
      "WhatsApp Messenger : 1,000,000,000+\n",
      "imo beta free calls and text : 100,000,000+\n",
      "Android Messages : 100,000,000+\n",
      "Google Duo - High Quality Video Calls : 500,000,000+\n",
      "Messenger – Text and Video Chat for Free : 1,000,000,000+\n",
      "imo free video calls and chat : 500,000,000+\n",
      "Skype - free IM & video calls : 1,000,000,000+\n",
      "Who : 100,000,000+\n",
      "GO SMS Pro - Messenger, Free Themes, Emoji : 100,000,000+\n",
      "LINE: Free Calls & Messages : 500,000,000+\n",
      "Google Chrome: Fast & Secure : 1,000,000,000+\n",
      "Firefox Browser fast & private : 100,000,000+\n",
      "UC Browser - Fast Download Private & Secure : 500,000,000+\n",
      "Gmail : 1,000,000,000+\n",
      "Hangouts : 1,000,000,000+\n",
      "Messenger Lite: Free Calls & Messages : 100,000,000+\n",
      "Kik : 100,000,000+\n",
      "KakaoTalk: Free Calls & Text : 100,000,000+\n",
      "Opera Mini - fast web browser : 100,000,000+\n",
      "Opera Browser: Fast and Secure : 100,000,000+\n",
      "Telegram : 100,000,000+\n",
      "Truecaller: Caller ID, SMS spam blocking & Dialer : 100,000,000+\n",
      "UC Browser Mini -Tiny Fast Private & Secure : 100,000,000+\n",
      "Viber Messenger : 500,000,000+\n",
      "WeChat : 100,000,000+\n",
      "Yahoo Mail – Stay Organized : 100,000,000+\n",
      "BBM - Free Calls & Messages : 100,000,000+\n"
     ]
    }
   ],
   "source": [
    "for app in free_android_clean:\n",
    "    if app[1] == 'COMMUNICATION' and (app[5] == '1,000,000,000+' or \n",
    "                                      app[5] == '500,000,000+' or \n",
    "                                      app[5] == '100,000,000+'):\n",
    "        print(app[0], ':', app[5])"
   ]
  },
  {
   "cell_type": "markdown",
   "metadata": {},
   "source": [
    "If we removed all the communication apps that have over 100 million installs, the average would be reduced roughly ten times:"
   ]
  },
  {
   "cell_type": "code",
   "execution_count": 70,
   "metadata": {},
   "outputs": [
    {
     "data": {
      "text/plain": [
       "3617398.420849421"
      ]
     },
     "execution_count": 70,
     "metadata": {},
     "output_type": "execute_result"
    }
   ],
   "source": [
    "under_100_m = []\n",
    "\n",
    "for app in free_android_clean:\n",
    "    n_installs = app[5]\n",
    "    n_installs = n_installs.replace(',', '')\n",
    "    n_installs = n_installs.replace('+', '')\n",
    "    if (app[1] == 'COMMUNICATION') and (float(n_installs) < 100000000):\n",
    "        under_100_m.append(float(n_installs))\n",
    "        \n",
    "sum(under_100_m) / len(under_100_m)"
   ]
  },
  {
   "cell_type": "markdown",
   "metadata": {},
   "source": [
    "We see the same pattern for the video players category, which is the runner-up with 24,727,872 installs. The market is dominated by apps like Youtube, Google Play Movies & TV, or MX Player. The pattern is repeated for social apps (where we have giants like Facebook, Instagram, Google+, etc.), photography apps (Google Photos and other popular photo editors), or productivity apps (Microsoft Word, Dropbox, Google Calendar, Evernote, etc.).\n",
    "\n",
    "Again, the main concern is that these app genres might seem more popular than they really are. Moreover, these niches seem to be dominated by a few giants who are hard to compete against.\n",
    "\n",
    "The game genre seems pretty popular, but previously we found out this part of the market seems a bit saturated, so we'd like to come up with a different app recommendation if possible.\n",
    "\n",
    "The books and reference genre looks fairly popular as well, with an average number of installs of 8,767,811. It's interesting to explore this in more depth, since we found this genre has some potential to work well on the App Store, and our aim is to recommend an app genre that shows potential for being profitable on both the App Store and Google Play.\n",
    "\n",
    "Let's take a look at some of the apps from this genre and their number of installs:"
   ]
  },
  {
   "cell_type": "code",
   "execution_count": 71,
   "metadata": {
    "scrolled": true
   },
   "outputs": [
    {
     "name": "stdout",
     "output_type": "stream",
     "text": [
      "E-Book Read - Read Book for free : 50,000+\n",
      "Download free book with green book : 100,000+\n",
      "Wikipedia : 10,000,000+\n",
      "Cool Reader : 10,000,000+\n",
      "Free Panda Radio Music : 100,000+\n",
      "Book store : 1,000,000+\n",
      "FBReader: Favorite Book Reader : 10,000,000+\n",
      "English Grammar Complete Handbook : 500,000+\n",
      "Free Books - Spirit Fanfiction and Stories : 1,000,000+\n",
      "Google Play Books : 1,000,000,000+\n",
      "AlReader -any text book reader : 5,000,000+\n",
      "Offline English Dictionary : 100,000+\n",
      "Offline: English to Tagalog Dictionary : 500,000+\n",
      "FamilySearch Tree : 1,000,000+\n",
      "Cloud of Books : 1,000,000+\n",
      "Recipes of Prophetic Medicine for free : 500,000+\n",
      "ReadEra – free ebook reader : 1,000,000+\n",
      "Anonymous caller detection : 10,000+\n",
      "Ebook Reader : 5,000,000+\n",
      "Litnet - E-books : 100,000+\n",
      "Read books online : 5,000,000+\n",
      "English to Urdu Dictionary : 500,000+\n",
      "eBoox: book reader fb2 epub zip : 1,000,000+\n",
      "English Persian Dictionary : 500,000+\n",
      "Flybook : 500,000+\n",
      "All Maths Formulas : 1,000,000+\n",
      "Ancestry : 5,000,000+\n",
      "HTC Help : 10,000,000+\n",
      "English translation from Bengali : 100,000+\n",
      "Pdf Book Download - Read Pdf Book : 100,000+\n",
      "Free Book Reader : 100,000+\n",
      "eBoox new: Reader for fb2 epub zip books : 50,000+\n",
      "Only 30 days in English, the guideline is guaranteed : 500,000+\n",
      "Moon+ Reader : 10,000,000+\n",
      "SH-02J Owner's Manual (Android 8.0) : 50,000+\n",
      "English-Myanmar Dictionary : 1,000,000+\n",
      "Golden Dictionary (EN-AR) : 1,000,000+\n",
      "All Language Translator Free : 1,000,000+\n",
      "Azpen eReader : 500,000+\n",
      "URBANO V 02 instruction manual : 100,000+\n",
      "Bible : 100,000,000+\n",
      "C Programs and Reference : 50,000+\n",
      "C Offline Tutorial : 1,000+\n",
      "C Programs Handbook : 50,000+\n",
      "Amazon Kindle : 100,000,000+\n",
      "Aab e Hayat Full Novel : 100,000+\n",
      "Aldiko Book Reader : 10,000,000+\n",
      "Google I/O 2018 : 500,000+\n",
      "R Language Reference Guide : 10,000+\n",
      "Learn R Programming Full : 5,000+\n",
      "R Programing Offline Tutorial : 1,000+\n",
      "Guide for R Programming : 5+\n",
      "Learn R Programming : 10+\n",
      "R Quick Reference Big Data : 1,000+\n",
      "V Made : 100,000+\n",
      "Wattpad 📖 Free Books : 100,000,000+\n",
      "Dictionary - WordWeb : 5,000,000+\n",
      "Guide (for X-MEN) : 100,000+\n",
      "AC Air condition Troubleshoot,Repair,Maintenance : 5,000+\n",
      "AE Bulletins : 1,000+\n",
      "Ae Allah na Dai (Rasa) : 10,000+\n",
      "50000 Free eBooks & Free AudioBooks : 5,000,000+\n",
      "Ag PhD Field Guide : 10,000+\n",
      "Ag PhD Deficiencies : 10,000+\n",
      "Ag PhD Planting Population Calculator : 1,000+\n",
      "Ag PhD Soybean Diseases : 1,000+\n",
      "Fertilizer Removal By Crop : 50,000+\n",
      "A-J Media Vault : 50+\n",
      "Al-Quran (Free) : 10,000,000+\n",
      "Al Quran (Tafsir & by Word) : 500,000+\n",
      "Al Quran Indonesia : 10,000,000+\n",
      "Al'Quran Bahasa Indonesia : 10,000,000+\n",
      "Al Quran Al karim : 1,000,000+\n",
      "Al-Muhaffiz : 50,000+\n",
      "Al Quran : EAlim - Translations & MP3 Offline : 5,000,000+\n",
      "Al-Quran 30 Juz free copies : 500,000+\n",
      "Koran Read &MP3 30 Juz Offline : 1,000,000+\n",
      "Hafizi Quran 15 lines per page : 1,000,000+\n",
      "Quran for Android : 10,000,000+\n",
      "Surah Al-Waqiah : 100,000+\n",
      "Hisnul Al Muslim - Hisn Invocations & Adhkaar : 100,000+\n",
      "Satellite AR : 1,000,000+\n",
      "Audiobooks from Audible : 100,000,000+\n",
      "Kinot & Eichah for Tisha B'Av : 10,000+\n",
      "AW Tozer Devotionals - Daily : 5,000+\n",
      "Tozer Devotional -Series 1 : 1,000+\n",
      "The Pursuit of God : 1,000+\n",
      "AY Sing : 5,000+\n",
      "Ay Hasnain k Nana Milad Naat : 10,000+\n",
      "Ay Mohabbat Teri Khatir Novel : 10,000+\n",
      "Arizona Statutes, ARS (AZ Law) : 1,000+\n",
      "Oxford A-Z of English Usage : 1,000,000+\n",
      "BD Fishpedia : 1,000+\n",
      "BD All Sim Offer : 10,000+\n",
      "Youboox - Livres, BD et magazines : 500,000+\n",
      "B&H Kids AR : 10,000+\n",
      "B y H Niños ES : 5,000+\n",
      "Dictionary.com: Find Definitions for English Words : 10,000,000+\n",
      "English Dictionary - Offline : 10,000,000+\n",
      "Bible KJV : 5,000,000+\n",
      "Borneo Bible, BM Bible : 10,000+\n",
      "MOD Black for BM : 100+\n",
      "BM Box : 1,000+\n",
      "Anime Mod for BM : 100+\n",
      "NOOK: Read eBooks & Magazines : 10,000,000+\n",
      "NOOK Audiobooks : 500,000+\n",
      "NOOK App for NOOK Devices : 500,000+\n",
      "Browsery by Barnes & Noble : 5,000+\n",
      "bp e-store : 1,000+\n",
      "Brilliant Quotes: Life, Love, Family & Motivation : 1,000,000+\n",
      "BR Ambedkar Biography & Quotes : 10,000+\n",
      "BU Alsace : 100+\n",
      "Catholic La Bu Zo Kam : 500+\n",
      "Khrifa Hla Bu (Solfa) : 10+\n",
      "Kristian Hla Bu : 10,000+\n",
      "SA HLA BU : 1,000+\n",
      "Learn SAP BW : 500+\n",
      "Learn SAP BW on HANA : 500+\n",
      "CA Laws 2018 (California Laws and Codes) : 5,000+\n",
      "Bootable Methods(USB-CD-DVD) : 10,000+\n",
      "cloudLibrary : 100,000+\n",
      "SDA Collegiate Quarterly : 500+\n",
      "Sabbath School : 100,000+\n",
      "Cypress College Library : 100+\n",
      "Stats Royale for Clash Royale : 1,000,000+\n",
      "GATE 21 years CS Papers(2011-2018 Solved) : 50+\n",
      "Learn CT Scan Of Head : 5,000+\n",
      "Easy Cv maker 2018 : 10,000+\n",
      "How to Write CV : 100,000+\n",
      "CW Nuclear : 1,000+\n",
      "CY Spray nozzle : 10+\n",
      "BibleRead En Cy Zh Yue : 5+\n",
      "CZ-Help : 5+\n",
      "Guide for DB Xenoverse : 10,000+\n",
      "Guide for DB Xenoverse 2 : 10,000+\n",
      "Guide for IMS DB : 10+\n",
      "DC HSEMA : 5,000+\n",
      "DC Public Library : 1,000+\n",
      "Painting Lulu DC Super Friends : 1,000+\n",
      "Dictionary : 10,000,000+\n",
      "Fix Error Google Playstore : 1,000+\n",
      "D. H. Lawrence Poems FREE : 1,000+\n",
      "Bilingual Dictionary Audio App : 5,000+\n",
      "DM Screen : 10,000+\n",
      "wikiHow: how to do anything : 1,000,000+\n",
      "Dr. Doug's Tips : 1,000+\n",
      "Bible du Semeur-BDS (French) : 50,000+\n",
      "La citadelle du musulman : 50,000+\n",
      "DV 2019 Entry Guide : 10,000+\n",
      "DV 2019 - EDV Photo & Form : 50,000+\n",
      "DV 2018 Winners Guide : 1,000+\n",
      "EB Annual Meetings : 1,000+\n",
      "EC - AP & Telangana : 5,000+\n",
      "TN Patta Citta & EC : 10,000+\n",
      "AP Stamps and Registration : 10,000+\n",
      "CompactiMa EC pH Calibration : 100+\n",
      "EGW Writings 2 : 100,000+\n",
      "EGW Writings : 1,000,000+\n",
      "Bible with EGW Comments : 100,000+\n",
      "My Little Pony AR Guide : 1,000,000+\n",
      "SDA Sabbath School Quarterly : 500,000+\n",
      "Duaa Ek Ibaadat : 5,000+\n",
      "Spanish English Translator : 10,000,000+\n",
      "Dictionary - Merriam-Webster : 10,000,000+\n",
      "JW Library : 10,000,000+\n",
      "Oxford Dictionary of English : Free : 10,000,000+\n",
      "English Hindi Dictionary : 10,000,000+\n",
      "English to Hindi Dictionary : 5,000,000+\n",
      "EP Research Service : 1,000+\n",
      "Hymnes et Louanges : 100,000+\n",
      "EU Charter : 1,000+\n",
      "EU Data Protection : 1,000+\n",
      "EU IP Codes : 100+\n",
      "EW PDF : 5+\n",
      "BakaReader EX : 100,000+\n",
      "EZ Quran : 50,000+\n",
      "FA Part 1 & 2 Past Papers Solved Free – Offline : 5,000+\n",
      "La Fe de Jesus : 1,000+\n",
      "La Fe de Jesús : 500+\n",
      "Le Fe de Jesus : 500+\n",
      "Florida - Pocket Brainbook : 1,000+\n",
      "Florida Statutes (FL Code) : 1,000+\n",
      "English To Shona Dictionary : 10,000+\n",
      "Greek Bible FP (Audio) : 1,000+\n",
      "Golden Dictionary (FR-AR) : 500,000+\n",
      "Fanfic-FR : 5,000+\n",
      "Bulgarian French Dictionary Fr : 10,000+\n",
      "Chemin (fr) : 1,000+\n",
      "The SCP Foundation DB fr nn5n : 1,000+\n"
     ]
    }
   ],
   "source": [
    "for app in free_android_clean:\n",
    "    if app[1] == 'BOOKS_AND_REFERENCE':\n",
    "        print(app[0], ':', app[5])"
   ]
  },
  {
   "cell_type": "markdown",
   "metadata": {},
   "source": [
    "The book and reference genre includes a variety of apps: software for processing and reading ebooks, various collections of libraries, dictionaries, tutorials on programming or languages, etc. It seems there's still a small number of extremely popular apps that skew the average:"
   ]
  },
  {
   "cell_type": "code",
   "execution_count": 72,
   "metadata": {},
   "outputs": [
    {
     "name": "stdout",
     "output_type": "stream",
     "text": [
      "Google Play Books : 1,000,000,000+\n",
      "Bible : 100,000,000+\n",
      "Amazon Kindle : 100,000,000+\n",
      "Wattpad 📖 Free Books : 100,000,000+\n",
      "Audiobooks from Audible : 100,000,000+\n"
     ]
    }
   ],
   "source": [
    "for app in free_android_clean:\n",
    "    if app[1] == 'BOOKS_AND_REFERENCE' and (app[5] == '1,000,000,000+'\n",
    "                                            or app[5] == '500,000,000+'\n",
    "                                            or app[5] == '100,000,000+'):\n",
    "        print(app[0], ':', app[5])"
   ]
  },
  {
   "cell_type": "markdown",
   "metadata": {},
   "source": [
    "However, it looks like there are only a few very popular apps, so this market still shows potential. Let's try to get some app ideas based on the kind of apps that are somewhere in the middle in terms of popularity (between 1,000,000 and 100,000,000 downloads):"
   ]
  },
  {
   "cell_type": "code",
   "execution_count": 73,
   "metadata": {},
   "outputs": [
    {
     "name": "stdout",
     "output_type": "stream",
     "text": [
      "Wikipedia : 10,000,000+\n",
      "Cool Reader : 10,000,000+\n",
      "Book store : 1,000,000+\n",
      "FBReader: Favorite Book Reader : 10,000,000+\n",
      "Free Books - Spirit Fanfiction and Stories : 1,000,000+\n",
      "AlReader -any text book reader : 5,000,000+\n",
      "FamilySearch Tree : 1,000,000+\n",
      "Cloud of Books : 1,000,000+\n",
      "ReadEra – free ebook reader : 1,000,000+\n",
      "Ebook Reader : 5,000,000+\n",
      "Read books online : 5,000,000+\n",
      "eBoox: book reader fb2 epub zip : 1,000,000+\n",
      "All Maths Formulas : 1,000,000+\n",
      "Ancestry : 5,000,000+\n",
      "HTC Help : 10,000,000+\n",
      "Moon+ Reader : 10,000,000+\n",
      "English-Myanmar Dictionary : 1,000,000+\n",
      "Golden Dictionary (EN-AR) : 1,000,000+\n",
      "All Language Translator Free : 1,000,000+\n",
      "Aldiko Book Reader : 10,000,000+\n",
      "Dictionary - WordWeb : 5,000,000+\n",
      "50000 Free eBooks & Free AudioBooks : 5,000,000+\n",
      "Al-Quran (Free) : 10,000,000+\n",
      "Al Quran Indonesia : 10,000,000+\n",
      "Al'Quran Bahasa Indonesia : 10,000,000+\n",
      "Al Quran Al karim : 1,000,000+\n",
      "Al Quran : EAlim - Translations & MP3 Offline : 5,000,000+\n",
      "Koran Read &MP3 30 Juz Offline : 1,000,000+\n",
      "Hafizi Quran 15 lines per page : 1,000,000+\n",
      "Quran for Android : 10,000,000+\n",
      "Satellite AR : 1,000,000+\n",
      "Oxford A-Z of English Usage : 1,000,000+\n",
      "Dictionary.com: Find Definitions for English Words : 10,000,000+\n",
      "English Dictionary - Offline : 10,000,000+\n",
      "Bible KJV : 5,000,000+\n",
      "NOOK: Read eBooks & Magazines : 10,000,000+\n",
      "Brilliant Quotes: Life, Love, Family & Motivation : 1,000,000+\n",
      "Stats Royale for Clash Royale : 1,000,000+\n",
      "Dictionary : 10,000,000+\n",
      "wikiHow: how to do anything : 1,000,000+\n",
      "EGW Writings : 1,000,000+\n",
      "My Little Pony AR Guide : 1,000,000+\n",
      "Spanish English Translator : 10,000,000+\n",
      "Dictionary - Merriam-Webster : 10,000,000+\n",
      "JW Library : 10,000,000+\n",
      "Oxford Dictionary of English : Free : 10,000,000+\n",
      "English Hindi Dictionary : 10,000,000+\n",
      "English to Hindi Dictionary : 5,000,000+\n"
     ]
    }
   ],
   "source": [
    "for app in free_android_clean:\n",
    "    if app[1] == 'BOOKS_AND_REFERENCE' and (app[5] == '1,000,000+'\n",
    "                                            or app[5] == '5,000,000+'\n",
    "                                            or app[5] == '10,000,000+'\n",
    "                                            or app[5] == '50,000,000+'):\n",
    "        print(app[0], ':', app[5])"
   ]
  },
  {
   "cell_type": "markdown",
   "metadata": {},
   "source": [
    "This niche seems to be dominated by software for processing and reading ebooks, as well as various collections of libraries and dictionaries, so it's probably not a good idea to build similar apps since there'll be some significant competition.\n",
    "\n",
    "We also notice there are quite a few apps built around the book Quran, which suggests that building an app around a popular book can be profitable. It seems that taking a popular book (perhaps a more recent book) and turning it into an app could be profitable for both the Google Play and the App Store markets.\n",
    "\n",
    "However, it looks like the market is already full of libraries, so we need to add some special features besides the raw version of the book. This might include daily quotes from the book, an audio version of the book, quizzes on the book, a forum where people can discuss the book, etc.\n",
    "\n",
    "<a href='#0'> back to index</a>\n",
    "* * *\n",
    "## <a id='6'>6. Summary\n",
    "In this project, we analyzed data about the App Store and Google Play mobile apps with the goal of recommending an app profile that can be profitable for both markets.\n",
    "\n",
    "We concluded that taking a popular book (perhaps a more recent book) and turning it into an app could be profitable for both the Google Play and the App Store markets. The markets are already full of libraries, so we need to add some special features besides the raw version of the book. This might include daily quotes from the book, an audio version of the book, quizzes on the book, a forum where people can discuss the book, etc."
   ]
  }
 ],
 "metadata": {
  "kernelspec": {
   "display_name": "Python 3",
   "language": "python",
   "name": "python3"
  },
  "language_info": {
   "codemirror_mode": {
    "name": "ipython",
    "version": 3
   },
   "file_extension": ".py",
   "mimetype": "text/x-python",
   "name": "python",
   "nbconvert_exporter": "python",
   "pygments_lexer": "ipython3",
   "version": "3.8.2"
  }
 },
 "nbformat": 4,
 "nbformat_minor": 2
}
